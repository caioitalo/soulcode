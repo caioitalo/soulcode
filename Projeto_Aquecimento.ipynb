{
  "nbformat": 4,
  "nbformat_minor": 0,
  "metadata": {
    "colab": {
      "provenance": [],
      "include_colab_link": true
    },
    "kernelspec": {
      "name": "python3",
      "display_name": "Python 3"
    },
    "language_info": {
      "name": "python"
    }
  },
  "cells": [
    {
      "cell_type": "markdown",
      "metadata": {
        "id": "view-in-github",
        "colab_type": "text"
      },
      "source": [
        "<a href=\"https://colab.research.google.com/github/caioitalo/soulcode/blob/main/Projeto_Aquecimento.ipynb\" target=\"_parent\"><img src=\"https://colab.research.google.com/assets/colab-badge.svg\" alt=\"Open In Colab\"/></a>"
      ]
    },
    {
      "cell_type": "markdown",
      "source": [
        "# EXTRAÇÃO DOS DADOS\n"
      ],
      "metadata": {
        "id": "b_qT1vq0xrd5"
      }
    },
    {
      "cell_type": "markdown",
      "source": [
        "## Importação das bibliotecas e do conector do mongo"
      ],
      "metadata": {
        "id": "gawDBcvQDFYQ"
      }
    },
    {
      "cell_type": "code",
      "source": [
        "import pandas as pd\n",
        "import numpy as np\n",
        "import pymongo\n",
        "from pymongo import MongoClient"
      ],
      "metadata": {
        "id": "iTGK-ICl-08G"
      },
      "execution_count": null,
      "outputs": []
    },
    {
      "cell_type": "code",
      "source": [
        "\n",
        "uri = \"mongodb+srv://caio-soulcode.o09ab0z.mongodb.net/?authSource=%24external&authMechanism=MONGODB-X509&retryWrites=true&w=majority\"\n",
        "client = MongoClient(uri,\n",
        "                     tls=True,\n",
        "                     tlsCertificateKeyFile='/content/X509-cert-1702224064282282452.pem')\n",
        "\n",
        "db = client['proj_aquec']\n",
        "colecao1 = db['202201_orig']\n",
        "colecao2 = db['202204_orig']\n",
        "colecao3 = db['202210_orig']\n",
        "doc_count = colecao1.count_documents({})\n",
        "print(doc_count)\n"
      ],
      "metadata": {
        "colab": {
          "base_uri": "https://localhost:8080/"
        },
        "id": "ROVbkCRXDMIn",
        "outputId": "048198f0-e1d5-448b-be2e-b92e9124ac24"
      },
      "execution_count": null,
      "outputs": [
        {
          "output_type": "stream",
          "name": "stdout",
          "text": [
            "152140\n"
          ]
        }
      ]
    },
    {
      "cell_type": "code",
      "source": [
        "df1orig = pd.read_csv('/content/D.SDA.PDA.005.CAT.202201orig.csv',sep=';',encoding='ISO-8859-1')\n",
        "df2orig = pd.read_csv('/content/D.SDA.PDA.005.CAT.202204orig.csv',sep=';',encoding='ISO-8859-1')\n",
        "df3orig = pd.read_csv('/content/D.SDA.PDA.005.CAT.202210orig.csv',sep=';',encoding='ISO-8859-1')"
      ],
      "metadata": {
        "id": "NTCtrSdELXNh"
      },
      "execution_count": null,
      "outputs": []
    },
    {
      "cell_type": "code",
      "source": [
        "df1orig_dict = df1orig.to_dict('records')\n",
        "df2orig_dict = df2orig.to_dict('records')\n",
        "df3orig_dict = df3orig.to_dict('records')\n"
      ],
      "metadata": {
        "id": "cJLp0WXEBv4j"
      },
      "execution_count": null,
      "outputs": []
    },
    {
      "cell_type": "code",
      "source": [
        "df2orig.dtypes"
      ],
      "metadata": {
        "colab": {
          "base_uri": "https://localhost:8080/"
        },
        "id": "EeJu8H1KgYvV",
        "outputId": "732f6c98-43db-4a86-f425-946c827f14c5"
      },
      "execution_count": null,
      "outputs": [
        {
          "output_type": "execute_result",
          "data": {
            "text/plain": [
              "Agente  Causador  Acidente     object\n",
              "Data Acidente                  object\n",
              "CBO                            object\n",
              "CID-10                         object\n",
              "CNAE2.0 Empregador              int64\n",
              "CNAE2.0 Empregador.1           object\n",
              "Emitente CAT                   object\n",
              "Espécie do benefício           object\n",
              "Filiação Segurado              object\n",
              "Indica Óbito Acidente          object\n",
              "Munic Empr                     object\n",
              "Natureza da Lesão              object\n",
              "Origem de Cadastramento CAT    object\n",
              "Parte Corpo Atingida           object\n",
              "Sexo                           object\n",
              "Tipo do Acidente               object\n",
              "UF  Munic.  Acidente           object\n",
              "UF Munic. Empregador           object\n",
              "Data Acidente.1                object\n",
              "Data Despacho Benefício        object\n",
              "Data Acidente.2                object\n",
              "Data Nascimento                object\n",
              "Data Emissão CAT               object\n",
              "CNPJ/CEI Empregador            object\n",
              "dtype: object"
            ]
          },
          "metadata": {},
          "execution_count": 168
        }
      ]
    },
    {
      "cell_type": "code",
      "source": [
        "# Houve um erro no momento de inserir os dados no mongoDB, foi checada cada coluna de cada DF para achar alguma inconsistência impeditiva \n",
        "# Incons.: Indica Óbito Acidente ('{ñ') - a falta do fechamento das chaves pode estar gerando problema na geração dos documentos no mongoDB\n",
        "# Origem de Cadastramento CAT ('{ñ class') - mesma justif.\n",
        "\n",
        "sorted(df3orig['Data Nascimento'].unique())"
      ],
      "metadata": {
        "id": "I41WMzbJgFLI"
      },
      "execution_count": null,
      "outputs": []
    },
    {
      "cell_type": "code",
      "source": [
        "# foi dado um replace em todos os dfs com tais inconsistências\n",
        "#df1orig.replace(['{','}'],'', regex=True, inplace=True)\n",
        "df2orig.replace(['{','}'],'', regex=True, inplace=True)\n",
        "#df3orig.replace(['{','}'],'', regex=True, inplace=True)"
      ],
      "metadata": {
        "id": "08OMEAFvkaqM"
      },
      "execution_count": 179,
      "outputs": []
    },
    {
      "cell_type": "code",
      "source": [
        "# Carregamento para o MongoDB para ser posto em disponibilidade\n",
        "#colecao1.insert_many(df1orig_dict)\n",
        "colecao2.insert_many(df2orig_dict)\n",
        "#colecao3.insert_many(df3orig_dict)\n",
        "\n",
        "colecao1.count_documents({})"
      ],
      "metadata": {
        "id": "7LF0bb4CKGdA",
        "colab": {
          "base_uri": "https://localhost:8080/",
          "height": 536
        },
        "outputId": "975626c8-1278-4d93-ed5f-a51e104d637a"
      },
      "execution_count": 180,
      "outputs": [
        {
          "output_type": "error",
          "ename": "BulkWriteError",
          "evalue": "ignored",
          "traceback": [
            "\u001b[0;31m---------------------------------------------------------------------------\u001b[0m",
            "\u001b[0;31mBulkWriteError\u001b[0m                            Traceback (most recent call last)",
            "\u001b[0;32m<ipython-input-180-42bc9ce55421>\u001b[0m in \u001b[0;36m<module>\u001b[0;34m\u001b[0m\n\u001b[1;32m      1\u001b[0m \u001b[0;31m# Carregamento para o MongoDB para ser posto em disponibilidade\u001b[0m\u001b[0;34m\u001b[0m\u001b[0;34m\u001b[0m\u001b[0;34m\u001b[0m\u001b[0m\n\u001b[1;32m      2\u001b[0m \u001b[0;31m#colecao1.insert_many(df1orig_dict)\u001b[0m\u001b[0;34m\u001b[0m\u001b[0;34m\u001b[0m\u001b[0;34m\u001b[0m\u001b[0m\n\u001b[0;32m----> 3\u001b[0;31m \u001b[0mcolecao2\u001b[0m\u001b[0;34m.\u001b[0m\u001b[0minsert_many\u001b[0m\u001b[0;34m(\u001b[0m\u001b[0mdf2orig_dict\u001b[0m\u001b[0;34m)\u001b[0m\u001b[0;34m\u001b[0m\u001b[0;34m\u001b[0m\u001b[0m\n\u001b[0m\u001b[1;32m      4\u001b[0m \u001b[0;31m#colecao3.insert_many(df3orig_dict)\u001b[0m\u001b[0;34m\u001b[0m\u001b[0;34m\u001b[0m\u001b[0;34m\u001b[0m\u001b[0m\n\u001b[1;32m      5\u001b[0m \u001b[0;34m\u001b[0m\u001b[0m\n",
            "\u001b[0;32m/usr/local/lib/python3.8/dist-packages/pymongo/_csot.py\u001b[0m in \u001b[0;36mcsot_wrapper\u001b[0;34m(self, *args, **kwargs)\u001b[0m\n\u001b[1;32m    103\u001b[0m                 \u001b[0;32mwith\u001b[0m \u001b[0m_TimeoutContext\u001b[0m\u001b[0;34m(\u001b[0m\u001b[0mtimeout\u001b[0m\u001b[0;34m)\u001b[0m\u001b[0;34m:\u001b[0m\u001b[0;34m\u001b[0m\u001b[0;34m\u001b[0m\u001b[0m\n\u001b[1;32m    104\u001b[0m                     \u001b[0;32mreturn\u001b[0m \u001b[0mfunc\u001b[0m\u001b[0;34m(\u001b[0m\u001b[0mself\u001b[0m\u001b[0;34m,\u001b[0m \u001b[0;34m*\u001b[0m\u001b[0margs\u001b[0m\u001b[0;34m,\u001b[0m \u001b[0;34m**\u001b[0m\u001b[0mkwargs\u001b[0m\u001b[0;34m)\u001b[0m\u001b[0;34m\u001b[0m\u001b[0;34m\u001b[0m\u001b[0m\n\u001b[0;32m--> 105\u001b[0;31m         \u001b[0;32mreturn\u001b[0m \u001b[0mfunc\u001b[0m\u001b[0;34m(\u001b[0m\u001b[0mself\u001b[0m\u001b[0;34m,\u001b[0m \u001b[0;34m*\u001b[0m\u001b[0margs\u001b[0m\u001b[0;34m,\u001b[0m \u001b[0;34m**\u001b[0m\u001b[0mkwargs\u001b[0m\u001b[0;34m)\u001b[0m\u001b[0;34m\u001b[0m\u001b[0;34m\u001b[0m\u001b[0m\n\u001b[0m\u001b[1;32m    106\u001b[0m \u001b[0;34m\u001b[0m\u001b[0m\n\u001b[1;32m    107\u001b[0m     \u001b[0;32mreturn\u001b[0m \u001b[0mcast\u001b[0m\u001b[0;34m(\u001b[0m\u001b[0mF\u001b[0m\u001b[0;34m,\u001b[0m \u001b[0mcsot_wrapper\u001b[0m\u001b[0;34m)\u001b[0m\u001b[0;34m\u001b[0m\u001b[0;34m\u001b[0m\u001b[0m\n",
            "\u001b[0;32m/usr/local/lib/python3.8/dist-packages/pymongo/collection.py\u001b[0m in \u001b[0;36minsert_many\u001b[0;34m(self, documents, ordered, bypass_document_validation, session, comment)\u001b[0m\n\u001b[1;32m    712\u001b[0m         \u001b[0mblk\u001b[0m \u001b[0;34m=\u001b[0m \u001b[0m_Bulk\u001b[0m\u001b[0;34m(\u001b[0m\u001b[0mself\u001b[0m\u001b[0;34m,\u001b[0m \u001b[0mordered\u001b[0m\u001b[0;34m,\u001b[0m \u001b[0mbypass_document_validation\u001b[0m\u001b[0;34m,\u001b[0m \u001b[0mcomment\u001b[0m\u001b[0;34m=\u001b[0m\u001b[0mcomment\u001b[0m\u001b[0;34m)\u001b[0m\u001b[0;34m\u001b[0m\u001b[0;34m\u001b[0m\u001b[0m\n\u001b[1;32m    713\u001b[0m         \u001b[0mblk\u001b[0m\u001b[0;34m.\u001b[0m\u001b[0mops\u001b[0m \u001b[0;34m=\u001b[0m \u001b[0;34m[\u001b[0m\u001b[0mdoc\u001b[0m \u001b[0;32mfor\u001b[0m \u001b[0mdoc\u001b[0m \u001b[0;32min\u001b[0m \u001b[0mgen\u001b[0m\u001b[0;34m(\u001b[0m\u001b[0;34m)\u001b[0m\u001b[0;34m]\u001b[0m\u001b[0;34m\u001b[0m\u001b[0;34m\u001b[0m\u001b[0m\n\u001b[0;32m--> 714\u001b[0;31m         \u001b[0mblk\u001b[0m\u001b[0;34m.\u001b[0m\u001b[0mexecute\u001b[0m\u001b[0;34m(\u001b[0m\u001b[0mwrite_concern\u001b[0m\u001b[0;34m,\u001b[0m \u001b[0msession\u001b[0m\u001b[0;34m=\u001b[0m\u001b[0msession\u001b[0m\u001b[0;34m)\u001b[0m\u001b[0;34m\u001b[0m\u001b[0;34m\u001b[0m\u001b[0m\n\u001b[0m\u001b[1;32m    715\u001b[0m         \u001b[0;32mreturn\u001b[0m \u001b[0mInsertManyResult\u001b[0m\u001b[0;34m(\u001b[0m\u001b[0minserted_ids\u001b[0m\u001b[0;34m,\u001b[0m \u001b[0mwrite_concern\u001b[0m\u001b[0;34m.\u001b[0m\u001b[0macknowledged\u001b[0m\u001b[0;34m)\u001b[0m\u001b[0;34m\u001b[0m\u001b[0;34m\u001b[0m\u001b[0m\n\u001b[1;32m    716\u001b[0m \u001b[0;34m\u001b[0m\u001b[0m\n",
            "\u001b[0;32m/usr/local/lib/python3.8/dist-packages/pymongo/bulk.py\u001b[0m in \u001b[0;36mexecute\u001b[0;34m(self, write_concern, session)\u001b[0m\n\u001b[1;32m    511\u001b[0m                 \u001b[0mself\u001b[0m\u001b[0;34m.\u001b[0m\u001b[0mexecute_no_results\u001b[0m\u001b[0;34m(\u001b[0m\u001b[0msock_info\u001b[0m\u001b[0;34m,\u001b[0m \u001b[0mgenerator\u001b[0m\u001b[0;34m,\u001b[0m \u001b[0mwrite_concern\u001b[0m\u001b[0;34m)\u001b[0m\u001b[0;34m\u001b[0m\u001b[0;34m\u001b[0m\u001b[0m\n\u001b[1;32m    512\u001b[0m         \u001b[0;32melse\u001b[0m\u001b[0;34m:\u001b[0m\u001b[0;34m\u001b[0m\u001b[0;34m\u001b[0m\u001b[0m\n\u001b[0;32m--> 513\u001b[0;31m             \u001b[0;32mreturn\u001b[0m \u001b[0mself\u001b[0m\u001b[0;34m.\u001b[0m\u001b[0mexecute_command\u001b[0m\u001b[0;34m(\u001b[0m\u001b[0mgenerator\u001b[0m\u001b[0;34m,\u001b[0m \u001b[0mwrite_concern\u001b[0m\u001b[0;34m,\u001b[0m \u001b[0msession\u001b[0m\u001b[0;34m)\u001b[0m\u001b[0;34m\u001b[0m\u001b[0;34m\u001b[0m\u001b[0m\n\u001b[0m",
            "\u001b[0;32m/usr/local/lib/python3.8/dist-packages/pymongo/bulk.py\u001b[0m in \u001b[0;36mexecute_command\u001b[0;34m(self, generator, write_concern, session)\u001b[0m\n\u001b[1;32m    392\u001b[0m \u001b[0;34m\u001b[0m\u001b[0m\n\u001b[1;32m    393\u001b[0m         \u001b[0;32mif\u001b[0m \u001b[0mfull_result\u001b[0m\u001b[0;34m[\u001b[0m\u001b[0;34m\"writeErrors\"\u001b[0m\u001b[0;34m]\u001b[0m \u001b[0;32mor\u001b[0m \u001b[0mfull_result\u001b[0m\u001b[0;34m[\u001b[0m\u001b[0;34m\"writeConcernErrors\"\u001b[0m\u001b[0;34m]\u001b[0m\u001b[0;34m:\u001b[0m\u001b[0;34m\u001b[0m\u001b[0;34m\u001b[0m\u001b[0m\n\u001b[0;32m--> 394\u001b[0;31m             \u001b[0m_raise_bulk_write_error\u001b[0m\u001b[0;34m(\u001b[0m\u001b[0mfull_result\u001b[0m\u001b[0;34m)\u001b[0m\u001b[0;34m\u001b[0m\u001b[0;34m\u001b[0m\u001b[0m\n\u001b[0m\u001b[1;32m    395\u001b[0m         \u001b[0;32mreturn\u001b[0m \u001b[0mfull_result\u001b[0m\u001b[0;34m\u001b[0m\u001b[0;34m\u001b[0m\u001b[0m\n\u001b[1;32m    396\u001b[0m \u001b[0;34m\u001b[0m\u001b[0m\n",
            "\u001b[0;32m/usr/local/lib/python3.8/dist-packages/pymongo/bulk.py\u001b[0m in \u001b[0;36m_raise_bulk_write_error\u001b[0;34m(full_result)\u001b[0m\n\u001b[1;32m    134\u001b[0m     \u001b[0;32mif\u001b[0m \u001b[0mfull_result\u001b[0m\u001b[0;34m[\u001b[0m\u001b[0;34m\"writeErrors\"\u001b[0m\u001b[0;34m]\u001b[0m\u001b[0;34m:\u001b[0m\u001b[0;34m\u001b[0m\u001b[0;34m\u001b[0m\u001b[0m\n\u001b[1;32m    135\u001b[0m         \u001b[0mfull_result\u001b[0m\u001b[0;34m[\u001b[0m\u001b[0;34m\"writeErrors\"\u001b[0m\u001b[0;34m]\u001b[0m\u001b[0;34m.\u001b[0m\u001b[0msort\u001b[0m\u001b[0;34m(\u001b[0m\u001b[0mkey\u001b[0m\u001b[0;34m=\u001b[0m\u001b[0;32mlambda\u001b[0m \u001b[0merror\u001b[0m\u001b[0;34m:\u001b[0m \u001b[0merror\u001b[0m\u001b[0;34m[\u001b[0m\u001b[0;34m\"index\"\u001b[0m\u001b[0;34m]\u001b[0m\u001b[0;34m)\u001b[0m\u001b[0;34m\u001b[0m\u001b[0;34m\u001b[0m\u001b[0m\n\u001b[0;32m--> 136\u001b[0;31m     \u001b[0;32mraise\u001b[0m \u001b[0mBulkWriteError\u001b[0m\u001b[0;34m(\u001b[0m\u001b[0mfull_result\u001b[0m\u001b[0;34m)\u001b[0m\u001b[0;34m\u001b[0m\u001b[0;34m\u001b[0m\u001b[0m\n\u001b[0m\u001b[1;32m    137\u001b[0m \u001b[0;34m\u001b[0m\u001b[0m\n\u001b[1;32m    138\u001b[0m \u001b[0;34m\u001b[0m\u001b[0m\n",
            "\u001b[0;31mBulkWriteError\u001b[0m: batch op errors occurred, full error: {'writeErrors': [{'index': 0, 'code': 11000, 'keyPattern': {'_id': 1}, 'keyValue': {'_id': ObjectId('639b5072e643e4ba90cb184f')}, 'errmsg': \"E11000 duplicate key error collection: proj_aquec.202204_orig index: _id_ dup key: { _id: ObjectId('639b5072e643e4ba90cb184f') }\", 'op': {'Agente  Causador  Acidente': '{ñ class}                                    ', 'Data Acidente': '2022/05', 'CBO': '322205-Tec. de Enfermagem                    ', 'CID-10': 'Y28.2 Escolas Outr Instit Areas Admin Publica', 'CNAE2.0 Empregador': 8630, 'CNAE2.0 Empregador.1': 'Atividades de Atencao Ambulatorial Executadas', 'Emitente CAT': 'Empregador         ', 'Espécie do benefício': 'Pa                                           ', 'Filiação Segurado': 'Empregado                                    ', 'Indica Óbito Acidente': 'Não', 'Munic Empr': '354780-Santo André-Sp                    ', 'Natureza da Lesão': 'Lesao Imediata                               ', 'Origem de Cadastramento CAT': 'Internet', 'Parte Corpo Atingida': 'Dedo                                         ', 'Sexo': 'Masculino    ', 'Tipo do Acidente': 'Típico  ', 'UF  Munic.  Acidente': 'Maranhão        ', 'UF Munic. Empregador': 'São Paulo          ', 'Data Acidente.1': '2022/05', 'Data Despacho Benefício': '0000/00', 'Data Acidente.2': '26/05/2022', 'Data Nascimento': '13/11/1989', 'Data Emissão CAT': '01/06/2022', 'CNPJ/CEI Empregador': '57.571.275.002.570', '_id': Obj..."
          ]
        }
      ]
    },
    {
      "cell_type": "markdown",
      "source": [
        "## Enviando o arquivo para o Cloud Storage"
      ],
      "metadata": {
        "id": "-zDS82fENl9f"
      }
    },
    {
      "cell_type": "code",
      "source": [
        "#importação das bibliotecas da cloud storage\n",
        "!pip install gcsfs"
      ],
      "metadata": {
        "id": "zElvh6MnJ5Rq"
      },
      "execution_count": null,
      "outputs": []
    },
    {
      "cell_type": "code",
      "source": [
        "# Realizando a configuração da conta utilizando a chave json\n",
        "from google.cloud import storage\n",
        "import os\n",
        "\n",
        "serviceAccount = '/content/bold-origin-366512-48dc9e027646.json'\n",
        "os.environ['GOOGLE_APPLICATION_CREDENTIALS'] = serviceAccount\n"
      ],
      "metadata": {
        "id": "PEjHVgNpOcxz"
      },
      "execution_count": null,
      "outputs": []
    },
    {
      "cell_type": "code",
      "source": [
        "# Acessando o bucket, e inserindo os arquivos\n",
        "cliente = storage.Client()\n",
        "bucket = cliente.get_bucket('projeto-aquecimento15-12')\n",
        "blob = bucket.blob('D.SDA.PDA.005.CAT.202201orig.csv')\n",
        "blob.upload_from_filename('/content/D.SDA.PDA.005.CAT.202201orig.csv')"
      ],
      "metadata": {
        "id": "4tHQFfyoPikJ"
      },
      "execution_count": null,
      "outputs": []
    },
    {
      "cell_type": "code",
      "source": [
        "cliente = storage.Client()\n",
        "bucket = cliente.get_bucket('projeto-aquecimento15-12')\n",
        "blob = bucket.blob('D.SDA.PDA.005.CAT.202204orig.csv')\n",
        "blob.upload_from_filename('/content/D.SDA.PDA.005.CAT.202204orig.csv')"
      ],
      "metadata": {
        "id": "sMXXkolGS2Kt"
      },
      "execution_count": null,
      "outputs": []
    },
    {
      "cell_type": "code",
      "source": [
        "cliente = storage.Client()\n",
        "bucket = cliente.get_bucket('projeto-aquecimento15-12')\n",
        "blob = bucket.blob('D.SDA.PDA.005.CAT.202210orig.csv')\n",
        "blob.upload_from_filename('/content/D.SDA.PDA.005.CAT.202210orig.csv')"
      ],
      "metadata": {
        "id": "S6oi12EYS7BT"
      },
      "execution_count": null,
      "outputs": []
    },
    {
      "cell_type": "markdown",
      "source": [
        "# CARREGAMENTO INICIAL DOS DADOS"
      ],
      "metadata": {
        "id": "gaKfNxz1xvvs"
      }
    },
    {
      "cell_type": "markdown",
      "source": [
        "Agora com os arquivos com disponibilidade em nuvem (GCP e MongoDB), serão carregados para transformação"
      ],
      "metadata": {
        "id": "V2S5jEpTvaPw"
      }
    },
    {
      "cell_type": "code",
      "source": [
        "# Carregando os DBs e os transformando em DFs do Pandas\n",
        "df = pd.read_csv('https://storage.googleapis.com/projeto-aquecimento15-12/D.SDA.PDA.005.CAT.202201orig.csv',sep=';',encoding = 'ISO-8859-1')\n",
        "df20 = pd.read_csv('https://storage.googleapis.com/projeto-aquecimento15-12/D.SDA.PDA.005.CAT.202204orig.csv',sep=';',encoding = 'ISO-8859-1')\n",
        "df30 = pd.read_csv('https://storage.googleapis.com/projeto-aquecimento15-12/D.SDA.PDA.005.CAT.202210orig.csv',sep=';',encoding = 'ISO-8859-1')"
      ],
      "metadata": {
        "id": "q0gsCwDqx5XH"
      },
      "execution_count": 197,
      "outputs": []
    },
    {
      "cell_type": "code",
      "source": [
        "# gerando um backup\n",
        "dfback = df.copy()\n",
        "df20back = df20.copy()\n",
        "df30back = df30.copy()"
      ],
      "metadata": {
        "id": "hC6WIqGVwj1w"
      },
      "execution_count": 198,
      "outputs": []
    },
    {
      "cell_type": "markdown",
      "source": [
        "#TRANSFORMAÇÃO COM PANDAS"
      ],
      "metadata": {
        "id": "YdJmQyC0x6Yz"
      }
    },
    {
      "cell_type": "markdown",
      "source": [
        "## Análises primárias do DF1"
      ],
      "metadata": {
        "id": "UeVS1W6o34Au"
      }
    },
    {
      "cell_type": "code",
      "source": [
        "df.head(2)"
      ],
      "metadata": {
        "id": "nWFlyVUTyABE",
        "colab": {
          "base_uri": "https://localhost:8080/",
          "height": 379
        },
        "outputId": "1c693338-c2d0-4de7-9ea5-ea1c83bd454f"
      },
      "execution_count": 211,
      "outputs": [
        {
          "output_type": "execute_result",
          "data": {
            "text/plain": [
              "                      Agente  Causador  Acidente  \\\n",
              "0  {ñ class}                                       \n",
              "1  Motocicleta, Motoneta                           \n",
              "\n",
              "                                             CBO  \\\n",
              "0  515105-Agente Comunitário de Saúde              \n",
              "1  519110-Motociclista no Transporte de Document   \n",
              "\n",
              "                                          CID-10  CNAE2.0 Empregador  \\\n",
              "0  B34.2 Infecc p/Coronavirus Ne                                8630   \n",
              "1  S52.5 Frat da Extremidade Distal do Radio                    4930   \n",
              "\n",
              "                            CNAE2.0 Empregador.1         Emitente CAT  \\\n",
              "0  Atividades de Atencao Ambulatorial Executadas  Empregador            \n",
              "1  Transporte Rodoviario de Carga                 Segurado/Dependente   \n",
              "\n",
              "                            Espécie do benefício  \\\n",
              "0  Pa                                              \n",
              "1  Pa                                              \n",
              "\n",
              "                               Filiação Segurado Indica Óbito Acidente  \\\n",
              "0  Empregado                                                       Não   \n",
              "1  Empregado                                                       Não   \n",
              "\n",
              "                                  Munic Empr  ...           Sexo  \\\n",
              "0  354780-Santo André-Sp                      ...  Feminino        \n",
              "1  355030-São Paulo                           ...  Masculino       \n",
              "\n",
              "  Tipo do Acidente UF  Munic.  Acidente UF Munic. Empregador Data Acidente.1  \\\n",
              "0         Doença       Maranhão          São Paulo                   2022/01   \n",
              "1         Trajeto      Maranhão          São Paulo                   2022/02   \n",
              "\n",
              "  Data Despacho Benefício Data Acidente.2 Data Nascimento Data Emissão CAT  \\\n",
              "0                 0000/00      20/01/2022      02/08/1970       01/03/2022   \n",
              "1                 0000/00      25/02/2022      16/12/1990       01/03/2022   \n",
              "\n",
              "  CNPJ/CEI Empregador  \n",
              "0  57.571.275.002.570  \n",
              "1  19.578.086.000.162  \n",
              "\n",
              "[2 rows x 23 columns]"
            ],
            "text/html": [
              "\n",
              "  <div id=\"df-ef2b4ba1-1a4b-4ef5-8813-23fcd829b7c1\">\n",
              "    <div class=\"colab-df-container\">\n",
              "      <div>\n",
              "<style scoped>\n",
              "    .dataframe tbody tr th:only-of-type {\n",
              "        vertical-align: middle;\n",
              "    }\n",
              "\n",
              "    .dataframe tbody tr th {\n",
              "        vertical-align: top;\n",
              "    }\n",
              "\n",
              "    .dataframe thead th {\n",
              "        text-align: right;\n",
              "    }\n",
              "</style>\n",
              "<table border=\"1\" class=\"dataframe\">\n",
              "  <thead>\n",
              "    <tr style=\"text-align: right;\">\n",
              "      <th></th>\n",
              "      <th>Agente  Causador  Acidente</th>\n",
              "      <th>CBO</th>\n",
              "      <th>CID-10</th>\n",
              "      <th>CNAE2.0 Empregador</th>\n",
              "      <th>CNAE2.0 Empregador.1</th>\n",
              "      <th>Emitente CAT</th>\n",
              "      <th>Espécie do benefício</th>\n",
              "      <th>Filiação Segurado</th>\n",
              "      <th>Indica Óbito Acidente</th>\n",
              "      <th>Munic Empr</th>\n",
              "      <th>...</th>\n",
              "      <th>Sexo</th>\n",
              "      <th>Tipo do Acidente</th>\n",
              "      <th>UF  Munic.  Acidente</th>\n",
              "      <th>UF Munic. Empregador</th>\n",
              "      <th>Data Acidente.1</th>\n",
              "      <th>Data Despacho Benefício</th>\n",
              "      <th>Data Acidente.2</th>\n",
              "      <th>Data Nascimento</th>\n",
              "      <th>Data Emissão CAT</th>\n",
              "      <th>CNPJ/CEI Empregador</th>\n",
              "    </tr>\n",
              "  </thead>\n",
              "  <tbody>\n",
              "    <tr>\n",
              "      <th>0</th>\n",
              "      <td>{ñ class}</td>\n",
              "      <td>515105-Agente Comunitário de Saúde</td>\n",
              "      <td>B34.2 Infecc p/Coronavirus Ne</td>\n",
              "      <td>8630</td>\n",
              "      <td>Atividades de Atencao Ambulatorial Executadas</td>\n",
              "      <td>Empregador</td>\n",
              "      <td>Pa</td>\n",
              "      <td>Empregado</td>\n",
              "      <td>Não</td>\n",
              "      <td>354780-Santo André-Sp</td>\n",
              "      <td>...</td>\n",
              "      <td>Feminino</td>\n",
              "      <td>Doença</td>\n",
              "      <td>Maranhão</td>\n",
              "      <td>São Paulo</td>\n",
              "      <td>2022/01</td>\n",
              "      <td>0000/00</td>\n",
              "      <td>20/01/2022</td>\n",
              "      <td>02/08/1970</td>\n",
              "      <td>01/03/2022</td>\n",
              "      <td>57.571.275.002.570</td>\n",
              "    </tr>\n",
              "    <tr>\n",
              "      <th>1</th>\n",
              "      <td>Motocicleta, Motoneta</td>\n",
              "      <td>519110-Motociclista no Transporte de Document</td>\n",
              "      <td>S52.5 Frat da Extremidade Distal do Radio</td>\n",
              "      <td>4930</td>\n",
              "      <td>Transporte Rodoviario de Carga</td>\n",
              "      <td>Segurado/Dependente</td>\n",
              "      <td>Pa</td>\n",
              "      <td>Empregado</td>\n",
              "      <td>Não</td>\n",
              "      <td>355030-São Paulo</td>\n",
              "      <td>...</td>\n",
              "      <td>Masculino</td>\n",
              "      <td>Trajeto</td>\n",
              "      <td>Maranhão</td>\n",
              "      <td>São Paulo</td>\n",
              "      <td>2022/02</td>\n",
              "      <td>0000/00</td>\n",
              "      <td>25/02/2022</td>\n",
              "      <td>16/12/1990</td>\n",
              "      <td>01/03/2022</td>\n",
              "      <td>19.578.086.000.162</td>\n",
              "    </tr>\n",
              "  </tbody>\n",
              "</table>\n",
              "<p>2 rows × 23 columns</p>\n",
              "</div>\n",
              "      <button class=\"colab-df-convert\" onclick=\"convertToInteractive('df-ef2b4ba1-1a4b-4ef5-8813-23fcd829b7c1')\"\n",
              "              title=\"Convert this dataframe to an interactive table.\"\n",
              "              style=\"display:none;\">\n",
              "        \n",
              "  <svg xmlns=\"http://www.w3.org/2000/svg\" height=\"24px\"viewBox=\"0 0 24 24\"\n",
              "       width=\"24px\">\n",
              "    <path d=\"M0 0h24v24H0V0z\" fill=\"none\"/>\n",
              "    <path d=\"M18.56 5.44l.94 2.06.94-2.06 2.06-.94-2.06-.94-.94-2.06-.94 2.06-2.06.94zm-11 1L8.5 8.5l.94-2.06 2.06-.94-2.06-.94L8.5 2.5l-.94 2.06-2.06.94zm10 10l.94 2.06.94-2.06 2.06-.94-2.06-.94-.94-2.06-.94 2.06-2.06.94z\"/><path d=\"M17.41 7.96l-1.37-1.37c-.4-.4-.92-.59-1.43-.59-.52 0-1.04.2-1.43.59L10.3 9.45l-7.72 7.72c-.78.78-.78 2.05 0 2.83L4 21.41c.39.39.9.59 1.41.59.51 0 1.02-.2 1.41-.59l7.78-7.78 2.81-2.81c.8-.78.8-2.07 0-2.86zM5.41 20L4 18.59l7.72-7.72 1.47 1.35L5.41 20z\"/>\n",
              "  </svg>\n",
              "      </button>\n",
              "      \n",
              "  <style>\n",
              "    .colab-df-container {\n",
              "      display:flex;\n",
              "      flex-wrap:wrap;\n",
              "      gap: 12px;\n",
              "    }\n",
              "\n",
              "    .colab-df-convert {\n",
              "      background-color: #E8F0FE;\n",
              "      border: none;\n",
              "      border-radius: 50%;\n",
              "      cursor: pointer;\n",
              "      display: none;\n",
              "      fill: #1967D2;\n",
              "      height: 32px;\n",
              "      padding: 0 0 0 0;\n",
              "      width: 32px;\n",
              "    }\n",
              "\n",
              "    .colab-df-convert:hover {\n",
              "      background-color: #E2EBFA;\n",
              "      box-shadow: 0px 1px 2px rgba(60, 64, 67, 0.3), 0px 1px 3px 1px rgba(60, 64, 67, 0.15);\n",
              "      fill: #174EA6;\n",
              "    }\n",
              "\n",
              "    [theme=dark] .colab-df-convert {\n",
              "      background-color: #3B4455;\n",
              "      fill: #D2E3FC;\n",
              "    }\n",
              "\n",
              "    [theme=dark] .colab-df-convert:hover {\n",
              "      background-color: #434B5C;\n",
              "      box-shadow: 0px 1px 3px 1px rgba(0, 0, 0, 0.15);\n",
              "      filter: drop-shadow(0px 1px 2px rgba(0, 0, 0, 0.3));\n",
              "      fill: #FFFFFF;\n",
              "    }\n",
              "  </style>\n",
              "\n",
              "      <script>\n",
              "        const buttonEl =\n",
              "          document.querySelector('#df-ef2b4ba1-1a4b-4ef5-8813-23fcd829b7c1 button.colab-df-convert');\n",
              "        buttonEl.style.display =\n",
              "          google.colab.kernel.accessAllowed ? 'block' : 'none';\n",
              "\n",
              "        async function convertToInteractive(key) {\n",
              "          const element = document.querySelector('#df-ef2b4ba1-1a4b-4ef5-8813-23fcd829b7c1');\n",
              "          const dataTable =\n",
              "            await google.colab.kernel.invokeFunction('convertToInteractive',\n",
              "                                                     [key], {});\n",
              "          if (!dataTable) return;\n",
              "\n",
              "          const docLinkHtml = 'Like what you see? Visit the ' +\n",
              "            '<a target=\"_blank\" href=https://colab.research.google.com/notebooks/data_table.ipynb>data table notebook</a>'\n",
              "            + ' to learn more about interactive tables.';\n",
              "          element.innerHTML = '';\n",
              "          dataTable['output_type'] = 'display_data';\n",
              "          await google.colab.output.renderOutput(dataTable, element);\n",
              "          const docLink = document.createElement('div');\n",
              "          docLink.innerHTML = docLinkHtml;\n",
              "          element.appendChild(docLink);\n",
              "        }\n",
              "      </script>\n",
              "    </div>\n",
              "  </div>\n",
              "  "
            ]
          },
          "metadata": {},
          "execution_count": 211
        }
      ]
    },
    {
      "cell_type": "code",
      "source": [
        "df['Origem de Cadastramento CAT'].unique()"
      ],
      "metadata": {
        "colab": {
          "base_uri": "https://localhost:8080/"
        },
        "id": "pVJnsi6O_7pA",
        "outputId": "e02c0e6f-2328-42b3-8f9d-352b56ae5d45"
      },
      "execution_count": 214,
      "outputs": [
        {
          "output_type": "execute_result",
          "data": {
            "text/plain": [
              "array(['Internet', '{ñ class'], dtype=object)"
            ]
          },
          "metadata": {},
          "execution_count": 214
        }
      ]
    },
    {
      "cell_type": "code",
      "source": [
        "df.dtypes"
      ],
      "metadata": {
        "colab": {
          "base_uri": "https://localhost:8080/"
        },
        "id": "NaLIY9n61m_9",
        "outputId": "10136cab-6ba6-41e1-cc13-10cb0e08fd51"
      },
      "execution_count": 182,
      "outputs": [
        {
          "output_type": "execute_result",
          "data": {
            "text/plain": [
              "Agente  Causador  Acidente     object\n",
              "Data Acidente                  object\n",
              "CBO                            object\n",
              "CID-10                         object\n",
              "CNAE2.0 Empregador              int64\n",
              "CNAE2.0 Empregador.1           object\n",
              "Emitente CAT                   object\n",
              "Espécie do benefício           object\n",
              "Filiação Segurado              object\n",
              "Indica Óbito Acidente          object\n",
              "Munic Empr                     object\n",
              "Natureza da Lesão              object\n",
              "Origem de Cadastramento CAT    object\n",
              "Parte Corpo Atingida           object\n",
              "Sexo                           object\n",
              "Tipo do Acidente               object\n",
              "UF  Munic.  Acidente           object\n",
              "UF Munic. Empregador           object\n",
              "Data Acidente.1                object\n",
              "Data Despacho Benefício        object\n",
              "Data Acidente.2                object\n",
              "Data Nascimento                object\n",
              "Data Emissão CAT               object\n",
              "CNPJ/CEI Empregador            object\n",
              "dtype: object"
            ]
          },
          "metadata": {},
          "execution_count": 182
        }
      ]
    },
    {
      "cell_type": "code",
      "source": [
        "# Comparando as duas colunas da tabela\n",
        "df['Data Acidente.1'].equals(df['Data Acidente'])"
      ],
      "metadata": {
        "colab": {
          "base_uri": "https://localhost:8080/"
        },
        "id": "TWoodsnI49WE",
        "outputId": "966d19d8-54db-42b0-9ff3-ee14438ac7a6"
      },
      "execution_count": 205,
      "outputs": [
        {
          "output_type": "execute_result",
          "data": {
            "text/plain": [
              "True"
            ]
          },
          "metadata": {},
          "execution_count": 205
        }
      ]
    },
    {
      "cell_type": "code",
      "source": [
        "# dropando uma das colunas \n",
        "df.drop('Data Acidente',axis=1,inplace=True)"
      ],
      "metadata": {
        "id": "845iqwti6_gr"
      },
      "execution_count": 209,
      "outputs": []
    },
    {
      "cell_type": "code",
      "source": [
        "# Renomeando as colunas para deixá-las mais fáceis\n",
        "df.rename(columns={'Agente  Causador  Acidente':'ag_causador', 'Data Acidente':'data','CID-10':'cid10','CNAE2.0 Empregador':'cod_cnae',\n",
        "                   'CNAE2.0 Empregador.1':'desc_cnae','Emitente CAT':'emitente_cat','Espécie do benefício':'tipo_beneficio',\n",
        "                   'Filiação Segurado':'filiacao_seg','Indica Óbito Acidente':'obito','Munic Empr':'munic_empregador',\n",
        "                   'Natureza da Lesão':'nat_lesao','':'','':'','':'','':'','':'','':'',})"
      ],
      "metadata": {
        "id": "LJXrHjmT3BTa"
      },
      "execution_count": null,
      "outputs": []
    },
    {
      "cell_type": "markdown",
      "source": [
        "#TRANSFORMAÇÃO COM PYSPARK"
      ],
      "metadata": {
        "id": "shw0Y20oyA7p"
      }
    },
    {
      "cell_type": "code",
      "source": [],
      "metadata": {
        "id": "hs0faHDvyDV0"
      },
      "execution_count": null,
      "outputs": []
    },
    {
      "cell_type": "code",
      "source": [],
      "metadata": {
        "id": "gcxXph7cz9xM"
      },
      "execution_count": null,
      "outputs": []
    },
    {
      "cell_type": "markdown",
      "source": [
        "# CARREGAMENTO FINAL"
      ],
      "metadata": {
        "id": "81X2v823z9YO"
      }
    },
    {
      "cell_type": "code",
      "source": [],
      "metadata": {
        "id": "wXP9UwXF0BGR"
      },
      "execution_count": null,
      "outputs": []
    }
  ]
}