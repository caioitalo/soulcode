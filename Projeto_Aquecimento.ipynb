{
  "nbformat": 4,
  "nbformat_minor": 0,
  "metadata": {
    "colab": {
      "provenance": [],
      "include_colab_link": true
    },
    "kernelspec": {
      "name": "python3",
      "display_name": "Python 3"
    },
    "language_info": {
      "name": "python"
    }
  },
  "cells": [
    {
      "cell_type": "markdown",
      "metadata": {
        "id": "view-in-github",
        "colab_type": "text"
      },
      "source": [
        "<a href=\"https://colab.research.google.com/github/caioitalo/soulcode/blob/main/Projeto_Aquecimento.ipynb\" target=\"_parent\"><img src=\"https://colab.research.google.com/assets/colab-badge.svg\" alt=\"Open In Colab\"/></a>"
      ]
    },
    {
      "cell_type": "markdown",
      "source": [
        "# EXTRAÇÃO DOS DADOS\n"
      ],
      "metadata": {
        "id": "b_qT1vq0xrd5"
      }
    },
    {
      "cell_type": "markdown",
      "source": [
        "## Importação das bibliotecas e do conector do mongo"
      ],
      "metadata": {
        "id": "gawDBcvQDFYQ"
      }
    },
    {
      "cell_type": "code",
      "source": [
        "import pandas as pd\n",
        "import numpy as np\n",
        "import pymongo\n",
        "from pymongo import MongoClient"
      ],
      "metadata": {
        "id": "iTGK-ICl-08G"
      },
      "execution_count": 320,
      "outputs": []
    },
    {
      "cell_type": "code",
      "source": [
        "\n",
        "uri = \"mongodb+srv://caio-soulcode.o09ab0z.mongodb.net/?authSource=%24external&authMechanism=MONGODB-X509&retryWrites=true&w=majority\"\n",
        "client = MongoClient(uri,\n",
        "                     tls=True,\n",
        "                     tlsCertificateKeyFile='/content/X509-cert-1702224064282282452.pem')\n",
        "\n",
        "db = client['proj_aquec']\n",
        "colecao1 = db['202201_orig']\n",
        "colecao2 = db['202204_orig']\n",
        "colecao3 = db['202210_orig']\n",
        "doc_count = colecao1.count_documents({})\n",
        "print(doc_count)\n"
      ],
      "metadata": {
        "colab": {
          "base_uri": "https://localhost:8080/"
        },
        "id": "ROVbkCRXDMIn",
        "outputId": "b97cd62a-9711-4f4c-ef58-7f278ac47e31"
      },
      "execution_count": 321,
      "outputs": [
        {
          "output_type": "stream",
          "name": "stdout",
          "text": [
            "152140\n"
          ]
        }
      ]
    },
    {
      "cell_type": "code",
      "source": [
        "df1orig = pd.read_csv('/content/D.SDA.PDA.005.CAT.202201orig.csv',sep=';',encoding='ISO-8859-1')\n",
        "df2orig = pd.read_csv('/content/D.SDA.PDA.005.CAT.202204orig.csv',sep=';',encoding='ISO-8859-1')\n",
        "df3orig = pd.read_csv('/content/D.SDA.PDA.005.CAT.202210orig.csv',sep=';',encoding='ISO-8859-1')"
      ],
      "metadata": {
        "id": "NTCtrSdELXNh"
      },
      "execution_count": 322,
      "outputs": []
    },
    {
      "cell_type": "code",
      "source": [
        "df1orig_dict = df1orig.to_dict('records')\n",
        "df2orig_dict = df2orig.to_dict('records')\n",
        "df3orig_dict = df3orig.to_dict('records')\n"
      ],
      "metadata": {
        "id": "cJLp0WXEBv4j"
      },
      "execution_count": 323,
      "outputs": []
    },
    {
      "cell_type": "code",
      "source": [
        "df2orig.dtypes"
      ],
      "metadata": {
        "colab": {
          "base_uri": "https://localhost:8080/"
        },
        "id": "EeJu8H1KgYvV",
        "outputId": "732f6c98-43db-4a86-f425-946c827f14c5"
      },
      "execution_count": null,
      "outputs": [
        {
          "output_type": "execute_result",
          "data": {
            "text/plain": [
              "Agente  Causador  Acidente     object\n",
              "Data Acidente                  object\n",
              "CBO                            object\n",
              "CID-10                         object\n",
              "CNAE2.0 Empregador              int64\n",
              "CNAE2.0 Empregador.1           object\n",
              "Emitente CAT                   object\n",
              "Espécie do benefício           object\n",
              "Filiação Segurado              object\n",
              "Indica Óbito Acidente          object\n",
              "Munic Empr                     object\n",
              "Natureza da Lesão              object\n",
              "Origem de Cadastramento CAT    object\n",
              "Parte Corpo Atingida           object\n",
              "Sexo                           object\n",
              "Tipo do Acidente               object\n",
              "UF  Munic.  Acidente           object\n",
              "UF Munic. Empregador           object\n",
              "Data Acidente.1                object\n",
              "Data Despacho Benefício        object\n",
              "Data Acidente.2                object\n",
              "Data Nascimento                object\n",
              "Data Emissão CAT               object\n",
              "CNPJ/CEI Empregador            object\n",
              "dtype: object"
            ]
          },
          "metadata": {},
          "execution_count": 168
        }
      ]
    },
    {
      "cell_type": "code",
      "source": [
        "# Houve um erro no momento de inserir os dados no mongoDB, foi checada cada coluna de cada DF para achar alguma inconsistência impeditiva \n",
        "# Incons.: Indica Óbito Acidente ('{ñ') - a falta do fechamento das chaves pode estar gerando problema na geração dos documentos no mongoDB\n",
        "# Origem de Cadastramento CAT ('{ñ class') - mesma justif.\n",
        "\n",
        "sorted(df3orig['Data Nascimento'].unique())"
      ],
      "metadata": {
        "id": "I41WMzbJgFLI"
      },
      "execution_count": null,
      "outputs": []
    },
    {
      "cell_type": "code",
      "source": [
        "# foi dado um replace em todos os dfs com tais inconsistências\n",
        "#df1orig.replace(['{','}'],'', regex=True, inplace=True)\n",
        "df2orig.replace(['{','}'],'', regex=True, inplace=True)\n",
        "#df3orig.replace(['{','}'],'', regex=True, inplace=True)"
      ],
      "metadata": {
        "id": "08OMEAFvkaqM"
      },
      "execution_count": null,
      "outputs": []
    },
    {
      "cell_type": "code",
      "source": [
        "# Carregamento para o MongoDB para ser posto em disponibilidade\n",
        "#colecao1.insert_many(df1orig_dict)\n",
        "colecao2.insert_many(df2orig_dict)\n",
        "#colecao3.insert_many(df3orig_dict)\n",
        "\n",
        "colecao1.count_documents({})"
      ],
      "metadata": {
        "id": "7LF0bb4CKGdA",
        "colab": {
          "base_uri": "https://localhost:8080/",
          "height": 536
        },
        "outputId": "975626c8-1278-4d93-ed5f-a51e104d637a"
      },
      "execution_count": null,
      "outputs": [
        {
          "output_type": "error",
          "ename": "BulkWriteError",
          "evalue": "ignored",
          "traceback": [
            "\u001b[0;31m---------------------------------------------------------------------------\u001b[0m",
            "\u001b[0;31mBulkWriteError\u001b[0m                            Traceback (most recent call last)",
            "\u001b[0;32m<ipython-input-180-42bc9ce55421>\u001b[0m in \u001b[0;36m<module>\u001b[0;34m\u001b[0m\n\u001b[1;32m      1\u001b[0m \u001b[0;31m# Carregamento para o MongoDB para ser posto em disponibilidade\u001b[0m\u001b[0;34m\u001b[0m\u001b[0;34m\u001b[0m\u001b[0;34m\u001b[0m\u001b[0m\n\u001b[1;32m      2\u001b[0m \u001b[0;31m#colecao1.insert_many(df1orig_dict)\u001b[0m\u001b[0;34m\u001b[0m\u001b[0;34m\u001b[0m\u001b[0;34m\u001b[0m\u001b[0m\n\u001b[0;32m----> 3\u001b[0;31m \u001b[0mcolecao2\u001b[0m\u001b[0;34m.\u001b[0m\u001b[0minsert_many\u001b[0m\u001b[0;34m(\u001b[0m\u001b[0mdf2orig_dict\u001b[0m\u001b[0;34m)\u001b[0m\u001b[0;34m\u001b[0m\u001b[0;34m\u001b[0m\u001b[0m\n\u001b[0m\u001b[1;32m      4\u001b[0m \u001b[0;31m#colecao3.insert_many(df3orig_dict)\u001b[0m\u001b[0;34m\u001b[0m\u001b[0;34m\u001b[0m\u001b[0;34m\u001b[0m\u001b[0m\n\u001b[1;32m      5\u001b[0m \u001b[0;34m\u001b[0m\u001b[0m\n",
            "\u001b[0;32m/usr/local/lib/python3.8/dist-packages/pymongo/_csot.py\u001b[0m in \u001b[0;36mcsot_wrapper\u001b[0;34m(self, *args, **kwargs)\u001b[0m\n\u001b[1;32m    103\u001b[0m                 \u001b[0;32mwith\u001b[0m \u001b[0m_TimeoutContext\u001b[0m\u001b[0;34m(\u001b[0m\u001b[0mtimeout\u001b[0m\u001b[0;34m)\u001b[0m\u001b[0;34m:\u001b[0m\u001b[0;34m\u001b[0m\u001b[0;34m\u001b[0m\u001b[0m\n\u001b[1;32m    104\u001b[0m                     \u001b[0;32mreturn\u001b[0m \u001b[0mfunc\u001b[0m\u001b[0;34m(\u001b[0m\u001b[0mself\u001b[0m\u001b[0;34m,\u001b[0m \u001b[0;34m*\u001b[0m\u001b[0margs\u001b[0m\u001b[0;34m,\u001b[0m \u001b[0;34m**\u001b[0m\u001b[0mkwargs\u001b[0m\u001b[0;34m)\u001b[0m\u001b[0;34m\u001b[0m\u001b[0;34m\u001b[0m\u001b[0m\n\u001b[0;32m--> 105\u001b[0;31m         \u001b[0;32mreturn\u001b[0m \u001b[0mfunc\u001b[0m\u001b[0;34m(\u001b[0m\u001b[0mself\u001b[0m\u001b[0;34m,\u001b[0m \u001b[0;34m*\u001b[0m\u001b[0margs\u001b[0m\u001b[0;34m,\u001b[0m \u001b[0;34m**\u001b[0m\u001b[0mkwargs\u001b[0m\u001b[0;34m)\u001b[0m\u001b[0;34m\u001b[0m\u001b[0;34m\u001b[0m\u001b[0m\n\u001b[0m\u001b[1;32m    106\u001b[0m \u001b[0;34m\u001b[0m\u001b[0m\n\u001b[1;32m    107\u001b[0m     \u001b[0;32mreturn\u001b[0m \u001b[0mcast\u001b[0m\u001b[0;34m(\u001b[0m\u001b[0mF\u001b[0m\u001b[0;34m,\u001b[0m \u001b[0mcsot_wrapper\u001b[0m\u001b[0;34m)\u001b[0m\u001b[0;34m\u001b[0m\u001b[0;34m\u001b[0m\u001b[0m\n",
            "\u001b[0;32m/usr/local/lib/python3.8/dist-packages/pymongo/collection.py\u001b[0m in \u001b[0;36minsert_many\u001b[0;34m(self, documents, ordered, bypass_document_validation, session, comment)\u001b[0m\n\u001b[1;32m    712\u001b[0m         \u001b[0mblk\u001b[0m \u001b[0;34m=\u001b[0m \u001b[0m_Bulk\u001b[0m\u001b[0;34m(\u001b[0m\u001b[0mself\u001b[0m\u001b[0;34m,\u001b[0m \u001b[0mordered\u001b[0m\u001b[0;34m,\u001b[0m \u001b[0mbypass_document_validation\u001b[0m\u001b[0;34m,\u001b[0m \u001b[0mcomment\u001b[0m\u001b[0;34m=\u001b[0m\u001b[0mcomment\u001b[0m\u001b[0;34m)\u001b[0m\u001b[0;34m\u001b[0m\u001b[0;34m\u001b[0m\u001b[0m\n\u001b[1;32m    713\u001b[0m         \u001b[0mblk\u001b[0m\u001b[0;34m.\u001b[0m\u001b[0mops\u001b[0m \u001b[0;34m=\u001b[0m \u001b[0;34m[\u001b[0m\u001b[0mdoc\u001b[0m \u001b[0;32mfor\u001b[0m \u001b[0mdoc\u001b[0m \u001b[0;32min\u001b[0m \u001b[0mgen\u001b[0m\u001b[0;34m(\u001b[0m\u001b[0;34m)\u001b[0m\u001b[0;34m]\u001b[0m\u001b[0;34m\u001b[0m\u001b[0;34m\u001b[0m\u001b[0m\n\u001b[0;32m--> 714\u001b[0;31m         \u001b[0mblk\u001b[0m\u001b[0;34m.\u001b[0m\u001b[0mexecute\u001b[0m\u001b[0;34m(\u001b[0m\u001b[0mwrite_concern\u001b[0m\u001b[0;34m,\u001b[0m \u001b[0msession\u001b[0m\u001b[0;34m=\u001b[0m\u001b[0msession\u001b[0m\u001b[0;34m)\u001b[0m\u001b[0;34m\u001b[0m\u001b[0;34m\u001b[0m\u001b[0m\n\u001b[0m\u001b[1;32m    715\u001b[0m         \u001b[0;32mreturn\u001b[0m \u001b[0mInsertManyResult\u001b[0m\u001b[0;34m(\u001b[0m\u001b[0minserted_ids\u001b[0m\u001b[0;34m,\u001b[0m \u001b[0mwrite_concern\u001b[0m\u001b[0;34m.\u001b[0m\u001b[0macknowledged\u001b[0m\u001b[0;34m)\u001b[0m\u001b[0;34m\u001b[0m\u001b[0;34m\u001b[0m\u001b[0m\n\u001b[1;32m    716\u001b[0m \u001b[0;34m\u001b[0m\u001b[0m\n",
            "\u001b[0;32m/usr/local/lib/python3.8/dist-packages/pymongo/bulk.py\u001b[0m in \u001b[0;36mexecute\u001b[0;34m(self, write_concern, session)\u001b[0m\n\u001b[1;32m    511\u001b[0m                 \u001b[0mself\u001b[0m\u001b[0;34m.\u001b[0m\u001b[0mexecute_no_results\u001b[0m\u001b[0;34m(\u001b[0m\u001b[0msock_info\u001b[0m\u001b[0;34m,\u001b[0m \u001b[0mgenerator\u001b[0m\u001b[0;34m,\u001b[0m \u001b[0mwrite_concern\u001b[0m\u001b[0;34m)\u001b[0m\u001b[0;34m\u001b[0m\u001b[0;34m\u001b[0m\u001b[0m\n\u001b[1;32m    512\u001b[0m         \u001b[0;32melse\u001b[0m\u001b[0;34m:\u001b[0m\u001b[0;34m\u001b[0m\u001b[0;34m\u001b[0m\u001b[0m\n\u001b[0;32m--> 513\u001b[0;31m             \u001b[0;32mreturn\u001b[0m \u001b[0mself\u001b[0m\u001b[0;34m.\u001b[0m\u001b[0mexecute_command\u001b[0m\u001b[0;34m(\u001b[0m\u001b[0mgenerator\u001b[0m\u001b[0;34m,\u001b[0m \u001b[0mwrite_concern\u001b[0m\u001b[0;34m,\u001b[0m \u001b[0msession\u001b[0m\u001b[0;34m)\u001b[0m\u001b[0;34m\u001b[0m\u001b[0;34m\u001b[0m\u001b[0m\n\u001b[0m",
            "\u001b[0;32m/usr/local/lib/python3.8/dist-packages/pymongo/bulk.py\u001b[0m in \u001b[0;36mexecute_command\u001b[0;34m(self, generator, write_concern, session)\u001b[0m\n\u001b[1;32m    392\u001b[0m \u001b[0;34m\u001b[0m\u001b[0m\n\u001b[1;32m    393\u001b[0m         \u001b[0;32mif\u001b[0m \u001b[0mfull_result\u001b[0m\u001b[0;34m[\u001b[0m\u001b[0;34m\"writeErrors\"\u001b[0m\u001b[0;34m]\u001b[0m \u001b[0;32mor\u001b[0m \u001b[0mfull_result\u001b[0m\u001b[0;34m[\u001b[0m\u001b[0;34m\"writeConcernErrors\"\u001b[0m\u001b[0;34m]\u001b[0m\u001b[0;34m:\u001b[0m\u001b[0;34m\u001b[0m\u001b[0;34m\u001b[0m\u001b[0m\n\u001b[0;32m--> 394\u001b[0;31m             \u001b[0m_raise_bulk_write_error\u001b[0m\u001b[0;34m(\u001b[0m\u001b[0mfull_result\u001b[0m\u001b[0;34m)\u001b[0m\u001b[0;34m\u001b[0m\u001b[0;34m\u001b[0m\u001b[0m\n\u001b[0m\u001b[1;32m    395\u001b[0m         \u001b[0;32mreturn\u001b[0m \u001b[0mfull_result\u001b[0m\u001b[0;34m\u001b[0m\u001b[0;34m\u001b[0m\u001b[0m\n\u001b[1;32m    396\u001b[0m \u001b[0;34m\u001b[0m\u001b[0m\n",
            "\u001b[0;32m/usr/local/lib/python3.8/dist-packages/pymongo/bulk.py\u001b[0m in \u001b[0;36m_raise_bulk_write_error\u001b[0;34m(full_result)\u001b[0m\n\u001b[1;32m    134\u001b[0m     \u001b[0;32mif\u001b[0m \u001b[0mfull_result\u001b[0m\u001b[0;34m[\u001b[0m\u001b[0;34m\"writeErrors\"\u001b[0m\u001b[0;34m]\u001b[0m\u001b[0;34m:\u001b[0m\u001b[0;34m\u001b[0m\u001b[0;34m\u001b[0m\u001b[0m\n\u001b[1;32m    135\u001b[0m         \u001b[0mfull_result\u001b[0m\u001b[0;34m[\u001b[0m\u001b[0;34m\"writeErrors\"\u001b[0m\u001b[0;34m]\u001b[0m\u001b[0;34m.\u001b[0m\u001b[0msort\u001b[0m\u001b[0;34m(\u001b[0m\u001b[0mkey\u001b[0m\u001b[0;34m=\u001b[0m\u001b[0;32mlambda\u001b[0m \u001b[0merror\u001b[0m\u001b[0;34m:\u001b[0m \u001b[0merror\u001b[0m\u001b[0;34m[\u001b[0m\u001b[0;34m\"index\"\u001b[0m\u001b[0;34m]\u001b[0m\u001b[0;34m)\u001b[0m\u001b[0;34m\u001b[0m\u001b[0;34m\u001b[0m\u001b[0m\n\u001b[0;32m--> 136\u001b[0;31m     \u001b[0;32mraise\u001b[0m \u001b[0mBulkWriteError\u001b[0m\u001b[0;34m(\u001b[0m\u001b[0mfull_result\u001b[0m\u001b[0;34m)\u001b[0m\u001b[0;34m\u001b[0m\u001b[0;34m\u001b[0m\u001b[0m\n\u001b[0m\u001b[1;32m    137\u001b[0m \u001b[0;34m\u001b[0m\u001b[0m\n\u001b[1;32m    138\u001b[0m \u001b[0;34m\u001b[0m\u001b[0m\n",
            "\u001b[0;31mBulkWriteError\u001b[0m: batch op errors occurred, full error: {'writeErrors': [{'index': 0, 'code': 11000, 'keyPattern': {'_id': 1}, 'keyValue': {'_id': ObjectId('639b5072e643e4ba90cb184f')}, 'errmsg': \"E11000 duplicate key error collection: proj_aquec.202204_orig index: _id_ dup key: { _id: ObjectId('639b5072e643e4ba90cb184f') }\", 'op': {'Agente  Causador  Acidente': '{ñ class}                                    ', 'Data Acidente': '2022/05', 'CBO': '322205-Tec. de Enfermagem                    ', 'CID-10': 'Y28.2 Escolas Outr Instit Areas Admin Publica', 'CNAE2.0 Empregador': 8630, 'CNAE2.0 Empregador.1': 'Atividades de Atencao Ambulatorial Executadas', 'Emitente CAT': 'Empregador         ', 'Espécie do benefício': 'Pa                                           ', 'Filiação Segurado': 'Empregado                                    ', 'Indica Óbito Acidente': 'Não', 'Munic Empr': '354780-Santo André-Sp                    ', 'Natureza da Lesão': 'Lesao Imediata                               ', 'Origem de Cadastramento CAT': 'Internet', 'Parte Corpo Atingida': 'Dedo                                         ', 'Sexo': 'Masculino    ', 'Tipo do Acidente': 'Típico  ', 'UF  Munic.  Acidente': 'Maranhão        ', 'UF Munic. Empregador': 'São Paulo          ', 'Data Acidente.1': '2022/05', 'Data Despacho Benefício': '0000/00', 'Data Acidente.2': '26/05/2022', 'Data Nascimento': '13/11/1989', 'Data Emissão CAT': '01/06/2022', 'CNPJ/CEI Empregador': '57.571.275.002.570', '_id': Obj..."
          ]
        }
      ]
    },
    {
      "cell_type": "markdown",
      "source": [
        "## Enviando o arquivo para o Cloud Storage"
      ],
      "metadata": {
        "id": "-zDS82fENl9f"
      }
    },
    {
      "cell_type": "code",
      "source": [
        "#importação das bibliotecas da cloud storage\n",
        "!pip install gcsfs"
      ],
      "metadata": {
        "id": "zElvh6MnJ5Rq",
        "colab": {
          "base_uri": "https://localhost:8080/"
        },
        "outputId": "89b52e86-2246-4843-9130-d2bf7f6bec38"
      },
      "execution_count": 324,
      "outputs": [
        {
          "output_type": "stream",
          "name": "stdout",
          "text": [
            "Looking in indexes: https://pypi.org/simple, https://us-python.pkg.dev/colab-wheels/public/simple/\n",
            "Requirement already satisfied: gcsfs in /usr/local/lib/python3.8/dist-packages (2022.11.0)\n",
            "Requirement already satisfied: google-cloud-storage in /usr/local/lib/python3.8/dist-packages (from gcsfs) (2.5.0)\n",
            "Requirement already satisfied: decorator>4.1.2 in /usr/local/lib/python3.8/dist-packages (from gcsfs) (4.4.2)\n",
            "Requirement already satisfied: fsspec==2022.11.0 in /usr/local/lib/python3.8/dist-packages (from gcsfs) (2022.11.0)\n",
            "Requirement already satisfied: google-auth-oauthlib in /usr/local/lib/python3.8/dist-packages (from gcsfs) (0.4.6)\n",
            "Requirement already satisfied: google-auth>=1.2 in /usr/local/lib/python3.8/dist-packages (from gcsfs) (2.15.0)\n",
            "Requirement already satisfied: requests in /usr/local/lib/python3.8/dist-packages (from gcsfs) (2.23.0)\n",
            "Requirement already satisfied: aiohttp!=4.0.0a0,!=4.0.0a1 in /usr/local/lib/python3.8/dist-packages (from gcsfs) (3.8.3)\n",
            "Requirement already satisfied: attrs>=17.3.0 in /usr/local/lib/python3.8/dist-packages (from aiohttp!=4.0.0a0,!=4.0.0a1->gcsfs) (22.1.0)\n",
            "Requirement already satisfied: multidict<7.0,>=4.5 in /usr/local/lib/python3.8/dist-packages (from aiohttp!=4.0.0a0,!=4.0.0a1->gcsfs) (6.0.3)\n",
            "Requirement already satisfied: frozenlist>=1.1.1 in /usr/local/lib/python3.8/dist-packages (from aiohttp!=4.0.0a0,!=4.0.0a1->gcsfs) (1.3.3)\n",
            "Requirement already satisfied: async-timeout<5.0,>=4.0.0a3 in /usr/local/lib/python3.8/dist-packages (from aiohttp!=4.0.0a0,!=4.0.0a1->gcsfs) (4.0.2)\n",
            "Requirement already satisfied: aiosignal>=1.1.2 in /usr/local/lib/python3.8/dist-packages (from aiohttp!=4.0.0a0,!=4.0.0a1->gcsfs) (1.3.1)\n",
            "Requirement already satisfied: charset-normalizer<3.0,>=2.0 in /usr/local/lib/python3.8/dist-packages (from aiohttp!=4.0.0a0,!=4.0.0a1->gcsfs) (2.1.1)\n",
            "Requirement already satisfied: yarl<2.0,>=1.0 in /usr/local/lib/python3.8/dist-packages (from aiohttp!=4.0.0a0,!=4.0.0a1->gcsfs) (1.8.2)\n",
            "Requirement already satisfied: six>=1.9.0 in /usr/local/lib/python3.8/dist-packages (from google-auth>=1.2->gcsfs) (1.15.0)\n",
            "Requirement already satisfied: cachetools<6.0,>=2.0.0 in /usr/local/lib/python3.8/dist-packages (from google-auth>=1.2->gcsfs) (5.2.0)\n",
            "Requirement already satisfied: rsa<5,>=3.1.4 in /usr/local/lib/python3.8/dist-packages (from google-auth>=1.2->gcsfs) (4.9)\n",
            "Requirement already satisfied: pyasn1-modules>=0.2.1 in /usr/local/lib/python3.8/dist-packages (from google-auth>=1.2->gcsfs) (0.2.8)\n",
            "Requirement already satisfied: pyasn1<0.5.0,>=0.4.6 in /usr/local/lib/python3.8/dist-packages (from pyasn1-modules>=0.2.1->google-auth>=1.2->gcsfs) (0.4.8)\n",
            "Requirement already satisfied: idna>=2.0 in /usr/local/lib/python3.8/dist-packages (from yarl<2.0,>=1.0->aiohttp!=4.0.0a0,!=4.0.0a1->gcsfs) (2.10)\n",
            "Requirement already satisfied: requests-oauthlib>=0.7.0 in /usr/local/lib/python3.8/dist-packages (from google-auth-oauthlib->gcsfs) (1.3.1)\n",
            "Requirement already satisfied: oauthlib>=3.0.0 in /usr/local/lib/python3.8/dist-packages (from requests-oauthlib>=0.7.0->google-auth-oauthlib->gcsfs) (3.2.2)\n",
            "Requirement already satisfied: urllib3!=1.25.0,!=1.25.1,<1.26,>=1.21.1 in /usr/local/lib/python3.8/dist-packages (from requests->gcsfs) (1.24.3)\n",
            "Requirement already satisfied: chardet<4,>=3.0.2 in /usr/local/lib/python3.8/dist-packages (from requests->gcsfs) (3.0.4)\n",
            "Requirement already satisfied: certifi>=2017.4.17 in /usr/local/lib/python3.8/dist-packages (from requests->gcsfs) (2022.9.24)\n",
            "Requirement already satisfied: google-api-core!=2.0.*,!=2.1.*,!=2.2.*,!=2.3.0,<3.0.0dev,>=1.31.5 in /usr/local/lib/python3.8/dist-packages (from google-cloud-storage->gcsfs) (2.8.2)\n",
            "Requirement already satisfied: google-resumable-media>=2.3.2 in /usr/local/lib/python3.8/dist-packages (from google-cloud-storage->gcsfs) (2.4.0)\n",
            "Requirement already satisfied: google-cloud-core<3.0dev,>=2.3.0 in /usr/local/lib/python3.8/dist-packages (from google-cloud-storage->gcsfs) (2.3.2)\n",
            "Requirement already satisfied: protobuf<5.0.0dev,>=3.15.0 in /usr/local/lib/python3.8/dist-packages (from google-api-core!=2.0.*,!=2.1.*,!=2.2.*,!=2.3.0,<3.0.0dev,>=1.31.5->google-cloud-storage->gcsfs) (3.19.6)\n",
            "Requirement already satisfied: googleapis-common-protos<2.0dev,>=1.56.2 in /usr/local/lib/python3.8/dist-packages (from google-api-core!=2.0.*,!=2.1.*,!=2.2.*,!=2.3.0,<3.0.0dev,>=1.31.5->google-cloud-storage->gcsfs) (1.57.0)\n",
            "Requirement already satisfied: google-crc32c<2.0dev,>=1.0 in /usr/local/lib/python3.8/dist-packages (from google-resumable-media>=2.3.2->google-cloud-storage->gcsfs) (1.5.0)\n"
          ]
        }
      ]
    },
    {
      "cell_type": "code",
      "source": [
        "# Realizando a configuração da conta utilizando a chave json\n",
        "from google.cloud import storage\n",
        "import os\n",
        "\n",
        "serviceAccount = '/content/bold-origin-366512-48dc9e027646.json'\n",
        "os.environ['GOOGLE_APPLICATION_CREDENTIALS'] = serviceAccount\n"
      ],
      "metadata": {
        "id": "PEjHVgNpOcxz"
      },
      "execution_count": 325,
      "outputs": []
    },
    {
      "cell_type": "code",
      "source": [
        "# Acessando o bucket, e inserindo os arquivos\n",
        "cliente = storage.Client()\n",
        "bucket = cliente.get_bucket('projeto-aquecimento15-12')\n",
        "blob = bucket.blob('D.SDA.PDA.005.CAT.202201orig.csv')\n",
        "blob.upload_from_filename('/content/D.SDA.PDA.005.CAT.202201orig.csv')"
      ],
      "metadata": {
        "id": "4tHQFfyoPikJ"
      },
      "execution_count": null,
      "outputs": []
    },
    {
      "cell_type": "code",
      "source": [
        "cliente = storage.Client()\n",
        "bucket = cliente.get_bucket('projeto-aquecimento15-12')\n",
        "blob = bucket.blob('D.SDA.PDA.005.CAT.202204orig.csv')\n",
        "blob.upload_from_filename('/content/D.SDA.PDA.005.CAT.202204orig.csv')"
      ],
      "metadata": {
        "id": "sMXXkolGS2Kt"
      },
      "execution_count": null,
      "outputs": []
    },
    {
      "cell_type": "code",
      "source": [
        "cliente = storage.Client()\n",
        "bucket = cliente.get_bucket('projeto-aquecimento15-12')\n",
        "blob = bucket.blob('D.SDA.PDA.005.CAT.202210orig.csv')\n",
        "blob.upload_from_filename('/content/D.SDA.PDA.005.CAT.202210orig.csv')"
      ],
      "metadata": {
        "id": "S6oi12EYS7BT"
      },
      "execution_count": null,
      "outputs": []
    },
    {
      "cell_type": "markdown",
      "source": [
        "# CARREGAMENTO INICIAL DOS DADOS"
      ],
      "metadata": {
        "id": "gaKfNxz1xvvs"
      }
    },
    {
      "cell_type": "markdown",
      "source": [
        "Agora com os arquivos com disponibilidade em nuvem (GCP e MongoDB), serão carregados para transformação"
      ],
      "metadata": {
        "id": "V2S5jEpTvaPw"
      }
    },
    {
      "cell_type": "code",
      "source": [
        "# Carregando os DBs e os transformando em DFs do Pandas\n",
        "df10 = pd.read_csv('https://storage.googleapis.com/datalake-soulcode-ed7/arquivos%20soulcode/D.SDA.PDA.005.CAT.202201orig.csv',sep=';',encoding = 'ISO-8859-1')\n",
        "df20 = pd.read_csv('https://storage.googleapis.com/datalake-soulcode-ed7/arquivos%20soulcode/D.SDA.PDA.005.CAT.202204orig.csv',sep=';',encoding = 'ISO-8859-1')\n",
        "df30 = pd.read_csv('https://storage.googleapis.com/datalake-soulcode-ed7/arquivos%20soulcode/D.SDA.PDA.005.CAT.202210orig.csv',sep=';',encoding = 'ISO-8859-1')"
      ],
      "metadata": {
        "id": "q0gsCwDqx5XH"
      },
      "execution_count": 376,
      "outputs": []
    },
    {
      "cell_type": "code",
      "source": [
        "# unindo as três tabelas, usando o concat pois têm o mesmo número de colunas e o que muda são as datas\n",
        "df = pd.concat([df10,df20,df30])"
      ],
      "metadata": {
        "id": "O0NRKg0sgd8v"
      },
      "execution_count": 377,
      "outputs": []
    },
    {
      "cell_type": "code",
      "source": [
        "# gerando um backup\n",
        "dfback = df.copy()"
      ],
      "metadata": {
        "id": "hC6WIqGVwj1w"
      },
      "execution_count": 333,
      "outputs": []
    },
    {
      "cell_type": "markdown",
      "source": [
        "#TRANSFORMAÇÃO COM PANDAS"
      ],
      "metadata": {
        "id": "YdJmQyC0x6Yz"
      }
    },
    {
      "cell_type": "markdown",
      "source": [
        "## Análises primárias do DF\n"
      ],
      "metadata": {
        "id": "UeVS1W6o34Au"
      }
    },
    {
      "cell_type": "code",
      "source": [
        "df"
      ],
      "metadata": {
        "id": "nWFlyVUTyABE",
        "colab": {
          "base_uri": "https://localhost:8080/",
          "height": 1000
        },
        "outputId": "4c19f7c4-066c-45a0-8e5c-4a212edd1018"
      },
      "execution_count": 378,
      "outputs": [
        {
          "output_type": "execute_result",
          "data": {
            "text/plain": [
              "                          Agente  Causador  Acidente Data Acidente  \\\n",
              "0      {ñ class}                                           2022/01   \n",
              "1      Motocicleta, Motoneta                               2022/02   \n",
              "2      Motocicleta, Motoneta                               2022/02   \n",
              "3      Aprision. Em, Sobre ou Entre Dois ou Mai            2022/02   \n",
              "4      Impacto de Pes. Contra Objeto em Movimento          2022/01   \n",
              "...                                              ...           ...   \n",
              "15654  Piso de Edificio - Superficie Utilizada Para        2022/09   \n",
              "15655  Escada Permanente Cujos Degraus Permitem Apoi       2022/10   \n",
              "15656  Andaime, Plataforma - Edificio ou Estrutura         2022/09   \n",
              "15657  Martelo, Malho, Marreta- Ferramenta Manual Se       2022/10   \n",
              "15658  Impacto de Pes. Contra Objeto Parado                2022/10   \n",
              "\n",
              "                                                 CBO  \\\n",
              "0      515105-Agente Comunitário de Saúde              \n",
              "1      519110-Motociclista no Transporte de Document   \n",
              "2      519110-Motociclista no Transporte de Document   \n",
              "3      514205-Coletor Lixo                             \n",
              "4      {ñ class}                                       \n",
              "...                                              ...   \n",
              "15654  {ñ class}                                       \n",
              "15655  232130-Prof. Física no Ensino Médio             \n",
              "15656  517330-Vigilante                                \n",
              "15657  724315-Soldador                                 \n",
              "15658  721215-Oper. Máquinas-Ferramenta Convencionai   \n",
              "\n",
              "                                              CID-10  CNAE2.0 Empregador  \\\n",
              "0      B34.2 Infecc p/Coronavirus Ne                                8630   \n",
              "1      S52.5 Frat da Extremidade Distal do Radio                    4930   \n",
              "2      S52.5 Frat da Extremidade Distal do Radio                    4930   \n",
              "3      S60.0 Contusao de Dedos s/Lesao da Unha                      3811   \n",
              "4      S90.0 Contusao do Tornozelo                                  4639   \n",
              "...                                              ...                 ...   \n",
              "15654  S62   Frat ao Nivel do Punho e da Mao                        2330   \n",
              "15655  S82   Frat da Perna Incl Tornozelo                           8520   \n",
              "15656  S82.7 Frat Mult da Perna                                     8112   \n",
              "15657  S62.6 Frat de Outr Dedos                                     7112   \n",
              "15658  S62.3 Frat de Outr Ossos do Metacarpo                        2815   \n",
              "\n",
              "                                CNAE2.0 Empregador.1         Emitente CAT  \\\n",
              "0      Atividades de Atencao Ambulatorial Executadas  Empregador            \n",
              "1      Transporte Rodoviario de Carga                 Segurado/Dependente   \n",
              "2      Transporte Rodoviario de Carga                 Segurado/Dependente   \n",
              "3      Coleta de Residuos Nao-Perigosos               Empregador            \n",
              "4      Comercio Atacadista de Produtos Alimenticios   Empregador            \n",
              "...                                              ...                  ...   \n",
              "15654  Fabricacao de Artefatos de Concreto, Cimento,  {ñ class}             \n",
              "15655  Ensino Medio                                   Autoridade Pública    \n",
              "15656  Condominios Prediais                           Segurado/Dependente   \n",
              "15657  Servicos de Engenharia                         Empregador            \n",
              "15658  Fabricacao de Equipamentos de Transmissao par  Segurado/Dependente   \n",
              "\n",
              "                                Espécie do benefício  \\\n",
              "0      Pa                                              \n",
              "1      Pa                                              \n",
              "2      Pa                                              \n",
              "3      Pa                                              \n",
              "4      Pa                                              \n",
              "...                                              ...   \n",
              "15654  Auxílio Doenca por Acidente do Trabalho         \n",
              "15655  Auxílio Doenca por Acidente do Trabalho         \n",
              "15656  Auxílio Doenca por Acidente do Trabalho         \n",
              "15657  Auxílio Doenca por Acidente do Trabalho         \n",
              "15658  Auxílio Doenca por Acidente do Trabalho         \n",
              "\n",
              "                                   Filiação Segurado Indica Óbito Acidente  \\\n",
              "0      Empregado                                                       Não   \n",
              "1      Empregado                                                       Não   \n",
              "2      Empregado                                                       Não   \n",
              "3      Empregado                                                       Não   \n",
              "4      Empregado                                                       Não   \n",
              "...                                              ...                   ...   \n",
              "15654  Empregado                                                       Não   \n",
              "15655  Empregado                                                       Não   \n",
              "15656  Empregado                                                       Não   \n",
              "15657  Empregado                                                       Não   \n",
              "15658  Empregado                                                       Não   \n",
              "\n",
              "       ...           Sexo Tipo do Acidente UF  Munic.  Acidente  \\\n",
              "0      ...  Feminino              Doença       Maranhão           \n",
              "1      ...  Masculino             Trajeto      Maranhão           \n",
              "2      ...  Masculino             Trajeto      Maranhão           \n",
              "3      ...  Masculino             Típico       {ñ class}          \n",
              "4      ...  Masculino             Típico       Maranhão           \n",
              "...    ...            ...              ...                  ...   \n",
              "15654  ...  Masculino             Típico       Roraima            \n",
              "15655  ...  Feminino              Típico       Roraima            \n",
              "15656  ...  Masculino             Típico       {ñ class}          \n",
              "15657  ...  Masculino             Típico       Roraima            \n",
              "15658  ...  Masculino             Típico       Maranhão           \n",
              "\n",
              "      UF Munic. Empregador Data Acidente.1 Data Despacho Benefício  \\\n",
              "0      São Paulo                   2022/01                 0000/00   \n",
              "1      São Paulo                   2022/02                 0000/00   \n",
              "2      São Paulo                   2022/02                 0000/00   \n",
              "3      Goiás                       2022/02                 0000/00   \n",
              "4      São Paulo                   2022/01                 0000/00   \n",
              "...                    ...             ...                     ...   \n",
              "15654  Paraná                      2022/09                 2022/10   \n",
              "15655  Paraná                      2022/10                 2022/11   \n",
              "15656  Santa Catarina              2022/09                 2022/10   \n",
              "15657  Paraná                      2022/10                 2022/10   \n",
              "15658  São Paulo                   2022/10                 2022/10   \n",
              "\n",
              "      Data Acidente.2 Data Nascimento Data Emissão CAT CNPJ/CEI Empregador  \n",
              "0          20/01/2022      02/08/1970       01/03/2022  57.571.275.002.570  \n",
              "1          25/02/2022      16/12/1990       01/03/2022  19.578.086.000.162  \n",
              "2          25/02/2022      16/12/1990       01/03/2022  19.578.086.000.162  \n",
              "3          24/02/2022      19/09/1986       01/03/2022  00.000.000.000.000  \n",
              "4          28/01/2022      25/07/1995       01/03/2022  00.000.000.000.000  \n",
              "...               ...             ...              ...                 ...  \n",
              "15654      29/09/2022      18/09/1993       10/10/2022  21.161.901.000.135  \n",
              "15655      06/10/2022      24/11/1986       07/10/2022  76.416.965.000.121  \n",
              "15656      20/09/2022      02/03/1986       10/10/2022  32.994.401.000.109  \n",
              "15657      05/10/2022      08/04/1984       06/10/2022  34.197.591.000.150  \n",
              "15658      03/10/2022      15/07/1993       18/10/2022  54.614.813.000.109  \n",
              "\n",
              "[257401 rows x 24 columns]"
            ],
            "text/html": [
              "\n",
              "  <div id=\"df-3f04ad64-367c-4e74-b8f5-093ddaf7beab\">\n",
              "    <div class=\"colab-df-container\">\n",
              "      <div>\n",
              "<style scoped>\n",
              "    .dataframe tbody tr th:only-of-type {\n",
              "        vertical-align: middle;\n",
              "    }\n",
              "\n",
              "    .dataframe tbody tr th {\n",
              "        vertical-align: top;\n",
              "    }\n",
              "\n",
              "    .dataframe thead th {\n",
              "        text-align: right;\n",
              "    }\n",
              "</style>\n",
              "<table border=\"1\" class=\"dataframe\">\n",
              "  <thead>\n",
              "    <tr style=\"text-align: right;\">\n",
              "      <th></th>\n",
              "      <th>Agente  Causador  Acidente</th>\n",
              "      <th>Data Acidente</th>\n",
              "      <th>CBO</th>\n",
              "      <th>CID-10</th>\n",
              "      <th>CNAE2.0 Empregador</th>\n",
              "      <th>CNAE2.0 Empregador.1</th>\n",
              "      <th>Emitente CAT</th>\n",
              "      <th>Espécie do benefício</th>\n",
              "      <th>Filiação Segurado</th>\n",
              "      <th>Indica Óbito Acidente</th>\n",
              "      <th>...</th>\n",
              "      <th>Sexo</th>\n",
              "      <th>Tipo do Acidente</th>\n",
              "      <th>UF  Munic.  Acidente</th>\n",
              "      <th>UF Munic. Empregador</th>\n",
              "      <th>Data Acidente.1</th>\n",
              "      <th>Data Despacho Benefício</th>\n",
              "      <th>Data Acidente.2</th>\n",
              "      <th>Data Nascimento</th>\n",
              "      <th>Data Emissão CAT</th>\n",
              "      <th>CNPJ/CEI Empregador</th>\n",
              "    </tr>\n",
              "  </thead>\n",
              "  <tbody>\n",
              "    <tr>\n",
              "      <th>0</th>\n",
              "      <td>{ñ class}</td>\n",
              "      <td>2022/01</td>\n",
              "      <td>515105-Agente Comunitário de Saúde</td>\n",
              "      <td>B34.2 Infecc p/Coronavirus Ne</td>\n",
              "      <td>8630</td>\n",
              "      <td>Atividades de Atencao Ambulatorial Executadas</td>\n",
              "      <td>Empregador</td>\n",
              "      <td>Pa</td>\n",
              "      <td>Empregado</td>\n",
              "      <td>Não</td>\n",
              "      <td>...</td>\n",
              "      <td>Feminino</td>\n",
              "      <td>Doença</td>\n",
              "      <td>Maranhão</td>\n",
              "      <td>São Paulo</td>\n",
              "      <td>2022/01</td>\n",
              "      <td>0000/00</td>\n",
              "      <td>20/01/2022</td>\n",
              "      <td>02/08/1970</td>\n",
              "      <td>01/03/2022</td>\n",
              "      <td>57.571.275.002.570</td>\n",
              "    </tr>\n",
              "    <tr>\n",
              "      <th>1</th>\n",
              "      <td>Motocicleta, Motoneta</td>\n",
              "      <td>2022/02</td>\n",
              "      <td>519110-Motociclista no Transporte de Document</td>\n",
              "      <td>S52.5 Frat da Extremidade Distal do Radio</td>\n",
              "      <td>4930</td>\n",
              "      <td>Transporte Rodoviario de Carga</td>\n",
              "      <td>Segurado/Dependente</td>\n",
              "      <td>Pa</td>\n",
              "      <td>Empregado</td>\n",
              "      <td>Não</td>\n",
              "      <td>...</td>\n",
              "      <td>Masculino</td>\n",
              "      <td>Trajeto</td>\n",
              "      <td>Maranhão</td>\n",
              "      <td>São Paulo</td>\n",
              "      <td>2022/02</td>\n",
              "      <td>0000/00</td>\n",
              "      <td>25/02/2022</td>\n",
              "      <td>16/12/1990</td>\n",
              "      <td>01/03/2022</td>\n",
              "      <td>19.578.086.000.162</td>\n",
              "    </tr>\n",
              "    <tr>\n",
              "      <th>2</th>\n",
              "      <td>Motocicleta, Motoneta</td>\n",
              "      <td>2022/02</td>\n",
              "      <td>519110-Motociclista no Transporte de Document</td>\n",
              "      <td>S52.5 Frat da Extremidade Distal do Radio</td>\n",
              "      <td>4930</td>\n",
              "      <td>Transporte Rodoviario de Carga</td>\n",
              "      <td>Segurado/Dependente</td>\n",
              "      <td>Pa</td>\n",
              "      <td>Empregado</td>\n",
              "      <td>Não</td>\n",
              "      <td>...</td>\n",
              "      <td>Masculino</td>\n",
              "      <td>Trajeto</td>\n",
              "      <td>Maranhão</td>\n",
              "      <td>São Paulo</td>\n",
              "      <td>2022/02</td>\n",
              "      <td>0000/00</td>\n",
              "      <td>25/02/2022</td>\n",
              "      <td>16/12/1990</td>\n",
              "      <td>01/03/2022</td>\n",
              "      <td>19.578.086.000.162</td>\n",
              "    </tr>\n",
              "    <tr>\n",
              "      <th>3</th>\n",
              "      <td>Aprision. Em, Sobre ou Entre Dois ou Mai</td>\n",
              "      <td>2022/02</td>\n",
              "      <td>514205-Coletor Lixo</td>\n",
              "      <td>S60.0 Contusao de Dedos s/Lesao da Unha</td>\n",
              "      <td>3811</td>\n",
              "      <td>Coleta de Residuos Nao-Perigosos</td>\n",
              "      <td>Empregador</td>\n",
              "      <td>Pa</td>\n",
              "      <td>Empregado</td>\n",
              "      <td>Não</td>\n",
              "      <td>...</td>\n",
              "      <td>Masculino</td>\n",
              "      <td>Típico</td>\n",
              "      <td>{ñ class}</td>\n",
              "      <td>Goiás</td>\n",
              "      <td>2022/02</td>\n",
              "      <td>0000/00</td>\n",
              "      <td>24/02/2022</td>\n",
              "      <td>19/09/1986</td>\n",
              "      <td>01/03/2022</td>\n",
              "      <td>00.000.000.000.000</td>\n",
              "    </tr>\n",
              "    <tr>\n",
              "      <th>4</th>\n",
              "      <td>Impacto de Pes. Contra Objeto em Movimento</td>\n",
              "      <td>2022/01</td>\n",
              "      <td>{ñ class}</td>\n",
              "      <td>S90.0 Contusao do Tornozelo</td>\n",
              "      <td>4639</td>\n",
              "      <td>Comercio Atacadista de Produtos Alimenticios</td>\n",
              "      <td>Empregador</td>\n",
              "      <td>Pa</td>\n",
              "      <td>Empregado</td>\n",
              "      <td>Não</td>\n",
              "      <td>...</td>\n",
              "      <td>Masculino</td>\n",
              "      <td>Típico</td>\n",
              "      <td>Maranhão</td>\n",
              "      <td>São Paulo</td>\n",
              "      <td>2022/01</td>\n",
              "      <td>0000/00</td>\n",
              "      <td>28/01/2022</td>\n",
              "      <td>25/07/1995</td>\n",
              "      <td>01/03/2022</td>\n",
              "      <td>00.000.000.000.000</td>\n",
              "    </tr>\n",
              "    <tr>\n",
              "      <th>...</th>\n",
              "      <td>...</td>\n",
              "      <td>...</td>\n",
              "      <td>...</td>\n",
              "      <td>...</td>\n",
              "      <td>...</td>\n",
              "      <td>...</td>\n",
              "      <td>...</td>\n",
              "      <td>...</td>\n",
              "      <td>...</td>\n",
              "      <td>...</td>\n",
              "      <td>...</td>\n",
              "      <td>...</td>\n",
              "      <td>...</td>\n",
              "      <td>...</td>\n",
              "      <td>...</td>\n",
              "      <td>...</td>\n",
              "      <td>...</td>\n",
              "      <td>...</td>\n",
              "      <td>...</td>\n",
              "      <td>...</td>\n",
              "      <td>...</td>\n",
              "    </tr>\n",
              "    <tr>\n",
              "      <th>15654</th>\n",
              "      <td>Piso de Edificio - Superficie Utilizada Para</td>\n",
              "      <td>2022/09</td>\n",
              "      <td>{ñ class}</td>\n",
              "      <td>S62   Frat ao Nivel do Punho e da Mao</td>\n",
              "      <td>2330</td>\n",
              "      <td>Fabricacao de Artefatos de Concreto, Cimento,</td>\n",
              "      <td>{ñ class}</td>\n",
              "      <td>Auxílio Doenca por Acidente do Trabalho</td>\n",
              "      <td>Empregado</td>\n",
              "      <td>Não</td>\n",
              "      <td>...</td>\n",
              "      <td>Masculino</td>\n",
              "      <td>Típico</td>\n",
              "      <td>Roraima</td>\n",
              "      <td>Paraná</td>\n",
              "      <td>2022/09</td>\n",
              "      <td>2022/10</td>\n",
              "      <td>29/09/2022</td>\n",
              "      <td>18/09/1993</td>\n",
              "      <td>10/10/2022</td>\n",
              "      <td>21.161.901.000.135</td>\n",
              "    </tr>\n",
              "    <tr>\n",
              "      <th>15655</th>\n",
              "      <td>Escada Permanente Cujos Degraus Permitem Apoi</td>\n",
              "      <td>2022/10</td>\n",
              "      <td>232130-Prof. Física no Ensino Médio</td>\n",
              "      <td>S82   Frat da Perna Incl Tornozelo</td>\n",
              "      <td>8520</td>\n",
              "      <td>Ensino Medio</td>\n",
              "      <td>Autoridade Pública</td>\n",
              "      <td>Auxílio Doenca por Acidente do Trabalho</td>\n",
              "      <td>Empregado</td>\n",
              "      <td>Não</td>\n",
              "      <td>...</td>\n",
              "      <td>Feminino</td>\n",
              "      <td>Típico</td>\n",
              "      <td>Roraima</td>\n",
              "      <td>Paraná</td>\n",
              "      <td>2022/10</td>\n",
              "      <td>2022/11</td>\n",
              "      <td>06/10/2022</td>\n",
              "      <td>24/11/1986</td>\n",
              "      <td>07/10/2022</td>\n",
              "      <td>76.416.965.000.121</td>\n",
              "    </tr>\n",
              "    <tr>\n",
              "      <th>15656</th>\n",
              "      <td>Andaime, Plataforma - Edificio ou Estrutura</td>\n",
              "      <td>2022/09</td>\n",
              "      <td>517330-Vigilante</td>\n",
              "      <td>S82.7 Frat Mult da Perna</td>\n",
              "      <td>8112</td>\n",
              "      <td>Condominios Prediais</td>\n",
              "      <td>Segurado/Dependente</td>\n",
              "      <td>Auxílio Doenca por Acidente do Trabalho</td>\n",
              "      <td>Empregado</td>\n",
              "      <td>Não</td>\n",
              "      <td>...</td>\n",
              "      <td>Masculino</td>\n",
              "      <td>Típico</td>\n",
              "      <td>{ñ class}</td>\n",
              "      <td>Santa Catarina</td>\n",
              "      <td>2022/09</td>\n",
              "      <td>2022/10</td>\n",
              "      <td>20/09/2022</td>\n",
              "      <td>02/03/1986</td>\n",
              "      <td>10/10/2022</td>\n",
              "      <td>32.994.401.000.109</td>\n",
              "    </tr>\n",
              "    <tr>\n",
              "      <th>15657</th>\n",
              "      <td>Martelo, Malho, Marreta- Ferramenta Manual Se</td>\n",
              "      <td>2022/10</td>\n",
              "      <td>724315-Soldador</td>\n",
              "      <td>S62.6 Frat de Outr Dedos</td>\n",
              "      <td>7112</td>\n",
              "      <td>Servicos de Engenharia</td>\n",
              "      <td>Empregador</td>\n",
              "      <td>Auxílio Doenca por Acidente do Trabalho</td>\n",
              "      <td>Empregado</td>\n",
              "      <td>Não</td>\n",
              "      <td>...</td>\n",
              "      <td>Masculino</td>\n",
              "      <td>Típico</td>\n",
              "      <td>Roraima</td>\n",
              "      <td>Paraná</td>\n",
              "      <td>2022/10</td>\n",
              "      <td>2022/10</td>\n",
              "      <td>05/10/2022</td>\n",
              "      <td>08/04/1984</td>\n",
              "      <td>06/10/2022</td>\n",
              "      <td>34.197.591.000.150</td>\n",
              "    </tr>\n",
              "    <tr>\n",
              "      <th>15658</th>\n",
              "      <td>Impacto de Pes. Contra Objeto Parado</td>\n",
              "      <td>2022/10</td>\n",
              "      <td>721215-Oper. Máquinas-Ferramenta Convencionai</td>\n",
              "      <td>S62.3 Frat de Outr Ossos do Metacarpo</td>\n",
              "      <td>2815</td>\n",
              "      <td>Fabricacao de Equipamentos de Transmissao par</td>\n",
              "      <td>Segurado/Dependente</td>\n",
              "      <td>Auxílio Doenca por Acidente do Trabalho</td>\n",
              "      <td>Empregado</td>\n",
              "      <td>Não</td>\n",
              "      <td>...</td>\n",
              "      <td>Masculino</td>\n",
              "      <td>Típico</td>\n",
              "      <td>Maranhão</td>\n",
              "      <td>São Paulo</td>\n",
              "      <td>2022/10</td>\n",
              "      <td>2022/10</td>\n",
              "      <td>03/10/2022</td>\n",
              "      <td>15/07/1993</td>\n",
              "      <td>18/10/2022</td>\n",
              "      <td>54.614.813.000.109</td>\n",
              "    </tr>\n",
              "  </tbody>\n",
              "</table>\n",
              "<p>257401 rows × 24 columns</p>\n",
              "</div>\n",
              "      <button class=\"colab-df-convert\" onclick=\"convertToInteractive('df-3f04ad64-367c-4e74-b8f5-093ddaf7beab')\"\n",
              "              title=\"Convert this dataframe to an interactive table.\"\n",
              "              style=\"display:none;\">\n",
              "        \n",
              "  <svg xmlns=\"http://www.w3.org/2000/svg\" height=\"24px\"viewBox=\"0 0 24 24\"\n",
              "       width=\"24px\">\n",
              "    <path d=\"M0 0h24v24H0V0z\" fill=\"none\"/>\n",
              "    <path d=\"M18.56 5.44l.94 2.06.94-2.06 2.06-.94-2.06-.94-.94-2.06-.94 2.06-2.06.94zm-11 1L8.5 8.5l.94-2.06 2.06-.94-2.06-.94L8.5 2.5l-.94 2.06-2.06.94zm10 10l.94 2.06.94-2.06 2.06-.94-2.06-.94-.94-2.06-.94 2.06-2.06.94z\"/><path d=\"M17.41 7.96l-1.37-1.37c-.4-.4-.92-.59-1.43-.59-.52 0-1.04.2-1.43.59L10.3 9.45l-7.72 7.72c-.78.78-.78 2.05 0 2.83L4 21.41c.39.39.9.59 1.41.59.51 0 1.02-.2 1.41-.59l7.78-7.78 2.81-2.81c.8-.78.8-2.07 0-2.86zM5.41 20L4 18.59l7.72-7.72 1.47 1.35L5.41 20z\"/>\n",
              "  </svg>\n",
              "      </button>\n",
              "      \n",
              "  <style>\n",
              "    .colab-df-container {\n",
              "      display:flex;\n",
              "      flex-wrap:wrap;\n",
              "      gap: 12px;\n",
              "    }\n",
              "\n",
              "    .colab-df-convert {\n",
              "      background-color: #E8F0FE;\n",
              "      border: none;\n",
              "      border-radius: 50%;\n",
              "      cursor: pointer;\n",
              "      display: none;\n",
              "      fill: #1967D2;\n",
              "      height: 32px;\n",
              "      padding: 0 0 0 0;\n",
              "      width: 32px;\n",
              "    }\n",
              "\n",
              "    .colab-df-convert:hover {\n",
              "      background-color: #E2EBFA;\n",
              "      box-shadow: 0px 1px 2px rgba(60, 64, 67, 0.3), 0px 1px 3px 1px rgba(60, 64, 67, 0.15);\n",
              "      fill: #174EA6;\n",
              "    }\n",
              "\n",
              "    [theme=dark] .colab-df-convert {\n",
              "      background-color: #3B4455;\n",
              "      fill: #D2E3FC;\n",
              "    }\n",
              "\n",
              "    [theme=dark] .colab-df-convert:hover {\n",
              "      background-color: #434B5C;\n",
              "      box-shadow: 0px 1px 3px 1px rgba(0, 0, 0, 0.15);\n",
              "      filter: drop-shadow(0px 1px 2px rgba(0, 0, 0, 0.3));\n",
              "      fill: #FFFFFF;\n",
              "    }\n",
              "  </style>\n",
              "\n",
              "      <script>\n",
              "        const buttonEl =\n",
              "          document.querySelector('#df-3f04ad64-367c-4e74-b8f5-093ddaf7beab button.colab-df-convert');\n",
              "        buttonEl.style.display =\n",
              "          google.colab.kernel.accessAllowed ? 'block' : 'none';\n",
              "\n",
              "        async function convertToInteractive(key) {\n",
              "          const element = document.querySelector('#df-3f04ad64-367c-4e74-b8f5-093ddaf7beab');\n",
              "          const dataTable =\n",
              "            await google.colab.kernel.invokeFunction('convertToInteractive',\n",
              "                                                     [key], {});\n",
              "          if (!dataTable) return;\n",
              "\n",
              "          const docLinkHtml = 'Like what you see? Visit the ' +\n",
              "            '<a target=\"_blank\" href=https://colab.research.google.com/notebooks/data_table.ipynb>data table notebook</a>'\n",
              "            + ' to learn more about interactive tables.';\n",
              "          element.innerHTML = '';\n",
              "          dataTable['output_type'] = 'display_data';\n",
              "          await google.colab.output.renderOutput(dataTable, element);\n",
              "          const docLink = document.createElement('div');\n",
              "          docLink.innerHTML = docLinkHtml;\n",
              "          element.appendChild(docLink);\n",
              "        }\n",
              "      </script>\n",
              "    </div>\n",
              "  </div>\n",
              "  "
            ]
          },
          "metadata": {},
          "execution_count": 378
        }
      ]
    },
    {
      "cell_type": "code",
      "source": [
        "df.dtypes"
      ],
      "metadata": {
        "colab": {
          "base_uri": "https://localhost:8080/"
        },
        "id": "NaLIY9n61m_9",
        "outputId": "fd2acfb2-bc34-4cc1-ed56-c892153d2b1e"
      },
      "execution_count": 335,
      "outputs": [
        {
          "output_type": "execute_result",
          "data": {
            "text/plain": [
              "Agente  Causador  Acidente     object\n",
              "Data Acidente                  object\n",
              "CBO                            object\n",
              "CID-10                         object\n",
              "CNAE2.0 Empregador              int64\n",
              "CNAE2.0 Empregador.1           object\n",
              "Emitente CAT                   object\n",
              "Espécie do benefício           object\n",
              "Filiação Segurado              object\n",
              "Indica Óbito Acidente          object\n",
              "Munic Empr                     object\n",
              "Natureza da Lesão              object\n",
              "Origem de Cadastramento CAT    object\n",
              "Parte Corpo Atingida           object\n",
              "Sexo                           object\n",
              "Tipo do Acidente               object\n",
              "UF  Munic.  Acidente           object\n",
              "UF Munic. Empregador           object\n",
              "Data Acidente.1                object\n",
              "Data Despacho Benefício        object\n",
              "Data Acidente.2                object\n",
              "Data Nascimento                object\n",
              "Data Emissão CAT               object\n",
              "CNPJ/CEI Empregador            object\n",
              "dtype: object"
            ]
          },
          "metadata": {},
          "execution_count": 335
        }
      ]
    },
    {
      "cell_type": "code",
      "source": [
        "df.isna().sum()"
      ],
      "metadata": {
        "colab": {
          "base_uri": "https://localhost:8080/"
        },
        "id": "ZRBYrQxsqohy",
        "outputId": "55578289-13ba-4b8c-9a6d-f60337142c7b"
      },
      "execution_count": 389,
      "outputs": [
        {
          "output_type": "execute_result",
          "data": {
            "text/plain": [
              "ag_causador         0\n",
              "cbo                 0\n",
              "cid10               0\n",
              "cod_cnae            0\n",
              "desc_cnae           0\n",
              "emitente_cat        0\n",
              "tipo_beneficio      0\n",
              "filiacao_seg        0\n",
              "obito               0\n",
              "munic_empregador    0\n",
              "nat_lesao           0\n",
              "local_da_lesao      0\n",
              "sexo                0\n",
              "tipo_acid           0\n",
              "uf_acid             0\n",
              "uf_empregador       0\n",
              "dt_acid             0\n",
              "dt_desp_ben         0\n",
              "data                0\n",
              "dt_nasc             0\n",
              "dt_emissao_cat      0\n",
              "cnpj_cei            0\n",
              "dtype: int64"
            ]
          },
          "metadata": {},
          "execution_count": 389
        }
      ]
    },
    {
      "cell_type": "code",
      "source": [
        "# Comparando as duas colunas da tabela\n",
        "df['Data Acidente.1'].equals(df['Data Acidente'])"
      ],
      "metadata": {
        "colab": {
          "base_uri": "https://localhost:8080/"
        },
        "id": "TWoodsnI49WE",
        "outputId": "bb27f294-66b9-4b02-b3ec-35a85816c05b"
      },
      "execution_count": 379,
      "outputs": [
        {
          "output_type": "execute_result",
          "data": {
            "text/plain": [
              "True"
            ]
          },
          "metadata": {},
          "execution_count": 379
        }
      ]
    },
    {
      "cell_type": "code",
      "source": [
        "# dropando uma das colunas iguais\n",
        "# dropando Origem do cadastramento, pois só exibe um valor, sendo irrelevante para as análises.\n",
        "df.drop('Data Acidente',axis=1,inplace=True)\n",
        "df.drop('Origem de Cadastramento CAT',axis=1,inplace=True)"
      ],
      "metadata": {
        "id": "845iqwti6_gr"
      },
      "execution_count": 380,
      "outputs": []
    },
    {
      "cell_type": "code",
      "source": [
        "# Renomeando as colunas para deixá-las mais fáceis\n",
        "df.rename(columns={'Agente  Causador  Acidente':'ag_causador', 'CID-10':'cid10','CNAE2.0 Empregador':'cod_cnae',\n",
        "                   'CNAE2.0 Empregador.1':'desc_cnae','Emitente CAT':'emitente_cat','Espécie do benefício':'tipo_beneficio',\n",
        "                   'Filiação Segurado':'filiacao_seg','Indica Óbito Acidente':'obito','Munic Empr':'munic_empregador',\n",
        "                   'Natureza da Lesão':'nat_lesao','Parte Corpo Atingida':'local_da_lesao','Sexo':'sexo','Tipo do Acidente':'tipo_acid',\n",
        "                   'UF  Munic.  Acidente':'uf_acid','UF Munic. Empregador':'uf_empregador','Data Acidente.1':'dt_acid',\n",
        "                    'Data Despacho Benefício':'dt_desp_ben', 'Data Acidente.2':'data','Data Nascimento':'dt_nasc','Data Emissão CAT':'dt_emissao_cat',\n",
        "                   'CNPJ/CEI Empregador':'cnpj_cei','CBO':'cbo'},inplace=True)"
      ],
      "metadata": {
        "id": "LJXrHjmT3BTa"
      },
      "execution_count": 381,
      "outputs": []
    },
    {
      "cell_type": "code",
      "source": [
        "df.dtypes"
      ],
      "metadata": {
        "colab": {
          "base_uri": "https://localhost:8080/"
        },
        "id": "IZKO888TTGZL",
        "outputId": "8bf74167-a639-47a2-ac4c-d6f4a29d398d"
      },
      "execution_count": 360,
      "outputs": [
        {
          "output_type": "execute_result",
          "data": {
            "text/plain": [
              "ag_causador         object\n",
              "cbo                 object\n",
              "cid10               object\n",
              "cod_cnae             int64\n",
              "desc_cnae           object\n",
              "emitente_cat        object\n",
              "tipo_beneficio      object\n",
              "filiacao_seg        object\n",
              "obito               object\n",
              "munic_empregador    object\n",
              "nat_lesao           object\n",
              "local_da_lesao      object\n",
              "sexo                object\n",
              "tipo_acid           object\n",
              "uf_acid             object\n",
              "uf_empregador       object\n",
              "dt_acid             object\n",
              "dt_desp_ben         object\n",
              "data                object\n",
              "dt_nasc             object\n",
              "dt_emissao_cat      object\n",
              "cnpj_cei            object\n",
              "dtype: object"
            ]
          },
          "metadata": {},
          "execution_count": 360
        }
      ]
    },
    {
      "cell_type": "code",
      "source": [
        "# usando unique novamente para checar inconsistências de cada coluna\n",
        "# Inconsistências: valores com muitos espaços - ok, {ñ class} ,reverse=True\n",
        "# cod_cnae: olhar o '0'\n",
        "# tipo_beneficio: 'Pa' é uma inconsistência?\n",
        "# \n",
        "\n",
        "df['filiacao_seg'].unique()"
      ],
      "metadata": {
        "colab": {
          "base_uri": "https://localhost:8080/"
        },
        "id": "yoYcqLPZSylH",
        "outputId": "b654870a-c5bd-4c17-87f8-52fc281e935d"
      },
      "execution_count": 414,
      "outputs": [
        {
          "output_type": "execute_result",
          "data": {
            "text/plain": [
              "array(['Empregado', 'Trabalhador Avulso', nan, 'Segurado Especial'],\n",
              "      dtype=object)"
            ]
          },
          "metadata": {},
          "execution_count": 414
        }
      ]
    },
    {
      "cell_type": "code",
      "source": [
        "# Usando python para percorrer as colunas e retirar o excesso de espaços. foi necessário transformar cod_cnae para utilizar esse método.\n",
        "df['cod_cnae'] = df['cod_cnae'].astype(str)\n",
        "for coluna in df:\n",
        "  df[coluna] = df[coluna].str.strip()\n"
      ],
      "metadata": {
        "id": "GOhar215dhYv"
      },
      "execution_count": 385,
      "outputs": []
    },
    {
      "cell_type": "code",
      "source": [
        "# Trocando os valores inconsistentes \n",
        "df.replace('{ñ class}',np.nan,inplace=True)"
      ],
      "metadata": {
        "id": "2O0s6prSCPIA"
      },
      "execution_count": 396,
      "outputs": []
    },
    {
      "cell_type": "code",
      "source": [],
      "metadata": {
        "id": "iIT1llYzC_In"
      },
      "execution_count": null,
      "outputs": []
    },
    {
      "cell_type": "markdown",
      "source": [
        "#TRANSFORMAÇÃO COM PYSPARK"
      ],
      "metadata": {
        "id": "shw0Y20oyA7p"
      }
    },
    {
      "cell_type": "code",
      "source": [],
      "metadata": {
        "id": "hs0faHDvyDV0"
      },
      "execution_count": null,
      "outputs": []
    },
    {
      "cell_type": "code",
      "source": [],
      "metadata": {
        "id": "gcxXph7cz9xM"
      },
      "execution_count": null,
      "outputs": []
    },
    {
      "cell_type": "markdown",
      "source": [
        "# CARREGAMENTO FINAL"
      ],
      "metadata": {
        "id": "81X2v823z9YO"
      }
    },
    {
      "cell_type": "code",
      "source": [],
      "metadata": {
        "id": "wXP9UwXF0BGR"
      },
      "execution_count": null,
      "outputs": []
    }
  ]
}