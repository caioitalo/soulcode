{
  "cells": [
    {
      "cell_type": "markdown",
      "metadata": {
        "id": "view-in-github",
        "colab_type": "text"
      },
      "source": [
        "<a href=\"https://colab.research.google.com/github/caioitalo/soulcode/blob/main/Projeto_Aquecimento.ipynb\" target=\"_parent\"><img src=\"https://colab.research.google.com/assets/colab-badge.svg\" alt=\"Open In Colab\"/></a>"
      ]
    },
    {
      "cell_type": "markdown",
      "metadata": {
        "id": "b_qT1vq0xrd5"
      },
      "source": [
        "# EXTRAÇÃO DOS DADOS\n"
      ]
    },
    {
      "cell_type": "markdown",
      "metadata": {
        "id": "gawDBcvQDFYQ"
      },
      "source": [
        "## Importação das bibliotecas e do conector do mongo"
      ]
    },
    {
      "cell_type": "code",
      "execution_count": 1,
      "metadata": {
        "id": "iTGK-ICl-08G"
      },
      "outputs": [],
      "source": [
        "import pandas as pd\n",
        "import numpy as np\n",
        "import pymongo\n",
        "from pymongo import MongoClient"
      ]
    },
    {
      "cell_type": "code",
      "execution_count": 2,
      "metadata": {
        "colab": {
          "base_uri": "https://localhost:8080/"
        },
        "id": "ROVbkCRXDMIn",
        "outputId": "91305c8c-8bd9-49ab-a813-2c40ce13d94d"
      },
      "outputs": [
        {
          "output_type": "stream",
          "name": "stdout",
          "text": [
            "152140\n"
          ]
        }
      ],
      "source": [
        "\n",
        "uri = \"mongodb+srv://caio-soulcode.o09ab0z.mongodb.net/?authSource=%24external&authMechanism=MONGODB-X509&retryWrites=true&w=majority\"\n",
        "client = MongoClient(uri,\n",
        "                     tls=True,\n",
        "                     tlsCertificateKeyFile='/content/X509-cert-1702224064282282452.pem')\n",
        "\n",
        "db = client['proj_aquec']\n",
        "colecao1 = db['202201_orig']\n",
        "colecao2 = db['202204_orig']\n",
        "colecao3 = db['202210_orig']\n",
        "doc_count = colecao1.count_documents({})\n",
        "print(doc_count)\n"
      ]
    },
    {
      "cell_type": "code",
      "execution_count": null,
      "metadata": {
        "id": "NTCtrSdELXNh"
      },
      "outputs": [],
      "source": [
        "df1orig = pd.read_csv('/content/D.SDA.PDA.005.CAT.202201orig.csv',sep=';',encoding='ISO-8859-1')\n",
        "df2orig = pd.read_csv('/content/D.SDA.PDA.005.CAT.202204orig.csv',sep=';',encoding='ISO-8859-1')\n",
        "df3orig = pd.read_csv('/content/D.SDA.PDA.005.CAT.202210orig.csv',sep=';',encoding='ISO-8859-1')"
      ]
    },
    {
      "cell_type": "markdown",
      "metadata": {
        "id": "YSRtinuhxRT6"
      },
      "source": [
        "## Carregamento dos arquivos iniciais para o MongoDB"
      ]
    },
    {
      "cell_type": "code",
      "execution_count": null,
      "metadata": {
        "id": "cJLp0WXEBv4j"
      },
      "outputs": [],
      "source": [
        "df1orig_dict = df1orig.to_dict('records')\n",
        "df2orig_dict = df2orig.to_dict('records')\n",
        "df3orig_dict = df3orig.to_dict('records')\n"
      ]
    },
    {
      "cell_type": "code",
      "execution_count": null,
      "metadata": {
        "id": "EeJu8H1KgYvV"
      },
      "outputs": [],
      "source": [
        "df2orig.dtypes"
      ]
    },
    {
      "cell_type": "code",
      "execution_count": null,
      "metadata": {
        "id": "I41WMzbJgFLI"
      },
      "outputs": [],
      "source": [
        "# Houve um erro no momento de inserir os dados no mongoDB, foi checada cada coluna de cada DF para achar alguma inconsistência impeditiva \n",
        "# Incons.: Indica Óbito Acidente ('{ñ') - a falta do fechamento das chaves pode estar gerando problema na geração dos documentos no mongoDB\n",
        "# Origem de Cadastramento CAT ('{ñ class') - mesma justif.\n",
        "\n",
        "sorted(df3orig['Data Nascimento'].unique())"
      ]
    },
    {
      "cell_type": "code",
      "execution_count": null,
      "metadata": {
        "id": "08OMEAFvkaqM"
      },
      "outputs": [],
      "source": [
        "# foi dado um replace em todos os dfs com tais inconsistências\n",
        "df1orig.replace(['{','}'],'', regex=True, inplace=True)\n",
        "df2orig.replace(['{','}'],'', regex=True, inplace=True)\n",
        "df3orig.replace(['{','}'],'', regex=True, inplace=True)"
      ]
    },
    {
      "cell_type": "code",
      "execution_count": null,
      "metadata": {
        "id": "7LF0bb4CKGdA"
      },
      "outputs": [],
      "source": [
        "# Carregamento para o MongoDB para ser posto em disponibilidade\n",
        "colecao1.insert_many(df1orig_dict)\n",
        "colecao2.insert_many(df2orig_dict)\n",
        "colecao3.insert_many(df3orig_dict)\n",
        "\n",
        "#colecao2.count_documents({})"
      ]
    },
    {
      "cell_type": "markdown",
      "metadata": {
        "id": "-zDS82fENl9f"
      },
      "source": [
        "## Carregamento dos arquivos iniciais para o Cloud Storage"
      ]
    },
    {
      "cell_type": "code",
      "execution_count": 3,
      "metadata": {
        "colab": {
          "base_uri": "https://localhost:8080/"
        },
        "id": "zElvh6MnJ5Rq",
        "outputId": "97d26b19-bb16-41a8-b99c-c1f1d356009f"
      },
      "outputs": [
        {
          "output_type": "stream",
          "name": "stdout",
          "text": [
            "Looking in indexes: https://pypi.org/simple, https://us-python.pkg.dev/colab-wheels/public/simple/\n",
            "Collecting gcsfs\n",
            "  Downloading gcsfs-2022.11.0-py2.py3-none-any.whl (26 kB)\n",
            "Requirement already satisfied: google-cloud-storage in /usr/local/lib/python3.8/dist-packages (from gcsfs) (2.5.0)\n",
            "Requirement already satisfied: fsspec==2022.11.0 in /usr/local/lib/python3.8/dist-packages (from gcsfs) (2022.11.0)\n",
            "Requirement already satisfied: google-auth-oauthlib in /usr/local/lib/python3.8/dist-packages (from gcsfs) (0.4.6)\n",
            "Requirement already satisfied: decorator>4.1.2 in /usr/local/lib/python3.8/dist-packages (from gcsfs) (4.4.2)\n",
            "Requirement already satisfied: google-auth>=1.2 in /usr/local/lib/python3.8/dist-packages (from gcsfs) (2.15.0)\n",
            "Requirement already satisfied: requests in /usr/local/lib/python3.8/dist-packages (from gcsfs) (2.23.0)\n",
            "Requirement already satisfied: aiohttp!=4.0.0a0,!=4.0.0a1 in /usr/local/lib/python3.8/dist-packages (from gcsfs) (3.8.3)\n",
            "Requirement already satisfied: multidict<7.0,>=4.5 in /usr/local/lib/python3.8/dist-packages (from aiohttp!=4.0.0a0,!=4.0.0a1->gcsfs) (6.0.3)\n",
            "Requirement already satisfied: attrs>=17.3.0 in /usr/local/lib/python3.8/dist-packages (from aiohttp!=4.0.0a0,!=4.0.0a1->gcsfs) (22.1.0)\n",
            "Requirement already satisfied: aiosignal>=1.1.2 in /usr/local/lib/python3.8/dist-packages (from aiohttp!=4.0.0a0,!=4.0.0a1->gcsfs) (1.3.1)\n",
            "Requirement already satisfied: yarl<2.0,>=1.0 in /usr/local/lib/python3.8/dist-packages (from aiohttp!=4.0.0a0,!=4.0.0a1->gcsfs) (1.8.2)\n",
            "Requirement already satisfied: async-timeout<5.0,>=4.0.0a3 in /usr/local/lib/python3.8/dist-packages (from aiohttp!=4.0.0a0,!=4.0.0a1->gcsfs) (4.0.2)\n",
            "Requirement already satisfied: frozenlist>=1.1.1 in /usr/local/lib/python3.8/dist-packages (from aiohttp!=4.0.0a0,!=4.0.0a1->gcsfs) (1.3.3)\n",
            "Requirement already satisfied: charset-normalizer<3.0,>=2.0 in /usr/local/lib/python3.8/dist-packages (from aiohttp!=4.0.0a0,!=4.0.0a1->gcsfs) (2.1.1)\n",
            "Requirement already satisfied: rsa<5,>=3.1.4 in /usr/local/lib/python3.8/dist-packages (from google-auth>=1.2->gcsfs) (4.9)\n",
            "Requirement already satisfied: cachetools<6.0,>=2.0.0 in /usr/local/lib/python3.8/dist-packages (from google-auth>=1.2->gcsfs) (5.2.0)\n",
            "Requirement already satisfied: pyasn1-modules>=0.2.1 in /usr/local/lib/python3.8/dist-packages (from google-auth>=1.2->gcsfs) (0.2.8)\n",
            "Requirement already satisfied: six>=1.9.0 in /usr/local/lib/python3.8/dist-packages (from google-auth>=1.2->gcsfs) (1.15.0)\n",
            "Requirement already satisfied: pyasn1<0.5.0,>=0.4.6 in /usr/local/lib/python3.8/dist-packages (from pyasn1-modules>=0.2.1->google-auth>=1.2->gcsfs) (0.4.8)\n",
            "Requirement already satisfied: idna>=2.0 in /usr/local/lib/python3.8/dist-packages (from yarl<2.0,>=1.0->aiohttp!=4.0.0a0,!=4.0.0a1->gcsfs) (2.10)\n",
            "Requirement already satisfied: requests-oauthlib>=0.7.0 in /usr/local/lib/python3.8/dist-packages (from google-auth-oauthlib->gcsfs) (1.3.1)\n",
            "Requirement already satisfied: oauthlib>=3.0.0 in /usr/local/lib/python3.8/dist-packages (from requests-oauthlib>=0.7.0->google-auth-oauthlib->gcsfs) (3.2.2)\n",
            "Requirement already satisfied: certifi>=2017.4.17 in /usr/local/lib/python3.8/dist-packages (from requests->gcsfs) (2022.12.7)\n",
            "Requirement already satisfied: urllib3!=1.25.0,!=1.25.1,<1.26,>=1.21.1 in /usr/local/lib/python3.8/dist-packages (from requests->gcsfs) (1.24.3)\n",
            "Requirement already satisfied: chardet<4,>=3.0.2 in /usr/local/lib/python3.8/dist-packages (from requests->gcsfs) (3.0.4)\n",
            "Requirement already satisfied: google-resumable-media>=2.3.2 in /usr/local/lib/python3.8/dist-packages (from google-cloud-storage->gcsfs) (2.4.0)\n",
            "Requirement already satisfied: google-cloud-core<3.0dev,>=2.3.0 in /usr/local/lib/python3.8/dist-packages (from google-cloud-storage->gcsfs) (2.3.2)\n",
            "Requirement already satisfied: google-api-core!=2.0.*,!=2.1.*,!=2.2.*,!=2.3.0,<3.0.0dev,>=1.31.5 in /usr/local/lib/python3.8/dist-packages (from google-cloud-storage->gcsfs) (2.8.2)\n",
            "Requirement already satisfied: googleapis-common-protos<2.0dev,>=1.56.2 in /usr/local/lib/python3.8/dist-packages (from google-api-core!=2.0.*,!=2.1.*,!=2.2.*,!=2.3.0,<3.0.0dev,>=1.31.5->google-cloud-storage->gcsfs) (1.57.0)\n",
            "Requirement already satisfied: protobuf<5.0.0dev,>=3.15.0 in /usr/local/lib/python3.8/dist-packages (from google-api-core!=2.0.*,!=2.1.*,!=2.2.*,!=2.3.0,<3.0.0dev,>=1.31.5->google-cloud-storage->gcsfs) (3.19.6)\n",
            "Requirement already satisfied: google-crc32c<2.0dev,>=1.0 in /usr/local/lib/python3.8/dist-packages (from google-resumable-media>=2.3.2->google-cloud-storage->gcsfs) (1.5.0)\n",
            "Installing collected packages: gcsfs\n",
            "Successfully installed gcsfs-2022.11.0\n"
          ]
        }
      ],
      "source": [
        "#importação das bibliotecas da cloud storage\n",
        "!pip install gcsfs"
      ]
    },
    {
      "cell_type": "code",
      "execution_count": 4,
      "metadata": {
        "id": "PEjHVgNpOcxz"
      },
      "outputs": [],
      "source": [
        "# Realizando a configuração da conta utilizando a chave json\n",
        "from google.cloud import storage\n",
        "import os\n",
        "\n",
        "serviceAccount = '/content/sc-bc26-ed7-adb0dc2607d9.json'\n",
        "os.environ['GOOGLE_APPLICATION_CREDENTIALS'] = serviceAccount\n"
      ]
    },
    {
      "cell_type": "code",
      "execution_count": 5,
      "metadata": {
        "id": "HC9Tuyhgd1_g"
      },
      "outputs": [],
      "source": [
        "# Acessando o bucket, e inserindo os arquivos\n",
        "cliente = storage.Client()\n",
        "bucket = cliente.get_bucket('datalake-soulcode-ed7')"
      ]
    },
    {
      "cell_type": "code",
      "execution_count": null,
      "metadata": {
        "id": "4tHQFfyoPikJ"
      },
      "outputs": [],
      "source": [
        "blob = bucket.blob('proj_aquec/D.SDA.PDA.005.CAT.202201orig.csv')\n",
        "blob.upload_from_filename('/content/D.SDA.PDA.005.CAT.202201orig.csv')"
      ]
    },
    {
      "cell_type": "code",
      "execution_count": null,
      "metadata": {
        "id": "elwHfl6KrxTh"
      },
      "outputs": [],
      "source": [
        "blob = bucket.blob('proj_aquec/D.SDA.PDA.005.CAT.202204orig.csv')\n",
        "blob.upload_from_filename('/content/D.SDA.PDA.005.CAT.202204orig.csv')"
      ]
    },
    {
      "cell_type": "code",
      "execution_count": null,
      "metadata": {
        "id": "4WwWwCP5rxn7"
      },
      "outputs": [],
      "source": [
        "blob = bucket.blob('proj_aquec/D.SDA.PDA.005.CAT.202210orig.csv')\n",
        "blob.upload_from_filename('/content/D.SDA.PDA.005.CAT.202210orig.csv')"
      ]
    },
    {
      "cell_type": "markdown",
      "metadata": {
        "id": "gaKfNxz1xvvs"
      },
      "source": [
        "# CARREGAMENTO INICIAL DOS DADOS"
      ]
    },
    {
      "cell_type": "markdown",
      "metadata": {
        "id": "V2S5jEpTvaPw"
      },
      "source": [
        "Agora com os arquivos com disponibilidade em nuvem (GCP e MongoDB), serão carregados para transformação"
      ]
    },
    {
      "cell_type": "code",
      "execution_count": 6,
      "metadata": {
        "id": "q0gsCwDqx5XH"
      },
      "outputs": [],
      "source": [
        "# Carregando os DBs e os transformando em DFs do Pandas\n",
        "df10 = pd.read_csv('https://storage.googleapis.com/datalake-soulcode-ed7/proj_aquec/D.SDA.PDA.005.CAT.202201orig.csv',sep=';',encoding = 'ISO-8859-1')\n",
        "df20 = pd.read_csv('https://storage.googleapis.com/datalake-soulcode-ed7/proj_aquec/D.SDA.PDA.005.CAT.202204orig.csv',sep=';',encoding = 'ISO-8859-1')\n",
        "df30 = pd.read_csv('https://storage.googleapis.com/datalake-soulcode-ed7/proj_aquec/D.SDA.PDA.005.CAT.202210orig.csv',sep=';',encoding = 'ISO-8859-1')"
      ]
    },
    {
      "cell_type": "code",
      "execution_count": 7,
      "metadata": {
        "id": "O0NRKg0sgd8v"
      },
      "outputs": [],
      "source": [
        "# unindo os três datasets, usando o concat pois têm o mesmo número de colunas e o que muda são as datas. Não há uma coluna como ID para dar merge.\n",
        "df = pd.concat([df10,df20,df30])"
      ]
    },
    {
      "cell_type": "code",
      "execution_count": 8,
      "metadata": {
        "id": "hC6WIqGVwj1w"
      },
      "outputs": [],
      "source": [
        "# gerando um backup\n",
        "dfback = df.copy()"
      ]
    },
    {
      "cell_type": "markdown",
      "metadata": {
        "id": "YdJmQyC0x6Yz"
      },
      "source": [
        "# TRANFORMAÇÃO - PANDAS"
      ]
    },
    {
      "cell_type": "markdown",
      "metadata": {
        "id": "UeVS1W6o34Au"
      },
      "source": [
        "## Transformações\n"
      ]
    },
    {
      "cell_type": "code",
      "execution_count": null,
      "metadata": {
        "colab": {
          "base_uri": "https://localhost:8080/",
          "height": 598
        },
        "id": "nWFlyVUTyABE",
        "outputId": "4bde9b02-8a90-4939-cd37-ffb457fdb6c7"
      },
      "outputs": [
        {
          "output_type": "execute_result",
          "data": {
            "text/plain": [
              "                      Agente  Causador  Acidente Data Acidente  \\\n",
              "0  {ñ class}                                           2022/01   \n",
              "1  Motocicleta, Motoneta                               2022/02   \n",
              "2  Motocicleta, Motoneta                               2022/02   \n",
              "3  Aprision. Em, Sobre ou Entre Dois ou Mai            2022/02   \n",
              "\n",
              "                                             CBO  \\\n",
              "0  515105-Agente Comunitário de Saúde              \n",
              "1  519110-Motociclista no Transporte de Document   \n",
              "2  519110-Motociclista no Transporte de Document   \n",
              "3  514205-Coletor Lixo                             \n",
              "\n",
              "                                          CID-10  CNAE2.0 Empregador  \\\n",
              "0  B34.2 Infecc p/Coronavirus Ne                                8630   \n",
              "1  S52.5 Frat da Extremidade Distal do Radio                    4930   \n",
              "2  S52.5 Frat da Extremidade Distal do Radio                    4930   \n",
              "3  S60.0 Contusao de Dedos s/Lesao da Unha                      3811   \n",
              "\n",
              "                            CNAE2.0 Empregador.1         Emitente CAT  \\\n",
              "0  Atividades de Atencao Ambulatorial Executadas  Empregador            \n",
              "1  Transporte Rodoviario de Carga                 Segurado/Dependente   \n",
              "2  Transporte Rodoviario de Carga                 Segurado/Dependente   \n",
              "3  Coleta de Residuos Nao-Perigosos               Empregador            \n",
              "\n",
              "                            Espécie do benefício  \\\n",
              "0  Pa                                              \n",
              "1  Pa                                              \n",
              "2  Pa                                              \n",
              "3  Pa                                              \n",
              "\n",
              "                               Filiação Segurado Indica Óbito Acidente  ...  \\\n",
              "0  Empregado                                                       Não  ...   \n",
              "1  Empregado                                                       Não  ...   \n",
              "2  Empregado                                                       Não  ...   \n",
              "3  Empregado                                                       Não  ...   \n",
              "\n",
              "            Sexo Tipo do Acidente UF  Munic.  Acidente UF Munic. Empregador  \\\n",
              "0  Feminino              Doença       Maranhão          São Paulo             \n",
              "1  Masculino             Trajeto      Maranhão          São Paulo             \n",
              "2  Masculino             Trajeto      Maranhão          São Paulo             \n",
              "3  Masculino             Típico       {ñ class}         Goiás                 \n",
              "\n",
              "  Data Acidente.1 Data Despacho Benefício Data Acidente.2 Data Nascimento  \\\n",
              "0         2022/01                 0000/00      20/01/2022      02/08/1970   \n",
              "1         2022/02                 0000/00      25/02/2022      16/12/1990   \n",
              "2         2022/02                 0000/00      25/02/2022      16/12/1990   \n",
              "3         2022/02                 0000/00      24/02/2022      19/09/1986   \n",
              "\n",
              "  Data Emissão CAT CNPJ/CEI Empregador  \n",
              "0       01/03/2022  57.571.275.002.570  \n",
              "1       01/03/2022  19.578.086.000.162  \n",
              "2       01/03/2022  19.578.086.000.162  \n",
              "3       01/03/2022  00.000.000.000.000  \n",
              "\n",
              "[4 rows x 24 columns]"
            ],
            "text/html": [
              "\n",
              "  <div id=\"df-2ffb5671-f833-4dcb-9b10-54b7e680b88f\">\n",
              "    <div class=\"colab-df-container\">\n",
              "      <div>\n",
              "<style scoped>\n",
              "    .dataframe tbody tr th:only-of-type {\n",
              "        vertical-align: middle;\n",
              "    }\n",
              "\n",
              "    .dataframe tbody tr th {\n",
              "        vertical-align: top;\n",
              "    }\n",
              "\n",
              "    .dataframe thead th {\n",
              "        text-align: right;\n",
              "    }\n",
              "</style>\n",
              "<table border=\"1\" class=\"dataframe\">\n",
              "  <thead>\n",
              "    <tr style=\"text-align: right;\">\n",
              "      <th></th>\n",
              "      <th>Agente  Causador  Acidente</th>\n",
              "      <th>Data Acidente</th>\n",
              "      <th>CBO</th>\n",
              "      <th>CID-10</th>\n",
              "      <th>CNAE2.0 Empregador</th>\n",
              "      <th>CNAE2.0 Empregador.1</th>\n",
              "      <th>Emitente CAT</th>\n",
              "      <th>Espécie do benefício</th>\n",
              "      <th>Filiação Segurado</th>\n",
              "      <th>Indica Óbito Acidente</th>\n",
              "      <th>...</th>\n",
              "      <th>Sexo</th>\n",
              "      <th>Tipo do Acidente</th>\n",
              "      <th>UF  Munic.  Acidente</th>\n",
              "      <th>UF Munic. Empregador</th>\n",
              "      <th>Data Acidente.1</th>\n",
              "      <th>Data Despacho Benefício</th>\n",
              "      <th>Data Acidente.2</th>\n",
              "      <th>Data Nascimento</th>\n",
              "      <th>Data Emissão CAT</th>\n",
              "      <th>CNPJ/CEI Empregador</th>\n",
              "    </tr>\n",
              "  </thead>\n",
              "  <tbody>\n",
              "    <tr>\n",
              "      <th>0</th>\n",
              "      <td>{ñ class}</td>\n",
              "      <td>2022/01</td>\n",
              "      <td>515105-Agente Comunitário de Saúde</td>\n",
              "      <td>B34.2 Infecc p/Coronavirus Ne</td>\n",
              "      <td>8630</td>\n",
              "      <td>Atividades de Atencao Ambulatorial Executadas</td>\n",
              "      <td>Empregador</td>\n",
              "      <td>Pa</td>\n",
              "      <td>Empregado</td>\n",
              "      <td>Não</td>\n",
              "      <td>...</td>\n",
              "      <td>Feminino</td>\n",
              "      <td>Doença</td>\n",
              "      <td>Maranhão</td>\n",
              "      <td>São Paulo</td>\n",
              "      <td>2022/01</td>\n",
              "      <td>0000/00</td>\n",
              "      <td>20/01/2022</td>\n",
              "      <td>02/08/1970</td>\n",
              "      <td>01/03/2022</td>\n",
              "      <td>57.571.275.002.570</td>\n",
              "    </tr>\n",
              "    <tr>\n",
              "      <th>1</th>\n",
              "      <td>Motocicleta, Motoneta</td>\n",
              "      <td>2022/02</td>\n",
              "      <td>519110-Motociclista no Transporte de Document</td>\n",
              "      <td>S52.5 Frat da Extremidade Distal do Radio</td>\n",
              "      <td>4930</td>\n",
              "      <td>Transporte Rodoviario de Carga</td>\n",
              "      <td>Segurado/Dependente</td>\n",
              "      <td>Pa</td>\n",
              "      <td>Empregado</td>\n",
              "      <td>Não</td>\n",
              "      <td>...</td>\n",
              "      <td>Masculino</td>\n",
              "      <td>Trajeto</td>\n",
              "      <td>Maranhão</td>\n",
              "      <td>São Paulo</td>\n",
              "      <td>2022/02</td>\n",
              "      <td>0000/00</td>\n",
              "      <td>25/02/2022</td>\n",
              "      <td>16/12/1990</td>\n",
              "      <td>01/03/2022</td>\n",
              "      <td>19.578.086.000.162</td>\n",
              "    </tr>\n",
              "    <tr>\n",
              "      <th>2</th>\n",
              "      <td>Motocicleta, Motoneta</td>\n",
              "      <td>2022/02</td>\n",
              "      <td>519110-Motociclista no Transporte de Document</td>\n",
              "      <td>S52.5 Frat da Extremidade Distal do Radio</td>\n",
              "      <td>4930</td>\n",
              "      <td>Transporte Rodoviario de Carga</td>\n",
              "      <td>Segurado/Dependente</td>\n",
              "      <td>Pa</td>\n",
              "      <td>Empregado</td>\n",
              "      <td>Não</td>\n",
              "      <td>...</td>\n",
              "      <td>Masculino</td>\n",
              "      <td>Trajeto</td>\n",
              "      <td>Maranhão</td>\n",
              "      <td>São Paulo</td>\n",
              "      <td>2022/02</td>\n",
              "      <td>0000/00</td>\n",
              "      <td>25/02/2022</td>\n",
              "      <td>16/12/1990</td>\n",
              "      <td>01/03/2022</td>\n",
              "      <td>19.578.086.000.162</td>\n",
              "    </tr>\n",
              "    <tr>\n",
              "      <th>3</th>\n",
              "      <td>Aprision. Em, Sobre ou Entre Dois ou Mai</td>\n",
              "      <td>2022/02</td>\n",
              "      <td>514205-Coletor Lixo</td>\n",
              "      <td>S60.0 Contusao de Dedos s/Lesao da Unha</td>\n",
              "      <td>3811</td>\n",
              "      <td>Coleta de Residuos Nao-Perigosos</td>\n",
              "      <td>Empregador</td>\n",
              "      <td>Pa</td>\n",
              "      <td>Empregado</td>\n",
              "      <td>Não</td>\n",
              "      <td>...</td>\n",
              "      <td>Masculino</td>\n",
              "      <td>Típico</td>\n",
              "      <td>{ñ class}</td>\n",
              "      <td>Goiás</td>\n",
              "      <td>2022/02</td>\n",
              "      <td>0000/00</td>\n",
              "      <td>24/02/2022</td>\n",
              "      <td>19/09/1986</td>\n",
              "      <td>01/03/2022</td>\n",
              "      <td>00.000.000.000.000</td>\n",
              "    </tr>\n",
              "  </tbody>\n",
              "</table>\n",
              "<p>4 rows × 24 columns</p>\n",
              "</div>\n",
              "      <button class=\"colab-df-convert\" onclick=\"convertToInteractive('df-2ffb5671-f833-4dcb-9b10-54b7e680b88f')\"\n",
              "              title=\"Convert this dataframe to an interactive table.\"\n",
              "              style=\"display:none;\">\n",
              "        \n",
              "  <svg xmlns=\"http://www.w3.org/2000/svg\" height=\"24px\"viewBox=\"0 0 24 24\"\n",
              "       width=\"24px\">\n",
              "    <path d=\"M0 0h24v24H0V0z\" fill=\"none\"/>\n",
              "    <path d=\"M18.56 5.44l.94 2.06.94-2.06 2.06-.94-2.06-.94-.94-2.06-.94 2.06-2.06.94zm-11 1L8.5 8.5l.94-2.06 2.06-.94-2.06-.94L8.5 2.5l-.94 2.06-2.06.94zm10 10l.94 2.06.94-2.06 2.06-.94-2.06-.94-.94-2.06-.94 2.06-2.06.94z\"/><path d=\"M17.41 7.96l-1.37-1.37c-.4-.4-.92-.59-1.43-.59-.52 0-1.04.2-1.43.59L10.3 9.45l-7.72 7.72c-.78.78-.78 2.05 0 2.83L4 21.41c.39.39.9.59 1.41.59.51 0 1.02-.2 1.41-.59l7.78-7.78 2.81-2.81c.8-.78.8-2.07 0-2.86zM5.41 20L4 18.59l7.72-7.72 1.47 1.35L5.41 20z\"/>\n",
              "  </svg>\n",
              "      </button>\n",
              "      \n",
              "  <style>\n",
              "    .colab-df-container {\n",
              "      display:flex;\n",
              "      flex-wrap:wrap;\n",
              "      gap: 12px;\n",
              "    }\n",
              "\n",
              "    .colab-df-convert {\n",
              "      background-color: #E8F0FE;\n",
              "      border: none;\n",
              "      border-radius: 50%;\n",
              "      cursor: pointer;\n",
              "      display: none;\n",
              "      fill: #1967D2;\n",
              "      height: 32px;\n",
              "      padding: 0 0 0 0;\n",
              "      width: 32px;\n",
              "    }\n",
              "\n",
              "    .colab-df-convert:hover {\n",
              "      background-color: #E2EBFA;\n",
              "      box-shadow: 0px 1px 2px rgba(60, 64, 67, 0.3), 0px 1px 3px 1px rgba(60, 64, 67, 0.15);\n",
              "      fill: #174EA6;\n",
              "    }\n",
              "\n",
              "    [theme=dark] .colab-df-convert {\n",
              "      background-color: #3B4455;\n",
              "      fill: #D2E3FC;\n",
              "    }\n",
              "\n",
              "    [theme=dark] .colab-df-convert:hover {\n",
              "      background-color: #434B5C;\n",
              "      box-shadow: 0px 1px 3px 1px rgba(0, 0, 0, 0.15);\n",
              "      filter: drop-shadow(0px 1px 2px rgba(0, 0, 0, 0.3));\n",
              "      fill: #FFFFFF;\n",
              "    }\n",
              "  </style>\n",
              "\n",
              "      <script>\n",
              "        const buttonEl =\n",
              "          document.querySelector('#df-2ffb5671-f833-4dcb-9b10-54b7e680b88f button.colab-df-convert');\n",
              "        buttonEl.style.display =\n",
              "          google.colab.kernel.accessAllowed ? 'block' : 'none';\n",
              "\n",
              "        async function convertToInteractive(key) {\n",
              "          const element = document.querySelector('#df-2ffb5671-f833-4dcb-9b10-54b7e680b88f');\n",
              "          const dataTable =\n",
              "            await google.colab.kernel.invokeFunction('convertToInteractive',\n",
              "                                                     [key], {});\n",
              "          if (!dataTable) return;\n",
              "\n",
              "          const docLinkHtml = 'Like what you see? Visit the ' +\n",
              "            '<a target=\"_blank\" href=https://colab.research.google.com/notebooks/data_table.ipynb>data table notebook</a>'\n",
              "            + ' to learn more about interactive tables.';\n",
              "          element.innerHTML = '';\n",
              "          dataTable['output_type'] = 'display_data';\n",
              "          await google.colab.output.renderOutput(dataTable, element);\n",
              "          const docLink = document.createElement('div');\n",
              "          docLink.innerHTML = docLinkHtml;\n",
              "          element.appendChild(docLink);\n",
              "        }\n",
              "      </script>\n",
              "    </div>\n",
              "  </div>\n",
              "  "
            ]
          },
          "metadata": {},
          "execution_count": 168
        }
      ],
      "source": [
        "df.head(4)"
      ]
    },
    {
      "cell_type": "code",
      "execution_count": null,
      "metadata": {
        "id": "MxYXLKQrIWmV"
      },
      "outputs": [],
      "source": [
        "pd.set_option('display.max_columns',None)"
      ]
    },
    {
      "cell_type": "code",
      "execution_count": null,
      "metadata": {
        "colab": {
          "base_uri": "https://localhost:8080/"
        },
        "id": "9VuVUPm2Yj4e",
        "outputId": "1f458bc7-723b-411b-df6c-7a40f42fd1cc"
      },
      "outputs": [
        {
          "output_type": "execute_result",
          "data": {
            "text/plain": [
              "(257401, 24)"
            ]
          },
          "metadata": {},
          "execution_count": 173
        }
      ],
      "source": [
        "df.shape"
      ]
    },
    {
      "cell_type": "code",
      "execution_count": null,
      "metadata": {
        "colab": {
          "base_uri": "https://localhost:8080/"
        },
        "id": "ZRBYrQxsqohy",
        "outputId": "d4eda36f-6aa7-4c03-dd84-e2ae470f6cf9"
      },
      "outputs": [
        {
          "data": {
            "text/plain": [
              "Agente  Causador  Acidente     0\n",
              "Data Acidente                  0\n",
              "CBO                            0\n",
              "CID-10                         0\n",
              "CNAE2.0 Empregador             0\n",
              "CNAE2.0 Empregador.1           0\n",
              "Emitente CAT                   0\n",
              "Espécie do benefício           0\n",
              "Filiação Segurado              0\n",
              "Indica Óbito Acidente          0\n",
              "Munic Empr                     0\n",
              "Natureza da Lesão              0\n",
              "Origem de Cadastramento CAT    0\n",
              "Parte Corpo Atingida           0\n",
              "Sexo                           0\n",
              "Tipo do Acidente               0\n",
              "UF  Munic.  Acidente           0\n",
              "UF Munic. Empregador           0\n",
              "Data Acidente.1                0\n",
              "Data Despacho Benefício        0\n",
              "Data Acidente.2                0\n",
              "Data Nascimento                0\n",
              "Data Emissão CAT               0\n",
              "CNPJ/CEI Empregador            0\n",
              "dtype: int64"
            ]
          },
          "execution_count": 17,
          "metadata": {},
          "output_type": "execute_result"
        }
      ],
      "source": [
        "# Checando valores vazios\n",
        "df.isna().sum()"
      ]
    },
    {
      "cell_type": "code",
      "execution_count": null,
      "metadata": {
        "id": "gdXOxi6iaAdV",
        "colab": {
          "base_uri": "https://localhost:8080/",
          "height": 1000
        },
        "outputId": "337d9cde-e067-41e0-95fc-47eabf55096c"
      },
      "outputs": [
        {
          "output_type": "execute_result",
          "data": {
            "text/plain": [
              "                          Agente  Causador  Acidente Data Acidente  \\\n",
              "1      Motocicleta, Motoneta                               2022/02   \n",
              "2      Motocicleta, Motoneta                               2022/02   \n",
              "212    Motocicleta, Motoneta                               2022/02   \n",
              "265    Motocicleta, Motoneta                               2022/02   \n",
              "274    Motocicleta, Motoneta                               2022/02   \n",
              "...                                              ...           ...   \n",
              "4842   Aprision. Em, Sobre ou Entre Objeto Para            2022/10   \n",
              "8104   Impacto Sofrido por Pes. de Objeto Que Cai          2022/09   \n",
              "8118   Impacto Sofrido por Pes. de Objeto Que Cai          2022/09   \n",
              "13391  Reacao do Corpo a Movimento Voluntario              2022/10   \n",
              "13717  Reacao do Corpo a Movimento Voluntario              2022/10   \n",
              "\n",
              "                                                 CBO  \\\n",
              "1      519110-Motociclista no Transporte de Document   \n",
              "2      519110-Motociclista no Transporte de Document   \n",
              "212    521125-Repositor de Mercadorias                 \n",
              "265    521125-Repositor de Mercadorias                 \n",
              "274    521125-Repositor de Mercadorias                 \n",
              "...                                              ...   \n",
              "4842   784105-Embalador, a Mão                         \n",
              "8104   715210-Pedreiro                                 \n",
              "8118   715210-Pedreiro                                 \n",
              "13391  414110-Armazenista                              \n",
              "13717  414110-Armazenista                              \n",
              "\n",
              "                                              CID-10  CNAE2.0 Empregador  \\\n",
              "1      S52.5 Frat da Extremidade Distal do Radio                    4930   \n",
              "2      S52.5 Frat da Extremidade Distal do Radio                    4930   \n",
              "212    L08.8 Outr Infecc Local Espec Pele Tec Subcut                4744   \n",
              "265    S90.7 Traum Superf Mult do Tornozelo e do Pe                 4744   \n",
              "274    S90.7 Traum Superf Mult do Tornozelo e do Pe                 4744   \n",
              "...                                              ...                 ...   \n",
              "4842   S62.6 Frat de Outr Dedos                                     2222   \n",
              "8104   S62.2 Frat do Primeiro Metacarpiano                          4330   \n",
              "8118   S62.2 Frat do Primeiro Metacarpiano                          4330   \n",
              "13391  S93.4 Entorse e Distensao do Tornozelo                       4622   \n",
              "13717  S93.4 Entorse e Distensao do Tornozelo                       4622   \n",
              "\n",
              "                                CNAE2.0 Empregador.1         Emitente CAT  \\\n",
              "1      Transporte Rodoviario de Carga                 Segurado/Dependente   \n",
              "2      Transporte Rodoviario de Carga                 Segurado/Dependente   \n",
              "212    Comercio Varejista de Ferragens, Madeira e Ma  Empregador            \n",
              "265    Comercio Varejista de Ferragens, Madeira e Ma  Empregador            \n",
              "274    Comercio Varejista de Ferragens, Madeira e Ma  Empregador            \n",
              "...                                              ...                  ...   \n",
              "4842   Fabricacao de Embalagens de Material Plastico  Empregador            \n",
              "8104   Obras de Acabamento                            Empregador            \n",
              "8118   Obras de Acabamento                            Empregador            \n",
              "13391  Comercio Atacadista de Soja                    Empregador            \n",
              "13717  Comercio Atacadista de Soja                    Empregador            \n",
              "\n",
              "                                Espécie do benefício  \\\n",
              "1      Pa                                              \n",
              "2      Pa                                              \n",
              "212    Pa                                              \n",
              "265    Pa                                              \n",
              "274    Pa                                              \n",
              "...                                              ...   \n",
              "4842   Pa                                              \n",
              "8104   Pa                                              \n",
              "8118   Pa                                              \n",
              "13391  Pa                                              \n",
              "13717  Pa                                              \n",
              "\n",
              "                                   Filiação Segurado Indica Óbito Acidente  \\\n",
              "1      Empregado                                                       Não   \n",
              "2      Empregado                                                       Não   \n",
              "212    Empregado                                                       Não   \n",
              "265    Empregado                                                       Não   \n",
              "274    Empregado                                                       Não   \n",
              "...                                              ...                   ...   \n",
              "4842   Empregado                                                       Não   \n",
              "8104   Empregado                                                       Não   \n",
              "8118   Empregado                                                       Não   \n",
              "13391  Empregado                                                       Não   \n",
              "13717  Empregado                                                       Não   \n",
              "\n",
              "       ...           Sexo Tipo do Acidente UF  Munic.  Acidente  \\\n",
              "1      ...  Masculino             Trajeto      Maranhão           \n",
              "2      ...  Masculino             Trajeto      Maranhão           \n",
              "212    ...  Masculino             Trajeto      Pará               \n",
              "265    ...  Masculino             Trajeto      Pará               \n",
              "274    ...  Masculino             Trajeto      Pará               \n",
              "...    ...            ...              ...                  ...   \n",
              "4842   ...  Masculino             Típico       Maranhão           \n",
              "8104   ...  Masculino             Típico       Roraima            \n",
              "8118   ...  Masculino             Típico       Roraima            \n",
              "13391  ...  Masculino             Típico       {ñ class}          \n",
              "13717  ...  Masculino             Típico       {ñ class}          \n",
              "\n",
              "      UF Munic. Empregador Data Acidente.1 Data Despacho Benefício  \\\n",
              "1      São Paulo                   2022/02                 0000/00   \n",
              "2      São Paulo                   2022/02                 0000/00   \n",
              "212    Pernambuco                  2022/02                 0000/00   \n",
              "265    Pernambuco                  2022/02                 0000/00   \n",
              "274    Pernambuco                  2022/02                 0000/00   \n",
              "...                    ...             ...                     ...   \n",
              "4842   São Paulo                   2022/10                 0000/00   \n",
              "8104   Paraná                      2022/09                 0000/00   \n",
              "8118   Paraná                      2022/09                 0000/00   \n",
              "13391  Rio Grande do Sul           2022/10                 0000/00   \n",
              "13717  Rio Grande do Sul           2022/10                 0000/00   \n",
              "\n",
              "      Data Acidente.2 Data Nascimento Data Emissão CAT CNPJ/CEI Empregador  \n",
              "1          25/02/2022      16/12/1990       01/03/2022  19.578.086.000.162  \n",
              "2          25/02/2022      16/12/1990       01/03/2022  19.578.086.000.162  \n",
              "212        20/02/2022      17/07/2002       01/03/2022  00.000.000.000.000  \n",
              "265        13/02/2022      15/12/1994       01/03/2022  00.000.000.000.000  \n",
              "274        13/02/2022      15/12/1994       01/03/2022  00.000.000.000.000  \n",
              "...               ...             ...              ...                 ...  \n",
              "4842       13/10/2022      16/05/1966       14/10/2022  00.000.000.000.000  \n",
              "8104       14/09/2022      30/07/1981       21/10/2022  00.000.000.000.000  \n",
              "8118       14/09/2022      30/07/1981       21/10/2022  00.000.000.000.000  \n",
              "13391      03/10/2022      29/09/1996       05/10/2022  00.000.000.000.000  \n",
              "13717      03/10/2022      29/09/1996       05/10/2022  00.000.000.000.000  \n",
              "\n",
              "[190257 rows x 24 columns]"
            ],
            "text/html": [
              "\n",
              "  <div id=\"df-04ae5ab1-9e5e-4881-8fd2-427a2fc9c382\">\n",
              "    <div class=\"colab-df-container\">\n",
              "      <div>\n",
              "<style scoped>\n",
              "    .dataframe tbody tr th:only-of-type {\n",
              "        vertical-align: middle;\n",
              "    }\n",
              "\n",
              "    .dataframe tbody tr th {\n",
              "        vertical-align: top;\n",
              "    }\n",
              "\n",
              "    .dataframe thead th {\n",
              "        text-align: right;\n",
              "    }\n",
              "</style>\n",
              "<table border=\"1\" class=\"dataframe\">\n",
              "  <thead>\n",
              "    <tr style=\"text-align: right;\">\n",
              "      <th></th>\n",
              "      <th>Agente  Causador  Acidente</th>\n",
              "      <th>Data Acidente</th>\n",
              "      <th>CBO</th>\n",
              "      <th>CID-10</th>\n",
              "      <th>CNAE2.0 Empregador</th>\n",
              "      <th>CNAE2.0 Empregador.1</th>\n",
              "      <th>Emitente CAT</th>\n",
              "      <th>Espécie do benefício</th>\n",
              "      <th>Filiação Segurado</th>\n",
              "      <th>Indica Óbito Acidente</th>\n",
              "      <th>...</th>\n",
              "      <th>Sexo</th>\n",
              "      <th>Tipo do Acidente</th>\n",
              "      <th>UF  Munic.  Acidente</th>\n",
              "      <th>UF Munic. Empregador</th>\n",
              "      <th>Data Acidente.1</th>\n",
              "      <th>Data Despacho Benefício</th>\n",
              "      <th>Data Acidente.2</th>\n",
              "      <th>Data Nascimento</th>\n",
              "      <th>Data Emissão CAT</th>\n",
              "      <th>CNPJ/CEI Empregador</th>\n",
              "    </tr>\n",
              "  </thead>\n",
              "  <tbody>\n",
              "    <tr>\n",
              "      <th>1</th>\n",
              "      <td>Motocicleta, Motoneta</td>\n",
              "      <td>2022/02</td>\n",
              "      <td>519110-Motociclista no Transporte de Document</td>\n",
              "      <td>S52.5 Frat da Extremidade Distal do Radio</td>\n",
              "      <td>4930</td>\n",
              "      <td>Transporte Rodoviario de Carga</td>\n",
              "      <td>Segurado/Dependente</td>\n",
              "      <td>Pa</td>\n",
              "      <td>Empregado</td>\n",
              "      <td>Não</td>\n",
              "      <td>...</td>\n",
              "      <td>Masculino</td>\n",
              "      <td>Trajeto</td>\n",
              "      <td>Maranhão</td>\n",
              "      <td>São Paulo</td>\n",
              "      <td>2022/02</td>\n",
              "      <td>0000/00</td>\n",
              "      <td>25/02/2022</td>\n",
              "      <td>16/12/1990</td>\n",
              "      <td>01/03/2022</td>\n",
              "      <td>19.578.086.000.162</td>\n",
              "    </tr>\n",
              "    <tr>\n",
              "      <th>2</th>\n",
              "      <td>Motocicleta, Motoneta</td>\n",
              "      <td>2022/02</td>\n",
              "      <td>519110-Motociclista no Transporte de Document</td>\n",
              "      <td>S52.5 Frat da Extremidade Distal do Radio</td>\n",
              "      <td>4930</td>\n",
              "      <td>Transporte Rodoviario de Carga</td>\n",
              "      <td>Segurado/Dependente</td>\n",
              "      <td>Pa</td>\n",
              "      <td>Empregado</td>\n",
              "      <td>Não</td>\n",
              "      <td>...</td>\n",
              "      <td>Masculino</td>\n",
              "      <td>Trajeto</td>\n",
              "      <td>Maranhão</td>\n",
              "      <td>São Paulo</td>\n",
              "      <td>2022/02</td>\n",
              "      <td>0000/00</td>\n",
              "      <td>25/02/2022</td>\n",
              "      <td>16/12/1990</td>\n",
              "      <td>01/03/2022</td>\n",
              "      <td>19.578.086.000.162</td>\n",
              "    </tr>\n",
              "    <tr>\n",
              "      <th>212</th>\n",
              "      <td>Motocicleta, Motoneta</td>\n",
              "      <td>2022/02</td>\n",
              "      <td>521125-Repositor de Mercadorias</td>\n",
              "      <td>L08.8 Outr Infecc Local Espec Pele Tec Subcut</td>\n",
              "      <td>4744</td>\n",
              "      <td>Comercio Varejista de Ferragens, Madeira e Ma</td>\n",
              "      <td>Empregador</td>\n",
              "      <td>Pa</td>\n",
              "      <td>Empregado</td>\n",
              "      <td>Não</td>\n",
              "      <td>...</td>\n",
              "      <td>Masculino</td>\n",
              "      <td>Trajeto</td>\n",
              "      <td>Pará</td>\n",
              "      <td>Pernambuco</td>\n",
              "      <td>2022/02</td>\n",
              "      <td>0000/00</td>\n",
              "      <td>20/02/2022</td>\n",
              "      <td>17/07/2002</td>\n",
              "      <td>01/03/2022</td>\n",
              "      <td>00.000.000.000.000</td>\n",
              "    </tr>\n",
              "    <tr>\n",
              "      <th>265</th>\n",
              "      <td>Motocicleta, Motoneta</td>\n",
              "      <td>2022/02</td>\n",
              "      <td>521125-Repositor de Mercadorias</td>\n",
              "      <td>S90.7 Traum Superf Mult do Tornozelo e do Pe</td>\n",
              "      <td>4744</td>\n",
              "      <td>Comercio Varejista de Ferragens, Madeira e Ma</td>\n",
              "      <td>Empregador</td>\n",
              "      <td>Pa</td>\n",
              "      <td>Empregado</td>\n",
              "      <td>Não</td>\n",
              "      <td>...</td>\n",
              "      <td>Masculino</td>\n",
              "      <td>Trajeto</td>\n",
              "      <td>Pará</td>\n",
              "      <td>Pernambuco</td>\n",
              "      <td>2022/02</td>\n",
              "      <td>0000/00</td>\n",
              "      <td>13/02/2022</td>\n",
              "      <td>15/12/1994</td>\n",
              "      <td>01/03/2022</td>\n",
              "      <td>00.000.000.000.000</td>\n",
              "    </tr>\n",
              "    <tr>\n",
              "      <th>274</th>\n",
              "      <td>Motocicleta, Motoneta</td>\n",
              "      <td>2022/02</td>\n",
              "      <td>521125-Repositor de Mercadorias</td>\n",
              "      <td>S90.7 Traum Superf Mult do Tornozelo e do Pe</td>\n",
              "      <td>4744</td>\n",
              "      <td>Comercio Varejista de Ferragens, Madeira e Ma</td>\n",
              "      <td>Empregador</td>\n",
              "      <td>Pa</td>\n",
              "      <td>Empregado</td>\n",
              "      <td>Não</td>\n",
              "      <td>...</td>\n",
              "      <td>Masculino</td>\n",
              "      <td>Trajeto</td>\n",
              "      <td>Pará</td>\n",
              "      <td>Pernambuco</td>\n",
              "      <td>2022/02</td>\n",
              "      <td>0000/00</td>\n",
              "      <td>13/02/2022</td>\n",
              "      <td>15/12/1994</td>\n",
              "      <td>01/03/2022</td>\n",
              "      <td>00.000.000.000.000</td>\n",
              "    </tr>\n",
              "    <tr>\n",
              "      <th>...</th>\n",
              "      <td>...</td>\n",
              "      <td>...</td>\n",
              "      <td>...</td>\n",
              "      <td>...</td>\n",
              "      <td>...</td>\n",
              "      <td>...</td>\n",
              "      <td>...</td>\n",
              "      <td>...</td>\n",
              "      <td>...</td>\n",
              "      <td>...</td>\n",
              "      <td>...</td>\n",
              "      <td>...</td>\n",
              "      <td>...</td>\n",
              "      <td>...</td>\n",
              "      <td>...</td>\n",
              "      <td>...</td>\n",
              "      <td>...</td>\n",
              "      <td>...</td>\n",
              "      <td>...</td>\n",
              "      <td>...</td>\n",
              "      <td>...</td>\n",
              "    </tr>\n",
              "    <tr>\n",
              "      <th>4842</th>\n",
              "      <td>Aprision. Em, Sobre ou Entre Objeto Para</td>\n",
              "      <td>2022/10</td>\n",
              "      <td>784105-Embalador, a Mão</td>\n",
              "      <td>S62.6 Frat de Outr Dedos</td>\n",
              "      <td>2222</td>\n",
              "      <td>Fabricacao de Embalagens de Material Plastico</td>\n",
              "      <td>Empregador</td>\n",
              "      <td>Pa</td>\n",
              "      <td>Empregado</td>\n",
              "      <td>Não</td>\n",
              "      <td>...</td>\n",
              "      <td>Masculino</td>\n",
              "      <td>Típico</td>\n",
              "      <td>Maranhão</td>\n",
              "      <td>São Paulo</td>\n",
              "      <td>2022/10</td>\n",
              "      <td>0000/00</td>\n",
              "      <td>13/10/2022</td>\n",
              "      <td>16/05/1966</td>\n",
              "      <td>14/10/2022</td>\n",
              "      <td>00.000.000.000.000</td>\n",
              "    </tr>\n",
              "    <tr>\n",
              "      <th>8104</th>\n",
              "      <td>Impacto Sofrido por Pes. de Objeto Que Cai</td>\n",
              "      <td>2022/09</td>\n",
              "      <td>715210-Pedreiro</td>\n",
              "      <td>S62.2 Frat do Primeiro Metacarpiano</td>\n",
              "      <td>4330</td>\n",
              "      <td>Obras de Acabamento</td>\n",
              "      <td>Empregador</td>\n",
              "      <td>Pa</td>\n",
              "      <td>Empregado</td>\n",
              "      <td>Não</td>\n",
              "      <td>...</td>\n",
              "      <td>Masculino</td>\n",
              "      <td>Típico</td>\n",
              "      <td>Roraima</td>\n",
              "      <td>Paraná</td>\n",
              "      <td>2022/09</td>\n",
              "      <td>0000/00</td>\n",
              "      <td>14/09/2022</td>\n",
              "      <td>30/07/1981</td>\n",
              "      <td>21/10/2022</td>\n",
              "      <td>00.000.000.000.000</td>\n",
              "    </tr>\n",
              "    <tr>\n",
              "      <th>8118</th>\n",
              "      <td>Impacto Sofrido por Pes. de Objeto Que Cai</td>\n",
              "      <td>2022/09</td>\n",
              "      <td>715210-Pedreiro</td>\n",
              "      <td>S62.2 Frat do Primeiro Metacarpiano</td>\n",
              "      <td>4330</td>\n",
              "      <td>Obras de Acabamento</td>\n",
              "      <td>Empregador</td>\n",
              "      <td>Pa</td>\n",
              "      <td>Empregado</td>\n",
              "      <td>Não</td>\n",
              "      <td>...</td>\n",
              "      <td>Masculino</td>\n",
              "      <td>Típico</td>\n",
              "      <td>Roraima</td>\n",
              "      <td>Paraná</td>\n",
              "      <td>2022/09</td>\n",
              "      <td>0000/00</td>\n",
              "      <td>14/09/2022</td>\n",
              "      <td>30/07/1981</td>\n",
              "      <td>21/10/2022</td>\n",
              "      <td>00.000.000.000.000</td>\n",
              "    </tr>\n",
              "    <tr>\n",
              "      <th>13391</th>\n",
              "      <td>Reacao do Corpo a Movimento Voluntario</td>\n",
              "      <td>2022/10</td>\n",
              "      <td>414110-Armazenista</td>\n",
              "      <td>S93.4 Entorse e Distensao do Tornozelo</td>\n",
              "      <td>4622</td>\n",
              "      <td>Comercio Atacadista de Soja</td>\n",
              "      <td>Empregador</td>\n",
              "      <td>Pa</td>\n",
              "      <td>Empregado</td>\n",
              "      <td>Não</td>\n",
              "      <td>...</td>\n",
              "      <td>Masculino</td>\n",
              "      <td>Típico</td>\n",
              "      <td>{ñ class}</td>\n",
              "      <td>Rio Grande do Sul</td>\n",
              "      <td>2022/10</td>\n",
              "      <td>0000/00</td>\n",
              "      <td>03/10/2022</td>\n",
              "      <td>29/09/1996</td>\n",
              "      <td>05/10/2022</td>\n",
              "      <td>00.000.000.000.000</td>\n",
              "    </tr>\n",
              "    <tr>\n",
              "      <th>13717</th>\n",
              "      <td>Reacao do Corpo a Movimento Voluntario</td>\n",
              "      <td>2022/10</td>\n",
              "      <td>414110-Armazenista</td>\n",
              "      <td>S93.4 Entorse e Distensao do Tornozelo</td>\n",
              "      <td>4622</td>\n",
              "      <td>Comercio Atacadista de Soja</td>\n",
              "      <td>Empregador</td>\n",
              "      <td>Pa</td>\n",
              "      <td>Empregado</td>\n",
              "      <td>Não</td>\n",
              "      <td>...</td>\n",
              "      <td>Masculino</td>\n",
              "      <td>Típico</td>\n",
              "      <td>{ñ class}</td>\n",
              "      <td>Rio Grande do Sul</td>\n",
              "      <td>2022/10</td>\n",
              "      <td>0000/00</td>\n",
              "      <td>03/10/2022</td>\n",
              "      <td>29/09/1996</td>\n",
              "      <td>05/10/2022</td>\n",
              "      <td>00.000.000.000.000</td>\n",
              "    </tr>\n",
              "  </tbody>\n",
              "</table>\n",
              "<p>190257 rows × 24 columns</p>\n",
              "</div>\n",
              "      <button class=\"colab-df-convert\" onclick=\"convertToInteractive('df-04ae5ab1-9e5e-4881-8fd2-427a2fc9c382')\"\n",
              "              title=\"Convert this dataframe to an interactive table.\"\n",
              "              style=\"display:none;\">\n",
              "        \n",
              "  <svg xmlns=\"http://www.w3.org/2000/svg\" height=\"24px\"viewBox=\"0 0 24 24\"\n",
              "       width=\"24px\">\n",
              "    <path d=\"M0 0h24v24H0V0z\" fill=\"none\"/>\n",
              "    <path d=\"M18.56 5.44l.94 2.06.94-2.06 2.06-.94-2.06-.94-.94-2.06-.94 2.06-2.06.94zm-11 1L8.5 8.5l.94-2.06 2.06-.94-2.06-.94L8.5 2.5l-.94 2.06-2.06.94zm10 10l.94 2.06.94-2.06 2.06-.94-2.06-.94-.94-2.06-.94 2.06-2.06.94z\"/><path d=\"M17.41 7.96l-1.37-1.37c-.4-.4-.92-.59-1.43-.59-.52 0-1.04.2-1.43.59L10.3 9.45l-7.72 7.72c-.78.78-.78 2.05 0 2.83L4 21.41c.39.39.9.59 1.41.59.51 0 1.02-.2 1.41-.59l7.78-7.78 2.81-2.81c.8-.78.8-2.07 0-2.86zM5.41 20L4 18.59l7.72-7.72 1.47 1.35L5.41 20z\"/>\n",
              "  </svg>\n",
              "      </button>\n",
              "      \n",
              "  <style>\n",
              "    .colab-df-container {\n",
              "      display:flex;\n",
              "      flex-wrap:wrap;\n",
              "      gap: 12px;\n",
              "    }\n",
              "\n",
              "    .colab-df-convert {\n",
              "      background-color: #E8F0FE;\n",
              "      border: none;\n",
              "      border-radius: 50%;\n",
              "      cursor: pointer;\n",
              "      display: none;\n",
              "      fill: #1967D2;\n",
              "      height: 32px;\n",
              "      padding: 0 0 0 0;\n",
              "      width: 32px;\n",
              "    }\n",
              "\n",
              "    .colab-df-convert:hover {\n",
              "      background-color: #E2EBFA;\n",
              "      box-shadow: 0px 1px 2px rgba(60, 64, 67, 0.3), 0px 1px 3px 1px rgba(60, 64, 67, 0.15);\n",
              "      fill: #174EA6;\n",
              "    }\n",
              "\n",
              "    [theme=dark] .colab-df-convert {\n",
              "      background-color: #3B4455;\n",
              "      fill: #D2E3FC;\n",
              "    }\n",
              "\n",
              "    [theme=dark] .colab-df-convert:hover {\n",
              "      background-color: #434B5C;\n",
              "      box-shadow: 0px 1px 3px 1px rgba(0, 0, 0, 0.15);\n",
              "      filter: drop-shadow(0px 1px 2px rgba(0, 0, 0, 0.3));\n",
              "      fill: #FFFFFF;\n",
              "    }\n",
              "  </style>\n",
              "\n",
              "      <script>\n",
              "        const buttonEl =\n",
              "          document.querySelector('#df-04ae5ab1-9e5e-4881-8fd2-427a2fc9c382 button.colab-df-convert');\n",
              "        buttonEl.style.display =\n",
              "          google.colab.kernel.accessAllowed ? 'block' : 'none';\n",
              "\n",
              "        async function convertToInteractive(key) {\n",
              "          const element = document.querySelector('#df-04ae5ab1-9e5e-4881-8fd2-427a2fc9c382');\n",
              "          const dataTable =\n",
              "            await google.colab.kernel.invokeFunction('convertToInteractive',\n",
              "                                                     [key], {});\n",
              "          if (!dataTable) return;\n",
              "\n",
              "          const docLinkHtml = 'Like what you see? Visit the ' +\n",
              "            '<a target=\"_blank\" href=https://colab.research.google.com/notebooks/data_table.ipynb>data table notebook</a>'\n",
              "            + ' to learn more about interactive tables.';\n",
              "          element.innerHTML = '';\n",
              "          dataTable['output_type'] = 'display_data';\n",
              "          await google.colab.output.renderOutput(dataTable, element);\n",
              "          const docLink = document.createElement('div');\n",
              "          docLink.innerHTML = docLinkHtml;\n",
              "          element.appendChild(docLink);\n",
              "        }\n",
              "      </script>\n",
              "    </div>\n",
              "  </div>\n",
              "  "
            ]
          },
          "metadata": {},
          "execution_count": 174
        }
      ],
      "source": [
        "# Checando se há linhas duplicadas\n",
        "df[df.duplicated(keep=False)]"
      ]
    },
    {
      "cell_type": "code",
      "execution_count": null,
      "metadata": {
        "id": "wmj-sN1zkNmi"
      },
      "outputs": [],
      "source": [
        "df = df.drop_duplicates()"
      ]
    },
    {
      "cell_type": "code",
      "execution_count": 9,
      "metadata": {
        "colab": {
          "base_uri": "https://localhost:8080/"
        },
        "id": "TWoodsnI49WE",
        "outputId": "9428ddca-0232-4db7-9f61-00ad6ad6e8b7"
      },
      "outputs": [
        {
          "output_type": "execute_result",
          "data": {
            "text/plain": [
              "True"
            ]
          },
          "metadata": {},
          "execution_count": 9
        }
      ],
      "source": [
        "# Comparando as duas colunas da tabela\n",
        "df['Data Acidente.1'].equals(df['Data Acidente'])"
      ]
    },
    {
      "cell_type": "code",
      "execution_count": 10,
      "metadata": {
        "id": "845iqwti6_gr"
      },
      "outputs": [],
      "source": [
        "# dropando uma das colunas iguais\n",
        "# dropando Origem do cadastramento, pois só exibe um valor, sendo irrelevante para as análises.\n",
        "df.drop('Data Acidente',axis=1,inplace=True)\n",
        "df.drop('Origem de Cadastramento CAT',axis=1,inplace=True)"
      ]
    },
    {
      "cell_type": "code",
      "execution_count": 11,
      "metadata": {
        "id": "LJXrHjmT3BTa"
      },
      "outputs": [],
      "source": [
        "# Renomeando as colunas para deixá-las mais fáceis\n",
        "df.rename(columns={'Agente  Causador  Acidente':'ag_causador', 'CID-10':'cid10','CNAE2.0 Empregador':'cod_cnae',\n",
        "                   'CNAE2.0 Empregador.1':'desc_cnae','Emitente CAT':'emitente_cat','Espécie do benefício':'tipo_beneficio',\n",
        "                   'Filiação Segurado':'filiacao_seg','Indica Óbito Acidente':'obito','Munic Empr':'munic_empregador',\n",
        "                   'Natureza da Lesão':'nat_lesao','Parte Corpo Atingida':'local_da_lesao','Tipo do Acidente':'tipo_acid',\n",
        "                   'UF  Munic.  Acidente':'uf_acid','UF Munic. Empregador':'uf_empregador','Data Acidente.1':'dt_acid',\n",
        "                    'Data Despacho Benefício':'dt_desp_ben', 'Data Acidente.2':'data','Data Nascimento':'dt_nasc','Data Emissão CAT':'dt_emissao_cat',\n",
        "                   'CNPJ/CEI Empregador':'cnpj_cei'},inplace=True)"
      ]
    },
    {
      "cell_type": "code",
      "execution_count": null,
      "metadata": {
        "colab": {
          "base_uri": "https://localhost:8080/"
        },
        "id": "IZKO888TTGZL",
        "outputId": "94318ccc-f9bf-4cc6-842f-514a5ff84d43"
      },
      "outputs": [
        {
          "data": {
            "text/plain": [
              "ag_causador         object\n",
              "cbo                 object\n",
              "cid10               object\n",
              "cod_cnae             int64\n",
              "desc_cnae           object\n",
              "emitente_cat        object\n",
              "tipo_beneficio      object\n",
              "filiacao_seg        object\n",
              "obito               object\n",
              "munic_empregador    object\n",
              "nat_lesao           object\n",
              "local_da_lesao      object\n",
              "sexo                object\n",
              "tipo_acid           object\n",
              "uf_acid             object\n",
              "uf_empregador       object\n",
              "dt_acid             object\n",
              "dt_desp_ben         object\n",
              "data                object\n",
              "dt_nasc             object\n",
              "dt_emissao_cat      object\n",
              "cnpj_cei            object\n",
              "dtype: object"
            ]
          },
          "execution_count": 21,
          "metadata": {},
          "output_type": "execute_result"
        }
      ],
      "source": [
        "df.dtypes"
      ]
    },
    {
      "cell_type": "code",
      "execution_count": 12,
      "metadata": {
        "id": "gFTzskALLE8A"
      },
      "outputs": [],
      "source": [
        "#criando uma lista para armazenar os IDs e após isso inserando na tabela\n",
        "id = []\n",
        "for i in range(len(df)):\n",
        "  id.append(str(i))\n",
        "  \n",
        "df.insert(0,'id',id)"
      ]
    },
    {
      "cell_type": "code",
      "execution_count": null,
      "metadata": {
        "id": "yoYcqLPZSylH"
      },
      "outputs": [],
      "source": [
        "# usando unique novamente para checar inconsistências de cada coluna\n",
        "# Inconsistências: valores com muitos espaços - ok, {ñ class} - ok ,{ñ - ok\n",
        "# tipo_beneficio: 'Pa' é uma inconsistência?\n",
        "# separar as colunas para ver melhor: cbo, cid10, munic_empregador\n",
        "# sexo: 'Não Informado' -ok, 'Indeterminado' é inconsistência?\n",
        "# tipo_acid: 'Ignorado' - ok\n",
        "# uf_acid: 'Zerado' - ok\n",
        "# dt_nasc, dt_desp_ben, dt_emissao_cat: 00/00/0000 - ok\n",
        "# olhar o cnpj_cei: 00.000.000.000.000 - ok\n",
        "\n",
        "sorted(df['dt_nasc'].unique(),reverse=True)"
      ]
    },
    {
      "cell_type": "code",
      "execution_count": 13,
      "metadata": {
        "id": "GOhar215dhYv"
      },
      "outputs": [],
      "source": [
        "# Usando python para percorrer as colunas e retirar o excesso de espaços. foi necessário transformar cod_cnae em string para utilizar esse método.\n",
        "df['cod_cnae'] = df['cod_cnae'].astype(str)\n",
        "for coluna in df:\n",
        "  df[coluna] = df[coluna].str.strip()\n"
      ]
    },
    {
      "cell_type": "code",
      "execution_count": 14,
      "metadata": {
        "id": "2O0s6prSCPIA"
      },
      "outputs": [],
      "source": [
        "# Trocando os valores inconsistentes. \n",
        "# Trocando os valores por NI, para manter um padrão de dados que não foram informados/ignorados/inconsistentes.\n",
        "# Data foi passado para NaN pois o structype do spark não aceitaria String na coluna\n",
        "df.replace('{ñ class}','NI',inplace=True)\n",
        "df.replace('{ñ', 'NI',inplace=True)\n",
        "df.replace('Zerado', 'NI',inplace=True)\n",
        "df.replace('Ignorado', 'NI',inplace=True)\n",
        "df.replace('00.000.000.000.000', 'NI',inplace=True)\n",
        "df.replace('0000/00', 'NI',inplace=True)\n",
        "df.replace('00/00/0000', np.nan,inplace=True)\n",
        "df['Sexo'].replace('Não Informado','NI',inplace=True)\n"
      ]
    },
    {
      "cell_type": "code",
      "execution_count": 15,
      "metadata": {
        "id": "0iPqbGUBBcEq"
      },
      "outputs": [],
      "source": [
        "# tratamos o 00/00/0000 como NaN para ser possível transformá-lo em data a fim de ser possível colocá-lo em Struct Type em Pyspark.\n",
        "df['data'] = pd.to_datetime(df['data'],dayfirst=True)\n",
        "df['dt_nasc'] = pd.to_datetime(df['dt_nasc'],dayfirst=True)\n",
        "df['dt_emissao_cat'] = pd.to_datetime(df['dt_emissao_cat'],dayfirst=True)\n"
      ]
    },
    {
      "cell_type": "markdown",
      "metadata": {
        "id": "IBWespMsPlVu"
      },
      "source": [
        "## Plotagem de Gráficos\n"
      ]
    },
    {
      "cell_type": "code",
      "execution_count": null,
      "metadata": {
        "id": "u1d5mRZhQRcr"
      },
      "outputs": [],
      "source": [
        "#importando a biblioteca \n",
        "import matplotlib"
      ]
    },
    {
      "cell_type": "code",
      "execution_count": null,
      "metadata": {
        "colab": {
          "base_uri": "https://localhost:8080/"
        },
        "id": "Ze_tpAWPQCFO",
        "outputId": "a8bed62e-9163-451a-8b7d-9cdd81514b74"
      },
      "outputs": [
        {
          "data": {
            "text/plain": [
              "ag_causador         object\n",
              "cbo                 object\n",
              "cid10               object\n",
              "cod_cnae            object\n",
              "desc_cnae           object\n",
              "emitente_cat        object\n",
              "tipo_beneficio      object\n",
              "filiacao_seg        object\n",
              "obito               object\n",
              "munic_empregador    object\n",
              "nat_lesao           object\n",
              "local_da_lesao      object\n",
              "sexo                object\n",
              "tipo_acid           object\n",
              "uf_acid             object\n",
              "uf_empregador       object\n",
              "dt_acid             object\n",
              "dt_desp_ben         object\n",
              "data                object\n",
              "dt_nasc             object\n",
              "dt_emissao_cat      object\n",
              "cnpj_cei            object\n",
              "dtype: object"
            ]
          },
          "execution_count": 91,
          "metadata": {},
          "output_type": "execute_result"
        }
      ],
      "source": [
        "df.dtypes"
      ]
    },
    {
      "cell_type": "code",
      "execution_count": null,
      "metadata": {
        "colab": {
          "base_uri": "https://localhost:8080/",
          "height": 265
        },
        "id": "xumaxMF7PjaX",
        "outputId": "e84961e0-54ae-4547-eab1-fb923fa35f30"
      },
      "outputs": [
        {
          "data": {
            "text/plain": [
              "<matplotlib.axes._subplots.AxesSubplot at 0x7f35934814c0>"
            ]
          },
          "execution_count": 203,
          "metadata": {},
          "output_type": "execute_result"
        },
        {
          "data": {
            "image/png": "[encoded data removed]",
            "text/plain": [
              "<Figure size 432x288 with 1 Axes>"
            ]
          },
          "metadata": {},
          "output_type": "display_data"
        }
      ],
      "source": [
        "# Plotagem de CAT/sexo. Pode-se notar uma prepoderância do sexo masculino em acidentes de trabalho\n",
        "df.groupby('Sexo').size().plot.pie()"
      ]
    },
    {
      "cell_type": "code",
      "execution_count": null,
      "metadata": {
        "colab": {
          "base_uri": "https://localhost:8080/",
          "height": 331
        },
        "id": "SJmZyffVSUc-",
        "outputId": "8988e614-9073-4a0e-be40-5b1e916f238c"
      },
      "outputs": [
        {
          "data": {
            "text/plain": [
              "<matplotlib.axes._subplots.AxesSubplot at 0x7f3593370430>"
            ]
          },
          "execution_count": 204,
          "metadata": {},
          "output_type": "execute_result"
        },
        {
          "data": {
            "image/png": "[encoded data removed]",
            "text/plain": [
              "<Figure size 432x288 with 1 Axes>"
            ]
          },
          "metadata": {},
          "output_type": "display_data"
        }
      ],
      "source": [
        "# O acidente típico é aquele mais corriqueiro. Ex.: quando um marceneiro serra o próprio dedo, gerando uma incapacidade.\n",
        "# Nota-se uma grande quantidade de NI nos dados colocados.\n",
        "df.groupby('tipo_acid',).size().sort_values(ascending=False).plot.bar()"
      ]
    },
    {
      "cell_type": "code",
      "execution_count": null,
      "metadata": {
        "colab": {
          "base_uri": "https://localhost:8080/",
          "height": 520
        },
        "id": "2xt3viUxT-EO",
        "outputId": "f7467989-cb6a-45be-e7a6-72138d459bc7"
      },
      "outputs": [
        {
          "data": {
            "text/plain": [
              "<matplotlib.axes._subplots.AxesSubplot at 0x7f35932ef280>"
            ]
          },
          "execution_count": 214,
          "metadata": {},
          "output_type": "execute_result"
        },
        {
          "data": {
            "image/png": "[encoded data removed]",
            "text/plain": [
              "<Figure size 432x288 with 1 Axes>"
            ]
          },
          "metadata": {},
          "output_type": "display_data"
        }
      ],
      "source": [
        "# 6 maiores casos de natureza de lesão na BD\n",
        "df.groupby('nat_lesao').size().sort_values(ascending=False).head(6).plot.bar()"
      ]
    },
    {
      "cell_type": "markdown",
      "metadata": {
        "id": "shw0Y20oyA7p"
      },
      "source": [
        "# TRANFORMAÇÃO - PYSPARK"
      ]
    },
    {
      "cell_type": "markdown",
      "metadata": {
        "id": "TUgWhBw5xxoy"
      },
      "source": [
        "## Transformações"
      ]
    },
    {
      "cell_type": "code",
      "execution_count": 16,
      "metadata": {
        "id": "hs0faHDvyDV0",
        "colab": {
          "base_uri": "https://localhost:8080/"
        },
        "outputId": "1087ee2f-f2a3-45a2-9130-b2b7de9f6086"
      },
      "outputs": [
        {
          "output_type": "stream",
          "name": "stdout",
          "text": [
            "Looking in indexes: https://pypi.org/simple, https://us-python.pkg.dev/colab-wheels/public/simple/\n",
            "Collecting pyspark\n",
            "  Downloading pyspark-3.3.1.tar.gz (281.4 MB)\n",
            "\u001b[K     |████████████████████████████████| 281.4 MB 43 kB/s \n",
            "\u001b[?25hCollecting py4j==0.10.9.5\n",
            "  Downloading py4j-0.10.9.5-py2.py3-none-any.whl (199 kB)\n",
            "\u001b[K     |████████████████████████████████| 199 kB 69.5 MB/s \n",
            "\u001b[?25hBuilding wheels for collected packages: pyspark\n",
            "  Building wheel for pyspark (setup.py) ... \u001b[?25l\u001b[?25hdone\n",
            "  Created wheel for pyspark: filename=pyspark-3.3.1-py2.py3-none-any.whl size=281845512 sha256=f4dd54496f3fc22179309176a3ec3266161934a27b309465da534a66b34abb98\n",
            "  Stored in directory: /root/.cache/pip/wheels/43/dc/11/ec201cd671da62fa9c5cc77078235e40722170ceba231d7598\n",
            "Successfully built pyspark\n",
            "Installing collected packages: py4j, pyspark\n",
            "Successfully installed py4j-0.10.9.5 pyspark-3.3.1\n"
          ]
        }
      ],
      "source": [
        "# Instalando e importando as bibliotecas pyspark\n",
        "!pip install pyspark"
      ]
    },
    {
      "cell_type": "code",
      "execution_count": 17,
      "metadata": {
        "id": "gcxXph7cz9xM"
      },
      "outputs": [],
      "source": [
        "from pyspark.sql import SparkSession\n",
        "import pyspark.sql.functions as F\n",
        "from pyspark.sql.types import * "
      ]
    },
    {
      "cell_type": "code",
      "execution_count": 18,
      "metadata": {
        "id": "GlBKe9ztIkrf"
      },
      "outputs": [],
      "source": [
        "# Construindo e carregando a Spark Session\n",
        "spark = (SparkSession.builder\n",
        "         .master('local')\n",
        "         .appName('proj_aquec')\n",
        "         .config('spark.ui.port','4050')\n",
        "         .getOrCreate()\n",
        "\n",
        ")"
      ]
    },
    {
      "cell_type": "code",
      "execution_count": 19,
      "metadata": {
        "id": "NjcVdJVZ9qSJ"
      },
      "outputs": [],
      "source": [
        "# Construindo o struct types do DF-spark\n",
        "esquema = (\n",
        "    StructType([\n",
        "        StructField('id', StringType()),\n",
        "        StructField('ag_causador', StringType()),\n",
        "        StructField('CBO', StringType()),\n",
        "        StructField('cid10', StringType()),\n",
        "        StructField('cod_cnae', StringType()),\n",
        "        StructField('desc_cnae', StringType()),\n",
        "        StructField('emitente_cat', StringType()),\n",
        "        StructField('tipo_beneficio', StringType()),\n",
        "        StructField('filiacao_seg', StringType()),\n",
        "        StructField('obito', StringType()),\n",
        "        StructField('munic_empregador', StringType()),\n",
        "        StructField('nat_lesao', StringType()),\n",
        "        StructField('local_da_lesao', StringType()),\n",
        "        StructField('Sexo', StringType()),\n",
        "        StructField('tipo_acid', StringType()),\n",
        "        StructField('uf_acid', StringType()),\n",
        "        StructField('uf_empregador', StringType()),\n",
        "        StructField('dt_acid', StringType()),   \n",
        "        StructField('dt_desp_ben', StringType()),\n",
        "        StructField('data', DateType()),     \n",
        "        StructField('dt_nasc', DateType()),\n",
        "        StructField('dt_emissao_cat', DateType()),\n",
        "        StructField('cnpj_cei', StringType())\n",
        "    ])\n",
        ")"
      ]
    },
    {
      "cell_type": "code",
      "execution_count": 20,
      "metadata": {
        "id": "NWyvnTD4LtWg"
      },
      "outputs": [],
      "source": [
        "# Criando um Dataframe em Spark\n",
        "dfsp = spark.createDataFrame(df,schema=esquema)"
      ]
    },
    {
      "cell_type": "code",
      "source": [
        "dfspbackup = dfsp"
      ],
      "metadata": {
        "id": "IcklljD6UP0j"
      },
      "execution_count": 21,
      "outputs": []
    },
    {
      "cell_type": "code",
      "source": [
        "dfsp = dfspbackup"
      ],
      "metadata": {
        "id": "Q9TM9MpqfeBe"
      },
      "execution_count": null,
      "outputs": []
    },
    {
      "cell_type": "code",
      "execution_count": null,
      "metadata": {
        "id": "IHCM0n8QchvN",
        "colab": {
          "base_uri": "https://localhost:8080/"
        },
        "outputId": "3df4bcde-b6c6-4342-8912-14a1157b87d4"
      },
      "outputs": [
        {
          "output_type": "stream",
          "name": "stdout",
          "text": [
            "+---+--------------------+--------------------+--------------------+--------+--------------------+-------------------+--------------+------------+-----+--------------------+--------------------+--------------------+---------+---------+--------+-------------+-------+-----------+----------+----------+--------------+------------------+\n",
            "| id|         ag_causador|                 CBO|               cid10|cod_cnae|           desc_cnae|       emitente_cat|tipo_beneficio|filiacao_seg|obito|    munic_empregador|           nat_lesao|      local_da_lesao|     Sexo|tipo_acid| uf_acid|uf_empregador|dt_acid|dt_desp_ben|      data|   dt_nasc|dt_emissao_cat|          cnpj_cei|\n",
            "+---+--------------------+--------------------+--------------------+--------+--------------------+-------------------+--------------+------------+-----+--------------------+--------------------+--------------------+---------+---------+--------+-------------+-------+-----------+----------+----------+--------------+------------------+\n",
            "|  0|                  NI|515105-Agente Com...|B34.2 Infecc p/Co...|    8630|Atividades de Ate...|         Empregador|            Pa|   Empregado|  Não|354780-Santo Andr...|Doenca Contagiosa...|Aparelho Respirat...| Feminino|   Doença|Maranhão|    São Paulo|2022/01|         NI|2022-01-20|1970-08-02|    2022-03-01|57.571.275.002.570|\n",
            "|  1|Motocicleta, Moto...|519110-Motociclis...|S52.5 Frat da Ext...|    4930|Transporte Rodovi...|Segurado/Dependente|            Pa|   Empregado|  Não|    355030-São Paulo|             Fratura|Braco (Entre O Pu...|Masculino|  Trajeto|Maranhão|    São Paulo|2022/02|         NI|2022-02-25|1990-12-16|    2022-03-01|19.578.086.000.162|\n",
            "|  2|Motocicleta, Moto...|519110-Motociclis...|S52.5 Frat da Ext...|    4930|Transporte Rodovi...|Segurado/Dependente|            Pa|   Empregado|  Não|    355030-São Paulo|             Fratura|Braco (Entre O Pu...|Masculino|  Trajeto|Maranhão|    São Paulo|2022/02|         NI|2022-02-25|1990-12-16|    2022-03-01|19.578.086.000.162|\n",
            "|  3|Aprision. Em, Sob...| 514205-Coletor Lixo|S60.0 Contusao de...|    3811|Coleta de Residuo...|         Empregador|            Pa|   Empregado|  Não|     520110-Anápolis|             Luxacao|               Punho|Masculino|   Típico|      NI|        Goiás|2022/02|         NI|2022-02-24|1986-09-19|    2022-03-01|                NI|\n",
            "+---+--------------------+--------------------+--------------------+--------+--------------------+-------------------+--------------+------------+-----+--------------------+--------------------+--------------------+---------+---------+--------+-------------+-------+-----------+----------+----------+--------------+------------------+\n",
            "only showing top 4 rows\n",
            "\n"
          ]
        }
      ],
      "source": [
        "dfsp.show(4)"
      ]
    },
    {
      "cell_type": "code",
      "execution_count": 22,
      "metadata": {
        "id": "oxSAUTkbZjCk"
      },
      "outputs": [],
      "source": [
        "# Renomeando duas colunas com Spark\n",
        "dfsp = dfsp.withColumnRenamed('CBO','cbo').withColumnRenamed('Sexo','sexo')\n"
      ]
    },
    {
      "cell_type": "code",
      "execution_count": 23,
      "metadata": {
        "id": "m6C_n21L-kJq"
      },
      "outputs": [],
      "source": [
        "# Separação dos dados da coluna (cid10 e município do empregador) transformando em novas duas colunas de código e descrição.\n",
        "# Assim, o analista conseguirá pesquisar tanto por código, como por nome.\n",
        "# Com a divisão de campos, a tabela de descrição ficou sem valores, daí foi-se necessário preenchê-los com 'NI'\n",
        "\n",
        "dfsp = (dfsp.withColumn('cod_munic_empregador',(F.split(F.col(\"munic_empregador\"),\"-\")).getItem(0))\n",
        "            .withColumn('munic_empregador',(F.split(F.col(\"munic_empregador\"),\"-\")).getItem(1)))\n",
        "dfsp = dfsp.fillna(value='NI',subset='munic_empregador')\n",
        "\n",
        "dfsp = (dfsp.withColumn('cod_cbo',(F.split(F.col(\"cbo\"),\"-\")).getItem(0))\n",
        "            .withColumn('desc_cbo',(F.split(F.col(\"cbo\"),\"-\")).getItem(1)))\n",
        "dfsp = dfsp.fillna(value='NI',subset='desc_cbo')"
      ]
    },
    {
      "cell_type": "code",
      "source": [
        "dfsp.show(4)"
      ],
      "metadata": {
        "colab": {
          "base_uri": "https://localhost:8080/"
        },
        "id": "BpAZFBvhiVZx",
        "outputId": "4ae6a801-0fb5-4835-f4c2-e87e88d8bc44"
      },
      "execution_count": null,
      "outputs": [
        {
          "output_type": "stream",
          "name": "stdout",
          "text": [
            "+---+--------------------+--------+--------------------+-------------------+--------------+------------+-----+--------------------+--------------------+--------------------+---------+---------+--------+-------------+-------+-----------+----------+----------+--------------+------------------+-------+--------------------+-------+--------------------+--------------+\n",
            "| id|         ag_causador|cod_cnae|           desc_cnae|       emitente_cat|tipo_beneficio|filiacao_seg|obito|    munic_empregador|           nat_lesao|      local_da_lesao|     sexo|tipo_acid| uf_acid|uf_empregador|dt_acid|dt_desp_ben|      data|   dt_nasc|dt_emissao_cat|          cnpj_cei|cod_cid|            desc_cid|cod_cbo|            desc_cbo|atrso cat_dias|\n",
            "+---+--------------------+--------+--------------------+-------------------+--------------+------------+-----+--------------------+--------------------+--------------------+---------+---------+--------+-------------+-------+-----------+----------+----------+--------------+------------------+-------+--------------------+-------+--------------------+--------------+\n",
            "|  0|                  NI|    8630|Atividades de Ate...|         Empregador|            Pa|   Empregado|  Não|354780-Santo Andr...|Doenca Contagiosa...|Aparelho Respirat...| Feminino|   Doença|Maranhão|    São Paulo|2022/01|         NI|2022-01-20|1970-08-02|    2022-03-01|57.571.275.002.570|  B34.2| Infecc p/Coronav...| 515105|Agente Comunitári...|            40|\n",
            "|  1|Motocicleta, Moto...|    4930|Transporte Rodovi...|Segurado/Dependente|            Pa|   Empregado|  Não|    355030-São Paulo|             Fratura|Braco (Entre O Pu...|Masculino|  Trajeto|Maranhão|    São Paulo|2022/02|         NI|2022-02-25|1990-12-16|    2022-03-01|19.578.086.000.162|  S52.5| Frat da Extremid...| 519110|Motociclista no T...|             4|\n",
            "|  2|Motocicleta, Moto...|    4930|Transporte Rodovi...|Segurado/Dependente|            Pa|   Empregado|  Não|    355030-São Paulo|             Fratura|Braco (Entre O Pu...|Masculino|  Trajeto|Maranhão|    São Paulo|2022/02|         NI|2022-02-25|1990-12-16|    2022-03-01|19.578.086.000.162|  S52.5| Frat da Extremid...| 519110|Motociclista no T...|             4|\n",
            "|  3|Aprision. Em, Sob...|    3811|Coleta de Residuo...|         Empregador|            Pa|   Empregado|  Não|     520110-Anápolis|             Luxacao|               Punho|Masculino|   Típico|      NI|        Goiás|2022/02|         NI|2022-02-24|1986-09-19|    2022-03-01|                NI|  S60.0| Contusao de Dedo...| 514205|        Coletor Lixo|             5|\n",
            "+---+--------------------+--------+--------------------+-------------------+--------------+------------+-----+--------------------+--------------------+--------------------+---------+---------+--------+-------------+-------+-----------+----------+----------+--------------+------------------+-------+--------------------+-------+--------------------+--------------+\n",
            "only showing top 4 rows\n",
            "\n"
          ]
        }
      ]
    },
    {
      "cell_type": "code",
      "execution_count": 24,
      "metadata": {
        "id": "0Bzgbfwb-kJr"
      },
      "outputs": [],
      "source": [
        "# Dessa forma, torna-se sem fundamento manter as coluna antiga com os dados unidos\n",
        "dfsp = dfsp.drop('cbo')"
      ]
    },
    {
      "cell_type": "code",
      "execution_count": 25,
      "metadata": {
        "id": "aNYf-vFa-kJr"
      },
      "outputs": [],
      "source": [
        "# Criando uma coluna de diferença de dias entre o dia do acidente e a emissão da CAT, pois a legislação aplicável\n",
        "# diz o prazo limite para emissão da CAT.\n",
        "dfsp = dfsp.withColumn(\"atraso_cat_dias\", F.datediff(F.col('dt_emissao_cat'),F.col('data')))"
      ]
    },
    {
      "cell_type": "code",
      "source": [
        "dfsp.dtypes"
      ],
      "metadata": {
        "id": "c0nczshnBByP"
      },
      "execution_count": null,
      "outputs": []
    },
    {
      "cell_type": "code",
      "execution_count": 26,
      "metadata": {
        "id": "_VumFAHoGNDw"
      },
      "outputs": [],
      "source": [
        "# Reorganizando as colunas das tabelas a fim de ficar mais intuitivo\n",
        "dfsp = dfsp.select('id','ag_causador','nat_lesao','local_da_lesao','cod_cbo','desc_cbo','cid10','cod_cnae','desc_cnae','cnpj_cei','emitente_cat',\n",
        "                   'tipo_beneficio','filiacao_seg','obito','cod_munic_empregador','munic_empregador','uf_empregador','sexo','tipo_acid','uf_acid','dt_acid',\n",
        "                   'data','dt_emissao_cat','atraso_cat_dias','dt_desp_ben','dt_nasc')"
      ]
    },
    {
      "cell_type": "code",
      "source": [
        "dfsp.show(4,truncate=False)"
      ],
      "metadata": {
        "colab": {
          "base_uri": "https://localhost:8080/"
        },
        "id": "ZlxWJkb2UbvJ",
        "outputId": "baeffd4d-fb1b-46c8-a576-eac7e188414b"
      },
      "execution_count": null,
      "outputs": [
        {
          "output_type": "stream",
          "name": "stdout",
          "text": [
            "+---+------------------------------------------+-------------------------------------------+------------------------------------+-------+--------------------------------------+-----------------------------------------+--------+---------------------------------------------+------------------+-------------------+--------------+------------+-----+---------------------+----------------+-------------+---------+---------+--------+-------+----------+--------------+---------------+-----------+----------+\n",
            "|id |ag_causador                               |nat_lesao                                  |local_da_lesao                      |cod_cbo|desc_cbo                              |cid10                                    |cod_cnae|desc_cnae                                    |cnpj_cei          |emitente_cat       |tipo_beneficio|filiacao_seg|obito|cod_munic_empregador |munic_empregador|uf_empregador|sexo     |tipo_acid|uf_acid |dt_acid|data      |dt_emissao_cat|atraso_cat_dias|dt_desp_ben|dt_nasc   |\n",
            "+---+------------------------------------------+-------------------------------------------+------------------------------------+-------+--------------------------------------+-----------------------------------------+--------+---------------------------------------------+------------------+-------------------+--------------+------------+-----+---------------------+----------------+-------------+---------+---------+--------+-------+----------+--------------+---------------+-----------+----------+\n",
            "|0  |NI                                        |Doenca Contagiosa ou Infecciosa (Tuberculos|Aparelho Respiratorio               |515105 |Agente Comunitário de Saúde           |B34.2 Infecc p/Coronavirus Ne            |8630    |Atividades de Atencao Ambulatorial Executadas|57.571.275.002.570|Empregador         |Pa            |Empregado   |Não  |Santo André          |NI              |São Paulo    |Feminino |Doença   |Maranhão|2022/01|2022-01-20|2022-03-01    |40             |NI         |1970-08-02|\n",
            "|1  |Motocicleta, Motoneta                     |Fratura                                    |Braco (Entre O Punho a O Ombro)     |519110 |Motociclista no Transporte de Document|S52.5 Frat da Extremidade Distal do Radio|4930    |Transporte Rodoviario de Carga               |19.578.086.000.162|Segurado/Dependente|Pa            |Empregado   |Não  |São Paulo            |NI              |São Paulo    |Masculino|Trajeto  |Maranhão|2022/02|2022-02-25|2022-03-01    |4              |NI         |1990-12-16|\n",
            "|2  |Aprision. Em, Sobre ou Entre Dois ou Mai  |Luxacao                                    |Punho                               |514205 |Coletor Lixo                          |S60.0 Contusao de Dedos s/Lesao da Unha  |3811    |Coleta de Residuos Nao-Perigosos             |NI                |Empregador         |Pa            |Empregado   |Não  |Anápolis             |NI              |Goiás        |Masculino|Típico   |NI      |2022/02|2022-02-24|2022-03-01    |5              |NI         |1986-09-19|\n",
            "|3  |Impacto de Pes. Contra Objeto em Movimento|Luxacao                                    |Perna (Entre O Tornozelo e a Pelvis)|NI     |NI                                    |S90.0 Contusao do Tornozelo              |4639    |Comercio Atacadista de Produtos Alimenticios |NI                |Empregador         |Pa            |Empregado   |Não  |Campos dos Goytacazes|NI              |São Paulo    |Masculino|Típico   |Maranhão|2022/01|2022-01-28|2022-03-01    |32             |NI         |1995-07-25|\n",
            "+---+------------------------------------------+-------------------------------------------+------------------------------------+-------+--------------------------------------+-----------------------------------------+--------+---------------------------------------------+------------------+-------------------+--------------+------------+-----+---------------------+----------------+-------------+---------+---------+--------+-------+----------+--------------+---------------+-----------+----------+\n",
            "only showing top 4 rows\n",
            "\n"
          ]
        }
      ]
    },
    {
      "cell_type": "markdown",
      "source": [
        "## Window Functions"
      ],
      "metadata": {
        "id": "uUJwvcSWWgyv"
      }
    },
    {
      "cell_type": "code",
      "source": [],
      "metadata": {
        "id": "uuGxgI0FVk5D"
      },
      "execution_count": null,
      "outputs": []
    },
    {
      "cell_type": "markdown",
      "metadata": {
        "id": "aqnkiRCQwh0V"
      },
      "source": [
        "## Spark SQL"
      ]
    },
    {
      "cell_type": "markdown",
      "metadata": {
        "id": "JahHpm3ewqRQ"
      },
      "source": [
        "### Carregamento para o Cloud SQL (MySQL)"
      ]
    },
    {
      "cell_type": "code",
      "execution_count": null,
      "metadata": {
        "colab": {
          "base_uri": "https://localhost:8080/"
        },
        "id": "lKgLhcsSwzHi",
        "outputId": "bac7edf3-aff0-4170-a5b7-16bff4470829"
      },
      "outputs": [
        {
          "output_type": "stream",
          "name": "stdout",
          "text": [
            "Looking in indexes: https://pypi.org/simple, https://us-python.pkg.dev/colab-wheels/public/simple/\n",
            "Collecting mysql-connector-python\n",
            "  Downloading mysql_connector_python-8.0.31-cp38-cp38-manylinux1_x86_64.whl (23.5 MB)\n",
            "\u001b[K     |████████████████████████████████| 23.5 MB 1.2 MB/s \n",
            "\u001b[?25hRequirement already satisfied: protobuf<=3.20.1,>=3.11.0 in /usr/local/lib/python3.8/dist-packages (from mysql-connector-python) (3.19.6)\n",
            "Installing collected packages: mysql-connector-python\n",
            "Successfully installed mysql-connector-python-8.0.31\n"
          ]
        }
      ],
      "source": [
        "# Instalação e importação das bibliotecas do conector MySQL-Python\n",
        "!pip install mysql-connector-python"
      ]
    },
    {
      "cell_type": "code",
      "execution_count": null,
      "metadata": {
        "id": "vlBgKLAjHviM"
      },
      "outputs": [],
      "source": [
        "# Instalação e importação do conector do cloud SQL\n",
        "import sys\n",
        "!{sys.executable} -m pip install cloud-sql-python-connector[\"pymysql\"] SQLAlchemy"
      ]
    },
    {
      "cell_type": "code",
      "execution_count": null,
      "metadata": {
        "id": "ZxxjCHMtUTvs"
      },
      "outputs": [],
      "source": [
        "from google.cloud.sql.connector import Connector\n",
        "import sqlalchemy"
      ]
    },
    {
      "cell_type": "code",
      "execution_count": null,
      "metadata": {
        "id": "y-UpSpGAMswK"
      },
      "outputs": [],
      "source": [
        "# Definição dos parâmetros da instância, usuário, senha, e nome do DB (criado via Google Cloud)\n",
        "# Criando a pool e estabelecendo a conexão com a instância SQL e o DB\n",
        "INSTANCE_CONNECTION_NAME = f\"sc-bc26-ed7:us-central1:aula-db\"\n",
        "usuario = \"root\"\n",
        "passwd = \"root\"\n",
        "nome_banco = \"db_inss_tratado\"\n",
        "\n",
        "conector = Connector()\n",
        "\n",
        "def con_db():\n",
        "    conexao = conector.connect(INSTANCE_CONNECTION_NAME, \"pymysql\", user=usuario, password=passwd, db=nome_banco)\n",
        "    return conexao\n",
        "\n",
        "pool = sqlalchemy.create_engine(\"mysql+pymysql://\",creator=con_db)"
      ]
    },
    {
      "cell_type": "code",
      "execution_count": null,
      "metadata": {
        "id": "MzE9gkF4NT8b"
      },
      "outputs": [],
      "source": [
        "# transformando o Dataframe Spark final tratado para o Pandas\n",
        "dffinal = dfsp.toPandas()"
      ]
    },
    {
      "cell_type": "code",
      "execution_count": null,
      "metadata": {
        "id": "9tfjlSaEM4x6"
      },
      "outputs": [],
      "source": [
        "# Exportando o Dataframe Pandas para o Cloud SQL\n",
        "dffinal.to_sql('inss_trat', con=pool, if_exists='replace')"
      ]
    },
    {
      "cell_type": "markdown",
      "metadata": {
        "id": "7fbwfImIwnDQ"
      },
      "source": [
        "### Insights"
      ]
    },
    {
      "cell_type": "markdown",
      "source": [
        "Realizando queries com spark SQL utilizando o comando .connect.execute() do SQLAlchemy"
      ],
      "metadata": {
        "id": "ywdbwk9Kw7tw"
      }
    },
    {
      "cell_type": "code",
      "execution_count": null,
      "metadata": {
        "colab": {
          "base_uri": "https://localhost:8080/"
        },
        "id": "RW_XXTFPOfmZ",
        "outputId": "251b8385-3437-44f3-b8c7-f500e96ca6d5"
      },
      "outputs": [
        {
          "output_type": "execute_result",
          "data": {
            "text/plain": [
              "[(430,)]"
            ]
          },
          "metadata": {},
          "execution_count": 235
        }
      ],
      "source": [
        "# Segundo a legislação a CAT com óbito deve ser realizada no mesmo dia. Aqui vemos o número de casos em que a legislação foi desobedecida\n",
        "pool.connect().execute('''SELECT COUNT(atraso_cat_dias) \n",
        "FROM inss_trat \n",
        "WHERE (atraso_cat_dias > 1) & (obito = \"Sim\") ''').fetchall()"
      ]
    },
    {
      "cell_type": "code",
      "source": [
        "# Número de casos de petição de CAT por infecção por coronavírus ainda em 2022\n",
        "pool.connect().execute('''SELECT COUNT(cid10)\n",
        "FROM inss_trat \n",
        "WHERE cid10 = 'B34.2 Infecc p/Coronavirus Ne'\n",
        "''').fetchall()"
      ],
      "metadata": {
        "colab": {
          "base_uri": "https://localhost:8080/"
        },
        "id": "iQl17xh9ybh0",
        "outputId": "66622ce4-736c-49bc-9b67-67c7a94b8dca"
      },
      "execution_count": null,
      "outputs": [
        {
          "output_type": "execute_result",
          "data": {
            "text/plain": [
              "[(2292,)]"
            ]
          },
          "metadata": {},
          "execution_count": 244
        }
      ]
    },
    {
      "cell_type": "code",
      "source": [
        "# Número de acidentes com fratura em homens\n",
        "pool.connect().execute('''SELECT COUNT(nat_lesao)\n",
        "FROM inss_trat \n",
        "WHERE (nat_lesao = \"Fratura\") & (sexo = \"Masculino\")\n",
        "''').fetchall()"
      ],
      "metadata": {
        "colab": {
          "base_uri": "https://localhost:8080/"
        },
        "id": "388Jrx9w6FTy",
        "outputId": "06027e92-aefb-4421-e4ec-44547a5c4e15"
      },
      "execution_count": null,
      "outputs": [
        {
          "output_type": "execute_result",
          "data": {
            "text/plain": [
              "[(16175,)]"
            ]
          },
          "metadata": {},
          "execution_count": 270
        }
      ]
    },
    {
      "cell_type": "code",
      "execution_count": null,
      "metadata": {
        "id": "FhYvp6u9R79c",
        "colab": {
          "base_uri": "https://localhost:8080/"
        },
        "outputId": "8bcf5d00-b605-40b1-c66f-9691a28cee19"
      },
      "outputs": [
        {
          "output_type": "execute_result",
          "data": {
            "text/plain": [
              "[(9.539611501751427,)]"
            ]
          },
          "metadata": {},
          "execution_count": 236
        }
      ],
      "source": [
        "# A legislação no caso de não haver óbito pede que a CAT seja feita em até 1 dia útil, a média do BD mostra um pouco longe do ideial\n",
        "pool.connect().execute('''SELECT AVG(atraso_cat_dias)\n",
        "FROM inss_trat \n",
        "WHERE obito = \"Não\"\n",
        "''').fetchall()"
      ]
    },
    {
      "cell_type": "code",
      "source": [
        "# Média de idade (em anos) de pessoas acidentadas\n",
        "pool.connect().execute('''SELECT AVG(DATEDIFF(data, dt_nasc) / 365)\n",
        "FROM inss_trat ''').fetchall()"
      ],
      "metadata": {
        "colab": {
          "base_uri": "https://localhost:8080/"
        },
        "id": "ujvBzcKA5IU9",
        "outputId": "e38d0d10-a89a-4ef0-b5b6-81d792260ee8"
      },
      "execution_count": null,
      "outputs": [
        {
          "output_type": "execute_result",
          "data": {
            "text/plain": [
              "[(Decimal('37.22987315'),)]"
            ]
          },
          "metadata": {},
          "execution_count": 247
        }
      ]
    },
    {
      "cell_type": "markdown",
      "metadata": {
        "id": "81X2v823z9YO"
      },
      "source": [
        "# CARREGAMENTO FINAL"
      ]
    },
    {
      "cell_type": "markdown",
      "metadata": {
        "id": "7CL-Cn1xYoZL"
      },
      "source": [
        "## Carregamento dos arquivos finais para o Cloud Storage"
      ]
    },
    {
      "cell_type": "code",
      "execution_count": null,
      "metadata": {
        "id": "oov-7KMKYn8Z"
      },
      "outputs": [],
      "source": [
        "# Transformação do DF spark para um arquivo csv local\n",
        "dfsp.write.options(header='True', delimiter=';').csv('dataset_inss_trat.csv')"
      ]
    },
    {
      "cell_type": "code",
      "execution_count": null,
      "metadata": {
        "id": "bMm43GBCnvmz"
      },
      "outputs": [],
      "source": [
        "# Envio do arquivo tratado para o respectivo folder no bucket\n",
        "blob = bucket.blob('proj_aquec/dataset_inss_trat.csv')\n",
        "blob.upload_from_filename('/content/dataset_inss_trat.csv/dataset_inss_trat.csv')"
      ]
    },
    {
      "cell_type": "markdown",
      "metadata": {
        "id": "9gnVwyOUYvvp"
      },
      "source": [
        "## Carregamento dos arquivos finais para o Mongo DB"
      ]
    },
    {
      "cell_type": "code",
      "source": [
        "dffinal = dfsp.toPandas()"
      ],
      "metadata": {
        "id": "EzfiOZ8s-3X3"
      },
      "execution_count": null,
      "outputs": []
    },
    {
      "cell_type": "code",
      "source": [
        "dffinal"
      ],
      "metadata": {
        "colab": {
          "base_uri": "https://localhost:8080/",
          "height": 1000
        },
        "id": "zNsaoo5oQXht",
        "outputId": "bdc2f472-8c76-4333-a7ce-0cc9b445c78a"
      },
      "execution_count": null,
      "outputs": [
        {
          "output_type": "execute_result",
          "data": {
            "text/plain": [
              "            id                                    ag_causador  \\\n",
              "0            0                                             NI   \n",
              "1            1                          Motocicleta, Motoneta   \n",
              "2            2       Aprision. Em, Sobre ou Entre Dois ou Mai   \n",
              "3            3     Impacto de Pes. Contra Objeto em Movimento   \n",
              "4            4  Temperatura Muito Alta, Contato com Objeto Ou   \n",
              "...        ...                                            ...   \n",
              "156744  156744   Piso de Edificio - Superficie Utilizada Para   \n",
              "156745  156745  Escada Permanente Cujos Degraus Permitem Apoi   \n",
              "156746  156746    Andaime, Plataforma - Edificio ou Estrutura   \n",
              "156747  156747  Martelo, Malho, Marreta- Ferramenta Manual Se   \n",
              "156748  156748           Impacto de Pes. Contra Objeto Parado   \n",
              "\n",
              "                                          nat_lesao  \\\n",
              "0       Doenca Contagiosa ou Infecciosa (Tuberculos   \n",
              "1                                           Fratura   \n",
              "2                                           Luxacao   \n",
              "3                                           Luxacao   \n",
              "4       Queimadura ou Escaldadura - Efeito de Tempe   \n",
              "...                                             ...   \n",
              "156744                               Lesao Imediata   \n",
              "156745                                      Fratura   \n",
              "156746                                      Fratura   \n",
              "156747                                      Fratura   \n",
              "156748                                      Fratura   \n",
              "\n",
              "                                       local_da_lesao cod_cbo  \\\n",
              "0                               Aparelho Respiratorio  515105   \n",
              "1                     Braco (Entre O Punho a O Ombro)  519110   \n",
              "2                                               Punho  514205   \n",
              "3                Perna (Entre O Tornozelo e a Pelvis)      NI   \n",
              "4                Perna (Entre O Tornozelo e a Pelvis)  784205   \n",
              "...                                               ...     ...   \n",
              "156744                    Mao (Exceto Punho ou Dedos)      NI   \n",
              "156745  Perna (Do Tornozelo, Exclusive, ao Joelho, Ex  232130   \n",
              "156746  Membros Inferiores, Partes Multiplas (Qualque  517330   \n",
              "156747                                           Dedo  724315   \n",
              "156748                                           Dedo  721215   \n",
              "\n",
              "                                      desc_cbo  \\\n",
              "0                  Agente Comunitário de Saúde   \n",
              "1       Motociclista no Transporte de Document   \n",
              "2                                 Coletor Lixo   \n",
              "3                                           NI   \n",
              "4                Alimentador de Linha de Prod.   \n",
              "...                                        ...   \n",
              "156744                                      NI   \n",
              "156745            Prof. Física no Ensino Médio   \n",
              "156746                               Vigilante   \n",
              "156747                                Soldador   \n",
              "156748                          Oper. Máquinas   \n",
              "\n",
              "                                                cid10 cod_cnae  \\\n",
              "0                       B34.2 Infecc p/Coronavirus Ne     8630   \n",
              "1           S52.5 Frat da Extremidade Distal do Radio     4930   \n",
              "2             S60.0 Contusao de Dedos s/Lesao da Unha     3811   \n",
              "3                         S90.0 Contusao do Tornozelo     4639   \n",
              "4       T24.4 Corros Quadr Membr Inf Exc Tornoz Pe Gr     1011   \n",
              "...                                               ...      ...   \n",
              "156744          S62   Frat ao Nivel do Punho e da Mao     2330   \n",
              "156745             S82   Frat da Perna Incl Tornozelo     8520   \n",
              "156746                       S82.7 Frat Mult da Perna     8112   \n",
              "156747                       S62.6 Frat de Outr Dedos     7112   \n",
              "156748          S62.3 Frat de Outr Ossos do Metacarpo     2815   \n",
              "\n",
              "                                            desc_cnae            cnpj_cei  \\\n",
              "0       Atividades de Atencao Ambulatorial Executadas  57.571.275.002.570   \n",
              "1                      Transporte Rodoviario de Carga  19.578.086.000.162   \n",
              "2                    Coleta de Residuos Nao-Perigosos                  NI   \n",
              "3        Comercio Atacadista de Produtos Alimenticios                  NI   \n",
              "4                       Abate de Reses, Exceto Suinos                  NI   \n",
              "...                                               ...                 ...   \n",
              "156744  Fabricacao de Artefatos de Concreto, Cimento,  21.161.901.000.135   \n",
              "156745                                   Ensino Medio  76.416.965.000.121   \n",
              "156746                           Condominios Prediais  32.994.401.000.109   \n",
              "156747                         Servicos de Engenharia  34.197.591.000.150   \n",
              "156748  Fabricacao de Equipamentos de Transmissao par  54.614.813.000.109   \n",
              "\n",
              "        ...   uf_empregador       sexo tipo_acid   uf_acid  dt_acid  \\\n",
              "0       ...       São Paulo   Feminino    Doença  Maranhão  2022/01   \n",
              "1       ...       São Paulo  Masculino   Trajeto  Maranhão  2022/02   \n",
              "2       ...           Goiás  Masculino    Típico        NI  2022/02   \n",
              "3       ...       São Paulo  Masculino    Típico  Maranhão  2022/01   \n",
              "4       ...           Bahia  Masculino    Típico        NI  2022/02   \n",
              "...     ...             ...        ...       ...       ...      ...   \n",
              "156744  ...          Paraná  Masculino    Típico   Roraima  2022/09   \n",
              "156745  ...          Paraná   Feminino    Típico   Roraima  2022/10   \n",
              "156746  ...  Santa Catarina  Masculino    Típico        NI  2022/09   \n",
              "156747  ...          Paraná  Masculino    Típico   Roraima  2022/10   \n",
              "156748  ...       São Paulo  Masculino    Típico  Maranhão  2022/10   \n",
              "\n",
              "              data dt_emissao_cat atraso_cat_dias dt_desp_ben     dt_nasc  \n",
              "0       2022-01-20     2022-03-01            40.0          NI  1970-08-02  \n",
              "1       2022-02-25     2022-03-01             4.0          NI  1990-12-16  \n",
              "2       2022-02-24     2022-03-01             5.0          NI  1986-09-19  \n",
              "3       2022-01-28     2022-03-01            32.0          NI  1995-07-25  \n",
              "4       2022-02-25     2022-03-01             4.0          NI  1989-10-06  \n",
              "...            ...            ...             ...         ...         ...  \n",
              "156744  2022-09-29     2022-10-10            11.0     2022/10  1993-09-18  \n",
              "156745  2022-10-06     2022-10-07             1.0     2022/11  1986-11-24  \n",
              "156746  2022-09-20     2022-10-10            20.0     2022/10  1986-03-02  \n",
              "156747  2022-10-05     2022-10-06             1.0     2022/10  1984-04-08  \n",
              "156748  2022-10-03     2022-10-18            15.0     2022/10  1993-07-15  \n",
              "\n",
              "[156749 rows x 26 columns]"
            ],
            "text/html": [
              "\n",
              "  <div id=\"df-ea69e93c-7c36-485c-a721-5f14815d1362\">\n",
              "    <div class=\"colab-df-container\">\n",
              "      <div>\n",
              "<style scoped>\n",
              "    .dataframe tbody tr th:only-of-type {\n",
              "        vertical-align: middle;\n",
              "    }\n",
              "\n",
              "    .dataframe tbody tr th {\n",
              "        vertical-align: top;\n",
              "    }\n",
              "\n",
              "    .dataframe thead th {\n",
              "        text-align: right;\n",
              "    }\n",
              "</style>\n",
              "<table border=\"1\" class=\"dataframe\">\n",
              "  <thead>\n",
              "    <tr style=\"text-align: right;\">\n",
              "      <th></th>\n",
              "      <th>id</th>\n",
              "      <th>ag_causador</th>\n",
              "      <th>nat_lesao</th>\n",
              "      <th>local_da_lesao</th>\n",
              "      <th>cod_cbo</th>\n",
              "      <th>desc_cbo</th>\n",
              "      <th>cid10</th>\n",
              "      <th>cod_cnae</th>\n",
              "      <th>desc_cnae</th>\n",
              "      <th>cnpj_cei</th>\n",
              "      <th>...</th>\n",
              "      <th>uf_empregador</th>\n",
              "      <th>sexo</th>\n",
              "      <th>tipo_acid</th>\n",
              "      <th>uf_acid</th>\n",
              "      <th>dt_acid</th>\n",
              "      <th>data</th>\n",
              "      <th>dt_emissao_cat</th>\n",
              "      <th>atraso_cat_dias</th>\n",
              "      <th>dt_desp_ben</th>\n",
              "      <th>dt_nasc</th>\n",
              "    </tr>\n",
              "  </thead>\n",
              "  <tbody>\n",
              "    <tr>\n",
              "      <th>0</th>\n",
              "      <td>0</td>\n",
              "      <td>NI</td>\n",
              "      <td>Doenca Contagiosa ou Infecciosa (Tuberculos</td>\n",
              "      <td>Aparelho Respiratorio</td>\n",
              "      <td>515105</td>\n",
              "      <td>Agente Comunitário de Saúde</td>\n",
              "      <td>B34.2 Infecc p/Coronavirus Ne</td>\n",
              "      <td>8630</td>\n",
              "      <td>Atividades de Atencao Ambulatorial Executadas</td>\n",
              "      <td>57.571.275.002.570</td>\n",
              "      <td>...</td>\n",
              "      <td>São Paulo</td>\n",
              "      <td>Feminino</td>\n",
              "      <td>Doença</td>\n",
              "      <td>Maranhão</td>\n",
              "      <td>2022/01</td>\n",
              "      <td>2022-01-20</td>\n",
              "      <td>2022-03-01</td>\n",
              "      <td>40.0</td>\n",
              "      <td>NI</td>\n",
              "      <td>1970-08-02</td>\n",
              "    </tr>\n",
              "    <tr>\n",
              "      <th>1</th>\n",
              "      <td>1</td>\n",
              "      <td>Motocicleta, Motoneta</td>\n",
              "      <td>Fratura</td>\n",
              "      <td>Braco (Entre O Punho a O Ombro)</td>\n",
              "      <td>519110</td>\n",
              "      <td>Motociclista no Transporte de Document</td>\n",
              "      <td>S52.5 Frat da Extremidade Distal do Radio</td>\n",
              "      <td>4930</td>\n",
              "      <td>Transporte Rodoviario de Carga</td>\n",
              "      <td>19.578.086.000.162</td>\n",
              "      <td>...</td>\n",
              "      <td>São Paulo</td>\n",
              "      <td>Masculino</td>\n",
              "      <td>Trajeto</td>\n",
              "      <td>Maranhão</td>\n",
              "      <td>2022/02</td>\n",
              "      <td>2022-02-25</td>\n",
              "      <td>2022-03-01</td>\n",
              "      <td>4.0</td>\n",
              "      <td>NI</td>\n",
              "      <td>1990-12-16</td>\n",
              "    </tr>\n",
              "    <tr>\n",
              "      <th>2</th>\n",
              "      <td>2</td>\n",
              "      <td>Aprision. Em, Sobre ou Entre Dois ou Mai</td>\n",
              "      <td>Luxacao</td>\n",
              "      <td>Punho</td>\n",
              "      <td>514205</td>\n",
              "      <td>Coletor Lixo</td>\n",
              "      <td>S60.0 Contusao de Dedos s/Lesao da Unha</td>\n",
              "      <td>3811</td>\n",
              "      <td>Coleta de Residuos Nao-Perigosos</td>\n",
              "      <td>NI</td>\n",
              "      <td>...</td>\n",
              "      <td>Goiás</td>\n",
              "      <td>Masculino</td>\n",
              "      <td>Típico</td>\n",
              "      <td>NI</td>\n",
              "      <td>2022/02</td>\n",
              "      <td>2022-02-24</td>\n",
              "      <td>2022-03-01</td>\n",
              "      <td>5.0</td>\n",
              "      <td>NI</td>\n",
              "      <td>1986-09-19</td>\n",
              "    </tr>\n",
              "    <tr>\n",
              "      <th>3</th>\n",
              "      <td>3</td>\n",
              "      <td>Impacto de Pes. Contra Objeto em Movimento</td>\n",
              "      <td>Luxacao</td>\n",
              "      <td>Perna (Entre O Tornozelo e a Pelvis)</td>\n",
              "      <td>NI</td>\n",
              "      <td>NI</td>\n",
              "      <td>S90.0 Contusao do Tornozelo</td>\n",
              "      <td>4639</td>\n",
              "      <td>Comercio Atacadista de Produtos Alimenticios</td>\n",
              "      <td>NI</td>\n",
              "      <td>...</td>\n",
              "      <td>São Paulo</td>\n",
              "      <td>Masculino</td>\n",
              "      <td>Típico</td>\n",
              "      <td>Maranhão</td>\n",
              "      <td>2022/01</td>\n",
              "      <td>2022-01-28</td>\n",
              "      <td>2022-03-01</td>\n",
              "      <td>32.0</td>\n",
              "      <td>NI</td>\n",
              "      <td>1995-07-25</td>\n",
              "    </tr>\n",
              "    <tr>\n",
              "      <th>4</th>\n",
              "      <td>4</td>\n",
              "      <td>Temperatura Muito Alta, Contato com Objeto Ou</td>\n",
              "      <td>Queimadura ou Escaldadura - Efeito de Tempe</td>\n",
              "      <td>Perna (Entre O Tornozelo e a Pelvis)</td>\n",
              "      <td>784205</td>\n",
              "      <td>Alimentador de Linha de Prod.</td>\n",
              "      <td>T24.4 Corros Quadr Membr Inf Exc Tornoz Pe Gr</td>\n",
              "      <td>1011</td>\n",
              "      <td>Abate de Reses, Exceto Suinos</td>\n",
              "      <td>NI</td>\n",
              "      <td>...</td>\n",
              "      <td>Bahia</td>\n",
              "      <td>Masculino</td>\n",
              "      <td>Típico</td>\n",
              "      <td>NI</td>\n",
              "      <td>2022/02</td>\n",
              "      <td>2022-02-25</td>\n",
              "      <td>2022-03-01</td>\n",
              "      <td>4.0</td>\n",
              "      <td>NI</td>\n",
              "      <td>1989-10-06</td>\n",
              "    </tr>\n",
              "    <tr>\n",
              "      <th>...</th>\n",
              "      <td>...</td>\n",
              "      <td>...</td>\n",
              "      <td>...</td>\n",
              "      <td>...</td>\n",
              "      <td>...</td>\n",
              "      <td>...</td>\n",
              "      <td>...</td>\n",
              "      <td>...</td>\n",
              "      <td>...</td>\n",
              "      <td>...</td>\n",
              "      <td>...</td>\n",
              "      <td>...</td>\n",
              "      <td>...</td>\n",
              "      <td>...</td>\n",
              "      <td>...</td>\n",
              "      <td>...</td>\n",
              "      <td>...</td>\n",
              "      <td>...</td>\n",
              "      <td>...</td>\n",
              "      <td>...</td>\n",
              "      <td>...</td>\n",
              "    </tr>\n",
              "    <tr>\n",
              "      <th>156744</th>\n",
              "      <td>156744</td>\n",
              "      <td>Piso de Edificio - Superficie Utilizada Para</td>\n",
              "      <td>Lesao Imediata</td>\n",
              "      <td>Mao (Exceto Punho ou Dedos)</td>\n",
              "      <td>NI</td>\n",
              "      <td>NI</td>\n",
              "      <td>S62   Frat ao Nivel do Punho e da Mao</td>\n",
              "      <td>2330</td>\n",
              "      <td>Fabricacao de Artefatos de Concreto, Cimento,</td>\n",
              "      <td>21.161.901.000.135</td>\n",
              "      <td>...</td>\n",
              "      <td>Paraná</td>\n",
              "      <td>Masculino</td>\n",
              "      <td>Típico</td>\n",
              "      <td>Roraima</td>\n",
              "      <td>2022/09</td>\n",
              "      <td>2022-09-29</td>\n",
              "      <td>2022-10-10</td>\n",
              "      <td>11.0</td>\n",
              "      <td>2022/10</td>\n",
              "      <td>1993-09-18</td>\n",
              "    </tr>\n",
              "    <tr>\n",
              "      <th>156745</th>\n",
              "      <td>156745</td>\n",
              "      <td>Escada Permanente Cujos Degraus Permitem Apoi</td>\n",
              "      <td>Fratura</td>\n",
              "      <td>Perna (Do Tornozelo, Exclusive, ao Joelho, Ex</td>\n",
              "      <td>232130</td>\n",
              "      <td>Prof. Física no Ensino Médio</td>\n",
              "      <td>S82   Frat da Perna Incl Tornozelo</td>\n",
              "      <td>8520</td>\n",
              "      <td>Ensino Medio</td>\n",
              "      <td>76.416.965.000.121</td>\n",
              "      <td>...</td>\n",
              "      <td>Paraná</td>\n",
              "      <td>Feminino</td>\n",
              "      <td>Típico</td>\n",
              "      <td>Roraima</td>\n",
              "      <td>2022/10</td>\n",
              "      <td>2022-10-06</td>\n",
              "      <td>2022-10-07</td>\n",
              "      <td>1.0</td>\n",
              "      <td>2022/11</td>\n",
              "      <td>1986-11-24</td>\n",
              "    </tr>\n",
              "    <tr>\n",
              "      <th>156746</th>\n",
              "      <td>156746</td>\n",
              "      <td>Andaime, Plataforma - Edificio ou Estrutura</td>\n",
              "      <td>Fratura</td>\n",
              "      <td>Membros Inferiores, Partes Multiplas (Qualque</td>\n",
              "      <td>517330</td>\n",
              "      <td>Vigilante</td>\n",
              "      <td>S82.7 Frat Mult da Perna</td>\n",
              "      <td>8112</td>\n",
              "      <td>Condominios Prediais</td>\n",
              "      <td>32.994.401.000.109</td>\n",
              "      <td>...</td>\n",
              "      <td>Santa Catarina</td>\n",
              "      <td>Masculino</td>\n",
              "      <td>Típico</td>\n",
              "      <td>NI</td>\n",
              "      <td>2022/09</td>\n",
              "      <td>2022-09-20</td>\n",
              "      <td>2022-10-10</td>\n",
              "      <td>20.0</td>\n",
              "      <td>2022/10</td>\n",
              "      <td>1986-03-02</td>\n",
              "    </tr>\n",
              "    <tr>\n",
              "      <th>156747</th>\n",
              "      <td>156747</td>\n",
              "      <td>Martelo, Malho, Marreta- Ferramenta Manual Se</td>\n",
              "      <td>Fratura</td>\n",
              "      <td>Dedo</td>\n",
              "      <td>724315</td>\n",
              "      <td>Soldador</td>\n",
              "      <td>S62.6 Frat de Outr Dedos</td>\n",
              "      <td>7112</td>\n",
              "      <td>Servicos de Engenharia</td>\n",
              "      <td>34.197.591.000.150</td>\n",
              "      <td>...</td>\n",
              "      <td>Paraná</td>\n",
              "      <td>Masculino</td>\n",
              "      <td>Típico</td>\n",
              "      <td>Roraima</td>\n",
              "      <td>2022/10</td>\n",
              "      <td>2022-10-05</td>\n",
              "      <td>2022-10-06</td>\n",
              "      <td>1.0</td>\n",
              "      <td>2022/10</td>\n",
              "      <td>1984-04-08</td>\n",
              "    </tr>\n",
              "    <tr>\n",
              "      <th>156748</th>\n",
              "      <td>156748</td>\n",
              "      <td>Impacto de Pes. Contra Objeto Parado</td>\n",
              "      <td>Fratura</td>\n",
              "      <td>Dedo</td>\n",
              "      <td>721215</td>\n",
              "      <td>Oper. Máquinas</td>\n",
              "      <td>S62.3 Frat de Outr Ossos do Metacarpo</td>\n",
              "      <td>2815</td>\n",
              "      <td>Fabricacao de Equipamentos de Transmissao par</td>\n",
              "      <td>54.614.813.000.109</td>\n",
              "      <td>...</td>\n",
              "      <td>São Paulo</td>\n",
              "      <td>Masculino</td>\n",
              "      <td>Típico</td>\n",
              "      <td>Maranhão</td>\n",
              "      <td>2022/10</td>\n",
              "      <td>2022-10-03</td>\n",
              "      <td>2022-10-18</td>\n",
              "      <td>15.0</td>\n",
              "      <td>2022/10</td>\n",
              "      <td>1993-07-15</td>\n",
              "    </tr>\n",
              "  </tbody>\n",
              "</table>\n",
              "<p>156749 rows × 26 columns</p>\n",
              "</div>\n",
              "      <button class=\"colab-df-convert\" onclick=\"convertToInteractive('df-ea69e93c-7c36-485c-a721-5f14815d1362')\"\n",
              "              title=\"Convert this dataframe to an interactive table.\"\n",
              "              style=\"display:none;\">\n",
              "        \n",
              "  <svg xmlns=\"http://www.w3.org/2000/svg\" height=\"24px\"viewBox=\"0 0 24 24\"\n",
              "       width=\"24px\">\n",
              "    <path d=\"M0 0h24v24H0V0z\" fill=\"none\"/>\n",
              "    <path d=\"M18.56 5.44l.94 2.06.94-2.06 2.06-.94-2.06-.94-.94-2.06-.94 2.06-2.06.94zm-11 1L8.5 8.5l.94-2.06 2.06-.94-2.06-.94L8.5 2.5l-.94 2.06-2.06.94zm10 10l.94 2.06.94-2.06 2.06-.94-2.06-.94-.94-2.06-.94 2.06-2.06.94z\"/><path d=\"M17.41 7.96l-1.37-1.37c-.4-.4-.92-.59-1.43-.59-.52 0-1.04.2-1.43.59L10.3 9.45l-7.72 7.72c-.78.78-.78 2.05 0 2.83L4 21.41c.39.39.9.59 1.41.59.51 0 1.02-.2 1.41-.59l7.78-7.78 2.81-2.81c.8-.78.8-2.07 0-2.86zM5.41 20L4 18.59l7.72-7.72 1.47 1.35L5.41 20z\"/>\n",
              "  </svg>\n",
              "      </button>\n",
              "      \n",
              "  <style>\n",
              "    .colab-df-container {\n",
              "      display:flex;\n",
              "      flex-wrap:wrap;\n",
              "      gap: 12px;\n",
              "    }\n",
              "\n",
              "    .colab-df-convert {\n",
              "      background-color: #E8F0FE;\n",
              "      border: none;\n",
              "      border-radius: 50%;\n",
              "      cursor: pointer;\n",
              "      display: none;\n",
              "      fill: #1967D2;\n",
              "      height: 32px;\n",
              "      padding: 0 0 0 0;\n",
              "      width: 32px;\n",
              "    }\n",
              "\n",
              "    .colab-df-convert:hover {\n",
              "      background-color: #E2EBFA;\n",
              "      box-shadow: 0px 1px 2px rgba(60, 64, 67, 0.3), 0px 1px 3px 1px rgba(60, 64, 67, 0.15);\n",
              "      fill: #174EA6;\n",
              "    }\n",
              "\n",
              "    [theme=dark] .colab-df-convert {\n",
              "      background-color: #3B4455;\n",
              "      fill: #D2E3FC;\n",
              "    }\n",
              "\n",
              "    [theme=dark] .colab-df-convert:hover {\n",
              "      background-color: #434B5C;\n",
              "      box-shadow: 0px 1px 3px 1px rgba(0, 0, 0, 0.15);\n",
              "      filter: drop-shadow(0px 1px 2px rgba(0, 0, 0, 0.3));\n",
              "      fill: #FFFFFF;\n",
              "    }\n",
              "  </style>\n",
              "\n",
              "      <script>\n",
              "        const buttonEl =\n",
              "          document.querySelector('#df-ea69e93c-7c36-485c-a721-5f14815d1362 button.colab-df-convert');\n",
              "        buttonEl.style.display =\n",
              "          google.colab.kernel.accessAllowed ? 'block' : 'none';\n",
              "\n",
              "        async function convertToInteractive(key) {\n",
              "          const element = document.querySelector('#df-ea69e93c-7c36-485c-a721-5f14815d1362');\n",
              "          const dataTable =\n",
              "            await google.colab.kernel.invokeFunction('convertToInteractive',\n",
              "                                                     [key], {});\n",
              "          if (!dataTable) return;\n",
              "\n",
              "          const docLinkHtml = 'Like what you see? Visit the ' +\n",
              "            '<a target=\"_blank\" href=https://colab.research.google.com/notebooks/data_table.ipynb>data table notebook</a>'\n",
              "            + ' to learn more about interactive tables.';\n",
              "          element.innerHTML = '';\n",
              "          dataTable['output_type'] = 'display_data';\n",
              "          await google.colab.output.renderOutput(dataTable, element);\n",
              "          const docLink = document.createElement('div');\n",
              "          docLink.innerHTML = docLinkHtml;\n",
              "          element.appendChild(docLink);\n",
              "        }\n",
              "      </script>\n",
              "    </div>\n",
              "  </div>\n",
              "  "
            ]
          },
          "metadata": {},
          "execution_count": 279
        }
      ]
    },
    {
      "cell_type": "code",
      "execution_count": null,
      "metadata": {
        "id": "Dar5at83pcDi"
      },
      "outputs": [],
      "source": [
        "# Transformando os tipos de data para string, pois o mongoDB não aceita Datetype\n",
        "dffinal['data'] = dffinal['data'].astype(str)\n",
        "dffinal['dt_nasc'] = dffinal['dt_nasc'].astype(str)\n",
        "dffinal['dt_emissao_cat'] = dffinal['dt_emissao_cat'].astype(str)"
      ]
    },
    {
      "cell_type": "code",
      "execution_count": null,
      "metadata": {
        "id": "bXJapmRhYzEw"
      },
      "outputs": [],
      "source": [
        "db = client['proj_aquec']\n",
        "colecao_final = db['inss_tratado']"
      ]
    },
    {
      "cell_type": "code",
      "execution_count": null,
      "metadata": {
        "id": "V-uLPd35p6yg"
      },
      "outputs": [],
      "source": [
        "dffinal_dict = dffinal.to_dict('records')"
      ]
    },
    {
      "cell_type": "code",
      "execution_count": null,
      "metadata": {
        "colab": {
          "base_uri": "https://localhost:8080/"
        },
        "id": "JTmBt6m8ovXg",
        "outputId": "6fc75000-5653-4a43-f881-2bf003b7c20a"
      },
      "outputs": [
        {
          "output_type": "execute_result",
          "data": {
            "text/plain": [
              "<pymongo.results.InsertManyResult at 0x7f8c79bd1c40>"
            ]
          },
          "metadata": {},
          "execution_count": 292
        }
      ],
      "source": [
        "colecao_final.insert_many(dffinal_dict)"
      ]
    },
    {
      "cell_type": "code",
      "execution_count": null,
      "metadata": {
        "id": "_wiUmFpCEVRo",
        "colab": {
          "base_uri": "https://localhost:8080/"
        },
        "outputId": "8f88eadb-a035-4a70-951f-992ebaa74412"
      },
      "outputs": [
        {
          "output_type": "execute_result",
          "data": {
            "text/plain": [
              "156749"
            ]
          },
          "metadata": {},
          "execution_count": 293
        }
      ],
      "source": [
        "colecao_final.count_documents({})"
      ]
    }
  ],
  "metadata": {
    "colab": {
      "provenance": [],
      "toc_visible": true,
      "include_colab_link": true
    },
    "kernelspec": {
      "display_name": "Python 3",
      "name": "python3"
    },
    "language_info": {
      "name": "python"
    }
  },
  "nbformat": 4,
  "nbformat_minor": 0
}