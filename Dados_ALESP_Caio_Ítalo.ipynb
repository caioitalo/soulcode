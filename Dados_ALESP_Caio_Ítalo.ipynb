{
  "nbformat": 4,
  "nbformat_minor": 0,
  "metadata": {
    "colab": {
      "provenance": [],
      "authorship_tag": "ABX9TyO18KxfQcCWdWDhGE4Br1hP",
      "include_colab_link": true
    },
    "kernelspec": {
      "name": "python3",
      "display_name": "Python 3"
    },
    "language_info": {
      "name": "python"
    }
  },
  "cells": [
    {
      "cell_type": "markdown",
      "metadata": {
        "id": "view-in-github",
        "colab_type": "text"
      },
      "source": [
        "<a href=\"https://colab.research.google.com/github/caioitalo/soulcode/blob/main/Dados_ALESP_Caio_%C3%8Dtalo.ipynb\" target=\"_parent\"><img src=\"https://colab.research.google.com/assets/colab-badge.svg\" alt=\"Open In Colab\"/></a>"
      ]
    },
    {
      "cell_type": "markdown",
      "source": [
        "Resumo\n",
        "- Extração, Transformação e Carregamento de dados de Dataset da Assembleia Legislativa de São Paulo. Com tratamento de dados e união de tabelas.\n",
        "- Breves análises de dados"
      ],
      "metadata": {
        "id": "7vvsw95Bk1yY"
      }
    },
    {
      "cell_type": "markdown",
      "source": [
        "\n",
        "# **EXTRAÇÃO**"
      ],
      "metadata": {
        "id": "ou0XODH-dZ-x"
      }
    },
    {
      "cell_type": "code",
      "source": [
        "!pip install pandera"
      ],
      "metadata": {
        "colab": {
          "base_uri": "https://localhost:8080/"
        },
        "id": "Xq3facI7_IJb",
        "outputId": "ab83f532-e369-45f7-f284-b462065b0e36"
      },
      "execution_count": 1,
      "outputs": [
        {
          "output_type": "stream",
          "name": "stdout",
          "text": [
            "Looking in indexes: https://pypi.org/simple, https://us-python.pkg.dev/colab-wheels/public/simple/\n",
            "Collecting pandera\n",
            "  Downloading pandera-0.13.4-py3-none-any.whl (122 kB)\n",
            "\u001b[K     |████████████████████████████████| 122 kB 13.3 MB/s \n",
            "\u001b[?25hRequirement already satisfied: packaging>=20.0 in /usr/local/lib/python3.7/dist-packages (from pandera) (21.3)\n",
            "Collecting typing-inspect>=0.6.0\n",
            "  Downloading typing_inspect-0.8.0-py3-none-any.whl (8.7 kB)\n",
            "Requirement already satisfied: typing-extensions>=3.7.4.3 in /usr/local/lib/python3.7/dist-packages (from pandera) (4.1.1)\n",
            "Requirement already satisfied: pandas>=1.2.0 in /usr/local/lib/python3.7/dist-packages (from pandera) (1.3.5)\n",
            "Requirement already satisfied: pydantic in /usr/local/lib/python3.7/dist-packages (from pandera) (1.10.2)\n",
            "Requirement already satisfied: numpy>=1.19.0 in /usr/local/lib/python3.7/dist-packages (from pandera) (1.21.6)\n",
            "Requirement already satisfied: wrapt in /usr/local/lib/python3.7/dist-packages (from pandera) (1.14.1)\n",
            "Requirement already satisfied: pyparsing!=3.0.5,>=2.0.2 in /usr/local/lib/python3.7/dist-packages (from packaging>=20.0->pandera) (3.0.9)\n",
            "Requirement already satisfied: python-dateutil>=2.7.3 in /usr/local/lib/python3.7/dist-packages (from pandas>=1.2.0->pandera) (2.8.2)\n",
            "Requirement already satisfied: pytz>=2017.3 in /usr/local/lib/python3.7/dist-packages (from pandas>=1.2.0->pandera) (2022.6)\n",
            "Requirement already satisfied: six>=1.5 in /usr/local/lib/python3.7/dist-packages (from python-dateutil>=2.7.3->pandas>=1.2.0->pandera) (1.15.0)\n",
            "Collecting mypy-extensions>=0.3.0\n",
            "  Downloading mypy_extensions-0.4.3-py2.py3-none-any.whl (4.5 kB)\n",
            "Installing collected packages: mypy-extensions, typing-inspect, pandera\n",
            "Successfully installed mypy-extensions-0.4.3 pandera-0.13.4 typing-inspect-0.8.0\n"
          ]
        }
      ]
    },
    {
      "cell_type": "code",
      "execution_count": 52,
      "metadata": {
        "id": "EajZED91aULj"
      },
      "outputs": [],
      "source": [
        "# Importação de bibliotecas\n",
        "import pandas as pd\n",
        "import pandera as pa"
      ]
    },
    {
      "cell_type": "code",
      "source": [
        "# dados alocados em um bucket na Google Cloud Platform para evitar indisponibilidade\n",
        "df = pd.read_csv('https://storage.googleapis.com/datalake-soulcode-ed7/arquivos%20soulcode/alesp_desp.csv')\n",
        "dfbackup = df.copy()\n",
        "pd.set_option('display.max_rows', 50)"
      ],
      "metadata": {
        "id": "opFOwH9H-Wfc",
        "colab": {
          "base_uri": "https://localhost:8080/"
        },
        "outputId": "a0aa5eac-7bf1-428a-f1cd-f2cf042e2224"
      },
      "execution_count": 105,
      "outputs": [
        {
          "output_type": "stream",
          "name": "stderr",
          "text": [
            "/usr/local/lib/python3.7/dist-packages/IPython/core/interactiveshell.py:3326: DtypeWarning: Columns (5) have mixed types.Specify dtype option on import or set low_memory=False.\n",
            "  exec(code_obj, self.user_global_ns, self.user_ns)\n"
          ]
        }
      ]
    },
    {
      "cell_type": "markdown",
      "source": [
        "# **Transformação**"
      ],
      "metadata": {
        "id": "FnJcReTWhq9d"
      }
    },
    {
      "cell_type": "code",
      "source": [
        "df"
      ],
      "metadata": {
        "id": "yy83bJUFhyBl"
      },
      "execution_count": null,
      "outputs": []
    },
    {
      "cell_type": "markdown",
      "source": [
        "## Renomeando e dropando colunas desnecessárias"
      ],
      "metadata": {
        "id": "QnQ6aClWRTBi"
      }
    },
    {
      "cell_type": "code",
      "source": [
        "df.rename(columns={'Ano':'ano','Matricula':'matricula','Mes':'mes','Valor':'valor','CNPJ':'cnpj','Tipo':'tipo', 'Fornecedor':'fornecedor', 'Deputado':'deputado'},inplace=True)\n",
        "df.drop('Unnamed: 0',axis=1, inplace=True)"
      ],
      "metadata": {
        "id": "zqLc7nvslYZC"
      },
      "execution_count": 108,
      "outputs": []
    },
    {
      "cell_type": "markdown",
      "source": [
        "## Checagens básicas de inconsistências\n",
        "\n"
      ],
      "metadata": {
        "id": "clYp0aYOSQQ_"
      }
    },
    {
      "cell_type": "code",
      "source": [
        "# CNPJ como objeto é algo a ser observado.\n",
        "\n",
        "df.dtypes"
      ],
      "metadata": {
        "colab": {
          "base_uri": "https://localhost:8080/"
        },
        "id": "ANtroJvuSNt-",
        "outputId": "a6c3573f-b82c-49b9-9209-90206933d7b3"
      },
      "execution_count": 68,
      "outputs": [
        {
          "output_type": "execute_result",
          "data": {
            "text/plain": [
              "ano             int64\n",
              "matricula       int64\n",
              "mes             int64\n",
              "valor         float64\n",
              "cnpj           object\n",
              "deputado       object\n",
              "tipo           object\n",
              "fornecedor     object\n",
              "dtype: object"
            ]
          },
          "metadata": {},
          "execution_count": 68
        }
      ]
    },
    {
      "cell_type": "code",
      "source": [
        "# Usando unique para ver os valores únicos em cada coluna.\n",
        "# pontos a observar: valores muito baixos como: 0.0; 0.1; 0.2; 0.3\n",
        "# Muitos fornecedores com nomes parecidos\n",
        "\n",
        "sorted(pd.unique(df['fornecedor']))"
      ],
      "metadata": {
        "id": "V43heczIifWY"
      },
      "execution_count": null,
      "outputs": []
    },
    {
      "cell_type": "code",
      "source": [
        "# Checagem de valores NaN\n",
        "df.isna().sum()"
      ],
      "metadata": {
        "colab": {
          "base_uri": "https://localhost:8080/"
        },
        "id": "53xHfpaAkmmL",
        "outputId": "51f2fe30-d1c2-4178-a72e-6f9be13294f7"
      },
      "execution_count": 18,
      "outputs": [
        {
          "output_type": "execute_result",
          "data": {
            "text/plain": [
              "ano               0\n",
              "matricula         0\n",
              "mes               0\n",
              "valor             0\n",
              "cnpj          10892\n",
              "deputado          0\n",
              "tipo              0\n",
              "fornecedor        0\n",
              "dtype: int64"
            ]
          },
          "metadata": {},
          "execution_count": 18
        }
      ]
    },
    {
      "cell_type": "markdown",
      "source": [
        "## TRATAMENTO BÁSICO DA BD"
      ],
      "metadata": {
        "id": "3spACm87BYfH"
      }
    },
    {
      "cell_type": "code",
      "source": [
        "sorted(pd.unique(df['fornecedor']))"
      ],
      "metadata": {
        "id": "FYFe10tU8wxQ"
      },
      "execution_count": null,
      "outputs": []
    },
    {
      "cell_type": "code",
      "source": [
        "df.dtypes"
      ],
      "metadata": {
        "colab": {
          "base_uri": "https://localhost:8080/"
        },
        "id": "ip5rT_R4CHhW",
        "outputId": "4c0a1fdc-18f4-421c-ab32-00b8936dbbc3"
      },
      "execution_count": 29,
      "outputs": [
        {
          "output_type": "execute_result",
          "data": {
            "text/plain": [
              "ano             int64\n",
              "matricula       int64\n",
              "mes             int64\n",
              "valor         float64\n",
              "cnpj           object\n",
              "deputado       object\n",
              "tipo           object\n",
              "fornecedor     object\n",
              "dtype: object"
            ]
          },
          "metadata": {},
          "execution_count": 29
        }
      ]
    },
    {
      "cell_type": "markdown",
      "source": [
        "### O problema dos CNPJs"
      ],
      "metadata": {
        "id": "5VnOSCAHZ-y5"
      }
    },
    {
      "cell_type": "code",
      "source": [
        "# verificando se todos os CNPJs são numéricos, percebe-se que não.\n",
        "df.cnpj.astype(float)"
      ],
      "metadata": {
        "colab": {
          "base_uri": "https://localhost:8080/",
          "height": 311
        },
        "id": "2n3oXzEOVw4U",
        "outputId": "e50bc3d7-bf87-4f64-b613-86ac04335b5c"
      },
      "execution_count": 30,
      "outputs": [
        {
          "output_type": "error",
          "ename": "ValueError",
          "evalue": "ignored",
          "traceback": [
            "\u001b[0;31m---------------------------------------------------------------------------\u001b[0m",
            "\u001b[0;31mValueError\u001b[0m                                Traceback (most recent call last)",
            "\u001b[0;32m<ipython-input-30-e15e9e73c6f9>\u001b[0m in \u001b[0;36m<module>\u001b[0;34m\u001b[0m\n\u001b[0;32m----> 1\u001b[0;31m \u001b[0mdf\u001b[0m\u001b[0;34m.\u001b[0m\u001b[0mcnpj\u001b[0m\u001b[0;34m.\u001b[0m\u001b[0mastype\u001b[0m\u001b[0;34m(\u001b[0m\u001b[0mfloat\u001b[0m\u001b[0;34m)\u001b[0m\u001b[0;34m\u001b[0m\u001b[0;34m\u001b[0m\u001b[0m\n\u001b[0m",
            "\u001b[0;32m/usr/local/lib/python3.7/dist-packages/pandas/core/generic.py\u001b[0m in \u001b[0;36mastype\u001b[0;34m(self, dtype, copy, errors)\u001b[0m\n\u001b[1;32m   5813\u001b[0m         \u001b[0;32melse\u001b[0m\u001b[0;34m:\u001b[0m\u001b[0;34m\u001b[0m\u001b[0;34m\u001b[0m\u001b[0m\n\u001b[1;32m   5814\u001b[0m             \u001b[0;31m# else, only a single dtype is given\u001b[0m\u001b[0;34m\u001b[0m\u001b[0;34m\u001b[0m\u001b[0;34m\u001b[0m\u001b[0m\n\u001b[0;32m-> 5815\u001b[0;31m             \u001b[0mnew_data\u001b[0m \u001b[0;34m=\u001b[0m \u001b[0mself\u001b[0m\u001b[0;34m.\u001b[0m\u001b[0m_mgr\u001b[0m\u001b[0;34m.\u001b[0m\u001b[0mastype\u001b[0m\u001b[0;34m(\u001b[0m\u001b[0mdtype\u001b[0m\u001b[0;34m=\u001b[0m\u001b[0mdtype\u001b[0m\u001b[0;34m,\u001b[0m \u001b[0mcopy\u001b[0m\u001b[0;34m=\u001b[0m\u001b[0mcopy\u001b[0m\u001b[0;34m,\u001b[0m \u001b[0merrors\u001b[0m\u001b[0;34m=\u001b[0m\u001b[0merrors\u001b[0m\u001b[0;34m)\u001b[0m\u001b[0;34m\u001b[0m\u001b[0;34m\u001b[0m\u001b[0m\n\u001b[0m\u001b[1;32m   5816\u001b[0m             \u001b[0;32mreturn\u001b[0m \u001b[0mself\u001b[0m\u001b[0;34m.\u001b[0m\u001b[0m_constructor\u001b[0m\u001b[0;34m(\u001b[0m\u001b[0mnew_data\u001b[0m\u001b[0;34m)\u001b[0m\u001b[0;34m.\u001b[0m\u001b[0m__finalize__\u001b[0m\u001b[0;34m(\u001b[0m\u001b[0mself\u001b[0m\u001b[0;34m,\u001b[0m \u001b[0mmethod\u001b[0m\u001b[0;34m=\u001b[0m\u001b[0;34m\"astype\"\u001b[0m\u001b[0;34m)\u001b[0m\u001b[0;34m\u001b[0m\u001b[0;34m\u001b[0m\u001b[0m\n\u001b[1;32m   5817\u001b[0m \u001b[0;34m\u001b[0m\u001b[0m\n",
            "\u001b[0;32m/usr/local/lib/python3.7/dist-packages/pandas/core/internals/managers.py\u001b[0m in \u001b[0;36mastype\u001b[0;34m(self, dtype, copy, errors)\u001b[0m\n\u001b[1;32m    416\u001b[0m \u001b[0;34m\u001b[0m\u001b[0m\n\u001b[1;32m    417\u001b[0m     \u001b[0;32mdef\u001b[0m \u001b[0mastype\u001b[0m\u001b[0;34m(\u001b[0m\u001b[0mself\u001b[0m\u001b[0;34m:\u001b[0m \u001b[0mT\u001b[0m\u001b[0;34m,\u001b[0m \u001b[0mdtype\u001b[0m\u001b[0;34m,\u001b[0m \u001b[0mcopy\u001b[0m\u001b[0;34m:\u001b[0m \u001b[0mbool\u001b[0m \u001b[0;34m=\u001b[0m \u001b[0;32mFalse\u001b[0m\u001b[0;34m,\u001b[0m \u001b[0merrors\u001b[0m\u001b[0;34m:\u001b[0m \u001b[0mstr\u001b[0m \u001b[0;34m=\u001b[0m \u001b[0;34m\"raise\"\u001b[0m\u001b[0;34m)\u001b[0m \u001b[0;34m->\u001b[0m \u001b[0mT\u001b[0m\u001b[0;34m:\u001b[0m\u001b[0;34m\u001b[0m\u001b[0;34m\u001b[0m\u001b[0m\n\u001b[0;32m--> 418\u001b[0;31m         \u001b[0;32mreturn\u001b[0m \u001b[0mself\u001b[0m\u001b[0;34m.\u001b[0m\u001b[0mapply\u001b[0m\u001b[0;34m(\u001b[0m\u001b[0;34m\"astype\"\u001b[0m\u001b[0;34m,\u001b[0m \u001b[0mdtype\u001b[0m\u001b[0;34m=\u001b[0m\u001b[0mdtype\u001b[0m\u001b[0;34m,\u001b[0m \u001b[0mcopy\u001b[0m\u001b[0;34m=\u001b[0m\u001b[0mcopy\u001b[0m\u001b[0;34m,\u001b[0m \u001b[0merrors\u001b[0m\u001b[0;34m=\u001b[0m\u001b[0merrors\u001b[0m\u001b[0;34m)\u001b[0m\u001b[0;34m\u001b[0m\u001b[0;34m\u001b[0m\u001b[0m\n\u001b[0m\u001b[1;32m    419\u001b[0m \u001b[0;34m\u001b[0m\u001b[0m\n\u001b[1;32m    420\u001b[0m     def convert(\n",
            "\u001b[0;32m/usr/local/lib/python3.7/dist-packages/pandas/core/internals/managers.py\u001b[0m in \u001b[0;36mapply\u001b[0;34m(self, f, align_keys, ignore_failures, **kwargs)\u001b[0m\n\u001b[1;32m    325\u001b[0m                     \u001b[0mapplied\u001b[0m \u001b[0;34m=\u001b[0m \u001b[0mb\u001b[0m\u001b[0;34m.\u001b[0m\u001b[0mapply\u001b[0m\u001b[0;34m(\u001b[0m\u001b[0mf\u001b[0m\u001b[0;34m,\u001b[0m \u001b[0;34m**\u001b[0m\u001b[0mkwargs\u001b[0m\u001b[0;34m)\u001b[0m\u001b[0;34m\u001b[0m\u001b[0;34m\u001b[0m\u001b[0m\n\u001b[1;32m    326\u001b[0m                 \u001b[0;32melse\u001b[0m\u001b[0;34m:\u001b[0m\u001b[0;34m\u001b[0m\u001b[0;34m\u001b[0m\u001b[0m\n\u001b[0;32m--> 327\u001b[0;31m                     \u001b[0mapplied\u001b[0m \u001b[0;34m=\u001b[0m \u001b[0mgetattr\u001b[0m\u001b[0;34m(\u001b[0m\u001b[0mb\u001b[0m\u001b[0;34m,\u001b[0m \u001b[0mf\u001b[0m\u001b[0;34m)\u001b[0m\u001b[0;34m(\u001b[0m\u001b[0;34m**\u001b[0m\u001b[0mkwargs\u001b[0m\u001b[0;34m)\u001b[0m\u001b[0;34m\u001b[0m\u001b[0;34m\u001b[0m\u001b[0m\n\u001b[0m\u001b[1;32m    328\u001b[0m             \u001b[0;32mexcept\u001b[0m \u001b[0;34m(\u001b[0m\u001b[0mTypeError\u001b[0m\u001b[0;34m,\u001b[0m \u001b[0mNotImplementedError\u001b[0m\u001b[0;34m)\u001b[0m\u001b[0;34m:\u001b[0m\u001b[0;34m\u001b[0m\u001b[0;34m\u001b[0m\u001b[0m\n\u001b[1;32m    329\u001b[0m                 \u001b[0;32mif\u001b[0m \u001b[0;32mnot\u001b[0m \u001b[0mignore_failures\u001b[0m\u001b[0;34m:\u001b[0m\u001b[0;34m\u001b[0m\u001b[0;34m\u001b[0m\u001b[0m\n",
            "\u001b[0;32m/usr/local/lib/python3.7/dist-packages/pandas/core/internals/blocks.py\u001b[0m in \u001b[0;36mastype\u001b[0;34m(self, dtype, copy, errors)\u001b[0m\n\u001b[1;32m    589\u001b[0m         \u001b[0mvalues\u001b[0m \u001b[0;34m=\u001b[0m \u001b[0mself\u001b[0m\u001b[0;34m.\u001b[0m\u001b[0mvalues\u001b[0m\u001b[0;34m\u001b[0m\u001b[0;34m\u001b[0m\u001b[0m\n\u001b[1;32m    590\u001b[0m \u001b[0;34m\u001b[0m\u001b[0m\n\u001b[0;32m--> 591\u001b[0;31m         \u001b[0mnew_values\u001b[0m \u001b[0;34m=\u001b[0m \u001b[0mastype_array_safe\u001b[0m\u001b[0;34m(\u001b[0m\u001b[0mvalues\u001b[0m\u001b[0;34m,\u001b[0m \u001b[0mdtype\u001b[0m\u001b[0;34m,\u001b[0m \u001b[0mcopy\u001b[0m\u001b[0;34m=\u001b[0m\u001b[0mcopy\u001b[0m\u001b[0;34m,\u001b[0m \u001b[0merrors\u001b[0m\u001b[0;34m=\u001b[0m\u001b[0merrors\u001b[0m\u001b[0;34m)\u001b[0m\u001b[0;34m\u001b[0m\u001b[0;34m\u001b[0m\u001b[0m\n\u001b[0m\u001b[1;32m    592\u001b[0m \u001b[0;34m\u001b[0m\u001b[0m\n\u001b[1;32m    593\u001b[0m         \u001b[0mnew_values\u001b[0m \u001b[0;34m=\u001b[0m \u001b[0mmaybe_coerce_values\u001b[0m\u001b[0;34m(\u001b[0m\u001b[0mnew_values\u001b[0m\u001b[0;34m)\u001b[0m\u001b[0;34m\u001b[0m\u001b[0;34m\u001b[0m\u001b[0m\n",
            "\u001b[0;32m/usr/local/lib/python3.7/dist-packages/pandas/core/dtypes/cast.py\u001b[0m in \u001b[0;36mastype_array_safe\u001b[0;34m(values, dtype, copy, errors)\u001b[0m\n\u001b[1;32m   1307\u001b[0m \u001b[0;34m\u001b[0m\u001b[0m\n\u001b[1;32m   1308\u001b[0m     \u001b[0;32mtry\u001b[0m\u001b[0;34m:\u001b[0m\u001b[0;34m\u001b[0m\u001b[0;34m\u001b[0m\u001b[0m\n\u001b[0;32m-> 1309\u001b[0;31m         \u001b[0mnew_values\u001b[0m \u001b[0;34m=\u001b[0m \u001b[0mastype_array\u001b[0m\u001b[0;34m(\u001b[0m\u001b[0mvalues\u001b[0m\u001b[0;34m,\u001b[0m \u001b[0mdtype\u001b[0m\u001b[0;34m,\u001b[0m \u001b[0mcopy\u001b[0m\u001b[0;34m=\u001b[0m\u001b[0mcopy\u001b[0m\u001b[0;34m)\u001b[0m\u001b[0;34m\u001b[0m\u001b[0;34m\u001b[0m\u001b[0m\n\u001b[0m\u001b[1;32m   1310\u001b[0m     \u001b[0;32mexcept\u001b[0m \u001b[0;34m(\u001b[0m\u001b[0mValueError\u001b[0m\u001b[0;34m,\u001b[0m \u001b[0mTypeError\u001b[0m\u001b[0;34m)\u001b[0m\u001b[0;34m:\u001b[0m\u001b[0;34m\u001b[0m\u001b[0;34m\u001b[0m\u001b[0m\n\u001b[1;32m   1311\u001b[0m         \u001b[0;31m# e.g. astype_nansafe can fail on object-dtype of strings\u001b[0m\u001b[0;34m\u001b[0m\u001b[0;34m\u001b[0m\u001b[0;34m\u001b[0m\u001b[0m\n",
            "\u001b[0;32m/usr/local/lib/python3.7/dist-packages/pandas/core/dtypes/cast.py\u001b[0m in \u001b[0;36mastype_array\u001b[0;34m(values, dtype, copy)\u001b[0m\n\u001b[1;32m   1255\u001b[0m \u001b[0;34m\u001b[0m\u001b[0m\n\u001b[1;32m   1256\u001b[0m     \u001b[0;32melse\u001b[0m\u001b[0;34m:\u001b[0m\u001b[0;34m\u001b[0m\u001b[0;34m\u001b[0m\u001b[0m\n\u001b[0;32m-> 1257\u001b[0;31m         \u001b[0mvalues\u001b[0m \u001b[0;34m=\u001b[0m \u001b[0mastype_nansafe\u001b[0m\u001b[0;34m(\u001b[0m\u001b[0mvalues\u001b[0m\u001b[0;34m,\u001b[0m \u001b[0mdtype\u001b[0m\u001b[0;34m,\u001b[0m \u001b[0mcopy\u001b[0m\u001b[0;34m=\u001b[0m\u001b[0mcopy\u001b[0m\u001b[0;34m)\u001b[0m\u001b[0;34m\u001b[0m\u001b[0;34m\u001b[0m\u001b[0m\n\u001b[0m\u001b[1;32m   1258\u001b[0m \u001b[0;34m\u001b[0m\u001b[0m\n\u001b[1;32m   1259\u001b[0m     \u001b[0;31m# in pandas we don't store numpy str dtypes, so convert to object\u001b[0m\u001b[0;34m\u001b[0m\u001b[0;34m\u001b[0m\u001b[0;34m\u001b[0m\u001b[0m\n",
            "\u001b[0;32m/usr/local/lib/python3.7/dist-packages/pandas/core/dtypes/cast.py\u001b[0m in \u001b[0;36mastype_nansafe\u001b[0;34m(arr, dtype, copy, skipna)\u001b[0m\n\u001b[1;32m   1199\u001b[0m     \u001b[0;32mif\u001b[0m \u001b[0mcopy\u001b[0m \u001b[0;32mor\u001b[0m \u001b[0mis_object_dtype\u001b[0m\u001b[0;34m(\u001b[0m\u001b[0marr\u001b[0m\u001b[0;34m.\u001b[0m\u001b[0mdtype\u001b[0m\u001b[0;34m)\u001b[0m \u001b[0;32mor\u001b[0m \u001b[0mis_object_dtype\u001b[0m\u001b[0;34m(\u001b[0m\u001b[0mdtype\u001b[0m\u001b[0;34m)\u001b[0m\u001b[0;34m:\u001b[0m\u001b[0;34m\u001b[0m\u001b[0;34m\u001b[0m\u001b[0m\n\u001b[1;32m   1200\u001b[0m         \u001b[0;31m# Explicit copy, or required since NumPy can't view from / to object.\u001b[0m\u001b[0;34m\u001b[0m\u001b[0;34m\u001b[0m\u001b[0;34m\u001b[0m\u001b[0m\n\u001b[0;32m-> 1201\u001b[0;31m         \u001b[0;32mreturn\u001b[0m \u001b[0marr\u001b[0m\u001b[0;34m.\u001b[0m\u001b[0mastype\u001b[0m\u001b[0;34m(\u001b[0m\u001b[0mdtype\u001b[0m\u001b[0;34m,\u001b[0m \u001b[0mcopy\u001b[0m\u001b[0;34m=\u001b[0m\u001b[0;32mTrue\u001b[0m\u001b[0;34m)\u001b[0m\u001b[0;34m\u001b[0m\u001b[0;34m\u001b[0m\u001b[0m\n\u001b[0m\u001b[1;32m   1202\u001b[0m \u001b[0;34m\u001b[0m\u001b[0m\n\u001b[1;32m   1203\u001b[0m     \u001b[0;32mreturn\u001b[0m \u001b[0marr\u001b[0m\u001b[0;34m.\u001b[0m\u001b[0mastype\u001b[0m\u001b[0;34m(\u001b[0m\u001b[0mdtype\u001b[0m\u001b[0;34m,\u001b[0m \u001b[0mcopy\u001b[0m\u001b[0;34m=\u001b[0m\u001b[0mcopy\u001b[0m\u001b[0;34m)\u001b[0m\u001b[0;34m\u001b[0m\u001b[0;34m\u001b[0m\u001b[0m\n",
            "\u001b[0;31mValueError\u001b[0m: could not convert string to float: 'O4689799000126'"
          ]
        }
      ]
    },
    {
      "cell_type": "code",
      "source": [
        "# Coletando os valores únicos de CNPJ\n",
        "dfun = df.cnpj.unique()\n",
        "dfun"
      ],
      "metadata": {
        "colab": {
          "base_uri": "https://localhost:8080/"
        },
        "id": "9Rz598kfWTaJ",
        "outputId": "0abbe09b-25f1-45e7-ff41-5c0d365ca07e"
      },
      "execution_count": 84,
      "outputs": [
        {
          "output_type": "execute_result",
          "data": {
            "text/plain": [
              "array(['71806251000106', '68064740000125', '22145388877', ...,\n",
              "       50323741991.0, 6878968000100.0, 5591224000139.0], dtype=object)"
            ]
          },
          "metadata": {},
          "execution_count": 84
        }
      ]
    },
    {
      "cell_type": "code",
      "source": [
        "# Percorrendo os valores únicos para encontrar os cnpjs que não são númericos\n",
        "valores_estranhos = []\n",
        "for i in range(len(dfun)):\n",
        "  try:\n",
        "    int(dfun[i])\n",
        "  except Exception:\n",
        "    valores_estranhos.append(dfun[i])\n",
        "print(valores_estranhos)"
      ],
      "metadata": {
        "colab": {
          "base_uri": "https://localhost:8080/"
        },
        "id": "vaxjjq0xWOOB",
        "outputId": "189af097-9ad5-48b5-97f9-b3a9dfd92a1c"
      },
      "execution_count": 109,
      "outputs": [
        {
          "output_type": "stream",
          "name": "stdout",
          "text": [
            "[nan, 'O4689799000126', 'O4040553000129', 'O2358317000120', 'O1520430000105', '00O21449000136', 'O7482309000104']\n"
          ]
        }
      ]
    },
    {
      "cell_type": "code",
      "source": [
        "# todos os casos em que uma letra 'O' foi colocado em vez do 0\n",
        "ftcnpj = df[df.cnpj.isin(['O4689799000126','O4040553000129','O2358317000120','O1520430000105','00O21449000136','O7482309000104'])]\n",
        "ftcnpj"
      ],
      "metadata": {
        "colab": {
          "base_uri": "https://localhost:8080/",
          "height": 542
        },
        "id": "tSBek48XanO9",
        "outputId": "a146694e-3fb8-40cd-c78c-9780eadd9de4"
      },
      "execution_count": 110,
      "outputs": [
        {
          "output_type": "execute_result",
          "data": {
            "text/plain": [
              "         ano  matricula  mes    valor            cnpj        deputado  \\\n",
              "55891   2007     300482   11    76.78  O4689799000126  ANTÔNIO CARLOS   \n",
              "55964   2008     300482    2    70.02  O4040553000129  ANTÔNIO CARLOS   \n",
              "55998   2008     300482    3    50.00  O4040553000129  ANTÔNIO CARLOS   \n",
              "316251  2007     300455    9    40.00  O2358317000120  MARCOS MARTINS   \n",
              "365639  2007     300468   12   504.12  O1520430000105   OLÍMPIO GOMES   \n",
              "389510  2002     300379    5   786.55  00O21449000136      PEDRO YVES   \n",
              "389553  2002     300379    9   915.76  00O21449000136      PEDRO YVES   \n",
              "389565  2002     300379   10   802.69  00O21449000136      PEDRO YVES   \n",
              "389578  2002     300379   12  3101.63  00O21449000136      PEDRO YVES   \n",
              "389582  2003     300379    1  5472.30  00O21449000136      PEDRO YVES   \n",
              "395189  2007     300344    6   173.00  O7482309000104    RAFAEL SILVA   \n",
              "\n",
              "                                                     tipo  \\\n",
              "55891   I - HOSPEDAGEM, ALIMENTAÇÃO E DESPESAS DE LOCO...   \n",
              "55964                    A - COMBUSTÍVEIS E LUBRIFICANTES   \n",
              "55998                    A - COMBUSTÍVEIS E LUBRIFICANTES   \n",
              "316251  G - ASSINATURAS DE PERIÓDICOS, PUBLICAÇÕES, IN...   \n",
              "365639  I - HOSPEDAGEM, ALIMENTAÇÃO E DESPESAS DE LOCO...   \n",
              "389510                   A - COMBUSTÍVEIS E LUBRIFICANTES   \n",
              "389553                   A - COMBUSTÍVEIS E LUBRIFICANTES   \n",
              "389565                   A - COMBUSTÍVEIS E LUBRIFICANTES   \n",
              "389578                   A - COMBUSTÍVEIS E LUBRIFICANTES   \n",
              "389582                   A - COMBUSTÍVEIS E LUBRIFICANTES   \n",
              "395189  I - HOSPEDAGEM, ALIMENTAÇÃO E DESPESAS DE LOCO...   \n",
              "\n",
              "                                               fornecedor  \n",
              "55891                                 VIA BARBARESCO LTDA  \n",
              "55964                             AUTO POSTO AUSTRIA LTDA  \n",
              "55998                             AUTO POSTO AUSTRIA LTDA  \n",
              "316251                           BASENET INFORMATICA LTDA  \n",
              "365639  PICANHARIA DO GAUCHO/ JOCELI NARDI CHURRASCARI...  \n",
              "389510                    AUTO POSTO BOSQUE SATÉLITE LTDA  \n",
              "389553                    AUTO POSTO BOSQUE SATÉLITE LTDA  \n",
              "389565                    AUTO POSTO BOSQUE SATÉLITE LTDA  \n",
              "389578                    AUTO POSTO BOSQUE SATÉLITE LTDA  \n",
              "389582                    AUTO POSTO BOSQUE SATÉLITE LTDA  \n",
              "395189            JOÃO BATISTA DA SILVA CHURRASCARIA - ME  "
            ],
            "text/html": [
              "\n",
              "  <div id=\"df-dd2b08b0-7685-4987-b5ad-d686211ceed4\">\n",
              "    <div class=\"colab-df-container\">\n",
              "      <div>\n",
              "<style scoped>\n",
              "    .dataframe tbody tr th:only-of-type {\n",
              "        vertical-align: middle;\n",
              "    }\n",
              "\n",
              "    .dataframe tbody tr th {\n",
              "        vertical-align: top;\n",
              "    }\n",
              "\n",
              "    .dataframe thead th {\n",
              "        text-align: right;\n",
              "    }\n",
              "</style>\n",
              "<table border=\"1\" class=\"dataframe\">\n",
              "  <thead>\n",
              "    <tr style=\"text-align: right;\">\n",
              "      <th></th>\n",
              "      <th>ano</th>\n",
              "      <th>matricula</th>\n",
              "      <th>mes</th>\n",
              "      <th>valor</th>\n",
              "      <th>cnpj</th>\n",
              "      <th>deputado</th>\n",
              "      <th>tipo</th>\n",
              "      <th>fornecedor</th>\n",
              "    </tr>\n",
              "  </thead>\n",
              "  <tbody>\n",
              "    <tr>\n",
              "      <th>55891</th>\n",
              "      <td>2007</td>\n",
              "      <td>300482</td>\n",
              "      <td>11</td>\n",
              "      <td>76.78</td>\n",
              "      <td>O4689799000126</td>\n",
              "      <td>ANTÔNIO CARLOS</td>\n",
              "      <td>I - HOSPEDAGEM, ALIMENTAÇÃO E DESPESAS DE LOCO...</td>\n",
              "      <td>VIA BARBARESCO LTDA</td>\n",
              "    </tr>\n",
              "    <tr>\n",
              "      <th>55964</th>\n",
              "      <td>2008</td>\n",
              "      <td>300482</td>\n",
              "      <td>2</td>\n",
              "      <td>70.02</td>\n",
              "      <td>O4040553000129</td>\n",
              "      <td>ANTÔNIO CARLOS</td>\n",
              "      <td>A - COMBUSTÍVEIS E LUBRIFICANTES</td>\n",
              "      <td>AUTO POSTO AUSTRIA LTDA</td>\n",
              "    </tr>\n",
              "    <tr>\n",
              "      <th>55998</th>\n",
              "      <td>2008</td>\n",
              "      <td>300482</td>\n",
              "      <td>3</td>\n",
              "      <td>50.00</td>\n",
              "      <td>O4040553000129</td>\n",
              "      <td>ANTÔNIO CARLOS</td>\n",
              "      <td>A - COMBUSTÍVEIS E LUBRIFICANTES</td>\n",
              "      <td>AUTO POSTO AUSTRIA LTDA</td>\n",
              "    </tr>\n",
              "    <tr>\n",
              "      <th>316251</th>\n",
              "      <td>2007</td>\n",
              "      <td>300455</td>\n",
              "      <td>9</td>\n",
              "      <td>40.00</td>\n",
              "      <td>O2358317000120</td>\n",
              "      <td>MARCOS MARTINS</td>\n",
              "      <td>G - ASSINATURAS DE PERIÓDICOS, PUBLICAÇÕES, IN...</td>\n",
              "      <td>BASENET INFORMATICA LTDA</td>\n",
              "    </tr>\n",
              "    <tr>\n",
              "      <th>365639</th>\n",
              "      <td>2007</td>\n",
              "      <td>300468</td>\n",
              "      <td>12</td>\n",
              "      <td>504.12</td>\n",
              "      <td>O1520430000105</td>\n",
              "      <td>OLÍMPIO GOMES</td>\n",
              "      <td>I - HOSPEDAGEM, ALIMENTAÇÃO E DESPESAS DE LOCO...</td>\n",
              "      <td>PICANHARIA DO GAUCHO/ JOCELI NARDI CHURRASCARI...</td>\n",
              "    </tr>\n",
              "    <tr>\n",
              "      <th>389510</th>\n",
              "      <td>2002</td>\n",
              "      <td>300379</td>\n",
              "      <td>5</td>\n",
              "      <td>786.55</td>\n",
              "      <td>00O21449000136</td>\n",
              "      <td>PEDRO YVES</td>\n",
              "      <td>A - COMBUSTÍVEIS E LUBRIFICANTES</td>\n",
              "      <td>AUTO POSTO BOSQUE SATÉLITE LTDA</td>\n",
              "    </tr>\n",
              "    <tr>\n",
              "      <th>389553</th>\n",
              "      <td>2002</td>\n",
              "      <td>300379</td>\n",
              "      <td>9</td>\n",
              "      <td>915.76</td>\n",
              "      <td>00O21449000136</td>\n",
              "      <td>PEDRO YVES</td>\n",
              "      <td>A - COMBUSTÍVEIS E LUBRIFICANTES</td>\n",
              "      <td>AUTO POSTO BOSQUE SATÉLITE LTDA</td>\n",
              "    </tr>\n",
              "    <tr>\n",
              "      <th>389565</th>\n",
              "      <td>2002</td>\n",
              "      <td>300379</td>\n",
              "      <td>10</td>\n",
              "      <td>802.69</td>\n",
              "      <td>00O21449000136</td>\n",
              "      <td>PEDRO YVES</td>\n",
              "      <td>A - COMBUSTÍVEIS E LUBRIFICANTES</td>\n",
              "      <td>AUTO POSTO BOSQUE SATÉLITE LTDA</td>\n",
              "    </tr>\n",
              "    <tr>\n",
              "      <th>389578</th>\n",
              "      <td>2002</td>\n",
              "      <td>300379</td>\n",
              "      <td>12</td>\n",
              "      <td>3101.63</td>\n",
              "      <td>00O21449000136</td>\n",
              "      <td>PEDRO YVES</td>\n",
              "      <td>A - COMBUSTÍVEIS E LUBRIFICANTES</td>\n",
              "      <td>AUTO POSTO BOSQUE SATÉLITE LTDA</td>\n",
              "    </tr>\n",
              "    <tr>\n",
              "      <th>389582</th>\n",
              "      <td>2003</td>\n",
              "      <td>300379</td>\n",
              "      <td>1</td>\n",
              "      <td>5472.30</td>\n",
              "      <td>00O21449000136</td>\n",
              "      <td>PEDRO YVES</td>\n",
              "      <td>A - COMBUSTÍVEIS E LUBRIFICANTES</td>\n",
              "      <td>AUTO POSTO BOSQUE SATÉLITE LTDA</td>\n",
              "    </tr>\n",
              "    <tr>\n",
              "      <th>395189</th>\n",
              "      <td>2007</td>\n",
              "      <td>300344</td>\n",
              "      <td>6</td>\n",
              "      <td>173.00</td>\n",
              "      <td>O7482309000104</td>\n",
              "      <td>RAFAEL SILVA</td>\n",
              "      <td>I - HOSPEDAGEM, ALIMENTAÇÃO E DESPESAS DE LOCO...</td>\n",
              "      <td>JOÃO BATISTA DA SILVA CHURRASCARIA - ME</td>\n",
              "    </tr>\n",
              "  </tbody>\n",
              "</table>\n",
              "</div>\n",
              "      <button class=\"colab-df-convert\" onclick=\"convertToInteractive('df-dd2b08b0-7685-4987-b5ad-d686211ceed4')\"\n",
              "              title=\"Convert this dataframe to an interactive table.\"\n",
              "              style=\"display:none;\">\n",
              "        \n",
              "  <svg xmlns=\"http://www.w3.org/2000/svg\" height=\"24px\"viewBox=\"0 0 24 24\"\n",
              "       width=\"24px\">\n",
              "    <path d=\"M0 0h24v24H0V0z\" fill=\"none\"/>\n",
              "    <path d=\"M18.56 5.44l.94 2.06.94-2.06 2.06-.94-2.06-.94-.94-2.06-.94 2.06-2.06.94zm-11 1L8.5 8.5l.94-2.06 2.06-.94-2.06-.94L8.5 2.5l-.94 2.06-2.06.94zm10 10l.94 2.06.94-2.06 2.06-.94-2.06-.94-.94-2.06-.94 2.06-2.06.94z\"/><path d=\"M17.41 7.96l-1.37-1.37c-.4-.4-.92-.59-1.43-.59-.52 0-1.04.2-1.43.59L10.3 9.45l-7.72 7.72c-.78.78-.78 2.05 0 2.83L4 21.41c.39.39.9.59 1.41.59.51 0 1.02-.2 1.41-.59l7.78-7.78 2.81-2.81c.8-.78.8-2.07 0-2.86zM5.41 20L4 18.59l7.72-7.72 1.47 1.35L5.41 20z\"/>\n",
              "  </svg>\n",
              "      </button>\n",
              "      \n",
              "  <style>\n",
              "    .colab-df-container {\n",
              "      display:flex;\n",
              "      flex-wrap:wrap;\n",
              "      gap: 12px;\n",
              "    }\n",
              "\n",
              "    .colab-df-convert {\n",
              "      background-color: #E8F0FE;\n",
              "      border: none;\n",
              "      border-radius: 50%;\n",
              "      cursor: pointer;\n",
              "      display: none;\n",
              "      fill: #1967D2;\n",
              "      height: 32px;\n",
              "      padding: 0 0 0 0;\n",
              "      width: 32px;\n",
              "    }\n",
              "\n",
              "    .colab-df-convert:hover {\n",
              "      background-color: #E2EBFA;\n",
              "      box-shadow: 0px 1px 2px rgba(60, 64, 67, 0.3), 0px 1px 3px 1px rgba(60, 64, 67, 0.15);\n",
              "      fill: #174EA6;\n",
              "    }\n",
              "\n",
              "    [theme=dark] .colab-df-convert {\n",
              "      background-color: #3B4455;\n",
              "      fill: #D2E3FC;\n",
              "    }\n",
              "\n",
              "    [theme=dark] .colab-df-convert:hover {\n",
              "      background-color: #434B5C;\n",
              "      box-shadow: 0px 1px 3px 1px rgba(0, 0, 0, 0.15);\n",
              "      filter: drop-shadow(0px 1px 2px rgba(0, 0, 0, 0.3));\n",
              "      fill: #FFFFFF;\n",
              "    }\n",
              "  </style>\n",
              "\n",
              "      <script>\n",
              "        const buttonEl =\n",
              "          document.querySelector('#df-dd2b08b0-7685-4987-b5ad-d686211ceed4 button.colab-df-convert');\n",
              "        buttonEl.style.display =\n",
              "          google.colab.kernel.accessAllowed ? 'block' : 'none';\n",
              "\n",
              "        async function convertToInteractive(key) {\n",
              "          const element = document.querySelector('#df-dd2b08b0-7685-4987-b5ad-d686211ceed4');\n",
              "          const dataTable =\n",
              "            await google.colab.kernel.invokeFunction('convertToInteractive',\n",
              "                                                     [key], {});\n",
              "          if (!dataTable) return;\n",
              "\n",
              "          const docLinkHtml = 'Like what you see? Visit the ' +\n",
              "            '<a target=\"_blank\" href=https://colab.research.google.com/notebooks/data_table.ipynb>data table notebook</a>'\n",
              "            + ' to learn more about interactive tables.';\n",
              "          element.innerHTML = '';\n",
              "          dataTable['output_type'] = 'display_data';\n",
              "          await google.colab.output.renderOutput(dataTable, element);\n",
              "          const docLink = document.createElement('div');\n",
              "          docLink.innerHTML = docLinkHtml;\n",
              "          element.appendChild(docLink);\n",
              "        }\n",
              "      </script>\n",
              "    </div>\n",
              "  </div>\n",
              "  "
            ]
          },
          "metadata": {},
          "execution_count": 110
        }
      ]
    },
    {
      "cell_type": "code",
      "source": [
        "# Trocando o erro, muito provavelmente por digitações erradas em sistemas antigos\n",
        "ftcnpj.cnpj.replace('O','0', regex=True, inplace=True)\n",
        "ftcnpj"
      ],
      "metadata": {
        "colab": {
          "base_uri": "https://localhost:8080/",
          "height": 629
        },
        "id": "7nO-3o-2jlPd",
        "outputId": "bef5f9d0-dd8a-428c-881a-c040384e8de3"
      },
      "execution_count": 111,
      "outputs": [
        {
          "output_type": "stream",
          "name": "stderr",
          "text": [
            "/usr/local/lib/python3.7/dist-packages/pandas/core/generic.py:6619: SettingWithCopyWarning: \n",
            "A value is trying to be set on a copy of a slice from a DataFrame\n",
            "\n",
            "See the caveats in the documentation: https://pandas.pydata.org/pandas-docs/stable/user_guide/indexing.html#returning-a-view-versus-a-copy\n",
            "  return self._update_inplace(result)\n"
          ]
        },
        {
          "output_type": "execute_result",
          "data": {
            "text/plain": [
              "         ano  matricula  mes    valor            cnpj        deputado  \\\n",
              "55891   2007     300482   11    76.78  04689799000126  ANTÔNIO CARLOS   \n",
              "55964   2008     300482    2    70.02  04040553000129  ANTÔNIO CARLOS   \n",
              "55998   2008     300482    3    50.00  04040553000129  ANTÔNIO CARLOS   \n",
              "316251  2007     300455    9    40.00  02358317000120  MARCOS MARTINS   \n",
              "365639  2007     300468   12   504.12  01520430000105   OLÍMPIO GOMES   \n",
              "389510  2002     300379    5   786.55  00021449000136      PEDRO YVES   \n",
              "389553  2002     300379    9   915.76  00021449000136      PEDRO YVES   \n",
              "389565  2002     300379   10   802.69  00021449000136      PEDRO YVES   \n",
              "389578  2002     300379   12  3101.63  00021449000136      PEDRO YVES   \n",
              "389582  2003     300379    1  5472.30  00021449000136      PEDRO YVES   \n",
              "395189  2007     300344    6   173.00  07482309000104    RAFAEL SILVA   \n",
              "\n",
              "                                                     tipo  \\\n",
              "55891   I - HOSPEDAGEM, ALIMENTAÇÃO E DESPESAS DE LOCO...   \n",
              "55964                    A - COMBUSTÍVEIS E LUBRIFICANTES   \n",
              "55998                    A - COMBUSTÍVEIS E LUBRIFICANTES   \n",
              "316251  G - ASSINATURAS DE PERIÓDICOS, PUBLICAÇÕES, IN...   \n",
              "365639  I - HOSPEDAGEM, ALIMENTAÇÃO E DESPESAS DE LOCO...   \n",
              "389510                   A - COMBUSTÍVEIS E LUBRIFICANTES   \n",
              "389553                   A - COMBUSTÍVEIS E LUBRIFICANTES   \n",
              "389565                   A - COMBUSTÍVEIS E LUBRIFICANTES   \n",
              "389578                   A - COMBUSTÍVEIS E LUBRIFICANTES   \n",
              "389582                   A - COMBUSTÍVEIS E LUBRIFICANTES   \n",
              "395189  I - HOSPEDAGEM, ALIMENTAÇÃO E DESPESAS DE LOCO...   \n",
              "\n",
              "                                               fornecedor  \n",
              "55891                                 VIA BARBARESCO LTDA  \n",
              "55964                             AUTO POSTO AUSTRIA LTDA  \n",
              "55998                             AUTO POSTO AUSTRIA LTDA  \n",
              "316251                           BASENET INFORMATICA LTDA  \n",
              "365639  PICANHARIA DO GAUCHO/ JOCELI NARDI CHURRASCARI...  \n",
              "389510                    AUTO POSTO BOSQUE SATÉLITE LTDA  \n",
              "389553                    AUTO POSTO BOSQUE SATÉLITE LTDA  \n",
              "389565                    AUTO POSTO BOSQUE SATÉLITE LTDA  \n",
              "389578                    AUTO POSTO BOSQUE SATÉLITE LTDA  \n",
              "389582                    AUTO POSTO BOSQUE SATÉLITE LTDA  \n",
              "395189            JOÃO BATISTA DA SILVA CHURRASCARIA - ME  "
            ],
            "text/html": [
              "\n",
              "  <div id=\"df-fc92206d-0a74-4f5a-96a8-cb2254bc62eb\">\n",
              "    <div class=\"colab-df-container\">\n",
              "      <div>\n",
              "<style scoped>\n",
              "    .dataframe tbody tr th:only-of-type {\n",
              "        vertical-align: middle;\n",
              "    }\n",
              "\n",
              "    .dataframe tbody tr th {\n",
              "        vertical-align: top;\n",
              "    }\n",
              "\n",
              "    .dataframe thead th {\n",
              "        text-align: right;\n",
              "    }\n",
              "</style>\n",
              "<table border=\"1\" class=\"dataframe\">\n",
              "  <thead>\n",
              "    <tr style=\"text-align: right;\">\n",
              "      <th></th>\n",
              "      <th>ano</th>\n",
              "      <th>matricula</th>\n",
              "      <th>mes</th>\n",
              "      <th>valor</th>\n",
              "      <th>cnpj</th>\n",
              "      <th>deputado</th>\n",
              "      <th>tipo</th>\n",
              "      <th>fornecedor</th>\n",
              "    </tr>\n",
              "  </thead>\n",
              "  <tbody>\n",
              "    <tr>\n",
              "      <th>55891</th>\n",
              "      <td>2007</td>\n",
              "      <td>300482</td>\n",
              "      <td>11</td>\n",
              "      <td>76.78</td>\n",
              "      <td>04689799000126</td>\n",
              "      <td>ANTÔNIO CARLOS</td>\n",
              "      <td>I - HOSPEDAGEM, ALIMENTAÇÃO E DESPESAS DE LOCO...</td>\n",
              "      <td>VIA BARBARESCO LTDA</td>\n",
              "    </tr>\n",
              "    <tr>\n",
              "      <th>55964</th>\n",
              "      <td>2008</td>\n",
              "      <td>300482</td>\n",
              "      <td>2</td>\n",
              "      <td>70.02</td>\n",
              "      <td>04040553000129</td>\n",
              "      <td>ANTÔNIO CARLOS</td>\n",
              "      <td>A - COMBUSTÍVEIS E LUBRIFICANTES</td>\n",
              "      <td>AUTO POSTO AUSTRIA LTDA</td>\n",
              "    </tr>\n",
              "    <tr>\n",
              "      <th>55998</th>\n",
              "      <td>2008</td>\n",
              "      <td>300482</td>\n",
              "      <td>3</td>\n",
              "      <td>50.00</td>\n",
              "      <td>04040553000129</td>\n",
              "      <td>ANTÔNIO CARLOS</td>\n",
              "      <td>A - COMBUSTÍVEIS E LUBRIFICANTES</td>\n",
              "      <td>AUTO POSTO AUSTRIA LTDA</td>\n",
              "    </tr>\n",
              "    <tr>\n",
              "      <th>316251</th>\n",
              "      <td>2007</td>\n",
              "      <td>300455</td>\n",
              "      <td>9</td>\n",
              "      <td>40.00</td>\n",
              "      <td>02358317000120</td>\n",
              "      <td>MARCOS MARTINS</td>\n",
              "      <td>G - ASSINATURAS DE PERIÓDICOS, PUBLICAÇÕES, IN...</td>\n",
              "      <td>BASENET INFORMATICA LTDA</td>\n",
              "    </tr>\n",
              "    <tr>\n",
              "      <th>365639</th>\n",
              "      <td>2007</td>\n",
              "      <td>300468</td>\n",
              "      <td>12</td>\n",
              "      <td>504.12</td>\n",
              "      <td>01520430000105</td>\n",
              "      <td>OLÍMPIO GOMES</td>\n",
              "      <td>I - HOSPEDAGEM, ALIMENTAÇÃO E DESPESAS DE LOCO...</td>\n",
              "      <td>PICANHARIA DO GAUCHO/ JOCELI NARDI CHURRASCARI...</td>\n",
              "    </tr>\n",
              "    <tr>\n",
              "      <th>389510</th>\n",
              "      <td>2002</td>\n",
              "      <td>300379</td>\n",
              "      <td>5</td>\n",
              "      <td>786.55</td>\n",
              "      <td>00021449000136</td>\n",
              "      <td>PEDRO YVES</td>\n",
              "      <td>A - COMBUSTÍVEIS E LUBRIFICANTES</td>\n",
              "      <td>AUTO POSTO BOSQUE SATÉLITE LTDA</td>\n",
              "    </tr>\n",
              "    <tr>\n",
              "      <th>389553</th>\n",
              "      <td>2002</td>\n",
              "      <td>300379</td>\n",
              "      <td>9</td>\n",
              "      <td>915.76</td>\n",
              "      <td>00021449000136</td>\n",
              "      <td>PEDRO YVES</td>\n",
              "      <td>A - COMBUSTÍVEIS E LUBRIFICANTES</td>\n",
              "      <td>AUTO POSTO BOSQUE SATÉLITE LTDA</td>\n",
              "    </tr>\n",
              "    <tr>\n",
              "      <th>389565</th>\n",
              "      <td>2002</td>\n",
              "      <td>300379</td>\n",
              "      <td>10</td>\n",
              "      <td>802.69</td>\n",
              "      <td>00021449000136</td>\n",
              "      <td>PEDRO YVES</td>\n",
              "      <td>A - COMBUSTÍVEIS E LUBRIFICANTES</td>\n",
              "      <td>AUTO POSTO BOSQUE SATÉLITE LTDA</td>\n",
              "    </tr>\n",
              "    <tr>\n",
              "      <th>389578</th>\n",
              "      <td>2002</td>\n",
              "      <td>300379</td>\n",
              "      <td>12</td>\n",
              "      <td>3101.63</td>\n",
              "      <td>00021449000136</td>\n",
              "      <td>PEDRO YVES</td>\n",
              "      <td>A - COMBUSTÍVEIS E LUBRIFICANTES</td>\n",
              "      <td>AUTO POSTO BOSQUE SATÉLITE LTDA</td>\n",
              "    </tr>\n",
              "    <tr>\n",
              "      <th>389582</th>\n",
              "      <td>2003</td>\n",
              "      <td>300379</td>\n",
              "      <td>1</td>\n",
              "      <td>5472.30</td>\n",
              "      <td>00021449000136</td>\n",
              "      <td>PEDRO YVES</td>\n",
              "      <td>A - COMBUSTÍVEIS E LUBRIFICANTES</td>\n",
              "      <td>AUTO POSTO BOSQUE SATÉLITE LTDA</td>\n",
              "    </tr>\n",
              "    <tr>\n",
              "      <th>395189</th>\n",
              "      <td>2007</td>\n",
              "      <td>300344</td>\n",
              "      <td>6</td>\n",
              "      <td>173.00</td>\n",
              "      <td>07482309000104</td>\n",
              "      <td>RAFAEL SILVA</td>\n",
              "      <td>I - HOSPEDAGEM, ALIMENTAÇÃO E DESPESAS DE LOCO...</td>\n",
              "      <td>JOÃO BATISTA DA SILVA CHURRASCARIA - ME</td>\n",
              "    </tr>\n",
              "  </tbody>\n",
              "</table>\n",
              "</div>\n",
              "      <button class=\"colab-df-convert\" onclick=\"convertToInteractive('df-fc92206d-0a74-4f5a-96a8-cb2254bc62eb')\"\n",
              "              title=\"Convert this dataframe to an interactive table.\"\n",
              "              style=\"display:none;\">\n",
              "        \n",
              "  <svg xmlns=\"http://www.w3.org/2000/svg\" height=\"24px\"viewBox=\"0 0 24 24\"\n",
              "       width=\"24px\">\n",
              "    <path d=\"M0 0h24v24H0V0z\" fill=\"none\"/>\n",
              "    <path d=\"M18.56 5.44l.94 2.06.94-2.06 2.06-.94-2.06-.94-.94-2.06-.94 2.06-2.06.94zm-11 1L8.5 8.5l.94-2.06 2.06-.94-2.06-.94L8.5 2.5l-.94 2.06-2.06.94zm10 10l.94 2.06.94-2.06 2.06-.94-2.06-.94-.94-2.06-.94 2.06-2.06.94z\"/><path d=\"M17.41 7.96l-1.37-1.37c-.4-.4-.92-.59-1.43-.59-.52 0-1.04.2-1.43.59L10.3 9.45l-7.72 7.72c-.78.78-.78 2.05 0 2.83L4 21.41c.39.39.9.59 1.41.59.51 0 1.02-.2 1.41-.59l7.78-7.78 2.81-2.81c.8-.78.8-2.07 0-2.86zM5.41 20L4 18.59l7.72-7.72 1.47 1.35L5.41 20z\"/>\n",
              "  </svg>\n",
              "      </button>\n",
              "      \n",
              "  <style>\n",
              "    .colab-df-container {\n",
              "      display:flex;\n",
              "      flex-wrap:wrap;\n",
              "      gap: 12px;\n",
              "    }\n",
              "\n",
              "    .colab-df-convert {\n",
              "      background-color: #E8F0FE;\n",
              "      border: none;\n",
              "      border-radius: 50%;\n",
              "      cursor: pointer;\n",
              "      display: none;\n",
              "      fill: #1967D2;\n",
              "      height: 32px;\n",
              "      padding: 0 0 0 0;\n",
              "      width: 32px;\n",
              "    }\n",
              "\n",
              "    .colab-df-convert:hover {\n",
              "      background-color: #E2EBFA;\n",
              "      box-shadow: 0px 1px 2px rgba(60, 64, 67, 0.3), 0px 1px 3px 1px rgba(60, 64, 67, 0.15);\n",
              "      fill: #174EA6;\n",
              "    }\n",
              "\n",
              "    [theme=dark] .colab-df-convert {\n",
              "      background-color: #3B4455;\n",
              "      fill: #D2E3FC;\n",
              "    }\n",
              "\n",
              "    [theme=dark] .colab-df-convert:hover {\n",
              "      background-color: #434B5C;\n",
              "      box-shadow: 0px 1px 3px 1px rgba(0, 0, 0, 0.15);\n",
              "      filter: drop-shadow(0px 1px 2px rgba(0, 0, 0, 0.3));\n",
              "      fill: #FFFFFF;\n",
              "    }\n",
              "  </style>\n",
              "\n",
              "      <script>\n",
              "        const buttonEl =\n",
              "          document.querySelector('#df-fc92206d-0a74-4f5a-96a8-cb2254bc62eb button.colab-df-convert');\n",
              "        buttonEl.style.display =\n",
              "          google.colab.kernel.accessAllowed ? 'block' : 'none';\n",
              "\n",
              "        async function convertToInteractive(key) {\n",
              "          const element = document.querySelector('#df-fc92206d-0a74-4f5a-96a8-cb2254bc62eb');\n",
              "          const dataTable =\n",
              "            await google.colab.kernel.invokeFunction('convertToInteractive',\n",
              "                                                     [key], {});\n",
              "          if (!dataTable) return;\n",
              "\n",
              "          const docLinkHtml = 'Like what you see? Visit the ' +\n",
              "            '<a target=\"_blank\" href=https://colab.research.google.com/notebooks/data_table.ipynb>data table notebook</a>'\n",
              "            + ' to learn more about interactive tables.';\n",
              "          element.innerHTML = '';\n",
              "          dataTable['output_type'] = 'display_data';\n",
              "          await google.colab.output.renderOutput(dataTable, element);\n",
              "          const docLink = document.createElement('div');\n",
              "          docLink.innerHTML = docLinkHtml;\n",
              "          element.appendChild(docLink);\n",
              "        }\n",
              "      </script>\n",
              "    </div>\n",
              "  </div>\n",
              "  "
            ]
          },
          "metadata": {},
          "execution_count": 111
        }
      ]
    },
    {
      "cell_type": "code",
      "source": [
        "# Agrupando e mostrando os casos em que há valores vazios para possíveis inconsistências.\n",
        "# Nota-se vários campos com nomes similares\n",
        "dfcnpjnan = df[df.cnpj.isna()]"
      ],
      "metadata": {
        "colab": {
          "base_uri": "https://localhost:8080/"
        },
        "id": "buBgVt2elfk3",
        "outputId": "7880e927-5548-4d1e-b6bd-ab4c6e85368b"
      },
      "execution_count": 130,
      "outputs": [
        {
          "output_type": "execute_result",
          "data": {
            "text/plain": [
              "fornecedor\n",
              "ADOBE SYSTEMS SOFTWARE IRELAND LTD                   1\n",
              "ADOBE SYSTEMS SOFTWARE IRELAND LTDA                  5\n",
              "CONCESSIONARIA RODOVIA OESTE DE SAO PAULO S.A.       1\n",
              "CUPONS DE PEDÁGIO                                    1\n",
              "DELTA RADIO TAXI                                     1\n",
              "DROPBOX INTERNACIONAL UNLIMETED COMPANY              1\n",
              "ELOY DE PAULA JUNIOR                                 1\n",
              "FLICKR, INC                                          1\n",
              "GOOGLE ONE                                           2\n",
              "GOOGLE STORAGE - GOOGLE ONE                          1\n",
              "LEANDRO MATOS NICOLELA                               1\n",
              "PEDAGIO                                             11\n",
              "PEDAGIOS                                             1\n",
              "PEDÁGIO                                           7476\n",
              "PEDÁGIOS                                             2\n",
              "PEGAGIO                                              1\n",
              "TAXI                                              3385\n",
              "dtype: int64"
            ]
          },
          "metadata": {},
          "execution_count": 130
        }
      ]
    },
    {
      "cell_type": "code",
      "source": [
        "dfcnpjnan.groupby(['fornecedor']).size()"
      ],
      "metadata": {
        "colab": {
          "base_uri": "https://localhost:8080/"
        },
        "id": "2sx1wB7ysDYI",
        "outputId": "40d39919-deec-4db0-a655-d1fe25899a03"
      },
      "execution_count": 133,
      "outputs": [
        {
          "output_type": "execute_result",
          "data": {
            "text/plain": [
              "fornecedor\n",
              "ADOBE SYSTEMS SOFTWARE IRELAND LTDA                  6\n",
              "CONCESSIONARIA RODOVIA OESTE DE SAO PAULO S.A.       1\n",
              "DELTA RADIO TAXI                                     1\n",
              "DROPBOX INTERNACIONAL UNLIMETED COMPANY              1\n",
              "ELOY DE PAULA JUNIOR                                 1\n",
              "FLICKR, INC                                          1\n",
              "GOOGLE ONE                                           3\n",
              "LEANDRO MATOS NICOLELA                               1\n",
              "PEDÁGIO                                           7492\n",
              "TAXI                                              3385\n",
              "dtype: int64"
            ]
          },
          "metadata": {},
          "execution_count": 133
        }
      ]
    },
    {
      "cell_type": "code",
      "source": [
        "# Fazendo o replace dessas inconsistências\n",
        "dfcnpjnan.fornecedor.replace({'ADOBE SYSTEMS SOFTWARE IRELAND LTD':'ADOBE SYSTEMS SOFTWARE IRELAND LTDA',\n",
        "                              'PEDAGIOS':'PEDÁGIO','PEDAGIO':'PEDÁGIO','PEDÁGIOS':'PEDÁGIO','PEGAGIO':'PEDÁGIO','CUPONS DE PEDÁGIO':'PEDÁGIO',\n",
        "                               'GOOGLE STORAGE - GOOGLE ONE':'GOOGLE ONE'},inplace=True)\n"
      ],
      "metadata": {
        "id": "Oea8t6bXlw9y"
      },
      "execution_count": null,
      "outputs": []
    },
    {
      "cell_type": "code",
      "source": [
        "# Criando um schema de validação de dados\n",
        "schema = pa.DataFrameSchema(\n",
        "  columns={\n",
        "    'ano':pa.Column(pa.Int),\n",
        "    'matricula':pa.Column(pa.Int),\n",
        "    'mes':pa.Column(pa.Int),\n",
        "    'valor':pa.Column(pa.Float),\n",
        "    'cnpj':pa.Column(pa.String,nullable=True),\n",
        "    'tipo':pa.Column(pa.String),\n",
        "    'fornecedor':pa.Column(pa.String),\n",
        "    'deputado':pa.Column(pa.String)\n",
        "    }\n",
        ")"
      ],
      "metadata": {
        "id": "u7RoO18ABTcf"
      },
      "execution_count": 27,
      "outputs": []
    },
    {
      "cell_type": "code",
      "source": [
        "# validando o DF\n",
        "schema.validate(df)"
      ],
      "metadata": {
        "colab": {
          "base_uri": "https://localhost:8080/",
          "height": 624
        },
        "id": "bzYN7fwyFH0M",
        "outputId": "95d876c4-ca38-4236-87f2-d0398ce6a27b"
      },
      "execution_count": 28,
      "outputs": [
        {
          "output_type": "execute_result",
          "data": {
            "text/plain": [
              "         ano  matricula  mes    valor              cnpj            deputado  \\\n",
              "0       2015     300257    3   200.00    71806251000106  ABELARDO CAMARINHA   \n",
              "1       2015     300257    3   295.40    68064740000125  ABELARDO CAMARINHA   \n",
              "2       2015     300257    3  2850.00       22145388877  ABELARDO CAMARINHA   \n",
              "3       2015     300257    4   100.00    10915883000113  ABELARDO CAMARINHA   \n",
              "4       2015     300257    4   195.01    71806251000106  ABELARDO CAMARINHA   \n",
              "...      ...        ...  ...      ...               ...                 ...   \n",
              "536563  2007     300441    3   120.00   6306675000140.0       ÍTALO CARDOSO   \n",
              "536564  2007     300441    3  2096.80  52204617000122.0       ÍTALO CARDOSO   \n",
              "536565  2007     300441    3    13.48  62925474000282.0       ÍTALO CARDOSO   \n",
              "536566  2007     300441    3    38.08  66747577000170.0       ÍTALO CARDOSO   \n",
              "536567  2007     300441    3  2994.00   7047000000196.0       ÍTALO CARDOSO   \n",
              "\n",
              "                                                     tipo  \\\n",
              "0                        A - COMBUSTÍVEIS E LUBRIFICANTES   \n",
              "1       E - MATERIAIS DE ESCRITÓRIO E OUTROS MATERIAIS...   \n",
              "2                                             N - MORADIA   \n",
              "3                        A - COMBUSTÍVEIS E LUBRIFICANTES   \n",
              "4                        A - COMBUSTÍVEIS E LUBRIFICANTES   \n",
              "...                                                   ...   \n",
              "536563  I - HOSPEDAGEM, ALIMENTAÇÃO E DESPESAS DE LOCO...   \n",
              "536564  I - HOSPEDAGEM, ALIMENTAÇÃO E DESPESAS DE LOCO...   \n",
              "536565  I - HOSPEDAGEM, ALIMENTAÇÃO E DESPESAS DE LOCO...   \n",
              "536566  I - HOSPEDAGEM, ALIMENTAÇÃO E DESPESAS DE LOCO...   \n",
              "536567                        J - SERVIÇOS DE COMUNICAÇÃO   \n",
              "\n",
              "                                       fornecedor  \n",
              "0                AUTO POSTO DE SERVIÇOS MARV LTDA  \n",
              "1                       PAPER FACE COMERCIAL LTDA  \n",
              "2                       LARA SERVINO VARGAS ABREU  \n",
              "3                   CENTRO AUTOMOTIVO TOP 23 LTDA  \n",
              "4                AUTO POSTO DE SERVIÇOS MARV LTDA  \n",
              "...                                           ...  \n",
              "536563                        OPTEI EXPRESS LTDA.  \n",
              "536564                   CHURRASCARIA JANDA LTDA.  \n",
              "536565  ASSOCIAÇÃO FUNC.ASSEMB.LEG. EST.SÃO PAULO  \n",
              "536566              IBIZA EUROPEIA ALIMENTOS LTDA  \n",
              "536567         ECT-EMP.BRAS.CORREIOS E TELEGRAFOS  \n",
              "\n",
              "[536568 rows x 8 columns]"
            ],
            "text/html": [
              "\n",
              "  <div id=\"df-3c7f9814-0669-4fb6-b41f-8fea658e98f1\">\n",
              "    <div class=\"colab-df-container\">\n",
              "      <div>\n",
              "<style scoped>\n",
              "    .dataframe tbody tr th:only-of-type {\n",
              "        vertical-align: middle;\n",
              "    }\n",
              "\n",
              "    .dataframe tbody tr th {\n",
              "        vertical-align: top;\n",
              "    }\n",
              "\n",
              "    .dataframe thead th {\n",
              "        text-align: right;\n",
              "    }\n",
              "</style>\n",
              "<table border=\"1\" class=\"dataframe\">\n",
              "  <thead>\n",
              "    <tr style=\"text-align: right;\">\n",
              "      <th></th>\n",
              "      <th>ano</th>\n",
              "      <th>matricula</th>\n",
              "      <th>mes</th>\n",
              "      <th>valor</th>\n",
              "      <th>cnpj</th>\n",
              "      <th>deputado</th>\n",
              "      <th>tipo</th>\n",
              "      <th>fornecedor</th>\n",
              "    </tr>\n",
              "  </thead>\n",
              "  <tbody>\n",
              "    <tr>\n",
              "      <th>0</th>\n",
              "      <td>2015</td>\n",
              "      <td>300257</td>\n",
              "      <td>3</td>\n",
              "      <td>200.00</td>\n",
              "      <td>71806251000106</td>\n",
              "      <td>ABELARDO CAMARINHA</td>\n",
              "      <td>A - COMBUSTÍVEIS E LUBRIFICANTES</td>\n",
              "      <td>AUTO POSTO DE SERVIÇOS MARV LTDA</td>\n",
              "    </tr>\n",
              "    <tr>\n",
              "      <th>1</th>\n",
              "      <td>2015</td>\n",
              "      <td>300257</td>\n",
              "      <td>3</td>\n",
              "      <td>295.40</td>\n",
              "      <td>68064740000125</td>\n",
              "      <td>ABELARDO CAMARINHA</td>\n",
              "      <td>E - MATERIAIS DE ESCRITÓRIO E OUTROS MATERIAIS...</td>\n",
              "      <td>PAPER FACE COMERCIAL LTDA</td>\n",
              "    </tr>\n",
              "    <tr>\n",
              "      <th>2</th>\n",
              "      <td>2015</td>\n",
              "      <td>300257</td>\n",
              "      <td>3</td>\n",
              "      <td>2850.00</td>\n",
              "      <td>22145388877</td>\n",
              "      <td>ABELARDO CAMARINHA</td>\n",
              "      <td>N - MORADIA</td>\n",
              "      <td>LARA SERVINO VARGAS ABREU</td>\n",
              "    </tr>\n",
              "    <tr>\n",
              "      <th>3</th>\n",
              "      <td>2015</td>\n",
              "      <td>300257</td>\n",
              "      <td>4</td>\n",
              "      <td>100.00</td>\n",
              "      <td>10915883000113</td>\n",
              "      <td>ABELARDO CAMARINHA</td>\n",
              "      <td>A - COMBUSTÍVEIS E LUBRIFICANTES</td>\n",
              "      <td>CENTRO AUTOMOTIVO TOP 23 LTDA</td>\n",
              "    </tr>\n",
              "    <tr>\n",
              "      <th>4</th>\n",
              "      <td>2015</td>\n",
              "      <td>300257</td>\n",
              "      <td>4</td>\n",
              "      <td>195.01</td>\n",
              "      <td>71806251000106</td>\n",
              "      <td>ABELARDO CAMARINHA</td>\n",
              "      <td>A - COMBUSTÍVEIS E LUBRIFICANTES</td>\n",
              "      <td>AUTO POSTO DE SERVIÇOS MARV LTDA</td>\n",
              "    </tr>\n",
              "    <tr>\n",
              "      <th>...</th>\n",
              "      <td>...</td>\n",
              "      <td>...</td>\n",
              "      <td>...</td>\n",
              "      <td>...</td>\n",
              "      <td>...</td>\n",
              "      <td>...</td>\n",
              "      <td>...</td>\n",
              "      <td>...</td>\n",
              "    </tr>\n",
              "    <tr>\n",
              "      <th>536563</th>\n",
              "      <td>2007</td>\n",
              "      <td>300441</td>\n",
              "      <td>3</td>\n",
              "      <td>120.00</td>\n",
              "      <td>6306675000140.0</td>\n",
              "      <td>ÍTALO CARDOSO</td>\n",
              "      <td>I - HOSPEDAGEM, ALIMENTAÇÃO E DESPESAS DE LOCO...</td>\n",
              "      <td>OPTEI EXPRESS LTDA.</td>\n",
              "    </tr>\n",
              "    <tr>\n",
              "      <th>536564</th>\n",
              "      <td>2007</td>\n",
              "      <td>300441</td>\n",
              "      <td>3</td>\n",
              "      <td>2096.80</td>\n",
              "      <td>52204617000122.0</td>\n",
              "      <td>ÍTALO CARDOSO</td>\n",
              "      <td>I - HOSPEDAGEM, ALIMENTAÇÃO E DESPESAS DE LOCO...</td>\n",
              "      <td>CHURRASCARIA JANDA LTDA.</td>\n",
              "    </tr>\n",
              "    <tr>\n",
              "      <th>536565</th>\n",
              "      <td>2007</td>\n",
              "      <td>300441</td>\n",
              "      <td>3</td>\n",
              "      <td>13.48</td>\n",
              "      <td>62925474000282.0</td>\n",
              "      <td>ÍTALO CARDOSO</td>\n",
              "      <td>I - HOSPEDAGEM, ALIMENTAÇÃO E DESPESAS DE LOCO...</td>\n",
              "      <td>ASSOCIAÇÃO FUNC.ASSEMB.LEG. EST.SÃO PAULO</td>\n",
              "    </tr>\n",
              "    <tr>\n",
              "      <th>536566</th>\n",
              "      <td>2007</td>\n",
              "      <td>300441</td>\n",
              "      <td>3</td>\n",
              "      <td>38.08</td>\n",
              "      <td>66747577000170.0</td>\n",
              "      <td>ÍTALO CARDOSO</td>\n",
              "      <td>I - HOSPEDAGEM, ALIMENTAÇÃO E DESPESAS DE LOCO...</td>\n",
              "      <td>IBIZA EUROPEIA ALIMENTOS LTDA</td>\n",
              "    </tr>\n",
              "    <tr>\n",
              "      <th>536567</th>\n",
              "      <td>2007</td>\n",
              "      <td>300441</td>\n",
              "      <td>3</td>\n",
              "      <td>2994.00</td>\n",
              "      <td>7047000000196.0</td>\n",
              "      <td>ÍTALO CARDOSO</td>\n",
              "      <td>J - SERVIÇOS DE COMUNICAÇÃO</td>\n",
              "      <td>ECT-EMP.BRAS.CORREIOS E TELEGRAFOS</td>\n",
              "    </tr>\n",
              "  </tbody>\n",
              "</table>\n",
              "<p>536568 rows × 8 columns</p>\n",
              "</div>\n",
              "      <button class=\"colab-df-convert\" onclick=\"convertToInteractive('df-3c7f9814-0669-4fb6-b41f-8fea658e98f1')\"\n",
              "              title=\"Convert this dataframe to an interactive table.\"\n",
              "              style=\"display:none;\">\n",
              "        \n",
              "  <svg xmlns=\"http://www.w3.org/2000/svg\" height=\"24px\"viewBox=\"0 0 24 24\"\n",
              "       width=\"24px\">\n",
              "    <path d=\"M0 0h24v24H0V0z\" fill=\"none\"/>\n",
              "    <path d=\"M18.56 5.44l.94 2.06.94-2.06 2.06-.94-2.06-.94-.94-2.06-.94 2.06-2.06.94zm-11 1L8.5 8.5l.94-2.06 2.06-.94-2.06-.94L8.5 2.5l-.94 2.06-2.06.94zm10 10l.94 2.06.94-2.06 2.06-.94-2.06-.94-.94-2.06-.94 2.06-2.06.94z\"/><path d=\"M17.41 7.96l-1.37-1.37c-.4-.4-.92-.59-1.43-.59-.52 0-1.04.2-1.43.59L10.3 9.45l-7.72 7.72c-.78.78-.78 2.05 0 2.83L4 21.41c.39.39.9.59 1.41.59.51 0 1.02-.2 1.41-.59l7.78-7.78 2.81-2.81c.8-.78.8-2.07 0-2.86zM5.41 20L4 18.59l7.72-7.72 1.47 1.35L5.41 20z\"/>\n",
              "  </svg>\n",
              "      </button>\n",
              "      \n",
              "  <style>\n",
              "    .colab-df-container {\n",
              "      display:flex;\n",
              "      flex-wrap:wrap;\n",
              "      gap: 12px;\n",
              "    }\n",
              "\n",
              "    .colab-df-convert {\n",
              "      background-color: #E8F0FE;\n",
              "      border: none;\n",
              "      border-radius: 50%;\n",
              "      cursor: pointer;\n",
              "      display: none;\n",
              "      fill: #1967D2;\n",
              "      height: 32px;\n",
              "      padding: 0 0 0 0;\n",
              "      width: 32px;\n",
              "    }\n",
              "\n",
              "    .colab-df-convert:hover {\n",
              "      background-color: #E2EBFA;\n",
              "      box-shadow: 0px 1px 2px rgba(60, 64, 67, 0.3), 0px 1px 3px 1px rgba(60, 64, 67, 0.15);\n",
              "      fill: #174EA6;\n",
              "    }\n",
              "\n",
              "    [theme=dark] .colab-df-convert {\n",
              "      background-color: #3B4455;\n",
              "      fill: #D2E3FC;\n",
              "    }\n",
              "\n",
              "    [theme=dark] .colab-df-convert:hover {\n",
              "      background-color: #434B5C;\n",
              "      box-shadow: 0px 1px 3px 1px rgba(0, 0, 0, 0.15);\n",
              "      filter: drop-shadow(0px 1px 2px rgba(0, 0, 0, 0.3));\n",
              "      fill: #FFFFFF;\n",
              "    }\n",
              "  </style>\n",
              "\n",
              "      <script>\n",
              "        const buttonEl =\n",
              "          document.querySelector('#df-3c7f9814-0669-4fb6-b41f-8fea658e98f1 button.colab-df-convert');\n",
              "        buttonEl.style.display =\n",
              "          google.colab.kernel.accessAllowed ? 'block' : 'none';\n",
              "\n",
              "        async function convertToInteractive(key) {\n",
              "          const element = document.querySelector('#df-3c7f9814-0669-4fb6-b41f-8fea658e98f1');\n",
              "          const dataTable =\n",
              "            await google.colab.kernel.invokeFunction('convertToInteractive',\n",
              "                                                     [key], {});\n",
              "          if (!dataTable) return;\n",
              "\n",
              "          const docLinkHtml = 'Like what you see? Visit the ' +\n",
              "            '<a target=\"_blank\" href=https://colab.research.google.com/notebooks/data_table.ipynb>data table notebook</a>'\n",
              "            + ' to learn more about interactive tables.';\n",
              "          element.innerHTML = '';\n",
              "          dataTable['output_type'] = 'display_data';\n",
              "          await google.colab.output.renderOutput(dataTable, element);\n",
              "          const docLink = document.createElement('div');\n",
              "          docLink.innerHTML = docLinkHtml;\n",
              "          element.appendChild(docLink);\n",
              "        }\n",
              "      </script>\n",
              "    </div>\n",
              "  </div>\n",
              "  "
            ]
          },
          "metadata": {},
          "execution_count": 28
        }
      ]
    },
    {
      "cell_type": "code",
      "source": [
        "# pegando os dados da última legislatura\n",
        "dfleg = df[(df.ano > 2018) & (df.ano < 2023)]\n",
        "dfleg"
      ],
      "metadata": {
        "id": "GAQv6I2g6G98"
      },
      "execution_count": null,
      "outputs": []
    },
    {
      "cell_type": "code",
      "source": [
        "# # Verificador de letras em numeros\n",
        "# valores_estranhos = []\n",
        "# for i in range(len(df_despesas_cnpj)):\n",
        "#   try:\n",
        "#     int(df_despesas_cnpj.loc[i , 'CNPJ'])\n",
        "#   except Exception:\n",
        "#     valores_estranhos.append(df_despesas_cnpj.loc[i , 'CNPJ'])\n",
        "# print(valores_estranhos)"
      ],
      "metadata": {
        "id": "2oMEFvupHZEl"
      },
      "execution_count": null,
      "outputs": []
    },
    {
      "cell_type": "markdown",
      "source": [
        "#**CARREGAMENTO DOS DADOS**"
      ],
      "metadata": {
        "id": "qnBaGrynsVAg"
      }
    },
    {
      "cell_type": "markdown",
      "source": [
        "#**ANÁLISES BÁSICAS DOS DADOS**"
      ],
      "metadata": {
        "id": "WqFN2AwxscFB"
      }
    }
  ]
}