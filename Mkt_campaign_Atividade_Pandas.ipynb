{
  "nbformat": 4,
  "nbformat_minor": 0,
  "metadata": {
    "colab": {
      "provenance": [],
      "collapsed_sections": [
        "U0WbMJC0_tiK",
        "fPJnHi1kdRWU",
        "Nf2-xYhCR18I"
      ],
      "toc_visible": true,
      "authorship_tag": "ABX9TyNeaLSHRK9aM77LM6i1Yq0a",
      "include_colab_link": true
    },
    "kernelspec": {
      "name": "python3",
      "display_name": "Python 3"
    },
    "language_info": {
      "name": "python"
    }
  },
  "cells": [
    {
      "cell_type": "markdown",
      "metadata": {
        "id": "view-in-github",
        "colab_type": "text"
      },
      "source": [
        "<a href=\"https://colab.research.google.com/github/caioitalo/soulcode/blob/main/Mkt_campaign_Atividade_Pandas.ipynb\" target=\"_parent\"><img src=\"https://colab.research.google.com/assets/colab-badge.svg\" alt=\"Open In Colab\"/></a>"
      ]
    },
    {
      "cell_type": "markdown",
      "source": [
        "# EXTRAÇÃO DE DADOS"
      ],
      "metadata": {
        "id": "U0WbMJC0_tiK"
      }
    },
    {
      "cell_type": "code",
      "source": [
        "#baixando a biblioteca pandera\n",
        "!pip install pandera\n",
        "\n"
      ],
      "metadata": {
        "colab": {
          "base_uri": "https://localhost:8080/"
        },
        "id": "7-3SroDN_s2c",
        "outputId": "b873222b-950d-454d-fbc8-2016e3e0dfed"
      },
      "execution_count": 1,
      "outputs": [
        {
          "output_type": "stream",
          "name": "stdout",
          "text": [
            "Looking in indexes: https://pypi.org/simple, https://us-python.pkg.dev/colab-wheels/public/simple/\n",
            "Collecting pandera\n",
            "  Downloading pandera-0.13.4-py3-none-any.whl (122 kB)\n",
            "\u001b[K     |████████████████████████████████| 122 kB 4.1 MB/s \n",
            "\u001b[?25hRequirement already satisfied: packaging>=20.0 in /usr/local/lib/python3.7/dist-packages (from pandera) (21.3)\n",
            "Collecting typing-inspect>=0.6.0\n",
            "  Downloading typing_inspect-0.8.0-py3-none-any.whl (8.7 kB)\n",
            "Requirement already satisfied: typing-extensions>=3.7.4.3 in /usr/local/lib/python3.7/dist-packages (from pandera) (4.1.1)\n",
            "Requirement already satisfied: wrapt in /usr/local/lib/python3.7/dist-packages (from pandera) (1.14.1)\n",
            "Requirement already satisfied: pydantic in /usr/local/lib/python3.7/dist-packages (from pandera) (1.10.2)\n",
            "Requirement already satisfied: numpy>=1.19.0 in /usr/local/lib/python3.7/dist-packages (from pandera) (1.21.6)\n",
            "Requirement already satisfied: pandas>=1.2.0 in /usr/local/lib/python3.7/dist-packages (from pandera) (1.3.5)\n",
            "Requirement already satisfied: pyparsing!=3.0.5,>=2.0.2 in /usr/local/lib/python3.7/dist-packages (from packaging>=20.0->pandera) (3.0.9)\n",
            "Requirement already satisfied: python-dateutil>=2.7.3 in /usr/local/lib/python3.7/dist-packages (from pandas>=1.2.0->pandera) (2.8.2)\n",
            "Requirement already satisfied: pytz>=2017.3 in /usr/local/lib/python3.7/dist-packages (from pandas>=1.2.0->pandera) (2022.6)\n",
            "Requirement already satisfied: six>=1.5 in /usr/local/lib/python3.7/dist-packages (from python-dateutil>=2.7.3->pandas>=1.2.0->pandera) (1.15.0)\n",
            "Collecting mypy-extensions>=0.3.0\n",
            "  Downloading mypy_extensions-0.4.3-py2.py3-none-any.whl (4.5 kB)\n",
            "Installing collected packages: mypy-extensions, typing-inspect, pandera\n",
            "Successfully installed mypy-extensions-0.4.3 pandera-0.13.4 typing-inspect-0.8.0\n"
          ]
        }
      ]
    },
    {
      "cell_type": "code",
      "source": [
        "#importando as bibliotecas\n",
        "import pandas as pd\n",
        "import pandera as pa\n",
        "import numpy as np"
      ],
      "metadata": {
        "id": "yJ54yWtO_swc"
      },
      "execution_count": 3,
      "outputs": []
    },
    {
      "cell_type": "code",
      "execution_count": 35,
      "metadata": {
        "id": "vsLHnrcK-nkj"
      },
      "outputs": [],
      "source": [
        "# lendo o DF a partir de um Dataset hospedado em um bucket na GCP\n",
        "df = pd.read_csv('https://storage.googleapis.com/datalake-soulcode-ed7/arquivos%20soulcode/marketing_campaign.csv%20-%20marketing_campaign.csv.csv', sep=',')"
      ]
    },
    {
      "cell_type": "code",
      "source": [
        "#criando um backup antes de tratar \n",
        "df2 = df.copy()"
      ],
      "metadata": {
        "id": "dqWeNdKbdInu"
      },
      "execution_count": 36,
      "outputs": []
    },
    {
      "cell_type": "code",
      "source": [
        "df"
      ],
      "metadata": {
        "id": "v6IGdKkeOTMV"
      },
      "execution_count": null,
      "outputs": []
    },
    {
      "cell_type": "code",
      "source": [
        "df.dtypes"
      ],
      "metadata": {
        "colab": {
          "base_uri": "https://localhost:8080/"
        },
        "id": "_AoIqeAmKlZ3",
        "outputId": "0057472b-d1e3-4841-8da4-28472bef61df"
      },
      "execution_count": null,
      "outputs": [
        {
          "output_type": "execute_result",
          "data": {
            "text/plain": [
              "ano_nasc                    object\n",
              "escolaridade                object\n",
              "estado_civil                object\n",
              "renda_anual                float64\n",
              "filhos_crianca               int64\n",
              "filhos_adolesc               int64\n",
              "cliente_desde       datetime64[ns]\n",
              "ultima_compra                int64\n",
              "compra_vinhos                int64\n",
              "compra_frutas                int64\n",
              "compra_carnes                int64\n",
              "compra_peixes                int64\n",
              "compra_doces                 int64\n",
              "compra_ouro_prod             int64\n",
              "compras_acordo               int64\n",
              "compras_web                  int64\n",
              "compras_catalogo             int64\n",
              "compras_loja                 int64\n",
              "site_visita_mes              int64\n",
              "reclamacoes                  int64\n",
              "tot_filhos                   int64\n",
              "dtype: object"
            ]
          },
          "metadata": {},
          "execution_count": 24
        }
      ]
    },
    {
      "cell_type": "markdown",
      "source": [
        "#TRANSFORMAÇÃO DOS DADOS"
      ],
      "metadata": {
        "id": "fPJnHi1kdRWU"
      }
    },
    {
      "cell_type": "code",
      "source": [
        "# renomeando as colunas\n",
        "df.rename(columns={'ID':'id','Year_Birth':'ano_nasc','Education':'escolaridade','Marital_Status':'estado_civil','Income':'renda_anual',\n",
        "                   'Kidhome':'filhos_crianca','Teenhome':'filhos_adolesc','Dt_Customer':'cliente_desde','Recency':'ultima_compra','MntWines':'compra_vinhos',\n",
        "                   'MntFruits':'compra_frutas','MntMeatProducts':'compra_carnes','MntFishProducts':'compra_peixes','MntSweetProducts':'compra_doces',\n",
        "                   'MntGoldProds':'compra_ouro_prod','NumDealsPurchases':'compras_acordo','NumWebPurchases':'compras_web',\n",
        "                   'NumCatalogPurchases':'compras_catalogo','NumStorePurchases':'compras_loja','AcceptedCmp1':'cmp1_aceito','AcceptedCmp2':'cmp2_aceito',\n",
        "                   'AcceptedCmp3':'cmp3_aceito','AcceptedCmp4':'cmp4_aceito','AcceptedCmp5':'cmp5_aceito','Complain':'reclamacoes',\n",
        "                   'Z_CostContact':'custo_contrato','Z_Revenue':'receita','Response':'resposta','NumWebVisitsMonth':'site_visita_mes'},inplace=True)"
      ],
      "metadata": {
        "id": "cMNrMuTHI4f4"
      },
      "execution_count": 37,
      "outputs": []
    },
    {
      "cell_type": "code",
      "source": [
        "#checando dados vazios\n",
        "df.isna().sum()"
      ],
      "metadata": {
        "id": "H4yQUZs_RD3y",
        "colab": {
          "base_uri": "https://localhost:8080/"
        },
        "outputId": "805de200-3a01-4815-a411-075223b115b4"
      },
      "execution_count": 7,
      "outputs": [
        {
          "output_type": "execute_result",
          "data": {
            "text/plain": [
              "id                   0\n",
              "ano_nasc             0\n",
              "escolaridade         0\n",
              "estado_civil         0\n",
              "renda_anual         24\n",
              "filhos_crianca       0\n",
              "filhos_adolesc       0\n",
              "cliente_desde        0\n",
              "ultima_compra        0\n",
              "compra_vinhos        0\n",
              "compra_frutas        0\n",
              "compra_carnes        0\n",
              "compra_peixes        0\n",
              "compra_doces         0\n",
              "compra_ouro_prod     0\n",
              "compras_acordo       0\n",
              "compras_web          0\n",
              "compras_catalogo     0\n",
              "compras_loja         0\n",
              "site_visita_mes      0\n",
              "cmp3_aceito          0\n",
              "cmp4_aceito          0\n",
              "cmp5_aceito          0\n",
              "cmp1_aceito          0\n",
              "cmp2_aceito          0\n",
              "reclamacoes          0\n",
              "custo_contrato       0\n",
              "receita              0\n",
              "resposta             0\n",
              "dtype: int64"
            ]
          },
          "metadata": {},
          "execution_count": 7
        }
      ]
    },
    {
      "cell_type": "code",
      "source": [
        "# setando coluna id como rótulo e verificando se ela é única\n",
        "df.set_index(['id'], verify_integrity=True, inplace=True)"
      ],
      "metadata": {
        "id": "9TGXup6ydCrL"
      },
      "execution_count": 38,
      "outputs": []
    },
    {
      "cell_type": "code",
      "source": [
        "#transformando a coluna cliente_desde para o tipo data\n",
        "df['cliente_desde'] = pd.to_datetime(df['cliente_desde'],dayfirst=True)"
      ],
      "metadata": {
        "id": "mY8rZ-HTYD_E"
      },
      "execution_count": 39,
      "outputs": []
    },
    {
      "cell_type": "code",
      "source": [
        "# dropando custo_contrato e receita que possuem os mesmos valores, portanto não contribuem para nenhuma análise\n",
        "df.drop(['custo_contrato', 'receita','resposta'],axis=1,inplace=True)\n"
      ],
      "metadata": {
        "id": "-XpG9GwDRCJz"
      },
      "execution_count": 40,
      "outputs": []
    },
    {
      "cell_type": "code",
      "source": [
        "# checando inconsistências\n",
        "# inconsistências encontradas: nasc (1893, 1899, 1900), estado_civil: alone, absurd, YOLO\n",
        "# receita e custo do contrato têm sempre os mesmos valores -> drop\n",
        "df.groupby(['estado_civil'],dropna=False).size().sort_values(ascending=False)"
      ],
      "metadata": {
        "id": "QUJRbtbIQkAH",
        "colab": {
          "base_uri": "https://localhost:8080/"
        },
        "outputId": "e218577b-1ef5-4abf-93de-ba722b89d7e7"
      },
      "execution_count": 41,
      "outputs": [
        {
          "output_type": "execute_result",
          "data": {
            "text/plain": [
              "estado_civil\n",
              "Married     864\n",
              "Together    580\n",
              "Single      480\n",
              "Divorced    232\n",
              "Widow        77\n",
              "Alone         3\n",
              "Absurd        2\n",
              "YOLO          2\n",
              "dtype: int64"
            ]
          },
          "metadata": {},
          "execution_count": 41
        }
      ]
    },
    {
      "cell_type": "code",
      "source": [
        "# traduzindo os elementos das colunas\n",
        "# o replace das datas são inconsistentes pois é improvável pessoas com 120+ comprando na web. provável digitação errada/outliers\n",
        "# YOLO e absurd, alone não tem como definir\n",
        "\n",
        "df['escolaridade'] = df['escolaridade'].replace({'Graduation':'Graduado','Master':'Mestre','2n Cycle':'2º Ciclo','Basic':'Básico'})\n",
        "df['estado_civil'] = df['estado_civil'].replace({'Married':'Casado', 'Together':'Amasiado', 'Single':'Solteiro','Divorced':'Divorciado',\n",
        "                                                 'Widow':'Viúvo(a)'})"
      ],
      "metadata": {
        "id": "dhjlwLjyeJGk"
      },
      "execution_count": 42,
      "outputs": []
    },
    {
      "cell_type": "code",
      "source": [
        "# checando linhas para verificar inconsistências do estado civil\n",
        "ftyolo = df['estado_civil'] == 'YOLO'\n",
        "ftabs = df['estado_civil'] == 'Absurd'\n",
        "ftalo = df['estado_civil'] == 'Alone'\n",
        "\n",
        "df[ftyolo | ftabs | ftalo]"
      ],
      "metadata": {
        "id": "cCHwIfP9Bicc"
      },
      "execution_count": null,
      "outputs": []
    },
    {
      "cell_type": "code",
      "source": [
        "# checagem de cliente nascido em 1893, pois em 2014 (provável ano do dataset) ele já teria cerca de 121\n",
        "# o que parece forte indícios de inconsistência. No caso, ainda avisar ao time quanto às linhas dos clientes nascidos em 1899 e 1900.\n",
        "ft1893 = df['ano_nasc'] == 1893\n",
        "df[ft1893]\n"
      ],
      "metadata": {
        "colab": {
          "base_uri": "https://localhost:8080/",
          "height": 0
        },
        "id": "XHuKFOW0IaIL",
        "outputId": "2e20776e-5252-44ec-a73c-4a7902376073"
      },
      "execution_count": 44,
      "outputs": [
        {
          "output_type": "execute_result",
          "data": {
            "text/plain": [
              "       ano_nasc escolaridade estado_civil  renda_anual  filhos_crianca  \\\n",
              "id                                                                       \n",
              "11004      1893     2º Ciclo     Solteiro      60182.0               0   \n",
              "\n",
              "       filhos_adolesc cliente_desde  ultima_compra  compra_vinhos  \\\n",
              "id                                                                  \n",
              "11004               1    2014-05-17             23              8   \n",
              "\n",
              "       compra_frutas  ...  compras_web  compras_catalogo  compras_loja  \\\n",
              "id                    ...                                                \n",
              "11004              0  ...            1                 0             2   \n",
              "\n",
              "       site_visita_mes  cmp3_aceito  cmp4_aceito  cmp5_aceito  cmp1_aceito  \\\n",
              "id                                                                           \n",
              "11004                4            0            0            0            0   \n",
              "\n",
              "       cmp2_aceito  reclamacoes  \n",
              "id                               \n",
              "11004            0            0  \n",
              "\n",
              "[1 rows x 25 columns]"
            ],
            "text/html": [
              "\n",
              "  <div id=\"df-55ead09a-8b5a-4c5f-b344-285e476b6902\">\n",
              "    <div class=\"colab-df-container\">\n",
              "      <div>\n",
              "<style scoped>\n",
              "    .dataframe tbody tr th:only-of-type {\n",
              "        vertical-align: middle;\n",
              "    }\n",
              "\n",
              "    .dataframe tbody tr th {\n",
              "        vertical-align: top;\n",
              "    }\n",
              "\n",
              "    .dataframe thead th {\n",
              "        text-align: right;\n",
              "    }\n",
              "</style>\n",
              "<table border=\"1\" class=\"dataframe\">\n",
              "  <thead>\n",
              "    <tr style=\"text-align: right;\">\n",
              "      <th></th>\n",
              "      <th>ano_nasc</th>\n",
              "      <th>escolaridade</th>\n",
              "      <th>estado_civil</th>\n",
              "      <th>renda_anual</th>\n",
              "      <th>filhos_crianca</th>\n",
              "      <th>filhos_adolesc</th>\n",
              "      <th>cliente_desde</th>\n",
              "      <th>ultima_compra</th>\n",
              "      <th>compra_vinhos</th>\n",
              "      <th>compra_frutas</th>\n",
              "      <th>...</th>\n",
              "      <th>compras_web</th>\n",
              "      <th>compras_catalogo</th>\n",
              "      <th>compras_loja</th>\n",
              "      <th>site_visita_mes</th>\n",
              "      <th>cmp3_aceito</th>\n",
              "      <th>cmp4_aceito</th>\n",
              "      <th>cmp5_aceito</th>\n",
              "      <th>cmp1_aceito</th>\n",
              "      <th>cmp2_aceito</th>\n",
              "      <th>reclamacoes</th>\n",
              "    </tr>\n",
              "    <tr>\n",
              "      <th>id</th>\n",
              "      <th></th>\n",
              "      <th></th>\n",
              "      <th></th>\n",
              "      <th></th>\n",
              "      <th></th>\n",
              "      <th></th>\n",
              "      <th></th>\n",
              "      <th></th>\n",
              "      <th></th>\n",
              "      <th></th>\n",
              "      <th></th>\n",
              "      <th></th>\n",
              "      <th></th>\n",
              "      <th></th>\n",
              "      <th></th>\n",
              "      <th></th>\n",
              "      <th></th>\n",
              "      <th></th>\n",
              "      <th></th>\n",
              "      <th></th>\n",
              "      <th></th>\n",
              "    </tr>\n",
              "  </thead>\n",
              "  <tbody>\n",
              "    <tr>\n",
              "      <th>11004</th>\n",
              "      <td>1893</td>\n",
              "      <td>2º Ciclo</td>\n",
              "      <td>Solteiro</td>\n",
              "      <td>60182.0</td>\n",
              "      <td>0</td>\n",
              "      <td>1</td>\n",
              "      <td>2014-05-17</td>\n",
              "      <td>23</td>\n",
              "      <td>8</td>\n",
              "      <td>0</td>\n",
              "      <td>...</td>\n",
              "      <td>1</td>\n",
              "      <td>0</td>\n",
              "      <td>2</td>\n",
              "      <td>4</td>\n",
              "      <td>0</td>\n",
              "      <td>0</td>\n",
              "      <td>0</td>\n",
              "      <td>0</td>\n",
              "      <td>0</td>\n",
              "      <td>0</td>\n",
              "    </tr>\n",
              "  </tbody>\n",
              "</table>\n",
              "<p>1 rows × 25 columns</p>\n",
              "</div>\n",
              "      <button class=\"colab-df-convert\" onclick=\"convertToInteractive('df-55ead09a-8b5a-4c5f-b344-285e476b6902')\"\n",
              "              title=\"Convert this dataframe to an interactive table.\"\n",
              "              style=\"display:none;\">\n",
              "        \n",
              "  <svg xmlns=\"http://www.w3.org/2000/svg\" height=\"24px\"viewBox=\"0 0 24 24\"\n",
              "       width=\"24px\">\n",
              "    <path d=\"M0 0h24v24H0V0z\" fill=\"none\"/>\n",
              "    <path d=\"M18.56 5.44l.94 2.06.94-2.06 2.06-.94-2.06-.94-.94-2.06-.94 2.06-2.06.94zm-11 1L8.5 8.5l.94-2.06 2.06-.94-2.06-.94L8.5 2.5l-.94 2.06-2.06.94zm10 10l.94 2.06.94-2.06 2.06-.94-2.06-.94-.94-2.06-.94 2.06-2.06.94z\"/><path d=\"M17.41 7.96l-1.37-1.37c-.4-.4-.92-.59-1.43-.59-.52 0-1.04.2-1.43.59L10.3 9.45l-7.72 7.72c-.78.78-.78 2.05 0 2.83L4 21.41c.39.39.9.59 1.41.59.51 0 1.02-.2 1.41-.59l7.78-7.78 2.81-2.81c.8-.78.8-2.07 0-2.86zM5.41 20L4 18.59l7.72-7.72 1.47 1.35L5.41 20z\"/>\n",
              "  </svg>\n",
              "      </button>\n",
              "      \n",
              "  <style>\n",
              "    .colab-df-container {\n",
              "      display:flex;\n",
              "      flex-wrap:wrap;\n",
              "      gap: 12px;\n",
              "    }\n",
              "\n",
              "    .colab-df-convert {\n",
              "      background-color: #E8F0FE;\n",
              "      border: none;\n",
              "      border-radius: 50%;\n",
              "      cursor: pointer;\n",
              "      display: none;\n",
              "      fill: #1967D2;\n",
              "      height: 32px;\n",
              "      padding: 0 0 0 0;\n",
              "      width: 32px;\n",
              "    }\n",
              "\n",
              "    .colab-df-convert:hover {\n",
              "      background-color: #E2EBFA;\n",
              "      box-shadow: 0px 1px 2px rgba(60, 64, 67, 0.3), 0px 1px 3px 1px rgba(60, 64, 67, 0.15);\n",
              "      fill: #174EA6;\n",
              "    }\n",
              "\n",
              "    [theme=dark] .colab-df-convert {\n",
              "      background-color: #3B4455;\n",
              "      fill: #D2E3FC;\n",
              "    }\n",
              "\n",
              "    [theme=dark] .colab-df-convert:hover {\n",
              "      background-color: #434B5C;\n",
              "      box-shadow: 0px 1px 3px 1px rgba(0, 0, 0, 0.15);\n",
              "      filter: drop-shadow(0px 1px 2px rgba(0, 0, 0, 0.3));\n",
              "      fill: #FFFFFF;\n",
              "    }\n",
              "  </style>\n",
              "\n",
              "      <script>\n",
              "        const buttonEl =\n",
              "          document.querySelector('#df-55ead09a-8b5a-4c5f-b344-285e476b6902 button.colab-df-convert');\n",
              "        buttonEl.style.display =\n",
              "          google.colab.kernel.accessAllowed ? 'block' : 'none';\n",
              "\n",
              "        async function convertToInteractive(key) {\n",
              "          const element = document.querySelector('#df-55ead09a-8b5a-4c5f-b344-285e476b6902');\n",
              "          const dataTable =\n",
              "            await google.colab.kernel.invokeFunction('convertToInteractive',\n",
              "                                                     [key], {});\n",
              "          if (!dataTable) return;\n",
              "\n",
              "          const docLinkHtml = 'Like what you see? Visit the ' +\n",
              "            '<a target=\"_blank\" href=https://colab.research.google.com/notebooks/data_table.ipynb>data table notebook</a>'\n",
              "            + ' to learn more about interactive tables.';\n",
              "          element.innerHTML = '';\n",
              "          dataTable['output_type'] = 'display_data';\n",
              "          await google.colab.output.renderOutput(dataTable, element);\n",
              "          const docLink = document.createElement('div');\n",
              "          docLink.innerHTML = docLinkHtml;\n",
              "          element.appendChild(docLink);\n",
              "        }\n",
              "      </script>\n",
              "    </div>\n",
              "  </div>\n",
              "  "
            ]
          },
          "metadata": {},
          "execution_count": 44
        }
      ]
    },
    {
      "cell_type": "code",
      "source": [
        "# dropar as linhas correspondentes por serem em pouca qtd (p < 0.02) e corresponderem a dados inconsistentes, inclusive com linhas iguais\n",
        "df.drop([433, 7660, 92, 7734, 4369, 492, 11133, 11004],inplace=True)"
      ],
      "metadata": {
        "id": "KXvc6H8VFYH7"
      },
      "execution_count": 45,
      "outputs": []
    },
    {
      "cell_type": "code",
      "source": [
        "# fazendo uma coluna com o total de filhos\n",
        "df['tot_filhos'] = df['filhos_crianca'] + df['filhos_adolesc']"
      ],
      "metadata": {
        "id": "j9oVJhHZg08-"
      },
      "execution_count": 46,
      "outputs": []
    },
    {
      "cell_type": "code",
      "source": [
        "df.dtypes"
      ],
      "metadata": {
        "colab": {
          "base_uri": "https://localhost:8080/"
        },
        "id": "VvM2mYLL12e4",
        "outputId": "e0ffdf5a-7328-4682-9c1b-85889b63713f"
      },
      "execution_count": 47,
      "outputs": [
        {
          "output_type": "execute_result",
          "data": {
            "text/plain": [
              "ano_nasc                     int64\n",
              "escolaridade                object\n",
              "estado_civil                object\n",
              "renda_anual                float64\n",
              "filhos_crianca               int64\n",
              "filhos_adolesc               int64\n",
              "cliente_desde       datetime64[ns]\n",
              "ultima_compra                int64\n",
              "compra_vinhos                int64\n",
              "compra_frutas                int64\n",
              "compra_carnes                int64\n",
              "compra_peixes                int64\n",
              "compra_doces                 int64\n",
              "compra_ouro_prod             int64\n",
              "compras_acordo               int64\n",
              "compras_web                  int64\n",
              "compras_catalogo             int64\n",
              "compras_loja                 int64\n",
              "site_visita_mes              int64\n",
              "cmp3_aceito                  int64\n",
              "cmp4_aceito                  int64\n",
              "cmp5_aceito                  int64\n",
              "cmp1_aceito                  int64\n",
              "cmp2_aceito                  int64\n",
              "reclamacoes                  int64\n",
              "tot_filhos                   int64\n",
              "dtype: object"
            ]
          },
          "metadata": {},
          "execution_count": 47
        }
      ]
    },
    {
      "cell_type": "code",
      "source": [
        "#criando um esquema de validação de dados\n",
        "schema = pa.DataFrameSchema({\n",
        "    'ano_nasc':pa.Column(int, nullable=True),\n",
        "    'escolaridade': pa.Column(str),\n",
        "    'estado_civil': pa.Column(str, nullable=True),\n",
        "    'renda_anual': pa.Column(float, nullable=True),\n",
        "    'filhos_crianca': pa.Column(int),\n",
        "    'filhos_adolesc': pa.Column(int),\n",
        "    'cliente_desde': pa.Column(pa.DateTime),\n",
        "    'ultima_compra': pa.Column(int),\n",
        "    'compra_vinhos': pa.Column(int),\n",
        "    'compra_frutas':pa.Column(int),\n",
        "    'compra_carnes':pa.Column(int),\n",
        "    'compra_peixes':pa.Column(int),\n",
        "    'compra_doces':pa.Column(int),\n",
        "    'compra_ouro_prod':pa.Column(int),\n",
        "    'compras_acordo':pa.Column(int),\n",
        "    'compras_web':pa.Column(int),\n",
        "    'compras_catalogo':pa.Column(int),\n",
        "    'compras_loja':pa.Column(int),\n",
        "    'site_visita_mes':pa.Column(int),\n",
        "    'reclamacoes':pa.Column(int),\n",
        "    'cmp1_aceito':pa.Column(int),\n",
        "    'cmp2_aceito':pa.Column(int),\n",
        "    'cmp3_aceito':pa.Column(int),\n",
        "    'cmp4_aceito':pa.Column(int),\n",
        "    'cmp5_aceito':pa.Column(int),\n",
        "    'tot_filhos':pa.Column(int)\n",
        "    }\n",
        ")\n"
      ],
      "metadata": {
        "id": "hJMU-3cOwO_s"
      },
      "execution_count": 48,
      "outputs": []
    },
    {
      "cell_type": "code",
      "source": [
        "# checando a validação dos dados\n",
        "schema.validate(df)"
      ],
      "metadata": {
        "id": "cjJSaKPa5DOE",
        "colab": {
          "base_uri": "https://localhost:8080/",
          "height": 0
        },
        "outputId": "37475fdf-9004-4350-bbbe-25fcab10350f"
      },
      "execution_count": 49,
      "outputs": [
        {
          "output_type": "execute_result",
          "data": {
            "text/plain": [
              "       ano_nasc escolaridade estado_civil  renda_anual  filhos_crianca  \\\n",
              "id                                                                       \n",
              "5524       1957     Graduado     Solteiro      58138.0               0   \n",
              "2174       1954     Graduado     Solteiro      46344.0               1   \n",
              "4141       1965     Graduado     Amasiado      71613.0               0   \n",
              "6182       1984     Graduado     Amasiado      26646.0               1   \n",
              "5324       1981          PhD       Casado      58293.0               1   \n",
              "...         ...          ...          ...          ...             ...   \n",
              "10870      1967     Graduado       Casado      61223.0               0   \n",
              "4001       1946          PhD     Amasiado      64014.0               2   \n",
              "7270       1981     Graduado   Divorciado      56981.0               0   \n",
              "8235       1956       Mestre     Amasiado      69245.0               0   \n",
              "9405       1954          PhD       Casado      52869.0               1   \n",
              "\n",
              "       filhos_adolesc cliente_desde  ultima_compra  compra_vinhos  \\\n",
              "id                                                                  \n",
              "5524                0    2012-09-04             58            635   \n",
              "2174                1    2014-03-08             38             11   \n",
              "4141                0    2013-08-21             26            426   \n",
              "6182                0    2014-02-10             26             11   \n",
              "5324                0    2014-01-19             94            173   \n",
              "...               ...           ...            ...            ...   \n",
              "10870               1    2013-06-13             46            709   \n",
              "4001                1    2014-06-10             56            406   \n",
              "7270                0    2014-01-25             91            908   \n",
              "8235                1    2014-01-24              8            428   \n",
              "9405                1    2012-10-15             40             84   \n",
              "\n",
              "       compra_frutas  ...  compras_catalogo  compras_loja  site_visita_mes  \\\n",
              "id                    ...                                                    \n",
              "5524              88  ...                10             4                7   \n",
              "2174               1  ...                 1             2                5   \n",
              "4141              49  ...                 2            10                4   \n",
              "6182               4  ...                 0             4                6   \n",
              "5324              43  ...                 3             6                5   \n",
              "...              ...  ...               ...           ...              ...   \n",
              "10870             43  ...                 3             4                5   \n",
              "4001               0  ...                 2             5                7   \n",
              "7270              48  ...                 3            13                6   \n",
              "8235              30  ...                 5            10                3   \n",
              "9405               3  ...                 1             4                7   \n",
              "\n",
              "       cmp3_aceito  cmp4_aceito  cmp5_aceito  cmp1_aceito  cmp2_aceito  \\\n",
              "id                                                                       \n",
              "5524             0            0            0            0            0   \n",
              "2174             0            0            0            0            0   \n",
              "4141             0            0            0            0            0   \n",
              "6182             0            0            0            0            0   \n",
              "5324             0            0            0            0            0   \n",
              "...            ...          ...          ...          ...          ...   \n",
              "10870            0            0            0            0            0   \n",
              "4001             0            0            0            1            0   \n",
              "7270             0            1            0            0            0   \n",
              "8235             0            0            0            0            0   \n",
              "9405             0            0            0            0            0   \n",
              "\n",
              "       reclamacoes  tot_filhos  \n",
              "id                              \n",
              "5524             0           0  \n",
              "2174             0           2  \n",
              "4141             0           0  \n",
              "6182             0           1  \n",
              "5324             0           1  \n",
              "...            ...         ...  \n",
              "10870            0           1  \n",
              "4001             0           3  \n",
              "7270             0           0  \n",
              "8235             0           1  \n",
              "9405             0           2  \n",
              "\n",
              "[2232 rows x 26 columns]"
            ],
            "text/html": [
              "\n",
              "  <div id=\"df-2395ec14-8897-448f-8e63-738732d567da\">\n",
              "    <div class=\"colab-df-container\">\n",
              "      <div>\n",
              "<style scoped>\n",
              "    .dataframe tbody tr th:only-of-type {\n",
              "        vertical-align: middle;\n",
              "    }\n",
              "\n",
              "    .dataframe tbody tr th {\n",
              "        vertical-align: top;\n",
              "    }\n",
              "\n",
              "    .dataframe thead th {\n",
              "        text-align: right;\n",
              "    }\n",
              "</style>\n",
              "<table border=\"1\" class=\"dataframe\">\n",
              "  <thead>\n",
              "    <tr style=\"text-align: right;\">\n",
              "      <th></th>\n",
              "      <th>ano_nasc</th>\n",
              "      <th>escolaridade</th>\n",
              "      <th>estado_civil</th>\n",
              "      <th>renda_anual</th>\n",
              "      <th>filhos_crianca</th>\n",
              "      <th>filhos_adolesc</th>\n",
              "      <th>cliente_desde</th>\n",
              "      <th>ultima_compra</th>\n",
              "      <th>compra_vinhos</th>\n",
              "      <th>compra_frutas</th>\n",
              "      <th>...</th>\n",
              "      <th>compras_catalogo</th>\n",
              "      <th>compras_loja</th>\n",
              "      <th>site_visita_mes</th>\n",
              "      <th>cmp3_aceito</th>\n",
              "      <th>cmp4_aceito</th>\n",
              "      <th>cmp5_aceito</th>\n",
              "      <th>cmp1_aceito</th>\n",
              "      <th>cmp2_aceito</th>\n",
              "      <th>reclamacoes</th>\n",
              "      <th>tot_filhos</th>\n",
              "    </tr>\n",
              "    <tr>\n",
              "      <th>id</th>\n",
              "      <th></th>\n",
              "      <th></th>\n",
              "      <th></th>\n",
              "      <th></th>\n",
              "      <th></th>\n",
              "      <th></th>\n",
              "      <th></th>\n",
              "      <th></th>\n",
              "      <th></th>\n",
              "      <th></th>\n",
              "      <th></th>\n",
              "      <th></th>\n",
              "      <th></th>\n",
              "      <th></th>\n",
              "      <th></th>\n",
              "      <th></th>\n",
              "      <th></th>\n",
              "      <th></th>\n",
              "      <th></th>\n",
              "      <th></th>\n",
              "      <th></th>\n",
              "    </tr>\n",
              "  </thead>\n",
              "  <tbody>\n",
              "    <tr>\n",
              "      <th>5524</th>\n",
              "      <td>1957</td>\n",
              "      <td>Graduado</td>\n",
              "      <td>Solteiro</td>\n",
              "      <td>58138.0</td>\n",
              "      <td>0</td>\n",
              "      <td>0</td>\n",
              "      <td>2012-09-04</td>\n",
              "      <td>58</td>\n",
              "      <td>635</td>\n",
              "      <td>88</td>\n",
              "      <td>...</td>\n",
              "      <td>10</td>\n",
              "      <td>4</td>\n",
              "      <td>7</td>\n",
              "      <td>0</td>\n",
              "      <td>0</td>\n",
              "      <td>0</td>\n",
              "      <td>0</td>\n",
              "      <td>0</td>\n",
              "      <td>0</td>\n",
              "      <td>0</td>\n",
              "    </tr>\n",
              "    <tr>\n",
              "      <th>2174</th>\n",
              "      <td>1954</td>\n",
              "      <td>Graduado</td>\n",
              "      <td>Solteiro</td>\n",
              "      <td>46344.0</td>\n",
              "      <td>1</td>\n",
              "      <td>1</td>\n",
              "      <td>2014-03-08</td>\n",
              "      <td>38</td>\n",
              "      <td>11</td>\n",
              "      <td>1</td>\n",
              "      <td>...</td>\n",
              "      <td>1</td>\n",
              "      <td>2</td>\n",
              "      <td>5</td>\n",
              "      <td>0</td>\n",
              "      <td>0</td>\n",
              "      <td>0</td>\n",
              "      <td>0</td>\n",
              "      <td>0</td>\n",
              "      <td>0</td>\n",
              "      <td>2</td>\n",
              "    </tr>\n",
              "    <tr>\n",
              "      <th>4141</th>\n",
              "      <td>1965</td>\n",
              "      <td>Graduado</td>\n",
              "      <td>Amasiado</td>\n",
              "      <td>71613.0</td>\n",
              "      <td>0</td>\n",
              "      <td>0</td>\n",
              "      <td>2013-08-21</td>\n",
              "      <td>26</td>\n",
              "      <td>426</td>\n",
              "      <td>49</td>\n",
              "      <td>...</td>\n",
              "      <td>2</td>\n",
              "      <td>10</td>\n",
              "      <td>4</td>\n",
              "      <td>0</td>\n",
              "      <td>0</td>\n",
              "      <td>0</td>\n",
              "      <td>0</td>\n",
              "      <td>0</td>\n",
              "      <td>0</td>\n",
              "      <td>0</td>\n",
              "    </tr>\n",
              "    <tr>\n",
              "      <th>6182</th>\n",
              "      <td>1984</td>\n",
              "      <td>Graduado</td>\n",
              "      <td>Amasiado</td>\n",
              "      <td>26646.0</td>\n",
              "      <td>1</td>\n",
              "      <td>0</td>\n",
              "      <td>2014-02-10</td>\n",
              "      <td>26</td>\n",
              "      <td>11</td>\n",
              "      <td>4</td>\n",
              "      <td>...</td>\n",
              "      <td>0</td>\n",
              "      <td>4</td>\n",
              "      <td>6</td>\n",
              "      <td>0</td>\n",
              "      <td>0</td>\n",
              "      <td>0</td>\n",
              "      <td>0</td>\n",
              "      <td>0</td>\n",
              "      <td>0</td>\n",
              "      <td>1</td>\n",
              "    </tr>\n",
              "    <tr>\n",
              "      <th>5324</th>\n",
              "      <td>1981</td>\n",
              "      <td>PhD</td>\n",
              "      <td>Casado</td>\n",
              "      <td>58293.0</td>\n",
              "      <td>1</td>\n",
              "      <td>0</td>\n",
              "      <td>2014-01-19</td>\n",
              "      <td>94</td>\n",
              "      <td>173</td>\n",
              "      <td>43</td>\n",
              "      <td>...</td>\n",
              "      <td>3</td>\n",
              "      <td>6</td>\n",
              "      <td>5</td>\n",
              "      <td>0</td>\n",
              "      <td>0</td>\n",
              "      <td>0</td>\n",
              "      <td>0</td>\n",
              "      <td>0</td>\n",
              "      <td>0</td>\n",
              "      <td>1</td>\n",
              "    </tr>\n",
              "    <tr>\n",
              "      <th>...</th>\n",
              "      <td>...</td>\n",
              "      <td>...</td>\n",
              "      <td>...</td>\n",
              "      <td>...</td>\n",
              "      <td>...</td>\n",
              "      <td>...</td>\n",
              "      <td>...</td>\n",
              "      <td>...</td>\n",
              "      <td>...</td>\n",
              "      <td>...</td>\n",
              "      <td>...</td>\n",
              "      <td>...</td>\n",
              "      <td>...</td>\n",
              "      <td>...</td>\n",
              "      <td>...</td>\n",
              "      <td>...</td>\n",
              "      <td>...</td>\n",
              "      <td>...</td>\n",
              "      <td>...</td>\n",
              "      <td>...</td>\n",
              "      <td>...</td>\n",
              "    </tr>\n",
              "    <tr>\n",
              "      <th>10870</th>\n",
              "      <td>1967</td>\n",
              "      <td>Graduado</td>\n",
              "      <td>Casado</td>\n",
              "      <td>61223.0</td>\n",
              "      <td>0</td>\n",
              "      <td>1</td>\n",
              "      <td>2013-06-13</td>\n",
              "      <td>46</td>\n",
              "      <td>709</td>\n",
              "      <td>43</td>\n",
              "      <td>...</td>\n",
              "      <td>3</td>\n",
              "      <td>4</td>\n",
              "      <td>5</td>\n",
              "      <td>0</td>\n",
              "      <td>0</td>\n",
              "      <td>0</td>\n",
              "      <td>0</td>\n",
              "      <td>0</td>\n",
              "      <td>0</td>\n",
              "      <td>1</td>\n",
              "    </tr>\n",
              "    <tr>\n",
              "      <th>4001</th>\n",
              "      <td>1946</td>\n",
              "      <td>PhD</td>\n",
              "      <td>Amasiado</td>\n",
              "      <td>64014.0</td>\n",
              "      <td>2</td>\n",
              "      <td>1</td>\n",
              "      <td>2014-06-10</td>\n",
              "      <td>56</td>\n",
              "      <td>406</td>\n",
              "      <td>0</td>\n",
              "      <td>...</td>\n",
              "      <td>2</td>\n",
              "      <td>5</td>\n",
              "      <td>7</td>\n",
              "      <td>0</td>\n",
              "      <td>0</td>\n",
              "      <td>0</td>\n",
              "      <td>1</td>\n",
              "      <td>0</td>\n",
              "      <td>0</td>\n",
              "      <td>3</td>\n",
              "    </tr>\n",
              "    <tr>\n",
              "      <th>7270</th>\n",
              "      <td>1981</td>\n",
              "      <td>Graduado</td>\n",
              "      <td>Divorciado</td>\n",
              "      <td>56981.0</td>\n",
              "      <td>0</td>\n",
              "      <td>0</td>\n",
              "      <td>2014-01-25</td>\n",
              "      <td>91</td>\n",
              "      <td>908</td>\n",
              "      <td>48</td>\n",
              "      <td>...</td>\n",
              "      <td>3</td>\n",
              "      <td>13</td>\n",
              "      <td>6</td>\n",
              "      <td>0</td>\n",
              "      <td>1</td>\n",
              "      <td>0</td>\n",
              "      <td>0</td>\n",
              "      <td>0</td>\n",
              "      <td>0</td>\n",
              "      <td>0</td>\n",
              "    </tr>\n",
              "    <tr>\n",
              "      <th>8235</th>\n",
              "      <td>1956</td>\n",
              "      <td>Mestre</td>\n",
              "      <td>Amasiado</td>\n",
              "      <td>69245.0</td>\n",
              "      <td>0</td>\n",
              "      <td>1</td>\n",
              "      <td>2014-01-24</td>\n",
              "      <td>8</td>\n",
              "      <td>428</td>\n",
              "      <td>30</td>\n",
              "      <td>...</td>\n",
              "      <td>5</td>\n",
              "      <td>10</td>\n",
              "      <td>3</td>\n",
              "      <td>0</td>\n",
              "      <td>0</td>\n",
              "      <td>0</td>\n",
              "      <td>0</td>\n",
              "      <td>0</td>\n",
              "      <td>0</td>\n",
              "      <td>1</td>\n",
              "    </tr>\n",
              "    <tr>\n",
              "      <th>9405</th>\n",
              "      <td>1954</td>\n",
              "      <td>PhD</td>\n",
              "      <td>Casado</td>\n",
              "      <td>52869.0</td>\n",
              "      <td>1</td>\n",
              "      <td>1</td>\n",
              "      <td>2012-10-15</td>\n",
              "      <td>40</td>\n",
              "      <td>84</td>\n",
              "      <td>3</td>\n",
              "      <td>...</td>\n",
              "      <td>1</td>\n",
              "      <td>4</td>\n",
              "      <td>7</td>\n",
              "      <td>0</td>\n",
              "      <td>0</td>\n",
              "      <td>0</td>\n",
              "      <td>0</td>\n",
              "      <td>0</td>\n",
              "      <td>0</td>\n",
              "      <td>2</td>\n",
              "    </tr>\n",
              "  </tbody>\n",
              "</table>\n",
              "<p>2232 rows × 26 columns</p>\n",
              "</div>\n",
              "      <button class=\"colab-df-convert\" onclick=\"convertToInteractive('df-2395ec14-8897-448f-8e63-738732d567da')\"\n",
              "              title=\"Convert this dataframe to an interactive table.\"\n",
              "              style=\"display:none;\">\n",
              "        \n",
              "  <svg xmlns=\"http://www.w3.org/2000/svg\" height=\"24px\"viewBox=\"0 0 24 24\"\n",
              "       width=\"24px\">\n",
              "    <path d=\"M0 0h24v24H0V0z\" fill=\"none\"/>\n",
              "    <path d=\"M18.56 5.44l.94 2.06.94-2.06 2.06-.94-2.06-.94-.94-2.06-.94 2.06-2.06.94zm-11 1L8.5 8.5l.94-2.06 2.06-.94-2.06-.94L8.5 2.5l-.94 2.06-2.06.94zm10 10l.94 2.06.94-2.06 2.06-.94-2.06-.94-.94-2.06-.94 2.06-2.06.94z\"/><path d=\"M17.41 7.96l-1.37-1.37c-.4-.4-.92-.59-1.43-.59-.52 0-1.04.2-1.43.59L10.3 9.45l-7.72 7.72c-.78.78-.78 2.05 0 2.83L4 21.41c.39.39.9.59 1.41.59.51 0 1.02-.2 1.41-.59l7.78-7.78 2.81-2.81c.8-.78.8-2.07 0-2.86zM5.41 20L4 18.59l7.72-7.72 1.47 1.35L5.41 20z\"/>\n",
              "  </svg>\n",
              "      </button>\n",
              "      \n",
              "  <style>\n",
              "    .colab-df-container {\n",
              "      display:flex;\n",
              "      flex-wrap:wrap;\n",
              "      gap: 12px;\n",
              "    }\n",
              "\n",
              "    .colab-df-convert {\n",
              "      background-color: #E8F0FE;\n",
              "      border: none;\n",
              "      border-radius: 50%;\n",
              "      cursor: pointer;\n",
              "      display: none;\n",
              "      fill: #1967D2;\n",
              "      height: 32px;\n",
              "      padding: 0 0 0 0;\n",
              "      width: 32px;\n",
              "    }\n",
              "\n",
              "    .colab-df-convert:hover {\n",
              "      background-color: #E2EBFA;\n",
              "      box-shadow: 0px 1px 2px rgba(60, 64, 67, 0.3), 0px 1px 3px 1px rgba(60, 64, 67, 0.15);\n",
              "      fill: #174EA6;\n",
              "    }\n",
              "\n",
              "    [theme=dark] .colab-df-convert {\n",
              "      background-color: #3B4455;\n",
              "      fill: #D2E3FC;\n",
              "    }\n",
              "\n",
              "    [theme=dark] .colab-df-convert:hover {\n",
              "      background-color: #434B5C;\n",
              "      box-shadow: 0px 1px 3px 1px rgba(0, 0, 0, 0.15);\n",
              "      filter: drop-shadow(0px 1px 2px rgba(0, 0, 0, 0.3));\n",
              "      fill: #FFFFFF;\n",
              "    }\n",
              "  </style>\n",
              "\n",
              "      <script>\n",
              "        const buttonEl =\n",
              "          document.querySelector('#df-2395ec14-8897-448f-8e63-738732d567da button.colab-df-convert');\n",
              "        buttonEl.style.display =\n",
              "          google.colab.kernel.accessAllowed ? 'block' : 'none';\n",
              "\n",
              "        async function convertToInteractive(key) {\n",
              "          const element = document.querySelector('#df-2395ec14-8897-448f-8e63-738732d567da');\n",
              "          const dataTable =\n",
              "            await google.colab.kernel.invokeFunction('convertToInteractive',\n",
              "                                                     [key], {});\n",
              "          if (!dataTable) return;\n",
              "\n",
              "          const docLinkHtml = 'Like what you see? Visit the ' +\n",
              "            '<a target=\"_blank\" href=https://colab.research.google.com/notebooks/data_table.ipynb>data table notebook</a>'\n",
              "            + ' to learn more about interactive tables.';\n",
              "          element.innerHTML = '';\n",
              "          dataTable['output_type'] = 'display_data';\n",
              "          await google.colab.output.renderOutput(dataTable, element);\n",
              "          const docLink = document.createElement('div');\n",
              "          docLink.innerHTML = docLinkHtml;\n",
              "          element.appendChild(docLink);\n",
              "        }\n",
              "      </script>\n",
              "    </div>\n",
              "  </div>\n",
              "  "
            ]
          },
          "metadata": {},
          "execution_count": 49
        }
      ]
    },
    {
      "cell_type": "code",
      "source": [
        "df.dtypes"
      ],
      "metadata": {
        "colab": {
          "base_uri": "https://localhost:8080/"
        },
        "id": "x7nm57_Y319N",
        "outputId": "dc995d32-b3b0-44fa-e962-9302754cf754"
      },
      "execution_count": 52,
      "outputs": [
        {
          "output_type": "execute_result",
          "data": {
            "text/plain": [
              "ano_nasc                     int64\n",
              "escolaridade                object\n",
              "estado_civil                object\n",
              "renda_anual                float64\n",
              "filhos_crianca               int64\n",
              "filhos_adolesc               int64\n",
              "tot_filhos                   int64\n",
              "cliente_desde       datetime64[ns]\n",
              "ultima_compra                int64\n",
              "site_visita_mes              int64\n",
              "compra_vinhos                int64\n",
              "compra_frutas                int64\n",
              "compra_carnes                int64\n",
              "compra_peixes                int64\n",
              "compra_doces                 int64\n",
              "compra_ouro_prod             int64\n",
              "compras_acordo               int64\n",
              "compras_web                  int64\n",
              "compras_catalogo             int64\n",
              "compras_loja                 int64\n",
              "cmp1_aceito                  int64\n",
              "cmp2_aceito                  int64\n",
              "cmp3_aceito                  int64\n",
              "cmp4_aceito                  int64\n",
              "cmp5_aceito                  int64\n",
              "reclamacoes                  int64\n",
              "dtype: object"
            ]
          },
          "metadata": {},
          "execution_count": 52
        }
      ]
    },
    {
      "cell_type": "code",
      "source": [
        "# trocando as colunas de lugar para deixar algo mais racional\n",
        "df = df[['ano_nasc','escolaridade','estado_civil','renda_anual','filhos_crianca','filhos_adolesc','tot_filhos','cliente_desde','ultima_compra',\n",
        "        'site_visita_mes','compra_vinhos','compra_frutas','compra_carnes','compra_peixes','compra_doces','compra_ouro_prod','compras_acordo',\n",
        "        'compras_web','compras_catalogo','compras_loja','cmp1_aceito','cmp2_aceito','cmp3_aceito','cmp4_aceito','cmp5_aceito','reclamacoes']]"
      ],
      "metadata": {
        "id": "wwxs31jl2Zia"
      },
      "execution_count": 51,
      "outputs": []
    },
    {
      "cell_type": "markdown",
      "source": [
        "# CARREGAMENTO DOS DADOS"
      ],
      "metadata": {
        "id": "Nf2-xYhCR18I"
      }
    },
    {
      "cell_type": "code",
      "source": [
        "# carregando pra um novo arquivo\n",
        "df.to_csv('bd_mkt_finalizado.csv')"
      ],
      "metadata": {
        "id": "iEkpfJwBR1VM"
      },
      "execution_count": 53,
      "outputs": []
    },
    {
      "cell_type": "markdown",
      "source": [
        "# ANÁLISES BÁSICAS"
      ],
      "metadata": {
        "id": "jBGMB26gR5BT"
      }
    },
    {
      "cell_type": "code",
      "source": [
        "df.dtypes"
      ],
      "metadata": {
        "colab": {
          "base_uri": "https://localhost:8080/"
        },
        "id": "lv9PpG4v97Q4",
        "outputId": "ebc29acd-6fc9-4c8f-f2fa-24022632bd61"
      },
      "execution_count": 125,
      "outputs": [
        {
          "output_type": "execute_result",
          "data": {
            "text/plain": [
              "ano_nasc                     int64\n",
              "escolaridade                object\n",
              "estado_civil                object\n",
              "renda_anual                float64\n",
              "filhos_crianca               int64\n",
              "filhos_adolesc               int64\n",
              "tot_filhos                   int64\n",
              "cliente_desde       datetime64[ns]\n",
              "ultima_compra                int64\n",
              "site_visita_mes              int64\n",
              "compra_vinhos                int64\n",
              "compra_frutas                int64\n",
              "compra_carnes                int64\n",
              "compra_peixes                int64\n",
              "compra_doces                 int64\n",
              "compra_ouro_prod             int64\n",
              "compras_acordo               int64\n",
              "compras_web                  int64\n",
              "compras_catalogo             int64\n",
              "compras_loja                 int64\n",
              "cmp1_aceito                  int64\n",
              "cmp2_aceito                  int64\n",
              "cmp3_aceito                  int64\n",
              "cmp4_aceito                  int64\n",
              "cmp5_aceito                  int64\n",
              "reclamacoes                  int64\n",
              "dtype: object"
            ]
          },
          "metadata": {},
          "execution_count": 125
        }
      ]
    },
    {
      "cell_type": "markdown",
      "source": [
        "## 1) Análise Escolaridade x Gasto em compras (>1000)"
      ],
      "metadata": {
        "id": "tSCPJ3v8PvKF"
      }
    },
    {
      "cell_type": "code",
      "source": [
        "# Criando um df diferente com o filtro de clientes com compras maior que 1000\n",
        "df2 = df.copy()\n",
        "df2['soma_gasto'] = df['compra_vinhos'] + df['compra_frutas'] + df['compra_carnes'] + df['compra_peixes'] + df['compra_doces'] + df['compra_ouro_prod'] \n",
        "ft1000 = df2['soma_gasto'] > 1000\n",
        "df2 = df2.loc[ft1000]"
      ],
      "metadata": {
        "id": "dW6DLG7f-ONt"
      },
      "execution_count": 154,
      "outputs": []
    },
    {
      "cell_type": "code",
      "source": [
        "# a plotagem mostra que pessoas de ensino básico não aparecerem\n",
        "# Graduado aparece com maior número de clientes com esse perfil de gasto\n",
        "df2.groupby('escolaridade').size().sort_values(ascending=False).plot.bar(xlabel='Escolaridade',ylabel='Quantidade')"
      ],
      "metadata": {
        "colab": {
          "base_uri": "https://localhost:8080/",
          "height": 336
        },
        "id": "0Jndlx6vVaCu",
        "outputId": "88400b47-457c-4893-e0a2-43c42934f6bc"
      },
      "execution_count": 157,
      "outputs": [
        {
          "output_type": "execute_result",
          "data": {
            "text/plain": [
              "<matplotlib.axes._subplots.AxesSubplot at 0x7f6cceb0d350>"
            ]
          },
          "metadata": {},
          "execution_count": 157
        },
        {
          "output_type": "display_data",
          "data": {
            "text/plain": [
              "<Figure size 432x288 with 1 Axes>"
            ],
            "image/png": "[encoded data removed]"
          },
          "metadata": {
            "needs_background": "light"
          }
        }
      ]
    },
    {
      "cell_type": "markdown",
      "source": [
        "## 2) Estado Civil x Compra Vinho"
      ],
      "metadata": {
        "id": "qHf_EEwBqzFs"
      }
    },
    {
      "cell_type": "code",
      "source": [
        "# Pelo gráfico vê-se que os viúvos possuem o maior gasto médio; já os solteiros, o menor.\n",
        "df['compra_vinhos'].groupby(df['estado_civil']).mean().sort_values(ascending=False).plot.bar(xlabel='Estado Civil',ylabel='Média (em US$)')"
      ],
      "metadata": {
        "colab": {
          "base_uri": "https://localhost:8080/",
          "height": 340
        },
        "id": "NjCnZF4ssvUB",
        "outputId": "cd843970-3d9d-4a88-f70a-5616f08a1f5d"
      },
      "execution_count": 174,
      "outputs": [
        {
          "output_type": "execute_result",
          "data": {
            "text/plain": [
              "<matplotlib.axes._subplots.AxesSubplot at 0x7f6cce45af50>"
            ]
          },
          "metadata": {},
          "execution_count": 174
        },
        {
          "output_type": "display_data",
          "data": {
            "text/plain": [
              "<Figure size 432x288 with 1 Axes>"
            ],
            "image/png": "[encoded data removed]"
          },
          "metadata": {
            "needs_background": "light"
          }
        }
      ]
    }
  ]
}