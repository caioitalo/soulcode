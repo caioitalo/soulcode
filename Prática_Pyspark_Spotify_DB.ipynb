{
  "nbformat": 4,
  "nbformat_minor": 0,
  "metadata": {
    "colab": {
      "provenance": [],
      "collapsed_sections": [
        "64LTKYbs53cP"
      ],
      "authorship_tag": "ABX9TyNq9pXcrcN4huZ7XFW0NgSn",
      "include_colab_link": true
    },
    "kernelspec": {
      "name": "python3",
      "display_name": "Python 3"
    },
    "language_info": {
      "name": "python"
    }
  },
  "cells": [
    {
      "cell_type": "markdown",
      "metadata": {
        "id": "view-in-github",
        "colab_type": "text"
      },
      "source": [
        "<a href=\"https://colab.research.google.com/github/caioitalo/soulcode/blob/main/Pr%C3%A1tica_Pyspark_Spotify_DB.ipynb\" target=\"_parent\"><img src=\"https://colab.research.google.com/assets/colab-badge.svg\" alt=\"Open In Colab\"/></a>"
      ]
    },
    {
      "cell_type": "markdown",
      "source": [
        "**Prática realizada em pyspark para tratamento de dados de uma DB com músicas do spotify com aproximadamente 110 mil linhas.**\n",
        "\n",
        "DB retirado da plataforma kaggle - [link](https://www.kaggle.com/datasets/maharshipandya/-spotify-tracks-dataset) e alocado em um bucket da GCP"
      ],
      "metadata": {
        "id": "44eAbSDKUIEC"
      }
    },
    {
      "cell_type": "markdown",
      "source": [
        "# EXTRAÇÃO DOS DADOS"
      ],
      "metadata": {
        "id": "FcHyKOuRnTij"
      }
    },
    {
      "cell_type": "code",
      "execution_count": 1,
      "metadata": {
        "id": "yHiq-n3uR8eV",
        "colab": {
          "base_uri": "https://localhost:8080/"
        },
        "outputId": "c7d6e037-5593-4af2-a453-b96b7766ed05"
      },
      "outputs": [
        {
          "output_type": "stream",
          "name": "stdout",
          "text": [
            "Looking in indexes: https://pypi.org/simple, https://us-python.pkg.dev/colab-wheels/public/simple/\n",
            "Collecting pyspark\n",
            "  Downloading pyspark-3.3.1.tar.gz (281.4 MB)\n",
            "\u001b[2K     \u001b[90m━━━━━━━━━━━━━━━━━━━━━━━━━━━━━━━━━━━━━━━\u001b[0m \u001b[32m281.4/281.4 MB\u001b[0m \u001b[31m4.3 MB/s\u001b[0m eta \u001b[36m0:00:00\u001b[0m\n",
            "\u001b[?25h  Preparing metadata (setup.py) ... \u001b[?25l\u001b[?25hdone\n",
            "Collecting py4j==0.10.9.5\n",
            "  Downloading py4j-0.10.9.5-py2.py3-none-any.whl (199 kB)\n",
            "\u001b[2K     \u001b[90m━━━━━━━━━━━━━━━━━━━━━━━━━━━━━━━━━━━━━━\u001b[0m \u001b[32m199.7/199.7 KB\u001b[0m \u001b[31m18.3 MB/s\u001b[0m eta \u001b[36m0:00:00\u001b[0m\n",
            "\u001b[?25hBuilding wheels for collected packages: pyspark\n",
            "  Building wheel for pyspark (setup.py) ... \u001b[?25l\u001b[?25hdone\n",
            "  Created wheel for pyspark: filename=pyspark-3.3.1-py2.py3-none-any.whl size=281845512 sha256=3b0cc2229ed29f1aa03095b10d3523b6c0f43c4da597408a86f75e70330f141d\n",
            "  Stored in directory: /root/.cache/pip/wheels/43/dc/11/ec201cd671da62fa9c5cc77078235e40722170ceba231d7598\n",
            "Successfully built pyspark\n",
            "Installing collected packages: py4j, pyspark\n",
            "Successfully installed py4j-0.10.9.5 pyspark-3.3.1\n",
            "Looking in indexes: https://pypi.org/simple, https://us-python.pkg.dev/colab-wheels/public/simple/\n",
            "Collecting gcsfs\n",
            "  Downloading gcsfs-2022.11.0-py2.py3-none-any.whl (26 kB)\n",
            "Requirement already satisfied: fsspec==2022.11.0 in /usr/local/lib/python3.8/dist-packages (from gcsfs) (2022.11.0)\n",
            "Requirement already satisfied: google-cloud-storage in /usr/local/lib/python3.8/dist-packages (from gcsfs) (2.7.0)\n",
            "Requirement already satisfied: aiohttp!=4.0.0a0,!=4.0.0a1 in /usr/local/lib/python3.8/dist-packages (from gcsfs) (3.8.3)\n",
            "Requirement already satisfied: requests in /usr/local/lib/python3.8/dist-packages (from gcsfs) (2.25.1)\n",
            "Requirement already satisfied: google-auth>=1.2 in /usr/local/lib/python3.8/dist-packages (from gcsfs) (2.16.0)\n",
            "Requirement already satisfied: decorator>4.1.2 in /usr/local/lib/python3.8/dist-packages (from gcsfs) (4.4.2)\n",
            "Requirement already satisfied: google-auth-oauthlib in /usr/local/lib/python3.8/dist-packages (from gcsfs) (0.4.6)\n",
            "Requirement already satisfied: charset-normalizer<3.0,>=2.0 in /usr/local/lib/python3.8/dist-packages (from aiohttp!=4.0.0a0,!=4.0.0a1->gcsfs) (2.1.1)\n",
            "Requirement already satisfied: async-timeout<5.0,>=4.0.0a3 in /usr/local/lib/python3.8/dist-packages (from aiohttp!=4.0.0a0,!=4.0.0a1->gcsfs) (4.0.2)\n",
            "Requirement already satisfied: multidict<7.0,>=4.5 in /usr/local/lib/python3.8/dist-packages (from aiohttp!=4.0.0a0,!=4.0.0a1->gcsfs) (6.0.4)\n",
            "Requirement already satisfied: aiosignal>=1.1.2 in /usr/local/lib/python3.8/dist-packages (from aiohttp!=4.0.0a0,!=4.0.0a1->gcsfs) (1.3.1)\n",
            "Requirement already satisfied: attrs>=17.3.0 in /usr/local/lib/python3.8/dist-packages (from aiohttp!=4.0.0a0,!=4.0.0a1->gcsfs) (22.2.0)\n",
            "Requirement already satisfied: yarl<2.0,>=1.0 in /usr/local/lib/python3.8/dist-packages (from aiohttp!=4.0.0a0,!=4.0.0a1->gcsfs) (1.8.2)\n",
            "Requirement already satisfied: frozenlist>=1.1.1 in /usr/local/lib/python3.8/dist-packages (from aiohttp!=4.0.0a0,!=4.0.0a1->gcsfs) (1.3.3)\n",
            "Requirement already satisfied: rsa<5,>=3.1.4 in /usr/local/lib/python3.8/dist-packages (from google-auth>=1.2->gcsfs) (4.9)\n",
            "Requirement already satisfied: pyasn1-modules>=0.2.1 in /usr/local/lib/python3.8/dist-packages (from google-auth>=1.2->gcsfs) (0.2.8)\n",
            "Requirement already satisfied: cachetools<6.0,>=2.0.0 in /usr/local/lib/python3.8/dist-packages (from google-auth>=1.2->gcsfs) (5.2.1)\n",
            "Requirement already satisfied: six>=1.9.0 in /usr/local/lib/python3.8/dist-packages (from google-auth>=1.2->gcsfs) (1.15.0)\n",
            "Requirement already satisfied: requests-oauthlib>=0.7.0 in /usr/local/lib/python3.8/dist-packages (from google-auth-oauthlib->gcsfs) (1.3.1)\n",
            "Requirement already satisfied: google-cloud-core<3.0dev,>=2.3.0 in /usr/local/lib/python3.8/dist-packages (from google-cloud-storage->gcsfs) (2.3.2)\n",
            "Requirement already satisfied: google-resumable-media>=2.3.2 in /usr/local/lib/python3.8/dist-packages (from google-cloud-storage->gcsfs) (2.4.0)\n",
            "Requirement already satisfied: google-api-core!=2.0.*,!=2.1.*,!=2.2.*,!=2.3.0,<3.0.0dev,>=1.31.5 in /usr/local/lib/python3.8/dist-packages (from google-cloud-storage->gcsfs) (2.11.0)\n",
            "Requirement already satisfied: urllib3<1.27,>=1.21.1 in /usr/local/lib/python3.8/dist-packages (from requests->gcsfs) (1.24.3)\n",
            "Requirement already satisfied: idna<3,>=2.5 in /usr/local/lib/python3.8/dist-packages (from requests->gcsfs) (2.10)\n",
            "Requirement already satisfied: certifi>=2017.4.17 in /usr/local/lib/python3.8/dist-packages (from requests->gcsfs) (2022.12.7)\n",
            "Requirement already satisfied: chardet<5,>=3.0.2 in /usr/local/lib/python3.8/dist-packages (from requests->gcsfs) (4.0.0)\n",
            "Requirement already satisfied: googleapis-common-protos<2.0dev,>=1.56.2 in /usr/local/lib/python3.8/dist-packages (from google-api-core!=2.0.*,!=2.1.*,!=2.2.*,!=2.3.0,<3.0.0dev,>=1.31.5->google-cloud-storage->gcsfs) (1.58.0)\n",
            "Requirement already satisfied: protobuf!=3.20.0,!=3.20.1,!=4.21.0,!=4.21.1,!=4.21.2,!=4.21.3,!=4.21.4,!=4.21.5,<5.0.0dev,>=3.19.5 in /usr/local/lib/python3.8/dist-packages (from google-api-core!=2.0.*,!=2.1.*,!=2.2.*,!=2.3.0,<3.0.0dev,>=1.31.5->google-cloud-storage->gcsfs) (3.19.6)\n",
            "Requirement already satisfied: google-crc32c<2.0dev,>=1.0 in /usr/local/lib/python3.8/dist-packages (from google-resumable-media>=2.3.2->google-cloud-storage->gcsfs) (1.5.0)\n",
            "Requirement already satisfied: pyasn1<0.5.0,>=0.4.6 in /usr/local/lib/python3.8/dist-packages (from pyasn1-modules>=0.2.1->google-auth>=1.2->gcsfs) (0.4.8)\n",
            "Requirement already satisfied: oauthlib>=3.0.0 in /usr/local/lib/python3.8/dist-packages (from requests-oauthlib>=0.7.0->google-auth-oauthlib->gcsfs) (3.2.2)\n",
            "Installing collected packages: gcsfs\n",
            "Successfully installed gcsfs-2022.11.0\n",
            "Looking in indexes: https://pypi.org/simple, https://us-python.pkg.dev/colab-wheels/public/simple/\n",
            "Collecting pandera\n",
            "  Downloading pandera-0.13.4-py3-none-any.whl (122 kB)\n",
            "\u001b[2K     \u001b[90m━━━━━━━━━━━━━━━━━━━━━━━━━━━━━━━━━━━━━━━\u001b[0m \u001b[32m122.4/122.4 KB\u001b[0m \u001b[31m5.0 MB/s\u001b[0m eta \u001b[36m0:00:00\u001b[0m\n",
            "\u001b[?25hRequirement already satisfied: pydantic in /usr/local/lib/python3.8/dist-packages (from pandera) (1.10.4)\n",
            "Collecting typing-inspect>=0.6.0\n",
            "  Downloading typing_inspect-0.8.0-py3-none-any.whl (8.7 kB)\n",
            "Requirement already satisfied: packaging>=20.0 in /usr/local/lib/python3.8/dist-packages (from pandera) (21.3)\n",
            "Requirement already satisfied: pandas>=1.2.0 in /usr/local/lib/python3.8/dist-packages (from pandera) (1.3.5)\n",
            "Requirement already satisfied: numpy>=1.19.0 in /usr/local/lib/python3.8/dist-packages (from pandera) (1.21.6)\n",
            "Requirement already satisfied: wrapt in /usr/local/lib/python3.8/dist-packages (from pandera) (1.14.1)\n",
            "Requirement already satisfied: pyparsing!=3.0.5,>=2.0.2 in /usr/local/lib/python3.8/dist-packages (from packaging>=20.0->pandera) (3.0.9)\n",
            "Requirement already satisfied: pytz>=2017.3 in /usr/local/lib/python3.8/dist-packages (from pandas>=1.2.0->pandera) (2022.7)\n",
            "Requirement already satisfied: python-dateutil>=2.7.3 in /usr/local/lib/python3.8/dist-packages (from pandas>=1.2.0->pandera) (2.8.2)\n",
            "Collecting mypy-extensions>=0.3.0\n",
            "  Downloading mypy_extensions-0.4.3-py2.py3-none-any.whl (4.5 kB)\n",
            "Requirement already satisfied: typing-extensions>=3.7.4 in /usr/local/lib/python3.8/dist-packages (from typing-inspect>=0.6.0->pandera) (4.4.0)\n",
            "Requirement already satisfied: six>=1.5 in /usr/local/lib/python3.8/dist-packages (from python-dateutil>=2.7.3->pandas>=1.2.0->pandera) (1.15.0)\n",
            "Installing collected packages: mypy-extensions, typing-inspect, pandera\n",
            "Successfully installed mypy-extensions-0.4.3 pandera-0.13.4 typing-inspect-0.8.0\n"
          ]
        }
      ],
      "source": [
        "!pip install pyspark\n",
        "!pip install gcsfs # instalação da biblioteca da GC Storage\n",
        "!pip install pandera"
      ]
    },
    {
      "cell_type": "code",
      "source": [
        "#importação da biblioteca da google cloud storage e o sistema operacional\n",
        "import pandas as pd\n",
        "from pyspark.sql import SparkSession\n",
        "from google.cloud import storage\n",
        "import os\n",
        "import pyspark.sql.functions as F\n",
        "import numpy as np\n",
        "import pandera as pa\n",
        "from pyspark.sql.types import *"
      ],
      "metadata": {
        "id": "O7Y_KAt_VQbt"
      },
      "execution_count": 2,
      "outputs": []
    },
    {
      "cell_type": "code",
      "source": [
        "#configuração da conta\n",
        "serviceAccount = '/content/sc-bc26-ed7-adb0dc2607d9.json'\n",
        "os.environ['GOOGLE_APPLICATION_CREDENTIALS'] = serviceAccount"
      ],
      "metadata": {
        "id": "98_1ydiqV09G"
      },
      "execution_count": 3,
      "outputs": []
    },
    {
      "cell_type": "code",
      "source": [
        "# criando o acesso e definindo uma variável para representá-lo\n",
        "client = storage.Client()\n",
        "bucket = client.get_bucket('datalake-soulcode-ed7')\n",
        "\n",
        "#acessando o arquivo\n",
        "bucket.blob('arquivos soulcode/spotify.csv')\n",
        "\n",
        "#criando uma variável para acesar o caminho, via gsutil URI que está nos detalhes do arquivo\n",
        "path = 'gs://datalake-soulcode-ed7/arquivos soulcode/spotify.csv'"
      ],
      "metadata": {
        "id": "W1nbw-hGYnC8"
      },
      "execution_count": 4,
      "outputs": []
    },
    {
      "cell_type": "code",
      "source": [
        "# essa spark.jars é padrão para quando fizer isso com o storage\n",
        "spark = (\n",
        "    SparkSession.builder\n",
        "                .master('local')\n",
        "                .appName('gcsfs')\n",
        "                .config('spark.ui.port', '4050')\n",
        "                .config(\"spark.jars\", 'https://storage.googleapis.com/hadoop-lib/gcs/gcs-connector-hadoop2-latest.jar')\n",
        "                .getOrCreate()\n",
        ")"
      ],
      "metadata": {
        "id": "6spBLBvRb_TG"
      },
      "execution_count": 5,
      "outputs": []
    },
    {
      "cell_type": "code",
      "source": [
        "esquema = (\n",
        "          StructType([\n",
        "          StructField('Unnamed: 0', IntegerType()),\n",
        "\t        StructField('track_id', StringType()),\n",
        "          StructField('artists', StringType()),\n",
        "          StructField('album_name', StringType()),\n",
        "          StructField('track_name', StringType()),\n",
        "          StructField('popularity', IntegerType(), True),\n",
        "          StructField('duration_ms', StringType(), True),\n",
        "          StructField('explicit', StringType(),True),\n",
        "          StructField('danceability', FloatType(),True),\n",
        "          StructField('energy', FloatType(),True),\n",
        "          StructField('key', StringType(),True),\n",
        "          StructField('loudness', FloatType(),True),\n",
        "          StructField('mode', StringType(),True),\n",
        "          StructField('speechiness', StringType(),True),\n",
        "          StructField('acousticness',StringType(),True),\n",
        "          StructField('instrumentalness', StringType(),True),\n",
        "          StructField('liveness', StringType(),True),\n",
        "          StructField('valence', StringType(),True),\n",
        "          StructField('tempo', FloatType(),True),\n",
        "          StructField('time_signature', IntegerType(),True),\n",
        "          StructField('track_genre', StringType())\n",
        "          ])\n",
        ")\n",
        "          "
      ],
      "metadata": {
        "id": "sjQWn9WKYzvv"
      },
      "execution_count": 6,
      "outputs": []
    },
    {
      "cell_type": "code",
      "source": [
        "df_pand = pd.read_csv(path)"
      ],
      "metadata": {
        "id": "nFhcI-w9kWIX"
      },
      "execution_count": 7,
      "outputs": []
    },
    {
      "cell_type": "code",
      "source": [
        "df = spark.createDataFrame(df_pand,schema=esquema)"
      ],
      "metadata": {
        "id": "cZfyn139WIye"
      },
      "execution_count": 8,
      "outputs": []
    },
    {
      "cell_type": "code",
      "source": [
        "df.show()"
      ],
      "metadata": {
        "colab": {
          "base_uri": "https://localhost:8080/"
        },
        "id": "ednCs2IvhbPp",
        "outputId": "d1732a20-8550-4884-c3ce-055ec518e76b"
      },
      "execution_count": 9,
      "outputs": [
        {
          "output_type": "stream",
          "name": "stdout",
          "text": [
            "+----------+--------------------+--------------------+--------------------+--------------------+----------+-----------+--------+------------+------+---+--------+----+-----------+------------+----------------+--------+-------+-------+--------------+-----------+\n",
            "|Unnamed: 0|            track_id|             artists|          album_name|          track_name|popularity|duration_ms|explicit|danceability|energy|key|loudness|mode|speechiness|acousticness|instrumentalness|liveness|valence|  tempo|time_signature|track_genre|\n",
            "+----------+--------------------+--------------------+--------------------+--------------------+----------+-----------+--------+------------+------+---+--------+----+-----------+------------+----------------+--------+-------+-------+--------------+-----------+\n",
            "|         0|5SuOikwiRyPMVoIQD...|         Gen Hoshino|              Comedy|              Comedy|        73|     230666|   false|       0.676| 0.461|  1|  -6.746|   0|      0.143|      0.0322|         1.01E-6|   0.358|  0.715| 87.917|             4|   acoustic|\n",
            "|         1|4qPNDBW1i3p13qLCt...|        Ben Woodward|    Ghost (Acoustic)|    Ghost - Acoustic|        55|     149610|   false|        0.42| 0.166|  1| -17.235|   1|     0.0763|       0.924|         5.56E-6|   0.101|  0.267| 77.489|             4|   acoustic|\n",
            "|         2|1iJBSr7s7jYXzM8EG...|Ingrid Michaelson...|      To Begin Again|      To Begin Again|        57|     210826|   false|       0.438| 0.359|  0|  -9.734|   1|     0.0557|        0.21|             0.0|   0.117|   0.12| 76.332|             4|   acoustic|\n",
            "|         3|6lfxq3CG4xtTiEg7o...|        Kina Grannis|Crazy Rich Asians...|Can't Help Fallin...|        71|     201933|   false|       0.266|0.0596|  0| -18.515|   1|     0.0363|       0.905|         7.07E-5|   0.132|  0.143| 181.74|             3|   acoustic|\n",
            "|         4|5vjLSffimiIP26QG5...|    Chord Overstreet|             Hold On|             Hold On|        82|     198853|   false|       0.618| 0.443|  2|  -9.681|   1|     0.0526|       0.469|             0.0|  0.0829|  0.167|119.949|             4|   acoustic|\n",
            "|         5|01MVOl9KtVTNfFiBU...|        Tyrone Wells|Days I Will Remember|Days I Will Remember|        58|     214240|   false|       0.688| 0.481|  6|  -8.807|   1|      0.105|       0.289|             0.0|   0.189|  0.666| 98.017|             4|   acoustic|\n",
            "|         6|6Vc5wAMmXdKIAM7WU...|A Great Big World...|Is There Anybody ...|       Say Something|        74|     229400|   false|       0.407| 0.147|  2|  -8.822|   1|     0.0355|       0.857|         2.89E-6|  0.0913| 0.0765|141.284|             3|   acoustic|\n",
            "|         7|1EzrEOXmMH3G43AXT...|          Jason Mraz|We Sing. We Dance...|           I'm Yours|        80|     242946|   false|       0.703| 0.444| 11|  -9.331|   1|     0.0417|       0.559|             0.0|  0.0973|  0.712| 150.96|             4|   acoustic|\n",
            "|         8|0IktbUcnAGrvD03AW...|Jason Mraz;Colbie...|We Sing. We Dance...|               Lucky|        74|     189613|   false|       0.625| 0.414|  0|    -8.7|   1|     0.0369|       0.294|             0.0|   0.151|  0.669|130.088|             4|   acoustic|\n",
            "|         9|7k9GuJYLp2AzqokyE...|      Ross Copperman|              Hunger|              Hunger|        56|     205594|   false|       0.442| 0.632|  1|   -6.77|   1|     0.0295|       0.426|         0.00419|  0.0735|  0.196| 78.899|             4|   acoustic|\n",
            "|        10|4mzP5mHkRvGxdhdGd...|        Zack Tabudlo|             Episode|Give Me Your Forever|        74|     244800|   false|       0.627| 0.363|  8|  -8.127|   1|     0.0291|       0.279|             0.0|  0.0928|  0.301| 99.905|             4|   acoustic|\n",
            "|        11|5ivF4eQBqJiVL5IAE...|          Jason Mraz|Love Is a Four Le...|     I Won't Give Up|        69|     240165|   false|       0.483| 0.303|  4| -10.058|   1|     0.0429|       0.694|             0.0|   0.115|  0.139|133.406|             3|   acoustic|\n",
            "|        12|4ptDJbJl35d7gQfeN...|            Dan Berk|                Solo|                Solo|        52|     198712|   false|       0.489| 0.314|  7|  -9.245|   0|     0.0331|       0.749|             0.0|   0.113|  0.607|124.234|             4|   acoustic|\n",
            "|        13|0X9MxHR1rTkEHDjp9...|       Anna Hamilton|            Bad Liar|            Bad Liar|        62|     248448|   false|       0.691| 0.234|  3|  -6.441|   1|     0.0285|       0.777|             0.0|    0.12|  0.209| 87.103|             4|   acoustic|\n",
            "|        14|4LbWtBkN82ZRhz9jq...|Chord Overstreet;...|     Hold On (Remix)|     Hold On - Remix|        56|     188133|   false|       0.755|  0.78|  2|  -6.084|   1|     0.0327|       0.124|         2.83E-5|   0.121|  0.387|120.004|             4|   acoustic|\n",
            "|        15|1KHdq8NK9QxnGjdXb...|         Landon Pigg|   The Boy Who Never|Falling in Love a...|        58|     244986|   false|       0.489| 0.561|  4|  -7.933|   1|     0.0274|         0.2|         4.56E-5|   0.179|  0.238| 83.457|             3|   acoustic|\n",
            "|        16|6xKeQgzfjixSUld14...|Andrew Foy;Renee Foy|ily (i love you b...|ily (i love you b...|        56|     129750|   false|       0.706| 0.112|  2| -18.098|   1|     0.0391|       0.827|         4.03E-6|   0.125|  0.414|110.154|             4|   acoustic|\n",
            "|        17|4Yo0igmcoNyat1sec...|Andrew Foy;Renee Foy|         At My Worst|         At My Worst|        54|     169728|   false|       0.795|0.0841| 10|  -18.09|   0|     0.0461|       0.742|         1.17E-5|  0.0853|  0.609| 91.803|             4|   acoustic|\n",
            "|        18|2qLMf6TuEC3ruGJg4...|Jason Mraz;Colbie...|We Sing. We Dance...|               Lucky|        68|     189613|   false|       0.625| 0.414|  0|    -8.7|   1|     0.0369|       0.294|             0.0|   0.151|  0.669|130.088|             4|   acoustic|\n",
            "|        19|6CgNoAbFJ4Q4Id4Ej...|Boyce Avenue;Bea ...|Cover Sessions, V...|          Photograph|        67|     260186|   false|       0.717|  0.32|  3|  -8.393|   1|     0.0283|        0.83|             0.0|   0.107|  0.322|107.946|             4|   acoustic|\n",
            "+----------+--------------------+--------------------+--------------------+--------------------+----------+-----------+--------+------------+------+---+--------+----+-----------+------------+----------------+--------+-------+-------+--------------+-----------+\n",
            "only showing top 20 rows\n",
            "\n"
          ]
        }
      ]
    },
    {
      "cell_type": "markdown",
      "source": [
        "# TRATAMENTOS DOS DADOS"
      ],
      "metadata": {
        "id": "91oD603CnP9v"
      }
    },
    {
      "cell_type": "markdown",
      "source": [
        "ATIVIDADE SPARK - SPOTIFY\n",
        "\n",
        "1. RENOMEAR TODAS AS COLUNAS (TRADUZINDO PARA O PORTUGUÊS) \n",
        "2. FAÇA UMA ANÁLISE INICIAL, ORDENANDO POR COLUNAS DE FORMA ASCENDENTE E DESCENDENTE \n",
        "3. VERIFIQUE SE HÁ ALGUMA COLUNA QUE NÃO TENHA INFORMAÇÃO RELEVANTE E FAÇA UM DROP \n",
        "4. VERIFIQUE SE HÁ LINHAS DUPLICADAS (DUPLICATAS) E REMOVA-AS. \n",
        "5. VERIFIQUE SE HÁ DADOS INCONSISTENTES \n",
        "6. REMOVA AS INCONSISTÊNCIAS \n",
        "7. VERIFIQUE OS TIPOS DE DADOS DAS COLUNAS, E COLOQUE PARA UM TIPO MAIS ADEQUADO. \n",
        "8. FAÇA OUTRAS VERIFICAÇÕES DE ACORDO COM A SUA EXPERIÊNCIA EM PANDAS. \n",
        "9. ENCONTRE ALGUMAS ANÁLISES INTERESSANTES UTILIZANDO AS FUNÇÕES DO SPARK VISTAS EM AULA E LISTE PELO MENOS 5 DESSAS."
      ],
      "metadata": {
        "id": "Z_R2UCvApCI0"
      }
    },
    {
      "cell_type": "code",
      "source": [
        "# fazendo um backup do Dataframe inicial\n",
        "dfbackup = df"
      ],
      "metadata": {
        "id": "4LFdsy1TxXCi"
      },
      "execution_count": 10,
      "outputs": []
    },
    {
      "cell_type": "code",
      "source": [
        "df = dfbackup"
      ],
      "metadata": {
        "id": "GaX7FTCOSh5M"
      },
      "execution_count": 11,
      "outputs": []
    },
    {
      "cell_type": "markdown",
      "source": [
        "## RENOMEAÇÃO DE TODAS AS COLUNAS"
      ],
      "metadata": {
        "id": "sG-57gpkviD9"
      }
    },
    {
      "cell_type": "code",
      "source": [
        "df.dtypes"
      ],
      "metadata": {
        "colab": {
          "base_uri": "https://localhost:8080/"
        },
        "id": "yqPs3NB_lGTY",
        "outputId": "4cb60a0c-274e-4bad-806d-0f4b84de455f"
      },
      "execution_count": 12,
      "outputs": [
        {
          "output_type": "execute_result",
          "data": {
            "text/plain": [
              "[('Unnamed: 0', 'int'),\n",
              " ('track_id', 'string'),\n",
              " ('artists', 'string'),\n",
              " ('album_name', 'string'),\n",
              " ('track_name', 'string'),\n",
              " ('popularity', 'int'),\n",
              " ('duration_ms', 'string'),\n",
              " ('explicit', 'string'),\n",
              " ('danceability', 'float'),\n",
              " ('energy', 'float'),\n",
              " ('key', 'string'),\n",
              " ('loudness', 'float'),\n",
              " ('mode', 'string'),\n",
              " ('speechiness', 'string'),\n",
              " ('acousticness', 'string'),\n",
              " ('instrumentalness', 'string'),\n",
              " ('liveness', 'string'),\n",
              " ('valence', 'string'),\n",
              " ('tempo', 'float'),\n",
              " ('time_signature', 'int'),\n",
              " ('track_genre', 'string')]"
            ]
          },
          "metadata": {},
          "execution_count": 12
        }
      ]
    },
    {
      "cell_type": "code",
      "source": [
        "df = df.drop('track_id', 'time_signature')"
      ],
      "metadata": {
        "id": "bHmMU8zcrCk5"
      },
      "execution_count": 13,
      "outputs": []
    },
    {
      "cell_type": "code",
      "source": [
        "df = (df.withColumnRenamed('Unnamed: 0','id_musica')\n",
        "        .withColumnRenamed('track_name','nome')\n",
        "        .withColumnRenamed('popularity','popularidade')\n",
        "        .withColumnRenamed('duration_ms','duracao_ms')\n",
        "        .withColumnRenamed('acousticness','nivel_acustico')\n",
        "        .withColumnRenamed('danceability','dancabilidade')\n",
        "        .withColumnRenamed('explicit','cont_explic')\n",
        "        .withColumnRenamed('energy','energia')\n",
        "        .withColumnRenamed('instrumentalness','nivel_instrumental')\n",
        "        .withColumnRenamed('key','tom_musical')\n",
        "        .withColumnRenamed('liveness','nivel_aovivo')\n",
        "        .withColumnRenamed('loudness','volume_db')\n",
        "        .withColumnRenamed('mode','esc_melodica')\n",
        "        .withColumnRenamed('speechiness','nivel_fala')\n",
        "        .withColumnRenamed('valence','positividade')\n",
        "        .withColumnRenamed('tempo','compasso')\n",
        "        .withColumnRenamed('artists','artistas')\n",
        "        .withColumnRenamed('album_name','album')\n",
        "        .withColumnRenamed('track_genre','genero')\n",
        ")\n"
      ],
      "metadata": {
        "id": "Yku7lYa_rTBU"
      },
      "execution_count": 14,
      "outputs": []
    },
    {
      "cell_type": "code",
      "source": [
        "df.show(2)"
      ],
      "metadata": {
        "colab": {
          "base_uri": "https://localhost:8080/"
        },
        "id": "7cXpvADbujp6",
        "outputId": "b12b9021-d5a1-4272-a573-995eaa6ee324"
      },
      "execution_count": 15,
      "outputs": [
        {
          "output_type": "stream",
          "name": "stdout",
          "text": [
            "+---------+------------+----------------+----------------+------------+----------+-----------+-------------+-------+-----------+---------+------------+----------+--------------+------------------+------------+------------+--------+--------+\n",
            "|id_musica|    artistas|           album|            nome|popularidade|duracao_ms|cont_explic|dancabilidade|energia|tom_musical|volume_db|esc_melodica|nivel_fala|nivel_acustico|nivel_instrumental|nivel_aovivo|positividade|compasso|  genero|\n",
            "+---------+------------+----------------+----------------+------------+----------+-----------+-------------+-------+-----------+---------+------------+----------+--------------+------------------+------------+------------+--------+--------+\n",
            "|        0| Gen Hoshino|          Comedy|          Comedy|          73|    230666|      false|        0.676|  0.461|          1|   -6.746|           0|     0.143|        0.0322|           1.01E-6|       0.358|       0.715|  87.917|acoustic|\n",
            "|        1|Ben Woodward|Ghost (Acoustic)|Ghost - Acoustic|          55|    149610|      false|         0.42|  0.166|          1|  -17.235|           1|    0.0763|         0.924|           5.56E-6|       0.101|       0.267|  77.489|acoustic|\n",
            "+---------+------------+----------------+----------------+------------+----------+-----------+-------------+-------+-----------+---------+------------+----------+--------------+------------------+------------+------------+--------+--------+\n",
            "only showing top 2 rows\n",
            "\n"
          ]
        }
      ]
    },
    {
      "cell_type": "markdown",
      "source": [
        "##ANÁLISE INICIAL, ORDENANDO POR COLUNAS DE FORMA ASCENDENTE E DESCENDENTE"
      ],
      "metadata": {
        "id": "NScdUmbbvdI9"
      }
    },
    {
      "cell_type": "code",
      "source": [
        "df.select('*').orderBy('nome').show(5)"
      ],
      "metadata": {
        "colab": {
          "base_uri": "https://localhost:8080/"
        },
        "id": "wxu_KlYjvFHl",
        "outputId": "ee18ffab-5db9-4308-ca9b-b669957ac984"
      },
      "execution_count": 16,
      "outputs": [
        {
          "output_type": "stream",
          "name": "stdout",
          "text": [
            "+---------+--------------------+--------------------+--------------------+------------+----------+-----------+-------------+-------+-----------+---------+------------+----------+--------------+------------------+------------+------------+--------+----------+\n",
            "|id_musica|            artistas|               album|                nome|popularidade|duracao_ms|cont_explic|dancabilidade|energia|tom_musical|volume_db|esc_melodica|nivel_fala|nivel_acustico|nivel_instrumental|nivel_aovivo|positividade|compasso|    genero|\n",
            "+---------+--------------------+--------------------+--------------------+------------+----------+-----------+-------------+-------+-----------+---------+------------+----------+--------------+------------------+------------+------------+--------+----------+\n",
            "|    36750|               Rilès|      !I'll Be Back!|      !I'll Be Back!|          52|    178533|       true|        0.823|  0.612|          1|   -7.767|           1|     0.248|         0.168|               0.0|       0.109|       0.688| 142.959|    french|\n",
            "|    92751|        Brian Hyland|   The Bashful Blond| \"A\" You're Adorable|          39|    151680|      false|        0.615|  0.375|          0|  -10.362|           0|    0.0319|         0.482|               0.0|       0.111|       0.922|  110.72|rockabilly|\n",
            "|    66970|   Little Apple Band|The Favorite Song...|   \"C\" IS FOR COOKIE|          32|     84305|      false|        0.553|  0.812|          3|   -5.542|           1|    0.0558|         0.132|           9.92E-6|      0.0794|       0.871| 118.368|      kids|\n",
            "|    66996|   Little Apple Band|Sesame Street and...|   \"C\" is for Cookie|           8|     86675|      false|        0.664|  0.611|          3|   -8.687|           1|    0.0886|          0.12|               0.0|      0.0408|       0.758| 118.443|      kids|\n",
            "|   101161|Traditional;Sisti...| Classical Christmas|\"Christe, Redempt...|           0|    289133|      false|        0.111| 0.0568|         10|  -28.053|           1|    0.0551|          0.99|             0.697|        0.11|      0.0395| 169.401|     sleep|\n",
            "+---------+--------------------+--------------------+--------------------+------------+----------+-----------+-------------+-------+-----------+---------+------------+----------+--------------+------------------+------------+------------+--------+----------+\n",
            "only showing top 5 rows\n",
            "\n"
          ]
        }
      ]
    },
    {
      "cell_type": "code",
      "source": [
        "df.select('*').orderBy(F.col('popularidade').desc()).show(5)"
      ],
      "metadata": {
        "colab": {
          "base_uri": "https://localhost:8080/"
        },
        "id": "5JXOdouSvqxB",
        "outputId": "4a7b2a50-c4a6-4c00-b77a-9ffdaee76353"
      },
      "execution_count": 17,
      "outputs": [
        {
          "output_type": "stream",
          "name": "stdout",
          "text": [
            "+---------+--------------------+--------------------+--------------------+------------+----------+-----------+-------------+-------+-----------+---------+------------+----------+--------------+------------------+------------+------------+--------+-------+\n",
            "|id_musica|            artistas|               album|                nome|popularidade|duracao_ms|cont_explic|dancabilidade|energia|tom_musical|volume_db|esc_melodica|nivel_fala|nivel_acustico|nivel_instrumental|nivel_aovivo|positividade|compasso| genero|\n",
            "+---------+--------------------+--------------------+--------------------+------------+----------+-----------+-------------+-------+-----------+---------+------------+----------+--------------+------------------+------------+------------+--------+-------+\n",
            "|    81051|Sam Smith;Kim Petras|Unholy (feat. Kim...|Unholy (feat. Kim...|         100|    156943|      false|        0.714|  0.472|          2|   -7.375|           1|    0.0864|         0.013|           4.51E-6|       0.266|       0.238| 131.121|    pop|\n",
            "|    20001|Sam Smith;Kim Petras|Unholy (feat. Kim...|Unholy (feat. Kim...|         100|    156943|      false|        0.714|  0.472|          2|   -7.375|           1|    0.0864|         0.013|           4.51E-6|       0.266|       0.238| 131.121|  dance|\n",
            "|    51664|    Bizarrap;Quevedo|Quevedo: Bzrp Mus...|Quevedo: Bzrp Mus...|          99|    198937|      false|        0.621|  0.782|          2|   -5.548|           1|     0.044|        0.0125|             0.033|        0.23|        0.55| 128.033|hip-hop|\n",
            "|    67356|       Manuel Turizo|          La Bachata|          La Bachata|          98|    162637|      false|        0.835|  0.679|          7|   -5.329|           0|    0.0364|         0.583|           1.98E-6|       0.218|        0.85|  124.98|  latin|\n",
            "|    20008|David Guetta;Bebe...|     I'm Good (Blue)|     I'm Good (Blue)|          98|    175238|       true|        0.561|  0.965|          7|   -3.673|           0|    0.0343|       0.00383|           7.07E-6|       0.371|       0.304|  128.04|  dance|\n",
            "+---------+--------------------+--------------------+--------------------+------------+----------+-----------+-------------+-------+-----------+---------+------------+----------+--------------+------------------+------------+------------+--------+-------+\n",
            "only showing top 5 rows\n",
            "\n"
          ]
        }
      ]
    },
    {
      "cell_type": "code",
      "source": [
        "# Reorganização de colunas\n",
        "df = df.select(['id_musica','nome','artistas','album','duracao_ms','popularidade','cont_explic','tom_musical','esc_melodica',\n",
        "                'dancabilidade','energia','volume_db','nivel_fala','nivel_acustico','nivel_instrumental','nivel_aovivo','positividade',\n",
        "                'compasso','genero'])"
      ],
      "metadata": {
        "id": "nCXicZ3gH8x4"
      },
      "execution_count": 18,
      "outputs": []
    },
    {
      "cell_type": "markdown",
      "source": [
        "## VERIFICAÇÃO DE LINHAS DUPLICADAS (DUPLICATAS)"
      ],
      "metadata": {
        "id": "zYqcrsY4wNyQ"
      }
    },
    {
      "cell_type": "code",
      "source": [
        "# Verificando o número de linhas antes da verificação de duplicidades\n",
        "df.count()"
      ],
      "metadata": {
        "colab": {
          "base_uri": "https://localhost:8080/"
        },
        "id": "b7zIAJmbxSgD",
        "outputId": "6559f1c5-06c8-4ccb-fc28-b8fbe6f7804b"
      },
      "execution_count": 19,
      "outputs": [
        {
          "output_type": "execute_result",
          "data": {
            "text/plain": [
              "114000"
            ]
          },
          "metadata": {},
          "execution_count": 19
        }
      ]
    },
    {
      "cell_type": "code",
      "source": [
        "# Vê-se que há músicas repetidas\n",
        "dfcont = df.groupBy('nome').count()\n",
        "dfcont.sort(dfcont['count'].desc()).show(truncate=False)"
      ],
      "metadata": {
        "colab": {
          "base_uri": "https://localhost:8080/"
        },
        "id": "NJgZHXrkaIhX",
        "outputId": "0bfe5768-d110-4d71-cfd5-c5277b6d9b67"
      },
      "execution_count": 20,
      "outputs": [
        {
          "output_type": "stream",
          "name": "stdout",
          "text": [
            "+---------------------------------+-----+\n",
            "|nome                             |count|\n",
            "+---------------------------------+-----+\n",
            "|Run Rudolph Run                  |151  |\n",
            "|Halloween                        |88   |\n",
            "|Frosty The Snowman               |81   |\n",
            "|Little Saint Nick - 1991 Remix   |76   |\n",
            "|Last Last                        |75   |\n",
            "|Christmas Time                   |72   |\n",
            "|CÓMO SE SIENTE - Remix           |64   |\n",
            "|Sleigh Ride                      |61   |\n",
            "|RUMBATÓN                         |60   |\n",
            "|X ÚLTIMA VEZ                     |58   |\n",
            "|Ley Seca                         |54   |\n",
            "|Feliz Cumpleaños Ferxxo          |54   |\n",
            "|Rudolph The Red-Nosed Reindeer   |52   |\n",
            "|Christmas All Over Again         |52   |\n",
            "|On Repeat                        |52   |\n",
            "|Qué Más Pues?                    |51   |\n",
            "|Hot in It                        |51   |\n",
            "|Christmas Without You            |51   |\n",
            "|Rockin' Around The Christmas Tree|49   |\n",
            "|Secreto                          |47   |\n",
            "+---------------------------------+-----+\n",
            "only showing top 20 rows\n",
            "\n"
          ]
        }
      ]
    },
    {
      "cell_type": "code",
      "source": [
        "# usando a música 'Halloween' como exemplo vê-se que há duplicidades. O que muda é o ID, será dropado e adicionado quando for manipulado com pandas.\n",
        "# também nota-se que há músicas iguais mudando-se apenas o nome do álbum e gênero\n",
        "df.filter(df.nome == 'Halloween').show(20)"
      ],
      "metadata": {
        "colab": {
          "base_uri": "https://localhost:8080/"
        },
        "id": "7Xw1x5C5h8AK",
        "outputId": "234064c1-abe4-45ce-fbea-864abce5456e"
      },
      "execution_count": 21,
      "outputs": [
        {
          "output_type": "stream",
          "name": "stdout",
          "text": [
            "+---------+---------+--------------------+--------------------+----------+------------+-----------+-----------+------------+-------------+-------+---------+----------+--------------+------------------+------------+------------+--------+-----------+\n",
            "|id_musica|     nome|            artistas|               album|duracao_ms|popularidade|cont_explic|tom_musical|esc_melodica|dancabilidade|energia|volume_db|nivel_fala|nivel_acustico|nivel_instrumental|nivel_aovivo|positividade|compasso|     genero|\n",
            "+---------+---------+--------------------+--------------------+----------+------------+-----------+-----------+------------+-------------+-------+---------+----------+--------------+------------------+------------+------------+--------+-----------+\n",
            "|     2783|Halloween|Siouxsie and the ...|Halloween Scary P...|    221466|           0|      false|          7|           1|        0.223|   0.91|   -7.097|      0.08|        0.0116|           5.18E-4|       0.212|       0.364|  171.75|   alt-rock|\n",
            "|     2787|Halloween|Siouxsie and the ...|Halloween Songs |...|    221466|           1|      false|          7|           1|        0.223|   0.91|   -7.097|      0.08|        0.0116|           5.18E-4|       0.212|       0.364|  171.75|   alt-rock|\n",
            "|     2788|Halloween|Siouxsie and the ...|    Rock & Halloween|    221466|           2|      false|          7|           1|        0.223|   0.91|   -7.097|      0.08|        0.0116|           5.18E-4|       0.212|       0.364|  171.75|   alt-rock|\n",
            "|     2790|Halloween|Siouxsie and the ...|Anthems for Witch...|    221466|           0|      false|          7|           1|        0.223|   0.91|   -7.097|      0.08|        0.0116|           5.18E-4|       0.212|       0.364|  171.75|   alt-rock|\n",
            "|     2793|Halloween|Siouxsie and the ...|Happy Haunted Hal...|    221466|           1|      false|          7|           1|        0.223|   0.91|   -7.097|      0.08|        0.0116|           5.18E-4|       0.212|       0.364|  171.75|   alt-rock|\n",
            "|     3834|Halloween|                 AFI|    Rock & Halloween|    238106|           1|      false|         11|           0|        0.286|  0.929|   -8.494|     0.091|       0.00231|            7.4E-4|      0.0946|       0.127|  99.762|alternative|\n",
            "|     3835|Halloween|                 AFI| Spooky Scary Season|    238106|           0|      false|         11|           0|        0.286|  0.929|   -8.494|     0.091|       0.00231|            7.4E-4|      0.0946|       0.127|  99.762|alternative|\n",
            "|     3836|Halloween|                 AFI|Halloween Songs |...|    238106|           0|      false|         11|           0|        0.286|  0.929|   -8.494|     0.091|       0.00231|            7.4E-4|      0.0946|       0.127|  99.762|alternative|\n",
            "|     3837|Halloween|                 AFI|Halloween Scary P...|    238106|           0|      false|         11|           0|        0.286|  0.929|   -8.494|     0.091|       0.00231|            7.4E-4|      0.0946|       0.127|  99.762|alternative|\n",
            "|     3838|Halloween|                 AFI|Halloween Kids Pa...|    238106|           0|      false|         11|           0|        0.286|  0.929|   -8.494|     0.091|       0.00231|            7.4E-4|      0.0946|       0.127|  99.762|alternative|\n",
            "|     3840|Halloween|                 AFI|Happy Haunted Hal...|    238106|           2|      false|         11|           0|        0.286|  0.929|   -8.494|     0.091|       0.00231|            7.4E-4|      0.0946|       0.127|  99.762|alternative|\n",
            "|     4175|Halloween|           Novo Amor|Cannot Be, Whatso...|    154773|          63|      false|          5|           1|        0.649|  0.467|   -6.589|    0.0304|         0.874|           1.68E-5|       0.114|       0.353| 106.549|    ambient|\n",
            "|    18033|Halloween|       Stephen Lynch|   The Craig Machine|    166106|          30|      false|          9|           0|        0.336|  0.397|   -8.717|    0.0606|         0.693|               0.0|       0.886|       0.355| 174.686|     comedy|\n",
            "|    33143|Halloween|                 AFI|    Rock & Halloween|    238106|           1|      false|         11|           0|        0.286|  0.929|   -8.494|     0.091|       0.00231|            7.4E-4|      0.0946|       0.127|  99.762|        emo|\n",
            "|    33144|Halloween|                 AFI| Spooky Scary Season|    238106|           0|      false|         11|           0|        0.286|  0.929|   -8.494|     0.091|       0.00231|            7.4E-4|      0.0946|       0.127|  99.762|        emo|\n",
            "|    33145|Halloween|                 AFI|Halloween Songs |...|    238106|           0|      false|         11|           0|        0.286|  0.929|   -8.494|     0.091|       0.00231|            7.4E-4|      0.0946|       0.127|  99.762|        emo|\n",
            "|    33146|Halloween|                 AFI|Happy Haunted Hal...|    238106|           2|      false|         11|           0|        0.286|  0.929|   -8.494|     0.091|       0.00231|            7.4E-4|      0.0946|       0.127|  99.762|        emo|\n",
            "|    33147|Halloween|                 AFI|Halloween Scary P...|    238106|           0|      false|         11|           0|        0.286|  0.929|   -8.494|     0.091|       0.00231|            7.4E-4|      0.0946|       0.127|  99.762|        emo|\n",
            "|    33148|Halloween|                 AFI|Halloween Kids Pa...|    238106|           0|      false|         11|           0|        0.286|  0.929|   -8.494|     0.091|       0.00231|            7.4E-4|      0.0946|       0.127|  99.762|        emo|\n",
            "|    41027|Halloween|Siouxsie and the ...|    Rock & Halloween|    221466|           2|      false|          7|           1|        0.223|   0.91|   -7.097|      0.08|        0.0116|           5.18E-4|       0.212|       0.364|  171.75|       goth|\n",
            "+---------+---------+--------------------+--------------------+----------+------------+-----------+-----------+------------+-------------+-------+---------+----------+--------------+------------------+------------+------------+--------+-----------+\n",
            "only showing top 20 rows\n",
            "\n"
          ]
        }
      ]
    },
    {
      "cell_type": "code",
      "source": [
        "df = df.drop('id_musica')\n",
        "df = df.dropDuplicates()"
      ],
      "metadata": {
        "id": "DLpmb6LJikuT"
      },
      "execution_count": 22,
      "outputs": []
    },
    {
      "cell_type": "code",
      "source": [
        "# contando as linhas após o drop de duplicidades. Note que saiu de 114 mil para 113,4 mil.\n",
        "df.count()"
      ],
      "metadata": {
        "colab": {
          "base_uri": "https://localhost:8080/"
        },
        "id": "EegGHASTwbL-",
        "outputId": "0362644e-5014-4185-b23f-745508c564eb"
      },
      "execution_count": 23,
      "outputs": [
        {
          "output_type": "execute_result",
          "data": {
            "text/plain": [
              "113423"
            ]
          },
          "metadata": {},
          "execution_count": 23
        }
      ]
    },
    {
      "cell_type": "code",
      "source": [
        "# Se considerar as possíveis inconsistências por conta do gênero e diferentes álbums, pode-se notar que o número de músicas vai de 114k para 86,7k\n",
        "df2 = df\n",
        "df2 = df2.drop('genero','album')\n",
        "df2 = df2.dropDuplicates()\n",
        "df2.count()"
      ],
      "metadata": {
        "colab": {
          "base_uri": "https://localhost:8080/"
        },
        "id": "_Z42vOU4aZOC",
        "outputId": "ca8e43df-f332-4dc7-f920-2a29dbea6890"
      },
      "execution_count": 24,
      "outputs": [
        {
          "output_type": "execute_result",
          "data": {
            "text/plain": [
              "86736"
            ]
          },
          "metadata": {},
          "execution_count": 24
        }
      ]
    },
    {
      "cell_type": "markdown",
      "source": [
        "## TRATAMENTO DOS DADOS INCONSISTENTES"
      ],
      "metadata": {
        "id": "NNW6p16ryFrs"
      }
    },
    {
      "cell_type": "code",
      "source": [
        "# checando valores nulos nas colunas\n",
        "df.select([F.count(F.when(F.isnan(c) | F.col(c).isNull(), c)).alias(c) for c in df.columns]).show()"
      ],
      "metadata": {
        "colab": {
          "base_uri": "https://localhost:8080/"
        },
        "id": "WQ4tcb1rPXeE",
        "outputId": "fe7d5423-fe03-4427-f4d8-1c0cd51851af"
      },
      "execution_count": 25,
      "outputs": [
        {
          "output_type": "stream",
          "name": "stdout",
          "text": [
            "+----+--------+-----+----------+------------+-----------+-----------+------------+-------------+-------+---------+----------+--------------+------------------+------------+------------+--------+------+\n",
            "|nome|artistas|album|duracao_ms|popularidade|cont_explic|tom_musical|esc_melodica|dancabilidade|energia|volume_db|nivel_fala|nivel_acustico|nivel_instrumental|nivel_aovivo|positividade|compasso|genero|\n",
            "+----+--------+-----+----------+------------+-----------+-----------+------------+-------------+-------+---------+----------+--------------+------------------+------------+------------+--------+------+\n",
            "|   1|       1|    1|         0|           0|          0|          0|           0|            0|      0|        0|         0|             0|                 0|           0|           0|       0|     0|\n",
            "+----+--------+-----+----------+------------+-----------+-----------+------------+-------------+-------+---------+----------+--------------+------------------+------------+------------+--------+------+\n",
            "\n"
          ]
        }
      ]
    },
    {
      "cell_type": "code",
      "source": [
        "# excluindo a linha com valor nulo\n",
        "df = df.where(F.col('nome') != 'NaN')"
      ],
      "metadata": {
        "id": "RS0XOiHTQ6Ms"
      },
      "execution_count": 26,
      "outputs": []
    },
    {
      "cell_type": "code",
      "source": [
        "df.dtypes"
      ],
      "metadata": {
        "colab": {
          "base_uri": "https://localhost:8080/"
        },
        "id": "vGCuwQn5yEsL",
        "outputId": "06df5fbf-5fa4-4bfb-dd68-8f3af41d0c98"
      },
      "execution_count": 27,
      "outputs": [
        {
          "output_type": "execute_result",
          "data": {
            "text/plain": [
              "[('nome', 'string'),\n",
              " ('artistas', 'string'),\n",
              " ('album', 'string'),\n",
              " ('duracao_ms', 'string'),\n",
              " ('popularidade', 'int'),\n",
              " ('cont_explic', 'string'),\n",
              " ('tom_musical', 'string'),\n",
              " ('esc_melodica', 'string'),\n",
              " ('dancabilidade', 'float'),\n",
              " ('energia', 'float'),\n",
              " ('volume_db', 'float'),\n",
              " ('nivel_fala', 'string'),\n",
              " ('nivel_acustico', 'string'),\n",
              " ('nivel_instrumental', 'string'),\n",
              " ('nivel_aovivo', 'string'),\n",
              " ('positividade', 'string'),\n",
              " ('compasso', 'float'),\n",
              " ('genero', 'string')]"
            ]
          },
          "metadata": {},
          "execution_count": 27
        }
      ]
    },
    {
      "cell_type": "code",
      "source": [
        "# checando cada coluna a procura de inconsistências\n",
        "df.select('genero').distinct().orderBy('genero').show(100,truncate=False)"
      ],
      "metadata": {
        "colab": {
          "base_uri": "https://localhost:8080/"
        },
        "id": "x2P3KBivyqER",
        "outputId": "14fdcc19-f2b8-4cfc-d40a-64505f49e793"
      },
      "execution_count": 28,
      "outputs": [
        {
          "output_type": "stream",
          "name": "stdout",
          "text": [
            "+-----------------+\n",
            "|genero           |\n",
            "+-----------------+\n",
            "|acoustic         |\n",
            "|afrobeat         |\n",
            "|alt-rock         |\n",
            "|alternative      |\n",
            "|ambient          |\n",
            "|anime            |\n",
            "|black-metal      |\n",
            "|bluegrass        |\n",
            "|blues            |\n",
            "|brazil           |\n",
            "|breakbeat        |\n",
            "|british          |\n",
            "|cantopop         |\n",
            "|chicago-house    |\n",
            "|children         |\n",
            "|chill            |\n",
            "|classical        |\n",
            "|club             |\n",
            "|comedy           |\n",
            "|country          |\n",
            "|dance            |\n",
            "|dancehall        |\n",
            "|death-metal      |\n",
            "|deep-house       |\n",
            "|detroit-techno   |\n",
            "|disco            |\n",
            "|disney           |\n",
            "|drum-and-bass    |\n",
            "|dub              |\n",
            "|dubstep          |\n",
            "|edm              |\n",
            "|electro          |\n",
            "|electronic       |\n",
            "|emo              |\n",
            "|folk             |\n",
            "|forro            |\n",
            "|french           |\n",
            "|funk             |\n",
            "|garage           |\n",
            "|german           |\n",
            "|gospel           |\n",
            "|goth             |\n",
            "|grindcore        |\n",
            "|groove           |\n",
            "|grunge           |\n",
            "|guitar           |\n",
            "|happy            |\n",
            "|hard-rock        |\n",
            "|hardcore         |\n",
            "|hardstyle        |\n",
            "|heavy-metal      |\n",
            "|hip-hop          |\n",
            "|honky-tonk       |\n",
            "|house            |\n",
            "|idm              |\n",
            "|indian           |\n",
            "|indie            |\n",
            "|indie-pop        |\n",
            "|industrial       |\n",
            "|iranian          |\n",
            "|j-dance          |\n",
            "|j-idol           |\n",
            "|j-pop            |\n",
            "|j-rock           |\n",
            "|jazz             |\n",
            "|k-pop            |\n",
            "|kids             |\n",
            "|latin            |\n",
            "|latino           |\n",
            "|malay            |\n",
            "|mandopop         |\n",
            "|metal            |\n",
            "|metalcore        |\n",
            "|minimal-techno   |\n",
            "|mpb              |\n",
            "|new-age          |\n",
            "|opera            |\n",
            "|pagode           |\n",
            "|party            |\n",
            "|piano            |\n",
            "|pop              |\n",
            "|pop-film         |\n",
            "|power-pop        |\n",
            "|progressive-house|\n",
            "|psych-rock       |\n",
            "|punk             |\n",
            "|punk-rock        |\n",
            "|r-n-b            |\n",
            "|reggae           |\n",
            "|reggaeton        |\n",
            "|rock             |\n",
            "|rock-n-roll      |\n",
            "|rockabilly       |\n",
            "|romance          |\n",
            "|sad              |\n",
            "|salsa            |\n",
            "|samba            |\n",
            "|sertanejo        |\n",
            "|show-tunes       |\n",
            "|singer-songwriter|\n",
            "+-----------------+\n",
            "only showing top 100 rows\n",
            "\n"
          ]
        }
      ]
    },
    {
      "cell_type": "markdown",
      "source": [
        "Inconsistências iniciais encontradas: \n",
        "1. duracao_ms que deve ser int - check\n",
        "2. transformar cont_explic para boolean - check\n",
        "3. transformar tom_musical para os tons de fato, maior_ou_menor para maior ou menor - check\n",
        "4. transformar tipos de outras colunas - check \n"
      ],
      "metadata": {
        "id": "plGz4zFGza8T"
      }
    },
    {
      "cell_type": "code",
      "source": [
        "# troca de colunas para um tipo mais condizente com os dados\n",
        "df = (df.withColumn('duracao_ms',F.col('duracao_ms').cast(IntegerType()))\n",
        "        .withColumn('cont_explic',F.col('cont_explic').cast(BooleanType()))\n",
        "        .withColumn('nivel_fala',F.col('nivel_fala').cast(FloatType()))\n",
        "        .withColumn('nivel_acustico',F.col('nivel_acustico').cast(FloatType()))\n",
        "        .withColumn('nivel_instrumental',F.col('nivel_instrumental').cast(FloatType()))\n",
        "        .withColumn('nivel_aovivo',F.col('nivel_aovivo').cast(FloatType()))\n",
        "        .withColumn('positividade',F.col('positividade').cast(FloatType()))\n",
        ")"
      ],
      "metadata": {
        "id": "InIzWzE2XYTY"
      },
      "execution_count": 29,
      "outputs": []
    },
    {
      "cell_type": "code",
      "source": [
        "df.dtypes"
      ],
      "metadata": {
        "colab": {
          "base_uri": "https://localhost:8080/"
        },
        "id": "AX9DtX-s9iHj",
        "outputId": "1a44b583-bc6a-473a-b131-9275f05906f9"
      },
      "execution_count": 30,
      "outputs": [
        {
          "output_type": "execute_result",
          "data": {
            "text/plain": [
              "[('nome', 'string'),\n",
              " ('artistas', 'string'),\n",
              " ('album', 'string'),\n",
              " ('duracao_ms', 'int'),\n",
              " ('popularidade', 'int'),\n",
              " ('cont_explic', 'boolean'),\n",
              " ('tom_musical', 'string'),\n",
              " ('esc_melodica', 'string'),\n",
              " ('dancabilidade', 'float'),\n",
              " ('energia', 'float'),\n",
              " ('volume_db', 'float'),\n",
              " ('nivel_fala', 'float'),\n",
              " ('nivel_acustico', 'float'),\n",
              " ('nivel_instrumental', 'float'),\n",
              " ('nivel_aovivo', 'float'),\n",
              " ('positividade', 'float'),\n",
              " ('compasso', 'float'),\n",
              " ('genero', 'string')]"
            ]
          },
          "metadata": {},
          "execution_count": 30
        }
      ]
    },
    {
      "cell_type": "code",
      "source": [
        "# utilizando o pandas para criar um novo ID para as músicas e retornando para o pyspark\n",
        "dfpand = df.toPandas()\n",
        "dfpand.insert(0,'id_musica', 0)\n",
        "\n",
        "for i in range(len(dfpand)):\n",
        "  dfpand['id_musica'][i] = int(i)\n",
        "\n",
        "df = spark.createDataFrame(dfpand)"
      ],
      "metadata": {
        "id": "atzrgRkpuBXH"
      },
      "execution_count": null,
      "outputs": []
    },
    {
      "cell_type": "code",
      "source": [
        "df.show()"
      ],
      "metadata": {
        "colab": {
          "base_uri": "https://localhost:8080/"
        },
        "id": "LX_OgZGNkTZA",
        "outputId": "7a99e75a-14a4-4abe-99ed-45de4737aecc"
      },
      "execution_count": 33,
      "outputs": [
        {
          "output_type": "stream",
          "name": "stdout",
          "text": [
            "+---------+--------------------+--------------------+--------------------+----------+------------+-----------+-----------+------------+-------------------+-------------------+-------------------+--------------------+--------------------+--------------------+-------------------+-------------------+------------------+-----------+\n",
            "|id_musica|                nome|            artistas|               album|duracao_ms|popularidade|cont_explic|tom_musical|esc_melodica|      dancabilidade|            energia|          volume_db|          nivel_fala|      nivel_acustico|  nivel_instrumental|       nivel_aovivo|       positividade|          compasso|     genero|\n",
            "+---------+--------------------+--------------------+--------------------+----------+------------+-----------+-----------+------------+-------------------+-------------------+-------------------+--------------------+--------------------+--------------------+-------------------+-------------------+------------------+-----------+\n",
            "|        0|    Rain - Long Ver.|       Motohiro Hata|              言ノ葉|    447306|          44|      false|          9|           1| 0.5879999995231628| 0.6039999723434448|-7.6020002365112305|0.024000000208616257| 0.34299999475479126|6.859999848529696E-5|0.25200000405311584|0.35100001096725464|  92.0199966430664|   acoustic|\n",
            "|        1|              Psycho|          Harley Poe|  Have a Great Life.|    241250|          30|      false|          6|           0| 0.4580000042915344| 0.8230000138282776|  -4.26800012588501| 0.06159999966621399| 0.38199999928474426|                 0.0|0.20499999821186066|  0.421999990940094|131.63800048828125|   acoustic|\n",
            "|        2|Dancing With A St...|         Sara Farell|Dancing With A St...|    188735|          43|      false|          9|           1| 0.5950000286102295|0.18000000715255737|-11.390999794006348| 0.02979999966919422|  0.8899999856948853|                 0.0|0.11299999803304672|0.26100000739097595|  79.9219970703125|   acoustic|\n",
            "|        3|         To the Wind|     Chris Cresswell|         To the Wind|    187908|          25|      false|         11|           1| 0.4909999966621399| 0.5609999895095825| -7.224999904632568| 0.02459999918937683|  0.1080000028014183|                 0.0|0.13899999856948853| 0.2199999988079071| 151.9429931640625|   acoustic|\n",
            "|        4|          Tô Pra Ver|         Criolo;Rael|      Ainda Há Tempo|    254520|          41|      false|          8|           1| 0.6370000243186951| 0.8180000185966492|  -6.85099983215332|  0.2809999883174896|  0.1899999976158142|                 0.0|0.10199999809265137| 0.5989999771118164| 90.57099914550781|   afrobeat|\n",
            "|        5|      Bala na Agulha|        BaianaSystem|        Duas Cidades|    247000|          36|      false|         10|           0| 0.6880000233650208| 0.8640000224113464| -4.956999778747559|  0.1509999930858612| 0.26899999380111694|1.720000000204891E-4| 0.0357000008225441| 0.6669999957084656|  180.052001953125|   afrobeat|\n",
            "|        6|            Chinchín|             Juanafé| Afrorumba Chilenera|    237180|          23|      false|          5|           0| 0.6650000214576721| 0.7919999957084656| -4.255000114440918| 0.05209999904036522| 0.31700000166893005|                 0.0|0.27900001406669617| 0.9449999928474426|121.83100128173828|   afrobeat|\n",
            "|        7|       Do Your Thing|              Orgone|   The Killion Floor|    241200|          18|      false|          4|           0| 0.5860000252723694| 0.7020000219345093| -6.323999881744385| 0.04820000007748604|  0.5529999732971191|0.003120000008493662|0.09430000185966492| 0.6899999976158142| 143.4340057373047|   afrobeat|\n",
            "|        8|       Born For This|           The Score|            Pressure|    234013|          65|      false|          5|           0| 0.6309999823570251| 0.6840000152587891| -6.269999980926514| 0.04050000011920929|  0.0575999990105629|                 0.0|0.09380000084638596|  0.527999997138977| 129.9739990234375|   alt-rock|\n",
            "|        9|Miro Por La Venta...|     Andrés Calamaro|      Rock x siempre|    177413|           0|      false|         11|           0| 0.5540000200271606| 0.7570000290870667| -8.652999877929688| 0.07050000131130219|0.005429999902844429|0.054099999368190765|  0.257999986410141| 0.9070000052452087|148.27000427246094|   alt-rock|\n",
            "|       10|      feel something|          Bea Miller|      feel something|    180161|          71|       true|          0|           1| 0.7400000095367432|0.41499999165534973| -8.913999557495117| 0.07069999724626541| 0.24199999868869781| 1.55999994603917E-4| 0.3190000057220459|0.15600000321865082| 136.0290069580078|   alt-rock|\n",
            "|       11|Bitter Sweet Symp...|           The Verve|   Rock Workout 2023|    357266|           1|      false|          9|           1|0.35600000619888306| 0.9169999957084656| -6.005000114440918|   0.048700001090765| 0.03359999880194664|                 0.0| 0.4059999883174896| 0.5230000019073486| 171.1719970703125|   alt-rock|\n",
            "|       12|      Watch Over You|        Alter Bridge|           Blackbird|    259133|          60|      false|          7|           1| 0.2759999930858612| 0.6579999923706055| -5.418000221252441| 0.03290000185370445|  0.0835999995470047|5.530000198632479E-4|0.16099999845027924| 0.1599999964237213| 172.3260040283203|   alt-rock|\n",
            "|       13| Meet Me At Our Spot|THE ANXIETY;WILLO...|   Autumn Vibes 2022|    162680|           0|      false|          2|           1| 0.7689999938011169| 0.4650000035762787|   -8.0600004196167| 0.03269999846816063|0.016100000590085983|5.510000046342611E-4|0.08540000021457672|0.39500001072883606| 94.99700164794922|alternative|\n",
            "|       14|           About You|            The 1975|Being Funny In A ...|    326490|          73|      false|          2|           1|0.41600000858306885| 0.7620000243186951| -7.385000228881836|0.027899999171495438| 0.31200000643730164|  0.8040000200271606|0.05590000003576279|  0.460999995470047| 95.96700286865234|alternative|\n",
            "|       15|         Wicked Ways|           Halestorm|               Metal|    206959|           0|      false|          2|           1|0.34200000762939453| 0.9909999966621399|-2.8359999656677246|               0.125|2.440000025671906...| 0.04899999871850014|0.40400001406669617|0.24199999868869781|176.35899353027344|alternative|\n",
            "|       16|            Heavenly|Cigarettes After Sex|            Heavenly|    288594|          49|      false|          8|           1| 0.5379999876022339| 0.4309999942779541| -9.298999786376953|0.024900000542402267|   0.628000020980835|  0.6800000071525574|0.10999999940395355|0.12399999797344208|105.14600372314453|    ambient|\n",
            "|       17|             Lullaby|    Sleeping At Last|             Lullaby|    118833|          50|      false|          6|           1| 0.4950000047683716|0.06469999998807907|-13.052000045776367| 0.04670000076293945|  0.9670000076293945|7.750000077066943E-5|0.13500000536441803|0.24899999797344208|118.96700286865234|    ambient|\n",
            "|       18|           Touch off|           UVERworld|               UNSER|    258706|          63|      false|          4|           0|0.41100001335144043| 0.8939999938011169| -3.815000057220459| 0.04650000110268593|2.359999962209258...| 4.46999998530373E-4|0.44699999690055847|0.19499999284744263| 99.60700225830078|      anime|\n",
            "|       19| Upper Side Dreamin’|             ENHYPEN| DIMENSION : DILEMMA|    189402|          64|      false|          0|           1| 0.6079999804496765| 0.8859999775886536|-3.0269999504089355| 0.07729999721050262| 0.02810000069439411|                 0.0|0.44600000977516174| 0.7829999923706055| 106.0199966430664|      anime|\n",
            "+---------+--------------------+--------------------+--------------------+----------+------------+-----------+-----------+------------+-------------------+-------------------+-------------------+--------------------+--------------------+--------------------+-------------------+-------------------+------------------+-----------+\n",
            "only showing top 20 rows\n",
            "\n"
          ]
        }
      ]
    },
    {
      "cell_type": "code",
      "source": [
        "# Conferência se os tipos estão de acordo com cada coluna\n",
        "df.dtypes"
      ],
      "metadata": {
        "colab": {
          "base_uri": "https://localhost:8080/"
        },
        "id": "LJFKIcLqkn8U",
        "outputId": "41b2d831-1543-4a9b-8d89-cb9a244f6e9f"
      },
      "execution_count": 34,
      "outputs": [
        {
          "output_type": "execute_result",
          "data": {
            "text/plain": [
              "[('id_musica', 'bigint'),\n",
              " ('nome', 'string'),\n",
              " ('artistas', 'string'),\n",
              " ('album', 'string'),\n",
              " ('duracao_ms', 'bigint'),\n",
              " ('popularidade', 'bigint'),\n",
              " ('cont_explic', 'boolean'),\n",
              " ('tom_musical', 'string'),\n",
              " ('esc_melodica', 'string'),\n",
              " ('dancabilidade', 'double'),\n",
              " ('energia', 'double'),\n",
              " ('volume_db', 'double'),\n",
              " ('nivel_fala', 'double'),\n",
              " ('nivel_acustico', 'double'),\n",
              " ('nivel_instrumental', 'double'),\n",
              " ('nivel_aovivo', 'double'),\n",
              " ('positividade', 'double'),\n",
              " ('compasso', 'double'),\n",
              " ('genero', 'string')]"
            ]
          },
          "metadata": {},
          "execution_count": 34
        }
      ]
    },
    {
      "cell_type": "code",
      "source": [
        "# Ajuste dos valores nas linhas de escala melódica e tom musical para algo mais compreensível\n",
        "df = df.withColumn('esc_melodica',(F.when(df['esc_melodica'] == 0, 'Menor').otherwise('Maior')))"
      ],
      "metadata": {
        "id": "kyNCv2v6k9L7"
      },
      "execution_count": 35,
      "outputs": []
    },
    {
      "cell_type": "code",
      "source": [
        "df = df.withColumn(\"tom_musical\", F.when(df.tom_musical == 0,\"Dó\")\n",
        "                                   .when(df.tom_musical == 1,\"Ré Bemol\")\n",
        "                                   .when(df.tom_musical == 2,\"Ré\")\n",
        "                                   .when(df.tom_musical == 3,\"Mi Bemol\")\n",
        "                                   .when(df.tom_musical == 4,\"Mi\")\n",
        "                                   .when(df.tom_musical == 5,\"Fá\")\n",
        "                                   .when(df.tom_musical == 6,\"Sol Bemol\")\n",
        "                                   .when(df.tom_musical == 7,\"Sol\")\n",
        "                                   .when(df.tom_musical == 8,\"Lá Bemol\")\n",
        "                                   .when(df.tom_musical == 9,\"Lá\")\n",
        "                                   .when(df.tom_musical == 10,\"Si Bemol\")\n",
        "                                   .otherwise(\"Si\"))"
      ],
      "metadata": {
        "id": "Aq258NOsmszf"
      },
      "execution_count": 36,
      "outputs": []
    },
    {
      "cell_type": "code",
      "source": [
        "df.show(2,truncate=False)"
      ],
      "metadata": {
        "colab": {
          "base_uri": "https://localhost:8080/"
        },
        "id": "MsFS6P0mTRFz",
        "outputId": "0130a068-b667-411a-df3c-fcf21f54a5a2"
      },
      "execution_count": 38,
      "outputs": [
        {
          "output_type": "stream",
          "name": "stdout",
          "text": [
            "+---------+----------------+-------------+------------------+----------+------------+-----------+-----------+------------+------------------+------------------+-------------------+--------------------+-------------------+--------------------+-------------------+-------------------+------------------+--------+\n",
            "|id_musica|nome            |artistas     |album             |duracao_ms|popularidade|cont_explic|tom_musical|esc_melodica|dancabilidade     |energia           |volume_db          |nivel_fala          |nivel_acustico     |nivel_instrumental  |nivel_aovivo       |positividade       |compasso          |genero  |\n",
            "+---------+----------------+-------------+------------------+----------+------------+-----------+-----------+------------+------------------+------------------+-------------------+--------------------+-------------------+--------------------+-------------------+-------------------+------------------+--------+\n",
            "|0        |Rain - Long Ver.|Motohiro Hata|言ノ葉            |447306    |44          |false      |Lá         |Maior       |0.5879999995231628|0.6039999723434448|-7.6020002365112305|0.024000000208616257|0.34299999475479126|6.859999848529696E-5|0.25200000405311584|0.35100001096725464|92.0199966430664  |acoustic|\n",
            "|1        |Psycho          |Harley Poe   |Have a Great Life.|241250    |30          |false      |Sol Bemol  |Menor       |0.4580000042915344|0.8230000138282776|-4.26800012588501  |0.06159999966621399 |0.38199999928474426|0.0                 |0.20499999821186066|0.421999990940094  |131.63800048828125|acoustic|\n",
            "+---------+----------------+-------------+------------------+----------+------------+-----------+-----------+------------+------------------+------------------+-------------------+--------------------+-------------------+--------------------+-------------------+-------------------+------------------+--------+\n",
            "only showing top 2 rows\n",
            "\n"
          ]
        }
      ]
    },
    {
      "cell_type": "markdown",
      "source": [
        "## **Validação de dados utilizando Pandera**"
      ],
      "metadata": {
        "id": "64LTKYbs53cP"
      }
    },
    {
      "cell_type": "code",
      "source": [
        "df.dtypes"
      ],
      "metadata": {
        "colab": {
          "base_uri": "https://localhost:8080/"
        },
        "id": "vAzGwxMLUrKQ",
        "outputId": "059a484b-8683-45eb-9fbc-93644f7882eb"
      },
      "execution_count": 41,
      "outputs": [
        {
          "output_type": "execute_result",
          "data": {
            "text/plain": [
              "[('id_musica', 'bigint'),\n",
              " ('nome', 'string'),\n",
              " ('artistas', 'string'),\n",
              " ('album', 'string'),\n",
              " ('duracao_ms', 'bigint'),\n",
              " ('popularidade', 'bigint'),\n",
              " ('cont_explic', 'boolean'),\n",
              " ('tom_musical', 'string'),\n",
              " ('esc_melodica', 'string'),\n",
              " ('dancabilidade', 'double'),\n",
              " ('energia', 'double'),\n",
              " ('volume_db', 'double'),\n",
              " ('nivel_fala', 'double'),\n",
              " ('nivel_acustico', 'double'),\n",
              " ('nivel_instrumental', 'double'),\n",
              " ('nivel_aovivo', 'double'),\n",
              " ('positividade', 'double'),\n",
              " ('compasso', 'double'),\n",
              " ('genero', 'string')]"
            ]
          },
          "metadata": {},
          "execution_count": 41
        }
      ]
    },
    {
      "cell_type": "code",
      "source": [
        "# utilizando pandera para validação dos dados com definição de checks para intervalos de valores.\n",
        "schema = pa.DataFrameSchema({\n",
        "    \"id_musica\": pa.Column(int),\n",
        "    \"nome\": pa.Column(str),\n",
        "    'artistas':pa.Column(str),\n",
        "    'album':pa.Column(str),\n",
        "    'duracao_ms':pa.Column(int, pa.Check.greater_than_or_equal_to(0)),\n",
        "    'popularidade':pa.Column(int, pa.Check.in_range(0,100)),\n",
        "    'cont_explic':pa.Column(bool),\n",
        "    'tom_musical':pa.Column(str),\n",
        "    'esc_melodica':pa.Column(str),\n",
        "    'dancabilidade':pa.Column(float, pa.Check.in_range(0,1)),\n",
        "    'energia':pa.Column(float, pa.Check.in_range(0,1)),\n",
        "    'volume_db':pa.Column(float),\n",
        "    'nivel_fala':pa.Column(float, pa.Check.in_range(0,1)),\n",
        "    'nivel_acustico':pa.Column(float, pa.Check.in_range(0,1)),\n",
        "    'nivel_instrumental':pa.Column(float, pa.Check.in_range(0,1)),\n",
        "    'nivel_aovivo':pa.Column(float, pa.Check.in_range(0,1)),\n",
        "    'positividade':pa.Column(float, pa.Check.in_range(0,1)),\n",
        "    'compasso':pa.Column(float, pa.Check.greater_than_or_equal_to(0)),\n",
        "    'genero':pa.Column(str)\n",
        "})\n",
        "\n",
        "schema.validate(df.toPandas())"
      ],
      "metadata": {
        "id": "u1ZfrGKZ52_z",
        "colab": {
          "base_uri": "https://localhost:8080/",
          "height": 731
        },
        "outputId": "9b987e58-524f-4e25-ef9f-36fc9bbb6acf"
      },
      "execution_count": 68,
      "outputs": [
        {
          "output_type": "execute_result",
          "data": {
            "text/plain": [
              "        id_musica                     nome              artistas  \\\n",
              "0               0         Rain - Long Ver.         Motohiro Hata   \n",
              "1               1                   Psycho            Harley Poe   \n",
              "2               2  Dancing With A Stranger           Sara Farell   \n",
              "3               3              To the Wind       Chris Cresswell   \n",
              "4               4               Tô Pra Ver           Criolo;Rael   \n",
              "...           ...                      ...                   ...   \n",
              "113417     113417   Imaginarium - Mix Edit      NG Rezonance;PHD   \n",
              "113418     113418                  Bullets               Archive   \n",
              "113419     113419  Yolu Yok (feat. Zerrin)  Serhat Durmus;Zerrin   \n",
              "113420     113420                Yaşıyorum        Candan Erçetin   \n",
              "113421     113421                  Friends      Michael W. Smith   \n",
              "\n",
              "                                   album  duracao_ms  popularidade  \\\n",
              "0                                    言ノ葉      447306            44   \n",
              "1                     Have a Great Life.      241250            30   \n",
              "2                Dancing With A Stranger      188735            43   \n",
              "3                            To the Wind      187908            25   \n",
              "4                         Ainda Há Tempo      254520            41   \n",
              "...                                  ...         ...           ...   \n",
              "113417               Hard Trance Workout      342857            29   \n",
              "113418  Controlling Crowds (Parts I-III)      353573            52   \n",
              "113419           Yolu Yok (feat. Zerrin)      195991            44   \n",
              "113420                             Melek      252400            38   \n",
              "113421                 Change Your World      283893            41   \n",
              "\n",
              "        cont_explic tom_musical esc_melodica  dancabilidade  energia  \\\n",
              "0             False          Lá        Maior          0.588    0.604   \n",
              "1             False   Sol Bemol        Menor          0.458    0.823   \n",
              "2             False          Lá        Maior          0.595    0.180   \n",
              "3             False          Si        Maior          0.491    0.561   \n",
              "4             False    Lá Bemol        Maior          0.637    0.818   \n",
              "...             ...         ...          ...            ...      ...   \n",
              "113417        False         Sol        Menor          0.478    0.947   \n",
              "113418        False    Lá Bemol        Maior          0.455    0.649   \n",
              "113419        False          Lá        Menor          0.655    0.632   \n",
              "113420        False         Sol        Menor          0.442    0.693   \n",
              "113421        False         Sol        Maior          0.587    0.506   \n",
              "\n",
              "        volume_db  nivel_fala  nivel_acustico  nivel_instrumental  \\\n",
              "0          -7.602      0.0240        0.343000            0.000069   \n",
              "1          -4.268      0.0616        0.382000            0.000000   \n",
              "2         -11.391      0.0298        0.890000            0.000000   \n",
              "3          -7.225      0.0246        0.108000            0.000000   \n",
              "4          -6.851      0.2810        0.190000            0.000000   \n",
              "...           ...         ...             ...                 ...   \n",
              "113417     -7.206      0.0350        0.000311            0.938000   \n",
              "113418    -10.444      0.0519        0.126000            0.000353   \n",
              "113419     -8.655      0.0454        0.067700            0.000599   \n",
              "113420     -5.126      0.0908        0.330000            0.000000   \n",
              "113421    -10.889      0.0297        0.381000            0.000000   \n",
              "\n",
              "        nivel_aovivo  positividade    compasso       genero  \n",
              "0             0.2520        0.3510   92.019997     acoustic  \n",
              "1             0.2050        0.4220  131.638000     acoustic  \n",
              "2             0.1130        0.2610   79.921997     acoustic  \n",
              "3             0.1390        0.2200  151.942993     acoustic  \n",
              "4             0.1020        0.5990   90.570999     afrobeat  \n",
              "...              ...           ...         ...          ...  \n",
              "113417        0.1790        0.1790  139.968994       trance  \n",
              "113418        0.1550        0.0719  164.994003     trip-hop  \n",
              "113419        0.0907        0.1300   89.985001      turkish  \n",
              "113420        0.1740        0.6990   96.397003      turkish  \n",
              "113421        0.2700        0.4130  135.960007  world-music  \n",
              "\n",
              "[113422 rows x 19 columns]"
            ],
            "text/html": [
              "\n",
              "  <div id=\"df-7e5d5100-c0da-4d9e-8018-cff4e6961a50\">\n",
              "    <div class=\"colab-df-container\">\n",
              "      <div>\n",
              "<style scoped>\n",
              "    .dataframe tbody tr th:only-of-type {\n",
              "        vertical-align: middle;\n",
              "    }\n",
              "\n",
              "    .dataframe tbody tr th {\n",
              "        vertical-align: top;\n",
              "    }\n",
              "\n",
              "    .dataframe thead th {\n",
              "        text-align: right;\n",
              "    }\n",
              "</style>\n",
              "<table border=\"1\" class=\"dataframe\">\n",
              "  <thead>\n",
              "    <tr style=\"text-align: right;\">\n",
              "      <th></th>\n",
              "      <th>id_musica</th>\n",
              "      <th>nome</th>\n",
              "      <th>artistas</th>\n",
              "      <th>album</th>\n",
              "      <th>duracao_ms</th>\n",
              "      <th>popularidade</th>\n",
              "      <th>cont_explic</th>\n",
              "      <th>tom_musical</th>\n",
              "      <th>esc_melodica</th>\n",
              "      <th>dancabilidade</th>\n",
              "      <th>energia</th>\n",
              "      <th>volume_db</th>\n",
              "      <th>nivel_fala</th>\n",
              "      <th>nivel_acustico</th>\n",
              "      <th>nivel_instrumental</th>\n",
              "      <th>nivel_aovivo</th>\n",
              "      <th>positividade</th>\n",
              "      <th>compasso</th>\n",
              "      <th>genero</th>\n",
              "    </tr>\n",
              "  </thead>\n",
              "  <tbody>\n",
              "    <tr>\n",
              "      <th>0</th>\n",
              "      <td>0</td>\n",
              "      <td>Rain - Long Ver.</td>\n",
              "      <td>Motohiro Hata</td>\n",
              "      <td>言ノ葉</td>\n",
              "      <td>447306</td>\n",
              "      <td>44</td>\n",
              "      <td>False</td>\n",
              "      <td>Lá</td>\n",
              "      <td>Maior</td>\n",
              "      <td>0.588</td>\n",
              "      <td>0.604</td>\n",
              "      <td>-7.602</td>\n",
              "      <td>0.0240</td>\n",
              "      <td>0.343000</td>\n",
              "      <td>0.000069</td>\n",
              "      <td>0.2520</td>\n",
              "      <td>0.3510</td>\n",
              "      <td>92.019997</td>\n",
              "      <td>acoustic</td>\n",
              "    </tr>\n",
              "    <tr>\n",
              "      <th>1</th>\n",
              "      <td>1</td>\n",
              "      <td>Psycho</td>\n",
              "      <td>Harley Poe</td>\n",
              "      <td>Have a Great Life.</td>\n",
              "      <td>241250</td>\n",
              "      <td>30</td>\n",
              "      <td>False</td>\n",
              "      <td>Sol Bemol</td>\n",
              "      <td>Menor</td>\n",
              "      <td>0.458</td>\n",
              "      <td>0.823</td>\n",
              "      <td>-4.268</td>\n",
              "      <td>0.0616</td>\n",
              "      <td>0.382000</td>\n",
              "      <td>0.000000</td>\n",
              "      <td>0.2050</td>\n",
              "      <td>0.4220</td>\n",
              "      <td>131.638000</td>\n",
              "      <td>acoustic</td>\n",
              "    </tr>\n",
              "    <tr>\n",
              "      <th>2</th>\n",
              "      <td>2</td>\n",
              "      <td>Dancing With A Stranger</td>\n",
              "      <td>Sara Farell</td>\n",
              "      <td>Dancing With A Stranger</td>\n",
              "      <td>188735</td>\n",
              "      <td>43</td>\n",
              "      <td>False</td>\n",
              "      <td>Lá</td>\n",
              "      <td>Maior</td>\n",
              "      <td>0.595</td>\n",
              "      <td>0.180</td>\n",
              "      <td>-11.391</td>\n",
              "      <td>0.0298</td>\n",
              "      <td>0.890000</td>\n",
              "      <td>0.000000</td>\n",
              "      <td>0.1130</td>\n",
              "      <td>0.2610</td>\n",
              "      <td>79.921997</td>\n",
              "      <td>acoustic</td>\n",
              "    </tr>\n",
              "    <tr>\n",
              "      <th>3</th>\n",
              "      <td>3</td>\n",
              "      <td>To the Wind</td>\n",
              "      <td>Chris Cresswell</td>\n",
              "      <td>To the Wind</td>\n",
              "      <td>187908</td>\n",
              "      <td>25</td>\n",
              "      <td>False</td>\n",
              "      <td>Si</td>\n",
              "      <td>Maior</td>\n",
              "      <td>0.491</td>\n",
              "      <td>0.561</td>\n",
              "      <td>-7.225</td>\n",
              "      <td>0.0246</td>\n",
              "      <td>0.108000</td>\n",
              "      <td>0.000000</td>\n",
              "      <td>0.1390</td>\n",
              "      <td>0.2200</td>\n",
              "      <td>151.942993</td>\n",
              "      <td>acoustic</td>\n",
              "    </tr>\n",
              "    <tr>\n",
              "      <th>4</th>\n",
              "      <td>4</td>\n",
              "      <td>Tô Pra Ver</td>\n",
              "      <td>Criolo;Rael</td>\n",
              "      <td>Ainda Há Tempo</td>\n",
              "      <td>254520</td>\n",
              "      <td>41</td>\n",
              "      <td>False</td>\n",
              "      <td>Lá Bemol</td>\n",
              "      <td>Maior</td>\n",
              "      <td>0.637</td>\n",
              "      <td>0.818</td>\n",
              "      <td>-6.851</td>\n",
              "      <td>0.2810</td>\n",
              "      <td>0.190000</td>\n",
              "      <td>0.000000</td>\n",
              "      <td>0.1020</td>\n",
              "      <td>0.5990</td>\n",
              "      <td>90.570999</td>\n",
              "      <td>afrobeat</td>\n",
              "    </tr>\n",
              "    <tr>\n",
              "      <th>...</th>\n",
              "      <td>...</td>\n",
              "      <td>...</td>\n",
              "      <td>...</td>\n",
              "      <td>...</td>\n",
              "      <td>...</td>\n",
              "      <td>...</td>\n",
              "      <td>...</td>\n",
              "      <td>...</td>\n",
              "      <td>...</td>\n",
              "      <td>...</td>\n",
              "      <td>...</td>\n",
              "      <td>...</td>\n",
              "      <td>...</td>\n",
              "      <td>...</td>\n",
              "      <td>...</td>\n",
              "      <td>...</td>\n",
              "      <td>...</td>\n",
              "      <td>...</td>\n",
              "      <td>...</td>\n",
              "    </tr>\n",
              "    <tr>\n",
              "      <th>113417</th>\n",
              "      <td>113417</td>\n",
              "      <td>Imaginarium - Mix Edit</td>\n",
              "      <td>NG Rezonance;PHD</td>\n",
              "      <td>Hard Trance Workout</td>\n",
              "      <td>342857</td>\n",
              "      <td>29</td>\n",
              "      <td>False</td>\n",
              "      <td>Sol</td>\n",
              "      <td>Menor</td>\n",
              "      <td>0.478</td>\n",
              "      <td>0.947</td>\n",
              "      <td>-7.206</td>\n",
              "      <td>0.0350</td>\n",
              "      <td>0.000311</td>\n",
              "      <td>0.938000</td>\n",
              "      <td>0.1790</td>\n",
              "      <td>0.1790</td>\n",
              "      <td>139.968994</td>\n",
              "      <td>trance</td>\n",
              "    </tr>\n",
              "    <tr>\n",
              "      <th>113418</th>\n",
              "      <td>113418</td>\n",
              "      <td>Bullets</td>\n",
              "      <td>Archive</td>\n",
              "      <td>Controlling Crowds (Parts I-III)</td>\n",
              "      <td>353573</td>\n",
              "      <td>52</td>\n",
              "      <td>False</td>\n",
              "      <td>Lá Bemol</td>\n",
              "      <td>Maior</td>\n",
              "      <td>0.455</td>\n",
              "      <td>0.649</td>\n",
              "      <td>-10.444</td>\n",
              "      <td>0.0519</td>\n",
              "      <td>0.126000</td>\n",
              "      <td>0.000353</td>\n",
              "      <td>0.1550</td>\n",
              "      <td>0.0719</td>\n",
              "      <td>164.994003</td>\n",
              "      <td>trip-hop</td>\n",
              "    </tr>\n",
              "    <tr>\n",
              "      <th>113419</th>\n",
              "      <td>113419</td>\n",
              "      <td>Yolu Yok (feat. Zerrin)</td>\n",
              "      <td>Serhat Durmus;Zerrin</td>\n",
              "      <td>Yolu Yok (feat. Zerrin)</td>\n",
              "      <td>195991</td>\n",
              "      <td>44</td>\n",
              "      <td>False</td>\n",
              "      <td>Lá</td>\n",
              "      <td>Menor</td>\n",
              "      <td>0.655</td>\n",
              "      <td>0.632</td>\n",
              "      <td>-8.655</td>\n",
              "      <td>0.0454</td>\n",
              "      <td>0.067700</td>\n",
              "      <td>0.000599</td>\n",
              "      <td>0.0907</td>\n",
              "      <td>0.1300</td>\n",
              "      <td>89.985001</td>\n",
              "      <td>turkish</td>\n",
              "    </tr>\n",
              "    <tr>\n",
              "      <th>113420</th>\n",
              "      <td>113420</td>\n",
              "      <td>Yaşıyorum</td>\n",
              "      <td>Candan Erçetin</td>\n",
              "      <td>Melek</td>\n",
              "      <td>252400</td>\n",
              "      <td>38</td>\n",
              "      <td>False</td>\n",
              "      <td>Sol</td>\n",
              "      <td>Menor</td>\n",
              "      <td>0.442</td>\n",
              "      <td>0.693</td>\n",
              "      <td>-5.126</td>\n",
              "      <td>0.0908</td>\n",
              "      <td>0.330000</td>\n",
              "      <td>0.000000</td>\n",
              "      <td>0.1740</td>\n",
              "      <td>0.6990</td>\n",
              "      <td>96.397003</td>\n",
              "      <td>turkish</td>\n",
              "    </tr>\n",
              "    <tr>\n",
              "      <th>113421</th>\n",
              "      <td>113421</td>\n",
              "      <td>Friends</td>\n",
              "      <td>Michael W. Smith</td>\n",
              "      <td>Change Your World</td>\n",
              "      <td>283893</td>\n",
              "      <td>41</td>\n",
              "      <td>False</td>\n",
              "      <td>Sol</td>\n",
              "      <td>Maior</td>\n",
              "      <td>0.587</td>\n",
              "      <td>0.506</td>\n",
              "      <td>-10.889</td>\n",
              "      <td>0.0297</td>\n",
              "      <td>0.381000</td>\n",
              "      <td>0.000000</td>\n",
              "      <td>0.2700</td>\n",
              "      <td>0.4130</td>\n",
              "      <td>135.960007</td>\n",
              "      <td>world-music</td>\n",
              "    </tr>\n",
              "  </tbody>\n",
              "</table>\n",
              "<p>113422 rows × 19 columns</p>\n",
              "</div>\n",
              "      <button class=\"colab-df-convert\" onclick=\"convertToInteractive('df-7e5d5100-c0da-4d9e-8018-cff4e6961a50')\"\n",
              "              title=\"Convert this dataframe to an interactive table.\"\n",
              "              style=\"display:none;\">\n",
              "        \n",
              "  <svg xmlns=\"http://www.w3.org/2000/svg\" height=\"24px\"viewBox=\"0 0 24 24\"\n",
              "       width=\"24px\">\n",
              "    <path d=\"M0 0h24v24H0V0z\" fill=\"none\"/>\n",
              "    <path d=\"M18.56 5.44l.94 2.06.94-2.06 2.06-.94-2.06-.94-.94-2.06-.94 2.06-2.06.94zm-11 1L8.5 8.5l.94-2.06 2.06-.94-2.06-.94L8.5 2.5l-.94 2.06-2.06.94zm10 10l.94 2.06.94-2.06 2.06-.94-2.06-.94-.94-2.06-.94 2.06-2.06.94z\"/><path d=\"M17.41 7.96l-1.37-1.37c-.4-.4-.92-.59-1.43-.59-.52 0-1.04.2-1.43.59L10.3 9.45l-7.72 7.72c-.78.78-.78 2.05 0 2.83L4 21.41c.39.39.9.59 1.41.59.51 0 1.02-.2 1.41-.59l7.78-7.78 2.81-2.81c.8-.78.8-2.07 0-2.86zM5.41 20L4 18.59l7.72-7.72 1.47 1.35L5.41 20z\"/>\n",
              "  </svg>\n",
              "      </button>\n",
              "      \n",
              "  <style>\n",
              "    .colab-df-container {\n",
              "      display:flex;\n",
              "      flex-wrap:wrap;\n",
              "      gap: 12px;\n",
              "    }\n",
              "\n",
              "    .colab-df-convert {\n",
              "      background-color: #E8F0FE;\n",
              "      border: none;\n",
              "      border-radius: 50%;\n",
              "      cursor: pointer;\n",
              "      display: none;\n",
              "      fill: #1967D2;\n",
              "      height: 32px;\n",
              "      padding: 0 0 0 0;\n",
              "      width: 32px;\n",
              "    }\n",
              "\n",
              "    .colab-df-convert:hover {\n",
              "      background-color: #E2EBFA;\n",
              "      box-shadow: 0px 1px 2px rgba(60, 64, 67, 0.3), 0px 1px 3px 1px rgba(60, 64, 67, 0.15);\n",
              "      fill: #174EA6;\n",
              "    }\n",
              "\n",
              "    [theme=dark] .colab-df-convert {\n",
              "      background-color: #3B4455;\n",
              "      fill: #D2E3FC;\n",
              "    }\n",
              "\n",
              "    [theme=dark] .colab-df-convert:hover {\n",
              "      background-color: #434B5C;\n",
              "      box-shadow: 0px 1px 3px 1px rgba(0, 0, 0, 0.15);\n",
              "      filter: drop-shadow(0px 1px 2px rgba(0, 0, 0, 0.3));\n",
              "      fill: #FFFFFF;\n",
              "    }\n",
              "  </style>\n",
              "\n",
              "      <script>\n",
              "        const buttonEl =\n",
              "          document.querySelector('#df-7e5d5100-c0da-4d9e-8018-cff4e6961a50 button.colab-df-convert');\n",
              "        buttonEl.style.display =\n",
              "          google.colab.kernel.accessAllowed ? 'block' : 'none';\n",
              "\n",
              "        async function convertToInteractive(key) {\n",
              "          const element = document.querySelector('#df-7e5d5100-c0da-4d9e-8018-cff4e6961a50');\n",
              "          const dataTable =\n",
              "            await google.colab.kernel.invokeFunction('convertToInteractive',\n",
              "                                                     [key], {});\n",
              "          if (!dataTable) return;\n",
              "\n",
              "          const docLinkHtml = 'Like what you see? Visit the ' +\n",
              "            '<a target=\"_blank\" href=https://colab.research.google.com/notebooks/data_table.ipynb>data table notebook</a>'\n",
              "            + ' to learn more about interactive tables.';\n",
              "          element.innerHTML = '';\n",
              "          dataTable['output_type'] = 'display_data';\n",
              "          await google.colab.output.renderOutput(dataTable, element);\n",
              "          const docLink = document.createElement('div');\n",
              "          docLink.innerHTML = docLinkHtml;\n",
              "          element.appendChild(docLink);\n",
              "        }\n",
              "      </script>\n",
              "    </div>\n",
              "  </div>\n",
              "  "
            ]
          },
          "metadata": {},
          "execution_count": 68
        }
      ]
    },
    {
      "cell_type": "markdown",
      "source": [
        "## SPARK SQL"
      ],
      "metadata": {
        "id": "DEMcGtuHwc0V"
      }
    },
    {
      "cell_type": "markdown",
      "source": [
        "**Utilização de Spark SQL para realização de queries e observação de informações relevantes com o dataframe já tratado**"
      ],
      "metadata": {
        "id": "JPWgH4774QSw"
      }
    },
    {
      "cell_type": "code",
      "source": [
        "# Conversão do dataframe com os dados tratados para o formato de tabela a fim de que se use SQL \n",
        "df.write.saveAsTable('spotify')"
      ],
      "metadata": {
        "id": "FS3ziS5trp4a"
      },
      "execution_count": 72,
      "outputs": []
    },
    {
      "cell_type": "code",
      "source": [
        "# Agora é possível utilizar o spark SQL \n",
        "spark.sql('SHOW TABLES').show()"
      ],
      "metadata": {
        "id": "sJUmD8iU4P0e",
        "colab": {
          "base_uri": "https://localhost:8080/"
        },
        "outputId": "1076fa32-0910-4f00-b085-47a9e44c7182"
      },
      "execution_count": 75,
      "outputs": [
        {
          "output_type": "stream",
          "name": "stdout",
          "text": [
            "+---------+---------+-----------+\n",
            "|namespace|tableName|isTemporary|\n",
            "+---------+---------+-----------+\n",
            "|  default|  spotify|      false|\n",
            "+---------+---------+-----------+\n",
            "\n"
          ]
        }
      ]
    },
    {
      "cell_type": "code",
      "source": [
        "# QUERY 1 - Ordenação das 10 maiores músicas em minutos\n",
        "spark.sql('''SELECT nome, artistas, duracao_ms/60000 AS duracao_min\n",
        "             FROM spotify\n",
        "             ORDER BY duracao_ms DESC''').show(10,truncate=False)"
      ],
      "metadata": {
        "colab": {
          "base_uri": "https://localhost:8080/"
        },
        "id": "QscyPZwRr-Qr",
        "outputId": "2743b5fb-f211-42d5-c3a8-b803a696660b"
      },
      "execution_count": 82,
      "outputs": [
        {
          "output_type": "stream",
          "name": "stdout",
          "text": [
            "+--------------------------------------------+-----------------+-----------------+\n",
            "|nome                                        |artistas         |duracao_min      |\n",
            "+--------------------------------------------+-----------------+-----------------+\n",
            "|Unity (Voyage Mix) Pt. 1                    |Tale Of Us       |87.28825         |\n",
            "|Crossing Wires 002 - Continuous DJ Mix      |Timo Maas        |79.8171          |\n",
            "|The Lab 03 - Continuous DJ Mix Part 1       |Seth Troxler     |78.83836666666667|\n",
            "|Amnesia Ibiza Underground 10 DJ Mix         |Loco Dice        |76.06495         |\n",
            "|House of Om - Mark Farina - Continuous Mix  |Mark Farina      |74.12533333333333|\n",
            "|Live In Tokyo - Continuous Mix              |Mark Farina      |72.33043333333333|\n",
            "|Greenhouse Construction                     |Mark Farina      |72.24535         |\n",
            "|NQ State of Mind, Vol. 1 - Continuous DJ Mix|Lenzman;Dan Stezo|70.7701          |\n",
            "|Ocean Waves Sounds                          |Ocean Sounds     |68.67096666666667|\n",
            "|Internal Flight (Remastered)                |Estas Tonne      |64.6046          |\n",
            "+--------------------------------------------+-----------------+-----------------+\n",
            "only showing top 10 rows\n",
            "\n"
          ]
        }
      ]
    },
    {
      "cell_type": "code",
      "source": [
        "# QUERY 2 - Quais tons são mais comuns nas músicas do dataset?\n",
        "spark.sql('''SELECT tom_musical, COUNT(tom_musical) as num_musicas\n",
        "             FROM spotify\n",
        "             GROUP BY tom_musical\n",
        "             ORDER BY num_musicas DESC''').show(15,truncate=False)"
      ],
      "metadata": {
        "colab": {
          "base_uri": "https://localhost:8080/"
        },
        "id": "0lTFzMeStByE",
        "outputId": "acb8a01f-29fe-4ab6-c943-58e427f25425"
      },
      "execution_count": 103,
      "outputs": [
        {
          "output_type": "stream",
          "name": "stdout",
          "text": [
            "+-----------+-----------+\n",
            "|tom_musical|num_musicas|\n",
            "+-----------+-----------+\n",
            "|Sol        |13186      |\n",
            "|Dó         |12983      |\n",
            "|Ré         |11575      |\n",
            "|Lá         |11255      |\n",
            "|Ré Bemol   |10738      |\n",
            "|Fá         |9321       |\n",
            "|Si         |9235       |\n",
            "|Mi         |8965       |\n",
            "|Sol Bemol  |7885       |\n",
            "|Si Bemol   |7414       |\n",
            "|Lá Bemol   |7323       |\n",
            "|Mi Bemol   |3542       |\n",
            "+-----------+-----------+\n",
            "\n"
          ]
        }
      ]
    },
    {
      "cell_type": "code",
      "source": [
        "# QUERY 3 - 20 maiores gêneros musicas com escala melódica menor\n",
        "spark.sql('''SELECT genero, COUNT(genero) AS num_musicas\n",
        "             FROM spotify\n",
        "             WHERE esc_melodica = 'Menor'\n",
        "             GROUP BY genero\n",
        "             ORDER BY num_musicas DESC''').show(20,truncate=False)"
      ],
      "metadata": {
        "colab": {
          "base_uri": "https://localhost:8080/"
        },
        "id": "tAa5xw-Yw3KO",
        "outputId": "270a7bd6-b57e-498a-afb4-abb3e9f865b5"
      },
      "execution_count": 109,
      "outputs": [
        {
          "output_type": "stream",
          "name": "stdout",
          "text": [
            "+-----------------+-----------+\n",
            "|genero           |num_musicas|\n",
            "+-----------------+-----------+\n",
            "|turkish          |668        |\n",
            "|romance          |587        |\n",
            "|deep-house       |538        |\n",
            "|hardstyle        |531        |\n",
            "|drum-and-bass    |526        |\n",
            "|progressive-house|522        |\n",
            "|tango            |520        |\n",
            "|french           |516        |\n",
            "|trance           |516        |\n",
            "|hip-hop          |516        |\n",
            "|trip-hop         |515        |\n",
            "|dancehall        |511        |\n",
            "|chicago-house    |501        |\n",
            "|detroit-techno   |500        |\n",
            "|study            |497        |\n",
            "|house            |491        |\n",
            "|afrobeat         |489        |\n",
            "|reggaeton        |489        |\n",
            "|electronic       |488        |\n",
            "|anime            |487        |\n",
            "+-----------------+-----------+\n",
            "only showing top 20 rows\n",
            "\n"
          ]
        }
      ]
    },
    {
      "cell_type": "code",
      "source": [
        "# QUERY 4 - Média de posivitidade da música de acordo com a escala melódica\n",
        "spark.sql('''SELECT esc_melodica, AVG(positividade) AS med_positividade\n",
        "             FROM spotify\n",
        "             GROUP BY esc_melodica\n",
        "             ORDER BY med_positividade DESC''').show(20,truncate=False)"
      ],
      "metadata": {
        "colab": {
          "base_uri": "https://localhost:8080/"
        },
        "id": "8UEeQk9wyERO",
        "outputId": "97b5816a-584c-413e-ec89-98550cefa60f"
      },
      "execution_count": 113,
      "outputs": [
        {
          "output_type": "stream",
          "name": "stdout",
          "text": [
            "+------------+-------------------+\n",
            "|esc_melodica|med_positividade   |\n",
            "+------------+-------------------+\n",
            "|Maior       |0.47842858959904355|\n",
            "|Menor       |0.46686528630482255|\n",
            "+------------+-------------------+\n",
            "\n"
          ]
        }
      ]
    },
    {
      "cell_type": "code",
      "source": [
        "# QUERY 4 - Quantidade de músicas explicitas e porcentagem\n",
        "spark.sql('''SELECT cont_explic, COUNT(cont_explic) AS num_musicas\n",
        "             FROM spotify\n",
        "             GROUP BY cont_explic\n",
        "             ORDER BY num_musicas DESC''').show(20,truncate=False)"
      ],
      "metadata": {
        "colab": {
          "base_uri": "https://localhost:8080/"
        },
        "id": "DueQmRM1yznl",
        "outputId": "d1efdcff-2d57-4780-abb7-8f719e7b43cf"
      },
      "execution_count": 124,
      "outputs": [
        {
          "output_type": "stream",
          "name": "stdout",
          "text": [
            "+-----------+-----------+\n",
            "|cont_explic|num_musicas|\n",
            "+-----------+-----------+\n",
            "|false      |103725     |\n",
            "|true       |9697       |\n",
            "+-----------+-----------+\n",
            "\n"
          ]
        }
      ]
    }
  ]
}