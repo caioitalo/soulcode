{
  "nbformat": 4,
  "nbformat_minor": 0,
  "metadata": {
    "colab": {
      "provenance": [],
      "authorship_tag": "ABX9TyOAmukhTDBJMyZNkoRa1ocO",
      "include_colab_link": true
    },
    "kernelspec": {
      "name": "python3",
      "display_name": "Python 3"
    },
    "language_info": {
      "name": "python"
    }
  },
  "cells": [
    {
      "cell_type": "markdown",
      "metadata": {
        "id": "view-in-github",
        "colab_type": "text"
      },
      "source": [
        "<a href=\"https://colab.research.google.com/github/caioitalo/soulcode/blob/main/Pr%C3%A1tica_DB_transa%C3%A7%C3%B5es_de_cart%C3%A3o_india.ipynb\" target=\"_parent\"><img src=\"https://colab.research.google.com/assets/colab-badge.svg\" alt=\"Open In Colab\"/></a>"
      ]
    },
    {
      "cell_type": "code",
      "source": [
        "!pip install pyspark"
      ],
      "metadata": {
        "colab": {
          "base_uri": "https://localhost:8080/"
        },
        "id": "W4FX1v3Aqwx-",
        "outputId": "6efcda24-442d-4a00-c9f9-5f18349c4d7a"
      },
      "execution_count": 77,
      "outputs": [
        {
          "output_type": "stream",
          "name": "stdout",
          "text": [
            "Looking in indexes: https://pypi.org/simple, https://us-python.pkg.dev/colab-wheels/public/simple/\n",
            "Requirement already satisfied: pyspark in /usr/local/lib/python3.8/dist-packages (3.3.1)\n",
            "Requirement already satisfied: py4j==0.10.9.5 in /usr/local/lib/python3.8/dist-packages (from pyspark) (0.10.9.5)\n"
          ]
        }
      ]
    },
    {
      "cell_type": "code",
      "source": [
        "import pandas as pd\n",
        "from pyspark.sql import SparkSession\n",
        "import pyspark.sql.functions as F\n",
        "import numpy as np"
      ],
      "metadata": {
        "id": "7-sHmknjq3Ny"
      },
      "execution_count": 78,
      "outputs": []
    },
    {
      "cell_type": "code",
      "source": [
        "df = pd.read_csv('https://storage.googleapis.com/datalake-soulcode-ed7/arquivos%20soulcode/Credit%20card%20transactions%20-%20India%20-%20Simple.csv')"
      ],
      "metadata": {
        "id": "_-BfJi01wtF6"
      },
      "execution_count": 79,
      "outputs": []
    },
    {
      "cell_type": "code",
      "source": [
        "df"
      ],
      "metadata": {
        "colab": {
          "base_uri": "https://localhost:8080/",
          "height": 424
        },
        "id": "f7wgAQunw7LW",
        "outputId": "05b07cec-b4b7-413b-ec3d-6e1206af680b"
      },
      "execution_count": 80,
      "outputs": [
        {
          "output_type": "execute_result",
          "data": {
            "text/plain": [
              "       index                   City       Date  Card Type Exp Type Gender  \\\n",
              "0          0           Delhi, India  29-Oct-14       Gold    Bills      F   \n",
              "1          1  Greater Mumbai, India  22-Aug-14   Platinum    Bills      F   \n",
              "2          2       Bengaluru, India  27-Aug-14     Silver    Bills      F   \n",
              "3          3  Greater Mumbai, India  12-Apr-14  Signature    Bills      F   \n",
              "4          4       Bengaluru, India   5-May-15       Gold    Bills      F   \n",
              "...      ...                    ...        ...        ...      ...    ...   \n",
              "26047  26047         Kolkata, India  22-Jun-14     Silver   Travel      F   \n",
              "26048  26048            Pune, India   3-Aug-14  Signature   Travel      M   \n",
              "26049  26049       Hyderabad, India  16-Jan-15     Silver   Travel      M   \n",
              "26050  26050          Kanpur, India  14-Sep-14     Silver   Travel      M   \n",
              "26051  26051       Hyderabad, India  19-Oct-13  Signature    Bills      M   \n",
              "\n",
              "       Amount  \n",
              "0       82475  \n",
              "1       32555  \n",
              "2      101738  \n",
              "3      123424  \n",
              "4      171574  \n",
              "...       ...  \n",
              "26047  128191  \n",
              "26048  246316  \n",
              "26049  265019  \n",
              "26050   88174  \n",
              "26051  184410  \n",
              "\n",
              "[26052 rows x 7 columns]"
            ],
            "text/html": [
              "\n",
              "  <div id=\"df-4ac78975-162c-4419-9e6e-90d05c45c14f\">\n",
              "    <div class=\"colab-df-container\">\n",
              "      <div>\n",
              "<style scoped>\n",
              "    .dataframe tbody tr th:only-of-type {\n",
              "        vertical-align: middle;\n",
              "    }\n",
              "\n",
              "    .dataframe tbody tr th {\n",
              "        vertical-align: top;\n",
              "    }\n",
              "\n",
              "    .dataframe thead th {\n",
              "        text-align: right;\n",
              "    }\n",
              "</style>\n",
              "<table border=\"1\" class=\"dataframe\">\n",
              "  <thead>\n",
              "    <tr style=\"text-align: right;\">\n",
              "      <th></th>\n",
              "      <th>index</th>\n",
              "      <th>City</th>\n",
              "      <th>Date</th>\n",
              "      <th>Card Type</th>\n",
              "      <th>Exp Type</th>\n",
              "      <th>Gender</th>\n",
              "      <th>Amount</th>\n",
              "    </tr>\n",
              "  </thead>\n",
              "  <tbody>\n",
              "    <tr>\n",
              "      <th>0</th>\n",
              "      <td>0</td>\n",
              "      <td>Delhi, India</td>\n",
              "      <td>29-Oct-14</td>\n",
              "      <td>Gold</td>\n",
              "      <td>Bills</td>\n",
              "      <td>F</td>\n",
              "      <td>82475</td>\n",
              "    </tr>\n",
              "    <tr>\n",
              "      <th>1</th>\n",
              "      <td>1</td>\n",
              "      <td>Greater Mumbai, India</td>\n",
              "      <td>22-Aug-14</td>\n",
              "      <td>Platinum</td>\n",
              "      <td>Bills</td>\n",
              "      <td>F</td>\n",
              "      <td>32555</td>\n",
              "    </tr>\n",
              "    <tr>\n",
              "      <th>2</th>\n",
              "      <td>2</td>\n",
              "      <td>Bengaluru, India</td>\n",
              "      <td>27-Aug-14</td>\n",
              "      <td>Silver</td>\n",
              "      <td>Bills</td>\n",
              "      <td>F</td>\n",
              "      <td>101738</td>\n",
              "    </tr>\n",
              "    <tr>\n",
              "      <th>3</th>\n",
              "      <td>3</td>\n",
              "      <td>Greater Mumbai, India</td>\n",
              "      <td>12-Apr-14</td>\n",
              "      <td>Signature</td>\n",
              "      <td>Bills</td>\n",
              "      <td>F</td>\n",
              "      <td>123424</td>\n",
              "    </tr>\n",
              "    <tr>\n",
              "      <th>4</th>\n",
              "      <td>4</td>\n",
              "      <td>Bengaluru, India</td>\n",
              "      <td>5-May-15</td>\n",
              "      <td>Gold</td>\n",
              "      <td>Bills</td>\n",
              "      <td>F</td>\n",
              "      <td>171574</td>\n",
              "    </tr>\n",
              "    <tr>\n",
              "      <th>...</th>\n",
              "      <td>...</td>\n",
              "      <td>...</td>\n",
              "      <td>...</td>\n",
              "      <td>...</td>\n",
              "      <td>...</td>\n",
              "      <td>...</td>\n",
              "      <td>...</td>\n",
              "    </tr>\n",
              "    <tr>\n",
              "      <th>26047</th>\n",
              "      <td>26047</td>\n",
              "      <td>Kolkata, India</td>\n",
              "      <td>22-Jun-14</td>\n",
              "      <td>Silver</td>\n",
              "      <td>Travel</td>\n",
              "      <td>F</td>\n",
              "      <td>128191</td>\n",
              "    </tr>\n",
              "    <tr>\n",
              "      <th>26048</th>\n",
              "      <td>26048</td>\n",
              "      <td>Pune, India</td>\n",
              "      <td>3-Aug-14</td>\n",
              "      <td>Signature</td>\n",
              "      <td>Travel</td>\n",
              "      <td>M</td>\n",
              "      <td>246316</td>\n",
              "    </tr>\n",
              "    <tr>\n",
              "      <th>26049</th>\n",
              "      <td>26049</td>\n",
              "      <td>Hyderabad, India</td>\n",
              "      <td>16-Jan-15</td>\n",
              "      <td>Silver</td>\n",
              "      <td>Travel</td>\n",
              "      <td>M</td>\n",
              "      <td>265019</td>\n",
              "    </tr>\n",
              "    <tr>\n",
              "      <th>26050</th>\n",
              "      <td>26050</td>\n",
              "      <td>Kanpur, India</td>\n",
              "      <td>14-Sep-14</td>\n",
              "      <td>Silver</td>\n",
              "      <td>Travel</td>\n",
              "      <td>M</td>\n",
              "      <td>88174</td>\n",
              "    </tr>\n",
              "    <tr>\n",
              "      <th>26051</th>\n",
              "      <td>26051</td>\n",
              "      <td>Hyderabad, India</td>\n",
              "      <td>19-Oct-13</td>\n",
              "      <td>Signature</td>\n",
              "      <td>Bills</td>\n",
              "      <td>M</td>\n",
              "      <td>184410</td>\n",
              "    </tr>\n",
              "  </tbody>\n",
              "</table>\n",
              "<p>26052 rows × 7 columns</p>\n",
              "</div>\n",
              "      <button class=\"colab-df-convert\" onclick=\"convertToInteractive('df-4ac78975-162c-4419-9e6e-90d05c45c14f')\"\n",
              "              title=\"Convert this dataframe to an interactive table.\"\n",
              "              style=\"display:none;\">\n",
              "        \n",
              "  <svg xmlns=\"http://www.w3.org/2000/svg\" height=\"24px\"viewBox=\"0 0 24 24\"\n",
              "       width=\"24px\">\n",
              "    <path d=\"M0 0h24v24H0V0z\" fill=\"none\"/>\n",
              "    <path d=\"M18.56 5.44l.94 2.06.94-2.06 2.06-.94-2.06-.94-.94-2.06-.94 2.06-2.06.94zm-11 1L8.5 8.5l.94-2.06 2.06-.94-2.06-.94L8.5 2.5l-.94 2.06-2.06.94zm10 10l.94 2.06.94-2.06 2.06-.94-2.06-.94-.94-2.06-.94 2.06-2.06.94z\"/><path d=\"M17.41 7.96l-1.37-1.37c-.4-.4-.92-.59-1.43-.59-.52 0-1.04.2-1.43.59L10.3 9.45l-7.72 7.72c-.78.78-.78 2.05 0 2.83L4 21.41c.39.39.9.59 1.41.59.51 0 1.02-.2 1.41-.59l7.78-7.78 2.81-2.81c.8-.78.8-2.07 0-2.86zM5.41 20L4 18.59l7.72-7.72 1.47 1.35L5.41 20z\"/>\n",
              "  </svg>\n",
              "      </button>\n",
              "      \n",
              "  <style>\n",
              "    .colab-df-container {\n",
              "      display:flex;\n",
              "      flex-wrap:wrap;\n",
              "      gap: 12px;\n",
              "    }\n",
              "\n",
              "    .colab-df-convert {\n",
              "      background-color: #E8F0FE;\n",
              "      border: none;\n",
              "      border-radius: 50%;\n",
              "      cursor: pointer;\n",
              "      display: none;\n",
              "      fill: #1967D2;\n",
              "      height: 32px;\n",
              "      padding: 0 0 0 0;\n",
              "      width: 32px;\n",
              "    }\n",
              "\n",
              "    .colab-df-convert:hover {\n",
              "      background-color: #E2EBFA;\n",
              "      box-shadow: 0px 1px 2px rgba(60, 64, 67, 0.3), 0px 1px 3px 1px rgba(60, 64, 67, 0.15);\n",
              "      fill: #174EA6;\n",
              "    }\n",
              "\n",
              "    [theme=dark] .colab-df-convert {\n",
              "      background-color: #3B4455;\n",
              "      fill: #D2E3FC;\n",
              "    }\n",
              "\n",
              "    [theme=dark] .colab-df-convert:hover {\n",
              "      background-color: #434B5C;\n",
              "      box-shadow: 0px 1px 3px 1px rgba(0, 0, 0, 0.15);\n",
              "      filter: drop-shadow(0px 1px 2px rgba(0, 0, 0, 0.3));\n",
              "      fill: #FFFFFF;\n",
              "    }\n",
              "  </style>\n",
              "\n",
              "      <script>\n",
              "        const buttonEl =\n",
              "          document.querySelector('#df-4ac78975-162c-4419-9e6e-90d05c45c14f button.colab-df-convert');\n",
              "        buttonEl.style.display =\n",
              "          google.colab.kernel.accessAllowed ? 'block' : 'none';\n",
              "\n",
              "        async function convertToInteractive(key) {\n",
              "          const element = document.querySelector('#df-4ac78975-162c-4419-9e6e-90d05c45c14f');\n",
              "          const dataTable =\n",
              "            await google.colab.kernel.invokeFunction('convertToInteractive',\n",
              "                                                     [key], {});\n",
              "          if (!dataTable) return;\n",
              "\n",
              "          const docLinkHtml = 'Like what you see? Visit the ' +\n",
              "            '<a target=\"_blank\" href=https://colab.research.google.com/notebooks/data_table.ipynb>data table notebook</a>'\n",
              "            + ' to learn more about interactive tables.';\n",
              "          element.innerHTML = '';\n",
              "          dataTable['output_type'] = 'display_data';\n",
              "          await google.colab.output.renderOutput(dataTable, element);\n",
              "          const docLink = document.createElement('div');\n",
              "          docLink.innerHTML = docLinkHtml;\n",
              "          element.appendChild(docLink);\n",
              "        }\n",
              "      </script>\n",
              "    </div>\n",
              "  </div>\n",
              "  "
            ]
          },
          "metadata": {},
          "execution_count": 80
        }
      ]
    },
    {
      "cell_type": "code",
      "source": [
        "df.dtypes"
      ],
      "metadata": {
        "colab": {
          "base_uri": "https://localhost:8080/"
        },
        "id": "xixcmLjixAXe",
        "outputId": "44fd808e-99e9-48b7-86e8-99de8a8e3a96"
      },
      "execution_count": 81,
      "outputs": [
        {
          "output_type": "execute_result",
          "data": {
            "text/plain": [
              "index         int64\n",
              "City         object\n",
              "Date         object\n",
              "Card Type    object\n",
              "Exp Type     object\n",
              "Gender       object\n",
              "Amount        int64\n",
              "dtype: object"
            ]
          },
          "metadata": {},
          "execution_count": 81
        }
      ]
    },
    {
      "cell_type": "code",
      "source": [
        "df.isna().sum()"
      ],
      "metadata": {
        "colab": {
          "base_uri": "https://localhost:8080/"
        },
        "id": "qlQukz4zxKkw",
        "outputId": "5da456df-03fd-4531-d2e9-a0476ff0924b"
      },
      "execution_count": 82,
      "outputs": [
        {
          "output_type": "execute_result",
          "data": {
            "text/plain": [
              "index        0\n",
              "City         0\n",
              "Date         0\n",
              "Card Type    0\n",
              "Exp Type     0\n",
              "Gender       0\n",
              "Amount       0\n",
              "dtype: int64"
            ]
          },
          "metadata": {},
          "execution_count": 82
        }
      ]
    },
    {
      "cell_type": "code",
      "source": [
        "df['Exp Type'].unique()"
      ],
      "metadata": {
        "colab": {
          "base_uri": "https://localhost:8080/"
        },
        "id": "zLQf0UA3xN1e",
        "outputId": "ae900d50-518d-4a75-93bd-de8b9175616c"
      },
      "execution_count": 83,
      "outputs": [
        {
          "output_type": "execute_result",
          "data": {
            "text/plain": [
              "array(['Bills', 'Food', 'Entertainment', 'Grocery', 'Fuel', 'Travel'],\n",
              "      dtype=object)"
            ]
          },
          "metadata": {},
          "execution_count": 83
        }
      ]
    },
    {
      "cell_type": "code",
      "source": [
        "df = df.rename(columns={'index':'id_compra','City':'cidade','Date':'data','Card Type':'tipo_cartao','Exp Type':'tipo_compra','Gender':'sexo','Amount':'montante'})"
      ],
      "metadata": {
        "id": "-1xE-7whxvPE"
      },
      "execution_count": 84,
      "outputs": []
    },
    {
      "cell_type": "code",
      "source": [
        "spark = (SparkSession.builder\n",
        "                     .master('local')\n",
        "                     .appName('spark_app')\n",
        "                     .config('spark.ui.port', '4050')\n",
        "                     .getOrCreate()\n",
        "                     )"
      ],
      "metadata": {
        "id": "wjwsBCBTr86S"
      },
      "execution_count": 85,
      "outputs": []
    },
    {
      "cell_type": "code",
      "source": [
        "dfsp = spark.createDataFrame(df)"
      ],
      "metadata": {
        "id": "OQ3eZBpz0G_w"
      },
      "execution_count": 86,
      "outputs": []
    },
    {
      "cell_type": "code",
      "source": [
        "dfsp.show()"
      ],
      "metadata": {
        "colab": {
          "base_uri": "https://localhost:8080/"
        },
        "id": "iLTfKoBu0ZCd",
        "outputId": "b698bc0c-4639-4873-ffa3-f8e610f89dda"
      },
      "execution_count": 87,
      "outputs": [
        {
          "output_type": "stream",
          "name": "stdout",
          "text": [
            "+---------+--------------------+---------+-----------+-----------+----+--------+\n",
            "|id_compra|              cidade|     data|tipo_cartao|tipo_compra|sexo|montante|\n",
            "+---------+--------------------+---------+-----------+-----------+----+--------+\n",
            "|        0|        Delhi, India|29-Oct-14|       Gold|      Bills|   F|   82475|\n",
            "|        1|Greater Mumbai, I...|22-Aug-14|   Platinum|      Bills|   F|   32555|\n",
            "|        2|    Bengaluru, India|27-Aug-14|     Silver|      Bills|   F|  101738|\n",
            "|        3|Greater Mumbai, I...|12-Apr-14|  Signature|      Bills|   F|  123424|\n",
            "|        4|    Bengaluru, India| 5-May-15|       Gold|      Bills|   F|  171574|\n",
            "|        5|        Delhi, India| 8-Sep-14|     Silver|      Bills|   F|  100036|\n",
            "|        6|        Delhi, India|24-Feb-15|       Gold|      Bills|   F|  143250|\n",
            "|        7|Greater Mumbai, I...|26-Jun-14|   Platinum|      Bills|   F|  150980|\n",
            "|        8|        Delhi, India|28-Mar-14|     Silver|      Bills|   F|  192247|\n",
            "|        9|        Delhi, India| 1-Sep-14|   Platinum|      Bills|   F|   67932|\n",
            "|       10|        Delhi, India|22-Jun-14|   Platinum|      Bills|   F|  280061|\n",
            "|       11|Greater Mumbai, I...| 7-Dec-13|  Signature|      Bills|   F|  278036|\n",
            "|       12|Greater Mumbai, I...| 7-Aug-14|       Gold|      Bills|   F|   19226|\n",
            "|       13|        Delhi, India|27-Apr-14|  Signature|      Bills|   F|  254359|\n",
            "|       14|Greater Mumbai, I...|15-Aug-14|  Signature|      Bills|   F|  302834|\n",
            "|       15|Greater Mumbai, I...|28-Nov-14|   Platinum|      Bills|   F|  647116|\n",
            "|       16|Greater Mumbai, I...|14-Jun-14|  Signature|      Bills|   F|  421878|\n",
            "|       17|Greater Mumbai, I...|30-Mar-15|       Gold|      Bills|   F|  986379|\n",
            "|       18|Greater Mumbai, I...|15-Mar-14|   Platinum|      Bills|   F|  213047|\n",
            "|       19|Greater Mumbai, I...| 9-Nov-13|   Platinum|      Bills|   F|  735566|\n",
            "+---------+--------------------+---------+-----------+-----------+----+--------+\n",
            "only showing top 20 rows\n",
            "\n"
          ]
        }
      ]
    },
    {
      "cell_type": "code",
      "source": [
        "dfsp = dfsp.withColumn('cidade_real',F.split(F.col('cidade'),',').getItem(0)).withColumn('pais',F.split(F.col('cidade'),',').getItem(1))"
      ],
      "metadata": {
        "id": "gZMVOpT-0ew3"
      },
      "execution_count": 88,
      "outputs": []
    },
    {
      "cell_type": "code",
      "source": [
        "dfsp = dfsp.drop(F.col('cidade'))"
      ],
      "metadata": {
        "id": "jAcKLW203CZq"
      },
      "execution_count": 89,
      "outputs": []
    },
    {
      "cell_type": "code",
      "source": [
        "df2 = dfsp"
      ],
      "metadata": {
        "id": "AmQq8F0C3ICU"
      },
      "execution_count": 90,
      "outputs": []
    },
    {
      "cell_type": "code",
      "source": [
        "df2 = df2.drop('id_compra')"
      ],
      "metadata": {
        "id": "RZHB7CCD3SP0"
      },
      "execution_count": 91,
      "outputs": []
    },
    {
      "cell_type": "code",
      "source": [
        "df2 = df2.dropDuplicates()"
      ],
      "metadata": {
        "id": "UKwxOxu_ArGc"
      },
      "execution_count": 92,
      "outputs": []
    },
    {
      "cell_type": "code",
      "source": [
        "df2.show(5)"
      ],
      "metadata": {
        "id": "HqpTAHI13csU",
        "colab": {
          "base_uri": "https://localhost:8080/"
        },
        "outputId": "ad0e8058-4e54-46b5-f48d-4c237bd8bf52"
      },
      "execution_count": 93,
      "outputs": [
        {
          "output_type": "stream",
          "name": "stdout",
          "text": [
            "+---------+-----------+-----------+----+--------+--------------+------+\n",
            "|     data|tipo_cartao|tipo_compra|sexo|montante|   cidade_real|  pais|\n",
            "+---------+-----------+-----------+----+--------+--------------+------+\n",
            "| 3-Mar-15|   Platinum|      Bills|   F|  738108|Greater Mumbai| India|\n",
            "|26-Mar-14|       Gold|      Bills|   F|  234200|         Delhi| India|\n",
            "| 6-May-14|     Silver|       Food|   F|  138342|     Bengaluru| India|\n",
            "|24-Feb-14|       Gold|       Food|   F|  236980|Greater Mumbai| India|\n",
            "|24-Dec-14|     Silver|       Food|   F|  168546|     Bengaluru| India|\n",
            "+---------+-----------+-----------+----+--------+--------------+------+\n",
            "only showing top 5 rows\n",
            "\n"
          ]
        }
      ]
    },
    {
      "cell_type": "code",
      "source": [
        "df2 = df2.withColumnRenamed('cidade_real','cidade')"
      ],
      "metadata": {
        "id": "p9W3IoMs6mAD"
      },
      "execution_count": 94,
      "outputs": []
    },
    {
      "cell_type": "code",
      "source": [
        "df2.groupBy('pais').count().show()"
      ],
      "metadata": {
        "colab": {
          "base_uri": "https://localhost:8080/"
        },
        "id": "nLkm_l8768aR",
        "outputId": "7ae50038-3b18-4169-9f54-58836b456825"
      },
      "execution_count": 95,
      "outputs": [
        {
          "output_type": "stream",
          "name": "stdout",
          "text": [
            "+------+-----+\n",
            "|  pais|count|\n",
            "+------+-----+\n",
            "| India|26052|\n",
            "+------+-----+\n",
            "\n"
          ]
        }
      ]
    },
    {
      "cell_type": "code",
      "source": [
        "df2 = df2.drop('pais')"
      ],
      "metadata": {
        "id": "g8Zv7eMj8KED"
      },
      "execution_count": 96,
      "outputs": []
    },
    {
      "cell_type": "code",
      "source": [
        "df2 = (df2.withColumn('data',F.regexp_replace('data','Jan','01'))\n",
        "         .withColumn('data',F.regexp_replace('data','Feb','02'))\n",
        "         .withColumn('data',F.regexp_replace('data','Mar','03'))\n",
        "         .withColumn('data',F.regexp_replace('data','Apr','04')) \n",
        "         .withColumn('data',F.regexp_replace('data','May','05'))\n",
        "         .withColumn('data',F.regexp_replace('data','Jun','06')) \n",
        "         .withColumn('data',F.regexp_replace('data','Jul','07'))\n",
        "         .withColumn('data',F.regexp_replace('data','Aug','08')) \n",
        "         .withColumn('data',F.regexp_replace('data','Sep','09'))\n",
        "         .withColumn('data',F.regexp_replace('data','Oct','10')) \n",
        "         .withColumn('data',F.regexp_replace('data','Nov','11'))\n",
        "         .withColumn('data',F.regexp_replace('data','Dec','12'))\n",
        ")"
      ],
      "metadata": {
        "id": "dGZz8PlcAePa"
      },
      "execution_count": 97,
      "outputs": []
    },
    {
      "cell_type": "code",
      "source": [
        "df2.show(5)"
      ],
      "metadata": {
        "colab": {
          "base_uri": "https://localhost:8080/"
        },
        "id": "CcfH01yfDuxC",
        "outputId": "b3c31be2-b9e4-45b4-a261-7b6f79f07910"
      },
      "execution_count": 98,
      "outputs": [
        {
          "output_type": "stream",
          "name": "stdout",
          "text": [
            "+--------+-----------+-----------+----+--------+--------------+\n",
            "|    data|tipo_cartao|tipo_compra|sexo|montante|        cidade|\n",
            "+--------+-----------+-----------+----+--------+--------------+\n",
            "| 3-03-15|   Platinum|      Bills|   F|  738108|Greater Mumbai|\n",
            "|26-03-14|       Gold|      Bills|   F|  234200|         Delhi|\n",
            "| 6-05-14|     Silver|       Food|   F|  138342|     Bengaluru|\n",
            "|24-02-14|       Gold|       Food|   F|  236980|Greater Mumbai|\n",
            "|24-12-14|     Silver|       Food|   F|  168546|     Bengaluru|\n",
            "+--------+-----------+-----------+----+--------+--------------+\n",
            "only showing top 5 rows\n",
            "\n"
          ]
        }
      ]
    },
    {
      "cell_type": "code",
      "source": [
        "df2 = df2.withColumn('dia', F.split(F.col('data'),'-').getItem(0))\\\n",
        "         .withColumn('mes', F.split(F.col('data'),'-').getItem(1))\\\n",
        "         .withColumn('ano', F.split(F.col('data'),'-').getItem(2))\n",
        "df2.show(5)"
      ],
      "metadata": {
        "colab": {
          "base_uri": "https://localhost:8080/"
        },
        "id": "HRLHclcZA3P6",
        "outputId": "d2e825a2-9580-4069-9b6d-981698c34220"
      },
      "execution_count": 99,
      "outputs": [
        {
          "output_type": "stream",
          "name": "stdout",
          "text": [
            "+--------+-----------+-----------+----+--------+--------------+---+---+---+\n",
            "|    data|tipo_cartao|tipo_compra|sexo|montante|        cidade|dia|mes|ano|\n",
            "+--------+-----------+-----------+----+--------+--------------+---+---+---+\n",
            "| 3-03-15|   Platinum|      Bills|   F|  738108|Greater Mumbai|  3| 03| 15|\n",
            "|26-03-14|       Gold|      Bills|   F|  234200|         Delhi| 26| 03| 14|\n",
            "| 6-05-14|     Silver|       Food|   F|  138342|     Bengaluru|  6| 05| 14|\n",
            "|24-02-14|       Gold|       Food|   F|  236980|Greater Mumbai| 24| 02| 14|\n",
            "|24-12-14|     Silver|       Food|   F|  168546|     Bengaluru| 24| 12| 14|\n",
            "+--------+-----------+-----------+----+--------+--------------+---+---+---+\n",
            "only showing top 5 rows\n",
            "\n"
          ]
        }
      ]
    },
    {
      "cell_type": "code",
      "source": [
        "df2.groupBy('ano').count().show()"
      ],
      "metadata": {
        "colab": {
          "base_uri": "https://localhost:8080/"
        },
        "id": "N5XWlWN5ETex",
        "outputId": "83fbaec0-d963-46e0-8e06-eb1e404ff74a"
      },
      "execution_count": 100,
      "outputs": [
        {
          "output_type": "stream",
          "name": "stdout",
          "text": [
            "+---+-----+\n",
            "|ano|count|\n",
            "+---+-----+\n",
            "| 15| 6334|\n",
            "| 13| 3927|\n",
            "| 14|15791|\n",
            "+---+-----+\n",
            "\n"
          ]
        }
      ]
    },
    {
      "cell_type": "code",
      "source": [
        "df2 = (df2.withColumn('dia', F.when(F.col('dia')=='1','01')\n",
        "                              .when(F.col('dia')=='2','02')\n",
        "                              .when(F.col('dia')=='3','03')\n",
        "                              .when(F.col('dia')=='4','04')\n",
        "                              .when(F.col('dia')=='5','05')\n",
        "                              .when(F.col('dia')=='6','06')\n",
        "                              .when(F.col('dia')=='7','07')\n",
        "                              .when(F.col('dia')=='8','08')\n",
        "                              .when(F.col('dia')=='9','09')\n",
        "                              .otherwise(F.col('dia')))\n",
        "      )\n",
        "\n",
        "df2 = (df2.withColumn('ano', F.when(F.col('ano')=='13','2013')\n",
        "                              .when(F.col('ano')=='14','2014')\n",
        "                              .otherwise('2015'))\n",
        "      )"
      ],
      "metadata": {
        "id": "N3T9tXNvDGJT"
      },
      "execution_count": 101,
      "outputs": []
    },
    {
      "cell_type": "code",
      "source": [
        "df2 = df2.withColumn('data',F.concat(F.col('ano'),F.lit('-'),F.col('mes'),F.lit('-'),F.col('dia')))\n",
        "df2 = df2.drop('dia','mes','ano')\n",
        "df2 = df2.withColumn('data',F.to_date(F.col('data'),'yyyy-MM-dd'))\n",
        "df2.show(5)"
      ],
      "metadata": {
        "colab": {
          "base_uri": "https://localhost:8080/"
        },
        "id": "1EKBUJ90E-GS",
        "outputId": "0fed964c-7632-40f0-bdfc-f04544352670"
      },
      "execution_count": 102,
      "outputs": [
        {
          "output_type": "stream",
          "name": "stdout",
          "text": [
            "+----------+-----------+-----------+----+--------+--------------+\n",
            "|      data|tipo_cartao|tipo_compra|sexo|montante|        cidade|\n",
            "+----------+-----------+-----------+----+--------+--------------+\n",
            "|2015-03-03|   Platinum|      Bills|   F|  738108|Greater Mumbai|\n",
            "|2014-03-26|       Gold|      Bills|   F|  234200|         Delhi|\n",
            "|2014-05-06|     Silver|       Food|   F|  138342|     Bengaluru|\n",
            "|2014-02-24|       Gold|       Food|   F|  236980|Greater Mumbai|\n",
            "|2014-12-24|     Silver|       Food|   F|  168546|     Bengaluru|\n",
            "+----------+-----------+-----------+----+--------+--------------+\n",
            "only showing top 5 rows\n",
            "\n"
          ]
        }
      ]
    },
    {
      "cell_type": "code",
      "source": [
        "df2.dtypes"
      ],
      "metadata": {
        "colab": {
          "base_uri": "https://localhost:8080/"
        },
        "id": "RNIwvli4GL2Q",
        "outputId": "e1ca2a18-2277-4e5a-e568-3bcb393cc989"
      },
      "execution_count": 103,
      "outputs": [
        {
          "output_type": "execute_result",
          "data": {
            "text/plain": [
              "[('data', 'date'),\n",
              " ('tipo_cartao', 'string'),\n",
              " ('tipo_compra', 'string'),\n",
              " ('sexo', 'string'),\n",
              " ('montante', 'bigint'),\n",
              " ('cidade', 'string')]"
            ]
          },
          "metadata": {},
          "execution_count": 103
        }
      ]
    }
  ]
}