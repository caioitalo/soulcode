{
  "nbformat": 4,
  "nbformat_minor": 0,
  "metadata": {
    "colab": {
      "provenance": [],
      "collapsed_sections": [
        "c3G3jJPp5BbP",
        "0y5kQaDnxgyu",
        "hup2RRt-qVK6",
        "pQfWVCuiriAV",
        "IJ3XbdcyAsi_"
      ],
      "authorship_tag": "ABX9TyO9v0xjX3a+ohpqn/YGCz8a",
      "include_colab_link": true
    },
    "kernelspec": {
      "name": "python3",
      "display_name": "Python 3"
    },
    "language_info": {
      "name": "python"
    }
  },
  "cells": [
    {
      "cell_type": "markdown",
      "metadata": {
        "id": "view-in-github",
        "colab_type": "text"
      },
      "source": [
        "<a href=\"https://colab.research.google.com/github/caioitalo/soulcode/blob/main/Soulcode_Python.ipynb\" target=\"_parent\"><img src=\"https://colab.research.google.com/assets/colab-badge.svg\" alt=\"Open In Colab\"/></a>"
      ]
    },
    {
      "cell_type": "markdown",
      "source": [
        "# Exercícios de operadores"
      ],
      "metadata": {
        "id": "I6IRcnU65Kt3"
      }
    },
    {
      "cell_type": "code",
      "source": [
        "nome = input('Digite seu nome: ')\n",
        "n1 = int(input('Digite um número: '))\n",
        "n2 = int(input('Digite outro número: '))\n",
        "\n",
        "soma = n1 + n2\n",
        "\n",
        "print(f'Olá {nome}!')\n",
        "print(f'A soma dos números é igual a {soma}')\n"
      ],
      "metadata": {
        "colab": {
          "base_uri": "https://localhost:8080/"
        },
        "id": "AbHj9Mf9_Nss",
        "outputId": "256f3a49-c17a-49b3-affd-86fd9f214ce9"
      },
      "execution_count": null,
      "outputs": [
        {
          "output_type": "stream",
          "name": "stdout",
          "text": [
            "Digite um número: 2\n",
            "Digite outro número: 3\n",
            "A soma dos números é igual a 5\n"
          ]
        }
      ]
    },
    {
      "cell_type": "code",
      "source": [
        "n1 = int(input('Digite um número: '))\n",
        "n2 = int(input('Digite outro número: '))\n",
        "\n",
        "prod = n1 * n2\n",
        "\n",
        "print(f'A soma dos números é igual a {prod}')\n"
      ],
      "metadata": {
        "colab": {
          "base_uri": "https://localhost:8080/"
        },
        "id": "hY6uCl--_jGi",
        "outputId": "a836dbdc-ceef-49f8-dd63-3943db5eda16"
      },
      "execution_count": null,
      "outputs": [
        {
          "output_type": "stream",
          "name": "stdout",
          "text": [
            "Digite um número: 1\n",
            "Digite outro número: 2\n",
            "A soma dos números é igual a 3\n"
          ]
        }
      ]
    },
    {
      "cell_type": "code",
      "source": [
        "from google.colab import drive\n",
        "drive.mount('/content/drive')"
      ],
      "metadata": {
        "id": "0lt4iGDIoiNi"
      },
      "execution_count": null,
      "outputs": []
    },
    {
      "cell_type": "code",
      "source": [
        "n1 = int(input('Digite um inteiro: '))\n",
        "\n",
        "if n1 < 10:\n",
        "  print(f'o numero {n1} é menor que 10')\n",
        "\n",
        "elif n1 == 10:\n",
        "  print(f'o numero {n1} é igual a 10')\n",
        "  \n",
        "elif n1 > 10:\n",
        "  print(f'o numero {n1} é maior que 10')"
      ],
      "metadata": {
        "id": "t-aGVsyCSYiT"
      },
      "execution_count": null,
      "outputs": []
    },
    {
      "cell_type": "code",
      "source": [
        "n1 = int(input('Digite um número: '))\n",
        "n2 = int(input('Digite outro número: '))\n",
        "\n",
        "if n1 > n2:\n",
        "  print(f'O 1o número ({n1}) é maior que o 2o ({n2}) ')\n",
        "else:\n",
        "  print(f'O 2o número ({n2}) é maior que o 1o ({n1}) ')"
      ],
      "metadata": {
        "colab": {
          "base_uri": "https://localhost:8080/"
        },
        "id": "mDlS1OgMdeQK",
        "outputId": "b60ca6a9-6c82-44a6-f9eb-412bc01cdf11"
      },
      "execution_count": null,
      "outputs": [
        {
          "output_type": "stream",
          "name": "stdout",
          "text": [
            "Digite um número: 3\n",
            "Digite outro número: 2\n",
            "O 1o número (3) é maior que o 2o (2) \n"
          ]
        }
      ]
    },
    {
      "cell_type": "code",
      "source": [
        "n1 = float(input('Digite um número: '))\n",
        "n2 = float(input('Digite outro número: '))\n",
        "\n",
        "soma = n1 + n2\n",
        "prod = n1 * n2\n",
        "div = n1 / n2\n",
        "exp = n1 ** n2\n",
        "\n",
        "print (f'A soma de {n1} e {n2} é igual a {soma}')\n",
        "print (f'O produto de {n1} e {n2} é igual a {prod}')\n",
        "print (f'A divisão de {n1} e {n2} é igual a {div:.2f}')\n",
        "print (f'A elevação de {n1} e {n2} é igual a {exp}')"
      ],
      "metadata": {
        "colab": {
          "base_uri": "https://localhost:8080/"
        },
        "id": "8lONalOEfEX8",
        "outputId": "1a11f272-0afb-4e2a-e888-98ae0489c87a"
      },
      "execution_count": null,
      "outputs": [
        {
          "output_type": "stream",
          "name": "stdout",
          "text": [
            "Digite um número: 2\n",
            "Digite outro número: 3\n",
            "A soma de 2.0 e 3.0 é igual a 5.0\n",
            "O produto de 2.0 e 3.0 é igual a 6.0\n",
            "A divisão de 2.0 e 3.0 é igual a 0.67\n",
            "A elevação de 2.0 e 3.0 é igual a 8.0\n"
          ]
        }
      ]
    },
    {
      "cell_type": "code",
      "source": [
        "n1 = int(input('Digite um número: '))\n",
        "\n",
        "if n1 % 2 == 0:\n",
        "  print(f'O número {n1} é par')\n",
        "else:\n",
        "  print(f'O número {n1} é ímpar')"
      ],
      "metadata": {
        "colab": {
          "base_uri": "https://localhost:8080/"
        },
        "id": "y1JdxKJGfsY9",
        "outputId": "3459ca80-9b83-4976-c421-8c25bba4113d"
      },
      "execution_count": null,
      "outputs": [
        {
          "output_type": "stream",
          "name": "stdout",
          "text": [
            "Digite um número: 3\n",
            "O número 3 é ímpar\n"
          ]
        }
      ]
    },
    {
      "cell_type": "code",
      "source": [
        "n1 = int(input('Digite um número: '))\n",
        "\n",
        "if n1 == 0:\n",
        "  print('O número digitado é igual a 0.')\n",
        "elif n1 < 0:\n",
        "  print('O número digitado é negativo.')\n",
        "else:\n",
        "  print('O número digitado é positivo.')\n"
      ],
      "metadata": {
        "colab": {
          "base_uri": "https://localhost:8080/"
        },
        "id": "EGrJHJYwL8IZ",
        "outputId": "0870d8d3-13e7-401f-caad-19117dd318b7"
      },
      "execution_count": null,
      "outputs": [
        {
          "output_type": "stream",
          "name": "stdout",
          "text": [
            "Digite um número: 2\n",
            "O número digitado é positivo.\n"
          ]
        }
      ]
    },
    {
      "cell_type": "code",
      "source": [
        "# 1) Faça um programa que leia duas variáveis A e B com números inteiros. \n",
        "#Em seguida inverta os valores de A e B. Exemplo: A = 5, B = 3 , deverá ficar assim: A = 3, B = 5\n",
        "\n",
        "n1 = int(input('Digite um número (A): '))\n",
        "n2 = int(input('Digite outro número (B): '))\n",
        "\n",
        "troca = n2\n",
        "n2 = n1\n",
        "n1 = troca\n",
        "\n",
        "print (f'Houve uma troca. O número A agora vale {n1} e o número B vale {n2}')"
      ],
      "metadata": {
        "colab": {
          "base_uri": "https://localhost:8080/"
        },
        "id": "Cn26uAWnMihf",
        "outputId": "c48b9a3e-1417-4bb2-b39f-5afd3e805462"
      },
      "execution_count": null,
      "outputs": [
        {
          "output_type": "stream",
          "name": "stdout",
          "text": [
            "Digite um número (A): 1\n",
            "Digite outro número (B): 2\n",
            "Houve uma troca. O número A agora vale 2 e o número B vale 1\n"
          ]
        }
      ]
    },
    {
      "cell_type": "code",
      "source": [
        "# 2) Faça um programa que pede duas notas de um aluno. Em seguida ele deve calcular a média do aluno e dar o seguinte resultado:\n",
        "n1 = float(input('Digite a primeira nota: '))\n",
        "n2 = float(input('Digite a segunda nota: '))\n",
        "\n",
        "media = (n1 + n2)/2\n",
        "\n",
        "if media >= 7:\n",
        "  print('Parabéns. Você foi aprovado!')\n",
        "else:\n",
        "  print('Cuidado. Você está em recuperação.')"
      ],
      "metadata": {
        "colab": {
          "base_uri": "https://localhost:8080/"
        },
        "id": "wjlytATgalTJ",
        "outputId": "64cd7d2f-54aa-4c89-a5bd-86a0ab93439d"
      },
      "execution_count": null,
      "outputs": [
        {
          "output_type": "stream",
          "name": "stdout",
          "text": [
            "Digite seu nome: 5\n",
            "Digite a primeira nota: 10\n",
            "Digite a segunda nota: 5\n",
            "Parabéns. Você foi aprovado!\n"
          ]
        }
      ]
    },
    {
      "cell_type": "code",
      "source": [
        "#3) Faça um programa que lê as duas notas parciais obtidas por um aluno numa disciplina ao longo de um semestre, e calcule a sua média. \n",
        "#A atribuição de conceitos obedece à tabela abaixo:\n",
        "n1 = float(input('Digite a primeira nota: '))\n",
        "n2 = float(input('Digite a segunda nota: '))\n",
        "\n",
        "media = (n1 + n2)/2\n",
        "\n",
        "if media == 10 or media >= 9:\n",
        "  print(f'UAU! Sua média é {media:.2f}, seu conceito A e você está APROVADO!')\n",
        "elif media < 9 and media >= 7.5:\n",
        "  print(f'BOA! Sua média é {media:.2f}, seu conceito B e você está APROVADO!')\n",
        "elif media < 7.5 and media >= 6:\n",
        "  print(f'FOI COM EMOÇÂO! Sua média é {media:.2f}, seu conceito C e você está APROVADO!')\n",
        "elif media < 6 and media >= 4:\n",
        "  print(f'AH, QUE PENA! Sua média é {media:.2f}, seu conceito D e você está REPROVADO!')\n",
        "else:\n",
        "  print(f'O QUE ACONTECEU? Sua média é {media:.2f}, seu conceito E e você está REPROVADO!')"
      ],
      "metadata": {
        "colab": {
          "base_uri": "https://localhost:8080/"
        },
        "id": "sXkD5udZbeg8",
        "outputId": "2f819036-9cb6-4b9b-e3da-e53fc0dffef0"
      },
      "execution_count": null,
      "outputs": [
        {
          "output_type": "stream",
          "name": "stdout",
          "text": [
            "Digite a primeira nota: 9.5\n",
            "Digite a segunda nota: 9\n",
            "UAU! Sua média é 9.25, seu conceito A e você está APROVADO!\n"
          ]
        }
      ]
    },
    {
      "cell_type": "code",
      "source": [
        "# 4) Faça um Programa que leia 4 números inteiros e mostre o maior deles. modo fácil:\n",
        "n1 = int(input('Digite um número (A): '))\n",
        "n2 = int(input('Digite outro número (B): '))\n",
        "n3 = int(input('Digite mais um número (C): '))\n",
        "n4 = int(input('Digite um último número (B): '))\n",
        "\n",
        "print(f'O maior número digitado foi o {max(n1, n2, n3, n4)}')"
      ],
      "metadata": {
        "colab": {
          "base_uri": "https://localhost:8080/"
        },
        "id": "P61UFnaceQrq",
        "outputId": "a6fd0e33-1186-4ba4-e36a-a3b05922581d"
      },
      "execution_count": null,
      "outputs": [
        {
          "output_type": "stream",
          "name": "stdout",
          "text": [
            "Digite um número (A): 1\n",
            "Digite outro número (B): 2\n",
            "Digite mais um número (C): 4\n",
            "Digite um último número (B): 3\n",
            "O maior número digitado foi o 4\n"
          ]
        }
      ]
    },
    {
      "cell_type": "code",
      "source": [
        "# 4) Faça um Programa que leia 4 números inteiros e mostre o maior deles. Modo cansativo\n",
        "n1 = int(input('Digite um número (A): '))\n",
        "n2 = int(input('Digite outro número (B): '))\n",
        "n3 = int(input('Digite mais um número (C): '))\n",
        "n4 = int(input('Digite um último número (B): '))\n",
        "\n",
        "if n1 > n2 and n1 > n3 and n1 > n4:\n",
        "  print(f'O maior número digitado foi {n1}')\n",
        "elif n2 > n1 and n2 > n3 and n2 > n4:\n",
        "  print(f'O maior número digitado foi {n2}')\n",
        "elif n3 > n1 and n3 > n2 and n3 > n4:\n",
        "  print(f'O maior número digitado foi {n3}')\n",
        "else:\n",
        "  print(f'O maior número digitado foi {n4}')"
      ],
      "metadata": {
        "colab": {
          "base_uri": "https://localhost:8080/"
        },
        "id": "3hUlCKLHetVP",
        "outputId": "1bc2f227-5fed-405a-92c8-d71f573aeb67"
      },
      "execution_count": null,
      "outputs": [
        {
          "output_type": "stream",
          "name": "stdout",
          "text": [
            "Digite um número (A): 3\n",
            "Digite outro número (B): 2\n",
            "Digite mais um número (C): 4\n",
            "Digite um último número (B): 1\n",
            "O maior número digitado foi 4\n"
          ]
        }
      ]
    },
    {
      "cell_type": "code",
      "source": [
        "# 5) Faça um Programa que pergunte em que turno você estuda. Peça para digitar M-matutino ou V-Vespertino ou N- Noturno. \n",
        "#Imprima a mensagem \"Bom Dia!\", \"Boa Tarde!\" ou \"Boa Noite!\" ou \"Valor Inválido!\", conforme o caso.\n",
        "\n",
        "op = str(input('Digite o turno em que você estuda. M-matutino ou V-Vespertino ou N- Noturno: ')).upper().strip()\n",
        "\n",
        "if op == 'M':\n",
        "  print('Bom dia!')\n",
        "elif op == 'V':\n",
        "  print('Boa tarde!')\n",
        "elif op == 'N':\n",
        "  print('Boa noite!')\n",
        "else:\n",
        "  print('Valor inválido!')"
      ],
      "metadata": {
        "colab": {
          "base_uri": "https://localhost:8080/"
        },
        "id": "en0z1nqIfqU7",
        "outputId": "7edb851c-c163-42e1-b11a-e125b6d6ca83"
      },
      "execution_count": null,
      "outputs": [
        {
          "output_type": "stream",
          "name": "stdout",
          "text": [
            "Digite o turno em que você estuda. M-matutino ou V-Vespertino ou N- Noturno: hg\n",
            "Valor inválido!\n"
          ]
        }
      ]
    },
    {
      "cell_type": "code",
      "source": [
        "#6) Faça um Programa que peça um número correspondente a um determinado ano e em seguida informe se este ano é ou não bissexto. \n",
        "#Para que um ano seja Bissexto ele tem que seguir aos seguintes critérios: Ser múltiplo de 4 e não ser múltiplo de 100 ou ser múltiplo de 400.\n",
        "\n",
        "ano = int(input('Digite um ano: '))\n",
        "\n",
        "if ano % 4 == 0 and (ano % 100 != 0 or ano % 400 == 0):\n",
        "  print(f'O ano {ano} é bissexto')\n",
        "else:\n",
        "  print(f'O ano {ano} não é bissexto')"
      ],
      "metadata": {
        "colab": {
          "base_uri": "https://localhost:8080/"
        },
        "id": "ee3M43tOjPl5",
        "outputId": "b1120f40-4b95-47a0-e3df-73fac48c2719"
      },
      "execution_count": null,
      "outputs": [
        {
          "output_type": "stream",
          "name": "stdout",
          "text": [
            "Digite um ano: 1604\n",
            "O ano 1604 é bissexto\n"
          ]
        }
      ]
    },
    {
      "cell_type": "code",
      "source": [
        "#7) Um posto está vendendo combustíveis com a seguinte tabela de descontos: \n",
        "#Álcool: até 20 litros - desconto de 3% por litro; acima de 20 litros - desconto de 5% por litro.\n",
        "\n",
        "#Gasolina:até 20 litros - desconto de 4% por litro; acima de 20 litros - desconto de 6% por litro \n",
        "\n",
        "#Escreva um algoritmo que leia o número de litros vendidos\n",
        "#o tipo de combustível (codificado da seguinte forma: A-álcool, G-gasolina), \n",
        "#calcule e imprima o valor a ser pago pelo cliente sabendo-se que o preço do litro da gasolina é R$5,50 o preço do litro do álcool é R$3,90.\n",
        "\n",
        "qtd_comb = float(input('Digite a quantidade de combustível a ser adicionado: '))\n",
        "tipo_comb = str(input('Digite o tipo de combustível. A - álcool e G - Gasolina: ')).upper().strip()\n",
        "preco = 0\n",
        "\n",
        "if tipo_comb == 'A' and qtd_comb <= 20:\n",
        "  preco = qtd_comb * 0.97 * 3.90\n",
        "  print(f'Deve-se pagar R${preco:.2f}.')\n",
        "elif tipo_comb == 'A' and qtd_comb > 20:\n",
        "  preco = qtd_comb * 0.95 * 3.90\n",
        "  print(f'Deve-se pagar R${preco:.2f}.')\n",
        "elif tipo_comb == 'G' and qtd_comb <= 20:\n",
        "  preco = qtd_comb * 0.96 * 5.50\n",
        "  print(f'Deve-se pagar R${preco:.2f}.')\n",
        "elif tipo_comb == 'G' and qtd_comb > 20:\n",
        "  preco = qtd_comb * 0.94 * 5.50\n",
        "  print(f'Deve-se pagar R${preco:.2f}.')"
      ],
      "metadata": {
        "colab": {
          "base_uri": "https://localhost:8080/"
        },
        "id": "oX1XQHXTjZ3X",
        "outputId": "a6f147b7-2b61-41f8-f2dd-a57cee9cd0ce"
      },
      "execution_count": null,
      "outputs": [
        {
          "output_type": "stream",
          "name": "stdout",
          "text": [
            "Digite a quantidade de combustível a ser adicionado: 10\n",
            "Digite o tipo de combustível. A - álcool e G - Gasolina: g\n",
            "Deve-se pagar R$52.80.\n"
          ]
        }
      ]
    },
    {
      "cell_type": "markdown",
      "source": [
        "# **Exercícios de String**"
      ],
      "metadata": {
        "id": "c3G3jJPp5BbP"
      }
    },
    {
      "cell_type": "code",
      "source": [
        "# 1) Crie um programa que compara duas strings e veja se elas são iguais.\n",
        "\n",
        "s1 = str(input('Digite algo: ')).upper().\n",
        "s2 = str(input('Digite outro algo: ')).upper()\n",
        "\n",
        "if s1 == s2:\n",
        "  print('Legal, os dois algos são iguais!')\n",
        "else:\n",
        "  print('As duas coisas são diferentes')"
      ],
      "metadata": {
        "colab": {
          "base_uri": "https://localhost:8080/"
        },
        "id": "c774RQoBz5_1",
        "outputId": "94b5b95a-4676-4082-9bb8-1607ff775950"
      },
      "execution_count": null,
      "outputs": [
        {
          "output_type": "stream",
          "name": "stdout",
          "text": [
            "Digite algo: caio italo alves\n",
            "Digite outro algo: caioitaloalves\n",
            "As duas coisas são diferentes\n"
          ]
        }
      ]
    },
    {
      "cell_type": "code",
      "source": [
        "# 2) Faça um programa que leia um nome completo e imprima as 4 primeiras letras do nome.\n",
        "# 3) Com o mesmo nome da questão 2, agora verifique a quantidade de caracteres que contém o nome digitado.\n",
        "nome = str(input('Digite seu nome completo: '))\n",
        "print(nome[0:4])\n",
        "\n",
        "print(len(nome))\n"
      ],
      "metadata": {
        "colab": {
          "base_uri": "https://localhost:8080/"
        },
        "id": "LpkY6mER1bA6",
        "outputId": "938395f3-b36c-4520-9a68-6105e080f9cd"
      },
      "execution_count": null,
      "outputs": [
        {
          "output_type": "stream",
          "name": "stdout",
          "text": [
            "Digite seu nome completo: dino da silva sauro\n",
            "dino\n",
            "19\n"
          ]
        }
      ]
    },
    {
      "cell_type": "code",
      "source": [
        "# 4) Leia uma frase qualquer e verifique se a pessoa digitou a palavra “cachorro” nessa frase (Não importa a maneira como a pessoa escreveu)\n",
        "\n",
        "s1 = str(input('Digite algo: ')).lower()\n",
        "\n",
        "if 'cachorro' in s1:\n",
        "  print('Tem cachorro nessa frase aí, hein!')\n",
        "else:\n",
        "  print('Falta cachorro nessa frase aí.')"
      ],
      "metadata": {
        "colab": {
          "base_uri": "https://localhost:8080/"
        },
        "id": "IcyNgFZ911Hn",
        "outputId": "ca79e052-7297-4cdb-c593-9b3bf92f4df8"
      },
      "execution_count": null,
      "outputs": [
        {
          "output_type": "stream",
          "name": "stdout",
          "text": [
            "Digite algo: o carro é \n",
            "Falta cachorro nessa frase aí.\n"
          ]
        }
      ]
    },
    {
      "cell_type": "code",
      "source": [
        "# 5) Crie um programa que leia uma string e mostre a string de trás pra frente até o 6º caractere\n",
        "\n",
        "s1 = str(input('Digite algo: '))\n",
        "\n",
        "print(s1[:-7:-1])"
      ],
      "metadata": {
        "colab": {
          "base_uri": "https://localhost:8080/"
        },
        "id": "cwdXwY4J2mB7",
        "outputId": "3d274a23-32b4-4cd4-edec-8899508fc886"
      },
      "execution_count": null,
      "outputs": [
        {
          "output_type": "stream",
          "name": "stdout",
          "text": [
            "Digite algo: caio italo\n",
            "olati \n",
            "caioitalo\n"
          ]
        }
      ]
    },
    {
      "cell_type": "code",
      "source": [
        "#6) Faça um programa que conte o numero de 1’s que aparecem em um string. Exemplo: ´ 0011001 -> 3\n",
        "\n",
        "s1 = str(input('Digite uma sequencia binária: '))\n",
        "\n",
        "print(f'Foram digitados {s1.count(\"1\")} números 1 nessa sequência.')"
      ],
      "metadata": {
        "colab": {
          "base_uri": "https://localhost:8080/"
        },
        "id": "BOu35Kyq33tZ",
        "outputId": "02cda5eb-b592-4a2f-a6a1-8529565d5981"
      },
      "execution_count": null,
      "outputs": [
        {
          "output_type": "stream",
          "name": "stdout",
          "text": [
            "Digite uma sequencia binária: 101100010111010110011\n",
            "Foram digitados 12 números 1 nessa sequência.\n"
          ]
        }
      ]
    },
    {
      "cell_type": "code",
      "source": [
        "# 7) Escreva um programa que substitui as ocorrências de um caractere 0 em uma string por ˆ outro caractere 1.\n",
        "s1 = str(input('Digite algo: '))\n",
        "s1 = s1.replace('0','1')\n",
        "\n",
        "print(s1)"
      ],
      "metadata": {
        "colab": {
          "base_uri": "https://localhost:8080/"
        },
        "id": "s73ogSgm4bCg",
        "outputId": "2778a7a4-9f01-432c-d8bd-b0c50f5d9cf4"
      },
      "execution_count": null,
      "outputs": [
        {
          "output_type": "stream",
          "name": "stdout",
          "text": [
            "Digite algo: 1000100010100\n",
            "1111111111111\n"
          ]
        }
      ]
    },
    {
      "cell_type": "code",
      "source": [
        "# 8) Faça um programa em que troque todas as ocorrências de uma letra L1 pela letra L2 em ˆ uma string. \n",
        "#A string e as letras L1 e L2 devem ser fornecidas pelo usuario.\n",
        "\n",
        "s1 = str(input('Digite algo: '))\n",
        "l_rm = str(input('Digite a letra que deve ser removida: '))\n",
        "l_add = str(input('Digite a letra que deve ser adicionada: '))\n",
        "\n",
        "s1 = s1.replace(l_rm,l_add)\n",
        "\n",
        "print(s1)"
      ],
      "metadata": {
        "colab": {
          "base_uri": "https://localhost:8080/"
        },
        "id": "olSTTov74riS",
        "outputId": "ce94545e-8fd7-4657-b20a-1dc2a938c86e"
      },
      "execution_count": null,
      "outputs": [
        {
          "output_type": "stream",
          "name": "stdout",
          "text": [
            "Digite algo: a casa da naara é branca\n",
            "Digite a letra que deve ser removida: a\n",
            "Digite a letra que deve ser adicionada: i\n",
            "i cisi di niiri é brinci\n"
          ]
        }
      ]
    },
    {
      "cell_type": "code",
      "source": [
        "# 9) Faça um programa que receba duas frases distintas e imprima de maneira invertida, trocando as letras A por *.\n",
        "\n",
        "s1 = str(input('Digite algo: '))\n",
        "s2 = str(input('Digite outro algo: '))\n",
        "\n",
        "\n",
        "print(s1[::-1].replace('a', '*'))\n",
        "print(s2[::-1].replace('a', '*'))\n"
      ],
      "metadata": {
        "colab": {
          "base_uri": "https://localhost:8080/"
        },
        "id": "zuHVtZ0X6cKF",
        "outputId": "478e0f76-8c65-4fe6-838e-69dd66c15976"
      },
      "execution_count": null,
      "outputs": [
        {
          "output_type": "stream",
          "name": "stdout",
          "text": [
            "Digite algo: a casa da nara é branca\n",
            "Digite outro algo: a casa do caio é preta\n",
            "*cn*rb é *r*n *d *s*c *\n",
            "*terp é oi*c od *s*c *\n"
          ]
        }
      ]
    },
    {
      "cell_type": "markdown",
      "source": [
        "#Exercícios While"
      ],
      "metadata": {
        "id": "0y5kQaDnxgyu"
      }
    },
    {
      "cell_type": "code",
      "source": [
        "# #3) Faça um algoritmo para escrever na tela os números de 0 a 500\n",
        "cont = 1\n",
        "\n",
        "while cont <= 500:\n",
        "  print(f'{cont}')\n",
        "  cont += 1\n",
        "\n",
        "print('acabou!')"
      ],
      "metadata": {
        "id": "7LJ2T3Y3xmBt"
      },
      "execution_count": null,
      "outputs": []
    },
    {
      "cell_type": "code",
      "source": [
        "#4) Faça um algoritmo para escrever na tela os números de 300 a 100 em ordem decrescente\n",
        "cont = 300\n",
        "\n",
        "while cont >= 100:\n",
        "  print(f'{cont}')\n",
        "  cont -= 1\n",
        "\n",
        "print('acabou!')"
      ],
      "metadata": {
        "id": "zte08Y1WyPcJ"
      },
      "execution_count": null,
      "outputs": []
    },
    {
      "cell_type": "code",
      "source": [
        "#5) Faça um algoritmo para escrever na tela os números de 300 a 100 em ordem decrescente\n",
        "cont = 300\n",
        "\n",
        "while cont >= 100:\n",
        "  if cont % 4 == 0:\n",
        "    print(cont, end=' > ')\n",
        "  cont -= 1\n",
        "\n",
        "print('acabou!')\n"
      ],
      "metadata": {
        "colab": {
          "base_uri": "https://localhost:8080/"
        },
        "id": "aiZPJymYyjUI",
        "outputId": "6e577f1d-65e5-404f-e9ac-9073bece3098"
      },
      "execution_count": null,
      "outputs": [
        {
          "output_type": "stream",
          "name": "stdout",
          "text": [
            "300 > 296 > 292 > 288 > 284 > 280 > 276 > 272 > 268 > 264 > 260 > 256 > 252 > 248 > 244 > 240 > 236 > 232 > 228 > 224 > 220 > 216 > 212 > 208 > 204 > 200 > 196 > 192 > 188 > 184 > 180 > 176 > 172 > 168 > 164 > 160 > 156 > 152 > 148 > 144 > 140 > 136 > 132 > 128 > 124 > 120 > 116 > 112 > 108 > 104 > 100 > acabou!\n"
          ]
        }
      ]
    },
    {
      "cell_type": "code",
      "source": [
        "# 1) Faça um algoritmo que imprima na tela uma sequência de 10 números pares a partir do 1.\n",
        "par = 0\n",
        "cont = 1\n",
        "\n",
        "while par < 10:\n",
        "  if cont % 2 == 0:\n",
        "    print(cont, end=' > ')\n",
        "    par += 1\n",
        "  cont += 1\n",
        "\n",
        "print('acabou!')"
      ],
      "metadata": {
        "colab": {
          "base_uri": "https://localhost:8080/"
        },
        "id": "VMXrdGmq5E9K",
        "outputId": "a6c3948e-658d-48db-bd21-a8186ebb10b4"
      },
      "execution_count": null,
      "outputs": [
        {
          "output_type": "stream",
          "name": "stdout",
          "text": [
            "2 > 4 > 6 > 8 > 10 > 12 > 14 > 16 > 18 > 20 > acabou!\n"
          ]
        }
      ]
    },
    {
      "cell_type": "code",
      "source": [
        "# 2) Faça um programa que apresente na tela os 10 primeiros números negativos.\n",
        "num = 0\n",
        "cont = -1\n",
        "\n",
        "while num < 10:\n",
        "  print(cont, end=' > ')\n",
        "  num += 1\n",
        "  cont -= 1\n",
        "\n",
        "\n",
        "print('acabou!')"
      ],
      "metadata": {
        "colab": {
          "base_uri": "https://localhost:8080/"
        },
        "id": "PfM4FbhM6CGU",
        "outputId": "e2a4406b-3819-4fe6-d467-cdf43bfedb80"
      },
      "execution_count": null,
      "outputs": [
        {
          "output_type": "stream",
          "name": "stdout",
          "text": [
            "-1 > -2 > -3 > -4 > -5 > -6 > -7 > -8 > -9 > -10 > acabou!\n"
          ]
        }
      ]
    },
    {
      "cell_type": "code",
      "source": [
        "# 3) Faça um algoritmo que leia um número positivo e imprima na tela todos os divisores desse número\n",
        "cont = 1\n",
        "\n",
        "n1 = int(input('Digite um inteiro para calcular seus divisores: '))\n",
        "\n",
        "while cont <= n1/2:\n",
        "  if n1 % cont == 0:\n",
        "    print(cont, end = ' > ')\n",
        "  cont += 1\n",
        "print('acabou')\n"
      ],
      "metadata": {
        "colab": {
          "base_uri": "https://localhost:8080/"
        },
        "id": "1BSd7KM16fW-",
        "outputId": "394f45e6-6abe-4d1d-e027-1dd407572faf"
      },
      "execution_count": null,
      "outputs": [
        {
          "output_type": "stream",
          "name": "stdout",
          "text": [
            "Digite um inteiro para calcular seus divisores: 2550\n",
            "1 > 2 > 3 > 5 > 6 > 10 > 15 > 17 > 25 > 30 > 34 > 50 > 51 > 75 > 85 > 102 > 150 > 170 > 255 > 425 > 510 > 850 > 1275 > acabou\n"
          ]
        }
      ]
    },
    {
      "cell_type": "code",
      "source": [
        "# 4) Faça um programa que leia N notas e mostre na tela a média das notas lidas.\n",
        "cont = 1\n",
        "num_notas = int(input('Digite quantas notas serão inseridas: '))\n",
        "soma_notas = 0\n",
        "\n",
        "while cont <= num_notas:\n",
        "  soma_notas += float(input(f'Digite a nota {cont}: '))\n",
        "  cont += 1\n",
        "\n",
        "media = soma_notas / num_notas\n",
        "print(f'A média das notas foi igual a {media}')\n"
      ],
      "metadata": {
        "id": "wxu0KSa17hXI"
      },
      "execution_count": null,
      "outputs": []
    },
    {
      "cell_type": "code",
      "source": [
        "# 5) Escreva um algoritmo que leia um valor inicial A e uma razão R e imprima uma seqüência em P.A. contendo 10 valores.\n",
        "c = 1\n",
        "a1 = float(input('Digite o primeiro elemento da P.A: '))\n",
        "razao = float(input('Digite a razão da P.A: '))\n",
        "\n",
        "while c <= 10:\n",
        "  a1 = an + (c - 1) * razao\n",
        "  print(an, end = ' > ')\n",
        "  c += 1\n",
        "print('acabou')"
      ],
      "metadata": {
        "colab": {
          "base_uri": "https://localhost:8080/"
        },
        "id": "IEWpyO6Y9IEp",
        "outputId": "828256eb-ee23-4aa6-ce88-b52241a43e8b"
      },
      "execution_count": null,
      "outputs": [
        {
          "output_type": "stream",
          "name": "stdout",
          "text": [
            "Digite o primeiro elemento da P.A: 2\n",
            "Digite a razão da P.A: 3\n",
            "2.0 > 5.0 > 11.0 > 20.0 > 32.0 > 47.0 > 65.0 > 86.0 > 110.0 > 137.0 > acabou\n"
          ]
        }
      ]
    },
    {
      "cell_type": "code",
      "source": [
        "# 6) Escrever um algoritmo que gera e escreve os números ímpares entre 100 e 200.\n",
        "cont = 100\n",
        "\n",
        "while cont <= 200:\n",
        "  if cont % 2 != 0:\n",
        "    print(cont, end= ' > ')\n",
        "\n",
        "  cont += 1\n",
        "\n",
        "print('acabou!')\n"
      ],
      "metadata": {
        "colab": {
          "base_uri": "https://localhost:8080/"
        },
        "id": "lmkXDqFP-at5",
        "outputId": "6fa1cf49-ca60-4c2d-a7ca-3fdf0930ef2d"
      },
      "execution_count": null,
      "outputs": [
        {
          "output_type": "stream",
          "name": "stdout",
          "text": [
            "101 > 103 > 105 > 107 > 109 > 111 > 113 > 115 > 117 > 119 > 121 > 123 > 125 > 127 > 129 > 131 > 133 > 135 > 137 > 139 > 141 > 143 > 145 > 147 > 149 > 151 > 153 > 155 > 157 > 159 > 161 > 163 > 165 > 167 > 169 > 171 > 173 > 175 > 177 > 179 > 181 > 183 > 185 > 187 > 189 > 191 > 193 > 195 > 197 > 199 > acabou!\n"
          ]
        }
      ]
    },
    {
      "cell_type": "code",
      "source": [
        "# 7) Crie uma tabuada do 1 ao 10 utilizando o comando while\n",
        "num = 1\n",
        "while num < 10:\n",
        "  c = 1\n",
        "  while c <= 10:\n",
        "    print(f'{num} x {c} = {num * c}')\n",
        "    c += 1\n",
        "  num += 1\n",
        "  print ('=-' *20)"
      ],
      "metadata": {
        "id": "_3hePvLB_I3G"
      },
      "execution_count": null,
      "outputs": []
    },
    {
      "cell_type": "code",
      "source": [
        "#8) Desenvolver um algoritmo que leia um número não determinado de valores e calcule e escreva a média aritmética dos valores lidos, \n",
        "#a quantidade de valores positivos, a quantidade de valores negativos e o percentual de valores negativos e positivos.\n",
        "\n",
        "soma_num = neg = pos = 0\n",
        "\n",
        "while True:\n",
        "  num = float(input(f'Digite o número {cont}: '))\n",
        "  if num == 0:\n",
        "    break\n",
        "  \n",
        "  soma_num += num\n",
        "  if num > 0:\n",
        "    pos += 1\n",
        "  else:\n",
        "    neg += 1\n",
        "\n",
        "media = soma_num / num\n",
        "print(f'A média foi igual a {media:2f}')\n",
        "print(f'Foram digitados {neg} números negativos ({(neg * 100)/ num:.2f})%')\n",
        "print(f'Foram digitados {neg} números positivos ({(pos * 100)/ num:.2f})%')\n"
      ],
      "metadata": {
        "id": "5ZvPYgEvAwIA"
      },
      "execution_count": null,
      "outputs": []
    },
    {
      "cell_type": "code",
      "source": [
        "# 9) Escrever um algoritmo que leia uma quantidade desconhecida de números e conte quantos deles estão nos seguintes intervalos: [0-25], [26-50], [51-75] e [76-100]. \n",
        "#A entrada de dados deve terminar quando for lido um número negativo.\n",
        "num = 0\n",
        "int1 = int2 = int3 = int4 = 0\n",
        "\n",
        "while num >= 0:\n",
        "  num = int(input('Digite um número de 0 a 100:'))\n",
        "  if 0 <= num <= 25:\n",
        "    int1 += 1\n",
        "  elif 26 <= num <= 50:\n",
        "    int2 += 1\n",
        "  elif 51 <= num <= 75:\n",
        "    int3 += 1\n",
        "  elif 76 <= num <= 100:\n",
        "    int4 += 1\n",
        "\n",
        "print(f'Foram digitados {int1} números entre 0 e 25')\n",
        "print(f'Foram digitados {int2} números entre 26 e 50')\n",
        "print(f'Foram digitados {int3} números entre 0 e 75')\n",
        "print(f'Foram digitados {int4} números entre 0 e 100')\n"
      ],
      "metadata": {
        "id": "wMhPPjzpC225"
      },
      "execution_count": null,
      "outputs": []
    },
    {
      "cell_type": "code",
      "source": [
        "# 10) Escreva um algoritmo que leia um valor inicial A e imprima a seqüência de valores do cálculo de A! e o seu resultado. \n",
        "# Ex: 5! = 5 X 4 X 3 X 2 X 1 = 120\n",
        "\n",
        "result = 1\n",
        "fat = int(input('Digite o fatorial a ser calculado: '))\n",
        "c = fat\n",
        "while c > 0:\n",
        "  result *= c\n",
        "  c -= 1\n",
        "print(f'O fatorial de {fat} é {result}')\n"
      ],
      "metadata": {
        "colab": {
          "base_uri": "https://localhost:8080/"
        },
        "id": "ce8sty3gF5vK",
        "outputId": "336a2dd0-bf88-476c-bdac-2c59522e13e1"
      },
      "execution_count": null,
      "outputs": [
        {
          "output_type": "stream",
          "name": "stdout",
          "text": [
            "Digite o fatorial a ser calculado: 1\n",
            "O fatorial de 1 é 1\n"
          ]
        }
      ]
    },
    {
      "cell_type": "markdown",
      "source": [
        "# Exercícios For"
      ],
      "metadata": {
        "id": "hup2RRt-qVK6"
      }
    },
    {
      "cell_type": "code",
      "source": [
        "#1) Crie um programa em Python que escreva na tela os números de 250 a 120 em ordem decrescente.\n",
        "for c in range (250, 119, -1):\n",
        "  print(c, end=' > ')\n",
        "print('FIM')"
      ],
      "metadata": {
        "colab": {
          "base_uri": "https://localhost:8080/"
        },
        "id": "yWhCpjNCqZIT",
        "outputId": "a339c002-e4bd-4569-e3f2-0319a433b68d"
      },
      "execution_count": null,
      "outputs": [
        {
          "output_type": "stream",
          "name": "stdout",
          "text": [
            "250 > 249 > 248 > 247 > 246 > 245 > 244 > 243 > 242 > 241 > 240 > 239 > 238 > 237 > 236 > 235 > 234 > 233 > 232 > 231 > 230 > 229 > 228 > 227 > 226 > 225 > 224 > 223 > 222 > 221 > 220 > 219 > 218 > 217 > 216 > 215 > 214 > 213 > 212 > 211 > 210 > 209 > 208 > 207 > 206 > 205 > 204 > 203 > 202 > 201 > 200 > 199 > 198 > 197 > 196 > 195 > 194 > 193 > 192 > 191 > 190 > 189 > 188 > 187 > 186 > 185 > 184 > 183 > 182 > 181 > 180 > 179 > 178 > 177 > 176 > 175 > 174 > 173 > 172 > 171 > 170 > 169 > 168 > 167 > 166 > 165 > 164 > 163 > 162 > 161 > 160 > 159 > 158 > 157 > 156 > 155 > 154 > 153 > 152 > 151 > 150 > 149 > 148 > 147 > 146 > 145 > 144 > 143 > 142 > 141 > 140 > 139 > 138 > 137 > 136 > 135 > 134 > 133 > 132 > 131 > 130 > 129 > 128 > 127 > 126 > 125 > 124 > 123 > 122 > 121 > 120 > FIM\n"
          ]
        }
      ]
    },
    {
      "cell_type": "code",
      "source": [
        "#2) Crie um programa em Python que escreva na tela os números de 1000 a 1500 em ordem crescente.\n",
        "for c in range (1000, 1501):\n",
        "  print(c, end=' > ')\n",
        "print('FIM')"
      ],
      "metadata": {
        "colab": {
          "base_uri": "https://localhost:8080/"
        },
        "id": "wu_4pVtrsHz6",
        "outputId": "71122254-b8b1-43d6-b7aa-6acf7cd504b1"
      },
      "execution_count": null,
      "outputs": [
        {
          "output_type": "stream",
          "name": "stdout",
          "text": [
            "1000 > 1001 > 1002 > 1003 > 1004 > 1005 > 1006 > 1007 > 1008 > 1009 > 1010 > 1011 > 1012 > 1013 > 1014 > 1015 > 1016 > 1017 > 1018 > 1019 > 1020 > 1021 > 1022 > 1023 > 1024 > 1025 > 1026 > 1027 > 1028 > 1029 > 1030 > 1031 > 1032 > 1033 > 1034 > 1035 > 1036 > 1037 > 1038 > 1039 > 1040 > 1041 > 1042 > 1043 > 1044 > 1045 > 1046 > 1047 > 1048 > 1049 > 1050 > 1051 > 1052 > 1053 > 1054 > 1055 > 1056 > 1057 > 1058 > 1059 > 1060 > 1061 > 1062 > 1063 > 1064 > 1065 > 1066 > 1067 > 1068 > 1069 > 1070 > 1071 > 1072 > 1073 > 1074 > 1075 > 1076 > 1077 > 1078 > 1079 > 1080 > 1081 > 1082 > 1083 > 1084 > 1085 > 1086 > 1087 > 1088 > 1089 > 1090 > 1091 > 1092 > 1093 > 1094 > 1095 > 1096 > 1097 > 1098 > 1099 > 1100 > 1101 > 1102 > 1103 > 1104 > 1105 > 1106 > 1107 > 1108 > 1109 > 1110 > 1111 > 1112 > 1113 > 1114 > 1115 > 1116 > 1117 > 1118 > 1119 > 1120 > 1121 > 1122 > 1123 > 1124 > 1125 > 1126 > 1127 > 1128 > 1129 > 1130 > 1131 > 1132 > 1133 > 1134 > 1135 > 1136 > 1137 > 1138 > 1139 > 1140 > 1141 > 1142 > 1143 > 1144 > 1145 > 1146 > 1147 > 1148 > 1149 > 1150 > 1151 > 1152 > 1153 > 1154 > 1155 > 1156 > 1157 > 1158 > 1159 > 1160 > 1161 > 1162 > 1163 > 1164 > 1165 > 1166 > 1167 > 1168 > 1169 > 1170 > 1171 > 1172 > 1173 > 1174 > 1175 > 1176 > 1177 > 1178 > 1179 > 1180 > 1181 > 1182 > 1183 > 1184 > 1185 > 1186 > 1187 > 1188 > 1189 > 1190 > 1191 > 1192 > 1193 > 1194 > 1195 > 1196 > 1197 > 1198 > 1199 > 1200 > 1201 > 1202 > 1203 > 1204 > 1205 > 1206 > 1207 > 1208 > 1209 > 1210 > 1211 > 1212 > 1213 > 1214 > 1215 > 1216 > 1217 > 1218 > 1219 > 1220 > 1221 > 1222 > 1223 > 1224 > 1225 > 1226 > 1227 > 1228 > 1229 > 1230 > 1231 > 1232 > 1233 > 1234 > 1235 > 1236 > 1237 > 1238 > 1239 > 1240 > 1241 > 1242 > 1243 > 1244 > 1245 > 1246 > 1247 > 1248 > 1249 > 1250 > 1251 > 1252 > 1253 > 1254 > 1255 > 1256 > 1257 > 1258 > 1259 > 1260 > 1261 > 1262 > 1263 > 1264 > 1265 > 1266 > 1267 > 1268 > 1269 > 1270 > 1271 > 1272 > 1273 > 1274 > 1275 > 1276 > 1277 > 1278 > 1279 > 1280 > 1281 > 1282 > 1283 > 1284 > 1285 > 1286 > 1287 > 1288 > 1289 > 1290 > 1291 > 1292 > 1293 > 1294 > 1295 > 1296 > 1297 > 1298 > 1299 > 1300 > 1301 > 1302 > 1303 > 1304 > 1305 > 1306 > 1307 > 1308 > 1309 > 1310 > 1311 > 1312 > 1313 > 1314 > 1315 > 1316 > 1317 > 1318 > 1319 > 1320 > 1321 > 1322 > 1323 > 1324 > 1325 > 1326 > 1327 > 1328 > 1329 > 1330 > 1331 > 1332 > 1333 > 1334 > 1335 > 1336 > 1337 > 1338 > 1339 > 1340 > 1341 > 1342 > 1343 > 1344 > 1345 > 1346 > 1347 > 1348 > 1349 > 1350 > 1351 > 1352 > 1353 > 1354 > 1355 > 1356 > 1357 > 1358 > 1359 > 1360 > 1361 > 1362 > 1363 > 1364 > 1365 > 1366 > 1367 > 1368 > 1369 > 1370 > 1371 > 1372 > 1373 > 1374 > 1375 > 1376 > 1377 > 1378 > 1379 > 1380 > 1381 > 1382 > 1383 > 1384 > 1385 > 1386 > 1387 > 1388 > 1389 > 1390 > 1391 > 1392 > 1393 > 1394 > 1395 > 1396 > 1397 > 1398 > 1399 > 1400 > 1401 > 1402 > 1403 > 1404 > 1405 > 1406 > 1407 > 1408 > 1409 > 1410 > 1411 > 1412 > 1413 > 1414 > 1415 > 1416 > 1417 > 1418 > 1419 > 1420 > 1421 > 1422 > 1423 > 1424 > 1425 > 1426 > 1427 > 1428 > 1429 > 1430 > 1431 > 1432 > 1433 > 1434 > 1435 > 1436 > 1437 > 1438 > 1439 > 1440 > 1441 > 1442 > 1443 > 1444 > 1445 > 1446 > 1447 > 1448 > 1449 > 1450 > 1451 > 1452 > 1453 > 1454 > 1455 > 1456 > 1457 > 1458 > 1459 > 1460 > 1461 > 1462 > 1463 > 1464 > 1465 > 1466 > 1467 > 1468 > 1469 > 1470 > 1471 > 1472 > 1473 > 1474 > 1475 > 1476 > 1477 > 1478 > 1479 > 1480 > 1481 > 1482 > 1483 > 1484 > 1485 > 1486 > 1487 > 1488 > 1489 > 1490 > 1491 > 1492 > 1493 > 1494 > 1495 > 1496 > 1497 > 1498 > 1499 > 1500 > FIM\n"
          ]
        }
      ]
    },
    {
      "cell_type": "code",
      "source": [
        "#3) Crie um programa em Python que escreva na tela os números de 150 a 1000 em ordem crescente que são multiplos de 3\n",
        "for c in range (150, 1001, 3):\n",
        "  print(c, end=' > ')\n",
        "print('FIM')"
      ],
      "metadata": {
        "id": "iV6rKbUCsI_q"
      },
      "execution_count": null,
      "outputs": []
    },
    {
      "cell_type": "code",
      "source": [
        "#4) Crie um programa em Python que escreva na tela os números de 10 a N que são múltiplos de 4, \n",
        "#onde o N é informado pelo usuário e deve ser maior que 10. \n",
        "\n",
        "num = int(input('Digite um inteiro maior que 10: '))\n",
        "while num < 10:\n",
        "  num = int(input('Valor inválido. Digite um inteiro maior que 10: '))\n",
        "\n",
        "for c in range(10, num+1, 4):\n",
        "  print(c, end=' > ')\n",
        "print('FIM')"
      ],
      "metadata": {
        "id": "LS_FoH7bxFs_"
      },
      "execution_count": null,
      "outputs": []
    },
    {
      "cell_type": "code",
      "source": [
        "#3) Em uma turma há 10 alunos. Cada aluno tem 2 notas.\n",
        "# Um professor precisa calcular a média das duas notas de cada aluno. \n",
        "#Crie um programa que resolva este problema.\n",
        "\n",
        "for c in range(1,11):\n",
        "  n1 = float(input(f'Digite a nota 1 do aluno{c}: '))\n",
        "  while 0 > n1 or n1 > 10:\n",
        "    n1 = float(input(f'Nota inválida. Digite entre 0 e 10 a nota 1 do aluno{c}: '))\n",
        "  n2 = float(input(f'Digite a nota 2 do aluno{c}: '))\n",
        "  while 0 > n1 or n1 > 10:\n",
        "    n2 = float(input(f'Nota inválida. Digite entre 0 e 10 a nota 2 do aluno{c}: '))\n",
        "    \n",
        "  media = (n1 + n2) /2\n",
        "  print(f'A média do aluno {c} foi igual a {media:.2f}')\n",
        "  print('-=' * 30)\n"
      ],
      "metadata": {
        "id": "C9euiyc3zTmi"
      },
      "execution_count": null,
      "outputs": []
    },
    {
      "cell_type": "code",
      "source": [
        "#4) Utilizando a estrutura de repetição for, faça um programa em Python que receba 10 números \n",
        "#e conte quantos deles estão no intervalo [10,20] e quantos deles estão fora do intervalo, \n",
        "#escrevendo estas informações.\n",
        "dentro_int = fora_int = 0\n",
        "\n",
        "for c in range(1, 11):\n",
        "  num = int(input(f'Digite o inteiro {c}: '))\n",
        "\n",
        "  if 10 <= num <= 20:\n",
        "    dentro_int += 1\n",
        "  else:\n",
        "    fora_int += 1\n",
        "\n",
        "print(f'Foram digitados {dentro_int} números dentro do intervalo [10,20].')\n",
        "print(f'Foram digitados {fora_int} números fora do intervalo [10,20].')"
      ],
      "metadata": {
        "id": "B0i-cYERzvaL"
      },
      "execution_count": null,
      "outputs": []
    },
    {
      "cell_type": "code",
      "source": [
        "#5) Crie um programa em Python que leia N números (N digitado pelo usuário) e \n",
        "#mostre na tela a soma de todos os números lidos.\n",
        "soma = 0\n",
        "\n",
        "qtde = int(input('Digite a quantidade de números a serem somados: '))\n",
        "while qtde <= 0:\n",
        "  qtde = ('Quantidade inválida. Digite a quantidade de números a serem somados: ')\n",
        "\n",
        "for c in range (1, qtde+1):\n",
        "  num = int(input(f'Digite o número {c}: '))\n",
        "  soma += num\n",
        "print('-=' * 30)\n",
        "print(f'A soma dos números digitados é igual a {soma}')  "
      ],
      "metadata": {
        "colab": {
          "base_uri": "https://localhost:8080/"
        },
        "id": "Z9O5VcFQ2qcV",
        "outputId": "fe183c62-6b3e-4b29-a040-d377f1e272d1"
      },
      "execution_count": null,
      "outputs": [
        {
          "output_type": "stream",
          "name": "stdout",
          "text": [
            "Digite a quantidade de números a serem somados: 3\n",
            "Digite o número 1: 3\n",
            "Digite o número 2: 4\n",
            "-=-=-=-=-=-=-=-=-=-=-=-=-=-=-=-=-=-=-=-=-=-=-=-=-=-=-=-=-=-=\n",
            "A soma dos números digitados é igual a 7\n"
          ]
        }
      ]
    },
    {
      "cell_type": "markdown",
      "source": [
        "# Exercícios Listas"
      ],
      "metadata": {
        "id": "pQfWVCuiriAV"
      }
    },
    {
      "cell_type": "code",
      "source": [
        "# 1) Faça um Programa que leia uma lista de 5 números inteiros e mostre-os.\n",
        "num =[]\n",
        "\n",
        "for c in range(5):\n",
        "  num.append(int(input(f'Digite o {c+1} número: ')))\n",
        "\n",
        "for i in num:\n",
        "  print(i, end=' > ')\n",
        "\n",
        "print('FIM')"
      ],
      "metadata": {
        "id": "i3d5_unfrlwJ"
      },
      "execution_count": null,
      "outputs": []
    },
    {
      "cell_type": "code",
      "source": [
        "# 2) Faça um Programa que leia uma lista de 10 números reais e mostre-os na ordem inversa.\n",
        "num =[]\n",
        "\n",
        "for c in range(10):\n",
        "  num.append(float(input(f'Digite o {c+1}º número: ')))\n",
        "\n",
        "for i in range(len(num)-1 , -1, -1): # a forma mais fácil era usar num.reverse()\n",
        "  print(num[i], end=' > ')\n",
        "\n",
        "print('FIM')\n",
        "\n"
      ],
      "metadata": {
        "colab": {
          "base_uri": "https://localhost:8080/"
        },
        "id": "454uosV9volt",
        "outputId": "8dca2686-86f3-4db4-c782-64bd9923c7f7"
      },
      "execution_count": null,
      "outputs": [
        {
          "output_type": "stream",
          "name": "stdout",
          "text": [
            "Digite o 1º número: 2\n",
            "Digite o 2º número: 3\n",
            "Digite o 3º número: 1\n",
            "Digite o 4º número: 4\n",
            "Digite o 5º número: 5\n",
            "Digite o 6º número: 6\n",
            "Digite o 7º número: 7\n",
            "Digite o 8º número: 8\n",
            "Digite o 9º número: 9\n",
            "Digite o 10º número: 10\n",
            "10 > 9 > 8 > 7 > 6 > 5 > 4 > 3 > 2 > 1 > FIM\n"
          ]
        }
      ]
    },
    {
      "cell_type": "code",
      "source": [
        "# 3) Faça um Programa que leia 4 notas de aluno e armazene-as dentro de uma lista. Em seguida mostre as notas e a média das notas na tela.\n",
        "notas = []\n",
        "soma = 0\n",
        "\n",
        "for c in range(4):\n",
        "  notas.append(float(input(f'Digite o {c+1}ª nota: ')))\n",
        "  while notas[c] < 0 or notas[c] > 10:\n",
        "    notas.pop()\n",
        "    notas.append(float(input(f'Nota inválida! Digite o {c+1}ª nota: ')))    \n",
        "  soma += notas[c]\n",
        "\n",
        "media = soma / 4\n",
        "\n",
        "print(f'Notas do aluno {i}', end=' ')\n",
        "for i in notas:\n",
        "  print(i, end=' ')\n",
        "\n",
        "\n",
        "print(f'\\nA média das notas é igual a {media}')\n"
      ],
      "metadata": {
        "colab": {
          "base_uri": "https://localhost:8080/"
        },
        "id": "501UiMJAwMy1",
        "outputId": "42e93485-8a1e-468d-919a-f2a7f00c937c"
      },
      "execution_count": null,
      "outputs": [
        {
          "output_type": "stream",
          "name": "stdout",
          "text": [
            "Digite o 1ª nota: 3\n",
            "Digite o 2ª nota: 4\n",
            "Digite o 3ª nota: 5\n",
            "Digite o 4ª nota: 6\n",
            "Notas do aluno 3 3.0, 4.0, 5.0, 6.0, \n",
            "A média das notas é igual a 4.5\n"
          ]
        }
      ]
    },
    {
      "cell_type": "code",
      "source": [
        "# 4) Faça um Programa que leia 20 números inteiros e armazene-os numa lista. \n",
        "# Em seguida, crie mais 2 listas, uma para armazenar os números pares e outra para armazenar os números impares. Ao final, Imprima as três listas.\n",
        "num = []\n",
        "par = []\n",
        "impar = []\n",
        "\n",
        "for c in range(5):\n",
        "  num.append(int(input(f'Digite o {c+1}º número: ')))\n",
        "\n",
        "for c in num:\n",
        "  if c % 2 == 0:\n",
        "    par.append(c)\n",
        "  else:\n",
        "    impar.append(c)\n",
        "\n",
        "print('-=' * 20)\n",
        "\n",
        "print('LISTA DE NÚMEROS: ', end='')\n",
        "for i in num:\n",
        "  print(i, end=' ')\n",
        "\n",
        "print('\\nLISTA DE PARES: ', end='')\n",
        "for i in par:\n",
        "  print(i, end=' ')\n",
        "\n",
        "print('\\nLISTA DE ÍMPARES: ', end='')\n",
        "for i in impar:\n",
        "  print(i, end=' ')\n"
      ],
      "metadata": {
        "id": "NAjBipMe0znI",
        "colab": {
          "base_uri": "https://localhost:8080/"
        },
        "outputId": "a057655b-b1c5-410d-97a5-ed3f3a2e78c6"
      },
      "execution_count": null,
      "outputs": [
        {
          "output_type": "stream",
          "name": "stdout",
          "text": [
            "Digite o 1º número: 2\n",
            "Digite o 2º número: 7\n",
            "Digite o 3º número: 10\n",
            "Digite o 4º número: 15\n",
            "Digite o 5º número: 6\n",
            "-=-=-=-=-=-=-=-=-=-=-=-=-=-=-=-=-=-=-=-=\n",
            "LISTA DE NÚMEROS:  2 7 10 15 6 \n",
            "LISTA DE PARES:  2 10 6 \n",
            "LISTA DE ÍMPARES:  7 15 "
          ]
        }
      ]
    },
    {
      "cell_type": "code",
      "source": [
        "# 5) Faça um Programa que peça as quatro notas de 10 alunos junto com o seu nome.\n",
        "# Calcule e armazene numa lista a média de cada aluno, bem como em outra lista armazene o nome do aluno. \n",
        "# Ao final imprima o número de alunos com média maior ou igual a 7.0 junto com o seu nome e a média.\n",
        "nome_aluno = []\n",
        "media_aluno = []\n",
        "\n",
        "for c in range(10):\n",
        "  nome_aluno.append(str(input(f'Digite o nome do aluno {c+1}: ').strip().upper()))\n",
        "  \n",
        "  soma = 0\n",
        "  for i in range(4):\n",
        "    nota = float(input(f'Digite a {i+1}ª nota do aluno: '))\n",
        "    while nota < 0 or soma > 10:\n",
        "      nota = float(input(f'Digite a {i+1}ª nota do aluno: '))\n",
        "    \n",
        "    soma += nota\n",
        "\n",
        "  media_aluno.append(soma / 4)\n",
        "\n",
        "  print('-=' * 20)\n",
        "\n",
        "print('Os alunos acima da média foram: ')\n",
        "for c in range(10):\n",
        "  cont = 0\n",
        "  if media_aluno[c] >= 7:\n",
        "    print(f'{nome_aluno[c]} foi aprovado com média {media_aluno[c]:.2f}')\n",
        "    cont += 1\n",
        "print(f'{cont} alunos ficaram acima da média.')\n",
        "\n",
        "print('FIM DO PROGRAMA')\n"
      ],
      "metadata": {
        "colab": {
          "base_uri": "https://localhost:8080/",
          "height": 252
        },
        "id": "M4N9o6rP4NzV",
        "outputId": "5deee184-d9cb-42a3-f874-34b846abbb8e"
      },
      "execution_count": null,
      "outputs": [
        {
          "name": "stdout",
          "output_type": "stream",
          "text": [
            "Digite o nome do aluno 1: caio italo\n"
          ]
        },
        {
          "output_type": "error",
          "ename": "IndexError",
          "evalue": "ignored",
          "traceback": [
            "\u001b[0;31m---------------------------------------------------------------------------\u001b[0m",
            "\u001b[0;31mIndexError\u001b[0m                                Traceback (most recent call last)",
            "\u001b[0;32m<ipython-input-26-d6e705b84efa>\u001b[0m in \u001b[0;36m<module>\u001b[0;34m\u001b[0m\n\u001b[1;32m      6\u001b[0m \u001b[0;34m\u001b[0m\u001b[0m\n\u001b[1;32m      7\u001b[0m \u001b[0;32mfor\u001b[0m \u001b[0mc\u001b[0m \u001b[0;32min\u001b[0m \u001b[0mrange\u001b[0m\u001b[0;34m(\u001b[0m\u001b[0;36m10\u001b[0m\u001b[0;34m)\u001b[0m\u001b[0;34m:\u001b[0m\u001b[0;34m\u001b[0m\u001b[0;34m\u001b[0m\u001b[0m\n\u001b[0;32m----> 8\u001b[0;31m   \u001b[0mnome_aluno\u001b[0m\u001b[0;34m[\u001b[0m\u001b[0mi\u001b[0m\u001b[0;34m]\u001b[0m\u001b[0;34m=\u001b[0m \u001b[0;34m(\u001b[0m\u001b[0mstr\u001b[0m\u001b[0;34m(\u001b[0m\u001b[0minput\u001b[0m\u001b[0;34m(\u001b[0m\u001b[0;34mf'Digite o nome do aluno {c+1}: '\u001b[0m\u001b[0;34m)\u001b[0m\u001b[0;34m.\u001b[0m\u001b[0mstrip\u001b[0m\u001b[0;34m(\u001b[0m\u001b[0;34m)\u001b[0m\u001b[0;34m.\u001b[0m\u001b[0mupper\u001b[0m\u001b[0;34m(\u001b[0m\u001b[0;34m)\u001b[0m\u001b[0;34m)\u001b[0m\u001b[0;34m)\u001b[0m\u001b[0;34m\u001b[0m\u001b[0;34m\u001b[0m\u001b[0m\n\u001b[0m\u001b[1;32m      9\u001b[0m \u001b[0;34m\u001b[0m\u001b[0m\n\u001b[1;32m     10\u001b[0m   \u001b[0msoma\u001b[0m \u001b[0;34m=\u001b[0m \u001b[0;36m0\u001b[0m\u001b[0;34m\u001b[0m\u001b[0;34m\u001b[0m\u001b[0m\n",
            "\u001b[0;31mIndexError\u001b[0m: list assignment index out of range"
          ]
        }
      ]
    },
    {
      "cell_type": "code",
      "source": [
        "# 6) Faça um Programa que leia uma lista de 5 números inteiros. Após, percorra a lista e calcule a soma e a multiplicação dos números. \n",
        "# Ao final, mostre os números lidos, a soma dos números e a multiplicação entre eles.\n",
        "num = []\n",
        "soma = 0\n",
        "mult = 1\n",
        "\n",
        "for c in range(5):\n",
        "  num.append(int(input(f'Digite o {c+1}ª numero: ')))\n",
        "  soma += num[c]\n",
        "  mult *= num[c]\n",
        "\n",
        "print('=' * 20)\n",
        "\n",
        "print('LISTA COMPLETA:', end=' ')\n",
        "for c in range(len(num)):\n",
        "  print(c, end=' ')\n",
        "\n",
        "print(f'\\nA soma dos números é igual a {soma}')\n",
        "print(f'O produto dos números é igual a {mult}')\n"
      ],
      "metadata": {
        "id": "JFrll4tB8D7U",
        "colab": {
          "base_uri": "https://localhost:8080/"
        },
        "outputId": "f8374909-1b89-4c38-f69a-30aa04c2f6e3"
      },
      "execution_count": null,
      "outputs": [
        {
          "output_type": "stream",
          "name": "stdout",
          "text": [
            "Digite o 1ª numero: 3\n",
            "Digite o 2ª numero: 3\n",
            "Digite o 3ª numero: 3\n",
            "Digite o 4ª numero: 3\n",
            "Digite o 5ª numero: 3\n",
            "[3, 3, 3, 3, 3]\n",
            "A soma dos números é igual a 15\n",
            "O produto dos números é igual a 243\n"
          ]
        }
      ]
    },
    {
      "cell_type": "code",
      "source": [
        "# 7) Faça um Programa que leia uma lista A com 10 números inteiros, calcule e mostre a soma dos quadrados dos elementos da lista.\n",
        "A = []\n",
        "soma_quad = 0\n",
        "\n",
        "for c in range(10):\n",
        "  num = int(input(f'Digite o {c+1}º inteiro: '))\n",
        "  num = num ** 2\n",
        "  A.append(num)\n",
        "  soma_quad += quadrados[c]\n",
        "\n",
        "print('=' * 20)\n",
        "\n",
        "print(f'A soma dos quadrados é igual a {soma_quad}')\n",
        "  "
      ],
      "metadata": {
        "id": "TG8M5OwM9rQP",
        "colab": {
          "base_uri": "https://localhost:8080/"
        },
        "outputId": "9705bd9c-f537-40d2-81d6-e7bbb3a2d254"
      },
      "execution_count": null,
      "outputs": [
        {
          "output_type": "stream",
          "name": "stdout",
          "text": [
            "Digite o 1º inteiro: 2\n",
            "Digite o 2º inteiro: 3\n",
            "Digite o 3º inteiro: 4\n",
            "Digite o 4º inteiro: 1\n",
            "Digite o 5º inteiro: 1\n",
            "Digite o 6º inteiro: 1\n",
            "Digite o 7º inteiro: 1\n",
            "Digite o 8º inteiro: 1\n",
            "Digite o 9º inteiro: 1\n",
            "Digite o 10º inteiro: 1\n",
            "A soma dos quadrados é igual a 36\n"
          ]
        }
      ]
    },
    {
      "cell_type": "code",
      "source": [
        "# 8) Faça um programa que leia o nome, a idade e a altura de 10 alunos da SoulCode. \n",
        "# Em seguida determine quantos alunos com mais de 13 anos possuem altura inferior à média de altura desses alunos.\n",
        "nome_aluno = []\n",
        "idade_aluno = []\n",
        "altura_aluno = []\n",
        "soma_altura = media_altura = 0\n",
        "cont = 0\n",
        "\n",
        "for c in range(10):\n",
        "  nome_aluno.append(str(input(f'Digite o nome do aluno {c+1}: ')))\n",
        "\n",
        "  idade_aluno.append(int(input(f'Digite a idade do aluno {c+1}: ')))\n",
        "  while idade_aluno[c] < 0 or idade_aluno[c] > 130:\n",
        "    idade_aluno.pop()\n",
        "    idade_aluno.append(int(input(f'Digite a idade do aluno {c+1}: ')))\n",
        "\n",
        "  altura_aluno.append(float(input(f'Digite a altura do aluno {c+1} (em m): ')))\n",
        "  while altura_aluno[c] < 0.50 or altura_aluno[c] > 2.90: # altura da maior e menor pessoa\n",
        "    altura_aluno.pop()\n",
        "    altura_aluno.append(float(input(f'Altura inválida. Digite a altura do aluno {c+1} (em m): ')))\n",
        "\n",
        "  soma_altura += altura_aluno[c]\n",
        "  print('-=' * 20)\n",
        "\n",
        "media_altura = soma_altura / len(altura_aluno)\n",
        "\n",
        "for c in range(len(nome_aluno)):\n",
        "  if idade_aluno[c] > 13 and altura_aluno[c] < media_altura:\n",
        "    cont += 1\n",
        "\n",
        "print('=' * 20)\n",
        "\n",
        "print(f'Existe(m) {cont} aluno(s) com idade acima de 13 e altura menor que a média ({media_altura:.2f} m).')"
      ],
      "metadata": {
        "id": "KhEUyJb69vfI",
        "colab": {
          "base_uri": "https://localhost:8080/"
        },
        "outputId": "d164f8c9-0c9a-4201-dd4a-9fa861f9ecb3"
      },
      "execution_count": null,
      "outputs": [
        {
          "output_type": "stream",
          "name": "stdout",
          "text": [
            "Digite o nome do aluno 1: Márcia Lima\n",
            "Digite a idade do aluno 1: 25\n",
            "Digite a altura do aluno 1 (em m): 1.70\n",
            "Digite o nome do aluno 2: Sandra\n",
            "Digite a idade do aluno 2: 36\n",
            "Digite a altura do aluno 2 (em m): 1.80\n",
            "Digite o nome do aluno 3: Rodrigo M\n",
            "Digite a idade do aluno 3: 28\n",
            "Digite a altura do aluno 3 (em m): 1.67\n",
            "Existe(m) 2 aluno(s) com idade acima de 13 e altura maior que a média (1.72 m).\n"
          ]
        }
      ]
    },
    {
      "cell_type": "markdown",
      "source": [
        "#Exercícios Dicionários"
      ],
      "metadata": {
        "id": "IJ3XbdcyAsi_"
      }
    },
    {
      "cell_type": "code",
      "source": [
        "# Uma família é composta por 3 filhos - Deve-se chamar de filho1, filho2, filho3\n",
        "# O retorno será nome, idade, ano_escola, cursos\n",
        "\n",
        "familia = {{'nome': 'filho1', 'idade': 10, 'ano_escola': '5º ano', 'cursos':['pintura', 'violão']}\n",
        "           {'nome': 'filho2', 'idade': 17, 'ano_escola': '3º ano médio', 'cursos':['inglês', 'violão']\n",
        "           {'nome': 'filho3', 'idade': 30, 'ano_escola': 'Esino superior completo', 'cursos':['pintura', 'violão','python']\n",
        "           }"
      ],
      "metadata": {
        "id": "E8tZvjN4ArU8"
      },
      "execution_count": null,
      "outputs": []
    },
    {
      "cell_type": "code",
      "source": [
        "#Criar um dicionário carros onde o usuário digite nome, modelo, fabricante, cor e qtd de portas\n",
        "\n",
        "carros = {}\n",
        "adc_carro = {}\n",
        "\n",
        "qtd_carros = int(input('Digite a quantidade de carros a serem adicionados: '))\n",
        "\n",
        "for i in range(qtd_carros):\n",
        "  adc_carro['nome'] = input('Digite o nome do carro: ')\n",
        "  adc_carro['modelo'] = input('Digite o modelo do carro: ')\n",
        "  adc_carro['fabricante'] = input('Digite o fabricante do carro: ')\n",
        "  adc_carro['cor'] = input('Digite a cor do carro: ')\n",
        "  adc_carro['qtd_portas'] = int(input('Digite a quantidade de portas: '))\n",
        "\n",
        "  carros.update({f'carro {i+1}': adc_carro})\n",
        "\n",
        "print(carros)\n"
      ],
      "metadata": {
        "colab": {
          "base_uri": "https://localhost:8080/"
        },
        "id": "ApM14QunYILK",
        "outputId": "a5578f3a-ccac-4299-8dc4-7906c89badb5"
      },
      "execution_count": null,
      "outputs": [
        {
          "output_type": "stream",
          "name": "stdout",
          "text": [
            "Digite a quantidade de carros a serem adicionados: 2\n",
            "Digite o nome do carro: uno\n",
            "Digite o modelo do carro: mille\n",
            "Digite o fabricante do carro: fiar\n",
            "Digite a cor do carro: branco\n",
            "Digite a quantidade de portas: 3\n",
            "Digite o nome do carro: creta\n",
            "Digite o modelo do carro: kv\n",
            "Digite o fabricante do carro: hyundai\n",
            "Digite a cor do carro: branco\n",
            "Digite a quantidade de portas: 4\n",
            "{'carro 1': {'nome': 'creta', 'modelo': 'kv', 'fabricante': 'hyundai', 'cor': 'branco', 'qtd_portas': 4}, 'carro 2': {'nome': 'creta', 'modelo': 'kv', 'fabricante': 'hyundai', 'cor': 'branco', 'qtd_portas': 4}}\n"
          ]
        }
      ]
    },
    {
      "cell_type": "markdown",
      "source": [
        "# Exercícios funções"
      ],
      "metadata": {
        "id": "JB4U7-kHPOXb"
      }
    },
    {
      "cell_type": "code",
      "source": [
        "# 1) Faça um programa, com uma função que necessite de três argumentos, e que forneça a multiplicação desses três argumentos.\n",
        "def mult(a, b, c):\n",
        "  return a * b * c\n",
        "\n",
        "x = float(input('Digite o primeiro número: '))\n",
        "y = float(input('Digite o segundo número: '))\n",
        "z = float(input('Digite o teceiro número: '))\n",
        "\n",
        "print(f'O produto é igual a {mult(x, y, z}')\n"
      ],
      "metadata": {
        "colab": {
          "base_uri": "https://localhost:8080/"
        },
        "id": "3mPU9EYePM8b",
        "outputId": "d640a264-40ca-4926-b89f-4514b742e19d"
      },
      "execution_count": null,
      "outputs": [
        {
          "output_type": "stream",
          "name": "stdout",
          "text": [
            "Digite o primeiro número: 1\n",
            "Digite o segundo número: 2\n",
            "Digite o teceiro número: 3\n",
            "6.0\n"
          ]
        }
      ]
    },
    {
      "cell_type": "code",
      "source": [
        "# 2) Faça um programa que tenha uma função que necessite de um argumento que receba um número inteiro e imprima na tela a lista de divisores desse número.\n",
        "def divisores(n):\n",
        "  print(f'Os divisores de {n} são:')\n",
        "  for i in range(1, n+1):\n",
        "    if n % i == 0:\n",
        "      print(i, end=' > ')\n",
        "  print('FIM')\n",
        "\n",
        "while True:\n",
        "  try:\n",
        "    num = int(input('Digite um inteiro: '))\n",
        "    break\n",
        "  except:\n",
        "    print('Valor inválido.')\n",
        "\n",
        "divisores(num)\n"
      ],
      "metadata": {
        "colab": {
          "base_uri": "https://localhost:8080/"
        },
        "id": "VGZTc9tUQhzS",
        "outputId": "68363f6f-7895-461c-ade5-796c760f71ce"
      },
      "execution_count": null,
      "outputs": [
        {
          "output_type": "stream",
          "name": "stdout",
          "text": [
            "Digite um inteiro: 15\n",
            "Os divisores de 15 são:\n",
            "1 > 3 > 5 > 15 > FIM\n"
          ]
        }
      ]
    },
    {
      "cell_type": "code",
      "source": [
        "# 3) Faça um programa que receba 3 notas por parâmetros, calcule a media e retorne o valor da média para o programa principal.\n",
        "# Em seguida, verifique se o aluno foi aprovado por média. (Média >= 7)\n",
        "def media(a, b, c):\n",
        "  med = (a + b + c) / 3\n",
        "  return med\n",
        "  \n",
        "def valida_nota():\n",
        "  while True:\n",
        "    a = float(input('Digite a nota: '))\n",
        "    if 0 <= a and a <= 10:\n",
        "      break\n",
        "    print('Valor inválido!')\n",
        "  return a\n",
        "\n",
        "\n",
        "n1 = valida_nota()\n",
        "n2 = valida_nota()\n",
        "n3 = valida_nota()\n",
        "x = media(n1, n2, n3)\n",
        "\n",
        "if x >= 7:\n",
        "  print(f'PARABÉNS. O aluno está APROVADO com média {x:.2f}')\n",
        "else:\n",
        "  print(f'ISH! O aluno está EM RECUPERAÇÃO com média {x:.2f}')\n"
      ],
      "metadata": {
        "colab": {
          "base_uri": "https://localhost:8080/"
        },
        "id": "K0ElRKNZUIrT",
        "outputId": "5b808888-22dc-4b66-c5d5-55c2dcc61faa"
      },
      "execution_count": null,
      "outputs": [
        {
          "output_type": "stream",
          "name": "stdout",
          "text": [
            "Digite a nota: 5\n",
            "Digite a nota: 10\n",
            "Digite a nota: 7.5\n",
            "5.0 10.0 7.5\n",
            "PARABÉNS. O aluno está APROVADO com média 7.50\n"
          ]
        }
      ]
    },
    {
      "cell_type": "code",
      "source": [
        "# 4) Faça uma função que recebe, por parâmetro, a altura (alt) e o sexo de uma pessoa e retorna o seu peso ideal. \n",
        "# Para homens, calcular o peso ideal usando a fórmula peso ideal = 72.7 x alt - 58 e, para mulheres, peso ideal = 62.1 x alt - 44.7.\n",
        "def peso_ideal(alt, sexo):\n",
        "  if sexo == 'M':\n",
        "    return 72.7 * alt - 58\n",
        "  else:\n",
        "    return 62.1 * alt - 44.7\n",
        "\n",
        "\n",
        "gen = str(input('Digite o sexo da pessoa (M/F): ')).strip().upper()\n",
        "while gen !='M' and gen != 'F':\n",
        "  gen = str(input('Valor inválido. Digite o sexo da pessoa (M/F): ')).strip().upper()\n",
        "\n",
        "altura = float(input('Digite a altura da pessoa: '))\n",
        "while altura < 0 or altura > 2.8:\n",
        "  altura = float(input('Digite a altura da pessoa: '))\n",
        "\n",
        "x = peso_ideal(altura, gen)\n",
        "\n",
        "print(f'O seu peso ideal é {x:.2f} kg')"
      ],
      "metadata": {
        "colab": {
          "base_uri": "https://localhost:8080/"
        },
        "id": "M4XhFtjcWd2Q",
        "outputId": "9ec15c6e-2cce-4c10-beb9-6d1599bbe5ad"
      },
      "execution_count": null,
      "outputs": [
        {
          "output_type": "stream",
          "name": "stdout",
          "text": [
            "Digite o sexo da pessoa (M/F): mf\n",
            "Valor inválido. Digite o sexo da pessoa (M/F): F\n",
            "Digite a altura da pessoa: 1.6\n",
            "O seu peso ideal é 54.66 kg\n"
          ]
        }
      ]
    },
    {
      "cell_type": "code",
      "source": [
        "# (5) Faça um programa que leia um número n e imprima a seguinte saída na tela:\n",
        "# 1 2 2 3 3 3 4 4 4 4 5 5 5 5 5 n n n n n ...... n\n",
        "\n",
        "num = int(input('Digite até que número da sequência aparecerá: '))\n",
        "\n",
        "for c_num in range(num + 1):\n",
        "  for i in range(1, c_num +1):\n",
        "    print(c_num, end=' > ')\n",
        "print('FIM')\n"
      ],
      "metadata": {
        "id": "hJ9LrFdharjH",
        "colab": {
          "base_uri": "https://localhost:8080/"
        },
        "outputId": "0cb6b25a-4f2a-49a8-8ad7-bd4e0b97ee5f"
      },
      "execution_count": null,
      "outputs": [
        {
          "output_type": "stream",
          "name": "stdout",
          "text": [
            "Digite a quantidade de números da sequência: 6\n",
            "1 > 2 > 2 > 3 > 3 > 3 > 4 > 4 > 4 > 4 > 5 > 5 > 5 > 5 > 5 > 6 > 6 > 6 > 6 > 6 > 6 > FIM\n"
          ]
        }
      ]
    },
    {
      "cell_type": "code",
      "source": [
        "# (6) Faça um programa que leia um número n e imprima a seguinte saída na tela:\n",
        "# 1 1 2 1 2 3 1 2 3 4 1 2 3 4 5 n n n n n ...... n\n",
        "num = int(input('Digite até que número da sequência aparecerá: '))\n",
        "\n",
        "for c_num in range(1, num + 1):\n",
        "  cont = 1\n",
        "  for i in range(1, c_num +1):\n",
        "    print(cont, end=' > ')\n",
        "    cont +=1\n",
        "  print(f'Fim da {c_num}ª sequência')\n",
        "print('FIM')"
      ],
      "metadata": {
        "id": "i2UUa9_lavbs",
        "colab": {
          "base_uri": "https://localhost:8080/"
        },
        "outputId": "ca906428-e17f-4f96-f5fb-2ac758a5f317"
      },
      "execution_count": null,
      "outputs": [
        {
          "output_type": "stream",
          "name": "stdout",
          "text": [
            "Digite até que número da sequência aparecerá: 8\n",
            "1 > Fim da 1ª sequência\n",
            "1 > 2 > Fim da 2ª sequência\n",
            "1 > 2 > 3 > Fim da 3ª sequência\n",
            "1 > 2 > 3 > 4 > Fim da 4ª sequência\n",
            "1 > 2 > 3 > 4 > 5 > Fim da 5ª sequência\n",
            "1 > 2 > 3 > 4 > 5 > 6 > Fim da 6ª sequência\n",
            "1 > 2 > 3 > 4 > 5 > 6 > 7 > Fim da 7ª sequência\n",
            "1 > 2 > 3 > 4 > 5 > 6 > 7 > 8 > Fim da 8ª sequência\n",
            "FIM\n"
          ]
        }
      ]
    },
    {
      "cell_type": "code",
      "source": [
        "#(7) Faça um programa que use a função valorPagamento para determinar o valor a ser pago por uma prestação de uma conta. \n",
        "#O programa deverá solicitar ao usuário o valor da prestação e o número de dias em atraso e passar estes valores para a função valorPagamento\n",
        "#que calculará o valor a ser pago e devolverá este valor ao programa que a chamou. \n",
        "#O programa deverá então exibir o valor a ser pago na tela. \n",
        "#Após a execução o programa deverá voltar a pedir outro valor de prestação e assim continuar até que seja informado um valor igual a zero para a prestação.\n",
        "#Neste momento o programa deverá ser encerrado, exibindo o relatório do dia, que conterá a quantidade e o valor total de prestações pagas no dia. \n",
        "#O cálculo do valor a ser pago é feito da seguinte forma. \n",
        "#Para pagamentos sem atraso, cobrar o valor da prestação. Quando houver atraso, cobrar 3% de multa, mais 0,1% de juros por dia de atraso.\n",
        "def valor_pagto(vp, da):\n",
        "  if da == 0:\n",
        "    return vp\n",
        "  else:\n",
        "    return (1.03 * vp + 0.001 * da * vp)\n",
        "\n",
        "cont_prest = soma_prest = 0\n",
        "\n",
        "while True:\n",
        "    valor_prest = float(input('Digite o valor da prestação: '))\n",
        "    if valor_prest == 0:\n",
        "      break\n",
        "    dias_atraso = int(input('Digite o valor de dias em atraso: '))\n",
        "    prest = valor_pagto(valor_prest, dias_atraso)\n",
        "    print(f'O valor do pagamento a ser feito é de R${prest:.2f}')\n",
        "    cont_prest += 1\n",
        "    soma_prest += prest\n",
        "\n",
        "    print('=-' * 20)\n",
        "\n",
        "print('--- RELATÓRIO DO DIA ---')\n",
        "print(f'{cont_prest} prestações foram pagas no dia de hoje.')\n",
        "print(f'A soma das prestações foi igual a R${soma_prest:.2f}')\n"
      ],
      "metadata": {
        "id": "JF2LljbqayWQ",
        "colab": {
          "base_uri": "https://localhost:8080/"
        },
        "outputId": "dfd71b37-1817-4a68-b7ac-1cdab1e713a8"
      },
      "execution_count": null,
      "outputs": [
        {
          "output_type": "stream",
          "name": "stdout",
          "text": [
            "Digite o valor da prestação: 100\n",
            "Digite o valor de dias em atraso: 2\n",
            "O valor do pagamento a ser feito é de R$103.00\n",
            "Digite qualquer número para continuar com outro cálculo, 0 para sair:p\n",
            "Valor inválido\n",
            "Digite qualquer número para continuar com outro cálculo, 0 para sair:a\n",
            "Valor inválido\n",
            "Digite qualquer número para continuar com outro cálculo, 0 para sair:2\n",
            "=-=-=-=-=-=-=-=-=-=-=-=-=-=-=-=-=-=-=-=-\n",
            "Digite o valor da prestação: 1200\n",
            "Digite o valor de dias em atraso: 50\n",
            "O valor do pagamento a ser feito é de R$1236.05\n",
            "Digite qualquer número para continuar com outro cálculo, 0 para sair:0\n",
            "=-=-=-=-=-=-=-=-=-=-=-=-=-=-=-=-=-=-=-=-\n",
            "2 foram pagas no dia de hoje.\n",
            "A soma das prestações foi igual a R$1339.05\n"
          ]
        }
      ]
    },
    {
      "cell_type": "code",
      "source": [
        "# 1) As maçãs custam R$0,30 cada se forem compradas menos do que uma dúzia,e R$0,25 se forem compradas pelo menos doze. \n",
        "# Escreva um programa que leia o número de maçãs compradas, calcule e escreva o valor total da compra.\n",
        "macas = int(input('Digite o número de maças compradas: '))\n",
        "while macas < 0:\n",
        "  macas = int(input('Valor Inválido. Digite o número de maças compradas: '))\n",
        "\n",
        "if macas < 12:\n",
        "  valor_compra = macas * 0.30\n",
        "else:\n",
        "  valor_compra = macas * 0.25\n",
        "\n",
        "print(f'O total gasto para comprar as maças é igual a R$ {valor_compra:.2f}')\n"
      ],
      "metadata": {
        "colab": {
          "base_uri": "https://localhost:8080/"
        },
        "id": "2dZN0APLo9he",
        "outputId": "51897b81-f854-46a5-a432-235cdbcf0c61"
      },
      "execution_count": null,
      "outputs": [
        {
          "output_type": "stream",
          "name": "stdout",
          "text": [
            "Digite o número de maças compradas: 20\n",
            "O total gasto para comprar as maças é igual a R$ 5.00\n"
          ]
        }
      ]
    },
    {
      "cell_type": "code",
      "source": [
        "# 2) Escreva um programa para ler 3 valores inteiros (considere que não serão lidos valores iguais) e escrevê-los em ordem crescente.\n",
        "num =[]\n",
        "\n",
        "for i in range(3):\n",
        "  num.append(int(input(f'Digite o valor do {i+1}º número: ')))\n",
        "num.sort()\n",
        "\n",
        "print('-- Sequência dos números em ordem crescente -- ')\n",
        "for x in num:\n",
        "  print(x, end=' > ')\n",
        "print('FIM')"
      ],
      "metadata": {
        "colab": {
          "base_uri": "https://localhost:8080/"
        },
        "id": "940KUibYp-y6",
        "outputId": "290ae405-3fdd-462f-8276-79e55221b249"
      },
      "execution_count": null,
      "outputs": [
        {
          "output_type": "stream",
          "name": "stdout",
          "text": [
            "Digite o valor do 1º número: 2\n",
            "Digite o valor do 2º número: 10\n",
            "Digite o valor do 3º número: -3\n",
            "Sequencia dos números em ordem crescente: \n",
            "-3 > 2 > 10 > FIM\n"
          ]
        }
      ]
    },
    {
      "cell_type": "code",
      "source": [
        "# 3) Escreva um programa para ler 20 valores inteiros e escrever o maior deles. Considere que o usuário não informará valores iguais.\n",
        "num = []\n",
        "\n",
        "for i in range(20):\n",
        "  num.append(int(input(f'Digite o valor do {i+1}º número: ')))\n",
        "  if i == 0:\n",
        "    maior = num[i]\n",
        "  elif num[i] > maior:\n",
        "    maior = num[i]\n",
        "print(f'O maior número foi {maior}.')\n",
        "print(f'Usando listas, o maior foi {max(num)}.')"
      ],
      "metadata": {
        "colab": {
          "base_uri": "https://localhost:8080/"
        },
        "id": "AntPVFQJqFGS",
        "outputId": "eac26a9c-c622-4da0-dad7-f6581e201c35"
      },
      "execution_count": null,
      "outputs": [
        {
          "output_type": "stream",
          "name": "stdout",
          "text": [
            "Digite o valor do 1º número: 3\n",
            "Digite o valor do 2º número: 2\n",
            "Digite o valor do 3º número: 1\n",
            "Digite o valor do 4º número: 506\n",
            "Digite o valor do 5º número: 77\n",
            "O maior número foi 506.\n",
            "Usando listas, o maior foi 506\n"
          ]
        }
      ]
    },
    {
      "cell_type": "code",
      "source": [
        "# 4) Faça um programa que peça ao usuário um número entre 12 e 20. \n",
        "# Se a pessoa digitar um número diferente, mostrar a mensagem \"entrada inválida\" e solicitar o número novamente. \n",
        "# Se digitar correto mostrar o número digitado.\n",
        "\n",
        "num = int(input('Digite um número entre 12 e 20: '))\n",
        "while 12 >= num or num >= 20:\n",
        "  num = int(input('Valor Inválido. Digite um número entre 12 e 20: '))\n",
        "\n",
        "print(f'O número digitado foi {num}')"
      ],
      "metadata": {
        "colab": {
          "base_uri": "https://localhost:8080/"
        },
        "id": "5Hpskj3bqH43",
        "outputId": "16578f04-03bc-4027-8891-5426f9dbd7ba"
      },
      "execution_count": null,
      "outputs": [
        {
          "output_type": "stream",
          "name": "stdout",
          "text": [
            "Digite um número entre 12 e 20: -2\n",
            "Valor Inválido. Digite um número entre 12 e 20: 22\n",
            "Valor Inválido. Digite um número entre 12 e 20: 13\n",
            "O número digitado foi 13\n"
          ]
        }
      ]
    },
    {
      "cell_type": "code",
      "source": [
        "# 5) Crie um programa que leia um número do teclado até que encontre um número igual a zero. No final, mostre a soma dos números digitados\n",
        "soma = num  = 0\n",
        "\n",
        "while True:\n",
        "  num += float(input(\"Digite números para serem somados, 0 para sair: \"))\n",
        "  if num == 0:\n",
        "    break\n",
        "  soma += num\n",
        "\n",
        "print(f'A soma dos números foi {soma}')\n"
      ],
      "metadata": {
        "id": "Z3wDkfMXqOKg"
      },
      "execution_count": null,
      "outputs": []
    },
    {
      "cell_type": "code",
      "source": [
        "# 6) Faça um programa que receba dois números inteiros e gere os números inteiros que estão no intervalo compreendido por eles.\n",
        "n1 = int(input('Digite o 1º inteiro do intervalo: '))\n",
        "n2 = int(input('Digite o 2º inteiro do intervalo: '))\n",
        "\n",
        "if n1 > n2:\n",
        "  for i in range(n2, n1+1):\n",
        "    print(i, end=' > ')\n",
        "else:\n",
        "  for i in range(n1, n2+1):\n",
        "    print(i, end=' > ')\n",
        "\n",
        "print('FIM')"
      ],
      "metadata": {
        "colab": {
          "base_uri": "https://localhost:8080/"
        },
        "id": "2A57-xDWqRF9",
        "outputId": "f8d6fa17-9afa-4fcd-a591-4b936d56aa56"
      },
      "execution_count": null,
      "outputs": [
        {
          "output_type": "stream",
          "name": "stdout",
          "text": [
            "Digite o 1º inteiro do intervalo: 50\n",
            "Digite o 2º inteiro do intervalo: 22\n",
            "22 > 23 > 24 > 25 > 26 > 27 > 28 > 29 > 30 > 31 > 32 > 33 > 34 > 35 > 36 > 37 > 38 > 39 > 40 > 41 > 42 > 43 > 44 > 45 > 46 > 47 > 48 > 49 > 50 > FIM\n"
          ]
        }
      ]
    },
    {
      "cell_type": "code",
      "source": [
        "# 8) Faça um programa que peça para n pessoas a sua idade, ao final o programa deverá verificar \n",
        "#se a média de idade da turma varia entre 0 e 25,26 e 60 e maior que 60; e então, dizer se a turma é jovem, adulta ou idosa, conforme a média calculada\n",
        "idade_pessoas = []\n",
        "\n",
        "while True:\n",
        "  idade_pessoas.append(int(input('Digite a idade de uma pessoa: ')))\n",
        "  while idade_pessoas[-1] < 0 or idade_pessoas[-1] > 140:\n",
        "    idade_pessoas.pop()\n",
        "    idade_pessoas.append(int(input('Valor inválido. Digite a idade de uma pessoa: ')))\n",
        "\n",
        "  op = input('Você deseja adicionar mais uma idade [digite S para sair]? ').upper()\n",
        "  if op == 'S':\n",
        "    break\n",
        "\n",
        "med = sum(idade_pessoas) / len(idade_pessoas)\n",
        "\n",
        "if 0 <= med <= 25:\n",
        "  print(f'A média das idades está entre 0 e 25. ')\n",
        "elif 25 < med <= 60:\n",
        "  print(f'A média das idades está entre 26 e 60. ')\n",
        "elif med > 25:\n",
        "  print(f'A média das idades é maior que 60. ')"
      ],
      "metadata": {
        "colab": {
          "base_uri": "https://localhost:8080/"
        },
        "id": "f3vmcRq43ypu",
        "outputId": "dd8ab937-73bb-4d73-f483-4f5275d3d5c8"
      },
      "execution_count": null,
      "outputs": [
        {
          "output_type": "stream",
          "name": "stdout",
          "text": [
            "Digite a idade de uma pessoa: 150\n",
            "Valor inválido. Digite a idade de uma pessoa: 150\n",
            "Valor inválido. Digite a idade de uma pessoa: 150\n",
            "Valor inválido. Digite a idade de uma pessoa: 100\n",
            "Você deseja adicionar mais uma idade [digite S para sair]? q\n",
            "Digite a idade de uma pessoa: 10\n",
            "Você deseja adicionar mais uma idade [digite S para sair]? q\n",
            "Digite a idade de uma pessoa: 20\n",
            "Você deseja adicionar mais uma idade [digite S para sair]? s\n",
            "A média das idades está entre 26 e 60. \n"
          ]
        }
      ]
    },
    {
      "cell_type": "code",
      "source": [
        "# 9) Faça um Programa que leia uma lista de 10 caracteres, e diga quantas consoantes foram lidas. Imprima as consoantes.\n",
        "caracteres = []\n",
        "cont = 0\n",
        "for i in range(10):\n",
        "  caracteres.append(str(input(f'Digite o {i+1} caractere: ')))\n",
        "\n",
        "for x in caracteres:\n",
        "  if x not in 'aeiou':\n",
        "    cont += 1\n",
        "    print(x, end=' > ')\n",
        "print(f'FIM. Foram digitadas {cont} consoantes')\n"
      ],
      "metadata": {
        "colab": {
          "base_uri": "https://localhost:8080/"
        },
        "id": "BqpWeUqd33xy",
        "outputId": "67677073-9460-467c-9e13-bea7fb8f89c3"
      },
      "execution_count": null,
      "outputs": [
        {
          "output_type": "stream",
          "name": "stdout",
          "text": [
            "Digite o 1 caractere: a\n",
            "Digite o 2 caractere: b\n",
            "Digite o 3 caractere: c\n",
            "Digite o 4 caractere: d\n",
            "Digite o 5 caractere: r\n",
            "Digite o 6 caractere: e\n",
            "Digite o 7 caractere: i\n",
            "Digite o 8 caractere: o\n",
            "Digite o 9 caractere: u\n",
            "Digite o 10 caractere: j\n",
            "b > c > d > r > j > FIM. Foram digitadas 5 consoantes\n"
          ]
        }
      ]
    },
    {
      "cell_type": "code",
      "source": [
        "# 10) Faça um Programa que leia dois lista com 10 elementos cada. \n",
        "# Gere um terceiro lista de 20 elementos, cujos valores deverão ser compostos pelos elementos intercalados das duas outras listas.\n",
        "listaa = [1,2,3,4,5,6,7,8,9,0]\n",
        "listab = [0,9,8,7,6,5,4,3,2,1]\n",
        "listac = []\n",
        "conta = contb = 0\n",
        "\n",
        "for i in range(20):\n",
        "  if i % 2 == 0:\n",
        "    listac.append(listaa[conta])\n",
        "    conta += 1 \n",
        "  else:\n",
        "    listac.append(listab[contb])\n",
        "    contb += 1\n",
        "print(listac)"
      ],
      "metadata": {
        "colab": {
          "base_uri": "https://localhost:8080/"
        },
        "id": "Wc4_m_sb3619",
        "outputId": "e8546151-8f08-4eb9-e2bb-afd9937c6845"
      },
      "execution_count": null,
      "outputs": [
        {
          "output_type": "stream",
          "name": "stdout",
          "text": [
            "[1, 0, 2, 9, 3, 8, 4, 7, 5, 6, 6, 5, 7, 4, 8, 3, 9, 2, 0, 1]\n"
          ]
        }
      ]
    },
    {
      "cell_type": "code",
      "source": [
        "# 7) Foi feita uma pesquisa entre os habitantes de uma região. \n",
        "# Foram coletados os dados de idade, sexo (M/F) e salário. Faça um programa que calcule e mostre:\n",
        "# a) A média dos salários do grupo; b) A maior e a menor idade do grupo; \n",
        "# c) A quantidade de mulheres na região; d) A idade e o sexo da pessoa que possui o menor salário;\n",
        "# Finalize a entrada de dados ao ser digitada uma idade negativa.\n",
        "\n"
      ],
      "metadata": {
        "id": "WJoUITkx3_8X"
      },
      "execution_count": null,
      "outputs": []
    },
    {
      "cell_type": "code",
      "source": [
        "# 8) Crie um algoritmo em python que leia um número inteiro positivo N e preencha uma lista com os N primeiros números da sequência abaixo. \n",
        "#O primeiro número da sequência é o 2. Após percorra a lista e imprima os números na tela. (2 pontos)\n",
        "#2      3        5        9        17        33        65     129       257\n",
        "seq = 2\n",
        "\n",
        "while True:\n",
        "  try:\n",
        "    num = int(input(('Digite o inteiro positivo \"n\" para o cálculo da sequência: ')))\n",
        "    while num <0:\n",
        "      num = int(input(('Valor inválido. Digite o inteiro POSITIVO \"n\" para o cálculo da sequência: ')))\n",
        "    break\n",
        "  except:\n",
        "    print('Entrada inválida, digite um número inteiro.')\n",
        "\n",
        "print('-=' * 20)\n",
        "print('--- SEQUÊNCIA ---')\n",
        "\n",
        "for i in range(num):\n",
        "  if i == 0:\n",
        "    print(seq, end=' > ')\n",
        "  seq = seq + 2 ** i\n",
        "  print(seq, end=' > ')\n",
        "\n",
        "print('FIM DA SEQUÊNCIA')"
      ],
      "metadata": {
        "colab": {
          "base_uri": "https://localhost:8080/"
        },
        "id": "C4jWFZGNeYt7",
        "outputId": "b2f128e4-7b25-4ca9-8104-bb297bc0212a"
      },
      "execution_count": null,
      "outputs": [
        {
          "output_type": "stream",
          "name": "stdout",
          "text": [
            "Digite o inteiro positivo \"n\" para o cálculo da sequência: 10\n",
            "-=-=-=-=-=-=-=-=-=-=-=-=-=-=-=-=-=-=-=-=\n",
            "--- SEQUÊNCIA ---\n",
            "2 > 4 > 8 > 16 > 32 > 64 > 128 > 256 > 512 > 1024 > FIM DA SEQUÊNCIA\n"
          ]
        }
      ]
    },
    {
      "cell_type": "code",
      "source": [
        "# Crie um algoritmo em python que leia uma palavra ou frase e diga se é ou não um palíndromo. \n",
        "#Desconsidere os espaços em branco e maiúsculas e minúsculas.\n",
        "\n",
        "print('=== ANALISADOR DE PALÍNDROMOS ===')\n",
        "frase = str(input('Digite uma frase ou palavra para análise: ')).upper().strip() # tratamento inicial da str\n",
        "\n",
        "frase = frase.replace(' ', '')  # Tirando os espaços do meio da string\n",
        "\n",
        "cont = 0\n",
        "for i in range (len(frase)):\n",
        "  if frase[i] == frase[-i-1]: # comparação dos caracteres da esq-dir com dir-esq\n",
        "    cont += 1                 # contador de igualdades\n",
        "\n",
        "if cont == len(frase):        # se o contador for do tamanho da string, é porque é um palíndromo\n",
        "  print('Palíndromo detected!!!')\n",
        "else:\n",
        "  print('A frase digitada não é um palíndromo')\n"
      ],
      "metadata": {
        "id": "0_ZSYQ6AgDHH",
        "colab": {
          "base_uri": "https://localhost:8080/"
        },
        "outputId": "e7cd6c80-c8ba-433f-bd6f-0993fd909a04"
      },
      "execution_count": null,
      "outputs": [
        {
          "output_type": "stream",
          "name": "stdout",
          "text": [
            "=== ANALISADOR DE PALÍNDROMOS ===\n",
            "Digite uma frase ou palavra para análise: socorram me em marrocos\n",
            "SOCORRAMMEEMMARROCOS\n",
            "Palíndromo detected!!!\n"
          ]
        }
      ]
    }
  ]
}