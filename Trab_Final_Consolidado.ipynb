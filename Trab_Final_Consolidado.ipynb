{
  "nbformat": 4,
  "nbformat_minor": 0,
  "metadata": {
    "colab": {
      "provenance": [],
      "collapsed_sections": [
        "rgNUkqCmT6Kf",
        "paZem8B6Odqy",
        "2qW5vwrwXhcc",
        "-_fd-FJVmkIt",
        "dwKaVvOm1YxW",
        "7mkAFNcpL36K",
        "ScnMBg4ALKkl"
      ],
      "include_colab_link": true
    },
    "kernelspec": {
      "name": "python3",
      "display_name": "Python 3"
    },
    "language_info": {
      "name": "python"
    }
  },
  "cells": [
    {
      "cell_type": "markdown",
      "metadata": {
        "id": "view-in-github",
        "colab_type": "text"
      },
      "source": [
        "<a href=\"https://colab.research.google.com/github/caioitalo/soulcode/blob/main/Trab_Final_Consolidado.ipynb\" target=\"_parent\"><img src=\"https://colab.research.google.com/assets/colab-badge.svg\" alt=\"Open In Colab\"/></a>"
      ]
    },
    {
      "cell_type": "markdown",
      "source": [
        "# **Turma BC26 - Engenharia de Dados**\n",
        "## **Projeto final - Tema: Combustíveis**\n",
        ">**Equipe:**\n",
        "* Augusto Tonelli\n",
        "* Caio Alves\n",
        "* Érica Marçal\n",
        "* Luan Sagara\n",
        "* Nayara Bernardo\n",
        "\n",
        "\n",
        "\n",
        "\n"
      ],
      "metadata": {
        "id": "t1p5DlJ7GI1G"
      }
    },
    {
      "cell_type": "markdown",
      "source": [
        "# **Resumo**\n",
        "\n",
        "> Projeto Final de Conclusão do Bootcamp de Engenharia de Dados promovido pela Soul Code Academy. \n",
        "> \n",
        ">\n",
        "> O tema dado à equipe foi o de **Combustíveis**. Os datasets obtidos foram extraídos desse [link](https://dados.gov.br/dados/organizacoes/visualizar/agencia-nacional-do-petroleo-gas-natural-e-biocombustiveis-anp).\n",
        ">\n",
        ">Neste trabalho foi realizado um processo de ETL que contemplou os seguintes aspectos:\n",
        "- Extração e carregamento de dados brutos para uma máquina **Cloud SQL** com MySQL\n",
        "- Transformações utilizando **Pandas** e **Pyspark**\n",
        "- Carregamento dos dados tratados para o **MongoDB** e uma bucket **Cloud Storage**\n",
        "- Realização de análises a partir queries com **BigQuery**\n",
        "- Criação de Dashboards com uso do **Google Looker Studio**\n"
      ],
      "metadata": {
        "id": "mntevUoxJMnj"
      }
    },
    {
      "cell_type": "markdown",
      "source": [
        "#1. EXTRAÇÃO"
      ],
      "metadata": {
        "id": "jceBczjWjSSm"
      }
    },
    {
      "cell_type": "markdown",
      "source": [
        "## 1.1. Instalação e importação de bibliotecas"
      ],
      "metadata": {
        "id": "c_dTOSYojrNr"
      }
    },
    {
      "cell_type": "markdown",
      "source": [
        "### 1.1.1. Instalação das bibliotecas"
      ],
      "metadata": {
        "id": "rgNUkqCmT6Kf"
      }
    },
    {
      "cell_type": "code",
      "source": [
        "!pip install gcsfs \n",
        "!pip install pyspark \n",
        "!pip install pymongo \n",
        "!pip install pymysql \n",
        "!pip install mysql-connector-python "
      ],
      "metadata": {
        "id": "1csEJEJxodl_",
        "colab": {
          "base_uri": "https://localhost:8080/"
        },
        "outputId": "474fe93c-da62-4e76-983b-2ad24a4dc7d1"
      },
      "execution_count": 1,
      "outputs": [
        {
          "output_type": "stream",
          "name": "stdout",
          "text": [
            "  Preparing metadata (setup.py) ... \u001b[?25l\u001b[?25hdone\n",
            "Collecting py4j==0.10.9.5\n",
            "  Downloading py4j-0.10.9.5-py2.py3-none-any.whl (199 kB)\n",
            "\u001b[2K     \u001b[90m━━━━━━━━━━━━━━━━━━━━━━━━━━━━━━━━━━━━━━\u001b[0m \u001b[32m199.7/199.7 KB\u001b[0m \u001b[31m14.3 MB/s\u001b[0m eta \u001b[36m0:00:00\u001b[0m\n",
            "\u001b[?25hBuilding wheels for collected packages: pyspark\n",
            "  Building wheel for pyspark (setup.py) ... \u001b[?25l\u001b[?25hdone\n",
            "  Created wheel for pyspark: filename=pyspark-3.3.1-py2.py3-none-any.whl size=281845512 sha256=753636c80b4652f581e60cb5b9f3795abb8785b5c5615fcfa000960cff54e9c9\n",
            "  Stored in directory: /root/.cache/pip/wheels/43/dc/11/ec201cd671da62fa9c5cc77078235e40722170ceba231d7598\n",
            "Successfully built pyspark\n",
            "Installing collected packages: py4j, pyspark\n",
            "Successfully installed py4j-0.10.9.5 pyspark-3.3.1\n",
            "Looking in indexes: https://pypi.org/simple, https://us-python.pkg.dev/colab-wheels/public/simple/\n",
            "Requirement already satisfied: pymongo in /usr/local/lib/python3.8/dist-packages (4.3.3)\n",
            "Requirement already satisfied: dnspython<3.0.0,>=1.16.0 in /usr/local/lib/python3.8/dist-packages (from pymongo) (2.2.1)\n",
            "Looking in indexes: https://pypi.org/simple, https://us-python.pkg.dev/colab-wheels/public/simple/\n",
            "Collecting pymysql\n",
            "  Downloading PyMySQL-1.0.2-py3-none-any.whl (43 kB)\n",
            "\u001b[2K     \u001b[90m━━━━━━━━━━━━━━━━━━━━━━━━━━━━━━━━━━━━━━━━\u001b[0m \u001b[32m43.8/43.8 KB\u001b[0m \u001b[31m4.4 MB/s\u001b[0m eta \u001b[36m0:00:00\u001b[0m\n",
            "\u001b[?25hInstalling collected packages: pymysql\n",
            "Successfully installed pymysql-1.0.2\n",
            "Looking in indexes: https://pypi.org/simple, https://us-python.pkg.dev/colab-wheels/public/simple/\n",
            "Collecting mysql-connector-python\n",
            "  Downloading mysql_connector_python-8.0.31-cp38-cp38-manylinux1_x86_64.whl (23.5 MB)\n",
            "\u001b[2K     \u001b[90m━━━━━━━━━━━━━━━━━━━━━━━━━━━━━━━━━━━━━━━━\u001b[0m \u001b[32m23.5/23.5 MB\u001b[0m \u001b[31m45.9 MB/s\u001b[0m eta \u001b[36m0:00:00\u001b[0m\n",
            "\u001b[?25hRequirement already satisfied: protobuf<=3.20.1,>=3.11.0 in /usr/local/lib/python3.8/dist-packages (from mysql-connector-python) (3.19.6)\n",
            "Installing collected packages: mysql-connector-python\n",
            "Successfully installed mysql-connector-python-8.0.31\n"
          ]
        }
      ]
    },
    {
      "cell_type": "markdown",
      "source": [
        "### 1.1.2. Importação das bibliotecas"
      ],
      "metadata": {
        "id": "D7FxjTT2UCaz"
      }
    },
    {
      "cell_type": "code",
      "source": [
        "from google.cloud import storage\n",
        "import os\n",
        "import mysql.connector\n",
        "from sqlalchemy import create_engine\n",
        "import pandas as pd\n",
        "import matplotlib\n",
        "import glob\n",
        "import requests\n",
        "from pyspark.sql import SparkSession\n",
        "import pyspark.sql.functions as F\n",
        "from pyspark.sql.types import *\n",
        "from pymongo import MongoClient\n",
        "import pandas_gbq"
      ],
      "metadata": {
        "id": "PqqVYRksjqi5"
      },
      "execution_count": 18,
      "outputs": []
    },
    {
      "cell_type": "markdown",
      "source": [
        "### 1.1.3. Definição do máximo de colunas a ser mostrada"
      ],
      "metadata": {
        "id": "V1ptcwkYUKuX"
      }
    },
    {
      "cell_type": "code",
      "source": [
        "pd.set_option('display.max_columns',25)"
      ],
      "metadata": {
        "id": "Jn2pyOuQLraO"
      },
      "execution_count": 3,
      "outputs": []
    },
    {
      "cell_type": "markdown",
      "source": [
        "##1.2. Envio dos Datasets brutos ao MySQL e para o Cloud Storage"
      ],
      "metadata": {
        "id": "HwgjEYmYkbF2"
      }
    },
    {
      "cell_type": "markdown",
      "source": [
        "> **Criação de um dicionário contendo os nomes e links dos Datasets**"
      ],
      "metadata": {
        "id": "DzshIRb9TnX2"
      }
    },
    {
      "cell_type": "code",
      "source": [
        "dataframes = {'dfbio_bruto':'https://www.gov.br/anp/pt-br/centrais-de-conteudo/dados-abertos/arquivos/arquivos-producao-de-biocombustiveis/producao-biodiesel-m3-2005-2021.csv',\n",
        "'dfetanol_bruto':'https://www.gov.br/anp/pt-br/centrais-de-conteudo/dados-abertos/arquivos/arquivos-producao-de-biocombustiveis/producao-etanol-anidro-hidratado-m3-2012-2022.csv',\n",
        "'dfpetroleo_bruto':'https://www.gov.br/anp/pt-br/centrais-de-conteudo/dados-abertos/arquivos/ppgn-el/producao-petroleo-m3-1997-2022.csv',\n",
        "'dfgas_bruto':'https://www.gov.br/anp/pt-br/centrais-de-conteudo/dados-abertos/arquivos/ppgn-el/producao-gas-natural-1000m3-1997-2022.csv',\n",
        "'dfimpexppet_bruto':'https://www.gov.br/anp/pt-br/centrais-de-conteudo/dados-abertos/arquivos/ie/petroleo/importacoes-exportacoes-petroleo-2000-2022.csv',\n",
        "'dfimpexpgas_bruto':'https://www.gov.br/anp/pt-br/centrais-de-conteudo/dados-abertos/arquivos/ie/gn/importacao-gas-natural-2000-2022.csv',\n",
        "'dfimpexpder_bruto':'https://www.gov.br/anp/pt-br/centrais-de-conteudo/dados-abertos/arquivos/ie/derivados/importacoes-exportacoes-derivados-2000-2022.csv',\n",
        "'dfimpexpeta_bruto':'https://www.gov.br/anp/pt-br/centrais-de-conteudo/dados-abertos/arquivos/ie/etanol/importacoes-exportacoes-etanol-2012-2022.csv',\n",
        "'dfprodder_bruto':'https://www.gov.br/anp/pt-br/centrais-de-conteudo/dados-abertos/arquivos/pppd/producao-derivados-petroleo-por-refinaria-m3-1990-2021.csv'}"
      ],
      "metadata": {
        "id": "cez01xoJrrf9"
      },
      "execution_count": 4,
      "outputs": []
    },
    {
      "cell_type": "markdown",
      "source": [
        "> **Utilização da biblioteca SQLAlchemy para conexão com o Cloud SQL**"
      ],
      "metadata": {
        "id": "mgaW9EaMTtwT"
      }
    },
    {
      "cell_type": "code",
      "source": [
        "servidor = '34.69.19.129'\n",
        "nome_do_banco = 'projeto-final'\n",
        "usuario = 'root'\n",
        "senha = 'root'\n",
        "\n",
        "# Criando uma SQLAlchemy engine para conectar com o MySQL \n",
        "engine = create_engine(\"mysql+pymysql://{user}:{pw}@{host}/{db}\".format(host=servidor, db=nome_do_banco, user=usuario, pw=senha))\n"
      ],
      "metadata": {
        "id": "C_0ItSqZkhNA"
      },
      "execution_count": 5,
      "outputs": []
    },
    {
      "cell_type": "markdown",
      "source": [
        "> **Conexão com a Service Account para envio para a Bucket**"
      ],
      "metadata": {
        "id": "bZhABVEp5DAh"
      }
    },
    {
      "cell_type": "code",
      "source": [
        "serviceAccount = '/content/sc-bc26-ed7-adb0dc2607d9.json'\n",
        "os.environ['GOOGLE_APPLICATION_CREDENTIALS'] = serviceAccount"
      ],
      "metadata": {
        "id": "R36_Tw3zxeYI"
      },
      "execution_count": 6,
      "outputs": []
    },
    {
      "cell_type": "markdown",
      "source": [
        "> **Leitura e envio do Datasets brutos para o Cloud SQL e Cloud Storage utilizando Python puro**"
      ],
      "metadata": {
        "id": "GSIMVP4e6Rb3"
      }
    },
    {
      "cell_type": "code",
      "source": [
        "for k,v in dataframes.items():\n",
        "  df_generico = pd.read_csv(v,sep=';')\n",
        "  df_generico.to_sql(k, engine, index=True, index_label=\"id\", if_exists='replace')\n",
        "  df_generico.to_csv(f'gs://projeto-final-equipe4/arquivos_brutos/{k}.csv',\n",
        "                     storage_options={'token':'/content/sc-bc26-ed7-adb0dc2607d9.json'},index=False)"
      ],
      "metadata": {
        "id": "WD-4_Wo945E1"
      },
      "execution_count": 19,
      "outputs": []
    },
    {
      "cell_type": "markdown",
      "source": [
        "> **Leitura e envio dos datasets de preços (por estarem em .xlsx foram feitos em separado)**"
      ],
      "metadata": {
        "id": "NG5rrvRrVC6M"
      }
    },
    {
      "cell_type": "code",
      "source": [
        "dfpreco1_bruto = pd.read_excel('https://www.gov.br/anp/pt-br/assuntos/precos-e-defesa-da-concorrencia/precos/precos-revenda-e-de-distribuicao-combustiveis/shlp/2001-2012/semanal-estados-2004-a-2012.xlsx', header=12)\n",
        "dfpreco2_bruto = pd.read_excel('https://www.gov.br/anp/pt-br/assuntos/precos-e-defesa-da-concorrencia/precos/precos-revenda-e-de-distribuicao-combustiveis/shlp/semanal/semanal-estados-desde-2013.xlsx', header = 17)"
      ],
      "metadata": {
        "id": "UTTrbXxFRrUk"
      },
      "execution_count": null,
      "outputs": []
    },
    {
      "cell_type": "code",
      "source": [
        "#dfpreco1_bruto.to_sql('dfpreco0112_bruto', engine, index=True, index_label=\"id\", if_exists='replace')\n",
        "#dfpreco2_bruto.to_sql('dfpreco13_bruto', engine, index=True, index_label=\"id\", if_exists='replace')\n",
        "dfpreco1_bruto.to_excel('gs://projeto-final-equipe4/arquivos_brutos/df1preco_bruto.xlsx',\n",
        "                        storage_options={'token':'/content/sc-bc26-ed7-adb0dc2607d9.json'},header=12, index=False)\n",
        "dfpreco2_bruto.to_excel('gs://projeto-final-equipe4/arquivos_brutos/df2preco_bruto.xlsx',\n",
        "                        storage_options={'token':'/content/sc-bc26-ed7-adb0dc2607d9.json'},header=17, index=False)\n"
      ],
      "metadata": {
        "id": "aEnJ1ZuKChUD"
      },
      "execution_count": 167,
      "outputs": []
    },
    {
      "cell_type": "markdown",
      "source": [
        "#2. TRANSFORMAÇÃO"
      ],
      "metadata": {
        "id": "U4_1L8NrjZEf"
      }
    },
    {
      "cell_type": "markdown",
      "source": [
        "## 2.1. Dataset de Produção de Biocombustíveis"
      ],
      "metadata": {
        "id": "paZem8B6Odqy"
      }
    },
    {
      "cell_type": "markdown",
      "source": [
        "### 2.1.1. Leitura dos datasets"
      ],
      "metadata": {
        "id": "UcdKdoNkVpWM"
      }
    },
    {
      "cell_type": "code",
      "source": [
        "dfbdi = pd.read_csv('https://storage.googleapis.com/projeto-final-equipe4/arquivos_brutos/dfbio_bruto.csv')\n",
        "dfeta = pd.read_csv('https://storage.googleapis.com/projeto-final-equipe4/arquivos_brutos/dfetanol_bruto.csv')"
      ],
      "metadata": {
        "id": "tCCsbeQJjZlE"
      },
      "execution_count": 52,
      "outputs": []
    },
    {
      "cell_type": "markdown",
      "source": [
        "### 2.1.2. Pré-análise dos Dataframes"
      ],
      "metadata": {
        "id": "Yty7XkloVv5S"
      }
    },
    {
      "cell_type": "code",
      "source": [
        "dfbdi.head(2)"
      ],
      "metadata": {
        "colab": {
          "base_uri": "https://localhost:8080/",
          "height": 112
        },
        "id": "EUpeLdkOPJ6S",
        "outputId": "09d9dbc9-e297-4585-f932-243567871d54"
      },
      "execution_count": 53,
      "outputs": [
        {
          "output_type": "execute_result",
          "data": {
            "text/plain": [
              "    ANO  MÊS GRANDE REGIÃO UNIDADE DA FEDERAÇÃO                   PRODUTOR  \\\n",
              "0  2005  ABR    REGIÃO SUL    RIO GRANDE DO SUL  GRANOL (CACHOEIRA DO SUL)   \n",
              "1  2005  MAI    REGIÃO SUL    RIO GRANDE DO SUL  GRANOL (CACHOEIRA DO SUL)   \n",
              "\n",
              "     PRODUTO PRODUÇÃO  \n",
              "0  BIODIESEL        0  \n",
              "1  BIODIESEL        0  "
            ],
            "text/html": [
              "\n",
              "  <div id=\"df-97b3225c-f28b-47d8-9362-5498f64563d2\">\n",
              "    <div class=\"colab-df-container\">\n",
              "      <div>\n",
              "<style scoped>\n",
              "    .dataframe tbody tr th:only-of-type {\n",
              "        vertical-align: middle;\n",
              "    }\n",
              "\n",
              "    .dataframe tbody tr th {\n",
              "        vertical-align: top;\n",
              "    }\n",
              "\n",
              "    .dataframe thead th {\n",
              "        text-align: right;\n",
              "    }\n",
              "</style>\n",
              "<table border=\"1\" class=\"dataframe\">\n",
              "  <thead>\n",
              "    <tr style=\"text-align: right;\">\n",
              "      <th></th>\n",
              "      <th>ANO</th>\n",
              "      <th>MÊS</th>\n",
              "      <th>GRANDE REGIÃO</th>\n",
              "      <th>UNIDADE DA FEDERAÇÃO</th>\n",
              "      <th>PRODUTOR</th>\n",
              "      <th>PRODUTO</th>\n",
              "      <th>PRODUÇÃO</th>\n",
              "    </tr>\n",
              "  </thead>\n",
              "  <tbody>\n",
              "    <tr>\n",
              "      <th>0</th>\n",
              "      <td>2005</td>\n",
              "      <td>ABR</td>\n",
              "      <td>REGIÃO SUL</td>\n",
              "      <td>RIO GRANDE DO SUL</td>\n",
              "      <td>GRANOL (CACHOEIRA DO SUL)</td>\n",
              "      <td>BIODIESEL</td>\n",
              "      <td>0</td>\n",
              "    </tr>\n",
              "    <tr>\n",
              "      <th>1</th>\n",
              "      <td>2005</td>\n",
              "      <td>MAI</td>\n",
              "      <td>REGIÃO SUL</td>\n",
              "      <td>RIO GRANDE DO SUL</td>\n",
              "      <td>GRANOL (CACHOEIRA DO SUL)</td>\n",
              "      <td>BIODIESEL</td>\n",
              "      <td>0</td>\n",
              "    </tr>\n",
              "  </tbody>\n",
              "</table>\n",
              "</div>\n",
              "      <button class=\"colab-df-convert\" onclick=\"convertToInteractive('df-97b3225c-f28b-47d8-9362-5498f64563d2')\"\n",
              "              title=\"Convert this dataframe to an interactive table.\"\n",
              "              style=\"display:none;\">\n",
              "        \n",
              "  <svg xmlns=\"http://www.w3.org/2000/svg\" height=\"24px\"viewBox=\"0 0 24 24\"\n",
              "       width=\"24px\">\n",
              "    <path d=\"M0 0h24v24H0V0z\" fill=\"none\"/>\n",
              "    <path d=\"M18.56 5.44l.94 2.06.94-2.06 2.06-.94-2.06-.94-.94-2.06-.94 2.06-2.06.94zm-11 1L8.5 8.5l.94-2.06 2.06-.94-2.06-.94L8.5 2.5l-.94 2.06-2.06.94zm10 10l.94 2.06.94-2.06 2.06-.94-2.06-.94-.94-2.06-.94 2.06-2.06.94z\"/><path d=\"M17.41 7.96l-1.37-1.37c-.4-.4-.92-.59-1.43-.59-.52 0-1.04.2-1.43.59L10.3 9.45l-7.72 7.72c-.78.78-.78 2.05 0 2.83L4 21.41c.39.39.9.59 1.41.59.51 0 1.02-.2 1.41-.59l7.78-7.78 2.81-2.81c.8-.78.8-2.07 0-2.86zM5.41 20L4 18.59l7.72-7.72 1.47 1.35L5.41 20z\"/>\n",
              "  </svg>\n",
              "      </button>\n",
              "      \n",
              "  <style>\n",
              "    .colab-df-container {\n",
              "      display:flex;\n",
              "      flex-wrap:wrap;\n",
              "      gap: 12px;\n",
              "    }\n",
              "\n",
              "    .colab-df-convert {\n",
              "      background-color: #E8F0FE;\n",
              "      border: none;\n",
              "      border-radius: 50%;\n",
              "      cursor: pointer;\n",
              "      display: none;\n",
              "      fill: #1967D2;\n",
              "      height: 32px;\n",
              "      padding: 0 0 0 0;\n",
              "      width: 32px;\n",
              "    }\n",
              "\n",
              "    .colab-df-convert:hover {\n",
              "      background-color: #E2EBFA;\n",
              "      box-shadow: 0px 1px 2px rgba(60, 64, 67, 0.3), 0px 1px 3px 1px rgba(60, 64, 67, 0.15);\n",
              "      fill: #174EA6;\n",
              "    }\n",
              "\n",
              "    [theme=dark] .colab-df-convert {\n",
              "      background-color: #3B4455;\n",
              "      fill: #D2E3FC;\n",
              "    }\n",
              "\n",
              "    [theme=dark] .colab-df-convert:hover {\n",
              "      background-color: #434B5C;\n",
              "      box-shadow: 0px 1px 3px 1px rgba(0, 0, 0, 0.15);\n",
              "      filter: drop-shadow(0px 1px 2px rgba(0, 0, 0, 0.3));\n",
              "      fill: #FFFFFF;\n",
              "    }\n",
              "  </style>\n",
              "\n",
              "      <script>\n",
              "        const buttonEl =\n",
              "          document.querySelector('#df-97b3225c-f28b-47d8-9362-5498f64563d2 button.colab-df-convert');\n",
              "        buttonEl.style.display =\n",
              "          google.colab.kernel.accessAllowed ? 'block' : 'none';\n",
              "\n",
              "        async function convertToInteractive(key) {\n",
              "          const element = document.querySelector('#df-97b3225c-f28b-47d8-9362-5498f64563d2');\n",
              "          const dataTable =\n",
              "            await google.colab.kernel.invokeFunction('convertToInteractive',\n",
              "                                                     [key], {});\n",
              "          if (!dataTable) return;\n",
              "\n",
              "          const docLinkHtml = 'Like what you see? Visit the ' +\n",
              "            '<a target=\"_blank\" href=https://colab.research.google.com/notebooks/data_table.ipynb>data table notebook</a>'\n",
              "            + ' to learn more about interactive tables.';\n",
              "          element.innerHTML = '';\n",
              "          dataTable['output_type'] = 'display_data';\n",
              "          await google.colab.output.renderOutput(dataTable, element);\n",
              "          const docLink = document.createElement('div');\n",
              "          docLink.innerHTML = docLinkHtml;\n",
              "          element.appendChild(docLink);\n",
              "        }\n",
              "      </script>\n",
              "    </div>\n",
              "  </div>\n",
              "  "
            ]
          },
          "metadata": {},
          "execution_count": 53
        }
      ]
    },
    {
      "cell_type": "code",
      "source": [
        "dfeta.head(2)"
      ],
      "metadata": {
        "colab": {
          "base_uri": "https://localhost:8080/",
          "height": 112
        },
        "id": "MQPgJYMYPORM",
        "outputId": "9f24511e-941b-42ac-c429-38e737a21964"
      },
      "execution_count": 54,
      "outputs": [
        {
          "output_type": "execute_result",
          "data": {
            "text/plain": [
              "    ANO  MÊS GRANDE REGIÃO UNIDADE DA FEDERAÇÃO PRODUTO PRODUÇÃO\n",
              "0  2012  JAN  REGIÃO NORTE             RONDONIA  ANIDRO        0\n",
              "1  2012  FEV  REGIÃO NORTE             RONDONIA  ANIDRO        0"
            ],
            "text/html": [
              "\n",
              "  <div id=\"df-8c9f7f54-6360-444e-9b7f-95567a59ee6e\">\n",
              "    <div class=\"colab-df-container\">\n",
              "      <div>\n",
              "<style scoped>\n",
              "    .dataframe tbody tr th:only-of-type {\n",
              "        vertical-align: middle;\n",
              "    }\n",
              "\n",
              "    .dataframe tbody tr th {\n",
              "        vertical-align: top;\n",
              "    }\n",
              "\n",
              "    .dataframe thead th {\n",
              "        text-align: right;\n",
              "    }\n",
              "</style>\n",
              "<table border=\"1\" class=\"dataframe\">\n",
              "  <thead>\n",
              "    <tr style=\"text-align: right;\">\n",
              "      <th></th>\n",
              "      <th>ANO</th>\n",
              "      <th>MÊS</th>\n",
              "      <th>GRANDE REGIÃO</th>\n",
              "      <th>UNIDADE DA FEDERAÇÃO</th>\n",
              "      <th>PRODUTO</th>\n",
              "      <th>PRODUÇÃO</th>\n",
              "    </tr>\n",
              "  </thead>\n",
              "  <tbody>\n",
              "    <tr>\n",
              "      <th>0</th>\n",
              "      <td>2012</td>\n",
              "      <td>JAN</td>\n",
              "      <td>REGIÃO NORTE</td>\n",
              "      <td>RONDONIA</td>\n",
              "      <td>ANIDRO</td>\n",
              "      <td>0</td>\n",
              "    </tr>\n",
              "    <tr>\n",
              "      <th>1</th>\n",
              "      <td>2012</td>\n",
              "      <td>FEV</td>\n",
              "      <td>REGIÃO NORTE</td>\n",
              "      <td>RONDONIA</td>\n",
              "      <td>ANIDRO</td>\n",
              "      <td>0</td>\n",
              "    </tr>\n",
              "  </tbody>\n",
              "</table>\n",
              "</div>\n",
              "      <button class=\"colab-df-convert\" onclick=\"convertToInteractive('df-8c9f7f54-6360-444e-9b7f-95567a59ee6e')\"\n",
              "              title=\"Convert this dataframe to an interactive table.\"\n",
              "              style=\"display:none;\">\n",
              "        \n",
              "  <svg xmlns=\"http://www.w3.org/2000/svg\" height=\"24px\"viewBox=\"0 0 24 24\"\n",
              "       width=\"24px\">\n",
              "    <path d=\"M0 0h24v24H0V0z\" fill=\"none\"/>\n",
              "    <path d=\"M18.56 5.44l.94 2.06.94-2.06 2.06-.94-2.06-.94-.94-2.06-.94 2.06-2.06.94zm-11 1L8.5 8.5l.94-2.06 2.06-.94-2.06-.94L8.5 2.5l-.94 2.06-2.06.94zm10 10l.94 2.06.94-2.06 2.06-.94-2.06-.94-.94-2.06-.94 2.06-2.06.94z\"/><path d=\"M17.41 7.96l-1.37-1.37c-.4-.4-.92-.59-1.43-.59-.52 0-1.04.2-1.43.59L10.3 9.45l-7.72 7.72c-.78.78-.78 2.05 0 2.83L4 21.41c.39.39.9.59 1.41.59.51 0 1.02-.2 1.41-.59l7.78-7.78 2.81-2.81c.8-.78.8-2.07 0-2.86zM5.41 20L4 18.59l7.72-7.72 1.47 1.35L5.41 20z\"/>\n",
              "  </svg>\n",
              "      </button>\n",
              "      \n",
              "  <style>\n",
              "    .colab-df-container {\n",
              "      display:flex;\n",
              "      flex-wrap:wrap;\n",
              "      gap: 12px;\n",
              "    }\n",
              "\n",
              "    .colab-df-convert {\n",
              "      background-color: #E8F0FE;\n",
              "      border: none;\n",
              "      border-radius: 50%;\n",
              "      cursor: pointer;\n",
              "      display: none;\n",
              "      fill: #1967D2;\n",
              "      height: 32px;\n",
              "      padding: 0 0 0 0;\n",
              "      width: 32px;\n",
              "    }\n",
              "\n",
              "    .colab-df-convert:hover {\n",
              "      background-color: #E2EBFA;\n",
              "      box-shadow: 0px 1px 2px rgba(60, 64, 67, 0.3), 0px 1px 3px 1px rgba(60, 64, 67, 0.15);\n",
              "      fill: #174EA6;\n",
              "    }\n",
              "\n",
              "    [theme=dark] .colab-df-convert {\n",
              "      background-color: #3B4455;\n",
              "      fill: #D2E3FC;\n",
              "    }\n",
              "\n",
              "    [theme=dark] .colab-df-convert:hover {\n",
              "      background-color: #434B5C;\n",
              "      box-shadow: 0px 1px 3px 1px rgba(0, 0, 0, 0.15);\n",
              "      filter: drop-shadow(0px 1px 2px rgba(0, 0, 0, 0.3));\n",
              "      fill: #FFFFFF;\n",
              "    }\n",
              "  </style>\n",
              "\n",
              "      <script>\n",
              "        const buttonEl =\n",
              "          document.querySelector('#df-8c9f7f54-6360-444e-9b7f-95567a59ee6e button.colab-df-convert');\n",
              "        buttonEl.style.display =\n",
              "          google.colab.kernel.accessAllowed ? 'block' : 'none';\n",
              "\n",
              "        async function convertToInteractive(key) {\n",
              "          const element = document.querySelector('#df-8c9f7f54-6360-444e-9b7f-95567a59ee6e');\n",
              "          const dataTable =\n",
              "            await google.colab.kernel.invokeFunction('convertToInteractive',\n",
              "                                                     [key], {});\n",
              "          if (!dataTable) return;\n",
              "\n",
              "          const docLinkHtml = 'Like what you see? Visit the ' +\n",
              "            '<a target=\"_blank\" href=https://colab.research.google.com/notebooks/data_table.ipynb>data table notebook</a>'\n",
              "            + ' to learn more about interactive tables.';\n",
              "          element.innerHTML = '';\n",
              "          dataTable['output_type'] = 'display_data';\n",
              "          await google.colab.output.renderOutput(dataTable, element);\n",
              "          const docLink = document.createElement('div');\n",
              "          docLink.innerHTML = docLinkHtml;\n",
              "          element.appendChild(docLink);\n",
              "        }\n",
              "      </script>\n",
              "    </div>\n",
              "  </div>\n",
              "  "
            ]
          },
          "metadata": {},
          "execution_count": 54
        }
      ]
    },
    {
      "cell_type": "markdown",
      "source": [
        "### 2.1.3. Tratamentos"
      ],
      "metadata": {
        "id": "qpr3DmiYXyzt"
      }
    },
    {
      "cell_type": "markdown",
      "source": [
        "> **Drop da coluna de produtor para igualar os Dataframes. Não fará falta nas análises**"
      ],
      "metadata": {
        "id": "v-1qXPSwYD74"
      }
    },
    {
      "cell_type": "code",
      "source": [
        "dfbdi.drop('PRODUTOR',axis=1,inplace=True)"
      ],
      "metadata": {
        "id": "zZLYFQyePoZm"
      },
      "execution_count": 55,
      "outputs": []
    },
    {
      "cell_type": "markdown",
      "source": [
        "> **União dos dois dataframes a fim de facilitar o tratamento**"
      ],
      "metadata": {
        "id": "biNhB0YuYF81"
      }
    },
    {
      "cell_type": "code",
      "source": [
        "dfbio = pd.concat([dfbdi,dfeta])"
      ],
      "metadata": {
        "id": "OvUNBiFiP3bY"
      },
      "execution_count": 56,
      "outputs": []
    },
    {
      "cell_type": "markdown",
      "source": [
        "> **Check de valores nulos**"
      ],
      "metadata": {
        "id": "e0DhqBToYTSS"
      }
    },
    {
      "cell_type": "code",
      "source": [
        "dfbio.isna().sum()"
      ],
      "metadata": {
        "colab": {
          "base_uri": "https://localhost:8080/"
        },
        "id": "4FbzvJogQIUC",
        "outputId": "15ffc567-568c-484d-df56-fb15e4b97995"
      },
      "execution_count": 57,
      "outputs": [
        {
          "output_type": "execute_result",
          "data": {
            "text/plain": [
              "ANO                     0\n",
              "MÊS                     0\n",
              "GRANDE REGIÃO           0\n",
              "UNIDADE DA FEDERAÇÃO    0\n",
              "PRODUTO                 0\n",
              "PRODUÇÃO                0\n",
              "dtype: int64"
            ]
          },
          "metadata": {},
          "execution_count": 57
        }
      ]
    },
    {
      "cell_type": "markdown",
      "source": [
        "> **Check de colunas e seus tipos**"
      ],
      "metadata": {
        "id": "e67zTavIYn2B"
      }
    },
    {
      "cell_type": "code",
      "source": [
        "dfbio.dtypes"
      ],
      "metadata": {
        "colab": {
          "base_uri": "https://localhost:8080/"
        },
        "id": "HFj9O2BqQQPO",
        "outputId": "86b5cb48-3587-4b90-c0b3-07a38085556b"
      },
      "execution_count": 58,
      "outputs": [
        {
          "output_type": "execute_result",
          "data": {
            "text/plain": [
              "ANO                      int64\n",
              "MÊS                     object\n",
              "GRANDE REGIÃO           object\n",
              "UNIDADE DA FEDERAÇÃO    object\n",
              "PRODUTO                 object\n",
              "PRODUÇÃO                object\n",
              "dtype: object"
            ]
          },
          "metadata": {},
          "execution_count": 58
        }
      ]
    },
    {
      "cell_type": "markdown",
      "source": [
        "> **Renomeação de colunas**"
      ],
      "metadata": {
        "id": "TrmbrXMGYW82"
      }
    },
    {
      "cell_type": "code",
      "source": [
        "dfbio.rename(columns={'ANO':'ano','MÊS':'mes','GRANDE REGIÃO':'regiao','UNIDADE DA FEDERAÇÃO':'uf','PRODUTO':'produto','PRODUÇÃO':'volume_m3'},inplace=True)"
      ],
      "metadata": {
        "id": "XTGy8W9NPVqE"
      },
      "execution_count": 59,
      "outputs": []
    },
    {
      "cell_type": "markdown",
      "source": [
        "> **Retirada de acentuação da coluna estado**"
      ],
      "metadata": {
        "id": "rCL2Gw-BrKT0"
      }
    },
    {
      "cell_type": "code",
      "source": [
        "dfbio['uf'] = dfbio.uf.str.normalize('NFKD').str.encode('ascii', errors='ignore').str.decode('utf-8')"
      ],
      "metadata": {
        "id": "IdWvhMSAtNlt"
      },
      "execution_count": 60,
      "outputs": []
    },
    {
      "cell_type": "code",
      "source": [
        "dfbio"
      ],
      "metadata": {
        "colab": {
          "base_uri": "https://localhost:8080/",
          "height": 424
        },
        "id": "x4roQvnJQT5D",
        "outputId": "9cbe2354-9c16-480f-c9dc-7bc572351cec"
      },
      "execution_count": 61,
      "outputs": [
        {
          "output_type": "execute_result",
          "data": {
            "text/plain": [
              "       ano  mes        regiao                 uf    produto  volume_m3\n",
              "0     2005  ABR    REGIÃO SUL  RIO GRANDE DO SUL  BIODIESEL          0\n",
              "1     2005  MAI    REGIÃO SUL  RIO GRANDE DO SUL  BIODIESEL          0\n",
              "2     2005  FEV    REGIÃO SUL  RIO GRANDE DO SUL  BIODIESEL          0\n",
              "3     2005  MAR    REGIÃO SUL  RIO GRANDE DO SUL  BIODIESEL          0\n",
              "4     2005  JUN    REGIÃO SUL  RIO GRANDE DO SUL  BIODIESEL          0\n",
              "...    ...  ...           ...                ...        ...        ...\n",
              "6937  2022  JUL  REGIÃO NORTE          TOCANTINS  HIDRATADO  17102,386\n",
              "6938  2022  AGO  REGIÃO NORTE          TOCANTINS  HIDRATADO  14012,163\n",
              "6939  2022  SET  REGIÃO NORTE          TOCANTINS  HIDRATADO   11061,83\n",
              "6940  2022  OUT  REGIÃO NORTE          TOCANTINS  HIDRATADO  11955,529\n",
              "6941  2022  NOV  REGIÃO NORTE          TOCANTINS  HIDRATADO   9855,249\n",
              "\n",
              "[26832 rows x 6 columns]"
            ],
            "text/html": [
              "\n",
              "  <div id=\"df-09b06f1d-1675-48e7-9886-299ac37297d4\">\n",
              "    <div class=\"colab-df-container\">\n",
              "      <div>\n",
              "<style scoped>\n",
              "    .dataframe tbody tr th:only-of-type {\n",
              "        vertical-align: middle;\n",
              "    }\n",
              "\n",
              "    .dataframe tbody tr th {\n",
              "        vertical-align: top;\n",
              "    }\n",
              "\n",
              "    .dataframe thead th {\n",
              "        text-align: right;\n",
              "    }\n",
              "</style>\n",
              "<table border=\"1\" class=\"dataframe\">\n",
              "  <thead>\n",
              "    <tr style=\"text-align: right;\">\n",
              "      <th></th>\n",
              "      <th>ano</th>\n",
              "      <th>mes</th>\n",
              "      <th>regiao</th>\n",
              "      <th>uf</th>\n",
              "      <th>produto</th>\n",
              "      <th>volume_m3</th>\n",
              "    </tr>\n",
              "  </thead>\n",
              "  <tbody>\n",
              "    <tr>\n",
              "      <th>0</th>\n",
              "      <td>2005</td>\n",
              "      <td>ABR</td>\n",
              "      <td>REGIÃO SUL</td>\n",
              "      <td>RIO GRANDE DO SUL</td>\n",
              "      <td>BIODIESEL</td>\n",
              "      <td>0</td>\n",
              "    </tr>\n",
              "    <tr>\n",
              "      <th>1</th>\n",
              "      <td>2005</td>\n",
              "      <td>MAI</td>\n",
              "      <td>REGIÃO SUL</td>\n",
              "      <td>RIO GRANDE DO SUL</td>\n",
              "      <td>BIODIESEL</td>\n",
              "      <td>0</td>\n",
              "    </tr>\n",
              "    <tr>\n",
              "      <th>2</th>\n",
              "      <td>2005</td>\n",
              "      <td>FEV</td>\n",
              "      <td>REGIÃO SUL</td>\n",
              "      <td>RIO GRANDE DO SUL</td>\n",
              "      <td>BIODIESEL</td>\n",
              "      <td>0</td>\n",
              "    </tr>\n",
              "    <tr>\n",
              "      <th>3</th>\n",
              "      <td>2005</td>\n",
              "      <td>MAR</td>\n",
              "      <td>REGIÃO SUL</td>\n",
              "      <td>RIO GRANDE DO SUL</td>\n",
              "      <td>BIODIESEL</td>\n",
              "      <td>0</td>\n",
              "    </tr>\n",
              "    <tr>\n",
              "      <th>4</th>\n",
              "      <td>2005</td>\n",
              "      <td>JUN</td>\n",
              "      <td>REGIÃO SUL</td>\n",
              "      <td>RIO GRANDE DO SUL</td>\n",
              "      <td>BIODIESEL</td>\n",
              "      <td>0</td>\n",
              "    </tr>\n",
              "    <tr>\n",
              "      <th>...</th>\n",
              "      <td>...</td>\n",
              "      <td>...</td>\n",
              "      <td>...</td>\n",
              "      <td>...</td>\n",
              "      <td>...</td>\n",
              "      <td>...</td>\n",
              "    </tr>\n",
              "    <tr>\n",
              "      <th>6937</th>\n",
              "      <td>2022</td>\n",
              "      <td>JUL</td>\n",
              "      <td>REGIÃO NORTE</td>\n",
              "      <td>TOCANTINS</td>\n",
              "      <td>HIDRATADO</td>\n",
              "      <td>17102,386</td>\n",
              "    </tr>\n",
              "    <tr>\n",
              "      <th>6938</th>\n",
              "      <td>2022</td>\n",
              "      <td>AGO</td>\n",
              "      <td>REGIÃO NORTE</td>\n",
              "      <td>TOCANTINS</td>\n",
              "      <td>HIDRATADO</td>\n",
              "      <td>14012,163</td>\n",
              "    </tr>\n",
              "    <tr>\n",
              "      <th>6939</th>\n",
              "      <td>2022</td>\n",
              "      <td>SET</td>\n",
              "      <td>REGIÃO NORTE</td>\n",
              "      <td>TOCANTINS</td>\n",
              "      <td>HIDRATADO</td>\n",
              "      <td>11061,83</td>\n",
              "    </tr>\n",
              "    <tr>\n",
              "      <th>6940</th>\n",
              "      <td>2022</td>\n",
              "      <td>OUT</td>\n",
              "      <td>REGIÃO NORTE</td>\n",
              "      <td>TOCANTINS</td>\n",
              "      <td>HIDRATADO</td>\n",
              "      <td>11955,529</td>\n",
              "    </tr>\n",
              "    <tr>\n",
              "      <th>6941</th>\n",
              "      <td>2022</td>\n",
              "      <td>NOV</td>\n",
              "      <td>REGIÃO NORTE</td>\n",
              "      <td>TOCANTINS</td>\n",
              "      <td>HIDRATADO</td>\n",
              "      <td>9855,249</td>\n",
              "    </tr>\n",
              "  </tbody>\n",
              "</table>\n",
              "<p>26832 rows × 6 columns</p>\n",
              "</div>\n",
              "      <button class=\"colab-df-convert\" onclick=\"convertToInteractive('df-09b06f1d-1675-48e7-9886-299ac37297d4')\"\n",
              "              title=\"Convert this dataframe to an interactive table.\"\n",
              "              style=\"display:none;\">\n",
              "        \n",
              "  <svg xmlns=\"http://www.w3.org/2000/svg\" height=\"24px\"viewBox=\"0 0 24 24\"\n",
              "       width=\"24px\">\n",
              "    <path d=\"M0 0h24v24H0V0z\" fill=\"none\"/>\n",
              "    <path d=\"M18.56 5.44l.94 2.06.94-2.06 2.06-.94-2.06-.94-.94-2.06-.94 2.06-2.06.94zm-11 1L8.5 8.5l.94-2.06 2.06-.94-2.06-.94L8.5 2.5l-.94 2.06-2.06.94zm10 10l.94 2.06.94-2.06 2.06-.94-2.06-.94-.94-2.06-.94 2.06-2.06.94z\"/><path d=\"M17.41 7.96l-1.37-1.37c-.4-.4-.92-.59-1.43-.59-.52 0-1.04.2-1.43.59L10.3 9.45l-7.72 7.72c-.78.78-.78 2.05 0 2.83L4 21.41c.39.39.9.59 1.41.59.51 0 1.02-.2 1.41-.59l7.78-7.78 2.81-2.81c.8-.78.8-2.07 0-2.86zM5.41 20L4 18.59l7.72-7.72 1.47 1.35L5.41 20z\"/>\n",
              "  </svg>\n",
              "      </button>\n",
              "      \n",
              "  <style>\n",
              "    .colab-df-container {\n",
              "      display:flex;\n",
              "      flex-wrap:wrap;\n",
              "      gap: 12px;\n",
              "    }\n",
              "\n",
              "    .colab-df-convert {\n",
              "      background-color: #E8F0FE;\n",
              "      border: none;\n",
              "      border-radius: 50%;\n",
              "      cursor: pointer;\n",
              "      display: none;\n",
              "      fill: #1967D2;\n",
              "      height: 32px;\n",
              "      padding: 0 0 0 0;\n",
              "      width: 32px;\n",
              "    }\n",
              "\n",
              "    .colab-df-convert:hover {\n",
              "      background-color: #E2EBFA;\n",
              "      box-shadow: 0px 1px 2px rgba(60, 64, 67, 0.3), 0px 1px 3px 1px rgba(60, 64, 67, 0.15);\n",
              "      fill: #174EA6;\n",
              "    }\n",
              "\n",
              "    [theme=dark] .colab-df-convert {\n",
              "      background-color: #3B4455;\n",
              "      fill: #D2E3FC;\n",
              "    }\n",
              "\n",
              "    [theme=dark] .colab-df-convert:hover {\n",
              "      background-color: #434B5C;\n",
              "      box-shadow: 0px 1px 3px 1px rgba(0, 0, 0, 0.15);\n",
              "      filter: drop-shadow(0px 1px 2px rgba(0, 0, 0, 0.3));\n",
              "      fill: #FFFFFF;\n",
              "    }\n",
              "  </style>\n",
              "\n",
              "      <script>\n",
              "        const buttonEl =\n",
              "          document.querySelector('#df-09b06f1d-1675-48e7-9886-299ac37297d4 button.colab-df-convert');\n",
              "        buttonEl.style.display =\n",
              "          google.colab.kernel.accessAllowed ? 'block' : 'none';\n",
              "\n",
              "        async function convertToInteractive(key) {\n",
              "          const element = document.querySelector('#df-09b06f1d-1675-48e7-9886-299ac37297d4');\n",
              "          const dataTable =\n",
              "            await google.colab.kernel.invokeFunction('convertToInteractive',\n",
              "                                                     [key], {});\n",
              "          if (!dataTable) return;\n",
              "\n",
              "          const docLinkHtml = 'Like what you see? Visit the ' +\n",
              "            '<a target=\"_blank\" href=https://colab.research.google.com/notebooks/data_table.ipynb>data table notebook</a>'\n",
              "            + ' to learn more about interactive tables.';\n",
              "          element.innerHTML = '';\n",
              "          dataTable['output_type'] = 'display_data';\n",
              "          await google.colab.output.renderOutput(dataTable, element);\n",
              "          const docLink = document.createElement('div');\n",
              "          docLink.innerHTML = docLinkHtml;\n",
              "          element.appendChild(docLink);\n",
              "        }\n",
              "      </script>\n",
              "    </div>\n",
              "  </div>\n",
              "  "
            ]
          },
          "metadata": {},
          "execution_count": 61
        }
      ]
    },
    {
      "cell_type": "markdown",
      "source": [
        "> **Restrição do dataframe para o intervalo desejado**"
      ],
      "metadata": {
        "id": "scg_-6b_Yt9c"
      }
    },
    {
      "cell_type": "code",
      "source": [
        "dfbio = dfbio.loc[(dfbio['ano'] >= 2012) & (dfbio['ano'] <= 2021)]"
      ],
      "metadata": {
        "id": "uv6EBTqrQXRD"
      },
      "execution_count": 62,
      "outputs": []
    },
    {
      "cell_type": "markdown",
      "source": [
        "> **Check dos valores únicos de cada coluna para procura de possíveis inconsistências**\n",
        "\n",
        "Inconsistências encontradas: \n",
        "1. Região -> colocar hífen em CENTRO OESTE\n",
        "2. volume_m3 -> Trocar vírgula para ponto \n",
        "3. uf -> colocar acento em GOIAS, PIAUI, PARA, RONDONIA\n",
        "\n"
      ],
      "metadata": {
        "id": "vuZ_ued1bNWS"
      }
    },
    {
      "cell_type": "code",
      "source": [
        "dfbio.groupby('volume_m3').size()"
      ],
      "metadata": {
        "colab": {
          "base_uri": "https://localhost:8080/"
        },
        "id": "ba9zVBtQQ0Uz",
        "outputId": "7e378575-4d56-4835-9770-8fbdea62a1ed"
      },
      "execution_count": 63,
      "outputs": [
        {
          "output_type": "execute_result",
          "data": {
            "text/plain": [
              "volume_m3\n",
              "0           10084\n",
              "0,001           1\n",
              "0,003           1\n",
              "0,005           1\n",
              "0,015           1\n",
              "            ...  \n",
              "9996,297        1\n",
              "9997,052        1\n",
              "9998,07         1\n",
              "9998,268        1\n",
              "9999,135        1\n",
              "Length: 7926, dtype: int64"
            ]
          },
          "metadata": {},
          "execution_count": 63
        }
      ]
    },
    {
      "cell_type": "markdown",
      "source": [
        "> **Tratamento das inconsistências detectadas**"
      ],
      "metadata": {
        "id": "g9dv6gIYcZrB"
      }
    },
    {
      "cell_type": "code",
      "source": [
        "dfbio.volume_m3.replace(',','.',regex=True, inplace=True)\n",
        "dfbio.regiao.replace({'REGIÃO CENTRO OESTE':'REGIÃO CENTRO-OESTE'},inplace=True)"
      ],
      "metadata": {
        "id": "egoPworTSxyk",
        "colab": {
          "base_uri": "https://localhost:8080/"
        },
        "outputId": "5b7e77fb-08c2-4c65-fae2-4535f7ee1b3b"
      },
      "execution_count": 64,
      "outputs": [
        {
          "output_type": "stream",
          "name": "stderr",
          "text": [
            "/usr/local/lib/python3.8/dist-packages/pandas/core/generic.py:6619: SettingWithCopyWarning: \n",
            "A value is trying to be set on a copy of a slice from a DataFrame\n",
            "\n",
            "See the caveats in the documentation: https://pandas.pydata.org/pandas-docs/stable/user_guide/indexing.html#returning-a-view-versus-a-copy\n",
            "  return self._update_inplace(result)\n"
          ]
        }
      ]
    },
    {
      "cell_type": "code",
      "source": [
        "dfbio.uf.replace({'BRASILIA':'DISTRITO FEDERAL'},inplace=True)"
      ],
      "metadata": {
        "id": "8xZ9hFkxt4Mi"
      },
      "execution_count": 65,
      "outputs": []
    },
    {
      "cell_type": "markdown",
      "source": [
        "> **Ajuste da coluna de data unindo as colunas de mês e ano**"
      ],
      "metadata": {
        "id": "ab14JIgSchMn"
      }
    },
    {
      "cell_type": "code",
      "source": [
        "dfbio.mes.replace(({'JAN':'01','FEV':'02','MAR':'03','ABR':'04','MAI':'05','JUN':'06','JUL':'07','AGO':'08', \n",
        "                    'SET':'09','OUT':'10','NOV':'11','DEZ':'12'}),regex=True,inplace=True)"
      ],
      "metadata": {
        "id": "h3Y8QPPachyA"
      },
      "execution_count": 66,
      "outputs": []
    },
    {
      "cell_type": "code",
      "source": [
        "# Troca do tipo para string, então união das colunas de data e finalmente transformação para o tipo datetime\n",
        "dfbio['ano'] = dfbio['ano'].astype(str)\n",
        "dfbio['data'] = dfbio['ano'] + '-' + dfbio['mes']\n",
        "dfbio['data'] = pd.to_datetime(dfbio['data'], format = '%Y-%m')"
      ],
      "metadata": {
        "id": "dR100kuESVL1",
        "colab": {
          "base_uri": "https://localhost:8080/"
        },
        "outputId": "1b6f647d-ed60-4786-f863-afb5d0bae70e"
      },
      "execution_count": 67,
      "outputs": [
        {
          "output_type": "stream",
          "name": "stderr",
          "text": [
            "<ipython-input-67-1e03f932ab4d>:2: SettingWithCopyWarning: \n",
            "A value is trying to be set on a copy of a slice from a DataFrame.\n",
            "Try using .loc[row_indexer,col_indexer] = value instead\n",
            "\n",
            "See the caveats in the documentation: https://pandas.pydata.org/pandas-docs/stable/user_guide/indexing.html#returning-a-view-versus-a-copy\n",
            "  dfbio['ano'] = dfbio['ano'].astype(str)\n",
            "<ipython-input-67-1e03f932ab4d>:3: SettingWithCopyWarning: \n",
            "A value is trying to be set on a copy of a slice from a DataFrame.\n",
            "Try using .loc[row_indexer,col_indexer] = value instead\n",
            "\n",
            "See the caveats in the documentation: https://pandas.pydata.org/pandas-docs/stable/user_guide/indexing.html#returning-a-view-versus-a-copy\n",
            "  dfbio['data'] = dfbio['ano'] + '-' + dfbio['mes']\n",
            "<ipython-input-67-1e03f932ab4d>:4: SettingWithCopyWarning: \n",
            "A value is trying to be set on a copy of a slice from a DataFrame.\n",
            "Try using .loc[row_indexer,col_indexer] = value instead\n",
            "\n",
            "See the caveats in the documentation: https://pandas.pydata.org/pandas-docs/stable/user_guide/indexing.html#returning-a-view-versus-a-copy\n",
            "  dfbio['data'] = pd.to_datetime(dfbio['data'], format = '%Y-%m')\n"
          ]
        }
      ]
    },
    {
      "cell_type": "code",
      "source": [
        "# Drop das colunas ano e mes, pois não são mais necessárias\n",
        "dfbio.drop(['ano','mes'],axis=1,inplace=True)"
      ],
      "metadata": {
        "id": "IzhPLGEWUEHd",
        "colab": {
          "base_uri": "https://localhost:8080/"
        },
        "outputId": "a90c65c3-8fd0-4b82-9c63-7d898eaaa52f"
      },
      "execution_count": 68,
      "outputs": [
        {
          "output_type": "stream",
          "name": "stderr",
          "text": [
            "/usr/local/lib/python3.8/dist-packages/pandas/core/frame.py:4906: SettingWithCopyWarning: \n",
            "A value is trying to be set on a copy of a slice from a DataFrame\n",
            "\n",
            "See the caveats in the documentation: https://pandas.pydata.org/pandas-docs/stable/user_guide/indexing.html#returning-a-view-versus-a-copy\n",
            "  return super().drop(\n"
          ]
        }
      ]
    },
    {
      "cell_type": "markdown",
      "source": [
        "> **Troca de tipo da coluna volume_m3 para float**"
      ],
      "metadata": {
        "id": "PkSDcCVrdXce"
      }
    },
    {
      "cell_type": "code",
      "source": [
        "dfbio['volume_m3'] = dfbio['volume_m3'].astype(float)"
      ],
      "metadata": {
        "id": "4JYUV-FIUO3x",
        "colab": {
          "base_uri": "https://localhost:8080/"
        },
        "outputId": "c8c48440-5aeb-423b-e819-7db0fa9b9737"
      },
      "execution_count": 69,
      "outputs": [
        {
          "output_type": "stream",
          "name": "stderr",
          "text": [
            "<ipython-input-69-952a0d619570>:1: SettingWithCopyWarning: \n",
            "A value is trying to be set on a copy of a slice from a DataFrame.\n",
            "Try using .loc[row_indexer,col_indexer] = value instead\n",
            "\n",
            "See the caveats in the documentation: https://pandas.pydata.org/pandas-docs/stable/user_guide/indexing.html#returning-a-view-versus-a-copy\n",
            "  dfbio['volume_m3'] = dfbio['volume_m3'].astype(float)\n"
          ]
        }
      ]
    },
    {
      "cell_type": "code",
      "source": [
        "dfbio"
      ],
      "metadata": {
        "colab": {
          "base_uri": "https://localhost:8080/",
          "height": 424
        },
        "id": "piQGEVoHIgBP",
        "outputId": "fd8f97ba-ef14-4c02-9d5a-27314119e548"
      },
      "execution_count": 70,
      "outputs": [
        {
          "output_type": "execute_result",
          "data": {
            "text/plain": [
              "                   regiao                 uf    produto  volume_m3       data\n",
              "8202           REGIÃO SUL  RIO GRANDE DO SUL  BIODIESEL   8965.277 2012-06-01\n",
              "8203           REGIÃO SUL  RIO GRANDE DO SUL  BIODIESEL   5557.868 2012-07-01\n",
              "8204           REGIÃO SUL  RIO GRANDE DO SUL  BIODIESEL  14360.758 2012-04-01\n",
              "8205           REGIÃO SUL  RIO GRANDE DO SUL  BIODIESEL  14726.383 2012-05-01\n",
              "8206           REGIÃO SUL  RIO GRANDE DO SUL  BIODIESEL   8211.036 2012-08-01\n",
              "...                   ...                ...        ...        ...        ...\n",
              "6358  REGIÃO CENTRO-OESTE   DISTRITO FEDERAL  HIDRATADO      0.000 2021-08-01\n",
              "6359  REGIÃO CENTRO-OESTE   DISTRITO FEDERAL  HIDRATADO      0.000 2021-09-01\n",
              "6360  REGIÃO CENTRO-OESTE   DISTRITO FEDERAL  HIDRATADO      0.000 2021-10-01\n",
              "6361  REGIÃO CENTRO-OESTE   DISTRITO FEDERAL  HIDRATADO      0.000 2021-11-01\n",
              "6362  REGIÃO CENTRO-OESTE   DISTRITO FEDERAL  HIDRATADO      0.000 2021-12-01\n",
              "\n",
              "[18051 rows x 5 columns]"
            ],
            "text/html": [
              "\n",
              "  <div id=\"df-6f15b5e5-1bb1-45ee-b0ae-75de0cd18f46\">\n",
              "    <div class=\"colab-df-container\">\n",
              "      <div>\n",
              "<style scoped>\n",
              "    .dataframe tbody tr th:only-of-type {\n",
              "        vertical-align: middle;\n",
              "    }\n",
              "\n",
              "    .dataframe tbody tr th {\n",
              "        vertical-align: top;\n",
              "    }\n",
              "\n",
              "    .dataframe thead th {\n",
              "        text-align: right;\n",
              "    }\n",
              "</style>\n",
              "<table border=\"1\" class=\"dataframe\">\n",
              "  <thead>\n",
              "    <tr style=\"text-align: right;\">\n",
              "      <th></th>\n",
              "      <th>regiao</th>\n",
              "      <th>uf</th>\n",
              "      <th>produto</th>\n",
              "      <th>volume_m3</th>\n",
              "      <th>data</th>\n",
              "    </tr>\n",
              "  </thead>\n",
              "  <tbody>\n",
              "    <tr>\n",
              "      <th>8202</th>\n",
              "      <td>REGIÃO SUL</td>\n",
              "      <td>RIO GRANDE DO SUL</td>\n",
              "      <td>BIODIESEL</td>\n",
              "      <td>8965.277</td>\n",
              "      <td>2012-06-01</td>\n",
              "    </tr>\n",
              "    <tr>\n",
              "      <th>8203</th>\n",
              "      <td>REGIÃO SUL</td>\n",
              "      <td>RIO GRANDE DO SUL</td>\n",
              "      <td>BIODIESEL</td>\n",
              "      <td>5557.868</td>\n",
              "      <td>2012-07-01</td>\n",
              "    </tr>\n",
              "    <tr>\n",
              "      <th>8204</th>\n",
              "      <td>REGIÃO SUL</td>\n",
              "      <td>RIO GRANDE DO SUL</td>\n",
              "      <td>BIODIESEL</td>\n",
              "      <td>14360.758</td>\n",
              "      <td>2012-04-01</td>\n",
              "    </tr>\n",
              "    <tr>\n",
              "      <th>8205</th>\n",
              "      <td>REGIÃO SUL</td>\n",
              "      <td>RIO GRANDE DO SUL</td>\n",
              "      <td>BIODIESEL</td>\n",
              "      <td>14726.383</td>\n",
              "      <td>2012-05-01</td>\n",
              "    </tr>\n",
              "    <tr>\n",
              "      <th>8206</th>\n",
              "      <td>REGIÃO SUL</td>\n",
              "      <td>RIO GRANDE DO SUL</td>\n",
              "      <td>BIODIESEL</td>\n",
              "      <td>8211.036</td>\n",
              "      <td>2012-08-01</td>\n",
              "    </tr>\n",
              "    <tr>\n",
              "      <th>...</th>\n",
              "      <td>...</td>\n",
              "      <td>...</td>\n",
              "      <td>...</td>\n",
              "      <td>...</td>\n",
              "      <td>...</td>\n",
              "    </tr>\n",
              "    <tr>\n",
              "      <th>6358</th>\n",
              "      <td>REGIÃO CENTRO-OESTE</td>\n",
              "      <td>DISTRITO FEDERAL</td>\n",
              "      <td>HIDRATADO</td>\n",
              "      <td>0.000</td>\n",
              "      <td>2021-08-01</td>\n",
              "    </tr>\n",
              "    <tr>\n",
              "      <th>6359</th>\n",
              "      <td>REGIÃO CENTRO-OESTE</td>\n",
              "      <td>DISTRITO FEDERAL</td>\n",
              "      <td>HIDRATADO</td>\n",
              "      <td>0.000</td>\n",
              "      <td>2021-09-01</td>\n",
              "    </tr>\n",
              "    <tr>\n",
              "      <th>6360</th>\n",
              "      <td>REGIÃO CENTRO-OESTE</td>\n",
              "      <td>DISTRITO FEDERAL</td>\n",
              "      <td>HIDRATADO</td>\n",
              "      <td>0.000</td>\n",
              "      <td>2021-10-01</td>\n",
              "    </tr>\n",
              "    <tr>\n",
              "      <th>6361</th>\n",
              "      <td>REGIÃO CENTRO-OESTE</td>\n",
              "      <td>DISTRITO FEDERAL</td>\n",
              "      <td>HIDRATADO</td>\n",
              "      <td>0.000</td>\n",
              "      <td>2021-11-01</td>\n",
              "    </tr>\n",
              "    <tr>\n",
              "      <th>6362</th>\n",
              "      <td>REGIÃO CENTRO-OESTE</td>\n",
              "      <td>DISTRITO FEDERAL</td>\n",
              "      <td>HIDRATADO</td>\n",
              "      <td>0.000</td>\n",
              "      <td>2021-12-01</td>\n",
              "    </tr>\n",
              "  </tbody>\n",
              "</table>\n",
              "<p>18051 rows × 5 columns</p>\n",
              "</div>\n",
              "      <button class=\"colab-df-convert\" onclick=\"convertToInteractive('df-6f15b5e5-1bb1-45ee-b0ae-75de0cd18f46')\"\n",
              "              title=\"Convert this dataframe to an interactive table.\"\n",
              "              style=\"display:none;\">\n",
              "        \n",
              "  <svg xmlns=\"http://www.w3.org/2000/svg\" height=\"24px\"viewBox=\"0 0 24 24\"\n",
              "       width=\"24px\">\n",
              "    <path d=\"M0 0h24v24H0V0z\" fill=\"none\"/>\n",
              "    <path d=\"M18.56 5.44l.94 2.06.94-2.06 2.06-.94-2.06-.94-.94-2.06-.94 2.06-2.06.94zm-11 1L8.5 8.5l.94-2.06 2.06-.94-2.06-.94L8.5 2.5l-.94 2.06-2.06.94zm10 10l.94 2.06.94-2.06 2.06-.94-2.06-.94-.94-2.06-.94 2.06-2.06.94z\"/><path d=\"M17.41 7.96l-1.37-1.37c-.4-.4-.92-.59-1.43-.59-.52 0-1.04.2-1.43.59L10.3 9.45l-7.72 7.72c-.78.78-.78 2.05 0 2.83L4 21.41c.39.39.9.59 1.41.59.51 0 1.02-.2 1.41-.59l7.78-7.78 2.81-2.81c.8-.78.8-2.07 0-2.86zM5.41 20L4 18.59l7.72-7.72 1.47 1.35L5.41 20z\"/>\n",
              "  </svg>\n",
              "      </button>\n",
              "      \n",
              "  <style>\n",
              "    .colab-df-container {\n",
              "      display:flex;\n",
              "      flex-wrap:wrap;\n",
              "      gap: 12px;\n",
              "    }\n",
              "\n",
              "    .colab-df-convert {\n",
              "      background-color: #E8F0FE;\n",
              "      border: none;\n",
              "      border-radius: 50%;\n",
              "      cursor: pointer;\n",
              "      display: none;\n",
              "      fill: #1967D2;\n",
              "      height: 32px;\n",
              "      padding: 0 0 0 0;\n",
              "      width: 32px;\n",
              "    }\n",
              "\n",
              "    .colab-df-convert:hover {\n",
              "      background-color: #E2EBFA;\n",
              "      box-shadow: 0px 1px 2px rgba(60, 64, 67, 0.3), 0px 1px 3px 1px rgba(60, 64, 67, 0.15);\n",
              "      fill: #174EA6;\n",
              "    }\n",
              "\n",
              "    [theme=dark] .colab-df-convert {\n",
              "      background-color: #3B4455;\n",
              "      fill: #D2E3FC;\n",
              "    }\n",
              "\n",
              "    [theme=dark] .colab-df-convert:hover {\n",
              "      background-color: #434B5C;\n",
              "      box-shadow: 0px 1px 3px 1px rgba(0, 0, 0, 0.15);\n",
              "      filter: drop-shadow(0px 1px 2px rgba(0, 0, 0, 0.3));\n",
              "      fill: #FFFFFF;\n",
              "    }\n",
              "  </style>\n",
              "\n",
              "      <script>\n",
              "        const buttonEl =\n",
              "          document.querySelector('#df-6f15b5e5-1bb1-45ee-b0ae-75de0cd18f46 button.colab-df-convert');\n",
              "        buttonEl.style.display =\n",
              "          google.colab.kernel.accessAllowed ? 'block' : 'none';\n",
              "\n",
              "        async function convertToInteractive(key) {\n",
              "          const element = document.querySelector('#df-6f15b5e5-1bb1-45ee-b0ae-75de0cd18f46');\n",
              "          const dataTable =\n",
              "            await google.colab.kernel.invokeFunction('convertToInteractive',\n",
              "                                                     [key], {});\n",
              "          if (!dataTable) return;\n",
              "\n",
              "          const docLinkHtml = 'Like what you see? Visit the ' +\n",
              "            '<a target=\"_blank\" href=https://colab.research.google.com/notebooks/data_table.ipynb>data table notebook</a>'\n",
              "            + ' to learn more about interactive tables.';\n",
              "          element.innerHTML = '';\n",
              "          dataTable['output_type'] = 'display_data';\n",
              "          await google.colab.output.renderOutput(dataTable, element);\n",
              "          const docLink = document.createElement('div');\n",
              "          docLink.innerHTML = docLinkHtml;\n",
              "          element.appendChild(docLink);\n",
              "        }\n",
              "      </script>\n",
              "    </div>\n",
              "  </div>\n",
              "  "
            ]
          },
          "metadata": {},
          "execution_count": 70
        }
      ]
    },
    {
      "cell_type": "markdown",
      "source": [
        "### 2.1.4. Plots em pandas"
      ],
      "metadata": {
        "id": "UTgUH_rIc8Pu"
      }
    },
    {
      "cell_type": "markdown",
      "source": [
        "> **Produção de álcool anidro durante o período 2012-2021**"
      ],
      "metadata": {
        "id": "ogapFAERdH8s"
      }
    },
    {
      "cell_type": "code",
      "source": [
        "ft1 = dfbio.loc[dfbio['produto'] == 'ANIDRO']\n",
        "ft1.groupby(dfbio['data'].dt.year).sum().plot.line(title ='Produção Álcool Anidro 2012-2021', xlabel = 'Ano')"
      ],
      "metadata": {
        "colab": {
          "base_uri": "https://localhost:8080/",
          "height": 314
        },
        "id": "b0DOiVVlUmTP",
        "outputId": "0996c6d7-79da-41d3-b52e-7c7763cc785b"
      },
      "execution_count": 71,
      "outputs": [
        {
          "output_type": "execute_result",
          "data": {
            "text/plain": [
              "<matplotlib.axes._subplots.AxesSubplot at 0x7f5a4dcfd0a0>"
            ]
          },
          "metadata": {},
          "execution_count": 71
        },
        {
          "output_type": "display_data",
          "data": {
            "text/plain": [
              "<Figure size 432x288 with 1 Axes>"
            ],
            "image/png": "[encoded data removed]"
          },
          "metadata": {
            "needs_background": "light"
          }
        }
      ]
    },
    {
      "cell_type": "markdown",
      "source": [
        "> ** **"
      ],
      "metadata": {
        "id": "7T5cr2ifinS3"
      }
    },
    {
      "cell_type": "code",
      "source": [
        "ft = dfbio.loc[(dfbio['data'] > '2020-01-01') & (dfbio['data'] < '2020-12-31') ]\n",
        "ft.groupby(dfbio['data'].dt.month).sum().plot.bar(title ='Avaliação Produção de Biocombustíveis - 2020', xlabel='Mês',rot=0)"
      ],
      "metadata": {
        "colab": {
          "base_uri": "https://localhost:8080/",
          "height": 312
        },
        "id": "JG37IZLfgBhF",
        "outputId": "91f066fd-982d-47fb-8fcc-e3dcba2bbffe"
      },
      "execution_count": 72,
      "outputs": [
        {
          "output_type": "execute_result",
          "data": {
            "text/plain": [
              "<matplotlib.axes._subplots.AxesSubplot at 0x7f5a4dc401c0>"
            ]
          },
          "metadata": {},
          "execution_count": 72
        },
        {
          "output_type": "display_data",
          "data": {
            "text/plain": [
              "<Figure size 432x288 with 1 Axes>"
            ],
            "image/png": "[encoded data removed]"
          },
          "metadata": {
            "needs_background": "light"
          }
        }
      ]
    },
    {
      "cell_type": "markdown",
      "source": [
        "## 2.2. Dataset de Produção de Petróleo e Gás Natural"
      ],
      "metadata": {
        "id": "2qW5vwrwXhcc"
      }
    },
    {
      "cell_type": "markdown",
      "source": [
        "### 2.2.1. Leitura dos datasets"
      ],
      "metadata": {
        "id": "-_fd-FJVmkIt"
      }
    },
    {
      "cell_type": "code",
      "source": [
        "dfpet = pd.read_csv('https://storage.googleapis.com/projeto-final-equipe4/arquivos_brutos/dfpetroleo_bruto.csv')\n",
        "dfgas = pd.read_csv('https://storage.googleapis.com/projeto-final-equipe4/arquivos_brutos/dfgas_bruto.csv')"
      ],
      "metadata": {
        "id": "LwQ1muqHXyIX"
      },
      "execution_count": 109,
      "outputs": []
    },
    {
      "cell_type": "markdown",
      "source": [
        "### 2.2.2. Pré-analise dos Dataframes"
      ],
      "metadata": {
        "id": "dxhZ4m28m64M"
      }
    },
    {
      "cell_type": "code",
      "source": [
        "dfgas.head(2)"
      ],
      "metadata": {
        "colab": {
          "base_uri": "https://localhost:8080/",
          "height": 0
        },
        "id": "JR6ps_fRbGNE",
        "outputId": "e773b200-af95-4526-92b1-db32ff1c83a2"
      },
      "execution_count": 110,
      "outputs": [
        {
          "output_type": "execute_result",
          "data": {
            "text/plain": [
              "    ANO  MÊS   GRANDE REGIÃO UNIDADE DA FEDERAÇÃO      PRODUTO LOCALIZAÇÃO  \\\n",
              "0  1997  JAN  REGIÃO SUDESTE       RIO DE JANEIRO  GÁS NATURAL         MAR   \n",
              "1  1997  FEV  REGIÃO SUDESTE       RIO DE JANEIRO  GÁS NATURAL         MAR   \n",
              "\n",
              "  PRODUÇÃO  \n",
              "0   325655  \n",
              "1   330876  "
            ],
            "text/html": [
              "\n",
              "  <div id=\"df-1ec8e33d-5db5-4c31-b4ce-b5e819dcfaef\">\n",
              "    <div class=\"colab-df-container\">\n",
              "      <div>\n",
              "<style scoped>\n",
              "    .dataframe tbody tr th:only-of-type {\n",
              "        vertical-align: middle;\n",
              "    }\n",
              "\n",
              "    .dataframe tbody tr th {\n",
              "        vertical-align: top;\n",
              "    }\n",
              "\n",
              "    .dataframe thead th {\n",
              "        text-align: right;\n",
              "    }\n",
              "</style>\n",
              "<table border=\"1\" class=\"dataframe\">\n",
              "  <thead>\n",
              "    <tr style=\"text-align: right;\">\n",
              "      <th></th>\n",
              "      <th>ANO</th>\n",
              "      <th>MÊS</th>\n",
              "      <th>GRANDE REGIÃO</th>\n",
              "      <th>UNIDADE DA FEDERAÇÃO</th>\n",
              "      <th>PRODUTO</th>\n",
              "      <th>LOCALIZAÇÃO</th>\n",
              "      <th>PRODUÇÃO</th>\n",
              "    </tr>\n",
              "  </thead>\n",
              "  <tbody>\n",
              "    <tr>\n",
              "      <th>0</th>\n",
              "      <td>1997</td>\n",
              "      <td>JAN</td>\n",
              "      <td>REGIÃO SUDESTE</td>\n",
              "      <td>RIO DE JANEIRO</td>\n",
              "      <td>GÁS NATURAL</td>\n",
              "      <td>MAR</td>\n",
              "      <td>325655</td>\n",
              "    </tr>\n",
              "    <tr>\n",
              "      <th>1</th>\n",
              "      <td>1997</td>\n",
              "      <td>FEV</td>\n",
              "      <td>REGIÃO SUDESTE</td>\n",
              "      <td>RIO DE JANEIRO</td>\n",
              "      <td>GÁS NATURAL</td>\n",
              "      <td>MAR</td>\n",
              "      <td>330876</td>\n",
              "    </tr>\n",
              "  </tbody>\n",
              "</table>\n",
              "</div>\n",
              "      <button class=\"colab-df-convert\" onclick=\"convertToInteractive('df-1ec8e33d-5db5-4c31-b4ce-b5e819dcfaef')\"\n",
              "              title=\"Convert this dataframe to an interactive table.\"\n",
              "              style=\"display:none;\">\n",
              "        \n",
              "  <svg xmlns=\"http://www.w3.org/2000/svg\" height=\"24px\"viewBox=\"0 0 24 24\"\n",
              "       width=\"24px\">\n",
              "    <path d=\"M0 0h24v24H0V0z\" fill=\"none\"/>\n",
              "    <path d=\"M18.56 5.44l.94 2.06.94-2.06 2.06-.94-2.06-.94-.94-2.06-.94 2.06-2.06.94zm-11 1L8.5 8.5l.94-2.06 2.06-.94-2.06-.94L8.5 2.5l-.94 2.06-2.06.94zm10 10l.94 2.06.94-2.06 2.06-.94-2.06-.94-.94-2.06-.94 2.06-2.06.94z\"/><path d=\"M17.41 7.96l-1.37-1.37c-.4-.4-.92-.59-1.43-.59-.52 0-1.04.2-1.43.59L10.3 9.45l-7.72 7.72c-.78.78-.78 2.05 0 2.83L4 21.41c.39.39.9.59 1.41.59.51 0 1.02-.2 1.41-.59l7.78-7.78 2.81-2.81c.8-.78.8-2.07 0-2.86zM5.41 20L4 18.59l7.72-7.72 1.47 1.35L5.41 20z\"/>\n",
              "  </svg>\n",
              "      </button>\n",
              "      \n",
              "  <style>\n",
              "    .colab-df-container {\n",
              "      display:flex;\n",
              "      flex-wrap:wrap;\n",
              "      gap: 12px;\n",
              "    }\n",
              "\n",
              "    .colab-df-convert {\n",
              "      background-color: #E8F0FE;\n",
              "      border: none;\n",
              "      border-radius: 50%;\n",
              "      cursor: pointer;\n",
              "      display: none;\n",
              "      fill: #1967D2;\n",
              "      height: 32px;\n",
              "      padding: 0 0 0 0;\n",
              "      width: 32px;\n",
              "    }\n",
              "\n",
              "    .colab-df-convert:hover {\n",
              "      background-color: #E2EBFA;\n",
              "      box-shadow: 0px 1px 2px rgba(60, 64, 67, 0.3), 0px 1px 3px 1px rgba(60, 64, 67, 0.15);\n",
              "      fill: #174EA6;\n",
              "    }\n",
              "\n",
              "    [theme=dark] .colab-df-convert {\n",
              "      background-color: #3B4455;\n",
              "      fill: #D2E3FC;\n",
              "    }\n",
              "\n",
              "    [theme=dark] .colab-df-convert:hover {\n",
              "      background-color: #434B5C;\n",
              "      box-shadow: 0px 1px 3px 1px rgba(0, 0, 0, 0.15);\n",
              "      filter: drop-shadow(0px 1px 2px rgba(0, 0, 0, 0.3));\n",
              "      fill: #FFFFFF;\n",
              "    }\n",
              "  </style>\n",
              "\n",
              "      <script>\n",
              "        const buttonEl =\n",
              "          document.querySelector('#df-1ec8e33d-5db5-4c31-b4ce-b5e819dcfaef button.colab-df-convert');\n",
              "        buttonEl.style.display =\n",
              "          google.colab.kernel.accessAllowed ? 'block' : 'none';\n",
              "\n",
              "        async function convertToInteractive(key) {\n",
              "          const element = document.querySelector('#df-1ec8e33d-5db5-4c31-b4ce-b5e819dcfaef');\n",
              "          const dataTable =\n",
              "            await google.colab.kernel.invokeFunction('convertToInteractive',\n",
              "                                                     [key], {});\n",
              "          if (!dataTable) return;\n",
              "\n",
              "          const docLinkHtml = 'Like what you see? Visit the ' +\n",
              "            '<a target=\"_blank\" href=https://colab.research.google.com/notebooks/data_table.ipynb>data table notebook</a>'\n",
              "            + ' to learn more about interactive tables.';\n",
              "          element.innerHTML = '';\n",
              "          dataTable['output_type'] = 'display_data';\n",
              "          await google.colab.output.renderOutput(dataTable, element);\n",
              "          const docLink = document.createElement('div');\n",
              "          docLink.innerHTML = docLinkHtml;\n",
              "          element.appendChild(docLink);\n",
              "        }\n",
              "      </script>\n",
              "    </div>\n",
              "  </div>\n",
              "  "
            ]
          },
          "metadata": {},
          "execution_count": 110
        }
      ]
    },
    {
      "cell_type": "code",
      "source": [
        "dfpet.head(2)"
      ],
      "metadata": {
        "colab": {
          "base_uri": "https://localhost:8080/",
          "height": 0
        },
        "id": "Ekdg7LwvbWht",
        "outputId": "e4070cc3-59e2-446c-cd45-7b7b363dda3d"
      },
      "execution_count": 111,
      "outputs": [
        {
          "output_type": "execute_result",
          "data": {
            "text/plain": [
              "    ANO  MÊS   GRANDE REGIÃO UNIDADE DA FEDERAÇÃO   PRODUTO LOCALIZAÇÃO  \\\n",
              "0  1997  JAN  REGIÃO SUDESTE       RIO DE JANEIRO  PETRÓLEO         MAR   \n",
              "1  1997  FEV  REGIÃO SUDESTE       RIO DE JANEIRO  PETRÓLEO         MAR   \n",
              "\n",
              "  PRODUÇÃO  \n",
              "0  2767443  \n",
              "1  2891003  "
            ],
            "text/html": [
              "\n",
              "  <div id=\"df-36b2d013-e7bd-4b8f-a7b2-13a0728c2cb7\">\n",
              "    <div class=\"colab-df-container\">\n",
              "      <div>\n",
              "<style scoped>\n",
              "    .dataframe tbody tr th:only-of-type {\n",
              "        vertical-align: middle;\n",
              "    }\n",
              "\n",
              "    .dataframe tbody tr th {\n",
              "        vertical-align: top;\n",
              "    }\n",
              "\n",
              "    .dataframe thead th {\n",
              "        text-align: right;\n",
              "    }\n",
              "</style>\n",
              "<table border=\"1\" class=\"dataframe\">\n",
              "  <thead>\n",
              "    <tr style=\"text-align: right;\">\n",
              "      <th></th>\n",
              "      <th>ANO</th>\n",
              "      <th>MÊS</th>\n",
              "      <th>GRANDE REGIÃO</th>\n",
              "      <th>UNIDADE DA FEDERAÇÃO</th>\n",
              "      <th>PRODUTO</th>\n",
              "      <th>LOCALIZAÇÃO</th>\n",
              "      <th>PRODUÇÃO</th>\n",
              "    </tr>\n",
              "  </thead>\n",
              "  <tbody>\n",
              "    <tr>\n",
              "      <th>0</th>\n",
              "      <td>1997</td>\n",
              "      <td>JAN</td>\n",
              "      <td>REGIÃO SUDESTE</td>\n",
              "      <td>RIO DE JANEIRO</td>\n",
              "      <td>PETRÓLEO</td>\n",
              "      <td>MAR</td>\n",
              "      <td>2767443</td>\n",
              "    </tr>\n",
              "    <tr>\n",
              "      <th>1</th>\n",
              "      <td>1997</td>\n",
              "      <td>FEV</td>\n",
              "      <td>REGIÃO SUDESTE</td>\n",
              "      <td>RIO DE JANEIRO</td>\n",
              "      <td>PETRÓLEO</td>\n",
              "      <td>MAR</td>\n",
              "      <td>2891003</td>\n",
              "    </tr>\n",
              "  </tbody>\n",
              "</table>\n",
              "</div>\n",
              "      <button class=\"colab-df-convert\" onclick=\"convertToInteractive('df-36b2d013-e7bd-4b8f-a7b2-13a0728c2cb7')\"\n",
              "              title=\"Convert this dataframe to an interactive table.\"\n",
              "              style=\"display:none;\">\n",
              "        \n",
              "  <svg xmlns=\"http://www.w3.org/2000/svg\" height=\"24px\"viewBox=\"0 0 24 24\"\n",
              "       width=\"24px\">\n",
              "    <path d=\"M0 0h24v24H0V0z\" fill=\"none\"/>\n",
              "    <path d=\"M18.56 5.44l.94 2.06.94-2.06 2.06-.94-2.06-.94-.94-2.06-.94 2.06-2.06.94zm-11 1L8.5 8.5l.94-2.06 2.06-.94-2.06-.94L8.5 2.5l-.94 2.06-2.06.94zm10 10l.94 2.06.94-2.06 2.06-.94-2.06-.94-.94-2.06-.94 2.06-2.06.94z\"/><path d=\"M17.41 7.96l-1.37-1.37c-.4-.4-.92-.59-1.43-.59-.52 0-1.04.2-1.43.59L10.3 9.45l-7.72 7.72c-.78.78-.78 2.05 0 2.83L4 21.41c.39.39.9.59 1.41.59.51 0 1.02-.2 1.41-.59l7.78-7.78 2.81-2.81c.8-.78.8-2.07 0-2.86zM5.41 20L4 18.59l7.72-7.72 1.47 1.35L5.41 20z\"/>\n",
              "  </svg>\n",
              "      </button>\n",
              "      \n",
              "  <style>\n",
              "    .colab-df-container {\n",
              "      display:flex;\n",
              "      flex-wrap:wrap;\n",
              "      gap: 12px;\n",
              "    }\n",
              "\n",
              "    .colab-df-convert {\n",
              "      background-color: #E8F0FE;\n",
              "      border: none;\n",
              "      border-radius: 50%;\n",
              "      cursor: pointer;\n",
              "      display: none;\n",
              "      fill: #1967D2;\n",
              "      height: 32px;\n",
              "      padding: 0 0 0 0;\n",
              "      width: 32px;\n",
              "    }\n",
              "\n",
              "    .colab-df-convert:hover {\n",
              "      background-color: #E2EBFA;\n",
              "      box-shadow: 0px 1px 2px rgba(60, 64, 67, 0.3), 0px 1px 3px 1px rgba(60, 64, 67, 0.15);\n",
              "      fill: #174EA6;\n",
              "    }\n",
              "\n",
              "    [theme=dark] .colab-df-convert {\n",
              "      background-color: #3B4455;\n",
              "      fill: #D2E3FC;\n",
              "    }\n",
              "\n",
              "    [theme=dark] .colab-df-convert:hover {\n",
              "      background-color: #434B5C;\n",
              "      box-shadow: 0px 1px 3px 1px rgba(0, 0, 0, 0.15);\n",
              "      filter: drop-shadow(0px 1px 2px rgba(0, 0, 0, 0.3));\n",
              "      fill: #FFFFFF;\n",
              "    }\n",
              "  </style>\n",
              "\n",
              "      <script>\n",
              "        const buttonEl =\n",
              "          document.querySelector('#df-36b2d013-e7bd-4b8f-a7b2-13a0728c2cb7 button.colab-df-convert');\n",
              "        buttonEl.style.display =\n",
              "          google.colab.kernel.accessAllowed ? 'block' : 'none';\n",
              "\n",
              "        async function convertToInteractive(key) {\n",
              "          const element = document.querySelector('#df-36b2d013-e7bd-4b8f-a7b2-13a0728c2cb7');\n",
              "          const dataTable =\n",
              "            await google.colab.kernel.invokeFunction('convertToInteractive',\n",
              "                                                     [key], {});\n",
              "          if (!dataTable) return;\n",
              "\n",
              "          const docLinkHtml = 'Like what you see? Visit the ' +\n",
              "            '<a target=\"_blank\" href=https://colab.research.google.com/notebooks/data_table.ipynb>data table notebook</a>'\n",
              "            + ' to learn more about interactive tables.';\n",
              "          element.innerHTML = '';\n",
              "          dataTable['output_type'] = 'display_data';\n",
              "          await google.colab.output.renderOutput(dataTable, element);\n",
              "          const docLink = document.createElement('div');\n",
              "          docLink.innerHTML = docLinkHtml;\n",
              "          element.appendChild(docLink);\n",
              "        }\n",
              "      </script>\n",
              "    </div>\n",
              "  </div>\n",
              "  "
            ]
          },
          "metadata": {},
          "execution_count": 111
        }
      ]
    },
    {
      "cell_type": "code",
      "source": [
        "dfpet.dtypes"
      ],
      "metadata": {
        "colab": {
          "base_uri": "https://localhost:8080/"
        },
        "id": "3shtoCuabaE3",
        "outputId": "1f88faf4-c75d-4f1b-82c2-882ba341529e"
      },
      "execution_count": 112,
      "outputs": [
        {
          "output_type": "execute_result",
          "data": {
            "text/plain": [
              "ANO                      int64\n",
              "MÊS                     object\n",
              "GRANDE REGIÃO           object\n",
              "UNIDADE DA FEDERAÇÃO    object\n",
              "PRODUTO                 object\n",
              "LOCALIZAÇÃO             object\n",
              "PRODUÇÃO                object\n",
              "dtype: object"
            ]
          },
          "metadata": {},
          "execution_count": 112
        }
      ]
    },
    {
      "cell_type": "code",
      "source": [
        "dfgas.dtypes"
      ],
      "metadata": {
        "colab": {
          "base_uri": "https://localhost:8080/"
        },
        "id": "7rsBnwrhbmWv",
        "outputId": "c8ceafce-5791-4236-f114-a27095b34fc9"
      },
      "execution_count": 113,
      "outputs": [
        {
          "output_type": "execute_result",
          "data": {
            "text/plain": [
              "ANO                      int64\n",
              "MÊS                     object\n",
              "GRANDE REGIÃO           object\n",
              "UNIDADE DA FEDERAÇÃO    object\n",
              "PRODUTO                 object\n",
              "LOCALIZAÇÃO             object\n",
              "PRODUÇÃO                object\n",
              "dtype: object"
            ]
          },
          "metadata": {},
          "execution_count": 113
        }
      ]
    },
    {
      "cell_type": "markdown",
      "source": [
        "### 2.2.3. Tratamentos"
      ],
      "metadata": {
        "id": "pXStKKgonMHf"
      }
    },
    {
      "cell_type": "markdown",
      "source": [
        "> **Concatenação dos DFs**"
      ],
      "metadata": {
        "id": "LBVOO0KfnWiH"
      }
    },
    {
      "cell_type": "code",
      "source": [
        "dfgaspet = pd.concat([dfpet, dfgas])"
      ],
      "metadata": {
        "id": "FQeuxOu5boqb"
      },
      "execution_count": 114,
      "outputs": []
    },
    {
      "cell_type": "markdown",
      "source": [
        "> **Renomeação das colunas**"
      ],
      "metadata": {
        "id": "6rMGwiYKnbju"
      }
    },
    {
      "cell_type": "code",
      "source": [
        "dfgaspet.rename(columns={'ANO':'ano','MÊS':'mes','GRANDE REGIÃO':'regiao','UNIDADE DA FEDERAÇÃO':'uf',\n",
        "                         'PRODUTO':'produto','LOCALIZAÇÃO':'localizacao','PRODUÇÃO':'producao'},inplace=True)"
      ],
      "metadata": {
        "id": "gOCBOU1DdK6h"
      },
      "execution_count": 115,
      "outputs": []
    },
    {
      "cell_type": "code",
      "source": [
        "dfgaspet"
      ],
      "metadata": {
        "colab": {
          "base_uri": "https://localhost:8080/",
          "height": 0
        },
        "id": "z_PHEk41dR99",
        "outputId": "5188cce9-8e84-49b0-be89-cdd3777b8849"
      },
      "execution_count": 116,
      "outputs": [
        {
          "output_type": "execute_result",
          "data": {
            "text/plain": [
              "       ano  mes          regiao              uf      produto localizacao  \\\n",
              "0     1997  JAN  REGIÃO SUDESTE  RIO DE JANEIRO     PETRÓLEO         MAR   \n",
              "1     1997  FEV  REGIÃO SUDESTE  RIO DE JANEIRO     PETRÓLEO         MAR   \n",
              "2     1997  MAR  REGIÃO SUDESTE  RIO DE JANEIRO     PETRÓLEO         MAR   \n",
              "3     1997  ABR  REGIÃO SUDESTE  RIO DE JANEIRO     PETRÓLEO         MAR   \n",
              "4     1997  MAI  REGIÃO SUDESTE  RIO DE JANEIRO     PETRÓLEO         MAR   \n",
              "...    ...  ...             ...             ...          ...         ...   \n",
              "6758  2022  JUL  REGIÃO SUDESTE  ESPÍRITO SANTO  GÁS NATURAL       TERRA   \n",
              "6759  2022  AGO  REGIÃO SUDESTE  ESPÍRITO SANTO  GÁS NATURAL       TERRA   \n",
              "6760  2022  SET  REGIÃO SUDESTE  ESPÍRITO SANTO  GÁS NATURAL       TERRA   \n",
              "6761  2022  OUT  REGIÃO SUDESTE  ESPÍRITO SANTO  GÁS NATURAL       TERRA   \n",
              "6762  2022  NOV  REGIÃO SUDESTE  ESPÍRITO SANTO  GÁS NATURAL       TERRA   \n",
              "\n",
              "        producao  \n",
              "0        2767443  \n",
              "1        2891003  \n",
              "2        2998305  \n",
              "3        2863184  \n",
              "4        2873644  \n",
              "...          ...  \n",
              "6758        2129  \n",
              "6759        2143  \n",
              "6760        2275  \n",
              "6761  2296,21325  \n",
              "6762  2124,99039  \n",
              "\n",
              "[13627 rows x 7 columns]"
            ],
            "text/html": [
              "\n",
              "  <div id=\"df-3c2dc85a-c616-44d8-a6cc-c1f666620b64\">\n",
              "    <div class=\"colab-df-container\">\n",
              "      <div>\n",
              "<style scoped>\n",
              "    .dataframe tbody tr th:only-of-type {\n",
              "        vertical-align: middle;\n",
              "    }\n",
              "\n",
              "    .dataframe tbody tr th {\n",
              "        vertical-align: top;\n",
              "    }\n",
              "\n",
              "    .dataframe thead th {\n",
              "        text-align: right;\n",
              "    }\n",
              "</style>\n",
              "<table border=\"1\" class=\"dataframe\">\n",
              "  <thead>\n",
              "    <tr style=\"text-align: right;\">\n",
              "      <th></th>\n",
              "      <th>ano</th>\n",
              "      <th>mes</th>\n",
              "      <th>regiao</th>\n",
              "      <th>uf</th>\n",
              "      <th>produto</th>\n",
              "      <th>localizacao</th>\n",
              "      <th>producao</th>\n",
              "    </tr>\n",
              "  </thead>\n",
              "  <tbody>\n",
              "    <tr>\n",
              "      <th>0</th>\n",
              "      <td>1997</td>\n",
              "      <td>JAN</td>\n",
              "      <td>REGIÃO SUDESTE</td>\n",
              "      <td>RIO DE JANEIRO</td>\n",
              "      <td>PETRÓLEO</td>\n",
              "      <td>MAR</td>\n",
              "      <td>2767443</td>\n",
              "    </tr>\n",
              "    <tr>\n",
              "      <th>1</th>\n",
              "      <td>1997</td>\n",
              "      <td>FEV</td>\n",
              "      <td>REGIÃO SUDESTE</td>\n",
              "      <td>RIO DE JANEIRO</td>\n",
              "      <td>PETRÓLEO</td>\n",
              "      <td>MAR</td>\n",
              "      <td>2891003</td>\n",
              "    </tr>\n",
              "    <tr>\n",
              "      <th>2</th>\n",
              "      <td>1997</td>\n",
              "      <td>MAR</td>\n",
              "      <td>REGIÃO SUDESTE</td>\n",
              "      <td>RIO DE JANEIRO</td>\n",
              "      <td>PETRÓLEO</td>\n",
              "      <td>MAR</td>\n",
              "      <td>2998305</td>\n",
              "    </tr>\n",
              "    <tr>\n",
              "      <th>3</th>\n",
              "      <td>1997</td>\n",
              "      <td>ABR</td>\n",
              "      <td>REGIÃO SUDESTE</td>\n",
              "      <td>RIO DE JANEIRO</td>\n",
              "      <td>PETRÓLEO</td>\n",
              "      <td>MAR</td>\n",
              "      <td>2863184</td>\n",
              "    </tr>\n",
              "    <tr>\n",
              "      <th>4</th>\n",
              "      <td>1997</td>\n",
              "      <td>MAI</td>\n",
              "      <td>REGIÃO SUDESTE</td>\n",
              "      <td>RIO DE JANEIRO</td>\n",
              "      <td>PETRÓLEO</td>\n",
              "      <td>MAR</td>\n",
              "      <td>2873644</td>\n",
              "    </tr>\n",
              "    <tr>\n",
              "      <th>...</th>\n",
              "      <td>...</td>\n",
              "      <td>...</td>\n",
              "      <td>...</td>\n",
              "      <td>...</td>\n",
              "      <td>...</td>\n",
              "      <td>...</td>\n",
              "      <td>...</td>\n",
              "    </tr>\n",
              "    <tr>\n",
              "      <th>6758</th>\n",
              "      <td>2022</td>\n",
              "      <td>JUL</td>\n",
              "      <td>REGIÃO SUDESTE</td>\n",
              "      <td>ESPÍRITO SANTO</td>\n",
              "      <td>GÁS NATURAL</td>\n",
              "      <td>TERRA</td>\n",
              "      <td>2129</td>\n",
              "    </tr>\n",
              "    <tr>\n",
              "      <th>6759</th>\n",
              "      <td>2022</td>\n",
              "      <td>AGO</td>\n",
              "      <td>REGIÃO SUDESTE</td>\n",
              "      <td>ESPÍRITO SANTO</td>\n",
              "      <td>GÁS NATURAL</td>\n",
              "      <td>TERRA</td>\n",
              "      <td>2143</td>\n",
              "    </tr>\n",
              "    <tr>\n",
              "      <th>6760</th>\n",
              "      <td>2022</td>\n",
              "      <td>SET</td>\n",
              "      <td>REGIÃO SUDESTE</td>\n",
              "      <td>ESPÍRITO SANTO</td>\n",
              "      <td>GÁS NATURAL</td>\n",
              "      <td>TERRA</td>\n",
              "      <td>2275</td>\n",
              "    </tr>\n",
              "    <tr>\n",
              "      <th>6761</th>\n",
              "      <td>2022</td>\n",
              "      <td>OUT</td>\n",
              "      <td>REGIÃO SUDESTE</td>\n",
              "      <td>ESPÍRITO SANTO</td>\n",
              "      <td>GÁS NATURAL</td>\n",
              "      <td>TERRA</td>\n",
              "      <td>2296,21325</td>\n",
              "    </tr>\n",
              "    <tr>\n",
              "      <th>6762</th>\n",
              "      <td>2022</td>\n",
              "      <td>NOV</td>\n",
              "      <td>REGIÃO SUDESTE</td>\n",
              "      <td>ESPÍRITO SANTO</td>\n",
              "      <td>GÁS NATURAL</td>\n",
              "      <td>TERRA</td>\n",
              "      <td>2124,99039</td>\n",
              "    </tr>\n",
              "  </tbody>\n",
              "</table>\n",
              "<p>13627 rows × 7 columns</p>\n",
              "</div>\n",
              "      <button class=\"colab-df-convert\" onclick=\"convertToInteractive('df-3c2dc85a-c616-44d8-a6cc-c1f666620b64')\"\n",
              "              title=\"Convert this dataframe to an interactive table.\"\n",
              "              style=\"display:none;\">\n",
              "        \n",
              "  <svg xmlns=\"http://www.w3.org/2000/svg\" height=\"24px\"viewBox=\"0 0 24 24\"\n",
              "       width=\"24px\">\n",
              "    <path d=\"M0 0h24v24H0V0z\" fill=\"none\"/>\n",
              "    <path d=\"M18.56 5.44l.94 2.06.94-2.06 2.06-.94-2.06-.94-.94-2.06-.94 2.06-2.06.94zm-11 1L8.5 8.5l.94-2.06 2.06-.94-2.06-.94L8.5 2.5l-.94 2.06-2.06.94zm10 10l.94 2.06.94-2.06 2.06-.94-2.06-.94-.94-2.06-.94 2.06-2.06.94z\"/><path d=\"M17.41 7.96l-1.37-1.37c-.4-.4-.92-.59-1.43-.59-.52 0-1.04.2-1.43.59L10.3 9.45l-7.72 7.72c-.78.78-.78 2.05 0 2.83L4 21.41c.39.39.9.59 1.41.59.51 0 1.02-.2 1.41-.59l7.78-7.78 2.81-2.81c.8-.78.8-2.07 0-2.86zM5.41 20L4 18.59l7.72-7.72 1.47 1.35L5.41 20z\"/>\n",
              "  </svg>\n",
              "      </button>\n",
              "      \n",
              "  <style>\n",
              "    .colab-df-container {\n",
              "      display:flex;\n",
              "      flex-wrap:wrap;\n",
              "      gap: 12px;\n",
              "    }\n",
              "\n",
              "    .colab-df-convert {\n",
              "      background-color: #E8F0FE;\n",
              "      border: none;\n",
              "      border-radius: 50%;\n",
              "      cursor: pointer;\n",
              "      display: none;\n",
              "      fill: #1967D2;\n",
              "      height: 32px;\n",
              "      padding: 0 0 0 0;\n",
              "      width: 32px;\n",
              "    }\n",
              "\n",
              "    .colab-df-convert:hover {\n",
              "      background-color: #E2EBFA;\n",
              "      box-shadow: 0px 1px 2px rgba(60, 64, 67, 0.3), 0px 1px 3px 1px rgba(60, 64, 67, 0.15);\n",
              "      fill: #174EA6;\n",
              "    }\n",
              "\n",
              "    [theme=dark] .colab-df-convert {\n",
              "      background-color: #3B4455;\n",
              "      fill: #D2E3FC;\n",
              "    }\n",
              "\n",
              "    [theme=dark] .colab-df-convert:hover {\n",
              "      background-color: #434B5C;\n",
              "      box-shadow: 0px 1px 3px 1px rgba(0, 0, 0, 0.15);\n",
              "      filter: drop-shadow(0px 1px 2px rgba(0, 0, 0, 0.3));\n",
              "      fill: #FFFFFF;\n",
              "    }\n",
              "  </style>\n",
              "\n",
              "      <script>\n",
              "        const buttonEl =\n",
              "          document.querySelector('#df-3c2dc85a-c616-44d8-a6cc-c1f666620b64 button.colab-df-convert');\n",
              "        buttonEl.style.display =\n",
              "          google.colab.kernel.accessAllowed ? 'block' : 'none';\n",
              "\n",
              "        async function convertToInteractive(key) {\n",
              "          const element = document.querySelector('#df-3c2dc85a-c616-44d8-a6cc-c1f666620b64');\n",
              "          const dataTable =\n",
              "            await google.colab.kernel.invokeFunction('convertToInteractive',\n",
              "                                                     [key], {});\n",
              "          if (!dataTable) return;\n",
              "\n",
              "          const docLinkHtml = 'Like what you see? Visit the ' +\n",
              "            '<a target=\"_blank\" href=https://colab.research.google.com/notebooks/data_table.ipynb>data table notebook</a>'\n",
              "            + ' to learn more about interactive tables.';\n",
              "          element.innerHTML = '';\n",
              "          dataTable['output_type'] = 'display_data';\n",
              "          await google.colab.output.renderOutput(dataTable, element);\n",
              "          const docLink = document.createElement('div');\n",
              "          docLink.innerHTML = docLinkHtml;\n",
              "          element.appendChild(docLink);\n",
              "        }\n",
              "      </script>\n",
              "    </div>\n",
              "  </div>\n",
              "  "
            ]
          },
          "metadata": {},
          "execution_count": 116
        }
      ]
    },
    {
      "cell_type": "markdown",
      "source": [
        "> **Verificação de valores nulos**"
      ],
      "metadata": {
        "id": "E5qqH3OhpQXh"
      }
    },
    {
      "cell_type": "code",
      "source": [
        "dfgaspet.isna().sum()"
      ],
      "metadata": {
        "colab": {
          "base_uri": "https://localhost:8080/"
        },
        "id": "B0RBah1CdVH9",
        "outputId": "92acc4de-fd62-4f8b-b3c7-5ad8a8b99480"
      },
      "execution_count": 117,
      "outputs": [
        {
          "output_type": "execute_result",
          "data": {
            "text/plain": [
              "ano            0\n",
              "mes            0\n",
              "regiao         0\n",
              "uf             0\n",
              "produto        0\n",
              "localizacao    0\n",
              "producao       0\n",
              "dtype: int64"
            ]
          },
          "metadata": {},
          "execution_count": 117
        }
      ]
    },
    {
      "cell_type": "markdown",
      "source": [
        "> **Verificação dados de todas as colunas**"
      ],
      "metadata": {
        "id": "t0mPiSNSqLA7"
      }
    },
    {
      "cell_type": "code",
      "source": [
        "pd.unique(dfgaspet['producao'])"
      ],
      "metadata": {
        "colab": {
          "base_uri": "https://localhost:8080/"
        },
        "id": "RdnYhkiAdaTQ",
        "outputId": "d8586e3a-8b00-4b9a-dce1-e5164680c129"
      },
      "execution_count": 118,
      "outputs": [
        {
          "output_type": "execute_result",
          "data": {
            "text/plain": [
              "array(['2767443', '2891003', '2998305', ..., '2143', '2296,21325',\n",
              "       '2124,99039'], dtype=object)"
            ]
          },
          "metadata": {},
          "execution_count": 118
        }
      ]
    },
    {
      "cell_type": "markdown",
      "source": [
        "> **Restrição do dataframe para o intervalo desejado**"
      ],
      "metadata": {
        "id": "dw5hHPKfqU4y"
      }
    },
    {
      "cell_type": "code",
      "source": [
        "fano = (dfgaspet.ano > 2011) & (dfgaspet.ano < 2022)\n",
        "dfgaspet = dfgaspet.loc[fano]"
      ],
      "metadata": {
        "id": "FDmFaVIMe2q4"
      },
      "execution_count": 119,
      "outputs": []
    },
    {
      "cell_type": "markdown",
      "source": [
        "> **Troca do tipo da coluna producao**"
      ],
      "metadata": {
        "id": "QtATZHw7sgf6"
      }
    },
    {
      "cell_type": "code",
      "source": [
        "dfgaspet.producao.replace(',','.',regex=True,inplace=True)"
      ],
      "metadata": {
        "colab": {
          "base_uri": "https://localhost:8080/"
        },
        "id": "G1Au13fIe5PY",
        "outputId": "252cf81f-3007-407c-ce03-876c69a96317"
      },
      "execution_count": 120,
      "outputs": [
        {
          "output_type": "stream",
          "name": "stderr",
          "text": [
            "/usr/local/lib/python3.8/dist-packages/pandas/core/generic.py:6619: SettingWithCopyWarning: \n",
            "A value is trying to be set on a copy of a slice from a DataFrame\n",
            "\n",
            "See the caveats in the documentation: https://pandas.pydata.org/pandas-docs/stable/user_guide/indexing.html#returning-a-view-versus-a-copy\n",
            "  return self._update_inplace(result)\n"
          ]
        }
      ]
    },
    {
      "cell_type": "code",
      "source": [
        "dfgaspet['producao'] = dfgaspet['producao'].astype(float)"
      ],
      "metadata": {
        "colab": {
          "base_uri": "https://localhost:8080/"
        },
        "id": "ubJQSysLfDb2",
        "outputId": "330b1894-59a1-4156-e8e2-59f9b246b64b"
      },
      "execution_count": 121,
      "outputs": [
        {
          "output_type": "stream",
          "name": "stderr",
          "text": [
            "<ipython-input-121-e772b7a9a457>:1: SettingWithCopyWarning: \n",
            "A value is trying to be set on a copy of a slice from a DataFrame.\n",
            "Try using .loc[row_indexer,col_indexer] = value instead\n",
            "\n",
            "See the caveats in the documentation: https://pandas.pydata.org/pandas-docs/stable/user_guide/indexing.html#returning-a-view-versus-a-copy\n",
            "  dfgaspet['producao'] = dfgaspet['producao'].astype(float)\n"
          ]
        }
      ]
    },
    {
      "cell_type": "code",
      "source": [
        "dfgaspet.dtypes"
      ],
      "metadata": {
        "colab": {
          "base_uri": "https://localhost:8080/"
        },
        "id": "dC9Ek39OfGpw",
        "outputId": "adc8f1b9-6326-4f32-8ef7-aab86a61fdd7"
      },
      "execution_count": 122,
      "outputs": [
        {
          "output_type": "execute_result",
          "data": {
            "text/plain": [
              "ano              int64\n",
              "mes             object\n",
              "regiao          object\n",
              "uf              object\n",
              "produto         object\n",
              "localizacao     object\n",
              "producao       float64\n",
              "dtype: object"
            ]
          },
          "metadata": {},
          "execution_count": 122
        }
      ]
    },
    {
      "cell_type": "markdown",
      "source": [
        "> **Ajuste da coluna de data unindo as colunas de mês e ano**"
      ],
      "metadata": {
        "id": "Ml9W0nc-yQcx"
      }
    },
    {
      "cell_type": "code",
      "source": [
        "dfgaspet.mes.replace(({'JAN':'01','FEV':'02','MAR':'03','ABR':'04','MAI':'05','JUN':'06',\n",
        "                       'JUL':'07','AGO':'08','SET':'09','OUT':'10','NOV':'11','DEZ':'12'}),inplace=True)"
      ],
      "metadata": {
        "id": "WHhwJOpIfWwt"
      },
      "execution_count": 123,
      "outputs": []
    },
    {
      "cell_type": "code",
      "source": [
        "dfgaspet['ano'] = dfgaspet['ano'].astype(str)\n",
        "dfgaspet['data'] = dfgaspet['ano'] + '-' + dfgaspet['mes']\n",
        "dfgaspet['data'] = pd.to_datetime(dfgaspet['data'], format = '%Y-%m')"
      ],
      "metadata": {
        "colab": {
          "base_uri": "https://localhost:8080/"
        },
        "id": "eqeX2OiXfqkw",
        "outputId": "48326786-7125-4082-a134-4b8d018df957"
      },
      "execution_count": 124,
      "outputs": [
        {
          "output_type": "stream",
          "name": "stderr",
          "text": [
            "<ipython-input-124-f0f6b8019af4>:1: SettingWithCopyWarning: \n",
            "A value is trying to be set on a copy of a slice from a DataFrame.\n",
            "Try using .loc[row_indexer,col_indexer] = value instead\n",
            "\n",
            "See the caveats in the documentation: https://pandas.pydata.org/pandas-docs/stable/user_guide/indexing.html#returning-a-view-versus-a-copy\n",
            "  dfgaspet['ano'] = dfgaspet['ano'].astype(str)\n",
            "<ipython-input-124-f0f6b8019af4>:2: SettingWithCopyWarning: \n",
            "A value is trying to be set on a copy of a slice from a DataFrame.\n",
            "Try using .loc[row_indexer,col_indexer] = value instead\n",
            "\n",
            "See the caveats in the documentation: https://pandas.pydata.org/pandas-docs/stable/user_guide/indexing.html#returning-a-view-versus-a-copy\n",
            "  dfgaspet['data'] = dfgaspet['ano'] + '-' + dfgaspet['mes']\n",
            "<ipython-input-124-f0f6b8019af4>:3: SettingWithCopyWarning: \n",
            "A value is trying to be set on a copy of a slice from a DataFrame.\n",
            "Try using .loc[row_indexer,col_indexer] = value instead\n",
            "\n",
            "See the caveats in the documentation: https://pandas.pydata.org/pandas-docs/stable/user_guide/indexing.html#returning-a-view-versus-a-copy\n",
            "  dfgaspet['data'] = pd.to_datetime(dfgaspet['data'], format = '%Y-%m')\n"
          ]
        }
      ]
    },
    {
      "cell_type": "code",
      "source": [
        "dfgaspet.drop(['ano','mes'],axis=1,inplace=True)"
      ],
      "metadata": {
        "colab": {
          "base_uri": "https://localhost:8080/"
        },
        "id": "ZpJAs_AHhkZY",
        "outputId": "3b6fc97b-9197-4c18-971b-c36d4c20153c"
      },
      "execution_count": 125,
      "outputs": [
        {
          "output_type": "stream",
          "name": "stderr",
          "text": [
            "/usr/local/lib/python3.8/dist-packages/pandas/core/frame.py:4906: SettingWithCopyWarning: \n",
            "A value is trying to be set on a copy of a slice from a DataFrame\n",
            "\n",
            "See the caveats in the documentation: https://pandas.pydata.org/pandas-docs/stable/user_guide/indexing.html#returning-a-view-versus-a-copy\n",
            "  return super().drop(\n"
          ]
        }
      ]
    },
    {
      "cell_type": "code",
      "source": [
        "dfgaspet"
      ],
      "metadata": {
        "colab": {
          "base_uri": "https://localhost:8080/",
          "height": 0
        },
        "id": "YowQ7n4ZfyDB",
        "outputId": "46bd0255-6323-4ab0-bebb-99f877b6e7d0"
      },
      "execution_count": 126,
      "outputs": [
        {
          "output_type": "execute_result",
          "data": {
            "text/plain": [
              "               regiao                   uf      produto localizacao  \\\n",
              "3960  REGIÃO NORDESTE  RIO GRANDE DO NORTE     PETRÓLEO         MAR   \n",
              "3961  REGIÃO NORDESTE  RIO GRANDE DO NORTE     PETRÓLEO         MAR   \n",
              "3962  REGIÃO NORDESTE  RIO GRANDE DO NORTE     PETRÓLEO         MAR   \n",
              "3963  REGIÃO NORDESTE  RIO GRANDE DO NORTE     PETRÓLEO         MAR   \n",
              "3964  REGIÃO NORDESTE  RIO GRANDE DO NORTE     PETRÓLEO         MAR   \n",
              "...               ...                  ...          ...         ...   \n",
              "6516   REGIÃO SUDESTE       ESPÍRITO SANTO  GÁS NATURAL       TERRA   \n",
              "6517   REGIÃO SUDESTE       ESPÍRITO SANTO  GÁS NATURAL       TERRA   \n",
              "6518   REGIÃO SUDESTE       ESPÍRITO SANTO  GÁS NATURAL       TERRA   \n",
              "6519   REGIÃO SUDESTE       ESPÍRITO SANTO  GÁS NATURAL       TERRA   \n",
              "6520   REGIÃO SUDESTE       ESPÍRITO SANTO  GÁS NATURAL       TERRA   \n",
              "\n",
              "         producao       data  \n",
              "3960  37112.66700 2012-01-01  \n",
              "3961  35205.35900 2012-02-01  \n",
              "3962  36234.85900 2012-03-01  \n",
              "3963  36118.59800 2012-04-01  \n",
              "3964  36591.28700 2012-05-01  \n",
              "...           ...        ...  \n",
              "6516   1894.26625 2021-08-01  \n",
              "6517   1795.55080 2021-09-01  \n",
              "6518   1764.21733 2021-10-01  \n",
              "6519   1676.85354 2021-11-01  \n",
              "6520   1763.34191 2021-12-01  \n",
              "\n",
              "[5275 rows x 6 columns]"
            ],
            "text/html": [
              "\n",
              "  <div id=\"df-eddf1892-b716-48e1-ae04-3dfc791a2f44\">\n",
              "    <div class=\"colab-df-container\">\n",
              "      <div>\n",
              "<style scoped>\n",
              "    .dataframe tbody tr th:only-of-type {\n",
              "        vertical-align: middle;\n",
              "    }\n",
              "\n",
              "    .dataframe tbody tr th {\n",
              "        vertical-align: top;\n",
              "    }\n",
              "\n",
              "    .dataframe thead th {\n",
              "        text-align: right;\n",
              "    }\n",
              "</style>\n",
              "<table border=\"1\" class=\"dataframe\">\n",
              "  <thead>\n",
              "    <tr style=\"text-align: right;\">\n",
              "      <th></th>\n",
              "      <th>regiao</th>\n",
              "      <th>uf</th>\n",
              "      <th>produto</th>\n",
              "      <th>localizacao</th>\n",
              "      <th>producao</th>\n",
              "      <th>data</th>\n",
              "    </tr>\n",
              "  </thead>\n",
              "  <tbody>\n",
              "    <tr>\n",
              "      <th>3960</th>\n",
              "      <td>REGIÃO NORDESTE</td>\n",
              "      <td>RIO GRANDE DO NORTE</td>\n",
              "      <td>PETRÓLEO</td>\n",
              "      <td>MAR</td>\n",
              "      <td>37112.66700</td>\n",
              "      <td>2012-01-01</td>\n",
              "    </tr>\n",
              "    <tr>\n",
              "      <th>3961</th>\n",
              "      <td>REGIÃO NORDESTE</td>\n",
              "      <td>RIO GRANDE DO NORTE</td>\n",
              "      <td>PETRÓLEO</td>\n",
              "      <td>MAR</td>\n",
              "      <td>35205.35900</td>\n",
              "      <td>2012-02-01</td>\n",
              "    </tr>\n",
              "    <tr>\n",
              "      <th>3962</th>\n",
              "      <td>REGIÃO NORDESTE</td>\n",
              "      <td>RIO GRANDE DO NORTE</td>\n",
              "      <td>PETRÓLEO</td>\n",
              "      <td>MAR</td>\n",
              "      <td>36234.85900</td>\n",
              "      <td>2012-03-01</td>\n",
              "    </tr>\n",
              "    <tr>\n",
              "      <th>3963</th>\n",
              "      <td>REGIÃO NORDESTE</td>\n",
              "      <td>RIO GRANDE DO NORTE</td>\n",
              "      <td>PETRÓLEO</td>\n",
              "      <td>MAR</td>\n",
              "      <td>36118.59800</td>\n",
              "      <td>2012-04-01</td>\n",
              "    </tr>\n",
              "    <tr>\n",
              "      <th>3964</th>\n",
              "      <td>REGIÃO NORDESTE</td>\n",
              "      <td>RIO GRANDE DO NORTE</td>\n",
              "      <td>PETRÓLEO</td>\n",
              "      <td>MAR</td>\n",
              "      <td>36591.28700</td>\n",
              "      <td>2012-05-01</td>\n",
              "    </tr>\n",
              "    <tr>\n",
              "      <th>...</th>\n",
              "      <td>...</td>\n",
              "      <td>...</td>\n",
              "      <td>...</td>\n",
              "      <td>...</td>\n",
              "      <td>...</td>\n",
              "      <td>...</td>\n",
              "    </tr>\n",
              "    <tr>\n",
              "      <th>6516</th>\n",
              "      <td>REGIÃO SUDESTE</td>\n",
              "      <td>ESPÍRITO SANTO</td>\n",
              "      <td>GÁS NATURAL</td>\n",
              "      <td>TERRA</td>\n",
              "      <td>1894.26625</td>\n",
              "      <td>2021-08-01</td>\n",
              "    </tr>\n",
              "    <tr>\n",
              "      <th>6517</th>\n",
              "      <td>REGIÃO SUDESTE</td>\n",
              "      <td>ESPÍRITO SANTO</td>\n",
              "      <td>GÁS NATURAL</td>\n",
              "      <td>TERRA</td>\n",
              "      <td>1795.55080</td>\n",
              "      <td>2021-09-01</td>\n",
              "    </tr>\n",
              "    <tr>\n",
              "      <th>6518</th>\n",
              "      <td>REGIÃO SUDESTE</td>\n",
              "      <td>ESPÍRITO SANTO</td>\n",
              "      <td>GÁS NATURAL</td>\n",
              "      <td>TERRA</td>\n",
              "      <td>1764.21733</td>\n",
              "      <td>2021-10-01</td>\n",
              "    </tr>\n",
              "    <tr>\n",
              "      <th>6519</th>\n",
              "      <td>REGIÃO SUDESTE</td>\n",
              "      <td>ESPÍRITO SANTO</td>\n",
              "      <td>GÁS NATURAL</td>\n",
              "      <td>TERRA</td>\n",
              "      <td>1676.85354</td>\n",
              "      <td>2021-11-01</td>\n",
              "    </tr>\n",
              "    <tr>\n",
              "      <th>6520</th>\n",
              "      <td>REGIÃO SUDESTE</td>\n",
              "      <td>ESPÍRITO SANTO</td>\n",
              "      <td>GÁS NATURAL</td>\n",
              "      <td>TERRA</td>\n",
              "      <td>1763.34191</td>\n",
              "      <td>2021-12-01</td>\n",
              "    </tr>\n",
              "  </tbody>\n",
              "</table>\n",
              "<p>5275 rows × 6 columns</p>\n",
              "</div>\n",
              "      <button class=\"colab-df-convert\" onclick=\"convertToInteractive('df-eddf1892-b716-48e1-ae04-3dfc791a2f44')\"\n",
              "              title=\"Convert this dataframe to an interactive table.\"\n",
              "              style=\"display:none;\">\n",
              "        \n",
              "  <svg xmlns=\"http://www.w3.org/2000/svg\" height=\"24px\"viewBox=\"0 0 24 24\"\n",
              "       width=\"24px\">\n",
              "    <path d=\"M0 0h24v24H0V0z\" fill=\"none\"/>\n",
              "    <path d=\"M18.56 5.44l.94 2.06.94-2.06 2.06-.94-2.06-.94-.94-2.06-.94 2.06-2.06.94zm-11 1L8.5 8.5l.94-2.06 2.06-.94-2.06-.94L8.5 2.5l-.94 2.06-2.06.94zm10 10l.94 2.06.94-2.06 2.06-.94-2.06-.94-.94-2.06-.94 2.06-2.06.94z\"/><path d=\"M17.41 7.96l-1.37-1.37c-.4-.4-.92-.59-1.43-.59-.52 0-1.04.2-1.43.59L10.3 9.45l-7.72 7.72c-.78.78-.78 2.05 0 2.83L4 21.41c.39.39.9.59 1.41.59.51 0 1.02-.2 1.41-.59l7.78-7.78 2.81-2.81c.8-.78.8-2.07 0-2.86zM5.41 20L4 18.59l7.72-7.72 1.47 1.35L5.41 20z\"/>\n",
              "  </svg>\n",
              "      </button>\n",
              "      \n",
              "  <style>\n",
              "    .colab-df-container {\n",
              "      display:flex;\n",
              "      flex-wrap:wrap;\n",
              "      gap: 12px;\n",
              "    }\n",
              "\n",
              "    .colab-df-convert {\n",
              "      background-color: #E8F0FE;\n",
              "      border: none;\n",
              "      border-radius: 50%;\n",
              "      cursor: pointer;\n",
              "      display: none;\n",
              "      fill: #1967D2;\n",
              "      height: 32px;\n",
              "      padding: 0 0 0 0;\n",
              "      width: 32px;\n",
              "    }\n",
              "\n",
              "    .colab-df-convert:hover {\n",
              "      background-color: #E2EBFA;\n",
              "      box-shadow: 0px 1px 2px rgba(60, 64, 67, 0.3), 0px 1px 3px 1px rgba(60, 64, 67, 0.15);\n",
              "      fill: #174EA6;\n",
              "    }\n",
              "\n",
              "    [theme=dark] .colab-df-convert {\n",
              "      background-color: #3B4455;\n",
              "      fill: #D2E3FC;\n",
              "    }\n",
              "\n",
              "    [theme=dark] .colab-df-convert:hover {\n",
              "      background-color: #434B5C;\n",
              "      box-shadow: 0px 1px 3px 1px rgba(0, 0, 0, 0.15);\n",
              "      filter: drop-shadow(0px 1px 2px rgba(0, 0, 0, 0.3));\n",
              "      fill: #FFFFFF;\n",
              "    }\n",
              "  </style>\n",
              "\n",
              "      <script>\n",
              "        const buttonEl =\n",
              "          document.querySelector('#df-eddf1892-b716-48e1-ae04-3dfc791a2f44 button.colab-df-convert');\n",
              "        buttonEl.style.display =\n",
              "          google.colab.kernel.accessAllowed ? 'block' : 'none';\n",
              "\n",
              "        async function convertToInteractive(key) {\n",
              "          const element = document.querySelector('#df-eddf1892-b716-48e1-ae04-3dfc791a2f44');\n",
              "          const dataTable =\n",
              "            await google.colab.kernel.invokeFunction('convertToInteractive',\n",
              "                                                     [key], {});\n",
              "          if (!dataTable) return;\n",
              "\n",
              "          const docLinkHtml = 'Like what you see? Visit the ' +\n",
              "            '<a target=\"_blank\" href=https://colab.research.google.com/notebooks/data_table.ipynb>data table notebook</a>'\n",
              "            + ' to learn more about interactive tables.';\n",
              "          element.innerHTML = '';\n",
              "          dataTable['output_type'] = 'display_data';\n",
              "          await google.colab.output.renderOutput(dataTable, element);\n",
              "          const docLink = document.createElement('div');\n",
              "          docLink.innerHTML = docLinkHtml;\n",
              "          element.appendChild(docLink);\n",
              "        }\n",
              "      </script>\n",
              "    </div>\n",
              "  </div>\n",
              "  "
            ]
          },
          "metadata": {},
          "execution_count": 126
        }
      ]
    },
    {
      "cell_type": "markdown",
      "source": [
        "> **Group By para verificar produtos**"
      ],
      "metadata": {
        "id": "pVHhBPqj1jm6"
      }
    },
    {
      "cell_type": "code",
      "source": [
        "\n",
        "dfgaspet.groupby(['produto']).size().sort_values(ascending=False)"
      ],
      "metadata": {
        "colab": {
          "base_uri": "https://localhost:8080/"
        },
        "id": "6LitpzPShucj",
        "outputId": "09860a90-93a3-4430-c80b-3b475762e3c9"
      },
      "execution_count": 127,
      "outputs": [
        {
          "output_type": "execute_result",
          "data": {
            "text/plain": [
              "produto\n",
              "PETRÓLEO       2640\n",
              "GÁS NATURAL    2635\n",
              "dtype: int64"
            ]
          },
          "metadata": {},
          "execution_count": 127
        }
      ]
    },
    {
      "cell_type": "markdown",
      "source": [
        "## 2.3. Dataset de Produção derivados de Petróleo"
      ],
      "metadata": {
        "id": "dwKaVvOm1YxW"
      }
    },
    {
      "cell_type": "markdown",
      "source": [
        "### 2.3.1. Leitura dos Datasets"
      ],
      "metadata": {
        "id": "NFeBydF7CNZh"
      }
    },
    {
      "cell_type": "code",
      "source": [
        "dfder = pd.read_csv('https://storage.googleapis.com/projeto-final-equipe4/arquivos_brutos/dfprodder_bruto.csv')"
      ],
      "metadata": {
        "id": "e7HBJS731XAM"
      },
      "execution_count": 74,
      "outputs": []
    },
    {
      "cell_type": "markdown",
      "source": [
        "### 2.3.2. Pré-análise dos Dataframes"
      ],
      "metadata": {
        "id": "Q8xeq6DnCZvL"
      }
    },
    {
      "cell_type": "code",
      "source": [
        "dfder.head(2)"
      ],
      "metadata": {
        "colab": {
          "base_uri": "https://localhost:8080/",
          "height": 0
        },
        "id": "5DmelMm910Y_",
        "outputId": "0da81775-0b17-4464-aa26-ef3a3577f1bc"
      },
      "execution_count": 75,
      "outputs": [
        {
          "output_type": "execute_result",
          "data": {
            "text/plain": [
              "    ANO  MÊS UNIDADE DA FEDERAÇÃO REFINARIA              PRODUTO PRODUÇÃO\n",
              "0  1990  OUT            SÃO PAULO      RPBC  GASOLINA DE AVIAÇÃO     2076\n",
              "1  1990  SET            SÃO PAULO      RPBC  GASOLINA DE AVIAÇÃO     3404"
            ],
            "text/html": [
              "\n",
              "  <div id=\"df-158ccc67-dc69-4cb3-874f-b43705c74880\">\n",
              "    <div class=\"colab-df-container\">\n",
              "      <div>\n",
              "<style scoped>\n",
              "    .dataframe tbody tr th:only-of-type {\n",
              "        vertical-align: middle;\n",
              "    }\n",
              "\n",
              "    .dataframe tbody tr th {\n",
              "        vertical-align: top;\n",
              "    }\n",
              "\n",
              "    .dataframe thead th {\n",
              "        text-align: right;\n",
              "    }\n",
              "</style>\n",
              "<table border=\"1\" class=\"dataframe\">\n",
              "  <thead>\n",
              "    <tr style=\"text-align: right;\">\n",
              "      <th></th>\n",
              "      <th>ANO</th>\n",
              "      <th>MÊS</th>\n",
              "      <th>UNIDADE DA FEDERAÇÃO</th>\n",
              "      <th>REFINARIA</th>\n",
              "      <th>PRODUTO</th>\n",
              "      <th>PRODUÇÃO</th>\n",
              "    </tr>\n",
              "  </thead>\n",
              "  <tbody>\n",
              "    <tr>\n",
              "      <th>0</th>\n",
              "      <td>1990</td>\n",
              "      <td>OUT</td>\n",
              "      <td>SÃO PAULO</td>\n",
              "      <td>RPBC</td>\n",
              "      <td>GASOLINA DE AVIAÇÃO</td>\n",
              "      <td>2076</td>\n",
              "    </tr>\n",
              "    <tr>\n",
              "      <th>1</th>\n",
              "      <td>1990</td>\n",
              "      <td>SET</td>\n",
              "      <td>SÃO PAULO</td>\n",
              "      <td>RPBC</td>\n",
              "      <td>GASOLINA DE AVIAÇÃO</td>\n",
              "      <td>3404</td>\n",
              "    </tr>\n",
              "  </tbody>\n",
              "</table>\n",
              "</div>\n",
              "      <button class=\"colab-df-convert\" onclick=\"convertToInteractive('df-158ccc67-dc69-4cb3-874f-b43705c74880')\"\n",
              "              title=\"Convert this dataframe to an interactive table.\"\n",
              "              style=\"display:none;\">\n",
              "        \n",
              "  <svg xmlns=\"http://www.w3.org/2000/svg\" height=\"24px\"viewBox=\"0 0 24 24\"\n",
              "       width=\"24px\">\n",
              "    <path d=\"M0 0h24v24H0V0z\" fill=\"none\"/>\n",
              "    <path d=\"M18.56 5.44l.94 2.06.94-2.06 2.06-.94-2.06-.94-.94-2.06-.94 2.06-2.06.94zm-11 1L8.5 8.5l.94-2.06 2.06-.94-2.06-.94L8.5 2.5l-.94 2.06-2.06.94zm10 10l.94 2.06.94-2.06 2.06-.94-2.06-.94-.94-2.06-.94 2.06-2.06.94z\"/><path d=\"M17.41 7.96l-1.37-1.37c-.4-.4-.92-.59-1.43-.59-.52 0-1.04.2-1.43.59L10.3 9.45l-7.72 7.72c-.78.78-.78 2.05 0 2.83L4 21.41c.39.39.9.59 1.41.59.51 0 1.02-.2 1.41-.59l7.78-7.78 2.81-2.81c.8-.78.8-2.07 0-2.86zM5.41 20L4 18.59l7.72-7.72 1.47 1.35L5.41 20z\"/>\n",
              "  </svg>\n",
              "      </button>\n",
              "      \n",
              "  <style>\n",
              "    .colab-df-container {\n",
              "      display:flex;\n",
              "      flex-wrap:wrap;\n",
              "      gap: 12px;\n",
              "    }\n",
              "\n",
              "    .colab-df-convert {\n",
              "      background-color: #E8F0FE;\n",
              "      border: none;\n",
              "      border-radius: 50%;\n",
              "      cursor: pointer;\n",
              "      display: none;\n",
              "      fill: #1967D2;\n",
              "      height: 32px;\n",
              "      padding: 0 0 0 0;\n",
              "      width: 32px;\n",
              "    }\n",
              "\n",
              "    .colab-df-convert:hover {\n",
              "      background-color: #E2EBFA;\n",
              "      box-shadow: 0px 1px 2px rgba(60, 64, 67, 0.3), 0px 1px 3px 1px rgba(60, 64, 67, 0.15);\n",
              "      fill: #174EA6;\n",
              "    }\n",
              "\n",
              "    [theme=dark] .colab-df-convert {\n",
              "      background-color: #3B4455;\n",
              "      fill: #D2E3FC;\n",
              "    }\n",
              "\n",
              "    [theme=dark] .colab-df-convert:hover {\n",
              "      background-color: #434B5C;\n",
              "      box-shadow: 0px 1px 3px 1px rgba(0, 0, 0, 0.15);\n",
              "      filter: drop-shadow(0px 1px 2px rgba(0, 0, 0, 0.3));\n",
              "      fill: #FFFFFF;\n",
              "    }\n",
              "  </style>\n",
              "\n",
              "      <script>\n",
              "        const buttonEl =\n",
              "          document.querySelector('#df-158ccc67-dc69-4cb3-874f-b43705c74880 button.colab-df-convert');\n",
              "        buttonEl.style.display =\n",
              "          google.colab.kernel.accessAllowed ? 'block' : 'none';\n",
              "\n",
              "        async function convertToInteractive(key) {\n",
              "          const element = document.querySelector('#df-158ccc67-dc69-4cb3-874f-b43705c74880');\n",
              "          const dataTable =\n",
              "            await google.colab.kernel.invokeFunction('convertToInteractive',\n",
              "                                                     [key], {});\n",
              "          if (!dataTable) return;\n",
              "\n",
              "          const docLinkHtml = 'Like what you see? Visit the ' +\n",
              "            '<a target=\"_blank\" href=https://colab.research.google.com/notebooks/data_table.ipynb>data table notebook</a>'\n",
              "            + ' to learn more about interactive tables.';\n",
              "          element.innerHTML = '';\n",
              "          dataTable['output_type'] = 'display_data';\n",
              "          await google.colab.output.renderOutput(dataTable, element);\n",
              "          const docLink = document.createElement('div');\n",
              "          docLink.innerHTML = docLinkHtml;\n",
              "          element.appendChild(docLink);\n",
              "        }\n",
              "      </script>\n",
              "    </div>\n",
              "  </div>\n",
              "  "
            ]
          },
          "metadata": {},
          "execution_count": 75
        }
      ]
    },
    {
      "cell_type": "code",
      "source": [
        "dfder.isna().sum()"
      ],
      "metadata": {
        "colab": {
          "base_uri": "https://localhost:8080/"
        },
        "id": "ymXmsp252kTF",
        "outputId": "49df1c8b-9c90-449f-b1de-c162caff0afb"
      },
      "execution_count": 76,
      "outputs": [
        {
          "output_type": "execute_result",
          "data": {
            "text/plain": [
              "ANO                     0\n",
              "MÊS                     0\n",
              "UNIDADE DA FEDERAÇÃO    0\n",
              "REFINARIA               0\n",
              "PRODUTO                 0\n",
              "PRODUÇÃO                0\n",
              "dtype: int64"
            ]
          },
          "metadata": {},
          "execution_count": 76
        }
      ]
    },
    {
      "cell_type": "markdown",
      "source": [
        "### 2.3.3. Tratamentos"
      ],
      "metadata": {
        "id": "IrNkJJlTDwgw"
      }
    },
    {
      "cell_type": "markdown",
      "source": [
        "> **Renomeação das colunas**"
      ],
      "metadata": {
        "id": "MAxmtooVE-eN"
      }
    },
    {
      "cell_type": "code",
      "source": [
        "dfder.rename(columns={'ANO':'ano','MÊS':'mes','UNIDADE DA FEDERAÇÃO':'uf','REFINARIA':'refinaria','PRODUTO':'produto','PRODUÇÃO':'producao'},inplace=True)"
      ],
      "metadata": {
        "id": "1JKvfHx72eUl"
      },
      "execution_count": 77,
      "outputs": []
    },
    {
      "cell_type": "markdown",
      "source": [
        "> **Procura de inconsistências com unique em cada coluna**\n"
      ],
      "metadata": {
        "id": "GZTjhPsfFE1r"
      }
    },
    {
      "cell_type": "code",
      "source": [
        "pd.unique(dfder['produto'])"
      ],
      "metadata": {
        "colab": {
          "base_uri": "https://localhost:8080/"
        },
        "id": "-3KRL_tm3cPK",
        "outputId": "f775b3b5-6dcf-497f-c28b-a378a96ea0d5"
      },
      "execution_count": 78,
      "outputs": [
        {
          "output_type": "execute_result",
          "data": {
            "text/plain": [
              "array(['GASOLINA DE AVIAÇÃO', 'ÓLEO COMBUSTÍVEL', 'NAFTA',\n",
              "       'OUTROS NÃO ENERGÉTICOS', 'ASFALTO', 'COQUE', 'OUTROS ENERGÉTICOS',\n",
              "       'QUEROSENE ILUMINANTE', 'LUBRIFICANTE', 'QUEROSENE DE AVIAÇÃO',\n",
              "       'ÓLEO DIESEL', 'SOLVENTE', 'PARAFINA', 'GLP', 'GASOLINA A'],\n",
              "      dtype=object)"
            ]
          },
          "metadata": {},
          "execution_count": 78
        }
      ]
    },
    {
      "cell_type": "markdown",
      "source": [
        "> **Filtragem de linhas com somente os produtos que interessam ao escopo**"
      ],
      "metadata": {
        "id": "W0OZEWNVJCS2"
      }
    },
    {
      "cell_type": "code",
      "source": [
        "dfder = dfder.loc[(dfder['produto'] == 'OUTROS ENERGÉTICOS') | (dfder['produto'] == 'COQUE') | (dfder['produto'] == 'GASOLINA A') |\n",
        "                  (dfder['produto'] == 'ÓLEO COMBUSTÍVEL') | (dfder['produto'] == 'GASOLINA DE AVIAÇÃO') | \n",
        "                  (dfder['produto'] == 'ÓLEO DIESEL') | (dfder['produto'] == 'GLP') | (dfder['produto'] == 'QUEROSENE DE AVIAÇÃO')]"
      ],
      "metadata": {
        "id": "hdY7pSWcGIGi"
      },
      "execution_count": 79,
      "outputs": []
    },
    {
      "cell_type": "markdown",
      "source": [
        "> **Restrição do dataframe para o intervalo desejado**"
      ],
      "metadata": {
        "id": "mz9XIT0IfMNw"
      }
    },
    {
      "cell_type": "code",
      "source": [
        "# Filtro ano 2012 a 2021\n",
        "fano = (dfder.ano > 2011) & (dfder.ano < 2022)\n",
        "dfder = dfder.loc[fano]"
      ],
      "metadata": {
        "id": "8QlwL0GvJUWu"
      },
      "execution_count": 80,
      "outputs": []
    },
    {
      "cell_type": "markdown",
      "source": [
        "> **Replace de vírgula por ponto para conseguir transformar a coluna para float**"
      ],
      "metadata": {
        "id": "4PUkaNc2JQe6"
      }
    },
    {
      "cell_type": "code",
      "source": [
        "dfder.replace([','],'.',regex=True,inplace=True)"
      ],
      "metadata": {
        "id": "YT6XUeVY6pGI"
      },
      "execution_count": 81,
      "outputs": []
    },
    {
      "cell_type": "code",
      "source": [
        "dfder['producao'] = dfder['producao'].astype(float)"
      ],
      "metadata": {
        "id": "g4FQvtfI6tcH"
      },
      "execution_count": 82,
      "outputs": []
    },
    {
      "cell_type": "code",
      "source": [
        "dfder.dtypes"
      ],
      "metadata": {
        "colab": {
          "base_uri": "https://localhost:8080/"
        },
        "id": "xiMopieG7Acg",
        "outputId": "a4c41d89-18fa-4d0a-f22e-ee1843146680"
      },
      "execution_count": 83,
      "outputs": [
        {
          "output_type": "execute_result",
          "data": {
            "text/plain": [
              "ano            int64\n",
              "mes           object\n",
              "uf            object\n",
              "refinaria     object\n",
              "produto       object\n",
              "producao     float64\n",
              "dtype: object"
            ]
          },
          "metadata": {},
          "execution_count": 83
        }
      ]
    },
    {
      "cell_type": "markdown",
      "source": [
        "> **Ajuste da coluna de data unindo as colunas de mês e ano**"
      ],
      "metadata": {
        "id": "guwi0MQ5J2kI"
      }
    },
    {
      "cell_type": "code",
      "source": [
        "# Mudança de letras para números do mês\n",
        "dfder.mes.replace(({'JAN':'01','FEV':'02','MAR':'03','ABR':'04','MAI':'05','JUN':'06',\n",
        "                 'JUL':'07','AGO':'08','SET':'09','OUT':'10','NOV':'11','DEZ':'12'}),regex=True,inplace=True)"
      ],
      "metadata": {
        "id": "Nf4zxysD9Jl3"
      },
      "execution_count": 84,
      "outputs": []
    },
    {
      "cell_type": "code",
      "source": [
        "# Transformação coluna ano para string\n",
        "dfder['ano'] = dfder['ano'].astype(str)"
      ],
      "metadata": {
        "id": "JUJPyM749Pvy"
      },
      "execution_count": 85,
      "outputs": []
    },
    {
      "cell_type": "code",
      "source": [
        "# Junção colunas 'ano' e 'mes'\n",
        "dfder['data'] = dfder['ano'] + '-' + dfder['mes']"
      ],
      "metadata": {
        "id": "Fvx-806w9ZpM"
      },
      "execution_count": 86,
      "outputs": []
    },
    {
      "cell_type": "code",
      "source": [
        "# Transformação da coluna 'data' para DateTime\n",
        "dfder['data'] = pd.to_datetime(dfder['data'], format = '%Y-%m')"
      ],
      "metadata": {
        "id": "OQSqOBzQ9ipu"
      },
      "execution_count": 87,
      "outputs": []
    },
    {
      "cell_type": "code",
      "source": [
        "dfder"
      ],
      "metadata": {
        "colab": {
          "base_uri": "https://localhost:8080/",
          "height": 0
        },
        "id": "KUpIOVkr9o6Y",
        "outputId": "cf408f90-5471-4da9-a44c-59bde1384c64"
      },
      "execution_count": 88,
      "outputs": [
        {
          "output_type": "execute_result",
          "data": {
            "text/plain": [
              "        ano mes         uf refinaria               produto  producao  \\\n",
              "68343  2012  01   AMAZONAS     REMAN    OUTROS ENERGÉTICOS    8702.0   \n",
              "68344  2012  10   AMAZONAS     REMAN    OUTROS ENERGÉTICOS       0.0   \n",
              "68345  2012  09   AMAZONAS     REMAN    OUTROS ENERGÉTICOS   16680.0   \n",
              "68346  2012  08   AMAZONAS     REMAN    OUTROS ENERGÉTICOS     106.0   \n",
              "68347  2012  01      CEARÁ    LUBNOR    OUTROS ENERGÉTICOS       0.0   \n",
              "...     ...  ..        ...       ...                   ...       ...   \n",
              "99810  2021  10  SÃO PAULO     SSOIL  QUEROSENE DE AVIAÇÃO       0.0   \n",
              "99811  2021  09  SÃO PAULO     SSOIL  QUEROSENE DE AVIAÇÃO       0.0   \n",
              "99812  2021  08  SÃO PAULO     SSOIL  QUEROSENE DE AVIAÇÃO       0.0   \n",
              "99814  2021  12  SÃO PAULO     SSOIL  QUEROSENE DE AVIAÇÃO       0.0   \n",
              "99815  2021  11  SÃO PAULO     SSOIL  QUEROSENE DE AVIAÇÃO       0.0   \n",
              "\n",
              "            data  \n",
              "68343 2012-01-01  \n",
              "68344 2012-10-01  \n",
              "68345 2012-09-01  \n",
              "68346 2012-08-01  \n",
              "68347 2012-01-01  \n",
              "...          ...  \n",
              "99810 2021-10-01  \n",
              "99811 2021-09-01  \n",
              "99812 2021-08-01  \n",
              "99814 2021-12-01  \n",
              "99815 2021-11-01  \n",
              "\n",
              "[17264 rows x 7 columns]"
            ],
            "text/html": [
              "\n",
              "  <div id=\"df-c1366608-924b-4582-9dff-4470e42f394e\">\n",
              "    <div class=\"colab-df-container\">\n",
              "      <div>\n",
              "<style scoped>\n",
              "    .dataframe tbody tr th:only-of-type {\n",
              "        vertical-align: middle;\n",
              "    }\n",
              "\n",
              "    .dataframe tbody tr th {\n",
              "        vertical-align: top;\n",
              "    }\n",
              "\n",
              "    .dataframe thead th {\n",
              "        text-align: right;\n",
              "    }\n",
              "</style>\n",
              "<table border=\"1\" class=\"dataframe\">\n",
              "  <thead>\n",
              "    <tr style=\"text-align: right;\">\n",
              "      <th></th>\n",
              "      <th>ano</th>\n",
              "      <th>mes</th>\n",
              "      <th>uf</th>\n",
              "      <th>refinaria</th>\n",
              "      <th>produto</th>\n",
              "      <th>producao</th>\n",
              "      <th>data</th>\n",
              "    </tr>\n",
              "  </thead>\n",
              "  <tbody>\n",
              "    <tr>\n",
              "      <th>68343</th>\n",
              "      <td>2012</td>\n",
              "      <td>01</td>\n",
              "      <td>AMAZONAS</td>\n",
              "      <td>REMAN</td>\n",
              "      <td>OUTROS ENERGÉTICOS</td>\n",
              "      <td>8702.0</td>\n",
              "      <td>2012-01-01</td>\n",
              "    </tr>\n",
              "    <tr>\n",
              "      <th>68344</th>\n",
              "      <td>2012</td>\n",
              "      <td>10</td>\n",
              "      <td>AMAZONAS</td>\n",
              "      <td>REMAN</td>\n",
              "      <td>OUTROS ENERGÉTICOS</td>\n",
              "      <td>0.0</td>\n",
              "      <td>2012-10-01</td>\n",
              "    </tr>\n",
              "    <tr>\n",
              "      <th>68345</th>\n",
              "      <td>2012</td>\n",
              "      <td>09</td>\n",
              "      <td>AMAZONAS</td>\n",
              "      <td>REMAN</td>\n",
              "      <td>OUTROS ENERGÉTICOS</td>\n",
              "      <td>16680.0</td>\n",
              "      <td>2012-09-01</td>\n",
              "    </tr>\n",
              "    <tr>\n",
              "      <th>68346</th>\n",
              "      <td>2012</td>\n",
              "      <td>08</td>\n",
              "      <td>AMAZONAS</td>\n",
              "      <td>REMAN</td>\n",
              "      <td>OUTROS ENERGÉTICOS</td>\n",
              "      <td>106.0</td>\n",
              "      <td>2012-08-01</td>\n",
              "    </tr>\n",
              "    <tr>\n",
              "      <th>68347</th>\n",
              "      <td>2012</td>\n",
              "      <td>01</td>\n",
              "      <td>CEARÁ</td>\n",
              "      <td>LUBNOR</td>\n",
              "      <td>OUTROS ENERGÉTICOS</td>\n",
              "      <td>0.0</td>\n",
              "      <td>2012-01-01</td>\n",
              "    </tr>\n",
              "    <tr>\n",
              "      <th>...</th>\n",
              "      <td>...</td>\n",
              "      <td>...</td>\n",
              "      <td>...</td>\n",
              "      <td>...</td>\n",
              "      <td>...</td>\n",
              "      <td>...</td>\n",
              "      <td>...</td>\n",
              "    </tr>\n",
              "    <tr>\n",
              "      <th>99810</th>\n",
              "      <td>2021</td>\n",
              "      <td>10</td>\n",
              "      <td>SÃO PAULO</td>\n",
              "      <td>SSOIL</td>\n",
              "      <td>QUEROSENE DE AVIAÇÃO</td>\n",
              "      <td>0.0</td>\n",
              "      <td>2021-10-01</td>\n",
              "    </tr>\n",
              "    <tr>\n",
              "      <th>99811</th>\n",
              "      <td>2021</td>\n",
              "      <td>09</td>\n",
              "      <td>SÃO PAULO</td>\n",
              "      <td>SSOIL</td>\n",
              "      <td>QUEROSENE DE AVIAÇÃO</td>\n",
              "      <td>0.0</td>\n",
              "      <td>2021-09-01</td>\n",
              "    </tr>\n",
              "    <tr>\n",
              "      <th>99812</th>\n",
              "      <td>2021</td>\n",
              "      <td>08</td>\n",
              "      <td>SÃO PAULO</td>\n",
              "      <td>SSOIL</td>\n",
              "      <td>QUEROSENE DE AVIAÇÃO</td>\n",
              "      <td>0.0</td>\n",
              "      <td>2021-08-01</td>\n",
              "    </tr>\n",
              "    <tr>\n",
              "      <th>99814</th>\n",
              "      <td>2021</td>\n",
              "      <td>12</td>\n",
              "      <td>SÃO PAULO</td>\n",
              "      <td>SSOIL</td>\n",
              "      <td>QUEROSENE DE AVIAÇÃO</td>\n",
              "      <td>0.0</td>\n",
              "      <td>2021-12-01</td>\n",
              "    </tr>\n",
              "    <tr>\n",
              "      <th>99815</th>\n",
              "      <td>2021</td>\n",
              "      <td>11</td>\n",
              "      <td>SÃO PAULO</td>\n",
              "      <td>SSOIL</td>\n",
              "      <td>QUEROSENE DE AVIAÇÃO</td>\n",
              "      <td>0.0</td>\n",
              "      <td>2021-11-01</td>\n",
              "    </tr>\n",
              "  </tbody>\n",
              "</table>\n",
              "<p>17264 rows × 7 columns</p>\n",
              "</div>\n",
              "      <button class=\"colab-df-convert\" onclick=\"convertToInteractive('df-c1366608-924b-4582-9dff-4470e42f394e')\"\n",
              "              title=\"Convert this dataframe to an interactive table.\"\n",
              "              style=\"display:none;\">\n",
              "        \n",
              "  <svg xmlns=\"http://www.w3.org/2000/svg\" height=\"24px\"viewBox=\"0 0 24 24\"\n",
              "       width=\"24px\">\n",
              "    <path d=\"M0 0h24v24H0V0z\" fill=\"none\"/>\n",
              "    <path d=\"M18.56 5.44l.94 2.06.94-2.06 2.06-.94-2.06-.94-.94-2.06-.94 2.06-2.06.94zm-11 1L8.5 8.5l.94-2.06 2.06-.94-2.06-.94L8.5 2.5l-.94 2.06-2.06.94zm10 10l.94 2.06.94-2.06 2.06-.94-2.06-.94-.94-2.06-.94 2.06-2.06.94z\"/><path d=\"M17.41 7.96l-1.37-1.37c-.4-.4-.92-.59-1.43-.59-.52 0-1.04.2-1.43.59L10.3 9.45l-7.72 7.72c-.78.78-.78 2.05 0 2.83L4 21.41c.39.39.9.59 1.41.59.51 0 1.02-.2 1.41-.59l7.78-7.78 2.81-2.81c.8-.78.8-2.07 0-2.86zM5.41 20L4 18.59l7.72-7.72 1.47 1.35L5.41 20z\"/>\n",
              "  </svg>\n",
              "      </button>\n",
              "      \n",
              "  <style>\n",
              "    .colab-df-container {\n",
              "      display:flex;\n",
              "      flex-wrap:wrap;\n",
              "      gap: 12px;\n",
              "    }\n",
              "\n",
              "    .colab-df-convert {\n",
              "      background-color: #E8F0FE;\n",
              "      border: none;\n",
              "      border-radius: 50%;\n",
              "      cursor: pointer;\n",
              "      display: none;\n",
              "      fill: #1967D2;\n",
              "      height: 32px;\n",
              "      padding: 0 0 0 0;\n",
              "      width: 32px;\n",
              "    }\n",
              "\n",
              "    .colab-df-convert:hover {\n",
              "      background-color: #E2EBFA;\n",
              "      box-shadow: 0px 1px 2px rgba(60, 64, 67, 0.3), 0px 1px 3px 1px rgba(60, 64, 67, 0.15);\n",
              "      fill: #174EA6;\n",
              "    }\n",
              "\n",
              "    [theme=dark] .colab-df-convert {\n",
              "      background-color: #3B4455;\n",
              "      fill: #D2E3FC;\n",
              "    }\n",
              "\n",
              "    [theme=dark] .colab-df-convert:hover {\n",
              "      background-color: #434B5C;\n",
              "      box-shadow: 0px 1px 3px 1px rgba(0, 0, 0, 0.15);\n",
              "      filter: drop-shadow(0px 1px 2px rgba(0, 0, 0, 0.3));\n",
              "      fill: #FFFFFF;\n",
              "    }\n",
              "  </style>\n",
              "\n",
              "      <script>\n",
              "        const buttonEl =\n",
              "          document.querySelector('#df-c1366608-924b-4582-9dff-4470e42f394e button.colab-df-convert');\n",
              "        buttonEl.style.display =\n",
              "          google.colab.kernel.accessAllowed ? 'block' : 'none';\n",
              "\n",
              "        async function convertToInteractive(key) {\n",
              "          const element = document.querySelector('#df-c1366608-924b-4582-9dff-4470e42f394e');\n",
              "          const dataTable =\n",
              "            await google.colab.kernel.invokeFunction('convertToInteractive',\n",
              "                                                     [key], {});\n",
              "          if (!dataTable) return;\n",
              "\n",
              "          const docLinkHtml = 'Like what you see? Visit the ' +\n",
              "            '<a target=\"_blank\" href=https://colab.research.google.com/notebooks/data_table.ipynb>data table notebook</a>'\n",
              "            + ' to learn more about interactive tables.';\n",
              "          element.innerHTML = '';\n",
              "          dataTable['output_type'] = 'display_data';\n",
              "          await google.colab.output.renderOutput(dataTable, element);\n",
              "          const docLink = document.createElement('div');\n",
              "          docLink.innerHTML = docLinkHtml;\n",
              "          element.appendChild(docLink);\n",
              "        }\n",
              "      </script>\n",
              "    </div>\n",
              "  </div>\n",
              "  "
            ]
          },
          "metadata": {},
          "execution_count": 88
        }
      ]
    },
    {
      "cell_type": "markdown",
      "source": [
        "> **Organizando e dropando colunas de mes e ano, pois já existe a de data**"
      ],
      "metadata": {
        "id": "s1RUI-LjKgo1"
      }
    },
    {
      "cell_type": "code",
      "source": [
        "dfder = dfder[['data','uf','refinaria','produto','producao']]"
      ],
      "metadata": {
        "id": "o1X8hd7x9vlQ"
      },
      "execution_count": 89,
      "outputs": []
    },
    {
      "cell_type": "code",
      "source": [
        "dfder"
      ],
      "metadata": {
        "colab": {
          "base_uri": "https://localhost:8080/",
          "height": 0
        },
        "id": "FEb1pmzU92fu",
        "outputId": "5a6bff77-58c3-4792-fef5-d9a5ca1d9abf"
      },
      "execution_count": 90,
      "outputs": [
        {
          "output_type": "execute_result",
          "data": {
            "text/plain": [
              "            data         uf refinaria               produto  producao\n",
              "68343 2012-01-01   AMAZONAS     REMAN    OUTROS ENERGÉTICOS    8702.0\n",
              "68344 2012-10-01   AMAZONAS     REMAN    OUTROS ENERGÉTICOS       0.0\n",
              "68345 2012-09-01   AMAZONAS     REMAN    OUTROS ENERGÉTICOS   16680.0\n",
              "68346 2012-08-01   AMAZONAS     REMAN    OUTROS ENERGÉTICOS     106.0\n",
              "68347 2012-01-01      CEARÁ    LUBNOR    OUTROS ENERGÉTICOS       0.0\n",
              "...          ...        ...       ...                   ...       ...\n",
              "99810 2021-10-01  SÃO PAULO     SSOIL  QUEROSENE DE AVIAÇÃO       0.0\n",
              "99811 2021-09-01  SÃO PAULO     SSOIL  QUEROSENE DE AVIAÇÃO       0.0\n",
              "99812 2021-08-01  SÃO PAULO     SSOIL  QUEROSENE DE AVIAÇÃO       0.0\n",
              "99814 2021-12-01  SÃO PAULO     SSOIL  QUEROSENE DE AVIAÇÃO       0.0\n",
              "99815 2021-11-01  SÃO PAULO     SSOIL  QUEROSENE DE AVIAÇÃO       0.0\n",
              "\n",
              "[17264 rows x 5 columns]"
            ],
            "text/html": [
              "\n",
              "  <div id=\"df-32a46391-b9d1-44f1-970e-47c04b93f3a7\">\n",
              "    <div class=\"colab-df-container\">\n",
              "      <div>\n",
              "<style scoped>\n",
              "    .dataframe tbody tr th:only-of-type {\n",
              "        vertical-align: middle;\n",
              "    }\n",
              "\n",
              "    .dataframe tbody tr th {\n",
              "        vertical-align: top;\n",
              "    }\n",
              "\n",
              "    .dataframe thead th {\n",
              "        text-align: right;\n",
              "    }\n",
              "</style>\n",
              "<table border=\"1\" class=\"dataframe\">\n",
              "  <thead>\n",
              "    <tr style=\"text-align: right;\">\n",
              "      <th></th>\n",
              "      <th>data</th>\n",
              "      <th>uf</th>\n",
              "      <th>refinaria</th>\n",
              "      <th>produto</th>\n",
              "      <th>producao</th>\n",
              "    </tr>\n",
              "  </thead>\n",
              "  <tbody>\n",
              "    <tr>\n",
              "      <th>68343</th>\n",
              "      <td>2012-01-01</td>\n",
              "      <td>AMAZONAS</td>\n",
              "      <td>REMAN</td>\n",
              "      <td>OUTROS ENERGÉTICOS</td>\n",
              "      <td>8702.0</td>\n",
              "    </tr>\n",
              "    <tr>\n",
              "      <th>68344</th>\n",
              "      <td>2012-10-01</td>\n",
              "      <td>AMAZONAS</td>\n",
              "      <td>REMAN</td>\n",
              "      <td>OUTROS ENERGÉTICOS</td>\n",
              "      <td>0.0</td>\n",
              "    </tr>\n",
              "    <tr>\n",
              "      <th>68345</th>\n",
              "      <td>2012-09-01</td>\n",
              "      <td>AMAZONAS</td>\n",
              "      <td>REMAN</td>\n",
              "      <td>OUTROS ENERGÉTICOS</td>\n",
              "      <td>16680.0</td>\n",
              "    </tr>\n",
              "    <tr>\n",
              "      <th>68346</th>\n",
              "      <td>2012-08-01</td>\n",
              "      <td>AMAZONAS</td>\n",
              "      <td>REMAN</td>\n",
              "      <td>OUTROS ENERGÉTICOS</td>\n",
              "      <td>106.0</td>\n",
              "    </tr>\n",
              "    <tr>\n",
              "      <th>68347</th>\n",
              "      <td>2012-01-01</td>\n",
              "      <td>CEARÁ</td>\n",
              "      <td>LUBNOR</td>\n",
              "      <td>OUTROS ENERGÉTICOS</td>\n",
              "      <td>0.0</td>\n",
              "    </tr>\n",
              "    <tr>\n",
              "      <th>...</th>\n",
              "      <td>...</td>\n",
              "      <td>...</td>\n",
              "      <td>...</td>\n",
              "      <td>...</td>\n",
              "      <td>...</td>\n",
              "    </tr>\n",
              "    <tr>\n",
              "      <th>99810</th>\n",
              "      <td>2021-10-01</td>\n",
              "      <td>SÃO PAULO</td>\n",
              "      <td>SSOIL</td>\n",
              "      <td>QUEROSENE DE AVIAÇÃO</td>\n",
              "      <td>0.0</td>\n",
              "    </tr>\n",
              "    <tr>\n",
              "      <th>99811</th>\n",
              "      <td>2021-09-01</td>\n",
              "      <td>SÃO PAULO</td>\n",
              "      <td>SSOIL</td>\n",
              "      <td>QUEROSENE DE AVIAÇÃO</td>\n",
              "      <td>0.0</td>\n",
              "    </tr>\n",
              "    <tr>\n",
              "      <th>99812</th>\n",
              "      <td>2021-08-01</td>\n",
              "      <td>SÃO PAULO</td>\n",
              "      <td>SSOIL</td>\n",
              "      <td>QUEROSENE DE AVIAÇÃO</td>\n",
              "      <td>0.0</td>\n",
              "    </tr>\n",
              "    <tr>\n",
              "      <th>99814</th>\n",
              "      <td>2021-12-01</td>\n",
              "      <td>SÃO PAULO</td>\n",
              "      <td>SSOIL</td>\n",
              "      <td>QUEROSENE DE AVIAÇÃO</td>\n",
              "      <td>0.0</td>\n",
              "    </tr>\n",
              "    <tr>\n",
              "      <th>99815</th>\n",
              "      <td>2021-11-01</td>\n",
              "      <td>SÃO PAULO</td>\n",
              "      <td>SSOIL</td>\n",
              "      <td>QUEROSENE DE AVIAÇÃO</td>\n",
              "      <td>0.0</td>\n",
              "    </tr>\n",
              "  </tbody>\n",
              "</table>\n",
              "<p>17264 rows × 5 columns</p>\n",
              "</div>\n",
              "      <button class=\"colab-df-convert\" onclick=\"convertToInteractive('df-32a46391-b9d1-44f1-970e-47c04b93f3a7')\"\n",
              "              title=\"Convert this dataframe to an interactive table.\"\n",
              "              style=\"display:none;\">\n",
              "        \n",
              "  <svg xmlns=\"http://www.w3.org/2000/svg\" height=\"24px\"viewBox=\"0 0 24 24\"\n",
              "       width=\"24px\">\n",
              "    <path d=\"M0 0h24v24H0V0z\" fill=\"none\"/>\n",
              "    <path d=\"M18.56 5.44l.94 2.06.94-2.06 2.06-.94-2.06-.94-.94-2.06-.94 2.06-2.06.94zm-11 1L8.5 8.5l.94-2.06 2.06-.94-2.06-.94L8.5 2.5l-.94 2.06-2.06.94zm10 10l.94 2.06.94-2.06 2.06-.94-2.06-.94-.94-2.06-.94 2.06-2.06.94z\"/><path d=\"M17.41 7.96l-1.37-1.37c-.4-.4-.92-.59-1.43-.59-.52 0-1.04.2-1.43.59L10.3 9.45l-7.72 7.72c-.78.78-.78 2.05 0 2.83L4 21.41c.39.39.9.59 1.41.59.51 0 1.02-.2 1.41-.59l7.78-7.78 2.81-2.81c.8-.78.8-2.07 0-2.86zM5.41 20L4 18.59l7.72-7.72 1.47 1.35L5.41 20z\"/>\n",
              "  </svg>\n",
              "      </button>\n",
              "      \n",
              "  <style>\n",
              "    .colab-df-container {\n",
              "      display:flex;\n",
              "      flex-wrap:wrap;\n",
              "      gap: 12px;\n",
              "    }\n",
              "\n",
              "    .colab-df-convert {\n",
              "      background-color: #E8F0FE;\n",
              "      border: none;\n",
              "      border-radius: 50%;\n",
              "      cursor: pointer;\n",
              "      display: none;\n",
              "      fill: #1967D2;\n",
              "      height: 32px;\n",
              "      padding: 0 0 0 0;\n",
              "      width: 32px;\n",
              "    }\n",
              "\n",
              "    .colab-df-convert:hover {\n",
              "      background-color: #E2EBFA;\n",
              "      box-shadow: 0px 1px 2px rgba(60, 64, 67, 0.3), 0px 1px 3px 1px rgba(60, 64, 67, 0.15);\n",
              "      fill: #174EA6;\n",
              "    }\n",
              "\n",
              "    [theme=dark] .colab-df-convert {\n",
              "      background-color: #3B4455;\n",
              "      fill: #D2E3FC;\n",
              "    }\n",
              "\n",
              "    [theme=dark] .colab-df-convert:hover {\n",
              "      background-color: #434B5C;\n",
              "      box-shadow: 0px 1px 3px 1px rgba(0, 0, 0, 0.15);\n",
              "      filter: drop-shadow(0px 1px 2px rgba(0, 0, 0, 0.3));\n",
              "      fill: #FFFFFF;\n",
              "    }\n",
              "  </style>\n",
              "\n",
              "      <script>\n",
              "        const buttonEl =\n",
              "          document.querySelector('#df-32a46391-b9d1-44f1-970e-47c04b93f3a7 button.colab-df-convert');\n",
              "        buttonEl.style.display =\n",
              "          google.colab.kernel.accessAllowed ? 'block' : 'none';\n",
              "\n",
              "        async function convertToInteractive(key) {\n",
              "          const element = document.querySelector('#df-32a46391-b9d1-44f1-970e-47c04b93f3a7');\n",
              "          const dataTable =\n",
              "            await google.colab.kernel.invokeFunction('convertToInteractive',\n",
              "                                                     [key], {});\n",
              "          if (!dataTable) return;\n",
              "\n",
              "          const docLinkHtml = 'Like what you see? Visit the ' +\n",
              "            '<a target=\"_blank\" href=https://colab.research.google.com/notebooks/data_table.ipynb>data table notebook</a>'\n",
              "            + ' to learn more about interactive tables.';\n",
              "          element.innerHTML = '';\n",
              "          dataTable['output_type'] = 'display_data';\n",
              "          await google.colab.output.renderOutput(dataTable, element);\n",
              "          const docLink = document.createElement('div');\n",
              "          docLink.innerHTML = docLinkHtml;\n",
              "          element.appendChild(docLink);\n",
              "        }\n",
              "      </script>\n",
              "    </div>\n",
              "  </div>\n",
              "  "
            ]
          },
          "metadata": {},
          "execution_count": 90
        }
      ]
    },
    {
      "cell_type": "markdown",
      "source": [
        "## 2.4. Dataset de Importação e Exportação de combustíveis"
      ],
      "metadata": {
        "id": "7mkAFNcpL36K"
      }
    },
    {
      "cell_type": "markdown",
      "source": [
        "###2.4.1. Leitura dos datasets"
      ],
      "metadata": {
        "id": "8SQ-tMvXKo8z"
      }
    },
    {
      "cell_type": "code",
      "source": [
        "def baixar_arquivo(url, endereco=None):\n",
        "    if endereco is None:\n",
        "        endereco = os.path.basename(url.split(\"?\")[0])\n",
        "    resposta = requests.get(url, stream=True)\n",
        "    if resposta.status_code == requests.codes.OK:\n",
        "        with open(endereco, 'wb') as novo_arquivo:\n",
        "            for parte in resposta.iter_content(chunk_size=256):\n",
        "                novo_arquivo.write(parte)\n",
        "        print(\"Download finalizado. Arquivo salvo em: {}\".format(endereco))\n",
        "    else:\n",
        "        resposta.raise_for_status()\n",
        "\n",
        "def selecionar_arquivos_para_baixar(): \n",
        "    import_export_01 = \"https://storage.googleapis.com/projeto-final-equipe4/arquivos_brutos/dfimpexppet_bruto.csv\"\n",
        "    import_export_02 = \"https://storage.googleapis.com/projeto-final-equipe4/arquivos_brutos/dfimpexpgas_bruto.csv\"\n",
        "    import_export_03 = \"https://storage.googleapis.com/projeto-final-equipe4/arquivos_brutos/dfimpexpder_bruto.csv\"\n",
        "    import_export_04 = \"https://storage.googleapis.com/projeto-final-equipe4/arquivos_brutos/dfimpexpeta_bruto.csv\"\n",
        "\n",
        "    baixar_arquivo(import_export_01, \"/content/import_export_01.csv\")\n",
        "    baixar_arquivo(import_export_02, \"/content/import_export_02.csv\")\n",
        "    baixar_arquivo(import_export_03, \"/content/import_export_03.csv\")\n",
        "    baixar_arquivo(import_export_04, \"/content/import_export_04.csv\")"
      ],
      "metadata": {
        "id": "aajlEOTJL5P3"
      },
      "execution_count": 212,
      "outputs": []
    },
    {
      "cell_type": "code",
      "source": [
        "selecionar_arquivos_para_baixar()"
      ],
      "metadata": {
        "colab": {
          "base_uri": "https://localhost:8080/"
        },
        "id": "4FIv_sWGMG-G",
        "outputId": "4e190693-8200-4bfe-8bac-85393b00162e"
      },
      "execution_count": 213,
      "outputs": [
        {
          "output_type": "stream",
          "name": "stdout",
          "text": [
            "Download finalizado. Arquivo salvo em: /content/import_export_01.csv\n",
            "Download finalizado. Arquivo salvo em: /content/import_export_02.csv\n",
            "Download finalizado. Arquivo salvo em: /content/import_export_03.csv\n",
            "Download finalizado. Arquivo salvo em: /content/import_export_04.csv\n"
          ]
        }
      ]
    },
    {
      "cell_type": "markdown",
      "source": [
        "> **Carregamento dos arquivos baixados e concantenados em um único Dataframe**"
      ],
      "metadata": {
        "id": "-6oibYMgK_0U"
      }
    },
    {
      "cell_type": "code",
      "source": [
        "def carregar_dados_geral():\n",
        "    caminho = r'/content'\n",
        "    todos_os_arquivos = glob.glob(caminho + \"/*.csv\")\n",
        "    li = []\n",
        "\n",
        "    for nome_arquivo in todos_os_arquivos:\n",
        "        df = pd.read_csv(nome_arquivo, encoding=\"UTF-8\")\n",
        "        df.rename(columns={'IMPORTADO':'IMPORTADO / EXPORTADO', 'DISPÊNDIO':'DISPÊNDIO / RECEITA'}, inplace=True)\n",
        "        li.append(df)\n",
        "\n",
        "    dfimex = pd.concat(li)\n",
        "    return dfimex"
      ],
      "metadata": {
        "id": "T2pqsH4SMaTu"
      },
      "execution_count": 214,
      "outputs": []
    },
    {
      "cell_type": "code",
      "source": [
        "dfimex = carregar_dados_geral()"
      ],
      "metadata": {
        "id": "ttyRVSPrQFSk"
      },
      "execution_count": 215,
      "outputs": []
    },
    {
      "cell_type": "code",
      "source": [
        "dfimex.head()"
      ],
      "metadata": {
        "colab": {
          "base_uri": "https://localhost:8080/",
          "height": 0
        },
        "id": "rVod3Lv3M_Ig",
        "outputId": "d5869d00-7158-479b-f86a-385440b15f52"
      },
      "execution_count": 216,
      "outputs": [
        {
          "output_type": "execute_result",
          "data": {
            "text/plain": [
              "    ANO  MÊS  PRODUTO OPERAÇÃO COMERCIAL IMPORTADO / EXPORTADO  \\\n",
              "0  2000  ABR  ASFALTO         EXPORTAÇÃO           1362,035577   \n",
              "1  2000  AGO  ASFALTO         EXPORTAÇÃO           2700,793269   \n",
              "2  2000  DEZ  ASFALTO         EXPORTAÇÃO           1839,723077   \n",
              "3  2000  FEV  ASFALTO         EXPORTAÇÃO           1676,491346   \n",
              "4  2000  JAN  ASFALTO         EXPORTAÇÃO           1702,567308   \n",
              "\n",
              "  DISPÊNDIO / RECEITA  \n",
              "0              309443  \n",
              "1              544917  \n",
              "2              426760  \n",
              "3              270633  \n",
              "4              360648  "
            ],
            "text/html": [
              "\n",
              "  <div id=\"df-1ab75476-bc6c-4fba-a406-7fecbfc6faeb\">\n",
              "    <div class=\"colab-df-container\">\n",
              "      <div>\n",
              "<style scoped>\n",
              "    .dataframe tbody tr th:only-of-type {\n",
              "        vertical-align: middle;\n",
              "    }\n",
              "\n",
              "    .dataframe tbody tr th {\n",
              "        vertical-align: top;\n",
              "    }\n",
              "\n",
              "    .dataframe thead th {\n",
              "        text-align: right;\n",
              "    }\n",
              "</style>\n",
              "<table border=\"1\" class=\"dataframe\">\n",
              "  <thead>\n",
              "    <tr style=\"text-align: right;\">\n",
              "      <th></th>\n",
              "      <th>ANO</th>\n",
              "      <th>MÊS</th>\n",
              "      <th>PRODUTO</th>\n",
              "      <th>OPERAÇÃO COMERCIAL</th>\n",
              "      <th>IMPORTADO / EXPORTADO</th>\n",
              "      <th>DISPÊNDIO / RECEITA</th>\n",
              "    </tr>\n",
              "  </thead>\n",
              "  <tbody>\n",
              "    <tr>\n",
              "      <th>0</th>\n",
              "      <td>2000</td>\n",
              "      <td>ABR</td>\n",
              "      <td>ASFALTO</td>\n",
              "      <td>EXPORTAÇÃO</td>\n",
              "      <td>1362,035577</td>\n",
              "      <td>309443</td>\n",
              "    </tr>\n",
              "    <tr>\n",
              "      <th>1</th>\n",
              "      <td>2000</td>\n",
              "      <td>AGO</td>\n",
              "      <td>ASFALTO</td>\n",
              "      <td>EXPORTAÇÃO</td>\n",
              "      <td>2700,793269</td>\n",
              "      <td>544917</td>\n",
              "    </tr>\n",
              "    <tr>\n",
              "      <th>2</th>\n",
              "      <td>2000</td>\n",
              "      <td>DEZ</td>\n",
              "      <td>ASFALTO</td>\n",
              "      <td>EXPORTAÇÃO</td>\n",
              "      <td>1839,723077</td>\n",
              "      <td>426760</td>\n",
              "    </tr>\n",
              "    <tr>\n",
              "      <th>3</th>\n",
              "      <td>2000</td>\n",
              "      <td>FEV</td>\n",
              "      <td>ASFALTO</td>\n",
              "      <td>EXPORTAÇÃO</td>\n",
              "      <td>1676,491346</td>\n",
              "      <td>270633</td>\n",
              "    </tr>\n",
              "    <tr>\n",
              "      <th>4</th>\n",
              "      <td>2000</td>\n",
              "      <td>JAN</td>\n",
              "      <td>ASFALTO</td>\n",
              "      <td>EXPORTAÇÃO</td>\n",
              "      <td>1702,567308</td>\n",
              "      <td>360648</td>\n",
              "    </tr>\n",
              "  </tbody>\n",
              "</table>\n",
              "</div>\n",
              "      <button class=\"colab-df-convert\" onclick=\"convertToInteractive('df-1ab75476-bc6c-4fba-a406-7fecbfc6faeb')\"\n",
              "              title=\"Convert this dataframe to an interactive table.\"\n",
              "              style=\"display:none;\">\n",
              "        \n",
              "  <svg xmlns=\"http://www.w3.org/2000/svg\" height=\"24px\"viewBox=\"0 0 24 24\"\n",
              "       width=\"24px\">\n",
              "    <path d=\"M0 0h24v24H0V0z\" fill=\"none\"/>\n",
              "    <path d=\"M18.56 5.44l.94 2.06.94-2.06 2.06-.94-2.06-.94-.94-2.06-.94 2.06-2.06.94zm-11 1L8.5 8.5l.94-2.06 2.06-.94-2.06-.94L8.5 2.5l-.94 2.06-2.06.94zm10 10l.94 2.06.94-2.06 2.06-.94-2.06-.94-.94-2.06-.94 2.06-2.06.94z\"/><path d=\"M17.41 7.96l-1.37-1.37c-.4-.4-.92-.59-1.43-.59-.52 0-1.04.2-1.43.59L10.3 9.45l-7.72 7.72c-.78.78-.78 2.05 0 2.83L4 21.41c.39.39.9.59 1.41.59.51 0 1.02-.2 1.41-.59l7.78-7.78 2.81-2.81c.8-.78.8-2.07 0-2.86zM5.41 20L4 18.59l7.72-7.72 1.47 1.35L5.41 20z\"/>\n",
              "  </svg>\n",
              "      </button>\n",
              "      \n",
              "  <style>\n",
              "    .colab-df-container {\n",
              "      display:flex;\n",
              "      flex-wrap:wrap;\n",
              "      gap: 12px;\n",
              "    }\n",
              "\n",
              "    .colab-df-convert {\n",
              "      background-color: #E8F0FE;\n",
              "      border: none;\n",
              "      border-radius: 50%;\n",
              "      cursor: pointer;\n",
              "      display: none;\n",
              "      fill: #1967D2;\n",
              "      height: 32px;\n",
              "      padding: 0 0 0 0;\n",
              "      width: 32px;\n",
              "    }\n",
              "\n",
              "    .colab-df-convert:hover {\n",
              "      background-color: #E2EBFA;\n",
              "      box-shadow: 0px 1px 2px rgba(60, 64, 67, 0.3), 0px 1px 3px 1px rgba(60, 64, 67, 0.15);\n",
              "      fill: #174EA6;\n",
              "    }\n",
              "\n",
              "    [theme=dark] .colab-df-convert {\n",
              "      background-color: #3B4455;\n",
              "      fill: #D2E3FC;\n",
              "    }\n",
              "\n",
              "    [theme=dark] .colab-df-convert:hover {\n",
              "      background-color: #434B5C;\n",
              "      box-shadow: 0px 1px 3px 1px rgba(0, 0, 0, 0.15);\n",
              "      filter: drop-shadow(0px 1px 2px rgba(0, 0, 0, 0.3));\n",
              "      fill: #FFFFFF;\n",
              "    }\n",
              "  </style>\n",
              "\n",
              "      <script>\n",
              "        const buttonEl =\n",
              "          document.querySelector('#df-1ab75476-bc6c-4fba-a406-7fecbfc6faeb button.colab-df-convert');\n",
              "        buttonEl.style.display =\n",
              "          google.colab.kernel.accessAllowed ? 'block' : 'none';\n",
              "\n",
              "        async function convertToInteractive(key) {\n",
              "          const element = document.querySelector('#df-1ab75476-bc6c-4fba-a406-7fecbfc6faeb');\n",
              "          const dataTable =\n",
              "            await google.colab.kernel.invokeFunction('convertToInteractive',\n",
              "                                                     [key], {});\n",
              "          if (!dataTable) return;\n",
              "\n",
              "          const docLinkHtml = 'Like what you see? Visit the ' +\n",
              "            '<a target=\"_blank\" href=https://colab.research.google.com/notebooks/data_table.ipynb>data table notebook</a>'\n",
              "            + ' to learn more about interactive tables.';\n",
              "          element.innerHTML = '';\n",
              "          dataTable['output_type'] = 'display_data';\n",
              "          await google.colab.output.renderOutput(dataTable, element);\n",
              "          const docLink = document.createElement('div');\n",
              "          docLink.innerHTML = docLinkHtml;\n",
              "          element.appendChild(docLink);\n",
              "        }\n",
              "      </script>\n",
              "    </div>\n",
              "  </div>\n",
              "  "
            ]
          },
          "metadata": {},
          "execution_count": 216
        }
      ]
    },
    {
      "cell_type": "markdown",
      "source": [
        "### 2.4.2 Pré-análise do dataframe"
      ],
      "metadata": {
        "id": "ScnMBg4ALKkl"
      }
    },
    {
      "cell_type": "code",
      "source": [
        "dfimex.shape"
      ],
      "metadata": {
        "colab": {
          "base_uri": "https://localhost:8080/"
        },
        "id": "1Gl-CAxsQRtD",
        "outputId": "e8aef6ea-0a71-4a85-b163-443ac2bd6d83"
      },
      "execution_count": 217,
      "outputs": [
        {
          "output_type": "execute_result",
          "data": {
            "text/plain": [
              "(9584, 6)"
            ]
          },
          "metadata": {},
          "execution_count": 217
        }
      ]
    },
    {
      "cell_type": "code",
      "source": [
        "dfimex.isna().sum()"
      ],
      "metadata": {
        "colab": {
          "base_uri": "https://localhost:8080/"
        },
        "id": "ItSd4M16RsG4",
        "outputId": "c5465d6d-676f-4a2e-ae5a-f20838829ad7"
      },
      "execution_count": 218,
      "outputs": [
        {
          "output_type": "execute_result",
          "data": {
            "text/plain": [
              "ANO                       0\n",
              "MÊS                       0\n",
              "PRODUTO                   0\n",
              "OPERAÇÃO COMERCIAL        0\n",
              "IMPORTADO / EXPORTADO    11\n",
              "DISPÊNDIO / RECEITA       0\n",
              "dtype: int64"
            ]
          },
          "metadata": {},
          "execution_count": 218
        }
      ]
    },
    {
      "cell_type": "markdown",
      "source": [
        "> **Checagem de linhas com valores nulos**"
      ],
      "metadata": {
        "id": "SDTQxdGYLba2"
      }
    },
    {
      "cell_type": "code",
      "source": [
        "dfimex[dfimex['IMPORTADO / EXPORTADO'].isna()]"
      ],
      "metadata": {
        "colab": {
          "base_uri": "https://localhost:8080/",
          "height": 0
        },
        "id": "zutI_eQLWxGy",
        "outputId": "704525f9-3910-450a-9010-273f5394b366"
      },
      "execution_count": 219,
      "outputs": [
        {
          "output_type": "execute_result",
          "data": {
            "text/plain": [
              "       ANO  MÊS               PRODUTO OPERAÇÃO COMERCIAL  \\\n",
              "7821  2021  ABR  QUEROSENE ILUMINANTE         IMPORTAÇÃO   \n",
              "7822  2021  AGO  QUEROSENE ILUMINANTE         IMPORTAÇÃO   \n",
              "7824  2021  FEV  QUEROSENE ILUMINANTE         IMPORTAÇÃO   \n",
              "7825  2021  JAN  QUEROSENE ILUMINANTE         IMPORTAÇÃO   \n",
              "7826  2021  JUL  QUEROSENE ILUMINANTE         IMPORTAÇÃO   \n",
              "7827  2021  JUN  QUEROSENE ILUMINANTE         IMPORTAÇÃO   \n",
              "7828  2021  MAI  QUEROSENE ILUMINANTE         IMPORTAÇÃO   \n",
              "7829  2021  MAR  QUEROSENE ILUMINANTE         IMPORTAÇÃO   \n",
              "7830  2021  NOV  QUEROSENE ILUMINANTE         IMPORTAÇÃO   \n",
              "7831  2021  OUT  QUEROSENE ILUMINANTE         IMPORTAÇÃO   \n",
              "7832  2021  SET  QUEROSENE ILUMINANTE         IMPORTAÇÃO   \n",
              "\n",
              "     IMPORTADO / EXPORTADO DISPÊNDIO / RECEITA  \n",
              "7821                   NaN                   0  \n",
              "7822                   NaN                   0  \n",
              "7824                   NaN                   0  \n",
              "7825                   NaN                   0  \n",
              "7826                   NaN                   0  \n",
              "7827                   NaN                   0  \n",
              "7828                   NaN                   0  \n",
              "7829                   NaN                   0  \n",
              "7830                   NaN                   0  \n",
              "7831                   NaN                   0  \n",
              "7832                   NaN                   0  "
            ],
            "text/html": [
              "\n",
              "  <div id=\"df-0e116ac2-a1a5-4dd1-af20-c9d720e42f49\">\n",
              "    <div class=\"colab-df-container\">\n",
              "      <div>\n",
              "<style scoped>\n",
              "    .dataframe tbody tr th:only-of-type {\n",
              "        vertical-align: middle;\n",
              "    }\n",
              "\n",
              "    .dataframe tbody tr th {\n",
              "        vertical-align: top;\n",
              "    }\n",
              "\n",
              "    .dataframe thead th {\n",
              "        text-align: right;\n",
              "    }\n",
              "</style>\n",
              "<table border=\"1\" class=\"dataframe\">\n",
              "  <thead>\n",
              "    <tr style=\"text-align: right;\">\n",
              "      <th></th>\n",
              "      <th>ANO</th>\n",
              "      <th>MÊS</th>\n",
              "      <th>PRODUTO</th>\n",
              "      <th>OPERAÇÃO COMERCIAL</th>\n",
              "      <th>IMPORTADO / EXPORTADO</th>\n",
              "      <th>DISPÊNDIO / RECEITA</th>\n",
              "    </tr>\n",
              "  </thead>\n",
              "  <tbody>\n",
              "    <tr>\n",
              "      <th>7821</th>\n",
              "      <td>2021</td>\n",
              "      <td>ABR</td>\n",
              "      <td>QUEROSENE ILUMINANTE</td>\n",
              "      <td>IMPORTAÇÃO</td>\n",
              "      <td>NaN</td>\n",
              "      <td>0</td>\n",
              "    </tr>\n",
              "    <tr>\n",
              "      <th>7822</th>\n",
              "      <td>2021</td>\n",
              "      <td>AGO</td>\n",
              "      <td>QUEROSENE ILUMINANTE</td>\n",
              "      <td>IMPORTAÇÃO</td>\n",
              "      <td>NaN</td>\n",
              "      <td>0</td>\n",
              "    </tr>\n",
              "    <tr>\n",
              "      <th>7824</th>\n",
              "      <td>2021</td>\n",
              "      <td>FEV</td>\n",
              "      <td>QUEROSENE ILUMINANTE</td>\n",
              "      <td>IMPORTAÇÃO</td>\n",
              "      <td>NaN</td>\n",
              "      <td>0</td>\n",
              "    </tr>\n",
              "    <tr>\n",
              "      <th>7825</th>\n",
              "      <td>2021</td>\n",
              "      <td>JAN</td>\n",
              "      <td>QUEROSENE ILUMINANTE</td>\n",
              "      <td>IMPORTAÇÃO</td>\n",
              "      <td>NaN</td>\n",
              "      <td>0</td>\n",
              "    </tr>\n",
              "    <tr>\n",
              "      <th>7826</th>\n",
              "      <td>2021</td>\n",
              "      <td>JUL</td>\n",
              "      <td>QUEROSENE ILUMINANTE</td>\n",
              "      <td>IMPORTAÇÃO</td>\n",
              "      <td>NaN</td>\n",
              "      <td>0</td>\n",
              "    </tr>\n",
              "    <tr>\n",
              "      <th>7827</th>\n",
              "      <td>2021</td>\n",
              "      <td>JUN</td>\n",
              "      <td>QUEROSENE ILUMINANTE</td>\n",
              "      <td>IMPORTAÇÃO</td>\n",
              "      <td>NaN</td>\n",
              "      <td>0</td>\n",
              "    </tr>\n",
              "    <tr>\n",
              "      <th>7828</th>\n",
              "      <td>2021</td>\n",
              "      <td>MAI</td>\n",
              "      <td>QUEROSENE ILUMINANTE</td>\n",
              "      <td>IMPORTAÇÃO</td>\n",
              "      <td>NaN</td>\n",
              "      <td>0</td>\n",
              "    </tr>\n",
              "    <tr>\n",
              "      <th>7829</th>\n",
              "      <td>2021</td>\n",
              "      <td>MAR</td>\n",
              "      <td>QUEROSENE ILUMINANTE</td>\n",
              "      <td>IMPORTAÇÃO</td>\n",
              "      <td>NaN</td>\n",
              "      <td>0</td>\n",
              "    </tr>\n",
              "    <tr>\n",
              "      <th>7830</th>\n",
              "      <td>2021</td>\n",
              "      <td>NOV</td>\n",
              "      <td>QUEROSENE ILUMINANTE</td>\n",
              "      <td>IMPORTAÇÃO</td>\n",
              "      <td>NaN</td>\n",
              "      <td>0</td>\n",
              "    </tr>\n",
              "    <tr>\n",
              "      <th>7831</th>\n",
              "      <td>2021</td>\n",
              "      <td>OUT</td>\n",
              "      <td>QUEROSENE ILUMINANTE</td>\n",
              "      <td>IMPORTAÇÃO</td>\n",
              "      <td>NaN</td>\n",
              "      <td>0</td>\n",
              "    </tr>\n",
              "    <tr>\n",
              "      <th>7832</th>\n",
              "      <td>2021</td>\n",
              "      <td>SET</td>\n",
              "      <td>QUEROSENE ILUMINANTE</td>\n",
              "      <td>IMPORTAÇÃO</td>\n",
              "      <td>NaN</td>\n",
              "      <td>0</td>\n",
              "    </tr>\n",
              "  </tbody>\n",
              "</table>\n",
              "</div>\n",
              "      <button class=\"colab-df-convert\" onclick=\"convertToInteractive('df-0e116ac2-a1a5-4dd1-af20-c9d720e42f49')\"\n",
              "              title=\"Convert this dataframe to an interactive table.\"\n",
              "              style=\"display:none;\">\n",
              "        \n",
              "  <svg xmlns=\"http://www.w3.org/2000/svg\" height=\"24px\"viewBox=\"0 0 24 24\"\n",
              "       width=\"24px\">\n",
              "    <path d=\"M0 0h24v24H0V0z\" fill=\"none\"/>\n",
              "    <path d=\"M18.56 5.44l.94 2.06.94-2.06 2.06-.94-2.06-.94-.94-2.06-.94 2.06-2.06.94zm-11 1L8.5 8.5l.94-2.06 2.06-.94-2.06-.94L8.5 2.5l-.94 2.06-2.06.94zm10 10l.94 2.06.94-2.06 2.06-.94-2.06-.94-.94-2.06-.94 2.06-2.06.94z\"/><path d=\"M17.41 7.96l-1.37-1.37c-.4-.4-.92-.59-1.43-.59-.52 0-1.04.2-1.43.59L10.3 9.45l-7.72 7.72c-.78.78-.78 2.05 0 2.83L4 21.41c.39.39.9.59 1.41.59.51 0 1.02-.2 1.41-.59l7.78-7.78 2.81-2.81c.8-.78.8-2.07 0-2.86zM5.41 20L4 18.59l7.72-7.72 1.47 1.35L5.41 20z\"/>\n",
              "  </svg>\n",
              "      </button>\n",
              "      \n",
              "  <style>\n",
              "    .colab-df-container {\n",
              "      display:flex;\n",
              "      flex-wrap:wrap;\n",
              "      gap: 12px;\n",
              "    }\n",
              "\n",
              "    .colab-df-convert {\n",
              "      background-color: #E8F0FE;\n",
              "      border: none;\n",
              "      border-radius: 50%;\n",
              "      cursor: pointer;\n",
              "      display: none;\n",
              "      fill: #1967D2;\n",
              "      height: 32px;\n",
              "      padding: 0 0 0 0;\n",
              "      width: 32px;\n",
              "    }\n",
              "\n",
              "    .colab-df-convert:hover {\n",
              "      background-color: #E2EBFA;\n",
              "      box-shadow: 0px 1px 2px rgba(60, 64, 67, 0.3), 0px 1px 3px 1px rgba(60, 64, 67, 0.15);\n",
              "      fill: #174EA6;\n",
              "    }\n",
              "\n",
              "    [theme=dark] .colab-df-convert {\n",
              "      background-color: #3B4455;\n",
              "      fill: #D2E3FC;\n",
              "    }\n",
              "\n",
              "    [theme=dark] .colab-df-convert:hover {\n",
              "      background-color: #434B5C;\n",
              "      box-shadow: 0px 1px 3px 1px rgba(0, 0, 0, 0.15);\n",
              "      filter: drop-shadow(0px 1px 2px rgba(0, 0, 0, 0.3));\n",
              "      fill: #FFFFFF;\n",
              "    }\n",
              "  </style>\n",
              "\n",
              "      <script>\n",
              "        const buttonEl =\n",
              "          document.querySelector('#df-0e116ac2-a1a5-4dd1-af20-c9d720e42f49 button.colab-df-convert');\n",
              "        buttonEl.style.display =\n",
              "          google.colab.kernel.accessAllowed ? 'block' : 'none';\n",
              "\n",
              "        async function convertToInteractive(key) {\n",
              "          const element = document.querySelector('#df-0e116ac2-a1a5-4dd1-af20-c9d720e42f49');\n",
              "          const dataTable =\n",
              "            await google.colab.kernel.invokeFunction('convertToInteractive',\n",
              "                                                     [key], {});\n",
              "          if (!dataTable) return;\n",
              "\n",
              "          const docLinkHtml = 'Like what you see? Visit the ' +\n",
              "            '<a target=\"_blank\" href=https://colab.research.google.com/notebooks/data_table.ipynb>data table notebook</a>'\n",
              "            + ' to learn more about interactive tables.';\n",
              "          element.innerHTML = '';\n",
              "          dataTable['output_type'] = 'display_data';\n",
              "          await google.colab.output.renderOutput(dataTable, element);\n",
              "          const docLink = document.createElement('div');\n",
              "          docLink.innerHTML = docLinkHtml;\n",
              "          element.appendChild(docLink);\n",
              "        }\n",
              "      </script>\n",
              "    </div>\n",
              "  </div>\n",
              "  "
            ]
          },
          "metadata": {},
          "execution_count": 219
        }
      ]
    },
    {
      "cell_type": "markdown",
      "source": [
        "> **Checagem de inconsistências de colunas**"
      ],
      "metadata": {
        "id": "XTJLyZ8RNfBN"
      }
    },
    {
      "cell_type": "code",
      "source": [
        "dfimex.groupby('PRODUTO').size()"
      ],
      "metadata": {
        "colab": {
          "base_uri": "https://localhost:8080/"
        },
        "id": "XjN8PDIJR0Q3",
        "outputId": "8d2ace0c-8f1b-48f2-8566-61df9607730c"
      },
      "execution_count": 220,
      "outputs": [
        {
          "output_type": "execute_result",
          "data": {
            "text/plain": [
              "PRODUTO\n",
              "ASFALTO                        550\n",
              "COMBUSTÍVEIS PARA AERONAVES    275\n",
              "COMBUSTÍVEIS PARA NAVIOS       275\n",
              "COQUE                          550\n",
              "ETANOL ANIDRO                  262\n",
              "ETANOL HIDRATADO               262\n",
              "GASOLINA A                     548\n",
              "GASOLINA DE AVIAÇÃO            547\n",
              "GLP                            550\n",
              "GÁS NATURAL                    275\n",
              "LUBRIFICANTE                   550\n",
              "NAFTA                          547\n",
              "OUTROS NÃO ENERGÉTICOS         550\n",
              "PARAFINA                       550\n",
              "PETRÓLEO                       550\n",
              "QUEROSENE DE AVIAÇÃO           549\n",
              "QUEROSENE ILUMINANTE           546\n",
              "SOLVENTE                       550\n",
              "ÓLEO COMBUSTÍVEL               550\n",
              "ÓLEO DIESEL                    548\n",
              "dtype: int64"
            ]
          },
          "metadata": {},
          "execution_count": 220
        }
      ]
    },
    {
      "cell_type": "markdown",
      "source": [
        "### 2.4.3 Tratamentos"
      ],
      "metadata": {
        "id": "mL9h71LFQDTm"
      }
    },
    {
      "cell_type": "markdown",
      "source": [
        "> **Filtragem de linhas com somente os produtos que interessam ao escopo**"
      ],
      "metadata": {
        "id": "zkGKrskHNs0b"
      }
    },
    {
      "cell_type": "code",
      "source": [
        "dfimex = dfimex.loc[(dfimex['PRODUTO'] == 'COMBUSTÍVEIS PARA AERONAVES') | \n",
        "                    (dfimex['PRODUTO'] == 'COMBUSTÍVEIS PARA NAVIOS') | \n",
        "                    (dfimex['PRODUTO'] == 'COQUE') | (dfimex['PRODUTO'] == 'ETANOL ANIDRO') | \n",
        "                    (dfimex['PRODUTO'] == 'ETANOL HIDRATADO') | (dfimex['PRODUTO'] == 'GASOLINA A') |\n",
        "                    (dfimex['PRODUTO'] == 'GÁS NATURAL') | (dfimex['PRODUTO'] == 'PETRÓLEO') | \n",
        "                    (dfimex['PRODUTO'] == 'QUEROSENE DE AVIAÇÃO') | (dfimex['PRODUTO'] == 'ÓLEO COMBUSTÍVEL') | \n",
        "                    (dfimex['PRODUTO'] == 'ÓLEO DIESEL') | (dfimex['PRODUTO'] == 'GLP') | \n",
        "                    (dfimex['PRODUTO'] == 'GASOLINA DE AVIAÇÃO')]"
      ],
      "metadata": {
        "id": "Lt0BDYtNXOMx"
      },
      "execution_count": 221,
      "outputs": []
    },
    {
      "cell_type": "code",
      "source": [
        "dfimex.dtypes"
      ],
      "metadata": {
        "colab": {
          "base_uri": "https://localhost:8080/"
        },
        "id": "AmwQMOn6VnTq",
        "outputId": "a6249848-9afa-46a5-d3ea-3856928904da"
      },
      "execution_count": 222,
      "outputs": [
        {
          "output_type": "execute_result",
          "data": {
            "text/plain": [
              "ANO                       int64\n",
              "MÊS                      object\n",
              "PRODUTO                  object\n",
              "OPERAÇÃO COMERCIAL       object\n",
              "IMPORTADO / EXPORTADO    object\n",
              "DISPÊNDIO / RECEITA      object\n",
              "dtype: object"
            ]
          },
          "metadata": {},
          "execution_count": 222
        }
      ]
    },
    {
      "cell_type": "markdown",
      "source": [
        "> **Transformação da coluna data unindo mes e ano**"
      ],
      "metadata": {
        "id": "wZ2JvzrLN6K0"
      }
    },
    {
      "cell_type": "code",
      "source": [
        "dfimex['ANO'] = dfimex['ANO'].astype(str)"
      ],
      "metadata": {
        "id": "4eAVYhvoiGRV"
      },
      "execution_count": 223,
      "outputs": []
    },
    {
      "cell_type": "code",
      "source": [
        "dfimex.MÊS.replace(({'JAN':'01','FEV':'02','MAR':'03','ABR':'04','MAI':'05','JUN':'06',\n",
        "                     'JUL':'07','AGO':'08','SET':'09','OUT':'10','NOV':'11','DEZ':'12'}),regex=True,inplace=True)"
      ],
      "metadata": {
        "id": "1NC2r8xwlNak"
      },
      "execution_count": 224,
      "outputs": []
    },
    {
      "cell_type": "code",
      "source": [
        "# Junção colunas 'ano' e 'mes'\n",
        "dfimex['DATA'] = dfimex['ANO'] + '-' + dfimex['MÊS']"
      ],
      "metadata": {
        "id": "r8wwvmW4idga"
      },
      "execution_count": 225,
      "outputs": []
    },
    {
      "cell_type": "code",
      "source": [
        "# Transformação da coluna 'data' para DateTime\n",
        "dfimex['DATA'] = pd.to_datetime(dfimex['DATA'], format = '%Y-%m')"
      ],
      "metadata": {
        "id": "Mu7-W5WYiqFM"
      },
      "execution_count": 226,
      "outputs": []
    },
    {
      "cell_type": "markdown",
      "source": [
        "> **Renomeação das colunas**"
      ],
      "metadata": {
        "id": "03kLaeSTOYXg"
      }
    },
    {
      "cell_type": "code",
      "source": [
        "dfimex.rename(columns={'IMPORTADO / EXPORTADO':'importado_exportado',\n",
        "                       'DISPÊNDIO / RECEITA':'dispendio_receita',\n",
        "                       'OPERAÇÃO COMERCIAL':'operacao_comercial',\n",
        "                       'DATA':'data',\n",
        "                       'PRODUTO':'produto'}, inplace=True)"
      ],
      "metadata": {
        "id": "6DQizmKFSGjK"
      },
      "execution_count": 227,
      "outputs": []
    },
    {
      "cell_type": "markdown",
      "source": [
        "> **Replace vírgula por ponto para conseguir transformar a coluna para float**"
      ],
      "metadata": {
        "id": "0hS3xBzQOleM"
      }
    },
    {
      "cell_type": "code",
      "source": [
        "dfimex.replace([','],'.',regex=True,inplace=True)"
      ],
      "metadata": {
        "id": "L4EZj-hloif0"
      },
      "execution_count": 228,
      "outputs": []
    },
    {
      "cell_type": "code",
      "source": [
        "dfimex['importado_exportado'] = dfimex['importado_exportado'].astype(float)"
      ],
      "metadata": {
        "id": "wjiMJM_UonkS"
      },
      "execution_count": 229,
      "outputs": []
    },
    {
      "cell_type": "code",
      "source": [
        "dfimex.drop(columns=['ANO', 'MÊS'], inplace=True)"
      ],
      "metadata": {
        "id": "SSgwFs5RSypu"
      },
      "execution_count": 230,
      "outputs": []
    },
    {
      "cell_type": "code",
      "source": [
        "dfimex.dtypes"
      ],
      "metadata": {
        "colab": {
          "base_uri": "https://localhost:8080/"
        },
        "id": "E1gLWKsrVgVs",
        "outputId": "f2f09f57-cf6e-4a27-ddb4-368aca41dd5d"
      },
      "execution_count": 231,
      "outputs": [
        {
          "output_type": "execute_result",
          "data": {
            "text/plain": [
              "produto                        object\n",
              "operacao_comercial             object\n",
              "importado_exportado           float64\n",
              "dispendio_receita              object\n",
              "data                   datetime64[ns]\n",
              "dtype: object"
            ]
          },
          "metadata": {},
          "execution_count": 231
        }
      ]
    },
    {
      "cell_type": "markdown",
      "source": [
        "> **Filtragem de linhas com somente os anos que interessam ao escopo**"
      ],
      "metadata": {
        "id": "FUNIlW1XOxHS"
      }
    },
    {
      "cell_type": "code",
      "source": [
        "dfimex = dfimex[(dfimex['data'].dt.year >= 2012) & (dfimex['data'].dt.year <= 2021)]"
      ],
      "metadata": {
        "id": "p4lBa7Z2VjBk"
      },
      "execution_count": 232,
      "outputs": []
    },
    {
      "cell_type": "code",
      "source": [
        "#Reorganização das colunas\n",
        "dfimex = dfimex[['data','produto','operacao_comercial','importado_exportado','dispendio_receita']]"
      ],
      "metadata": {
        "id": "XUu9XYeQUEaT"
      },
      "execution_count": 233,
      "outputs": []
    },
    {
      "cell_type": "code",
      "source": [],
      "metadata": {
        "id": "-e9QldNAQaic"
      },
      "execution_count": 233,
      "outputs": []
    },
    {
      "cell_type": "code",
      "source": [
        "dfimex"
      ],
      "metadata": {
        "colab": {
          "base_uri": "https://localhost:8080/",
          "height": 0
        },
        "id": "20hT09rQQZV-",
        "outputId": "d2e7b343-f759-4475-dbf6-71b5bbf7b07f"
      },
      "execution_count": 234,
      "outputs": [
        {
          "output_type": "execute_result",
          "data": {
            "text/plain": [
              "           data                      produto operacao_comercial  \\\n",
              "4342 2012-04-01  COMBUSTÍVEIS PARA AERONAVES         EXPORTAÇÃO   \n",
              "4343 2012-08-01  COMBUSTÍVEIS PARA AERONAVES         EXPORTAÇÃO   \n",
              "4344 2012-12-01  COMBUSTÍVEIS PARA AERONAVES         EXPORTAÇÃO   \n",
              "4345 2012-02-01  COMBUSTÍVEIS PARA AERONAVES         EXPORTAÇÃO   \n",
              "4346 2012-01-01  COMBUSTÍVEIS PARA AERONAVES         EXPORTAÇÃO   \n",
              "...         ...                          ...                ...   \n",
              "259  2021-05-01                  GÁS NATURAL         IMPORTAÇÃO   \n",
              "260  2021-03-01                  GÁS NATURAL         IMPORTAÇÃO   \n",
              "261  2021-11-01                  GÁS NATURAL         IMPORTAÇÃO   \n",
              "262  2021-10-01                  GÁS NATURAL         IMPORTAÇÃO   \n",
              "263  2021-09-01                  GÁS NATURAL         IMPORTAÇÃO   \n",
              "\n",
              "      importado_exportado dispendio_receita  \n",
              "4342         2.104625e+05         202382171  \n",
              "4343         2.023550e+05         171580457  \n",
              "4344         2.360711e+05         217700307  \n",
              "4345         2.228990e+05         205802941  \n",
              "4346         2.791960e+05         251912970  \n",
              "...                   ...               ...  \n",
              "259          1.063879e+06       231495337.8  \n",
              "260          1.193271e+06       231939438.1  \n",
              "261          1.549601e+06        1061285294  \n",
              "262          1.870830e+06        1057158888  \n",
              "263          1.759775e+06       725183578.2  \n",
              "\n",
              "[2754 rows x 5 columns]"
            ],
            "text/html": [
              "\n",
              "  <div id=\"df-b1ea4a48-69a9-4f54-8d20-c5098e27ed0c\">\n",
              "    <div class=\"colab-df-container\">\n",
              "      <div>\n",
              "<style scoped>\n",
              "    .dataframe tbody tr th:only-of-type {\n",
              "        vertical-align: middle;\n",
              "    }\n",
              "\n",
              "    .dataframe tbody tr th {\n",
              "        vertical-align: top;\n",
              "    }\n",
              "\n",
              "    .dataframe thead th {\n",
              "        text-align: right;\n",
              "    }\n",
              "</style>\n",
              "<table border=\"1\" class=\"dataframe\">\n",
              "  <thead>\n",
              "    <tr style=\"text-align: right;\">\n",
              "      <th></th>\n",
              "      <th>data</th>\n",
              "      <th>produto</th>\n",
              "      <th>operacao_comercial</th>\n",
              "      <th>importado_exportado</th>\n",
              "      <th>dispendio_receita</th>\n",
              "    </tr>\n",
              "  </thead>\n",
              "  <tbody>\n",
              "    <tr>\n",
              "      <th>4342</th>\n",
              "      <td>2012-04-01</td>\n",
              "      <td>COMBUSTÍVEIS PARA AERONAVES</td>\n",
              "      <td>EXPORTAÇÃO</td>\n",
              "      <td>2.104625e+05</td>\n",
              "      <td>202382171</td>\n",
              "    </tr>\n",
              "    <tr>\n",
              "      <th>4343</th>\n",
              "      <td>2012-08-01</td>\n",
              "      <td>COMBUSTÍVEIS PARA AERONAVES</td>\n",
              "      <td>EXPORTAÇÃO</td>\n",
              "      <td>2.023550e+05</td>\n",
              "      <td>171580457</td>\n",
              "    </tr>\n",
              "    <tr>\n",
              "      <th>4344</th>\n",
              "      <td>2012-12-01</td>\n",
              "      <td>COMBUSTÍVEIS PARA AERONAVES</td>\n",
              "      <td>EXPORTAÇÃO</td>\n",
              "      <td>2.360711e+05</td>\n",
              "      <td>217700307</td>\n",
              "    </tr>\n",
              "    <tr>\n",
              "      <th>4345</th>\n",
              "      <td>2012-02-01</td>\n",
              "      <td>COMBUSTÍVEIS PARA AERONAVES</td>\n",
              "      <td>EXPORTAÇÃO</td>\n",
              "      <td>2.228990e+05</td>\n",
              "      <td>205802941</td>\n",
              "    </tr>\n",
              "    <tr>\n",
              "      <th>4346</th>\n",
              "      <td>2012-01-01</td>\n",
              "      <td>COMBUSTÍVEIS PARA AERONAVES</td>\n",
              "      <td>EXPORTAÇÃO</td>\n",
              "      <td>2.791960e+05</td>\n",
              "      <td>251912970</td>\n",
              "    </tr>\n",
              "    <tr>\n",
              "      <th>...</th>\n",
              "      <td>...</td>\n",
              "      <td>...</td>\n",
              "      <td>...</td>\n",
              "      <td>...</td>\n",
              "      <td>...</td>\n",
              "    </tr>\n",
              "    <tr>\n",
              "      <th>259</th>\n",
              "      <td>2021-05-01</td>\n",
              "      <td>GÁS NATURAL</td>\n",
              "      <td>IMPORTAÇÃO</td>\n",
              "      <td>1.063879e+06</td>\n",
              "      <td>231495337.8</td>\n",
              "    </tr>\n",
              "    <tr>\n",
              "      <th>260</th>\n",
              "      <td>2021-03-01</td>\n",
              "      <td>GÁS NATURAL</td>\n",
              "      <td>IMPORTAÇÃO</td>\n",
              "      <td>1.193271e+06</td>\n",
              "      <td>231939438.1</td>\n",
              "    </tr>\n",
              "    <tr>\n",
              "      <th>261</th>\n",
              "      <td>2021-11-01</td>\n",
              "      <td>GÁS NATURAL</td>\n",
              "      <td>IMPORTAÇÃO</td>\n",
              "      <td>1.549601e+06</td>\n",
              "      <td>1061285294</td>\n",
              "    </tr>\n",
              "    <tr>\n",
              "      <th>262</th>\n",
              "      <td>2021-10-01</td>\n",
              "      <td>GÁS NATURAL</td>\n",
              "      <td>IMPORTAÇÃO</td>\n",
              "      <td>1.870830e+06</td>\n",
              "      <td>1057158888</td>\n",
              "    </tr>\n",
              "    <tr>\n",
              "      <th>263</th>\n",
              "      <td>2021-09-01</td>\n",
              "      <td>GÁS NATURAL</td>\n",
              "      <td>IMPORTAÇÃO</td>\n",
              "      <td>1.759775e+06</td>\n",
              "      <td>725183578.2</td>\n",
              "    </tr>\n",
              "  </tbody>\n",
              "</table>\n",
              "<p>2754 rows × 5 columns</p>\n",
              "</div>\n",
              "      <button class=\"colab-df-convert\" onclick=\"convertToInteractive('df-b1ea4a48-69a9-4f54-8d20-c5098e27ed0c')\"\n",
              "              title=\"Convert this dataframe to an interactive table.\"\n",
              "              style=\"display:none;\">\n",
              "        \n",
              "  <svg xmlns=\"http://www.w3.org/2000/svg\" height=\"24px\"viewBox=\"0 0 24 24\"\n",
              "       width=\"24px\">\n",
              "    <path d=\"M0 0h24v24H0V0z\" fill=\"none\"/>\n",
              "    <path d=\"M18.56 5.44l.94 2.06.94-2.06 2.06-.94-2.06-.94-.94-2.06-.94 2.06-2.06.94zm-11 1L8.5 8.5l.94-2.06 2.06-.94-2.06-.94L8.5 2.5l-.94 2.06-2.06.94zm10 10l.94 2.06.94-2.06 2.06-.94-2.06-.94-.94-2.06-.94 2.06-2.06.94z\"/><path d=\"M17.41 7.96l-1.37-1.37c-.4-.4-.92-.59-1.43-.59-.52 0-1.04.2-1.43.59L10.3 9.45l-7.72 7.72c-.78.78-.78 2.05 0 2.83L4 21.41c.39.39.9.59 1.41.59.51 0 1.02-.2 1.41-.59l7.78-7.78 2.81-2.81c.8-.78.8-2.07 0-2.86zM5.41 20L4 18.59l7.72-7.72 1.47 1.35L5.41 20z\"/>\n",
              "  </svg>\n",
              "      </button>\n",
              "      \n",
              "  <style>\n",
              "    .colab-df-container {\n",
              "      display:flex;\n",
              "      flex-wrap:wrap;\n",
              "      gap: 12px;\n",
              "    }\n",
              "\n",
              "    .colab-df-convert {\n",
              "      background-color: #E8F0FE;\n",
              "      border: none;\n",
              "      border-radius: 50%;\n",
              "      cursor: pointer;\n",
              "      display: none;\n",
              "      fill: #1967D2;\n",
              "      height: 32px;\n",
              "      padding: 0 0 0 0;\n",
              "      width: 32px;\n",
              "    }\n",
              "\n",
              "    .colab-df-convert:hover {\n",
              "      background-color: #E2EBFA;\n",
              "      box-shadow: 0px 1px 2px rgba(60, 64, 67, 0.3), 0px 1px 3px 1px rgba(60, 64, 67, 0.15);\n",
              "      fill: #174EA6;\n",
              "    }\n",
              "\n",
              "    [theme=dark] .colab-df-convert {\n",
              "      background-color: #3B4455;\n",
              "      fill: #D2E3FC;\n",
              "    }\n",
              "\n",
              "    [theme=dark] .colab-df-convert:hover {\n",
              "      background-color: #434B5C;\n",
              "      box-shadow: 0px 1px 3px 1px rgba(0, 0, 0, 0.15);\n",
              "      filter: drop-shadow(0px 1px 2px rgba(0, 0, 0, 0.3));\n",
              "      fill: #FFFFFF;\n",
              "    }\n",
              "  </style>\n",
              "\n",
              "      <script>\n",
              "        const buttonEl =\n",
              "          document.querySelector('#df-b1ea4a48-69a9-4f54-8d20-c5098e27ed0c button.colab-df-convert');\n",
              "        buttonEl.style.display =\n",
              "          google.colab.kernel.accessAllowed ? 'block' : 'none';\n",
              "\n",
              "        async function convertToInteractive(key) {\n",
              "          const element = document.querySelector('#df-b1ea4a48-69a9-4f54-8d20-c5098e27ed0c');\n",
              "          const dataTable =\n",
              "            await google.colab.kernel.invokeFunction('convertToInteractive',\n",
              "                                                     [key], {});\n",
              "          if (!dataTable) return;\n",
              "\n",
              "          const docLinkHtml = 'Like what you see? Visit the ' +\n",
              "            '<a target=\"_blank\" href=https://colab.research.google.com/notebooks/data_table.ipynb>data table notebook</a>'\n",
              "            + ' to learn more about interactive tables.';\n",
              "          element.innerHTML = '';\n",
              "          dataTable['output_type'] = 'display_data';\n",
              "          await google.colab.output.renderOutput(dataTable, element);\n",
              "          const docLink = document.createElement('div');\n",
              "          docLink.innerHTML = docLinkHtml;\n",
              "          element.appendChild(docLink);\n",
              "        }\n",
              "      </script>\n",
              "    </div>\n",
              "  </div>\n",
              "  "
            ]
          },
          "metadata": {},
          "execution_count": 234
        }
      ]
    },
    {
      "cell_type": "markdown",
      "source": [
        "### 2.4.4. Plots em Pandas"
      ],
      "metadata": {
        "id": "nTSxJLlzNQIY"
      }
    },
    {
      "cell_type": "code",
      "source": [
        "ft = dfimex.loc[dfimex.operacao_comercial == 'EXPORTAÇÃO']\n",
        "ft.groupby('data').sum().plot.line(title='Exportação de Combustíveis Brasil 2012-2021',xlabel='Ano',ylabel='Volume Exportado (m³)')"
      ],
      "metadata": {
        "colab": {
          "base_uri": "https://localhost:8080/",
          "height": 0
        },
        "id": "fsdvy0AcNPVt",
        "outputId": "668b423a-187c-4331-dacd-fb8a25b9f4af"
      },
      "execution_count": 235,
      "outputs": [
        {
          "output_type": "execute_result",
          "data": {
            "text/plain": [
              "<matplotlib.axes._subplots.AxesSubplot at 0x7f5a4b488c70>"
            ]
          },
          "metadata": {},
          "execution_count": 235
        },
        {
          "output_type": "display_data",
          "data": {
            "text/plain": [
              "<Figure size 432x288 with 1 Axes>"
            ],
            "image/png": "[encoded data removed]"
          },
          "metadata": {
            "needs_background": "light"
          }
        }
      ]
    },
    {
      "cell_type": "code",
      "source": [
        "ft = dfimex.loc[(dfimex.operacao_comercial == 'IMPORTAÇÃO') & (dfimex.produto == 'PETRÓLEO') & \n",
        "                (dfimex.data.dt.year >= 2014) & (dfimex.data.dt.year <= 2018)]\n",
        "ft.groupby('data').sum().plot.line(title='Importação de Petróleo Brasil 2014-2018',\n",
        "                                   xlabel='Ano',ylabel= 'Montante (R$)')"
      ],
      "metadata": {
        "colab": {
          "base_uri": "https://localhost:8080/",
          "height": 0
        },
        "id": "55OfScHyRjRk",
        "outputId": "1d534266-2653-4dd8-e46d-5194cb0c5d64"
      },
      "execution_count": 236,
      "outputs": [
        {
          "output_type": "execute_result",
          "data": {
            "text/plain": [
              "<matplotlib.axes._subplots.AxesSubplot at 0x7f5a526f1d00>"
            ]
          },
          "metadata": {},
          "execution_count": 236
        },
        {
          "output_type": "display_data",
          "data": {
            "text/plain": [
              "<Figure size 432x288 with 1 Axes>"
            ],
            "image/png": "[encoded data removed]"
          },
          "metadata": {
            "needs_background": "light"
          }
        }
      ]
    },
    {
      "cell_type": "markdown",
      "source": [
        "## 2.5. Dataset de Preços de Combustíveis"
      ],
      "metadata": {
        "id": "tQ7GTUd1qii4"
      }
    },
    {
      "cell_type": "markdown",
      "source": [
        "### 2.5.1. Leitura dos datasets"
      ],
      "metadata": {
        "id": "qMCv3ruJQeDz"
      }
    },
    {
      "cell_type": "code",
      "source": [
        "# Cria a sessão spark\n",
        "spark = (SparkSession.builder.\n",
        "         master('local').\n",
        "         appName('structtype').\n",
        "         getOrCreate())"
      ],
      "metadata": {
        "id": "xznG_Iqnqf1w"
      },
      "execution_count": 14,
      "outputs": []
    },
    {
      "cell_type": "code",
      "source": [
        "spark "
      ],
      "metadata": {
        "colab": {
          "base_uri": "https://localhost:8080/",
          "height": 219
        },
        "id": "sh3-oKk8rnxX",
        "outputId": "3321a9ff-c49f-42db-badc-c08fa0ea5968"
      },
      "execution_count": 15,
      "outputs": [
        {
          "output_type": "execute_result",
          "data": {
            "text/plain": [
              "<pyspark.sql.session.SparkSession at 0x7f5a54b89280>"
            ],
            "text/html": [
              "\n",
              "            <div>\n",
              "                <p><b>SparkSession - in-memory</b></p>\n",
              "                \n",
              "        <div>\n",
              "            <p><b>SparkContext</b></p>\n",
              "\n",
              "            <p><a href=\"http://5a56e2cf5e4d:4040\">Spark UI</a></p>\n",
              "\n",
              "            <dl>\n",
              "              <dt>Version</dt>\n",
              "                <dd><code>v3.3.1</code></dd>\n",
              "              <dt>Master</dt>\n",
              "                <dd><code>local</code></dd>\n",
              "              <dt>AppName</dt>\n",
              "                <dd><code>structtype</code></dd>\n",
              "            </dl>\n",
              "        </div>\n",
              "        \n",
              "            </div>\n",
              "        "
            ]
          },
          "metadata": {},
          "execution_count": 15
        }
      ]
    },
    {
      "cell_type": "markdown",
      "source": [
        "> **Construção do esquema com o Struct Type**"
      ],
      "metadata": {
        "id": "fe98M2ZgRBo_"
      }
    },
    {
      "cell_type": "code",
      "source": [
        "schemat = StructType([StructField('DATA INICIAL', DateType(), True),\n",
        "                     StructField('DATA FINAL', DateType(), True),\n",
        "                     StructField('REGIÃO', StringType(), True),\n",
        "                     StructField('ESTADO', StringType(), True),\n",
        "                     StructField('PRODUTO', StringType(), True),\n",
        "                     StructField('NÚMERO DE POSTOS PESQUISADOS', IntegerType(), True),\n",
        "                     StructField('UNIDADE DE MEDIDA', StringType(), True),\n",
        "                     StructField('PREÇO MÉDIO REVENDA', FloatType(), True),\n",
        "                     StructField('DESVIO PADRÃO REVENDA', FloatType(), True),\n",
        "                     StructField('PREÇO MÍNIMO REVENDA', FloatType(), True),\n",
        "                     StructField('PREÇO MÁXIMO REVENDA', FloatType(), True),\n",
        "                     StructField('MARGEM MÉDIA REVENDA', StringType(), True),\n",
        "                     StructField('COEF DE VARIAÇÃO REVENDA', FloatType(), True),\n",
        "                     StructField('PREÇO MÉDIO DISTRIBUIÇÃO', StringType(), True),\n",
        "                     StructField('DESVIO PADRÃO DISTRIBUIÇÃO', StringType(), True),\n",
        "                     StructField('PREÇO MÍNIMO DISTRIBUIÇÃO', StringType(), True),\n",
        "                     StructField('PREÇO MÁXIMO DISTRIBUIÇÃO', StringType(), True),\n",
        "                     StructField('COEF DE VARIAÇÃO DISTRIBUIÇÃO', StringType(), True)])"
      ],
      "metadata": {
        "id": "RJKmIDpgrwMb"
      },
      "execution_count": 16,
      "outputs": []
    },
    {
      "cell_type": "markdown",
      "source": [
        "> **Leitura dos datasets com a aplicação do schema acima**"
      ],
      "metadata": {
        "id": "lkEEY3BURRtQ"
      }
    },
    {
      "cell_type": "code",
      "source": [
        "dft = pd.read_excel('https://storage.googleapis.com/projeto-final-equipe4/arquivos_brutos/df1preco_bruto.xlsx',usecols='B:S')\n",
        "dfpreco1 = spark.createDataFrame(dft, schema=schemat)\n",
        "\n",
        "dft = pd.read_excel('https://storage.googleapis.com/projeto-final-equipe4/arquivos_brutos/df2preco_bruto.xlsx',usecols='B:S')\n",
        "dfpreco2 = spark.createDataFrame(dft, schema=schemat)\n"
      ],
      "metadata": {
        "id": "Yuiv2CTrtFW-"
      },
      "execution_count": 170,
      "outputs": []
    },
    {
      "cell_type": "markdown",
      "source": [
        "### 2.5.2. Pré-análise do dataframe"
      ],
      "metadata": {
        "id": "FLam_jWQRezy"
      }
    },
    {
      "cell_type": "code",
      "source": [
        "dfpreco1.show(2)"
      ],
      "metadata": {
        "colab": {
          "base_uri": "https://localhost:8080/"
        },
        "id": "rj_6T3sTv9UD",
        "outputId": "4402dfda-1ded-432f-ff0d-d506cbf20885"
      },
      "execution_count": 171,
      "outputs": [
        {
          "output_type": "stream",
          "name": "stdout",
          "text": [
            "+------------+----------+------------+----------------+----------------+----------------------------+-----------------+-------------------+---------------------+--------------------+--------------------+--------------------+------------------------+------------------------+--------------------------+-------------------------+-------------------------+-----------------------------+\n",
            "|DATA INICIAL|DATA FINAL|      REGIÃO|          ESTADO|         PRODUTO|NÚMERO DE POSTOS PESQUISADOS|UNIDADE DE MEDIDA|PREÇO MÉDIO REVENDA|DESVIO PADRÃO REVENDA|PREÇO MÍNIMO REVENDA|PREÇO MÁXIMO REVENDA|MARGEM MÉDIA REVENDA|COEF DE VARIAÇÃO REVENDA|PREÇO MÉDIO DISTRIBUIÇÃO|DESVIO PADRÃO DISTRIBUIÇÃO|PREÇO MÍNIMO DISTRIBUIÇÃO|PREÇO MÁXIMO DISTRIBUIÇÃO|COEF DE VARIAÇÃO DISTRIBUIÇÃO|\n",
            "+------------+----------+------------+----------------+----------------+----------------------------+-----------------+-------------------+---------------------+--------------------+--------------------+--------------------+------------------------+------------------------+--------------------------+-------------------------+-------------------------+-----------------------------+\n",
            "|  2004-05-09|2004-05-15|CENTRO OESTE|DISTRITO FEDERAL|ETANOL HIDRATADO|                         127|             R$/l|              1.288|                0.016|                1.19|                1.35|               0.463|                   0.012|                   0.825|                      0.11|                   0.4201|                   0.9666|                        0.133|\n",
            "|  2004-05-09|2004-05-15|CENTRO OESTE|           GOIAS|ETANOL HIDRATADO|                         387|             R$/l|              1.162|                0.114|                0.89|               1.449|               0.399|                   0.098|                   0.763|                     0.088|                   0.5013|                     1.05|                        0.115|\n",
            "+------------+----------+------------+----------------+----------------+----------------------------+-----------------+-------------------+---------------------+--------------------+--------------------+--------------------+------------------------+------------------------+--------------------------+-------------------------+-------------------------+-----------------------------+\n",
            "only showing top 2 rows\n",
            "\n"
          ]
        }
      ]
    },
    {
      "cell_type": "code",
      "source": [
        "dfpreco2.show(2)"
      ],
      "metadata": {
        "colab": {
          "base_uri": "https://localhost:8080/"
        },
        "id": "Y-hCMl6PwAk2",
        "outputId": "9835f9c9-573f-4436-be98-dd6bb0d59ab9"
      },
      "execution_count": 172,
      "outputs": [
        {
          "output_type": "stream",
          "name": "stdout",
          "text": [
            "+------------+----------+--------+-------+----------------+----------------------------+-----------------+-------------------+---------------------+--------------------+--------------------+--------------------+------------------------+------------------------+--------------------------+-------------------------+-------------------------+-----------------------------+\n",
            "|DATA INICIAL|DATA FINAL|  REGIÃO| ESTADO|         PRODUTO|NÚMERO DE POSTOS PESQUISADOS|UNIDADE DE MEDIDA|PREÇO MÉDIO REVENDA|DESVIO PADRÃO REVENDA|PREÇO MÍNIMO REVENDA|PREÇO MÁXIMO REVENDA|MARGEM MÉDIA REVENDA|COEF DE VARIAÇÃO REVENDA|PREÇO MÉDIO DISTRIBUIÇÃO|DESVIO PADRÃO DISTRIBUIÇÃO|PREÇO MÍNIMO DISTRIBUIÇÃO|PREÇO MÁXIMO DISTRIBUIÇÃO|COEF DE VARIAÇÃO DISTRIBUIÇÃO|\n",
            "+------------+----------+--------+-------+----------------+----------------------------+-----------------+-------------------+---------------------+--------------------+--------------------+--------------------+------------------------+------------------------+--------------------------+-------------------------+-------------------------+-----------------------------+\n",
            "|  2012-12-30|2013-01-05|   NORTE|   ACRE|ETANOL HIDRATADO|                          33|             R$/l|              2.553|                0.098|                2.42|                 3.0|               0.428|                   0.038|                   2.125|                      0.17|                   1.6239|                   2.2744|                         0.08|\n",
            "|  2012-12-30|2013-01-05|NORDESTE|ALAGOAS|ETANOL HIDRATADO|                          97|             R$/l|              2.308|                0.066|                2.19|                2.44|                0.27|                   0.029|                   2.038|                     0.061|                   1.9056|                   2.2231|                         0.03|\n",
            "+------------+----------+--------+-------+----------------+----------------------------+-----------------+-------------------+---------------------+--------------------+--------------------+--------------------+------------------------+------------------------+--------------------------+-------------------------+-------------------------+-----------------------------+\n",
            "only showing top 2 rows\n",
            "\n"
          ]
        }
      ]
    },
    {
      "cell_type": "markdown",
      "source": [
        "### 2.5.3. Tratamentos"
      ],
      "metadata": {
        "id": "Pi3UouJzRpX3"
      }
    },
    {
      "cell_type": "markdown",
      "source": [
        "> **Unindo os dois Dataframes, pois têm as mesmas colunas**"
      ],
      "metadata": {
        "id": "ceRkn04VSAGv"
      }
    },
    {
      "cell_type": "code",
      "source": [
        "dfpreco = dfpreco1.union(dfpreco2)"
      ],
      "metadata": {
        "id": "wtiSh3NTv6ES"
      },
      "execution_count": 173,
      "outputs": []
    },
    {
      "cell_type": "code",
      "source": [
        "dfpreco.dtypes"
      ],
      "metadata": {
        "colab": {
          "base_uri": "https://localhost:8080/"
        },
        "id": "o5YsPuumz9DV",
        "outputId": "d03126a4-0b20-4970-c621-c705b65b67cb"
      },
      "execution_count": 174,
      "outputs": [
        {
          "output_type": "execute_result",
          "data": {
            "text/plain": [
              "[('DATA INICIAL', 'date'),\n",
              " ('DATA FINAL', 'date'),\n",
              " ('REGIÃO', 'string'),\n",
              " ('ESTADO', 'string'),\n",
              " ('PRODUTO', 'string'),\n",
              " ('NÚMERO DE POSTOS PESQUISADOS', 'int'),\n",
              " ('UNIDADE DE MEDIDA', 'string'),\n",
              " ('PREÇO MÉDIO REVENDA', 'float'),\n",
              " ('DESVIO PADRÃO REVENDA', 'float'),\n",
              " ('PREÇO MÍNIMO REVENDA', 'float'),\n",
              " ('PREÇO MÁXIMO REVENDA', 'float'),\n",
              " ('MARGEM MÉDIA REVENDA', 'string'),\n",
              " ('COEF DE VARIAÇÃO REVENDA', 'float'),\n",
              " ('PREÇO MÉDIO DISTRIBUIÇÃO', 'string'),\n",
              " ('DESVIO PADRÃO DISTRIBUIÇÃO', 'string'),\n",
              " ('PREÇO MÍNIMO DISTRIBUIÇÃO', 'string'),\n",
              " ('PREÇO MÁXIMO DISTRIBUIÇÃO', 'string'),\n",
              " ('COEF DE VARIAÇÃO DISTRIBUIÇÃO', 'string')]"
            ]
          },
          "metadata": {},
          "execution_count": 174
        }
      ]
    },
    {
      "cell_type": "code",
      "source": [
        "backup = dfpreco"
      ],
      "metadata": {
        "id": "Ty6D27nSw9Z0"
      },
      "execution_count": null,
      "outputs": []
    },
    {
      "cell_type": "markdown",
      "source": [
        "> **Seleção do período definido para o escopo do projeto**"
      ],
      "metadata": {
        "id": "IOXTvMlHSGEY"
      }
    },
    {
      "cell_type": "code",
      "source": [
        "dfpreco = dfpreco.filter(F.col('DATA INICIAL') >= '2012-01-01')"
      ],
      "metadata": {
        "id": "j0SXD346vcO9"
      },
      "execution_count": 175,
      "outputs": []
    },
    {
      "cell_type": "markdown",
      "source": [
        "> **Remoção uma data que não será usada**"
      ],
      "metadata": {
        "id": "a9qCjXXASP9S"
      }
    },
    {
      "cell_type": "code",
      "source": [
        "dfpreco = dfpreco.drop('DATA FINAL')"
      ],
      "metadata": {
        "id": "mWRoUhmI2RsV"
      },
      "execution_count": 176,
      "outputs": []
    },
    {
      "cell_type": "markdown",
      "source": [
        "> **Renomeção das colunas**"
      ],
      "metadata": {
        "id": "f1igRmKvSUXp"
      }
    },
    {
      "cell_type": "code",
      "source": [
        "dfpreco = dfpreco.withColumnRenamed('DATA INICIAL','data')\\\n",
        ".withColumnRenamed('REGIÃO','regiao')\\\n",
        ".withColumnRenamed('ESTADO','estado')\\\n",
        ".withColumnRenamed('PRODUTO','produto')\\\n",
        ".withColumnRenamed('NÚMERO DE POSTOS PESQUISADOS','postos_pesquisados')\\\n",
        ".withColumnRenamed('UNIDADE DE MEDIDA','uni_medida')\\\n",
        ".withColumnRenamed('PREÇO MÉDIO REVENDA','media_rev')\\\n",
        ".withColumnRenamed('DESVIO PADRÃO REVENDA','desvio_rev')\\\n",
        ".withColumnRenamed('PREÇO MÍNIMO REVENDA','preco_min_rev')\\\n",
        ".withColumnRenamed('PREÇO MÁXIMO REVENDA','preco_max_rev')\\\n",
        ".withColumnRenamed('MARGEM MÉDIA REVENDA','margem_rev')\\\n",
        ".withColumnRenamed('COEF DE VARIAÇÃO REVENDA','coef_var_rev')\\\n",
        ".withColumnRenamed('PREÇO MÉDIO DISTRIBUIÇÃO','media_dist')\\\n",
        ".withColumnRenamed('DESVIO PADRÃO DISTRIBUIÇÃO','dp_dist')\\\n",
        ".withColumnRenamed('PREÇO MÍNIMO DISTRIBUIÇÃO','preco_min_dist')\\\n",
        ".withColumnRenamed('PREÇO MÁXIMO DISTRIBUIÇÃO','preco_max_dist')\\\n",
        ".withColumnRenamed('COEF DE VARIAÇÃO DISTRIBUIÇÃO','coef_var_dist')"
      ],
      "metadata": {
        "id": "2F3yKyYPxHad"
      },
      "execution_count": 177,
      "outputs": []
    },
    {
      "cell_type": "markdown",
      "source": [
        "> **Conversão de tipos de colunas**"
      ],
      "metadata": {
        "id": "INyQyjs8Sx5z"
      }
    },
    {
      "cell_type": "code",
      "source": [
        "# Inserção do nome de todas as colunas que deveriam ser float mas são string em uma lista\n",
        "colunas = ['margem_rev', 'media_dist', 'dp_dist', \n",
        "           'preco_min_dist', 'preco_max_dist', 'coef_var_dist']\n",
        "\n",
        "# Substituição de todas as strings '-' por 0\n",
        "for i in colunas:\n",
        "    dfpreco = dfpreco.withColumn(i, F.regexp_replace(i, '-', '0'))\n",
        "\n",
        "dfpreco = dfpreco.withColumn(\"margem_rev\",F.col(\"margem_rev\").cast(FloatType()))\\\n",
        "                 .withColumn(\"media_dist\",F.col(\"media_dist\").cast(FloatType()))\\\n",
        "                 .withColumn(\"dp_dist\",F.col(\"dp_dist\").cast(FloatType()))\\\n",
        "                 .withColumn(\"preco_min_dist\",F.col(\"preco_min_dist\").cast(FloatType()))\\\n",
        "                 .withColumn(\"preco_max_dist\",F.col(\"preco_max_dist\").cast(FloatType()))\\\n",
        "                 .withColumn(\"coef_var_dist\",F.col(\"coef_var_dist\").cast(FloatType()))"
      ],
      "metadata": {
        "id": "OCfBaV-Qw64m"
      },
      "execution_count": 178,
      "outputs": []
    },
    {
      "cell_type": "code",
      "source": [
        "dfpreco.dtypes"
      ],
      "metadata": {
        "colab": {
          "base_uri": "https://localhost:8080/"
        },
        "id": "q9a8XhR91OQi",
        "outputId": "f49ef33e-2524-4cdb-a355-22a9602f75b4"
      },
      "execution_count": 179,
      "outputs": [
        {
          "output_type": "execute_result",
          "data": {
            "text/plain": [
              "[('data', 'date'),\n",
              " ('regiao', 'string'),\n",
              " ('estado', 'string'),\n",
              " ('produto', 'string'),\n",
              " ('postos_pesquisados', 'int'),\n",
              " ('uni_medida', 'string'),\n",
              " ('media_rev', 'float'),\n",
              " ('desvio_rev', 'float'),\n",
              " ('preco_min_rev', 'float'),\n",
              " ('preco_max_rev', 'float'),\n",
              " ('margem_rev', 'float'),\n",
              " ('coef_var_rev', 'float'),\n",
              " ('media_dist', 'float'),\n",
              " ('dp_dist', 'float'),\n",
              " ('preco_min_dist', 'float'),\n",
              " ('preco_max_dist', 'float'),\n",
              " ('coef_var_dist', 'float')]"
            ]
          },
          "metadata": {},
          "execution_count": 179
        }
      ]
    },
    {
      "cell_type": "markdown",
      "source": [
        "> **Checagem de inconsistências nas colunas**"
      ],
      "metadata": {
        "id": "ahxdhwJfTAoj"
      }
    },
    {
      "cell_type": "code",
      "source": [
        "dfpreco.select('margem_rev').distinct().show()"
      ],
      "metadata": {
        "colab": {
          "base_uri": "https://localhost:8080/"
        },
        "id": "D8sszMnE02eB",
        "outputId": "0e3ecfb6-d5fc-4c51-88d8-c713bb0216a8"
      },
      "execution_count": 180,
      "outputs": [
        {
          "output_type": "stream",
          "name": "stdout",
          "text": [
            "+----------+\n",
            "|margem_rev|\n",
            "+----------+\n",
            "|     0.202|\n",
            "|     0.279|\n",
            "|     0.388|\n",
            "|     6.528|\n",
            "|      8.26|\n",
            "|     5.859|\n",
            "|     7.243|\n",
            "|     0.189|\n",
            "|     0.265|\n",
            "|     0.115|\n",
            "|     9.431|\n",
            "|     5.931|\n",
            "|     9.494|\n",
            "|     9.997|\n",
            "|    11.561|\n",
            "|     13.03|\n",
            "|     7.891|\n",
            "|     10.51|\n",
            "|      4.96|\n",
            "|     0.474|\n",
            "+----------+\n",
            "only showing top 20 rows\n",
            "\n"
          ]
        }
      ]
    },
    {
      "cell_type": "markdown",
      "source": [
        "> **Tratamento de inconsistências**"
      ],
      "metadata": {
        "id": "nsd1WqI6TIxv"
      }
    },
    {
      "cell_type": "code",
      "source": [
        "#transforma 'kg' em 'Kg'\n",
        "dfpreco = dfpreco.withColumn('uni_medida', F.regexp_replace('uni_medida', 'kg', 'Kg'))"
      ],
      "metadata": {
        "id": "7Vmnuhq6zcrK"
      },
      "execution_count": 181,
      "outputs": []
    },
    {
      "cell_type": "code",
      "source": [
        "#transforma 'OLEO DIESEL' em 'ÓLEO DIESEL'\n",
        "dfpreco = dfpreco.withColumn('produto', F.regexp_replace('produto', 'OLEO DIESEL', 'ÓLEO DIESEL'))"
      ],
      "metadata": {
        "id": "W0Gyq1lvz6Ll"
      },
      "execution_count": 182,
      "outputs": []
    },
    {
      "cell_type": "markdown",
      "source": [
        "#3. CARREGAMENTO"
      ],
      "metadata": {
        "id": "z7_IffmpjcAc"
      }
    },
    {
      "cell_type": "markdown",
      "source": [
        "> **Conexão à Conta de Serviço atrelada ao Bucket utilizando as crendenciais dela com uma chave json**"
      ],
      "metadata": {
        "id": "DlbapomoZwJ4"
      }
    },
    {
      "cell_type": "code",
      "source": [
        "# Conexão à Conta de Serviço atrelada ao bucket utilizando a chave json\n",
        "serviceAccount = '/content/sc-bc26-ed7-adb0dc2607d9.json'\n",
        "os.environ['GOOGLE_APPLICATION_CREDENTIALS'] = serviceAccount"
      ],
      "metadata": {
        "id": "ssiNFVRxjcia"
      },
      "execution_count": null,
      "outputs": []
    },
    {
      "cell_type": "markdown",
      "source": [
        "## 3.1. Carregamento Dataframe de Produção de biocombustível para o Cloud Storage"
      ],
      "metadata": {
        "id": "_n1P3C-EVnBU"
      }
    },
    {
      "cell_type": "code",
      "source": [
        "dfbio.to_csv('gs://projeto-final-equipe4/arquivos_trat/dfbio_trat',\n",
        "               storage_options={'token':'/content/sc-bc26-ed7-adb0dc2607d9.json',index=False})"
      ],
      "metadata": {
        "id": "-6ljOizGV__f"
      },
      "execution_count": null,
      "outputs": []
    },
    {
      "cell_type": "markdown",
      "source": [
        "## 3.2 Carregamento Dataframe de Produção de Petróleo e Gás Natural para o Cloud Storage"
      ],
      "metadata": {
        "id": "smOZ2o5FYD_V"
      }
    },
    {
      "cell_type": "code",
      "source": [
        "dfgaspet.to_csv('gs://projeto-final-equipe4/arquivos_trat/dfproducaopetgas_trat',\n",
        "               storage_options={'token':'/content/sc-bc26-ed7-adb0dc2607d9.json',index=False})"
      ],
      "metadata": {
        "id": "L5DNmJr8YfGI"
      },
      "execution_count": null,
      "outputs": []
    },
    {
      "cell_type": "markdown",
      "source": [
        "## 3.3 Carregamento Dataframe de Produção de Derivados de Petróleo"
      ],
      "metadata": {
        "id": "B26cTyV-Bu8r"
      }
    },
    {
      "cell_type": "code",
      "source": [
        "dfder.to_csv('gs://projeto-final-equipe4/arquivos_trat/dfderivados_trat',\n",
        "               storage_options={'token':'/content/sc-bc26-ed7-adb0dc2607d9.json',index=False})"
      ],
      "metadata": {
        "id": "mk_zVkcs-ACt"
      },
      "execution_count": null,
      "outputs": []
    },
    {
      "cell_type": "markdown",
      "source": [
        "## 3.4. Carregamento Dataframe de Importações e Exportações de Combustíveis"
      ],
      "metadata": {
        "id": "Uy0MHio8Xc1F"
      }
    },
    {
      "cell_type": "code",
      "source": [
        "dfimex.to_csv('gs://projeto-final-equipe4/arquivos_trat/dfimport-export_trat.csv',\n",
        "               storage_options={'token':'/content/sc-bc26-ed7-adb0dc2607d9.json',index=False})"
      ],
      "metadata": {
        "id": "euZrA20mXcfO"
      },
      "execution_count": null,
      "outputs": []
    },
    {
      "cell_type": "markdown",
      "source": [
        "## 3.5. Carregamento Dataframe da Série História de Preços de Combustíveis "
      ],
      "metadata": {
        "id": "gR-qOGNH1oMS"
      }
    },
    {
      "cell_type": "code",
      "source": [
        "dfPandas=dfpreco.toPandas()\n",
        "dfPandas.to_csv('gs://projeto-final-equipe4/arquivos_trat/dfprecos.csv', storage_options={'token':'/content/sc-bc26-ed7-adb0dc2607d9.json'},index=False)"
      ],
      "metadata": {
        "id": "tgvCfqsp1n2x"
      },
      "execution_count": 186,
      "outputs": []
    },
    {
      "cell_type": "markdown",
      "source": [
        "## 3.6. Carregamento para o mongoDB"
      ],
      "metadata": {
        "id": "lZSj7k_vIpCz"
      }
    },
    {
      "cell_type": "markdown",
      "source": [
        "> **Conexão ao usuário MongoDB a partir de certificado X.509**"
      ],
      "metadata": {
        "id": "x6ZB66YsYLE6"
      }
    },
    {
      "cell_type": "code",
      "source": [
        "uri = \"mongodb+srv://erica-soulcode.7jfrfcs.mongodb.net/?authSource=%24external&authMechanism=MONGODB-X509&retryWrites=true&w=majority\"\n",
        "client = MongoClient(uri,tls=True,tlsCertificateKeyFile='/content/X509-cert-8089168769125785989.pem')\n",
        "\n",
        "db = client['projeto_final_combustiveis_viacolab']"
      ],
      "metadata": {
        "id": "TsdGn4E1Ions"
      },
      "execution_count": 246,
      "outputs": []
    },
    {
      "cell_type": "markdown",
      "source": [
        "> **Utilização de python puro para inserir e checar se os dados tratados foram enviados**"
      ],
      "metadata": {
        "id": "ycqfIZ7sYuxz"
      }
    },
    {
      "cell_type": "code",
      "source": [
        "datasets = ['dfderivados_trat','dfbio_trat','dfproducaopetgas_trat']\n",
        "\n",
        "for x in datasets:\n",
        "  colecao = db[f'{x}ado']\n",
        "  df = pd.read_csv(f'https://storage.googleapis.com/projeto-final-equipe4/arquivos_trat/{x}')\n",
        "  df_dict = df.to_dict('records')\n",
        "  colecao.insert_many(df_dict)\n",
        "  print(f'Database \"{x}\" adicionado ao mongoDB. Número de documentos criados: {colecao.count_documents({})}')"
      ],
      "metadata": {
        "colab": {
          "base_uri": "https://localhost:8080/"
        },
        "id": "DetyCry2R_3p",
        "outputId": "fc0cd863-f8e6-4e2c-8506-c40fe4e91b61"
      },
      "execution_count": 249,
      "outputs": [
        {
          "output_type": "stream",
          "name": "stdout",
          "text": [
            "Database \"dfderivados_trat\" adicionado ao mongoDB. Número de documentos criados: 17264\n",
            "Database \"dfbio_trat\" adicionado ao mongoDB. Número de documentos criados: 18051\n",
            "Database \"dfproducaopetgas_trat\" adicionado ao mongoDB. Número de documentos criados: 5275\n"
          ]
        }
      ]
    },
    {
      "cell_type": "markdown",
      "source": [
        "## 3.7 Envio dos Dataframes para o Big Query"
      ],
      "metadata": {
        "id": "mHCFpNu7-2Eo"
      }
    },
    {
      "cell_type": "markdown",
      "source": [
        "> **Utilizando a biblioteca pandas_gbq para enviar o dataframe diretamente ao Big Query**"
      ],
      "metadata": {
        "id": "p-gu89y6_gFf"
      }
    },
    {
      "cell_type": "code",
      "source": [
        "pandas_gbq.to_gbq(dfbio,'projetofinal.df_bio_tratado', project_id='sc-bc26-ed7', if_exists='replace')"
      ],
      "metadata": {
        "colab": {
          "base_uri": "https://localhost:8080/"
        },
        "id": "GvTEgJL2KmxX",
        "outputId": "6355f828-c0f7-47d4-8110-e343b12ced3a"
      },
      "execution_count": 73,
      "outputs": [
        {
          "output_type": "stream",
          "name": "stderr",
          "text": [
            "100%|██████████| 1/1 [00:00<00:00, 1067.52it/s]\n"
          ]
        }
      ]
    },
    {
      "cell_type": "code",
      "source": [
        "pandas_gbq.to_gbq(dfder,'projetofinal.df_derivados_tratado', project_id='sc-bc26-ed7', if_exists='replace')"
      ],
      "metadata": {
        "colab": {
          "base_uri": "https://localhost:8080/"
        },
        "id": "X5MHndltLQAu",
        "outputId": "aa5232a0-b640-489c-8b11-29790c82fd90"
      },
      "execution_count": 91,
      "outputs": [
        {
          "output_type": "stream",
          "name": "stderr",
          "text": [
            "100%|██████████| 1/1 [00:00<00:00, 701.98it/s]\n"
          ]
        }
      ]
    },
    {
      "cell_type": "code",
      "source": [
        "pandas_gbq.to_gbq(dfgaspet, 'projetofinal.df_gaspet_tratado', project_id = 'sc-bc26-ed7', if_exists = 'replace')"
      ],
      "metadata": {
        "colab": {
          "base_uri": "https://localhost:8080/"
        },
        "id": "BpnMh-xfLQf7",
        "outputId": "bc1194b1-6e6c-4b27-f7fb-ea5bc10b8640"
      },
      "execution_count": 128,
      "outputs": [
        {
          "output_type": "stream",
          "name": "stderr",
          "text": [
            "100%|██████████| 1/1 [00:00<00:00, 1337.04it/s]\n"
          ]
        }
      ]
    },
    {
      "cell_type": "markdown",
      "source": [
        "> **Definindo o Schema da tabela para envio e após enviando**\n",
        "\n",
        "Algumas vezes há problemas na inferência dos tipos das colunas"
      ],
      "metadata": {
        "id": "2tHM4BaYAWdc"
      }
    },
    {
      "cell_type": "code",
      "source": [
        "esquema = [{'name':'data','type':'DATETIME'},{'name':'produto','type':'STRING'}\n",
        "           ,{'name':'operacao_comercial','type':'STRING'},{'name':'importado_exportado','type':'BIGNUMERIC'},\n",
        "           {'name':'dispendio_receita','type':'BIGNUMERIC'}]\n",
        "\n",
        "pandas_gbq.to_gbq(dfimex, 'projetofinal.df_impoexpo_tratado', project_id = 'sc-bc26-ed7', \n",
        "                  if_exists = 'replace',table_schema=esquema, api_method=\"load_csv\")"
      ],
      "metadata": {
        "id": "yB0o5QwnNi3W"
      },
      "execution_count": null,
      "outputs": []
    },
    {
      "cell_type": "code",
      "source": [
        "esquema = [{'name':'data','type':'DATE'}]\n",
        "pandas_gbq.to_gbq(dfPandas, 'projetofinal.df_precos_tratado', project_id = 'sc-bc26-ed7', \n",
        "                  if_exists = 'replace', table_schema = esquema)\n"
      ],
      "metadata": {
        "colab": {
          "base_uri": "https://localhost:8080/"
        },
        "id": "c9NESCMbO91L",
        "outputId": "bfee3e48-0dec-4a6d-8a65-859905b270a1"
      },
      "execution_count": 244,
      "outputs": [
        {
          "output_type": "stream",
          "name": "stderr",
          "text": [
            "100%|██████████| 1/1 [00:00<00:00, 6944.21it/s]\n"
          ]
        }
      ]
    }
  ]
}