{
  "nbformat": 4,
  "nbformat_minor": 0,
  "metadata": {
    "colab": {
      "provenance": [],
      "authorship_tag": "ABX9TyPjnEjw4OpvSV4wzKtPSBSK",
      "include_colab_link": true
    },
    "kernelspec": {
      "name": "python3",
      "display_name": "Python 3"
    },
    "language_info": {
      "name": "python"
    }
  },
  "cells": [
    {
      "cell_type": "markdown",
      "metadata": {
        "id": "view-in-github",
        "colab_type": "text"
      },
      "source": [
        "<a href=\"https://colab.research.google.com/github/caioitalo/soulcode/blob/main/Pr%C3%A1tica_MongoDB_Pandas.ipynb\" target=\"_parent\"><img src=\"https://colab.research.google.com/assets/colab-badge.svg\" alt=\"Open In Colab\"/></a>"
      ]
    },
    {
      "cell_type": "markdown",
      "source": [
        "# **Utilizando um Banco de dados base do próprio MongoDB foi feito um ETL sobre o dataset, utilizando conhecimentos de MongoDB e Pandas.**"
      ],
      "metadata": {
        "id": "Zvo9BJSCwJaW"
      }
    },
    {
      "cell_type": "markdown",
      "source": [
        "# EXTRAÇÃO DOS DADOS"
      ],
      "metadata": {
        "id": "KlKVSLs0w7M0"
      }
    },
    {
      "cell_type": "code",
      "source": [
        "!pip install pandera"
      ],
      "metadata": {
        "id": "_r_H7Lttw6fL",
        "colab": {
          "base_uri": "https://localhost:8080/"
        },
        "outputId": "9d969b0f-6c4f-4e27-f5b4-c836319ed887"
      },
      "execution_count": 1,
      "outputs": [
        {
          "output_type": "stream",
          "name": "stdout",
          "text": [
            "Looking in indexes: https://pypi.org/simple, https://us-python.pkg.dev/colab-wheels/public/simple/\n",
            "Collecting pandera\n",
            "  Downloading pandera-0.13.4-py3-none-any.whl (122 kB)\n",
            "\u001b[K     |████████████████████████████████| 122 kB 4.8 MB/s \n",
            "\u001b[?25hRequirement already satisfied: packaging>=20.0 in /usr/local/lib/python3.8/dist-packages (from pandera) (21.3)\n",
            "Requirement already satisfied: wrapt in /usr/local/lib/python3.8/dist-packages (from pandera) (1.14.1)\n",
            "Requirement already satisfied: numpy>=1.19.0 in /usr/local/lib/python3.8/dist-packages (from pandera) (1.21.6)\n",
            "Requirement already satisfied: pandas>=1.2.0 in /usr/local/lib/python3.8/dist-packages (from pandera) (1.3.5)\n",
            "Requirement already satisfied: pydantic in /usr/local/lib/python3.8/dist-packages (from pandera) (1.10.2)\n",
            "Collecting typing-inspect>=0.6.0\n",
            "  Downloading typing_inspect-0.8.0-py3-none-any.whl (8.7 kB)\n",
            "Requirement already satisfied: pyparsing!=3.0.5,>=2.0.2 in /usr/local/lib/python3.8/dist-packages (from packaging>=20.0->pandera) (3.0.9)\n",
            "Requirement already satisfied: python-dateutil>=2.7.3 in /usr/local/lib/python3.8/dist-packages (from pandas>=1.2.0->pandera) (2.8.2)\n",
            "Requirement already satisfied: pytz>=2017.3 in /usr/local/lib/python3.8/dist-packages (from pandas>=1.2.0->pandera) (2022.6)\n",
            "Requirement already satisfied: six>=1.5 in /usr/local/lib/python3.8/dist-packages (from python-dateutil>=2.7.3->pandas>=1.2.0->pandera) (1.15.0)\n",
            "Requirement already satisfied: typing-extensions>=3.7.4 in /usr/local/lib/python3.8/dist-packages (from typing-inspect>=0.6.0->pandera) (4.1.1)\n",
            "Collecting mypy-extensions>=0.3.0\n",
            "  Downloading mypy_extensions-0.4.3-py2.py3-none-any.whl (4.5 kB)\n",
            "Installing collected packages: mypy-extensions, typing-inspect, pandera\n",
            "Successfully installed mypy-extensions-0.4.3 pandera-0.13.4 typing-inspect-0.8.0\n"
          ]
        }
      ]
    },
    {
      "cell_type": "code",
      "execution_count": 2,
      "metadata": {
        "id": "8Td7JjqFmmQ4"
      },
      "outputs": [],
      "source": [
        "import pandas as pd\n",
        "import pandera as pa\n",
        "import numpy as np"
      ]
    },
    {
      "cell_type": "markdown",
      "source": [
        "## Importação do dataset a partir de certificado do MongoDB"
      ],
      "metadata": {
        "id": "F300t3Pt_hLU"
      }
    },
    {
      "cell_type": "code",
      "source": [
        "from pymongo import MongoClient\n",
        "\n",
        "uri = \"mongodb+srv://caio-soulcode.o09ab0z.mongodb.net/?authSource=%24external&authMechanism=MONGODB-X509&retryWrites=true&w=majority\"\n",
        "client = MongoClient(uri, tls=True, tlsCertificateKeyFile='/content/X509-cert-9074189039604702649.pem')\n",
        "\n",
        "db = client['sample_supplies']\n",
        "colecao = db['sales']\n"
      ],
      "metadata": {
        "id": "Tvje_UGrxKQM"
      },
      "execution_count": 3,
      "outputs": []
    },
    {
      "cell_type": "code",
      "source": [
        "cursor = colecao.find({})\n",
        "df = pd.DataFrame(list(cursor))"
      ],
      "metadata": {
        "id": "Ru0AX5SxyxyG"
      },
      "execution_count": 4,
      "outputs": []
    },
    {
      "cell_type": "markdown",
      "source": [
        "## Backup do Data Frame"
      ],
      "metadata": {
        "id": "_5eNVJrE_0Nf"
      }
    },
    {
      "cell_type": "code",
      "source": [
        "dfback = df.copy()"
      ],
      "metadata": {
        "id": "ZxKK3F9h7BpC"
      },
      "execution_count": 5,
      "outputs": []
    },
    {
      "cell_type": "code",
      "source": [
        "# use somente caso dê erro no dataframe\n",
        "df = dfback.copy()"
      ],
      "metadata": {
        "id": "CAmmSyIb_lsp"
      },
      "execution_count": null,
      "outputs": []
    },
    {
      "cell_type": "markdown",
      "source": [
        "#TRANSFORMAÇÃO DOS DADOS"
      ],
      "metadata": {
        "id": "6JLn4d8W_xiO"
      }
    },
    {
      "cell_type": "code",
      "source": [
        "df.head(2)"
      ],
      "metadata": {
        "colab": {
          "base_uri": "https://localhost:8080/",
          "height": 191
        },
        "id": "afGiiTQ-5Oq7",
        "outputId": "47065cc3-3485-4e44-ee93-ade0e5230917"
      },
      "execution_count": 28,
      "outputs": [
        {
          "output_type": "execute_result",
          "data": {
            "text/plain": [
              "   id_cli           data_da_venda  \\\n",
              "0       0 2015-03-23 21:06:49.506   \n",
              "1       1 2015-08-25 10:01:02.918   \n",
              "\n",
              "                                            carrinho cidade_loja  \\\n",
              "0  [{'name': 'printer paper', 'tags': ['office', ...      Denver   \n",
              "1  [{'name': 'envelopes', 'tags': ['stationary', ...     Seattle   \n",
              "\n",
              "                                             cliente  usou_cupom forma_compra  \\\n",
              "0  {'gender': 'M', 'age': 42, 'email': 'cauho@wit...        True       Online   \n",
              "1  {'gender': 'M', 'age': 50, 'email': 'keecade@h...       False        Phone   \n",
              "\n",
              "  sexo  idade             email satisfacao  \n",
              "0    M     42  cauho@witwuta.sv          4  \n",
              "1    M     50    keecade@hem.uy          5  "
            ],
            "text/html": [
              "\n",
              "  <div id=\"df-df391983-af75-4796-8267-76c1aa994b90\">\n",
              "    <div class=\"colab-df-container\">\n",
              "      <div>\n",
              "<style scoped>\n",
              "    .dataframe tbody tr th:only-of-type {\n",
              "        vertical-align: middle;\n",
              "    }\n",
              "\n",
              "    .dataframe tbody tr th {\n",
              "        vertical-align: top;\n",
              "    }\n",
              "\n",
              "    .dataframe thead th {\n",
              "        text-align: right;\n",
              "    }\n",
              "</style>\n",
              "<table border=\"1\" class=\"dataframe\">\n",
              "  <thead>\n",
              "    <tr style=\"text-align: right;\">\n",
              "      <th></th>\n",
              "      <th>id_cli</th>\n",
              "      <th>data_da_venda</th>\n",
              "      <th>carrinho</th>\n",
              "      <th>cidade_loja</th>\n",
              "      <th>cliente</th>\n",
              "      <th>usou_cupom</th>\n",
              "      <th>forma_compra</th>\n",
              "      <th>sexo</th>\n",
              "      <th>idade</th>\n",
              "      <th>email</th>\n",
              "      <th>satisfacao</th>\n",
              "    </tr>\n",
              "  </thead>\n",
              "  <tbody>\n",
              "    <tr>\n",
              "      <th>0</th>\n",
              "      <td>0</td>\n",
              "      <td>2015-03-23 21:06:49.506</td>\n",
              "      <td>[{'name': 'printer paper', 'tags': ['office', ...</td>\n",
              "      <td>Denver</td>\n",
              "      <td>{'gender': 'M', 'age': 42, 'email': 'cauho@wit...</td>\n",
              "      <td>True</td>\n",
              "      <td>Online</td>\n",
              "      <td>M</td>\n",
              "      <td>42</td>\n",
              "      <td>cauho@witwuta.sv</td>\n",
              "      <td>4</td>\n",
              "    </tr>\n",
              "    <tr>\n",
              "      <th>1</th>\n",
              "      <td>1</td>\n",
              "      <td>2015-08-25 10:01:02.918</td>\n",
              "      <td>[{'name': 'envelopes', 'tags': ['stationary', ...</td>\n",
              "      <td>Seattle</td>\n",
              "      <td>{'gender': 'M', 'age': 50, 'email': 'keecade@h...</td>\n",
              "      <td>False</td>\n",
              "      <td>Phone</td>\n",
              "      <td>M</td>\n",
              "      <td>50</td>\n",
              "      <td>keecade@hem.uy</td>\n",
              "      <td>5</td>\n",
              "    </tr>\n",
              "  </tbody>\n",
              "</table>\n",
              "</div>\n",
              "      <button class=\"colab-df-convert\" onclick=\"convertToInteractive('df-df391983-af75-4796-8267-76c1aa994b90')\"\n",
              "              title=\"Convert this dataframe to an interactive table.\"\n",
              "              style=\"display:none;\">\n",
              "        \n",
              "  <svg xmlns=\"http://www.w3.org/2000/svg\" height=\"24px\"viewBox=\"0 0 24 24\"\n",
              "       width=\"24px\">\n",
              "    <path d=\"M0 0h24v24H0V0z\" fill=\"none\"/>\n",
              "    <path d=\"M18.56 5.44l.94 2.06.94-2.06 2.06-.94-2.06-.94-.94-2.06-.94 2.06-2.06.94zm-11 1L8.5 8.5l.94-2.06 2.06-.94-2.06-.94L8.5 2.5l-.94 2.06-2.06.94zm10 10l.94 2.06.94-2.06 2.06-.94-2.06-.94-.94-2.06-.94 2.06-2.06.94z\"/><path d=\"M17.41 7.96l-1.37-1.37c-.4-.4-.92-.59-1.43-.59-.52 0-1.04.2-1.43.59L10.3 9.45l-7.72 7.72c-.78.78-.78 2.05 0 2.83L4 21.41c.39.39.9.59 1.41.59.51 0 1.02-.2 1.41-.59l7.78-7.78 2.81-2.81c.8-.78.8-2.07 0-2.86zM5.41 20L4 18.59l7.72-7.72 1.47 1.35L5.41 20z\"/>\n",
              "  </svg>\n",
              "      </button>\n",
              "      \n",
              "  <style>\n",
              "    .colab-df-container {\n",
              "      display:flex;\n",
              "      flex-wrap:wrap;\n",
              "      gap: 12px;\n",
              "    }\n",
              "\n",
              "    .colab-df-convert {\n",
              "      background-color: #E8F0FE;\n",
              "      border: none;\n",
              "      border-radius: 50%;\n",
              "      cursor: pointer;\n",
              "      display: none;\n",
              "      fill: #1967D2;\n",
              "      height: 32px;\n",
              "      padding: 0 0 0 0;\n",
              "      width: 32px;\n",
              "    }\n",
              "\n",
              "    .colab-df-convert:hover {\n",
              "      background-color: #E2EBFA;\n",
              "      box-shadow: 0px 1px 2px rgba(60, 64, 67, 0.3), 0px 1px 3px 1px rgba(60, 64, 67, 0.15);\n",
              "      fill: #174EA6;\n",
              "    }\n",
              "\n",
              "    [theme=dark] .colab-df-convert {\n",
              "      background-color: #3B4455;\n",
              "      fill: #D2E3FC;\n",
              "    }\n",
              "\n",
              "    [theme=dark] .colab-df-convert:hover {\n",
              "      background-color: #434B5C;\n",
              "      box-shadow: 0px 1px 3px 1px rgba(0, 0, 0, 0.15);\n",
              "      filter: drop-shadow(0px 1px 2px rgba(0, 0, 0, 0.3));\n",
              "      fill: #FFFFFF;\n",
              "    }\n",
              "  </style>\n",
              "\n",
              "      <script>\n",
              "        const buttonEl =\n",
              "          document.querySelector('#df-df391983-af75-4796-8267-76c1aa994b90 button.colab-df-convert');\n",
              "        buttonEl.style.display =\n",
              "          google.colab.kernel.accessAllowed ? 'block' : 'none';\n",
              "\n",
              "        async function convertToInteractive(key) {\n",
              "          const element = document.querySelector('#df-df391983-af75-4796-8267-76c1aa994b90');\n",
              "          const dataTable =\n",
              "            await google.colab.kernel.invokeFunction('convertToInteractive',\n",
              "                                                     [key], {});\n",
              "          if (!dataTable) return;\n",
              "\n",
              "          const docLinkHtml = 'Like what you see? Visit the ' +\n",
              "            '<a target=\"_blank\" href=https://colab.research.google.com/notebooks/data_table.ipynb>data table notebook</a>'\n",
              "            + ' to learn more about interactive tables.';\n",
              "          element.innerHTML = '';\n",
              "          dataTable['output_type'] = 'display_data';\n",
              "          await google.colab.output.renderOutput(dataTable, element);\n",
              "          const docLink = document.createElement('div');\n",
              "          docLink.innerHTML = docLinkHtml;\n",
              "          element.appendChild(docLink);\n",
              "        }\n",
              "      </script>\n",
              "    </div>\n",
              "  </div>\n",
              "  "
            ]
          },
          "metadata": {},
          "execution_count": 28
        }
      ]
    },
    {
      "cell_type": "markdown",
      "source": [
        "## Drop de coluna do ID do documento do MongoDB"
      ],
      "metadata": {
        "id": "WZCpSpfS_6hc"
      }
    },
    {
      "cell_type": "code",
      "source": [
        "df.drop('_id', axis=1, inplace=True)"
      ],
      "metadata": {
        "id": "vblFXPp7zETh"
      },
      "execution_count": 6,
      "outputs": []
    },
    {
      "cell_type": "markdown",
      "source": [
        "## Percorrer a coluna customer e separar os dados em outras colunas"
      ],
      "metadata": {
        "id": "42cxOJSmAXJK"
      }
    },
    {
      "cell_type": "code",
      "source": [
        "age = []\n",
        "email = []\n",
        "sat = []\n",
        "gen = []\n",
        "\n",
        "for i in range(len(df)):\n",
        "  gen.append(str(df.customer[i]['gender']))\n",
        "  age.append(int(df.customer[i]['age']))\n",
        "  email.append(str(df.customer[i]['email']))\n",
        "  sat.append(str(df.customer[i]['satisfaction']))\n",
        "\n",
        "df['sexo'] = gen\n",
        "df['idade'] = age\n",
        "df['email'] = email\n",
        "df['satisfacao'] = sat"
      ],
      "metadata": {
        "id": "j61e0IiG59yW"
      },
      "execution_count": 8,
      "outputs": []
    },
    {
      "cell_type": "markdown",
      "source": [
        "## Renomeação das colunas para português"
      ],
      "metadata": {
        "id": "Z0XjvhwIAptO"
      }
    },
    {
      "cell_type": "code",
      "source": [
        "df.rename(columns={'saleDate':'data_da_venda','items':'carrinho','storeLocation':'cidade_loja','customer':'cliente','couponUsed':'usou_cupom',\n",
        "                   'purchaseMethod':'forma_compra'},inplace=True)"
      ],
      "metadata": {
        "id": "wXlz3pdb8Nju"
      },
      "execution_count": 9,
      "outputs": []
    },
    {
      "cell_type": "code",
      "source": [
        "df.dtypes"
      ],
      "metadata": {
        "colab": {
          "base_uri": "https://localhost:8080/"
        },
        "id": "DAlVXH4wy9eO",
        "outputId": "6c3445e3-cbf9-42ed-9daa-7c08d9446bf5"
      },
      "execution_count": 38,
      "outputs": [
        {
          "output_type": "execute_result",
          "data": {
            "text/plain": [
              "id_cli                    int64\n",
              "data_da_venda    datetime64[ns]\n",
              "carrinho                 object\n",
              "cidade_loja              object\n",
              "cliente                  object\n",
              "usou_cupom                 bool\n",
              "forma_compra             object\n",
              "sexo                     object\n",
              "idade                     int64\n",
              "email                    object\n",
              "satisfacao               object\n",
              "dtype: object"
            ]
          },
          "metadata": {},
          "execution_count": 38
        }
      ]
    },
    {
      "cell_type": "markdown",
      "source": [
        "## Inserindo uma coluna de ID de cliente, depois atribuindo valores e por fim tornando-os do tipo inteiro."
      ],
      "metadata": {
        "id": "c_NQ59bbs5F2"
      }
    },
    {
      "cell_type": "code",
      "source": [
        "df.insert(0,'id_cli',np.nan)"
      ],
      "metadata": {
        "id": "mMm-ybU-AbxM"
      },
      "execution_count": 10,
      "outputs": []
    },
    {
      "cell_type": "code",
      "source": [
        "for i in range(len(df)):\n",
        "  df['id_cli'][i]= i"
      ],
      "metadata": {
        "id": "glGx68vf-j_W",
        "colab": {
          "base_uri": "https://localhost:8080/"
        },
        "outputId": "9841368f-f464-4356-b082-3210084285f6"
      },
      "execution_count": 11,
      "outputs": [
        {
          "output_type": "stream",
          "name": "stderr",
          "text": [
            "<ipython-input-11-a62897187e97>:2: SettingWithCopyWarning: \n",
            "A value is trying to be set on a copy of a slice from a DataFrame\n",
            "\n",
            "See the caveats in the documentation: https://pandas.pydata.org/pandas-docs/stable/user_guide/indexing.html#returning-a-view-versus-a-copy\n",
            "  df['id_cli'][i]= i\n"
          ]
        }
      ]
    },
    {
      "cell_type": "code",
      "source": [
        "df.id_cli = df.id_cli.astype('int')"
      ],
      "metadata": {
        "id": "XorBfTdcDTuO"
      },
      "execution_count": 12,
      "outputs": []
    },
    {
      "cell_type": "markdown",
      "source": [
        "## Verificação de dados faltantes"
      ],
      "metadata": {
        "id": "JJJ7DeZbtC-S"
      }
    },
    {
      "cell_type": "code",
      "source": [
        "df.isna().sum()"
      ],
      "metadata": {
        "colab": {
          "base_uri": "https://localhost:8080/"
        },
        "id": "2ypFFDT-z4LJ",
        "outputId": "46305ed1-b0c4-41bf-e8f9-69f441ad75dd"
      },
      "execution_count": null,
      "outputs": [
        {
          "output_type": "execute_result",
          "data": {
            "text/plain": [
              "data_da_venda    0\n",
              "carrinho         0\n",
              "cidade_loja      0\n",
              "cliente          0\n",
              "usou_cupom       0\n",
              "forma_compra     0\n",
              "sexo             0\n",
              "idade            0\n",
              "email            0\n",
              "satisfacao       0\n",
              "dtype: int64"
            ]
          },
          "metadata": {},
          "execution_count": 65
        }
      ]
    },
    {
      "cell_type": "markdown",
      "source": [
        "## Checagem de todas as colunas para observar possíveis inconsistências"
      ],
      "metadata": {
        "id": "xKMukSDBtIMo"
      }
    },
    {
      "cell_type": "code",
      "source": [
        "# checando os valores das colunas\n",
        "df.groupby(['email']).size().sort_values(ascending=False)"
      ],
      "metadata": {
        "id": "MroWBeOTi1Uc",
        "colab": {
          "base_uri": "https://localhost:8080/"
        },
        "outputId": "d806b2a7-dc75-4834-863f-fbcee3f7e9d8"
      },
      "execution_count": 13,
      "outputs": [
        {
          "output_type": "execute_result",
          "data": {
            "text/plain": [
              "email\n",
              "ab@bitropot.bg       1\n",
              "paujzi@fihuglu.sa    1\n",
              "pe@ce.cz             1\n",
              "pe@cawsenmo.aw       1\n",
              "pe@bo.gn             1\n",
              "                    ..\n",
              "ho@hi.va             1\n",
              "ho@en.vu             1\n",
              "ho@ekjiknev.gov      1\n",
              "ho@dikajvo.mk        1\n",
              "zuzlavveb@ted.gp     1\n",
              "Length: 5000, dtype: int64"
            ]
          },
          "metadata": {},
          "execution_count": 13
        }
      ]
    },
    {
      "cell_type": "markdown",
      "source": [
        "## Criação de outro Dataframe somente com as informações das compras e com ID do cliente"
      ],
      "metadata": {
        "id": "ZTPAx5zDtTyK"
      }
    },
    {
      "cell_type": "code",
      "source": [
        "df2 = pd.DataFrame()\n",
        "df2.insert(0,'id_compra',np.nan)\n",
        "df2.insert(1,'id_cli',np.nan)\n",
        "df2.insert(2,'nome_prod',np.nan)\n",
        "df2.insert(3,'qtd',np.nan)\n",
        "df2.insert(4,'preco',np.nan)\n",
        "df2.insert(5,'tags',np.nan)"
      ],
      "metadata": {
        "id": "TqKoZhA6ksGe"
      },
      "execution_count": 23,
      "outputs": []
    },
    {
      "cell_type": "code",
      "source": [
        "idcli = []\n",
        "nomeprod =[]\n",
        "preco = []\n",
        "qtd=[]\n",
        "tag=[]\n",
        "idcompra = []\n",
        "cont = 0\n",
        "\n",
        "for i in range(len(df)):\n",
        "  for c in range(len(df.carrinho[i])):\n",
        "    idcompra.append(cont)\n",
        "    idcli.append(i)\n",
        "    nomeprod.append(df.carrinho[i][c]['name'])\n",
        "    preco.append(df.carrinho[i][c]['price'])\n",
        "    qtd.append(df.carrinho[i][c]['quantity'])\n",
        "    tag.append((str(df.carrinho[i][c]['tags'])))\n",
        "    cont += 1\n",
        "\n",
        "df2['id_compra'] = idcompra\n",
        "df2['id_cli'] = idcli\n",
        "df2['nome_prod'] = nomeprod\n",
        "df2['preco'] = preco\n",
        "df2['qtd'] = qtd\n",
        "df2['tags'] = tag"
      ],
      "metadata": {
        "id": "sKwfFFQypgyv"
      },
      "execution_count": 24,
      "outputs": []
    },
    {
      "cell_type": "markdown",
      "source": [
        "## Últimos ajustes no primeiro Dataframe\n"
      ],
      "metadata": {
        "id": "aRL_AhX0um92"
      }
    },
    {
      "cell_type": "code",
      "source": [
        "df.drop(columns=['carrinho','cliente'],inplace=True)"
      ],
      "metadata": {
        "id": "1GagJczWuta1"
      },
      "execution_count": 30,
      "outputs": []
    },
    {
      "cell_type": "code",
      "source": [
        "df"
      ],
      "metadata": {
        "colab": {
          "base_uri": "https://localhost:8080/",
          "height": 424
        },
        "id": "ER5brtXdve6Q",
        "outputId": "f5de34b6-6041-4c01-9397-ca836a29efba"
      },
      "execution_count": 31,
      "outputs": [
        {
          "output_type": "execute_result",
          "data": {
            "text/plain": [
              "      id_cli           data_da_venda cidade_loja  usou_cupom forma_compra  \\\n",
              "0          0 2015-03-23 21:06:49.506      Denver        True       Online   \n",
              "1          1 2015-08-25 10:01:02.918     Seattle       False        Phone   \n",
              "2          2 2017-06-22 09:54:14.185      Denver       False     In store   \n",
              "3          3 2015-02-23 09:53:59.343     Seattle       False     In store   \n",
              "4          4 2017-12-03 18:39:48.253      London       False     In store   \n",
              "...      ...                     ...         ...         ...          ...   \n",
              "4995    4995 2016-01-20 17:29:10.225      Austin       False     In store   \n",
              "4996    4996 2014-11-29 10:09:41.573      Denver       False     In store   \n",
              "4997    4997 2017-12-25 07:02:51.283      Denver       False     In store   \n",
              "4998    4998 2013-12-07 11:06:25.510      Denver       False       Online   \n",
              "4999    4999 2014-08-18 06:25:49.739    New York       False       Online   \n",
              "\n",
              "     sexo  idade                 email satisfacao  \n",
              "0       M     42      cauho@witwuta.sv          4  \n",
              "1       M     50        keecade@hem.uy          5  \n",
              "2       M     51     worbiduh@vowbu.cg          5  \n",
              "3       F     45         vatires@ta.pe          3  \n",
              "4       M     40           dotzu@ib.sh          4  \n",
              "...   ...    ...                   ...        ...  \n",
              "4995    F     45             du@rum.py          3  \n",
              "4996    F     47      dup@katjewtep.hr          3  \n",
              "4997    M     29  losuhse@eronehjod.np          4  \n",
              "4998    M     59         hu@pehabur.gd          4  \n",
              "4999    M     33    lihzodud@voblep.ie          3  \n",
              "\n",
              "[5000 rows x 9 columns]"
            ],
            "text/html": [
              "\n",
              "  <div id=\"df-02160da8-4b06-4333-ac35-b3b2ea370d76\">\n",
              "    <div class=\"colab-df-container\">\n",
              "      <div>\n",
              "<style scoped>\n",
              "    .dataframe tbody tr th:only-of-type {\n",
              "        vertical-align: middle;\n",
              "    }\n",
              "\n",
              "    .dataframe tbody tr th {\n",
              "        vertical-align: top;\n",
              "    }\n",
              "\n",
              "    .dataframe thead th {\n",
              "        text-align: right;\n",
              "    }\n",
              "</style>\n",
              "<table border=\"1\" class=\"dataframe\">\n",
              "  <thead>\n",
              "    <tr style=\"text-align: right;\">\n",
              "      <th></th>\n",
              "      <th>id_cli</th>\n",
              "      <th>data_da_venda</th>\n",
              "      <th>cidade_loja</th>\n",
              "      <th>usou_cupom</th>\n",
              "      <th>forma_compra</th>\n",
              "      <th>sexo</th>\n",
              "      <th>idade</th>\n",
              "      <th>email</th>\n",
              "      <th>satisfacao</th>\n",
              "    </tr>\n",
              "  </thead>\n",
              "  <tbody>\n",
              "    <tr>\n",
              "      <th>0</th>\n",
              "      <td>0</td>\n",
              "      <td>2015-03-23 21:06:49.506</td>\n",
              "      <td>Denver</td>\n",
              "      <td>True</td>\n",
              "      <td>Online</td>\n",
              "      <td>M</td>\n",
              "      <td>42</td>\n",
              "      <td>cauho@witwuta.sv</td>\n",
              "      <td>4</td>\n",
              "    </tr>\n",
              "    <tr>\n",
              "      <th>1</th>\n",
              "      <td>1</td>\n",
              "      <td>2015-08-25 10:01:02.918</td>\n",
              "      <td>Seattle</td>\n",
              "      <td>False</td>\n",
              "      <td>Phone</td>\n",
              "      <td>M</td>\n",
              "      <td>50</td>\n",
              "      <td>keecade@hem.uy</td>\n",
              "      <td>5</td>\n",
              "    </tr>\n",
              "    <tr>\n",
              "      <th>2</th>\n",
              "      <td>2</td>\n",
              "      <td>2017-06-22 09:54:14.185</td>\n",
              "      <td>Denver</td>\n",
              "      <td>False</td>\n",
              "      <td>In store</td>\n",
              "      <td>M</td>\n",
              "      <td>51</td>\n",
              "      <td>worbiduh@vowbu.cg</td>\n",
              "      <td>5</td>\n",
              "    </tr>\n",
              "    <tr>\n",
              "      <th>3</th>\n",
              "      <td>3</td>\n",
              "      <td>2015-02-23 09:53:59.343</td>\n",
              "      <td>Seattle</td>\n",
              "      <td>False</td>\n",
              "      <td>In store</td>\n",
              "      <td>F</td>\n",
              "      <td>45</td>\n",
              "      <td>vatires@ta.pe</td>\n",
              "      <td>3</td>\n",
              "    </tr>\n",
              "    <tr>\n",
              "      <th>4</th>\n",
              "      <td>4</td>\n",
              "      <td>2017-12-03 18:39:48.253</td>\n",
              "      <td>London</td>\n",
              "      <td>False</td>\n",
              "      <td>In store</td>\n",
              "      <td>M</td>\n",
              "      <td>40</td>\n",
              "      <td>dotzu@ib.sh</td>\n",
              "      <td>4</td>\n",
              "    </tr>\n",
              "    <tr>\n",
              "      <th>...</th>\n",
              "      <td>...</td>\n",
              "      <td>...</td>\n",
              "      <td>...</td>\n",
              "      <td>...</td>\n",
              "      <td>...</td>\n",
              "      <td>...</td>\n",
              "      <td>...</td>\n",
              "      <td>...</td>\n",
              "      <td>...</td>\n",
              "    </tr>\n",
              "    <tr>\n",
              "      <th>4995</th>\n",
              "      <td>4995</td>\n",
              "      <td>2016-01-20 17:29:10.225</td>\n",
              "      <td>Austin</td>\n",
              "      <td>False</td>\n",
              "      <td>In store</td>\n",
              "      <td>F</td>\n",
              "      <td>45</td>\n",
              "      <td>du@rum.py</td>\n",
              "      <td>3</td>\n",
              "    </tr>\n",
              "    <tr>\n",
              "      <th>4996</th>\n",
              "      <td>4996</td>\n",
              "      <td>2014-11-29 10:09:41.573</td>\n",
              "      <td>Denver</td>\n",
              "      <td>False</td>\n",
              "      <td>In store</td>\n",
              "      <td>F</td>\n",
              "      <td>47</td>\n",
              "      <td>dup@katjewtep.hr</td>\n",
              "      <td>3</td>\n",
              "    </tr>\n",
              "    <tr>\n",
              "      <th>4997</th>\n",
              "      <td>4997</td>\n",
              "      <td>2017-12-25 07:02:51.283</td>\n",
              "      <td>Denver</td>\n",
              "      <td>False</td>\n",
              "      <td>In store</td>\n",
              "      <td>M</td>\n",
              "      <td>29</td>\n",
              "      <td>losuhse@eronehjod.np</td>\n",
              "      <td>4</td>\n",
              "    </tr>\n",
              "    <tr>\n",
              "      <th>4998</th>\n",
              "      <td>4998</td>\n",
              "      <td>2013-12-07 11:06:25.510</td>\n",
              "      <td>Denver</td>\n",
              "      <td>False</td>\n",
              "      <td>Online</td>\n",
              "      <td>M</td>\n",
              "      <td>59</td>\n",
              "      <td>hu@pehabur.gd</td>\n",
              "      <td>4</td>\n",
              "    </tr>\n",
              "    <tr>\n",
              "      <th>4999</th>\n",
              "      <td>4999</td>\n",
              "      <td>2014-08-18 06:25:49.739</td>\n",
              "      <td>New York</td>\n",
              "      <td>False</td>\n",
              "      <td>Online</td>\n",
              "      <td>M</td>\n",
              "      <td>33</td>\n",
              "      <td>lihzodud@voblep.ie</td>\n",
              "      <td>3</td>\n",
              "    </tr>\n",
              "  </tbody>\n",
              "</table>\n",
              "<p>5000 rows × 9 columns</p>\n",
              "</div>\n",
              "      <button class=\"colab-df-convert\" onclick=\"convertToInteractive('df-02160da8-4b06-4333-ac35-b3b2ea370d76')\"\n",
              "              title=\"Convert this dataframe to an interactive table.\"\n",
              "              style=\"display:none;\">\n",
              "        \n",
              "  <svg xmlns=\"http://www.w3.org/2000/svg\" height=\"24px\"viewBox=\"0 0 24 24\"\n",
              "       width=\"24px\">\n",
              "    <path d=\"M0 0h24v24H0V0z\" fill=\"none\"/>\n",
              "    <path d=\"M18.56 5.44l.94 2.06.94-2.06 2.06-.94-2.06-.94-.94-2.06-.94 2.06-2.06.94zm-11 1L8.5 8.5l.94-2.06 2.06-.94-2.06-.94L8.5 2.5l-.94 2.06-2.06.94zm10 10l.94 2.06.94-2.06 2.06-.94-2.06-.94-.94-2.06-.94 2.06-2.06.94z\"/><path d=\"M17.41 7.96l-1.37-1.37c-.4-.4-.92-.59-1.43-.59-.52 0-1.04.2-1.43.59L10.3 9.45l-7.72 7.72c-.78.78-.78 2.05 0 2.83L4 21.41c.39.39.9.59 1.41.59.51 0 1.02-.2 1.41-.59l7.78-7.78 2.81-2.81c.8-.78.8-2.07 0-2.86zM5.41 20L4 18.59l7.72-7.72 1.47 1.35L5.41 20z\"/>\n",
              "  </svg>\n",
              "      </button>\n",
              "      \n",
              "  <style>\n",
              "    .colab-df-container {\n",
              "      display:flex;\n",
              "      flex-wrap:wrap;\n",
              "      gap: 12px;\n",
              "    }\n",
              "\n",
              "    .colab-df-convert {\n",
              "      background-color: #E8F0FE;\n",
              "      border: none;\n",
              "      border-radius: 50%;\n",
              "      cursor: pointer;\n",
              "      display: none;\n",
              "      fill: #1967D2;\n",
              "      height: 32px;\n",
              "      padding: 0 0 0 0;\n",
              "      width: 32px;\n",
              "    }\n",
              "\n",
              "    .colab-df-convert:hover {\n",
              "      background-color: #E2EBFA;\n",
              "      box-shadow: 0px 1px 2px rgba(60, 64, 67, 0.3), 0px 1px 3px 1px rgba(60, 64, 67, 0.15);\n",
              "      fill: #174EA6;\n",
              "    }\n",
              "\n",
              "    [theme=dark] .colab-df-convert {\n",
              "      background-color: #3B4455;\n",
              "      fill: #D2E3FC;\n",
              "    }\n",
              "\n",
              "    [theme=dark] .colab-df-convert:hover {\n",
              "      background-color: #434B5C;\n",
              "      box-shadow: 0px 1px 3px 1px rgba(0, 0, 0, 0.15);\n",
              "      filter: drop-shadow(0px 1px 2px rgba(0, 0, 0, 0.3));\n",
              "      fill: #FFFFFF;\n",
              "    }\n",
              "  </style>\n",
              "\n",
              "      <script>\n",
              "        const buttonEl =\n",
              "          document.querySelector('#df-02160da8-4b06-4333-ac35-b3b2ea370d76 button.colab-df-convert');\n",
              "        buttonEl.style.display =\n",
              "          google.colab.kernel.accessAllowed ? 'block' : 'none';\n",
              "\n",
              "        async function convertToInteractive(key) {\n",
              "          const element = document.querySelector('#df-02160da8-4b06-4333-ac35-b3b2ea370d76');\n",
              "          const dataTable =\n",
              "            await google.colab.kernel.invokeFunction('convertToInteractive',\n",
              "                                                     [key], {});\n",
              "          if (!dataTable) return;\n",
              "\n",
              "          const docLinkHtml = 'Like what you see? Visit the ' +\n",
              "            '<a target=\"_blank\" href=https://colab.research.google.com/notebooks/data_table.ipynb>data table notebook</a>'\n",
              "            + ' to learn more about interactive tables.';\n",
              "          element.innerHTML = '';\n",
              "          dataTable['output_type'] = 'display_data';\n",
              "          await google.colab.output.renderOutput(dataTable, element);\n",
              "          const docLink = document.createElement('div');\n",
              "          docLink.innerHTML = docLinkHtml;\n",
              "          element.appendChild(docLink);\n",
              "        }\n",
              "      </script>\n",
              "    </div>\n",
              "  </div>\n",
              "  "
            ]
          },
          "metadata": {},
          "execution_count": 31
        }
      ]
    },
    {
      "cell_type": "code",
      "source": [
        "df2"
      ],
      "metadata": {
        "colab": {
          "base_uri": "https://localhost:8080/",
          "height": 424
        },
        "id": "cTzVkEpkrDIP",
        "outputId": "078efe29-09b5-4743-a4ea-20b0ed3155bf"
      },
      "execution_count": 25,
      "outputs": [
        {
          "output_type": "execute_result",
          "data": {
            "text/plain": [
              "       id_compra  id_cli      nome_prod  qtd   preco  \\\n",
              "0              0       0  printer paper    2   40.01   \n",
              "1              1       0        notepad    2   35.29   \n",
              "2              2       0           pens    5   56.12   \n",
              "3              3       0       backpack    2   77.71   \n",
              "4              4       0        notepad    2   18.47   \n",
              "...          ...     ...            ...  ...     ...   \n",
              "27433      27433    4999      envelopes    5   24.12   \n",
              "27434      27434    4999           pens    4    27.1   \n",
              "27435      27435    4999         binder    3   29.09   \n",
              "27436      27436    4999         laptop    2  598.79   \n",
              "27437      27437    4999       backpack    3    70.9   \n",
              "\n",
              "                                                tags  \n",
              "0                           ['office', 'stationary']  \n",
              "1                    ['office', 'writing', 'school']  \n",
              "2      ['writing', 'office', 'school', 'stationary']  \n",
              "3                       ['school', 'travel', 'kids']  \n",
              "4                    ['office', 'writing', 'school']  \n",
              "...                                              ...  \n",
              "27433            ['stationary', 'office', 'general']  \n",
              "27434  ['writing', 'office', 'school', 'stationary']  \n",
              "27435          ['school', 'general', 'organization']  \n",
              "27436            ['electronics', 'school', 'office']  \n",
              "27437                   ['school', 'travel', 'kids']  \n",
              "\n",
              "[27438 rows x 6 columns]"
            ],
            "text/html": [
              "\n",
              "  <div id=\"df-4d3e07c0-92a3-42f2-88c9-4b711d35ebd7\">\n",
              "    <div class=\"colab-df-container\">\n",
              "      <div>\n",
              "<style scoped>\n",
              "    .dataframe tbody tr th:only-of-type {\n",
              "        vertical-align: middle;\n",
              "    }\n",
              "\n",
              "    .dataframe tbody tr th {\n",
              "        vertical-align: top;\n",
              "    }\n",
              "\n",
              "    .dataframe thead th {\n",
              "        text-align: right;\n",
              "    }\n",
              "</style>\n",
              "<table border=\"1\" class=\"dataframe\">\n",
              "  <thead>\n",
              "    <tr style=\"text-align: right;\">\n",
              "      <th></th>\n",
              "      <th>id_compra</th>\n",
              "      <th>id_cli</th>\n",
              "      <th>nome_prod</th>\n",
              "      <th>qtd</th>\n",
              "      <th>preco</th>\n",
              "      <th>tags</th>\n",
              "    </tr>\n",
              "  </thead>\n",
              "  <tbody>\n",
              "    <tr>\n",
              "      <th>0</th>\n",
              "      <td>0</td>\n",
              "      <td>0</td>\n",
              "      <td>printer paper</td>\n",
              "      <td>2</td>\n",
              "      <td>40.01</td>\n",
              "      <td>['office', 'stationary']</td>\n",
              "    </tr>\n",
              "    <tr>\n",
              "      <th>1</th>\n",
              "      <td>1</td>\n",
              "      <td>0</td>\n",
              "      <td>notepad</td>\n",
              "      <td>2</td>\n",
              "      <td>35.29</td>\n",
              "      <td>['office', 'writing', 'school']</td>\n",
              "    </tr>\n",
              "    <tr>\n",
              "      <th>2</th>\n",
              "      <td>2</td>\n",
              "      <td>0</td>\n",
              "      <td>pens</td>\n",
              "      <td>5</td>\n",
              "      <td>56.12</td>\n",
              "      <td>['writing', 'office', 'school', 'stationary']</td>\n",
              "    </tr>\n",
              "    <tr>\n",
              "      <th>3</th>\n",
              "      <td>3</td>\n",
              "      <td>0</td>\n",
              "      <td>backpack</td>\n",
              "      <td>2</td>\n",
              "      <td>77.71</td>\n",
              "      <td>['school', 'travel', 'kids']</td>\n",
              "    </tr>\n",
              "    <tr>\n",
              "      <th>4</th>\n",
              "      <td>4</td>\n",
              "      <td>0</td>\n",
              "      <td>notepad</td>\n",
              "      <td>2</td>\n",
              "      <td>18.47</td>\n",
              "      <td>['office', 'writing', 'school']</td>\n",
              "    </tr>\n",
              "    <tr>\n",
              "      <th>...</th>\n",
              "      <td>...</td>\n",
              "      <td>...</td>\n",
              "      <td>...</td>\n",
              "      <td>...</td>\n",
              "      <td>...</td>\n",
              "      <td>...</td>\n",
              "    </tr>\n",
              "    <tr>\n",
              "      <th>27433</th>\n",
              "      <td>27433</td>\n",
              "      <td>4999</td>\n",
              "      <td>envelopes</td>\n",
              "      <td>5</td>\n",
              "      <td>24.12</td>\n",
              "      <td>['stationary', 'office', 'general']</td>\n",
              "    </tr>\n",
              "    <tr>\n",
              "      <th>27434</th>\n",
              "      <td>27434</td>\n",
              "      <td>4999</td>\n",
              "      <td>pens</td>\n",
              "      <td>4</td>\n",
              "      <td>27.1</td>\n",
              "      <td>['writing', 'office', 'school', 'stationary']</td>\n",
              "    </tr>\n",
              "    <tr>\n",
              "      <th>27435</th>\n",
              "      <td>27435</td>\n",
              "      <td>4999</td>\n",
              "      <td>binder</td>\n",
              "      <td>3</td>\n",
              "      <td>29.09</td>\n",
              "      <td>['school', 'general', 'organization']</td>\n",
              "    </tr>\n",
              "    <tr>\n",
              "      <th>27436</th>\n",
              "      <td>27436</td>\n",
              "      <td>4999</td>\n",
              "      <td>laptop</td>\n",
              "      <td>2</td>\n",
              "      <td>598.79</td>\n",
              "      <td>['electronics', 'school', 'office']</td>\n",
              "    </tr>\n",
              "    <tr>\n",
              "      <th>27437</th>\n",
              "      <td>27437</td>\n",
              "      <td>4999</td>\n",
              "      <td>backpack</td>\n",
              "      <td>3</td>\n",
              "      <td>70.9</td>\n",
              "      <td>['school', 'travel', 'kids']</td>\n",
              "    </tr>\n",
              "  </tbody>\n",
              "</table>\n",
              "<p>27438 rows × 6 columns</p>\n",
              "</div>\n",
              "      <button class=\"colab-df-convert\" onclick=\"convertToInteractive('df-4d3e07c0-92a3-42f2-88c9-4b711d35ebd7')\"\n",
              "              title=\"Convert this dataframe to an interactive table.\"\n",
              "              style=\"display:none;\">\n",
              "        \n",
              "  <svg xmlns=\"http://www.w3.org/2000/svg\" height=\"24px\"viewBox=\"0 0 24 24\"\n",
              "       width=\"24px\">\n",
              "    <path d=\"M0 0h24v24H0V0z\" fill=\"none\"/>\n",
              "    <path d=\"M18.56 5.44l.94 2.06.94-2.06 2.06-.94-2.06-.94-.94-2.06-.94 2.06-2.06.94zm-11 1L8.5 8.5l.94-2.06 2.06-.94-2.06-.94L8.5 2.5l-.94 2.06-2.06.94zm10 10l.94 2.06.94-2.06 2.06-.94-2.06-.94-.94-2.06-.94 2.06-2.06.94z\"/><path d=\"M17.41 7.96l-1.37-1.37c-.4-.4-.92-.59-1.43-.59-.52 0-1.04.2-1.43.59L10.3 9.45l-7.72 7.72c-.78.78-.78 2.05 0 2.83L4 21.41c.39.39.9.59 1.41.59.51 0 1.02-.2 1.41-.59l7.78-7.78 2.81-2.81c.8-.78.8-2.07 0-2.86zM5.41 20L4 18.59l7.72-7.72 1.47 1.35L5.41 20z\"/>\n",
              "  </svg>\n",
              "      </button>\n",
              "      \n",
              "  <style>\n",
              "    .colab-df-container {\n",
              "      display:flex;\n",
              "      flex-wrap:wrap;\n",
              "      gap: 12px;\n",
              "    }\n",
              "\n",
              "    .colab-df-convert {\n",
              "      background-color: #E8F0FE;\n",
              "      border: none;\n",
              "      border-radius: 50%;\n",
              "      cursor: pointer;\n",
              "      display: none;\n",
              "      fill: #1967D2;\n",
              "      height: 32px;\n",
              "      padding: 0 0 0 0;\n",
              "      width: 32px;\n",
              "    }\n",
              "\n",
              "    .colab-df-convert:hover {\n",
              "      background-color: #E2EBFA;\n",
              "      box-shadow: 0px 1px 2px rgba(60, 64, 67, 0.3), 0px 1px 3px 1px rgba(60, 64, 67, 0.15);\n",
              "      fill: #174EA6;\n",
              "    }\n",
              "\n",
              "    [theme=dark] .colab-df-convert {\n",
              "      background-color: #3B4455;\n",
              "      fill: #D2E3FC;\n",
              "    }\n",
              "\n",
              "    [theme=dark] .colab-df-convert:hover {\n",
              "      background-color: #434B5C;\n",
              "      box-shadow: 0px 1px 3px 1px rgba(0, 0, 0, 0.15);\n",
              "      filter: drop-shadow(0px 1px 2px rgba(0, 0, 0, 0.3));\n",
              "      fill: #FFFFFF;\n",
              "    }\n",
              "  </style>\n",
              "\n",
              "      <script>\n",
              "        const buttonEl =\n",
              "          document.querySelector('#df-4d3e07c0-92a3-42f2-88c9-4b711d35ebd7 button.colab-df-convert');\n",
              "        buttonEl.style.display =\n",
              "          google.colab.kernel.accessAllowed ? 'block' : 'none';\n",
              "\n",
              "        async function convertToInteractive(key) {\n",
              "          const element = document.querySelector('#df-4d3e07c0-92a3-42f2-88c9-4b711d35ebd7');\n",
              "          const dataTable =\n",
              "            await google.colab.kernel.invokeFunction('convertToInteractive',\n",
              "                                                     [key], {});\n",
              "          if (!dataTable) return;\n",
              "\n",
              "          const docLinkHtml = 'Like what you see? Visit the ' +\n",
              "            '<a target=\"_blank\" href=https://colab.research.google.com/notebooks/data_table.ipynb>data table notebook</a>'\n",
              "            + ' to learn more about interactive tables.';\n",
              "          element.innerHTML = '';\n",
              "          dataTable['output_type'] = 'display_data';\n",
              "          await google.colab.output.renderOutput(dataTable, element);\n",
              "          const docLink = document.createElement('div');\n",
              "          docLink.innerHTML = docLinkHtml;\n",
              "          element.appendChild(docLink);\n",
              "        }\n",
              "      </script>\n",
              "    </div>\n",
              "  </div>\n",
              "  "
            ]
          },
          "metadata": {},
          "execution_count": 25
        }
      ]
    },
    {
      "cell_type": "code",
      "source": [
        "df2.groupby(['tag1']).size().sort_values(ascending=False)"
      ],
      "metadata": {
        "colab": {
          "base_uri": "https://localhost:8080/"
        },
        "id": "sxb_WHxxuHar",
        "outputId": "dae97f70-b971-4c29-a8c9-feab341ee840"
      },
      "execution_count": 22,
      "outputs": [
        {
          "output_type": "execute_result",
          "data": {
            "text/plain": [
              "tag1\n",
              "['office', 'writing', 'school']                  6872\n",
              "['school', 'general', 'organization']            4676\n",
              "['writing', 'office', 'school', 'stationary']    4559\n",
              "['stationary', 'office', 'general']              4505\n",
              "['school', 'travel', 'kids']                     2309\n",
              "['electronics', 'school', 'office']              2271\n",
              "['office', 'stationary']                         2246\n",
              "dtype: int64"
            ]
          },
          "metadata": {},
          "execution_count": 22
        }
      ]
    },
    {
      "cell_type": "code",
      "source": [],
      "metadata": {
        "id": "HabIhzEyv7Hv"
      },
      "execution_count": null,
      "outputs": []
    }
  ]
}